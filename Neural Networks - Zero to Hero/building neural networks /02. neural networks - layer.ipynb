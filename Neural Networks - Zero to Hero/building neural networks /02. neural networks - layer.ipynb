{
  "nbformat": 4,
  "nbformat_minor": 0,
  "metadata": {
    "colab": {
      "provenance": [],
      "authorship_tag": "ABX9TyOJniivI7XNcP7qX0qNfp6/"
    },
    "kernelspec": {
      "name": "python3",
      "display_name": "Python 3"
    },
    "language_info": {
      "name": "python"
    }
  },
  "cells": [
    {
      "cell_type": "markdown",
      "source": [
        "# Importing code from the previous notebook"
      ],
      "metadata": {
        "id": "n5XnReMSJSx3"
      }
    },
    {
      "cell_type": "code",
      "execution_count": 1,
      "metadata": {
        "colab": {
          "base_uri": "https://localhost:8080/"
        },
        "id": "lygQMcIPHRdN",
        "outputId": "2eb1f3dd-d99c-4ae9-c570-c74513054d09"
      },
      "outputs": [
        {
          "output_type": "stream",
          "name": "stdout",
          "text": [
            "/content/Learning-DeepLearning/Neural Networks - Zero to Hero\n"
          ]
        }
      ],
      "source": [
        "!git clone https://github.com/mratanusarkar/Learning-DeepLearning.git &> /dev/null\n",
        "%cd /content/Learning-DeepLearning/Neural\\ Networks\\ -\\ Zero\\ to\\ Hero\n",
        "!python setup.py install &> /dev/null"
      ]
    },
    {
      "cell_type": "code",
      "source": [
        "from micrograd.engine import Value\n",
        "from micrograd.visualize import draw_dot"
      ],
      "metadata": {
        "id": "F-DT4iiqJaOe"
      },
      "execution_count": 2,
      "outputs": []
    },
    {
      "cell_type": "code",
      "source": [
        "import random\n",
        "random.seed(2023)"
      ],
      "metadata": {
        "id": "vL7UjOHvJaRG"
      },
      "execution_count": 3,
      "outputs": []
    },
    {
      "cell_type": "markdown",
      "source": [
        "# Layer Class"
      ],
      "metadata": {
        "id": "a28Op2usJ_-5"
      }
    },
    {
      "cell_type": "code",
      "source": [
        "# now that we have a Neuron class in hand, let's try to stack them together to form a layer\n",
        "# Layers can be of the following:\n",
        "# - an input layer (it doesn't consist of neurons, so we ignore)\n",
        "# - hidden layers\n",
        "# - output layer"
      ],
      "metadata": {
        "id": "BWlyy6_pJaTe"
      },
      "execution_count": 4,
      "outputs": []
    },
    {
      "cell_type": "markdown",
      "source": [
        "Here is an illustration of neural layers (input, hidden and output layers).\n",
        "\n",
        "As you can see, we have multiple neurons stacked together to form the layers.\n",
        "Each layer takes in inputs, which are the output of the previous later's neurons\n",
        "Output of the layer is nothing but the output of the neurons in the layer.\n",
        "\n",
        "to summerise:\n",
        "- Inputs: number of neurons in prev layer * number of neurons in current layer\n",
        "- Outputs: number of neurons in current layer\n",
        "- Layer Params: each neuron params * number of neurons in current layer\n",
        "\n",
        "![neural_layers.jpeg](https://c.mql5.com/18/20/NN1__1.gif)"
      ],
      "metadata": {
        "id": "8iSTcYcCNFX0"
      }
    },
    {
      "cell_type": "code",
      "source": [
        "# as before, let us build our own version of the Neuron class with more understandable names and the expression graphs having labels\n",
        "# and let us also keep what Karpathy had built in his micrograd (and ofcourse those conventions are used in torch api and other ML codebases)\n",
        "# I will call my version of classes as \"Noob\", because \"I am noob!\""
      ],
      "metadata": {
        "id": "HeKXmDm_JaVm"
      },
      "execution_count": 5,
      "outputs": []
    },
    {
      "cell_type": "code",
      "source": [
        "# Karpathy's micrograd Neuron and Layer for Noobs!\n",
        "\n",
        "class NoobNeuron:\n",
        "\n",
        "    def __init__(self, n_inputs, label='') -> None:\n",
        "        \"\"\"\n",
        "        Karpathy's micrograd Neuron for Noobs!\n",
        "        Constructs a neuron that has `n_inputs` number of inputs and assigns random weights & bias to the neuron\n",
        "\n",
        "        Parameters\n",
        "        ----------\n",
        "            n_inputs : int\n",
        "                number of inputs entering into the neuron\n",
        "            \n",
        "            label : str\n",
        "                (optional) the name or label of the Neuron\n",
        "        \"\"\"\n",
        "\n",
        "        self.label = label\n",
        "        self.w = [Value(random.uniform(-1,1)) for _ in range(n_inputs)]\n",
        "        self.b = Value(random.uniform(-1,1))\n",
        "\n",
        "    def __call__(self, x) -> Value:\n",
        "        \"\"\"\n",
        "        Takes in a list of all `n_inputs` number of input `x values`, \n",
        "        Computes the body by doing `sum(w.x + b)` and \n",
        "        Passes the result through a non-linear activation function to return output\n",
        "\n",
        "        x = [x1, x2, x3, ..., xn],\n",
        "        \n",
        "        and we already have w's and b who's values were randomly assigned.\n",
        "        w = [w1, w2, w3, ..., wn]\n",
        "        b = bias\n",
        "\n",
        "        so, the output would be as follows:\n",
        "        out = f((x1*w1 + x2*w2 + ... + xn*wn) + b),\n",
        "        or `out = f(Σ(w.x) + b)`\n",
        "\n",
        "        where, f() is the activation function (tanh in this case)\n",
        "\n",
        "        Parameters\n",
        "        ----------\n",
        "            x : list(float)\n",
        "                the input values or the x = [x1, x2, x3, ..., xn]\n",
        "\n",
        "            return : Value\n",
        "                returns the output value\n",
        "        \"\"\"\n",
        "\n",
        "        sum = Value(0.0, label=f'{self.label} : sum')\n",
        "        for i, (xi, wi) in enumerate(zip(x, self.w)):\n",
        "            # inputs\n",
        "            x = Value(xi, label=f'{self.label} : x{i}')\n",
        "\n",
        "            # weights\n",
        "            w = wi;         w.label=f'{self.label} : w{i}'\n",
        "\n",
        "            # dendrites of the neuron (inputs weighted)\n",
        "            den = x * w;    den.label=f'{self.label} : den{i}'\n",
        "\n",
        "            # sum of dendrite signals inside cell body\n",
        "            sum = sum + den;\n",
        "\n",
        "        # bias of the neuron\n",
        "        b = self.b;     b.label=f'{self.label} : b'\n",
        "\n",
        "        # bias gets added inside the body\n",
        "        body = sum + b;     body.label=f'{self.label} : body'\n",
        "\n",
        "        # the net signal passes through a non-linear activation function\n",
        "        out = body.tanh()\n",
        "        out.label=f'{self.label} : out'\n",
        "\n",
        "        return out\n",
        "\n",
        "class NoobLayer:\n",
        "\n",
        "    def __init__(self, n_neurons_prev, n_neurons_curr, label='') -> None:\n",
        "        \"\"\"\n",
        "        Karpathy's micrograd Layer for Noobs!\n",
        "        Constructs a Layer, i.e array of Neurons, that has `n_neurons_curr` number of neurons in it.\n",
        "        Each of the `n_neurons_curr` number of neurons in this layer has `n_neurons_prev` number of inputs and one output each.\n",
        "\n",
        "        So, in total, we have `n_neurons_prev * n_neurons_curr` number of neural link lines feeding into the layer\n",
        "        and `n_neurons_curr` number of links going out of the layer\n",
        "\n",
        "        Parameters\n",
        "        ----------\n",
        "            n_neurons_prev : int\n",
        "                number of neurons in the previous layer, or number of neurons entering into this current layer\n",
        "            \n",
        "            n_neurons_curr : int\n",
        "                number of neurons in this current layer, or number of output lines exiting this layer\n",
        "            \n",
        "            label : str\n",
        "                (optional) the name or label of the Layer, \n",
        "                where each Neuron in the Layer will be labeled as: `{label} N:{i}`\n",
        "        \"\"\"\n",
        "        \n",
        "        self.label = label\n",
        "        self.neurons = [NoobNeuron(n_neurons_prev, f'{label} N:{i}') for i in range(n_neurons_curr)]\n",
        "\n",
        "    def __call__(self, x) -> list[Value]:\n",
        "        \"\"\"\n",
        "        Signals from the previous layer enters into this layer,\n",
        "        and the output from all the previous layer's neurons are passed into each neuron of this current layer\n",
        "        the output of each of the neurons in this current layer is computed\n",
        "        and the result of the same is returned in an array\n",
        "\n",
        "        If you have n neurons in this layer, your out will be an array of n\n",
        "        x = [x1, x2, x3, ..., xn]\n",
        "\n",
        "        Parameters\n",
        "        ----------\n",
        "            x : list(float)\n",
        "                output of all `n_neurons_prev` neurons from the prev layer, that are entering into this layer.\n",
        "            \n",
        "            return : list(Value)\n",
        "                returns a list of output values\n",
        "        \"\"\"\n",
        "\n",
        "        outs = [n(x) for n in self.neurons]\n",
        "        return outs"
      ],
      "metadata": {
        "id": "NlytOn0aO6CD"
      },
      "execution_count": 6,
      "outputs": []
    },
    {
      "cell_type": "code",
      "source": [
        "# let's test by building a layer with 2 neurons, having input feed in from prev layer that also had 2 neurons\n",
        "x = [2.0, 3.0]\n",
        "l = NoobLayer(2, 2, \"noob_layer\")\n",
        "l = l(x)\n",
        "\n",
        "# let's just join out from both these layers \n",
        "# for the sake of visualizing the expression graph\n",
        "# (in actual nn, we will have multiple layers connected to meet the output layer, which is another layer of neurons)\n",
        "output = l[0] + l[1]\n",
        "output.label = 'ignore this node! next layer to contd from here on...'\n",
        "draw_dot(output)"
      ],
      "metadata": {
        "colab": {
          "base_uri": "https://localhost:8080/",
          "height": 651
        },
        "id": "bagD9fAzS7Wm",
        "outputId": "12850547-d1aa-47fa-a118-8de6cd8c9070"
      },
      "execution_count": 7,
      "outputs": [
        {
          "output_type": "execute_result",
          "data": {
            "image/svg+xml": "<?xml version=\"1.0\" encoding=\"UTF-8\" standalone=\"no\"?>\n<!DOCTYPE svg PUBLIC \"-//W3C//DTD SVG 1.1//EN\"\n \"http://www.w3.org/Graphics/SVG/1.1/DTD/svg11.dtd\">\n<!-- Generated by graphviz version 2.43.0 (0)\n -->\n<!-- Title: %3 Pages: 1 -->\n<svg width=\"3076pt\" height=\"457pt\"\n viewBox=\"0.00 0.00 3076.00 457.00\" xmlns=\"http://www.w3.org/2000/svg\" xmlns:xlink=\"http://www.w3.org/1999/xlink\">\n<g id=\"graph0\" class=\"graph\" transform=\"scale(1 1) rotate(0) translate(4 453)\">\n<title>%3</title>\n<polygon fill=\"white\" stroke=\"transparent\" points=\"-4,4 -4,-453 3072,-453 3072,4 -4,4\"/>\n<!-- 139930132801616 -->\n<g id=\"node1\" class=\"node\">\n<title>139930132801616</title>\n<polygon fill=\"none\" stroke=\"black\" points=\"430,-27.5 430,-63.5 744,-63.5 744,-27.5 430,-27.5\"/>\n<text text-anchor=\"middle\" x=\"499.5\" y=\"-41.8\" font-family=\"Times,serif\" font-size=\"14.00\">noob_layer N:0 : den0</text>\n<polyline fill=\"none\" stroke=\"black\" points=\"569,-27.5 569,-63.5 \"/>\n<text text-anchor=\"middle\" x=\"613.5\" y=\"-41.8\" font-family=\"Times,serif\" font-size=\"14.00\">data: &#45;0.4683</text>\n<polyline fill=\"none\" stroke=\"black\" points=\"658,-27.5 658,-63.5 \"/>\n<text text-anchor=\"middle\" x=\"701\" y=\"-41.8\" font-family=\"Times,serif\" font-size=\"14.00\">grad: 0.0000</text>\n</g>\n<!-- 139930132801328+ -->\n<g id=\"node34\" class=\"node\">\n<title>139930132801328+</title>\n<ellipse fill=\"none\" stroke=\"black\" cx=\"807\" cy=\"-100.5\" rx=\"27\" ry=\"18\"/>\n<text text-anchor=\"middle\" x=\"807\" y=\"-96.8\" font-family=\"Times,serif\" font-size=\"14.00\">+</text>\n</g>\n<!-- 139930132801616&#45;&gt;139930132801328+ -->\n<g id=\"edge28\" class=\"edge\">\n<title>139930132801616&#45;&gt;139930132801328+</title>\n<path fill=\"none\" stroke=\"black\" d=\"M705.41,-63.52C718.53,-66.43 731.62,-69.75 744,-73.5 754.53,-76.69 765.67,-81.17 775.55,-85.56\"/>\n<polygon fill=\"black\" stroke=\"black\" points=\"774.4,-88.88 784.94,-89.87 777.31,-82.52 774.4,-88.88\"/>\n</g>\n<!-- 139930132801616* -->\n<g id=\"node2\" class=\"node\">\n<title>139930132801616*</title>\n<ellipse fill=\"none\" stroke=\"black\" cx=\"367\" cy=\"-45.5\" rx=\"27\" ry=\"18\"/>\n<text text-anchor=\"middle\" x=\"367\" y=\"-41.8\" font-family=\"Times,serif\" font-size=\"14.00\">*</text>\n</g>\n<!-- 139930132801616*&#45;&gt;139930132801616 -->\n<g id=\"edge1\" class=\"edge\">\n<title>139930132801616*&#45;&gt;139930132801616</title>\n<path fill=\"none\" stroke=\"black\" d=\"M394.3,-45.5C401.69,-45.5 410.32,-45.5 419.75,-45.5\"/>\n<polygon fill=\"black\" stroke=\"black\" points=\"419.84,-49 429.84,-45.5 419.84,-42 419.84,-49\"/>\n</g>\n<!-- 139930530078880 -->\n<g id=\"node3\" class=\"node\">\n<title>139930530078880</title>\n<polygon fill=\"none\" stroke=\"black\" points=\"927,-357.5 927,-393.5 1122,-393.5 1122,-357.5 927,-357.5\"/>\n<text text-anchor=\"middle\" x=\"937\" y=\"-371.8\" font-family=\"Times,serif\" font-size=\"14.00\"> </text>\n<polyline fill=\"none\" stroke=\"black\" points=\"947,-357.5 947,-393.5 \"/>\n<text text-anchor=\"middle\" x=\"991.5\" y=\"-371.8\" font-family=\"Times,serif\" font-size=\"14.00\">data: &#45;0.7189</text>\n<polyline fill=\"none\" stroke=\"black\" points=\"1036,-357.5 1036,-393.5 \"/>\n<text text-anchor=\"middle\" x=\"1079\" y=\"-371.8\" font-family=\"Times,serif\" font-size=\"14.00\">grad: 0.0000</text>\n</g>\n<!-- 139930545004496+ -->\n<g id=\"node38\" class=\"node\">\n<title>139930545004496+</title>\n<ellipse fill=\"none\" stroke=\"black\" cx=\"1242\" cy=\"-320.5\" rx=\"27\" ry=\"18\"/>\n<text text-anchor=\"middle\" x=\"1242\" y=\"-316.8\" font-family=\"Times,serif\" font-size=\"14.00\">+</text>\n</g>\n<!-- 139930530078880&#45;&gt;139930545004496+ -->\n<g id=\"edge31\" class=\"edge\">\n<title>139930530078880&#45;&gt;139930545004496+</title>\n<path fill=\"none\" stroke=\"black\" d=\"M1122.18,-362.29C1141.22,-358.63 1160.9,-354.08 1179,-348.5 1189.78,-345.18 1201.14,-340.44 1211.15,-335.8\"/>\n<polygon fill=\"black\" stroke=\"black\" points=\"1212.76,-338.91 1220.27,-331.44 1209.74,-332.59 1212.76,-338.91\"/>\n</g>\n<!-- 139930530078880+ -->\n<g id=\"node4\" class=\"node\">\n<title>139930530078880+</title>\n<ellipse fill=\"none\" stroke=\"black\" cx=\"807\" cy=\"-375.5\" rx=\"27\" ry=\"18\"/>\n<text text-anchor=\"middle\" x=\"807\" y=\"-371.8\" font-family=\"Times,serif\" font-size=\"14.00\">+</text>\n</g>\n<!-- 139930530078880+&#45;&gt;139930530078880 -->\n<g id=\"edge2\" class=\"edge\">\n<title>139930530078880+&#45;&gt;139930530078880</title>\n<path fill=\"none\" stroke=\"black\" d=\"M834.42,-375.5C855.33,-375.5 885.99,-375.5 916.57,-375.5\"/>\n<polygon fill=\"black\" stroke=\"black\" points=\"916.92,-379 926.92,-375.5 916.92,-372 916.92,-379\"/>\n</g>\n<!-- 139930132801712 -->\n<g id=\"node5\" class=\"node\">\n<title>139930132801712</title>\n<polygon fill=\"none\" stroke=\"black\" points=\"1727.5,-236.5 1727.5,-272.5 2037.5,-272.5 2037.5,-236.5 1727.5,-236.5\"/>\n<text text-anchor=\"middle\" x=\"1797.5\" y=\"-250.8\" font-family=\"Times,serif\" font-size=\"14.00\">noob_layer N:0 : body</text>\n<polyline fill=\"none\" stroke=\"black\" points=\"1867.5,-236.5 1867.5,-272.5 \"/>\n<text text-anchor=\"middle\" x=\"1909.5\" y=\"-250.8\" font-family=\"Times,serif\" font-size=\"14.00\">data: 3.0505</text>\n<polyline fill=\"none\" stroke=\"black\" points=\"1951.5,-236.5 1951.5,-272.5 \"/>\n<text text-anchor=\"middle\" x=\"1994.5\" y=\"-250.8\" font-family=\"Times,serif\" font-size=\"14.00\">grad: 0.0000</text>\n</g>\n<!-- 139930132801856tanh -->\n<g id=\"node10\" class=\"node\">\n<title>139930132801856tanh</title>\n<ellipse fill=\"none\" stroke=\"black\" cx=\"2103\" cy=\"-254.5\" rx=\"27\" ry=\"18\"/>\n<text text-anchor=\"middle\" x=\"2103\" y=\"-250.8\" font-family=\"Times,serif\" font-size=\"14.00\">tanh</text>\n</g>\n<!-- 139930132801712&#45;&gt;139930132801856tanh -->\n<g id=\"edge18\" class=\"edge\">\n<title>139930132801712&#45;&gt;139930132801856tanh</title>\n<path fill=\"none\" stroke=\"black\" d=\"M2037.62,-254.5C2047.75,-254.5 2057.26,-254.5 2065.7,-254.5\"/>\n<polygon fill=\"black\" stroke=\"black\" points=\"2065.78,-258 2075.78,-254.5 2065.78,-251 2065.78,-258\"/>\n</g>\n<!-- 139930132801712+ -->\n<g id=\"node6\" class=\"node\">\n<title>139930132801712+</title>\n<ellipse fill=\"none\" stroke=\"black\" cx=\"1662\" cy=\"-240.5\" rx=\"27\" ry=\"18\"/>\n<text text-anchor=\"middle\" x=\"1662\" y=\"-236.8\" font-family=\"Times,serif\" font-size=\"14.00\">+</text>\n</g>\n<!-- 139930132801712+&#45;&gt;139930132801712 -->\n<g id=\"edge3\" class=\"edge\">\n<title>139930132801712+&#45;&gt;139930132801712</title>\n<path fill=\"none\" stroke=\"black\" d=\"M1688.92,-242.16C1696.98,-242.68 1706.52,-243.29 1716.97,-243.96\"/>\n<polygon fill=\"black\" stroke=\"black\" points=\"1717.06,-247.47 1727.26,-244.62 1717.5,-240.49 1717.06,-247.47\"/>\n</g>\n<!-- 139930132799744 -->\n<g id=\"node7\" class=\"node\">\n<title>139930132799744</title>\n<polygon fill=\"none\" stroke=\"black\" points=\"0,-385.5 0,-421.5 304,-421.5 304,-385.5 0,-385.5\"/>\n<text text-anchor=\"middle\" x=\"64.5\" y=\"-399.8\" font-family=\"Times,serif\" font-size=\"14.00\">noob_layer N:1 : w0</text>\n<polyline fill=\"none\" stroke=\"black\" points=\"129,-385.5 129,-421.5 \"/>\n<text text-anchor=\"middle\" x=\"173.5\" y=\"-399.8\" font-family=\"Times,serif\" font-size=\"14.00\">data: &#45;0.3594</text>\n<polyline fill=\"none\" stroke=\"black\" points=\"218,-385.5 218,-421.5 \"/>\n<text text-anchor=\"middle\" x=\"261\" y=\"-399.8\" font-family=\"Times,serif\" font-size=\"14.00\">grad: 0.0000</text>\n</g>\n<!-- 139930132802816* -->\n<g id=\"node25\" class=\"node\">\n<title>139930132802816*</title>\n<ellipse fill=\"none\" stroke=\"black\" cx=\"367\" cy=\"-375.5\" rx=\"27\" ry=\"18\"/>\n<text text-anchor=\"middle\" x=\"367\" y=\"-371.8\" font-family=\"Times,serif\" font-size=\"14.00\">*</text>\n</g>\n<!-- 139930132799744&#45;&gt;139930132802816* -->\n<g id=\"edge23\" class=\"edge\">\n<title>139930132799744&#45;&gt;139930132802816*</title>\n<path fill=\"none\" stroke=\"black\" d=\"M290,-385.49C304.6,-383.57 318.35,-381.76 330.05,-380.23\"/>\n<polygon fill=\"black\" stroke=\"black\" points=\"330.71,-383.67 340.17,-378.9 329.8,-376.73 330.71,-383.67\"/>\n</g>\n<!-- 139930530079024 -->\n<g id=\"node8\" class=\"node\">\n<title>139930530079024</title>\n<polygon fill=\"none\" stroke=\"black\" points=\"439,-302.5 439,-338.5 735,-338.5 735,-302.5 439,-302.5\"/>\n<text text-anchor=\"middle\" x=\"502\" y=\"-316.8\" font-family=\"Times,serif\" font-size=\"14.00\">noob_layer N:1 : x1</text>\n<polyline fill=\"none\" stroke=\"black\" points=\"565,-302.5 565,-338.5 \"/>\n<text text-anchor=\"middle\" x=\"607\" y=\"-316.8\" font-family=\"Times,serif\" font-size=\"14.00\">data: 3.0000</text>\n<polyline fill=\"none\" stroke=\"black\" points=\"649,-302.5 649,-338.5 \"/>\n<text text-anchor=\"middle\" x=\"692\" y=\"-316.8\" font-family=\"Times,serif\" font-size=\"14.00\">grad: 0.0000</text>\n</g>\n<!-- 139930530079264* -->\n<g id=\"node16\" class=\"node\">\n<title>139930530079264*</title>\n<ellipse fill=\"none\" stroke=\"black\" cx=\"807\" cy=\"-320.5\" rx=\"27\" ry=\"18\"/>\n<text text-anchor=\"middle\" x=\"807\" y=\"-316.8\" font-family=\"Times,serif\" font-size=\"14.00\">*</text>\n</g>\n<!-- 139930530079024&#45;&gt;139930530079264* -->\n<g id=\"edge29\" class=\"edge\">\n<title>139930530079024&#45;&gt;139930530079264*</title>\n<path fill=\"none\" stroke=\"black\" d=\"M735.22,-320.5C747.82,-320.5 759.64,-320.5 769.88,-320.5\"/>\n<polygon fill=\"black\" stroke=\"black\" points=\"769.94,-324 779.94,-320.5 769.94,-317 769.94,-324\"/>\n</g>\n<!-- 139930132801856 -->\n<g id=\"node9\" class=\"node\">\n<title>139930132801856</title>\n<polygon fill=\"none\" stroke=\"black\" points=\"2168.5,-236.5 2168.5,-272.5 2468.5,-272.5 2468.5,-236.5 2168.5,-236.5\"/>\n<text text-anchor=\"middle\" x=\"2233.5\" y=\"-250.8\" font-family=\"Times,serif\" font-size=\"14.00\">noob_layer N:0 : out</text>\n<polyline fill=\"none\" stroke=\"black\" points=\"2298.5,-236.5 2298.5,-272.5 \"/>\n<text text-anchor=\"middle\" x=\"2340.5\" y=\"-250.8\" font-family=\"Times,serif\" font-size=\"14.00\">data: 0.9955</text>\n<polyline fill=\"none\" stroke=\"black\" points=\"2382.5,-236.5 2382.5,-272.5 \"/>\n<text text-anchor=\"middle\" x=\"2425.5\" y=\"-250.8\" font-family=\"Times,serif\" font-size=\"14.00\">grad: 0.0000</text>\n</g>\n<!-- 139930132801376+ -->\n<g id=\"node36\" class=\"node\">\n<title>139930132801376+</title>\n<ellipse fill=\"none\" stroke=\"black\" cx=\"2534\" cy=\"-281.5\" rx=\"27\" ry=\"18\"/>\n<text text-anchor=\"middle\" x=\"2534\" y=\"-277.8\" font-family=\"Times,serif\" font-size=\"14.00\">+</text>\n</g>\n<!-- 139930132801856&#45;&gt;139930132801376+ -->\n<g id=\"edge35\" class=\"edge\">\n<title>139930132801856&#45;&gt;139930132801376+</title>\n<path fill=\"none\" stroke=\"black\" d=\"M2461.91,-272.51C2474.74,-274.13 2486.79,-275.66 2497.2,-276.97\"/>\n<polygon fill=\"black\" stroke=\"black\" points=\"2497.06,-280.48 2507.42,-278.26 2497.93,-273.54 2497.06,-280.48\"/>\n</g>\n<!-- 139930132801856tanh&#45;&gt;139930132801856 -->\n<g id=\"edge4\" class=\"edge\">\n<title>139930132801856tanh&#45;&gt;139930132801856</title>\n<path fill=\"none\" stroke=\"black\" d=\"M2130.18,-254.5C2138.2,-254.5 2147.66,-254.5 2158.01,-254.5\"/>\n<polygon fill=\"black\" stroke=\"black\" points=\"2158.18,-258 2168.18,-254.5 2158.18,-251 2158.18,-258\"/>\n</g>\n<!-- 139930132799840 -->\n<g id=\"node11\" class=\"node\">\n<title>139930132799840</title>\n<polygon fill=\"none\" stroke=\"black\" points=\"434,-82.5 434,-118.5 740,-118.5 740,-82.5 434,-82.5\"/>\n<text text-anchor=\"middle\" x=\"502\" y=\"-96.8\" font-family=\"Times,serif\" font-size=\"14.00\">noob_layer N:0 : sum</text>\n<polyline fill=\"none\" stroke=\"black\" points=\"570,-82.5 570,-118.5 \"/>\n<text text-anchor=\"middle\" x=\"612\" y=\"-96.8\" font-family=\"Times,serif\" font-size=\"14.00\">data: 0.0000</text>\n<polyline fill=\"none\" stroke=\"black\" points=\"654,-82.5 654,-118.5 \"/>\n<text text-anchor=\"middle\" x=\"697\" y=\"-96.8\" font-family=\"Times,serif\" font-size=\"14.00\">grad: 0.0000</text>\n</g>\n<!-- 139930132799840&#45;&gt;139930132801328+ -->\n<g id=\"edge20\" class=\"edge\">\n<title>139930132799840&#45;&gt;139930132801328+</title>\n<path fill=\"none\" stroke=\"black\" d=\"M740,-100.5C750.66,-100.5 760.67,-100.5 769.52,-100.5\"/>\n<polygon fill=\"black\" stroke=\"black\" points=\"769.69,-104 779.69,-100.5 769.69,-97 769.69,-104\"/>\n</g>\n<!-- 139930132801904 -->\n<g id=\"node12\" class=\"node\">\n<title>139930132801904</title>\n<polygon fill=\"none\" stroke=\"black\" points=\"434,-412.5 434,-448.5 740,-448.5 740,-412.5 434,-412.5\"/>\n<text text-anchor=\"middle\" x=\"502\" y=\"-426.8\" font-family=\"Times,serif\" font-size=\"14.00\">noob_layer N:1 : sum</text>\n<polyline fill=\"none\" stroke=\"black\" points=\"570,-412.5 570,-448.5 \"/>\n<text text-anchor=\"middle\" x=\"612\" y=\"-426.8\" font-family=\"Times,serif\" font-size=\"14.00\">data: 0.0000</text>\n<polyline fill=\"none\" stroke=\"black\" points=\"654,-412.5 654,-448.5 \"/>\n<text text-anchor=\"middle\" x=\"697\" y=\"-426.8\" font-family=\"Times,serif\" font-size=\"14.00\">grad: 0.0000</text>\n</g>\n<!-- 139930132801904&#45;&gt;139930530078880+ -->\n<g id=\"edge26\" class=\"edge\">\n<title>139930132801904&#45;&gt;139930530078880+</title>\n<path fill=\"none\" stroke=\"black\" d=\"M710.06,-412.45C721.63,-409.82 733.1,-406.85 744,-403.5 754.78,-400.19 766.15,-395.46 776.16,-390.82\"/>\n<polygon fill=\"black\" stroke=\"black\" points=\"777.77,-393.93 785.28,-386.45 774.75,-387.61 777.77,-393.93\"/>\n</g>\n<!-- 139930545002864 -->\n<g id=\"node13\" class=\"node\">\n<title>139930545002864</title>\n<polygon fill=\"none\" stroke=\"black\" points=\"1725,-298.5 1725,-334.5 2040,-334.5 2040,-298.5 1725,-298.5\"/>\n<text text-anchor=\"middle\" x=\"1795\" y=\"-312.8\" font-family=\"Times,serif\" font-size=\"14.00\">noob_layer N:1 : body</text>\n<polyline fill=\"none\" stroke=\"black\" points=\"1865,-298.5 1865,-334.5 \"/>\n<text text-anchor=\"middle\" x=\"1909.5\" y=\"-312.8\" font-family=\"Times,serif\" font-size=\"14.00\">data: &#45;0.6183</text>\n<polyline fill=\"none\" stroke=\"black\" points=\"1954,-298.5 1954,-334.5 \"/>\n<text text-anchor=\"middle\" x=\"1997\" y=\"-312.8\" font-family=\"Times,serif\" font-size=\"14.00\">grad: 0.0000</text>\n</g>\n<!-- 139930545003920tanh -->\n<g id=\"node27\" class=\"node\">\n<title>139930545003920tanh</title>\n<ellipse fill=\"none\" stroke=\"black\" cx=\"2103\" cy=\"-309.5\" rx=\"27\" ry=\"18\"/>\n<text text-anchor=\"middle\" x=\"2103\" y=\"-305.8\" font-family=\"Times,serif\" font-size=\"14.00\">tanh</text>\n</g>\n<!-- 139930545002864&#45;&gt;139930545003920tanh -->\n<g id=\"edge37\" class=\"edge\">\n<title>139930545002864&#45;&gt;139930545003920tanh</title>\n<path fill=\"none\" stroke=\"black\" d=\"M2040.26,-311.48C2049.34,-311.19 2057.87,-310.91 2065.53,-310.67\"/>\n<polygon fill=\"black\" stroke=\"black\" points=\"2065.85,-314.16 2075.74,-310.34 2065.63,-307.16 2065.85,-314.16\"/>\n</g>\n<!-- 139930545002864+ -->\n<g id=\"node14\" class=\"node\">\n<title>139930545002864+</title>\n<ellipse fill=\"none\" stroke=\"black\" cx=\"1662\" cy=\"-319.5\" rx=\"27\" ry=\"18\"/>\n<text text-anchor=\"middle\" x=\"1662\" y=\"-315.8\" font-family=\"Times,serif\" font-size=\"14.00\">+</text>\n</g>\n<!-- 139930545002864+&#45;&gt;139930545002864 -->\n<g id=\"edge5\" class=\"edge\">\n<title>139930545002864+&#45;&gt;139930545002864</title>\n<path fill=\"none\" stroke=\"black\" d=\"M1689.36,-319.14C1696.77,-319.04 1705.42,-318.92 1714.87,-318.79\"/>\n<polygon fill=\"black\" stroke=\"black\" points=\"1715.03,-322.29 1724.98,-318.65 1714.94,-315.29 1715.03,-322.29\"/>\n</g>\n<!-- 139930530079264 -->\n<g id=\"node15\" class=\"node\">\n<title>139930530079264</title>\n<polygon fill=\"none\" stroke=\"black\" points=\"870,-302.5 870,-338.5 1179,-338.5 1179,-302.5 870,-302.5\"/>\n<text text-anchor=\"middle\" x=\"939.5\" y=\"-316.8\" font-family=\"Times,serif\" font-size=\"14.00\">noob_layer N:1 : den1</text>\n<polyline fill=\"none\" stroke=\"black\" points=\"1009,-302.5 1009,-338.5 \"/>\n<text text-anchor=\"middle\" x=\"1051\" y=\"-316.8\" font-family=\"Times,serif\" font-size=\"14.00\">data: 0.4262</text>\n<polyline fill=\"none\" stroke=\"black\" points=\"1093,-302.5 1093,-338.5 \"/>\n<text text-anchor=\"middle\" x=\"1136\" y=\"-316.8\" font-family=\"Times,serif\" font-size=\"14.00\">grad: 0.0000</text>\n</g>\n<!-- 139930530079264&#45;&gt;139930545004496+ -->\n<g id=\"edge34\" class=\"edge\">\n<title>139930530079264&#45;&gt;139930545004496+</title>\n<path fill=\"none\" stroke=\"black\" d=\"M1179.25,-320.5C1188.31,-320.5 1196.83,-320.5 1204.49,-320.5\"/>\n<polygon fill=\"black\" stroke=\"black\" points=\"1204.7,-324 1214.7,-320.5 1204.7,-317 1204.7,-324\"/>\n</g>\n<!-- 139930530079264*&#45;&gt;139930530079264 -->\n<g id=\"edge6\" class=\"edge\">\n<title>139930530079264*&#45;&gt;139930530079264</title>\n<path fill=\"none\" stroke=\"black\" d=\"M834.42,-320.5C841.69,-320.5 850.13,-320.5 859.34,-320.5\"/>\n<polygon fill=\"black\" stroke=\"black\" points=\"859.61,-324 869.61,-320.5 859.61,-317 859.61,-324\"/>\n</g>\n<!-- 139930132800032 -->\n<g id=\"node17\" class=\"node\">\n<title>139930132800032</title>\n<polygon fill=\"none\" stroke=\"black\" points=\"437.5,-247.5 437.5,-283.5 736.5,-283.5 736.5,-247.5 437.5,-247.5\"/>\n<text text-anchor=\"middle\" x=\"502\" y=\"-261.8\" font-family=\"Times,serif\" font-size=\"14.00\">noob_layer N:1 : w1</text>\n<polyline fill=\"none\" stroke=\"black\" points=\"566.5,-247.5 566.5,-283.5 \"/>\n<text text-anchor=\"middle\" x=\"608.5\" y=\"-261.8\" font-family=\"Times,serif\" font-size=\"14.00\">data: 0.1421</text>\n<polyline fill=\"none\" stroke=\"black\" points=\"650.5,-247.5 650.5,-283.5 \"/>\n<text text-anchor=\"middle\" x=\"693.5\" y=\"-261.8\" font-family=\"Times,serif\" font-size=\"14.00\">grad: 0.0000</text>\n</g>\n<!-- 139930132800032&#45;&gt;139930530079264* -->\n<g id=\"edge17\" class=\"edge\">\n<title>139930132800032&#45;&gt;139930530079264*</title>\n<path fill=\"none\" stroke=\"black\" d=\"M705.41,-283.52C718.53,-286.43 731.62,-289.75 744,-293.5 754.53,-296.69 765.67,-301.17 775.55,-305.56\"/>\n<polygon fill=\"black\" stroke=\"black\" points=\"774.4,-308.88 784.94,-309.87 777.31,-302.52 774.4,-308.88\"/>\n</g>\n<!-- 139930132800080 -->\n<g id=\"node18\" class=\"node\">\n<title>139930132800080</title>\n<polygon fill=\"none\" stroke=\"black\" points=\"1305,-356.5 1305,-392.5 1599,-392.5 1599,-356.5 1305,-356.5\"/>\n<text text-anchor=\"middle\" x=\"1364.5\" y=\"-370.8\" font-family=\"Times,serif\" font-size=\"14.00\">noob_layer N:1 : b</text>\n<polyline fill=\"none\" stroke=\"black\" points=\"1424,-356.5 1424,-392.5 \"/>\n<text text-anchor=\"middle\" x=\"1468.5\" y=\"-370.8\" font-family=\"Times,serif\" font-size=\"14.00\">data: &#45;0.3255</text>\n<polyline fill=\"none\" stroke=\"black\" points=\"1513,-356.5 1513,-392.5 \"/>\n<text text-anchor=\"middle\" x=\"1556\" y=\"-370.8\" font-family=\"Times,serif\" font-size=\"14.00\">grad: 0.0000</text>\n</g>\n<!-- 139930132800080&#45;&gt;139930545002864+ -->\n<g id=\"edge15\" class=\"edge\">\n<title>139930132800080&#45;&gt;139930545002864+</title>\n<path fill=\"none\" stroke=\"black\" d=\"M1566.06,-356.41C1577.28,-353.77 1588.42,-350.81 1599,-347.5 1609.76,-344.13 1621.12,-339.38 1631.13,-334.74\"/>\n<polygon fill=\"black\" stroke=\"black\" points=\"1632.74,-337.85 1640.26,-330.39 1629.73,-331.54 1632.74,-337.85\"/>\n</g>\n<!-- 139930132800272 -->\n<g id=\"node19\" class=\"node\">\n<title>139930132800272</title>\n<polygon fill=\"none\" stroke=\"black\" points=\"437.5,-192.5 437.5,-228.5 736.5,-228.5 736.5,-192.5 437.5,-192.5\"/>\n<text text-anchor=\"middle\" x=\"502\" y=\"-206.8\" font-family=\"Times,serif\" font-size=\"14.00\">noob_layer N:0 : w1</text>\n<polyline fill=\"none\" stroke=\"black\" points=\"566.5,-192.5 566.5,-228.5 \"/>\n<text text-anchor=\"middle\" x=\"608.5\" y=\"-206.8\" font-family=\"Times,serif\" font-size=\"14.00\">data: 0.9437</text>\n<polyline fill=\"none\" stroke=\"black\" points=\"650.5,-192.5 650.5,-228.5 \"/>\n<text text-anchor=\"middle\" x=\"693.5\" y=\"-206.8\" font-family=\"Times,serif\" font-size=\"14.00\">grad: 0.0000</text>\n</g>\n<!-- 139930132801136* -->\n<g id=\"node31\" class=\"node\">\n<title>139930132801136*</title>\n<ellipse fill=\"none\" stroke=\"black\" cx=\"807\" cy=\"-156.5\" rx=\"27\" ry=\"18\"/>\n<text text-anchor=\"middle\" x=\"807\" y=\"-152.8\" font-family=\"Times,serif\" font-size=\"14.00\">*</text>\n</g>\n<!-- 139930132800272&#45;&gt;139930132801136* -->\n<g id=\"edge33\" class=\"edge\">\n<title>139930132800272&#45;&gt;139930132801136*</title>\n<path fill=\"none\" stroke=\"black\" d=\"M709.18,-192.48C721.04,-189.84 732.81,-186.85 744,-183.5 754.65,-180.31 765.91,-175.78 775.87,-171.35\"/>\n<polygon fill=\"black\" stroke=\"black\" points=\"777.33,-174.53 784.95,-167.17 774.41,-168.17 777.33,-174.53\"/>\n</g>\n<!-- 139930132800320 -->\n<g id=\"node20\" class=\"node\">\n<title>139930132800320</title>\n<polygon fill=\"none\" stroke=\"black\" points=\"0,-55.5 0,-91.5 304,-91.5 304,-55.5 0,-55.5\"/>\n<text text-anchor=\"middle\" x=\"64.5\" y=\"-69.8\" font-family=\"Times,serif\" font-size=\"14.00\">noob_layer N:0 : w0</text>\n<polyline fill=\"none\" stroke=\"black\" points=\"129,-55.5 129,-91.5 \"/>\n<text text-anchor=\"middle\" x=\"173.5\" y=\"-69.8\" font-family=\"Times,serif\" font-size=\"14.00\">data: &#45;0.2342</text>\n<polyline fill=\"none\" stroke=\"black\" points=\"218,-55.5 218,-91.5 \"/>\n<text text-anchor=\"middle\" x=\"261\" y=\"-69.8\" font-family=\"Times,serif\" font-size=\"14.00\">grad: 0.0000</text>\n</g>\n<!-- 139930132800320&#45;&gt;139930132801616* -->\n<g id=\"edge27\" class=\"edge\">\n<title>139930132800320&#45;&gt;139930132801616*</title>\n<path fill=\"none\" stroke=\"black\" d=\"M290,-55.49C304.6,-53.57 318.35,-51.76 330.05,-50.23\"/>\n<polygon fill=\"black\" stroke=\"black\" points=\"330.71,-53.67 340.17,-48.9 329.8,-46.73 330.71,-53.67\"/>\n</g>\n<!-- 139930132800512 -->\n<g id=\"node21\" class=\"node\">\n<title>139930132800512</title>\n<polygon fill=\"none\" stroke=\"black\" points=\"4,-330.5 4,-366.5 300,-366.5 300,-330.5 4,-330.5\"/>\n<text text-anchor=\"middle\" x=\"67\" y=\"-344.8\" font-family=\"Times,serif\" font-size=\"14.00\">noob_layer N:1 : x0</text>\n<polyline fill=\"none\" stroke=\"black\" points=\"130,-330.5 130,-366.5 \"/>\n<text text-anchor=\"middle\" x=\"172\" y=\"-344.8\" font-family=\"Times,serif\" font-size=\"14.00\">data: 2.0000</text>\n<polyline fill=\"none\" stroke=\"black\" points=\"214,-330.5 214,-366.5 \"/>\n<text text-anchor=\"middle\" x=\"257\" y=\"-344.8\" font-family=\"Times,serif\" font-size=\"14.00\">grad: 0.0000</text>\n</g>\n<!-- 139930132800512&#45;&gt;139930132802816* -->\n<g id=\"edge24\" class=\"edge\">\n<title>139930132800512&#45;&gt;139930132802816*</title>\n<path fill=\"none\" stroke=\"black\" d=\"M295.07,-366.51C307.76,-368.12 319.69,-369.63 330.01,-370.94\"/>\n<polygon fill=\"black\" stroke=\"black\" points=\"329.79,-374.44 340.15,-372.22 330.67,-367.49 329.79,-374.44\"/>\n</g>\n<!-- 139930132800656 -->\n<g id=\"node22\" class=\"node\">\n<title>139930132800656</title>\n<polygon fill=\"none\" stroke=\"black\" points=\"1307.5,-222.5 1307.5,-258.5 1596.5,-258.5 1596.5,-222.5 1307.5,-222.5\"/>\n<text text-anchor=\"middle\" x=\"1367\" y=\"-236.8\" font-family=\"Times,serif\" font-size=\"14.00\">noob_layer N:0 : b</text>\n<polyline fill=\"none\" stroke=\"black\" points=\"1426.5,-222.5 1426.5,-258.5 \"/>\n<text text-anchor=\"middle\" x=\"1468.5\" y=\"-236.8\" font-family=\"Times,serif\" font-size=\"14.00\">data: 0.6876</text>\n<polyline fill=\"none\" stroke=\"black\" points=\"1510.5,-222.5 1510.5,-258.5 \"/>\n<text text-anchor=\"middle\" x=\"1553.5\" y=\"-236.8\" font-family=\"Times,serif\" font-size=\"14.00\">grad: 0.0000</text>\n</g>\n<!-- 139930132800656&#45;&gt;139930132801712+ -->\n<g id=\"edge16\" class=\"edge\">\n<title>139930132800656&#45;&gt;139930132801712+</title>\n<path fill=\"none\" stroke=\"black\" d=\"M1596.61,-240.5C1606.77,-240.5 1616.33,-240.5 1624.82,-240.5\"/>\n<polygon fill=\"black\" stroke=\"black\" points=\"1624.97,-244 1634.97,-240.5 1624.97,-237 1624.97,-244\"/>\n</g>\n<!-- 139930132802720 -->\n<g id=\"node23\" class=\"node\">\n<title>139930132802720</title>\n<polygon fill=\"none\" stroke=\"black\" points=\"4,-0.5 4,-36.5 300,-36.5 300,-0.5 4,-0.5\"/>\n<text text-anchor=\"middle\" x=\"67\" y=\"-14.8\" font-family=\"Times,serif\" font-size=\"14.00\">noob_layer N:0 : x0</text>\n<polyline fill=\"none\" stroke=\"black\" points=\"130,-0.5 130,-36.5 \"/>\n<text text-anchor=\"middle\" x=\"172\" y=\"-14.8\" font-family=\"Times,serif\" font-size=\"14.00\">data: 2.0000</text>\n<polyline fill=\"none\" stroke=\"black\" points=\"214,-0.5 214,-36.5 \"/>\n<text text-anchor=\"middle\" x=\"257\" y=\"-14.8\" font-family=\"Times,serif\" font-size=\"14.00\">grad: 0.0000</text>\n</g>\n<!-- 139930132802720&#45;&gt;139930132801616* -->\n<g id=\"edge25\" class=\"edge\">\n<title>139930132802720&#45;&gt;139930132801616*</title>\n<path fill=\"none\" stroke=\"black\" d=\"M295.07,-36.51C307.76,-38.12 319.69,-39.63 330.01,-40.94\"/>\n<polygon fill=\"black\" stroke=\"black\" points=\"329.79,-44.44 340.15,-42.22 330.67,-37.49 329.79,-44.44\"/>\n</g>\n<!-- 139930132802816 -->\n<g id=\"node24\" class=\"node\">\n<title>139930132802816</title>\n<polygon fill=\"none\" stroke=\"black\" points=\"430,-357.5 430,-393.5 744,-393.5 744,-357.5 430,-357.5\"/>\n<text text-anchor=\"middle\" x=\"499.5\" y=\"-371.8\" font-family=\"Times,serif\" font-size=\"14.00\">noob_layer N:1 : den0</text>\n<polyline fill=\"none\" stroke=\"black\" points=\"569,-357.5 569,-393.5 \"/>\n<text text-anchor=\"middle\" x=\"613.5\" y=\"-371.8\" font-family=\"Times,serif\" font-size=\"14.00\">data: &#45;0.7189</text>\n<polyline fill=\"none\" stroke=\"black\" points=\"658,-357.5 658,-393.5 \"/>\n<text text-anchor=\"middle\" x=\"701\" y=\"-371.8\" font-family=\"Times,serif\" font-size=\"14.00\">grad: 0.0000</text>\n</g>\n<!-- 139930132802816&#45;&gt;139930530078880+ -->\n<g id=\"edge30\" class=\"edge\">\n<title>139930132802816&#45;&gt;139930530078880+</title>\n<path fill=\"none\" stroke=\"black\" d=\"M744.11,-375.5C753.4,-375.5 762.13,-375.5 769.93,-375.5\"/>\n<polygon fill=\"black\" stroke=\"black\" points=\"769.97,-379 779.97,-375.5 769.97,-372 769.97,-379\"/>\n</g>\n<!-- 139930132802816*&#45;&gt;139930132802816 -->\n<g id=\"edge7\" class=\"edge\">\n<title>139930132802816*&#45;&gt;139930132802816</title>\n<path fill=\"none\" stroke=\"black\" d=\"M394.3,-375.5C401.69,-375.5 410.32,-375.5 419.75,-375.5\"/>\n<polygon fill=\"black\" stroke=\"black\" points=\"419.84,-379 429.84,-375.5 419.84,-372 419.84,-379\"/>\n</g>\n<!-- 139930545003920 -->\n<g id=\"node26\" class=\"node\">\n<title>139930545003920</title>\n<polygon fill=\"none\" stroke=\"black\" points=\"2166,-291.5 2166,-327.5 2471,-327.5 2471,-291.5 2166,-291.5\"/>\n<text text-anchor=\"middle\" x=\"2231\" y=\"-305.8\" font-family=\"Times,serif\" font-size=\"14.00\">noob_layer N:1 : out</text>\n<polyline fill=\"none\" stroke=\"black\" points=\"2296,-291.5 2296,-327.5 \"/>\n<text text-anchor=\"middle\" x=\"2340.5\" y=\"-305.8\" font-family=\"Times,serif\" font-size=\"14.00\">data: &#45;0.5499</text>\n<polyline fill=\"none\" stroke=\"black\" points=\"2385,-291.5 2385,-327.5 \"/>\n<text text-anchor=\"middle\" x=\"2428\" y=\"-305.8\" font-family=\"Times,serif\" font-size=\"14.00\">grad: 0.0000</text>\n</g>\n<!-- 139930545003920&#45;&gt;139930132801376+ -->\n<g id=\"edge36\" class=\"edge\">\n<title>139930545003920&#45;&gt;139930132801376+</title>\n<path fill=\"none\" stroke=\"black\" d=\"M2456.83,-291.49C2471.58,-289.56 2485.48,-287.73 2497.26,-286.19\"/>\n<polygon fill=\"black\" stroke=\"black\" points=\"2497.99,-289.62 2507.45,-284.85 2497.08,-282.68 2497.99,-289.62\"/>\n</g>\n<!-- 139930545003920tanh&#45;&gt;139930545003920 -->\n<g id=\"edge8\" class=\"edge\">\n<title>139930545003920tanh&#45;&gt;139930545003920</title>\n<path fill=\"none\" stroke=\"black\" d=\"M2130.18,-309.5C2137.62,-309.5 2146.3,-309.5 2155.78,-309.5\"/>\n<polygon fill=\"black\" stroke=\"black\" points=\"2155.93,-313 2165.93,-309.5 2155.93,-306 2155.93,-313\"/>\n</g>\n<!-- 139930132801088 -->\n<g id=\"node28\" class=\"node\">\n<title>139930132801088</title>\n<polygon fill=\"none\" stroke=\"black\" points=\"1357,-165.5 1357,-201.5 1547,-201.5 1547,-165.5 1357,-165.5\"/>\n<text text-anchor=\"middle\" x=\"1367\" y=\"-179.8\" font-family=\"Times,serif\" font-size=\"14.00\"> </text>\n<polyline fill=\"none\" stroke=\"black\" points=\"1377,-165.5 1377,-201.5 \"/>\n<text text-anchor=\"middle\" x=\"1419\" y=\"-179.8\" font-family=\"Times,serif\" font-size=\"14.00\">data: 2.3629</text>\n<polyline fill=\"none\" stroke=\"black\" points=\"1461,-165.5 1461,-201.5 \"/>\n<text text-anchor=\"middle\" x=\"1504\" y=\"-179.8\" font-family=\"Times,serif\" font-size=\"14.00\">grad: 0.0000</text>\n</g>\n<!-- 139930132801088&#45;&gt;139930132801712+ -->\n<g id=\"edge14\" class=\"edge\">\n<title>139930132801088&#45;&gt;139930132801712+</title>\n<path fill=\"none\" stroke=\"black\" d=\"M1547.21,-199.85C1564.59,-203.72 1582.47,-208.27 1599,-213.5 1609.49,-216.82 1620.62,-221.33 1630.5,-225.72\"/>\n<polygon fill=\"black\" stroke=\"black\" points=\"1629.35,-229.04 1639.9,-230.01 1632.26,-222.67 1629.35,-229.04\"/>\n</g>\n<!-- 139930132801088+ -->\n<g id=\"node29\" class=\"node\">\n<title>139930132801088+</title>\n<ellipse fill=\"none\" stroke=\"black\" cx=\"1242\" cy=\"-156.5\" rx=\"27\" ry=\"18\"/>\n<text text-anchor=\"middle\" x=\"1242\" y=\"-152.8\" font-family=\"Times,serif\" font-size=\"14.00\">+</text>\n</g>\n<!-- 139930132801088+&#45;&gt;139930132801088 -->\n<g id=\"edge9\" class=\"edge\">\n<title>139930132801088+&#45;&gt;139930132801088</title>\n<path fill=\"none\" stroke=\"black\" d=\"M1268.92,-159.86C1288.8,-162.44 1317.63,-166.19 1346.52,-169.94\"/>\n<polygon fill=\"black\" stroke=\"black\" points=\"1346.36,-173.45 1356.72,-171.26 1347.26,-166.5 1346.36,-173.45\"/>\n</g>\n<!-- 139930132801136 -->\n<g id=\"node30\" class=\"node\">\n<title>139930132801136</title>\n<polygon fill=\"none\" stroke=\"black\" points=\"870,-138.5 870,-174.5 1179,-174.5 1179,-138.5 870,-138.5\"/>\n<text text-anchor=\"middle\" x=\"939.5\" y=\"-152.8\" font-family=\"Times,serif\" font-size=\"14.00\">noob_layer N:0 : den1</text>\n<polyline fill=\"none\" stroke=\"black\" points=\"1009,-138.5 1009,-174.5 \"/>\n<text text-anchor=\"middle\" x=\"1051\" y=\"-152.8\" font-family=\"Times,serif\" font-size=\"14.00\">data: 2.8312</text>\n<polyline fill=\"none\" stroke=\"black\" points=\"1093,-138.5 1093,-174.5 \"/>\n<text text-anchor=\"middle\" x=\"1136\" y=\"-152.8\" font-family=\"Times,serif\" font-size=\"14.00\">grad: 0.0000</text>\n</g>\n<!-- 139930132801136&#45;&gt;139930132801088+ -->\n<g id=\"edge22\" class=\"edge\">\n<title>139930132801136&#45;&gt;139930132801088+</title>\n<path fill=\"none\" stroke=\"black\" d=\"M1179.25,-156.5C1188.31,-156.5 1196.83,-156.5 1204.49,-156.5\"/>\n<polygon fill=\"black\" stroke=\"black\" points=\"1204.7,-160 1214.7,-156.5 1204.7,-153 1204.7,-160\"/>\n</g>\n<!-- 139930132801136*&#45;&gt;139930132801136 -->\n<g id=\"edge10\" class=\"edge\">\n<title>139930132801136*&#45;&gt;139930132801136</title>\n<path fill=\"none\" stroke=\"black\" d=\"M834.42,-156.5C841.69,-156.5 850.13,-156.5 859.34,-156.5\"/>\n<polygon fill=\"black\" stroke=\"black\" points=\"859.61,-160 869.61,-156.5 859.61,-153 859.61,-160\"/>\n</g>\n<!-- 139930132801280 -->\n<g id=\"node32\" class=\"node\">\n<title>139930132801280</title>\n<polygon fill=\"none\" stroke=\"black\" points=\"439,-137.5 439,-173.5 735,-173.5 735,-137.5 439,-137.5\"/>\n<text text-anchor=\"middle\" x=\"502\" y=\"-151.8\" font-family=\"Times,serif\" font-size=\"14.00\">noob_layer N:0 : x1</text>\n<polyline fill=\"none\" stroke=\"black\" points=\"565,-137.5 565,-173.5 \"/>\n<text text-anchor=\"middle\" x=\"607\" y=\"-151.8\" font-family=\"Times,serif\" font-size=\"14.00\">data: 3.0000</text>\n<polyline fill=\"none\" stroke=\"black\" points=\"649,-137.5 649,-173.5 \"/>\n<text text-anchor=\"middle\" x=\"692\" y=\"-151.8\" font-family=\"Times,serif\" font-size=\"14.00\">grad: 0.0000</text>\n</g>\n<!-- 139930132801280&#45;&gt;139930132801136* -->\n<g id=\"edge21\" class=\"edge\">\n<title>139930132801280&#45;&gt;139930132801136*</title>\n<path fill=\"none\" stroke=\"black\" d=\"M735.22,-156.18C747.82,-156.23 759.64,-156.29 769.88,-156.33\"/>\n<polygon fill=\"black\" stroke=\"black\" points=\"769.93,-159.83 779.94,-156.38 769.96,-152.83 769.93,-159.83\"/>\n</g>\n<!-- 139930132801328 -->\n<g id=\"node33\" class=\"node\">\n<title>139930132801328</title>\n<polygon fill=\"none\" stroke=\"black\" points=\"927,-83.5 927,-119.5 1122,-119.5 1122,-83.5 927,-83.5\"/>\n<text text-anchor=\"middle\" x=\"937\" y=\"-97.8\" font-family=\"Times,serif\" font-size=\"14.00\"> </text>\n<polyline fill=\"none\" stroke=\"black\" points=\"947,-83.5 947,-119.5 \"/>\n<text text-anchor=\"middle\" x=\"991.5\" y=\"-97.8\" font-family=\"Times,serif\" font-size=\"14.00\">data: &#45;0.4683</text>\n<polyline fill=\"none\" stroke=\"black\" points=\"1036,-83.5 1036,-119.5 \"/>\n<text text-anchor=\"middle\" x=\"1079\" y=\"-97.8\" font-family=\"Times,serif\" font-size=\"14.00\">grad: 0.0000</text>\n</g>\n<!-- 139930132801328&#45;&gt;139930132801088+ -->\n<g id=\"edge32\" class=\"edge\">\n<title>139930132801328&#45;&gt;139930132801088+</title>\n<path fill=\"none\" stroke=\"black\" d=\"M1122.12,-115.62C1141.16,-119.38 1160.86,-123.98 1179,-129.5 1189.53,-132.71 1200.66,-137.18 1210.54,-141.57\"/>\n<polygon fill=\"black\" stroke=\"black\" points=\"1209.39,-144.9 1219.94,-145.88 1212.31,-138.53 1209.39,-144.9\"/>\n</g>\n<!-- 139930132801328+&#45;&gt;139930132801328 -->\n<g id=\"edge11\" class=\"edge\">\n<title>139930132801328+&#45;&gt;139930132801328</title>\n<path fill=\"none\" stroke=\"black\" d=\"M834.42,-100.62C855.33,-100.72 885.99,-100.86 916.57,-101\"/>\n<polygon fill=\"black\" stroke=\"black\" points=\"916.9,-104.51 926.92,-101.05 916.94,-97.51 916.9,-104.51\"/>\n</g>\n<!-- 139930132801376 -->\n<g id=\"node35\" class=\"node\">\n<title>139930132801376</title>\n<polygon fill=\"none\" stroke=\"black\" points=\"2597,-263.5 2597,-299.5 3068,-299.5 3068,-263.5 2597,-263.5\"/>\n<text text-anchor=\"middle\" x=\"2747.5\" y=\"-277.8\" font-family=\"Times,serif\" font-size=\"14.00\">ignore this node! next layer to contd from here on...</text>\n<polyline fill=\"none\" stroke=\"black\" points=\"2898,-263.5 2898,-299.5 \"/>\n<text text-anchor=\"middle\" x=\"2940\" y=\"-277.8\" font-family=\"Times,serif\" font-size=\"14.00\">data: 0.4456</text>\n<polyline fill=\"none\" stroke=\"black\" points=\"2982,-263.5 2982,-299.5 \"/>\n<text text-anchor=\"middle\" x=\"3025\" y=\"-277.8\" font-family=\"Times,serif\" font-size=\"14.00\">grad: 0.0000</text>\n</g>\n<!-- 139930132801376+&#45;&gt;139930132801376 -->\n<g id=\"edge12\" class=\"edge\">\n<title>139930132801376+&#45;&gt;139930132801376</title>\n<path fill=\"none\" stroke=\"black\" d=\"M2561.05,-281.5C2568.47,-281.5 2577.21,-281.5 2586.93,-281.5\"/>\n<polygon fill=\"black\" stroke=\"black\" points=\"2586.95,-285 2596.95,-281.5 2586.95,-278 2586.95,-285\"/>\n</g>\n<!-- 139930545004496 -->\n<g id=\"node37\" class=\"node\">\n<title>139930545004496</title>\n<polygon fill=\"none\" stroke=\"black\" points=\"1354.5,-301.5 1354.5,-337.5 1549.5,-337.5 1549.5,-301.5 1354.5,-301.5\"/>\n<text text-anchor=\"middle\" x=\"1364.5\" y=\"-315.8\" font-family=\"Times,serif\" font-size=\"14.00\"> </text>\n<polyline fill=\"none\" stroke=\"black\" points=\"1374.5,-301.5 1374.5,-337.5 \"/>\n<text text-anchor=\"middle\" x=\"1419\" y=\"-315.8\" font-family=\"Times,serif\" font-size=\"14.00\">data: &#45;0.2927</text>\n<polyline fill=\"none\" stroke=\"black\" points=\"1463.5,-301.5 1463.5,-337.5 \"/>\n<text text-anchor=\"middle\" x=\"1506.5\" y=\"-315.8\" font-family=\"Times,serif\" font-size=\"14.00\">grad: 0.0000</text>\n</g>\n<!-- 139930545004496&#45;&gt;139930545002864+ -->\n<g id=\"edge19\" class=\"edge\">\n<title>139930545004496&#45;&gt;139930545002864+</title>\n<path fill=\"none\" stroke=\"black\" d=\"M1549.69,-319.5C1576.38,-319.5 1603.7,-319.5 1624.6,-319.5\"/>\n<polygon fill=\"black\" stroke=\"black\" points=\"1624.61,-323 1634.61,-319.5 1624.61,-316 1624.61,-323\"/>\n</g>\n<!-- 139930545004496+&#45;&gt;139930545004496 -->\n<g id=\"edge13\" class=\"edge\">\n<title>139930545004496+&#45;&gt;139930545004496</title>\n<path fill=\"none\" stroke=\"black\" d=\"M1269.34,-320.37C1288.62,-320.28 1316.17,-320.15 1344,-320.01\"/>\n<polygon fill=\"black\" stroke=\"black\" points=\"1344.27,-323.51 1354.25,-319.97 1344.24,-316.51 1344.27,-323.51\"/>\n</g>\n</g>\n</svg>\n",
            "text/plain": [
              "<graphviz.graphs.Digraph at 0x7f4405dbe1c0>"
            ]
          },
          "metadata": {},
          "execution_count": 7
        }
      ]
    },
    {
      "cell_type": "code",
      "source": [
        "# isn't it beautiful and interesting? we can visualize the entire layer!!"
      ],
      "metadata": {
        "id": "Vc4wlAJuTmkK"
      },
      "execution_count": 8,
      "outputs": []
    },
    {
      "cell_type": "code",
      "source": [],
      "metadata": {
        "id": "lPX2VggMfHpo"
      },
      "execution_count": 8,
      "outputs": []
    },
    {
      "cell_type": "code",
      "source": [
        "# and... here goes much more efficient and optimized implementation"
      ],
      "metadata": {
        "id": "ZwTSdG3XePJa"
      },
      "execution_count": 9,
      "outputs": []
    },
    {
      "cell_type": "code",
      "source": [
        "# original micrograd Neuron that is similar to PyTorch API\n",
        "\n",
        "class Neuron:\n",
        "\n",
        "    def __init__(self, nin) -> None:\n",
        "        self.w = [Value(random.uniform(-1,1)) for _ in range(nin)]\n",
        "        self.b = Value(random.uniform(-1,1))\n",
        "\n",
        "    def __call__(self, x):\n",
        "        # out = f( sum(weights.input_xs + bias) )\n",
        "        body = sum((wi * xi for wi, xi in zip(self.w, x)), self.b)\n",
        "        out = body.tanh()\n",
        "        return out\n",
        "\n",
        "class Layer:\n",
        "\n",
        "    def __init__(self, nin, nout) -> None:\n",
        "        self.neurons = [Neuron(nin) for _ in range(nout)]\n",
        "\n",
        "    def __call__(self, x):\n",
        "        outs = [n(x) for n in self.neurons]\n",
        "        return outs"
      ],
      "metadata": {
        "id": "eKpo3Uz2ePnw"
      },
      "execution_count": 10,
      "outputs": []
    },
    {
      "cell_type": "code",
      "source": [
        "# let's test by building a layer with 2 neurons, having input feed in from prev layer that also had 2 neurons\n",
        "x = [2.0, 3.0]\n",
        "l = Layer(2, 2)\n",
        "l = l(x)\n",
        "\n",
        "# let's just join out from both these layers \n",
        "# for the sake of visualizing the expression graph\n",
        "# (in actual nn, we will have multiple layers connected to meet the output layer, which is another layer of neurons)\n",
        "output = l[0] + l[1]\n",
        "draw_dot(output)"
      ],
      "metadata": {
        "colab": {
          "base_uri": "https://localhost:8080/",
          "height": 615
        },
        "id": "4lIwdhqCeyfO",
        "outputId": "336cea79-38fe-4878-998b-b22433ad31ff"
      },
      "execution_count": 11,
      "outputs": [
        {
          "output_type": "execute_result",
          "data": {
            "image/svg+xml": "<?xml version=\"1.0\" encoding=\"UTF-8\" standalone=\"no\"?>\n<!DOCTYPE svg PUBLIC \"-//W3C//DTD SVG 1.1//EN\"\n \"http://www.w3.org/Graphics/SVG/1.1/DTD/svg11.dtd\">\n<!-- Generated by graphviz version 2.43.0 (0)\n -->\n<!-- Title: %3 Pages: 1 -->\n<svg width=\"1808pt\" height=\"430pt\"\n viewBox=\"0.00 0.00 1808.00 430.00\" xmlns=\"http://www.w3.org/2000/svg\" xmlns:xlink=\"http://www.w3.org/1999/xlink\">\n<g id=\"graph0\" class=\"graph\" transform=\"scale(1 1) rotate(0) translate(4 426)\">\n<title>%3</title>\n<polygon fill=\"white\" stroke=\"transparent\" points=\"-4,4 -4,-426 1804,-426 1804,4 -4,4\"/>\n<!-- 139930132791360 -->\n<g id=\"node1\" class=\"node\">\n<title>139930132791360</title>\n<polygon fill=\"none\" stroke=\"black\" points=\"965.5,-162.5 965.5,-198.5 1155.5,-198.5 1155.5,-162.5 965.5,-162.5\"/>\n<text text-anchor=\"middle\" x=\"975.5\" y=\"-176.8\" font-family=\"Times,serif\" font-size=\"14.00\"> </text>\n<polyline fill=\"none\" stroke=\"black\" points=\"985.5,-162.5 985.5,-198.5 \"/>\n<text text-anchor=\"middle\" x=\"1027.5\" y=\"-176.8\" font-family=\"Times,serif\" font-size=\"14.00\">data: 1.6997</text>\n<polyline fill=\"none\" stroke=\"black\" points=\"1069.5,-162.5 1069.5,-198.5 \"/>\n<text text-anchor=\"middle\" x=\"1112.5\" y=\"-176.8\" font-family=\"Times,serif\" font-size=\"14.00\">grad: 0.0000</text>\n</g>\n<!-- 139930132793232tanh -->\n<g id=\"node32\" class=\"node\">\n<title>139930132793232tanh</title>\n<ellipse fill=\"none\" stroke=\"black\" cx=\"1221\" cy=\"-180.5\" rx=\"27\" ry=\"18\"/>\n<text text-anchor=\"middle\" x=\"1221\" y=\"-176.8\" font-family=\"Times,serif\" font-size=\"14.00\">tanh</text>\n</g>\n<!-- 139930132791360&#45;&gt;139930132793232tanh -->\n<g id=\"edge25\" class=\"edge\">\n<title>139930132791360&#45;&gt;139930132793232tanh</title>\n<path fill=\"none\" stroke=\"black\" d=\"M1155.53,-180.5C1165.48,-180.5 1175.11,-180.5 1183.76,-180.5\"/>\n<polygon fill=\"black\" stroke=\"black\" points=\"1183.78,-184 1193.78,-180.5 1183.78,-177 1183.78,-184\"/>\n</g>\n<!-- 139930132791360+ -->\n<g id=\"node2\" class=\"node\">\n<title>139930132791360+</title>\n<ellipse fill=\"none\" stroke=\"black\" cx=\"900\" cy=\"-169.5\" rx=\"27\" ry=\"18\"/>\n<text text-anchor=\"middle\" x=\"900\" y=\"-165.8\" font-family=\"Times,serif\" font-size=\"14.00\">+</text>\n</g>\n<!-- 139930132791360+&#45;&gt;139930132791360 -->\n<g id=\"edge1\" class=\"edge\">\n<title>139930132791360+&#45;&gt;139930132791360</title>\n<path fill=\"none\" stroke=\"black\" d=\"M927.17,-171.32C935.44,-171.89 945.12,-172.56 955.43,-173.28\"/>\n<polygon fill=\"black\" stroke=\"black\" points=\"955.26,-176.77 965.48,-173.98 955.75,-169.79 955.26,-176.77\"/>\n</g>\n<!-- 139930132928640 -->\n<g id=\"node3\" class=\"node\">\n<title>139930132928640</title>\n<polygon fill=\"none\" stroke=\"black\" points=\"642,-320.5 642,-356.5 837,-356.5 837,-320.5 642,-320.5\"/>\n<text text-anchor=\"middle\" x=\"652\" y=\"-334.8\" font-family=\"Times,serif\" font-size=\"14.00\"> </text>\n<polyline fill=\"none\" stroke=\"black\" points=\"662,-320.5 662,-356.5 \"/>\n<text text-anchor=\"middle\" x=\"706.5\" y=\"-334.8\" font-family=\"Times,serif\" font-size=\"14.00\">data: &#45;2.2567</text>\n<polyline fill=\"none\" stroke=\"black\" points=\"751,-320.5 751,-356.5 \"/>\n<text text-anchor=\"middle\" x=\"794\" y=\"-334.8\" font-family=\"Times,serif\" font-size=\"14.00\">grad: 0.0000</text>\n</g>\n<!-- 139930132927008+ -->\n<g id=\"node9\" class=\"node\">\n<title>139930132927008+</title>\n<ellipse fill=\"none\" stroke=\"black\" cx=\"900\" cy=\"-276.5\" rx=\"27\" ry=\"18\"/>\n<text text-anchor=\"middle\" x=\"900\" y=\"-272.8\" font-family=\"Times,serif\" font-size=\"14.00\">+</text>\n</g>\n<!-- 139930132928640&#45;&gt;139930132927008+ -->\n<g id=\"edge28\" class=\"edge\">\n<title>139930132928640&#45;&gt;139930132927008+</title>\n<path fill=\"none\" stroke=\"black\" d=\"M794.4,-320.42C808.36,-315.49 823.32,-309.99 837,-304.5 847.38,-300.33 858.57,-295.42 868.55,-290.88\"/>\n<polygon fill=\"black\" stroke=\"black\" points=\"870.05,-294.04 877.67,-286.67 867.13,-287.68 870.05,-294.04\"/>\n</g>\n<!-- 139930132928640* -->\n<g id=\"node4\" class=\"node\">\n<title>139930132928640*</title>\n<ellipse fill=\"none\" stroke=\"black\" cx=\"579\" cy=\"-348.5\" rx=\"27\" ry=\"18\"/>\n<text text-anchor=\"middle\" x=\"579\" y=\"-344.8\" font-family=\"Times,serif\" font-size=\"14.00\">*</text>\n</g>\n<!-- 139930132928640*&#45;&gt;139930132928640 -->\n<g id=\"edge2\" class=\"edge\">\n<title>139930132928640*&#45;&gt;139930132928640</title>\n<path fill=\"none\" stroke=\"black\" d=\"M606.17,-346.85C613.66,-346.38 622.32,-345.83 631.56,-345.25\"/>\n<polygon fill=\"black\" stroke=\"black\" points=\"632.02,-348.73 641.78,-344.6 631.58,-341.74 632.02,-348.73\"/>\n</g>\n<!-- 139930132791456 -->\n<g id=\"node5\" class=\"node\">\n<title>139930132791456</title>\n<polygon fill=\"none\" stroke=\"black\" points=\"323.5,-165.5 323.5,-201.5 513.5,-201.5 513.5,-165.5 323.5,-165.5\"/>\n<text text-anchor=\"middle\" x=\"333.5\" y=\"-179.8\" font-family=\"Times,serif\" font-size=\"14.00\"> </text>\n<polyline fill=\"none\" stroke=\"black\" points=\"343.5,-165.5 343.5,-201.5 \"/>\n<text text-anchor=\"middle\" x=\"385.5\" y=\"-179.8\" font-family=\"Times,serif\" font-size=\"14.00\">data: 3.0000</text>\n<polyline fill=\"none\" stroke=\"black\" points=\"427.5,-165.5 427.5,-201.5 \"/>\n<text text-anchor=\"middle\" x=\"470.5\" y=\"-179.8\" font-family=\"Times,serif\" font-size=\"14.00\">grad: 0.0000</text>\n</g>\n<!-- 139930132792224* -->\n<g id=\"node17\" class=\"node\">\n<title>139930132792224*</title>\n<ellipse fill=\"none\" stroke=\"black\" cx=\"579\" cy=\"-169.5\" rx=\"27\" ry=\"18\"/>\n<text text-anchor=\"middle\" x=\"579\" y=\"-165.8\" font-family=\"Times,serif\" font-size=\"14.00\">*</text>\n</g>\n<!-- 139930132791456&#45;&gt;139930132792224* -->\n<g id=\"edge23\" class=\"edge\">\n<title>139930132791456&#45;&gt;139930132792224*</title>\n<path fill=\"none\" stroke=\"black\" d=\"M513.53,-175.19C523.58,-174.31 533.3,-173.45 542.01,-172.68\"/>\n<polygon fill=\"black\" stroke=\"black\" points=\"542.44,-176.15 552.09,-171.79 541.82,-169.18 542.44,-176.15\"/>\n</g>\n<!-- 139930132926720 -->\n<g id=\"node6\" class=\"node\">\n<title>139930132926720</title>\n<polygon fill=\"none\" stroke=\"black\" points=\"323.5,-385.5 323.5,-421.5 513.5,-421.5 513.5,-385.5 323.5,-385.5\"/>\n<text text-anchor=\"middle\" x=\"333.5\" y=\"-399.8\" font-family=\"Times,serif\" font-size=\"14.00\"> </text>\n<polyline fill=\"none\" stroke=\"black\" points=\"343.5,-385.5 343.5,-421.5 \"/>\n<text text-anchor=\"middle\" x=\"385.5\" y=\"-399.8\" font-family=\"Times,serif\" font-size=\"14.00\">data: 3.0000</text>\n<polyline fill=\"none\" stroke=\"black\" points=\"427.5,-385.5 427.5,-421.5 \"/>\n<text text-anchor=\"middle\" x=\"470.5\" y=\"-399.8\" font-family=\"Times,serif\" font-size=\"14.00\">grad: 0.0000</text>\n</g>\n<!-- 139930132926720&#45;&gt;139930132928640* -->\n<g id=\"edge31\" class=\"edge\">\n<title>139930132926720&#45;&gt;139930132928640*</title>\n<path fill=\"none\" stroke=\"black\" d=\"M488.96,-385.43C498.12,-382.65 507.33,-379.65 516,-376.5 526.52,-372.68 537.74,-367.85 547.7,-363.29\"/>\n<polygon fill=\"black\" stroke=\"black\" points=\"549.23,-366.44 556.81,-359.03 546.27,-360.09 549.23,-366.44\"/>\n</g>\n<!-- 139930132929024 -->\n<g id=\"node7\" class=\"node\">\n<title>139930132929024</title>\n<polygon fill=\"none\" stroke=\"black\" points=\"0,-248.5 0,-284.5 195,-284.5 195,-248.5 0,-248.5\"/>\n<text text-anchor=\"middle\" x=\"10\" y=\"-262.8\" font-family=\"Times,serif\" font-size=\"14.00\"> </text>\n<polyline fill=\"none\" stroke=\"black\" points=\"20,-248.5 20,-284.5 \"/>\n<text text-anchor=\"middle\" x=\"64.5\" y=\"-262.8\" font-family=\"Times,serif\" font-size=\"14.00\">data: &#45;0.7999</text>\n<polyline fill=\"none\" stroke=\"black\" points=\"109,-248.5 109,-284.5 \"/>\n<text text-anchor=\"middle\" x=\"152\" y=\"-262.8\" font-family=\"Times,serif\" font-size=\"14.00\">grad: 0.0000</text>\n</g>\n<!-- 139930132929504* -->\n<g id=\"node23\" class=\"node\">\n<title>139930132929504*</title>\n<ellipse fill=\"none\" stroke=\"black\" cx=\"258\" cy=\"-238.5\" rx=\"27\" ry=\"18\"/>\n<text text-anchor=\"middle\" x=\"258\" y=\"-234.8\" font-family=\"Times,serif\" font-size=\"14.00\">*</text>\n</g>\n<!-- 139930132929024&#45;&gt;139930132929504* -->\n<g id=\"edge26\" class=\"edge\">\n<title>139930132929024&#45;&gt;139930132929504*</title>\n<path fill=\"none\" stroke=\"black\" d=\"M195.27,-249.41C204.59,-247.76 213.57,-246.17 221.66,-244.74\"/>\n<polygon fill=\"black\" stroke=\"black\" points=\"222.49,-248.15 231.73,-242.96 221.28,-241.26 222.49,-248.15\"/>\n</g>\n<!-- 139930132927008 -->\n<g id=\"node8\" class=\"node\">\n<title>139930132927008</title>\n<polygon fill=\"none\" stroke=\"black\" points=\"963,-244.5 963,-280.5 1158,-280.5 1158,-244.5 963,-244.5\"/>\n<text text-anchor=\"middle\" x=\"973\" y=\"-258.8\" font-family=\"Times,serif\" font-size=\"14.00\"> </text>\n<polyline fill=\"none\" stroke=\"black\" points=\"983,-244.5 983,-280.5 \"/>\n<text text-anchor=\"middle\" x=\"1027.5\" y=\"-258.8\" font-family=\"Times,serif\" font-size=\"14.00\">data: &#45;4.2498</text>\n<polyline fill=\"none\" stroke=\"black\" points=\"1072,-244.5 1072,-280.5 \"/>\n<text text-anchor=\"middle\" x=\"1115\" y=\"-258.8\" font-family=\"Times,serif\" font-size=\"14.00\">grad: 0.0000</text>\n</g>\n<!-- 139930132927104tanh -->\n<g id=\"node12\" class=\"node\">\n<title>139930132927104tanh</title>\n<ellipse fill=\"none\" stroke=\"black\" cx=\"1221\" cy=\"-235.5\" rx=\"27\" ry=\"18\"/>\n<text text-anchor=\"middle\" x=\"1221\" y=\"-231.8\" font-family=\"Times,serif\" font-size=\"14.00\">tanh</text>\n</g>\n<!-- 139930132927008&#45;&gt;139930132927104tanh -->\n<g id=\"edge13\" class=\"edge\">\n<title>139930132927008&#45;&gt;139930132927104tanh</title>\n<path fill=\"none\" stroke=\"black\" d=\"M1158.27,-246.02C1167.59,-244.43 1176.57,-242.9 1184.66,-241.52\"/>\n<polygon fill=\"black\" stroke=\"black\" points=\"1185.46,-244.93 1194.73,-239.8 1184.29,-238.03 1185.46,-244.93\"/>\n</g>\n<!-- 139930132927008+&#45;&gt;139930132927008 -->\n<g id=\"edge3\" class=\"edge\">\n<title>139930132927008+&#45;&gt;139930132927008</title>\n<path fill=\"none\" stroke=\"black\" d=\"M926.82,-274.22C934.44,-273.55 943.29,-272.76 952.73,-271.93\"/>\n<polygon fill=\"black\" stroke=\"black\" points=\"953.11,-275.41 962.76,-271.04 952.49,-268.44 953.11,-275.41\"/>\n</g>\n<!-- 139930132929120 -->\n<g id=\"node10\" class=\"node\">\n<title>139930132929120</title>\n<polygon fill=\"none\" stroke=\"black\" points=\"321,-330.5 321,-366.5 516,-366.5 516,-330.5 321,-330.5\"/>\n<text text-anchor=\"middle\" x=\"331\" y=\"-344.8\" font-family=\"Times,serif\" font-size=\"14.00\"> </text>\n<polyline fill=\"none\" stroke=\"black\" points=\"341,-330.5 341,-366.5 \"/>\n<text text-anchor=\"middle\" x=\"385.5\" y=\"-344.8\" font-family=\"Times,serif\" font-size=\"14.00\">data: &#45;0.7522</text>\n<polyline fill=\"none\" stroke=\"black\" points=\"430,-330.5 430,-366.5 \"/>\n<text text-anchor=\"middle\" x=\"473\" y=\"-344.8\" font-family=\"Times,serif\" font-size=\"14.00\">grad: 0.0000</text>\n</g>\n<!-- 139930132929120&#45;&gt;139930132928640* -->\n<g id=\"edge29\" class=\"edge\">\n<title>139930132929120&#45;&gt;139930132928640*</title>\n<path fill=\"none\" stroke=\"black\" d=\"M516.27,-348.5C525.22,-348.5 533.85,-348.5 541.69,-348.5\"/>\n<polygon fill=\"black\" stroke=\"black\" points=\"541.83,-352 551.83,-348.5 541.83,-345 541.83,-352\"/>\n</g>\n<!-- 139930132927104 -->\n<g id=\"node11\" class=\"node\">\n<title>139930132927104</title>\n<polygon fill=\"none\" stroke=\"black\" points=\"1284,-217.5 1284,-253.5 1479,-253.5 1479,-217.5 1284,-217.5\"/>\n<text text-anchor=\"middle\" x=\"1294\" y=\"-231.8\" font-family=\"Times,serif\" font-size=\"14.00\"> </text>\n<polyline fill=\"none\" stroke=\"black\" points=\"1304,-217.5 1304,-253.5 \"/>\n<text text-anchor=\"middle\" x=\"1348.5\" y=\"-231.8\" font-family=\"Times,serif\" font-size=\"14.00\">data: &#45;0.9996</text>\n<polyline fill=\"none\" stroke=\"black\" points=\"1393,-217.5 1393,-253.5 \"/>\n<text text-anchor=\"middle\" x=\"1436\" y=\"-231.8\" font-family=\"Times,serif\" font-size=\"14.00\">grad: 0.0000</text>\n</g>\n<!-- 139930132929168+ -->\n<g id=\"node14\" class=\"node\">\n<title>139930132929168+</title>\n<ellipse fill=\"none\" stroke=\"black\" cx=\"1542\" cy=\"-207.5\" rx=\"27\" ry=\"18\"/>\n<text text-anchor=\"middle\" x=\"1542\" y=\"-203.8\" font-family=\"Times,serif\" font-size=\"14.00\">+</text>\n</g>\n<!-- 139930132927104&#45;&gt;139930132929168+ -->\n<g id=\"edge15\" class=\"edge\">\n<title>139930132927104&#45;&gt;139930132929168+</title>\n<path fill=\"none\" stroke=\"black\" d=\"M1479.27,-218.41C1488.59,-216.76 1497.57,-215.17 1505.66,-213.74\"/>\n<polygon fill=\"black\" stroke=\"black\" points=\"1506.49,-217.15 1515.73,-211.96 1505.28,-210.26 1506.49,-217.15\"/>\n</g>\n<!-- 139930132927104tanh&#45;&gt;139930132927104 -->\n<g id=\"edge4\" class=\"edge\">\n<title>139930132927104tanh&#45;&gt;139930132927104</title>\n<path fill=\"none\" stroke=\"black\" d=\"M1248.17,-235.5C1255.66,-235.5 1264.32,-235.5 1273.56,-235.5\"/>\n<polygon fill=\"black\" stroke=\"black\" points=\"1273.78,-239 1283.78,-235.5 1273.78,-232 1273.78,-239\"/>\n</g>\n<!-- 139930132929168 -->\n<g id=\"node13\" class=\"node\">\n<title>139930132929168</title>\n<polygon fill=\"none\" stroke=\"black\" points=\"1605,-189.5 1605,-225.5 1800,-225.5 1800,-189.5 1605,-189.5\"/>\n<text text-anchor=\"middle\" x=\"1615\" y=\"-203.8\" font-family=\"Times,serif\" font-size=\"14.00\"> </text>\n<polyline fill=\"none\" stroke=\"black\" points=\"1625,-189.5 1625,-225.5 \"/>\n<text text-anchor=\"middle\" x=\"1669.5\" y=\"-203.8\" font-family=\"Times,serif\" font-size=\"14.00\">data: &#45;0.0642</text>\n<polyline fill=\"none\" stroke=\"black\" points=\"1714,-189.5 1714,-225.5 \"/>\n<text text-anchor=\"middle\" x=\"1757\" y=\"-203.8\" font-family=\"Times,serif\" font-size=\"14.00\">grad: 0.0000</text>\n</g>\n<!-- 139930132929168+&#45;&gt;139930132929168 -->\n<g id=\"edge5\" class=\"edge\">\n<title>139930132929168+&#45;&gt;139930132929168</title>\n<path fill=\"none\" stroke=\"black\" d=\"M1569.17,-207.5C1576.66,-207.5 1585.32,-207.5 1594.56,-207.5\"/>\n<polygon fill=\"black\" stroke=\"black\" points=\"1594.78,-211 1604.78,-207.5 1594.78,-204 1594.78,-211\"/>\n</g>\n<!-- 139930132929216 -->\n<g id=\"node15\" class=\"node\">\n<title>139930132929216</title>\n<polygon fill=\"none\" stroke=\"black\" points=\"321,-275.5 321,-311.5 516,-311.5 516,-275.5 321,-275.5\"/>\n<text text-anchor=\"middle\" x=\"331\" y=\"-289.8\" font-family=\"Times,serif\" font-size=\"14.00\"> </text>\n<polyline fill=\"none\" stroke=\"black\" points=\"341,-275.5 341,-311.5 \"/>\n<text text-anchor=\"middle\" x=\"385.5\" y=\"-289.8\" font-family=\"Times,serif\" font-size=\"14.00\">data: &#45;0.3933</text>\n<polyline fill=\"none\" stroke=\"black\" points=\"430,-275.5 430,-311.5 \"/>\n<text text-anchor=\"middle\" x=\"473\" y=\"-289.8\" font-family=\"Times,serif\" font-size=\"14.00\">grad: 0.0000</text>\n</g>\n<!-- 139930132930224+ -->\n<g id=\"node28\" class=\"node\">\n<title>139930132930224+</title>\n<ellipse fill=\"none\" stroke=\"black\" cx=\"579\" cy=\"-276.5\" rx=\"27\" ry=\"18\"/>\n<text text-anchor=\"middle\" x=\"579\" y=\"-272.8\" font-family=\"Times,serif\" font-size=\"14.00\">+</text>\n</g>\n<!-- 139930132929216&#45;&gt;139930132930224+ -->\n<g id=\"edge22\" class=\"edge\">\n<title>139930132929216&#45;&gt;139930132930224+</title>\n<path fill=\"none\" stroke=\"black\" d=\"M516.27,-283.12C525.31,-282.15 534.02,-281.22 541.92,-280.37\"/>\n<polygon fill=\"black\" stroke=\"black\" points=\"542.56,-283.82 552.13,-279.27 541.82,-276.86 542.56,-283.82\"/>\n</g>\n<!-- 139930132792224 -->\n<g id=\"node16\" class=\"node\">\n<title>139930132792224</title>\n<polygon fill=\"none\" stroke=\"black\" points=\"644.5,-151.5 644.5,-187.5 834.5,-187.5 834.5,-151.5 644.5,-151.5\"/>\n<text text-anchor=\"middle\" x=\"654.5\" y=\"-165.8\" font-family=\"Times,serif\" font-size=\"14.00\"> </text>\n<polyline fill=\"none\" stroke=\"black\" points=\"664.5,-151.5 664.5,-187.5 \"/>\n<text text-anchor=\"middle\" x=\"706.5\" y=\"-165.8\" font-family=\"Times,serif\" font-size=\"14.00\">data: 1.3102</text>\n<polyline fill=\"none\" stroke=\"black\" points=\"748.5,-151.5 748.5,-187.5 \"/>\n<text text-anchor=\"middle\" x=\"791.5\" y=\"-165.8\" font-family=\"Times,serif\" font-size=\"14.00\">grad: 0.0000</text>\n</g>\n<!-- 139930132792224&#45;&gt;139930132791360+ -->\n<g id=\"edge19\" class=\"edge\">\n<title>139930132792224&#45;&gt;139930132791360+</title>\n<path fill=\"none\" stroke=\"black\" d=\"M834.53,-169.5C844.48,-169.5 854.11,-169.5 862.76,-169.5\"/>\n<polygon fill=\"black\" stroke=\"black\" points=\"862.78,-173 872.78,-169.5 862.78,-166 862.78,-173\"/>\n</g>\n<!-- 139930132792224*&#45;&gt;139930132792224 -->\n<g id=\"edge6\" class=\"edge\">\n<title>139930132792224*&#45;&gt;139930132792224</title>\n<path fill=\"none\" stroke=\"black\" d=\"M606.17,-169.5C614.44,-169.5 624.12,-169.5 634.43,-169.5\"/>\n<polygon fill=\"black\" stroke=\"black\" points=\"634.48,-173 644.48,-169.5 634.48,-166 634.48,-173\"/>\n</g>\n<!-- 139930132929456 -->\n<g id=\"node18\" class=\"node\">\n<title>139930132929456</title>\n<polygon fill=\"none\" stroke=\"black\" points=\"2.5,-193.5 2.5,-229.5 192.5,-229.5 192.5,-193.5 2.5,-193.5\"/>\n<text text-anchor=\"middle\" x=\"12.5\" y=\"-207.8\" font-family=\"Times,serif\" font-size=\"14.00\"> </text>\n<polyline fill=\"none\" stroke=\"black\" points=\"22.5,-193.5 22.5,-229.5 \"/>\n<text text-anchor=\"middle\" x=\"64.5\" y=\"-207.8\" font-family=\"Times,serif\" font-size=\"14.00\">data: 2.0000</text>\n<polyline fill=\"none\" stroke=\"black\" points=\"106.5,-193.5 106.5,-229.5 \"/>\n<text text-anchor=\"middle\" x=\"149.5\" y=\"-207.8\" font-family=\"Times,serif\" font-size=\"14.00\">grad: 0.0000</text>\n</g>\n<!-- 139930132929456&#45;&gt;139930132929504* -->\n<g id=\"edge21\" class=\"edge\">\n<title>139930132929456&#45;&gt;139930132929504*</title>\n<path fill=\"none\" stroke=\"black\" d=\"M192.53,-227.52C202.88,-229.28 212.88,-230.98 221.79,-232.5\"/>\n<polygon fill=\"black\" stroke=\"black\" points=\"221.26,-235.96 231.71,-234.19 222.44,-229.06 221.26,-235.96\"/>\n</g>\n<!-- 139930132927392 -->\n<g id=\"node19\" class=\"node\">\n<title>139930132927392</title>\n<polygon fill=\"none\" stroke=\"black\" points=\"2.5,-83.5 2.5,-119.5 192.5,-119.5 192.5,-83.5 2.5,-83.5\"/>\n<text text-anchor=\"middle\" x=\"12.5\" y=\"-97.8\" font-family=\"Times,serif\" font-size=\"14.00\"> </text>\n<polyline fill=\"none\" stroke=\"black\" points=\"22.5,-83.5 22.5,-119.5 \"/>\n<text text-anchor=\"middle\" x=\"64.5\" y=\"-97.8\" font-family=\"Times,serif\" font-size=\"14.00\">data: 2.0000</text>\n<polyline fill=\"none\" stroke=\"black\" points=\"106.5,-83.5 106.5,-119.5 \"/>\n<text text-anchor=\"middle\" x=\"149.5\" y=\"-97.8\" font-family=\"Times,serif\" font-size=\"14.00\">grad: 0.0000</text>\n</g>\n<!-- 139930132927440* -->\n<g id=\"node21\" class=\"node\">\n<title>139930132927440*</title>\n<ellipse fill=\"none\" stroke=\"black\" cx=\"258\" cy=\"-73.5\" rx=\"27\" ry=\"18\"/>\n<text text-anchor=\"middle\" x=\"258\" y=\"-69.8\" font-family=\"Times,serif\" font-size=\"14.00\">*</text>\n</g>\n<!-- 139930132927392&#45;&gt;139930132927440* -->\n<g id=\"edge17\" class=\"edge\">\n<title>139930132927392&#45;&gt;139930132927440*</title>\n<path fill=\"none\" stroke=\"black\" d=\"M192.53,-84.89C202.88,-83.06 212.88,-81.29 221.79,-79.72\"/>\n<polygon fill=\"black\" stroke=\"black\" points=\"222.47,-83.15 231.71,-77.97 221.25,-76.26 222.47,-83.15\"/>\n</g>\n<!-- 139930132927440 -->\n<g id=\"node20\" class=\"node\">\n<title>139930132927440</title>\n<polygon fill=\"none\" stroke=\"black\" points=\"323.5,-55.5 323.5,-91.5 513.5,-91.5 513.5,-55.5 323.5,-55.5\"/>\n<text text-anchor=\"middle\" x=\"333.5\" y=\"-69.8\" font-family=\"Times,serif\" font-size=\"14.00\"> </text>\n<polyline fill=\"none\" stroke=\"black\" points=\"343.5,-55.5 343.5,-91.5 \"/>\n<text text-anchor=\"middle\" x=\"385.5\" y=\"-69.8\" font-family=\"Times,serif\" font-size=\"14.00\">data: 0.7872</text>\n<polyline fill=\"none\" stroke=\"black\" points=\"427.5,-55.5 427.5,-91.5 \"/>\n<text text-anchor=\"middle\" x=\"470.5\" y=\"-69.8\" font-family=\"Times,serif\" font-size=\"14.00\">grad: 0.0000</text>\n</g>\n<!-- 139930132793184+ -->\n<g id=\"node30\" class=\"node\">\n<title>139930132793184+</title>\n<ellipse fill=\"none\" stroke=\"black\" cx=\"579\" cy=\"-73.5\" rx=\"27\" ry=\"18\"/>\n<text text-anchor=\"middle\" x=\"579\" y=\"-69.8\" font-family=\"Times,serif\" font-size=\"14.00\">+</text>\n</g>\n<!-- 139930132927440&#45;&gt;139930132793184+ -->\n<g id=\"edge20\" class=\"edge\">\n<title>139930132927440&#45;&gt;139930132793184+</title>\n<path fill=\"none\" stroke=\"black\" d=\"M513.53,-73.5C523.48,-73.5 533.11,-73.5 541.76,-73.5\"/>\n<polygon fill=\"black\" stroke=\"black\" points=\"541.78,-77 551.78,-73.5 541.78,-70 541.78,-77\"/>\n</g>\n<!-- 139930132927440*&#45;&gt;139930132927440 -->\n<g id=\"edge7\" class=\"edge\">\n<title>139930132927440*&#45;&gt;139930132927440</title>\n<path fill=\"none\" stroke=\"black\" d=\"M285.17,-73.5C293.44,-73.5 303.12,-73.5 313.43,-73.5\"/>\n<polygon fill=\"black\" stroke=\"black\" points=\"313.48,-77 323.48,-73.5 313.48,-70 313.48,-77\"/>\n</g>\n<!-- 139930132929504 -->\n<g id=\"node22\" class=\"node\">\n<title>139930132929504</title>\n<polygon fill=\"none\" stroke=\"black\" points=\"321,-220.5 321,-256.5 516,-256.5 516,-220.5 321,-220.5\"/>\n<text text-anchor=\"middle\" x=\"331\" y=\"-234.8\" font-family=\"Times,serif\" font-size=\"14.00\"> </text>\n<polyline fill=\"none\" stroke=\"black\" points=\"341,-220.5 341,-256.5 \"/>\n<text text-anchor=\"middle\" x=\"385.5\" y=\"-234.8\" font-family=\"Times,serif\" font-size=\"14.00\">data: &#45;1.5998</text>\n<polyline fill=\"none\" stroke=\"black\" points=\"430,-220.5 430,-256.5 \"/>\n<text text-anchor=\"middle\" x=\"473\" y=\"-234.8\" font-family=\"Times,serif\" font-size=\"14.00\">grad: 0.0000</text>\n</g>\n<!-- 139930132929504&#45;&gt;139930132930224+ -->\n<g id=\"edge18\" class=\"edge\">\n<title>139930132929504&#45;&gt;139930132930224+</title>\n<path fill=\"none\" stroke=\"black\" d=\"M495.04,-256.61C511.97,-260.67 529.14,-264.79 543.43,-268.21\"/>\n<polygon fill=\"black\" stroke=\"black\" points=\"542.74,-271.65 553.28,-270.57 544.37,-264.84 542.74,-271.65\"/>\n</g>\n<!-- 139930132929504*&#45;&gt;139930132929504 -->\n<g id=\"edge8\" class=\"edge\">\n<title>139930132929504*&#45;&gt;139930132929504</title>\n<path fill=\"none\" stroke=\"black\" d=\"M285.17,-238.5C292.66,-238.5 301.32,-238.5 310.56,-238.5\"/>\n<polygon fill=\"black\" stroke=\"black\" points=\"310.78,-242 320.78,-238.5 310.78,-235 310.78,-242\"/>\n</g>\n<!-- 139930132929840 -->\n<g id=\"node24\" class=\"node\">\n<title>139930132929840</title>\n<polygon fill=\"none\" stroke=\"black\" points=\"321,-0.5 321,-36.5 516,-36.5 516,-0.5 321,-0.5\"/>\n<text text-anchor=\"middle\" x=\"331\" y=\"-14.8\" font-family=\"Times,serif\" font-size=\"14.00\"> </text>\n<polyline fill=\"none\" stroke=\"black\" points=\"341,-0.5 341,-36.5 \"/>\n<text text-anchor=\"middle\" x=\"385.5\" y=\"-14.8\" font-family=\"Times,serif\" font-size=\"14.00\">data: &#45;0.3977</text>\n<polyline fill=\"none\" stroke=\"black\" points=\"430,-0.5 430,-36.5 \"/>\n<text text-anchor=\"middle\" x=\"473\" y=\"-14.8\" font-family=\"Times,serif\" font-size=\"14.00\">grad: 0.0000</text>\n</g>\n<!-- 139930132929840&#45;&gt;139930132793184+ -->\n<g id=\"edge16\" class=\"edge\">\n<title>139930132929840&#45;&gt;139930132793184+</title>\n<path fill=\"none\" stroke=\"black\" d=\"M488.96,-36.57C498.12,-39.35 507.33,-42.35 516,-45.5 526.52,-49.32 537.74,-54.15 547.7,-58.71\"/>\n<polygon fill=\"black\" stroke=\"black\" points=\"546.27,-61.91 556.81,-62.97 549.23,-55.56 546.27,-61.91\"/>\n</g>\n<!-- 139930132929984 -->\n<g id=\"node25\" class=\"node\">\n<title>139930132929984</title>\n<polygon fill=\"none\" stroke=\"black\" points=\"323.5,-110.5 323.5,-146.5 513.5,-146.5 513.5,-110.5 323.5,-110.5\"/>\n<text text-anchor=\"middle\" x=\"333.5\" y=\"-124.8\" font-family=\"Times,serif\" font-size=\"14.00\"> </text>\n<polyline fill=\"none\" stroke=\"black\" points=\"343.5,-110.5 343.5,-146.5 \"/>\n<text text-anchor=\"middle\" x=\"385.5\" y=\"-124.8\" font-family=\"Times,serif\" font-size=\"14.00\">data: 0.4367</text>\n<polyline fill=\"none\" stroke=\"black\" points=\"427.5,-110.5 427.5,-146.5 \"/>\n<text text-anchor=\"middle\" x=\"470.5\" y=\"-124.8\" font-family=\"Times,serif\" font-size=\"14.00\">grad: 0.0000</text>\n</g>\n<!-- 139930132929984&#45;&gt;139930132792224* -->\n<g id=\"edge12\" class=\"edge\">\n<title>139930132929984&#45;&gt;139930132792224*</title>\n<path fill=\"none\" stroke=\"black\" d=\"M489.48,-146.6C508.26,-151.46 527.74,-156.5 543.63,-160.61\"/>\n<polygon fill=\"black\" stroke=\"black\" points=\"542.95,-164.05 553.51,-163.16 544.7,-157.27 542.95,-164.05\"/>\n</g>\n<!-- 139930132930128 -->\n<g id=\"node26\" class=\"node\">\n<title>139930132930128</title>\n<polygon fill=\"none\" stroke=\"black\" points=\"2.5,-28.5 2.5,-64.5 192.5,-64.5 192.5,-28.5 2.5,-28.5\"/>\n<text text-anchor=\"middle\" x=\"12.5\" y=\"-42.8\" font-family=\"Times,serif\" font-size=\"14.00\"> </text>\n<polyline fill=\"none\" stroke=\"black\" points=\"22.5,-28.5 22.5,-64.5 \"/>\n<text text-anchor=\"middle\" x=\"64.5\" y=\"-42.8\" font-family=\"Times,serif\" font-size=\"14.00\">data: 0.3936</text>\n<polyline fill=\"none\" stroke=\"black\" points=\"106.5,-28.5 106.5,-64.5 \"/>\n<text text-anchor=\"middle\" x=\"149.5\" y=\"-42.8\" font-family=\"Times,serif\" font-size=\"14.00\">grad: 0.0000</text>\n</g>\n<!-- 139930132930128&#45;&gt;139930132927440* -->\n<g id=\"edge24\" class=\"edge\">\n<title>139930132930128&#45;&gt;139930132927440*</title>\n<path fill=\"none\" stroke=\"black\" d=\"M192.53,-62.52C202.88,-64.28 212.88,-65.98 221.79,-67.5\"/>\n<polygon fill=\"black\" stroke=\"black\" points=\"221.26,-70.96 231.71,-69.19 222.44,-64.06 221.26,-70.96\"/>\n</g>\n<!-- 139930132930224 -->\n<g id=\"node27\" class=\"node\">\n<title>139930132930224</title>\n<polygon fill=\"none\" stroke=\"black\" points=\"642,-258.5 642,-294.5 837,-294.5 837,-258.5 642,-258.5\"/>\n<text text-anchor=\"middle\" x=\"652\" y=\"-272.8\" font-family=\"Times,serif\" font-size=\"14.00\"> </text>\n<polyline fill=\"none\" stroke=\"black\" points=\"662,-258.5 662,-294.5 \"/>\n<text text-anchor=\"middle\" x=\"706.5\" y=\"-272.8\" font-family=\"Times,serif\" font-size=\"14.00\">data: &#45;1.9931</text>\n<polyline fill=\"none\" stroke=\"black\" points=\"751,-258.5 751,-294.5 \"/>\n<text text-anchor=\"middle\" x=\"794\" y=\"-272.8\" font-family=\"Times,serif\" font-size=\"14.00\">grad: 0.0000</text>\n</g>\n<!-- 139930132930224&#45;&gt;139930132927008+ -->\n<g id=\"edge30\" class=\"edge\">\n<title>139930132930224&#45;&gt;139930132927008+</title>\n<path fill=\"none\" stroke=\"black\" d=\"M837.27,-276.5C846.22,-276.5 854.85,-276.5 862.69,-276.5\"/>\n<polygon fill=\"black\" stroke=\"black\" points=\"862.83,-280 872.83,-276.5 862.83,-273 862.83,-280\"/>\n</g>\n<!-- 139930132930224+&#45;&gt;139930132930224 -->\n<g id=\"edge9\" class=\"edge\">\n<title>139930132930224+&#45;&gt;139930132930224</title>\n<path fill=\"none\" stroke=\"black\" d=\"M606.17,-276.5C613.66,-276.5 622.32,-276.5 631.56,-276.5\"/>\n<polygon fill=\"black\" stroke=\"black\" points=\"631.78,-280 641.78,-276.5 631.78,-273 631.78,-280\"/>\n</g>\n<!-- 139930132793184 -->\n<g id=\"node29\" class=\"node\">\n<title>139930132793184</title>\n<polygon fill=\"none\" stroke=\"black\" points=\"644.5,-69.5 644.5,-105.5 834.5,-105.5 834.5,-69.5 644.5,-69.5\"/>\n<text text-anchor=\"middle\" x=\"654.5\" y=\"-83.8\" font-family=\"Times,serif\" font-size=\"14.00\"> </text>\n<polyline fill=\"none\" stroke=\"black\" points=\"664.5,-69.5 664.5,-105.5 \"/>\n<text text-anchor=\"middle\" x=\"706.5\" y=\"-83.8\" font-family=\"Times,serif\" font-size=\"14.00\">data: 0.3895</text>\n<polyline fill=\"none\" stroke=\"black\" points=\"748.5,-69.5 748.5,-105.5 \"/>\n<text text-anchor=\"middle\" x=\"791.5\" y=\"-83.8\" font-family=\"Times,serif\" font-size=\"14.00\">grad: 0.0000</text>\n</g>\n<!-- 139930132793184&#45;&gt;139930132791360+ -->\n<g id=\"edge14\" class=\"edge\">\n<title>139930132793184&#45;&gt;139930132791360+</title>\n<path fill=\"none\" stroke=\"black\" d=\"M775.68,-105.7C803.62,-120.15 842.28,-140.16 868.82,-153.89\"/>\n<polygon fill=\"black\" stroke=\"black\" points=\"867.52,-157.16 878.01,-158.64 870.74,-150.94 867.52,-157.16\"/>\n</g>\n<!-- 139930132793184+&#45;&gt;139930132793184 -->\n<g id=\"edge10\" class=\"edge\">\n<title>139930132793184+&#45;&gt;139930132793184</title>\n<path fill=\"none\" stroke=\"black\" d=\"M605.82,-75.78C614.13,-76.51 623.9,-77.38 634.32,-78.3\"/>\n<polygon fill=\"black\" stroke=\"black\" points=\"634.21,-81.8 644.48,-79.2 634.82,-74.83 634.21,-81.8\"/>\n</g>\n<!-- 139930132793232 -->\n<g id=\"node31\" class=\"node\">\n<title>139930132793232</title>\n<polygon fill=\"none\" stroke=\"black\" points=\"1286.5,-162.5 1286.5,-198.5 1476.5,-198.5 1476.5,-162.5 1286.5,-162.5\"/>\n<text text-anchor=\"middle\" x=\"1296.5\" y=\"-176.8\" font-family=\"Times,serif\" font-size=\"14.00\"> </text>\n<polyline fill=\"none\" stroke=\"black\" points=\"1306.5,-162.5 1306.5,-198.5 \"/>\n<text text-anchor=\"middle\" x=\"1348.5\" y=\"-176.8\" font-family=\"Times,serif\" font-size=\"14.00\">data: 0.9354</text>\n<polyline fill=\"none\" stroke=\"black\" points=\"1390.5,-162.5 1390.5,-198.5 \"/>\n<text text-anchor=\"middle\" x=\"1433.5\" y=\"-176.8\" font-family=\"Times,serif\" font-size=\"14.00\">grad: 0.0000</text>\n</g>\n<!-- 139930132793232&#45;&gt;139930132929168+ -->\n<g id=\"edge27\" class=\"edge\">\n<title>139930132793232&#45;&gt;139930132929168+</title>\n<path fill=\"none\" stroke=\"black\" d=\"M1476.53,-196.52C1486.88,-198.28 1496.88,-199.98 1505.79,-201.5\"/>\n<polygon fill=\"black\" stroke=\"black\" points=\"1505.26,-204.96 1515.71,-203.19 1506.44,-198.06 1505.26,-204.96\"/>\n</g>\n<!-- 139930132793232tanh&#45;&gt;139930132793232 -->\n<g id=\"edge11\" class=\"edge\">\n<title>139930132793232tanh&#45;&gt;139930132793232</title>\n<path fill=\"none\" stroke=\"black\" d=\"M1248.17,-180.5C1256.44,-180.5 1266.12,-180.5 1276.43,-180.5\"/>\n<polygon fill=\"black\" stroke=\"black\" points=\"1276.48,-184 1286.48,-180.5 1276.48,-177 1276.48,-184\"/>\n</g>\n</g>\n</svg>\n",
            "text/plain": [
              "<graphviz.graphs.Digraph at 0x7f4405ddd070>"
            ]
          },
          "metadata": {},
          "execution_count": 11
        }
      ]
    },
    {
      "cell_type": "code",
      "source": [],
      "metadata": {
        "id": "uAQHAd6pe9HR"
      },
      "execution_count": 11,
      "outputs": []
    }
  ]
}