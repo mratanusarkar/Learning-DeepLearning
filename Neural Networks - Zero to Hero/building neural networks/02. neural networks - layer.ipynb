{
  "nbformat": 4,
  "nbformat_minor": 0,
  "metadata": {
    "colab": {
      "provenance": [],
      "authorship_tag": "ABX9TyOd+d7Y3sF5hblEY4LTmICk"
    },
    "kernelspec": {
      "name": "python3",
      "display_name": "Python 3"
    },
    "language_info": {
      "name": "python"
    }
  },
  "cells": [
    {
      "cell_type": "markdown",
      "metadata": {
        "id": "view-in-github",
        "colab_type": "text"
      },
      "source": [
        "<a href=\"https://colab.research.google.com/github/mratanusarkar/Learning-DeepLearning/blob/main/Neural%20Networks%20-%20Zero%20to%20Hero/building%20neural%20networks/02.%20neural%20networks%20-%20layer.ipynb\" target=\"_parent\"><img src=\"https://colab.research.google.com/assets/colab-badge.svg\" alt=\"Open In Colab\"/></a>"
      ]
    },
    {
      "cell_type": "markdown",
      "source": [
        "# Importing code from the previous notebook"
      ],
      "metadata": {
        "id": "n5XnReMSJSx3"
      }
    },
    {
      "cell_type": "code",
      "execution_count": 1,
      "metadata": {
        "colab": {
          "base_uri": "https://localhost:8080/"
        },
        "id": "lygQMcIPHRdN",
        "outputId": "153c748c-cd45-487e-cd0b-a44f51dd51a2"
      },
      "outputs": [
        {
          "output_type": "stream",
          "name": "stdout",
          "text": [
            "/content/Learning-DeepLearning/Neural Networks - Zero to Hero\n"
          ]
        }
      ],
      "source": [
        "!git clone https://github.com/mratanusarkar/Learning-DeepLearning.git &> /dev/null\n",
        "%cd /content/Learning-DeepLearning/Neural\\ Networks\\ -\\ Zero\\ to\\ Hero\n",
        "!python setup.py install &> /dev/null"
      ]
    },
    {
      "cell_type": "code",
      "source": [
        "from micrograd.engine import Value\n",
        "from micrograd.visualize import draw_dot"
      ],
      "metadata": {
        "id": "F-DT4iiqJaOe"
      },
      "execution_count": 2,
      "outputs": []
    },
    {
      "cell_type": "code",
      "source": [
        "import random\n",
        "random.seed(2023)"
      ],
      "metadata": {
        "id": "vL7UjOHvJaRG"
      },
      "execution_count": 3,
      "outputs": []
    },
    {
      "cell_type": "markdown",
      "source": [
        "# Layer Class"
      ],
      "metadata": {
        "id": "a28Op2usJ_-5"
      }
    },
    {
      "cell_type": "code",
      "source": [
        "# now that we have a Neuron class in hand, let's try to stack them together to form a layer\n",
        "# Layers can be of the following:\n",
        "# - an input layer (it doesn't consist of neurons, so we ignore)\n",
        "# - hidden layers\n",
        "# - output layer"
      ],
      "metadata": {
        "id": "BWlyy6_pJaTe"
      },
      "execution_count": 4,
      "outputs": []
    },
    {
      "cell_type": "markdown",
      "source": [
        "Here is an illustration of neural layers (input, hidden and output layers).\n",
        "\n",
        "As you can see, we have multiple neurons stacked together to form the layers.\n",
        "Each layer takes in inputs, which are the output of the previous later's neurons\n",
        "Output of the layer is nothing but the output of the neurons in the layer.\n",
        "\n",
        "to summerise:\n",
        "- Inputs: number of neurons in prev layer * number of neurons in current layer\n",
        "- Outputs: number of neurons in current layer\n",
        "- Layer Params: each neuron params * number of neurons in current layer\n",
        "\n",
        "![neural_layers.jpeg](https://c.mql5.com/18/20/NN1__1.gif)"
      ],
      "metadata": {
        "id": "8iSTcYcCNFX0"
      }
    },
    {
      "cell_type": "code",
      "source": [
        "# as before, let us build our own version of the Neuron class with more understandable names and the expression graphs having labels\n",
        "# and let us also keep what Karpathy had built in his micrograd (and ofcourse those conventions are used in torch api and other ML codebases)\n",
        "# I will call my version of classes as \"Noob\", because \"I am noob!\""
      ],
      "metadata": {
        "id": "HeKXmDm_JaVm"
      },
      "execution_count": 5,
      "outputs": []
    },
    {
      "cell_type": "code",
      "source": [
        "# Karpathy's micrograd Neuron and Layer for Noobs!\n",
        "\n",
        "class NoobNeuron:\n",
        "\n",
        "    def __init__(self, n_inputs, label='') -> None:\n",
        "        \"\"\"\n",
        "        Karpathy's micrograd Neuron for Noobs!\n",
        "        Constructs a neuron that has `n_inputs` number of inputs and assigns random weights & bias to the neuron\n",
        "\n",
        "        Parameters\n",
        "        ----------\n",
        "            n_inputs : int\n",
        "                number of inputs entering into the neuron\n",
        "            \n",
        "            label : str\n",
        "                (optional) the name or label of the Neuron\n",
        "        \"\"\"\n",
        "\n",
        "        self.label = label\n",
        "        self.w = [Value(random.uniform(-1,1)) for _ in range(n_inputs)]\n",
        "        self.b = Value(random.uniform(-1,1))\n",
        "\n",
        "    def __call__(self, x) -> Value:\n",
        "        \"\"\"\n",
        "        Takes in a list of all `n_inputs` number of input `x values`, \n",
        "        Computes the body by doing `sum(w.x + b)` and \n",
        "        Passes the result through a non-linear activation function to return output\n",
        "\n",
        "        x = [x1, x2, x3, ..., xn],\n",
        "        \n",
        "        and we already have w's and b who's values were randomly assigned.\n",
        "        w = [w1, w2, w3, ..., wn]\n",
        "        b = bias\n",
        "\n",
        "        so, the output would be as follows:\n",
        "        out = f((x1*w1 + x2*w2 + ... + xn*wn) + b),\n",
        "        or `out = f(Σ(w.x) + b)`\n",
        "\n",
        "        where, f() is the activation function (tanh in this case)\n",
        "\n",
        "        Parameters\n",
        "        ----------\n",
        "            x : list(float)\n",
        "                the input values or the x = [x1, x2, x3, ..., xn]\n",
        "\n",
        "            return : Value\n",
        "                returns the output value\n",
        "        \"\"\"\n",
        "\n",
        "        sum = Value(0.0, label=f'{self.label} : sum')\n",
        "        for i, (xi, wi) in enumerate(zip(x, self.w)):\n",
        "            # inputs\n",
        "            x = xi if isinstance(xi, Value) else Value(xi)\n",
        "            x.label=f'{self.label} : x{i}'\n",
        "\n",
        "            # weights\n",
        "            w = wi;         w.label=f'{self.label} : w{i}'\n",
        "\n",
        "            # dendrites of the neuron (inputs weighted)\n",
        "            den = x * w;    den.label=f'{self.label} : den{i}'\n",
        "\n",
        "            # sum of dendrite signals inside cell body\n",
        "            sum = sum + den;\n",
        "\n",
        "        # bias of the neuron\n",
        "        b = self.b;     b.label=f'{self.label} : b'\n",
        "\n",
        "        # bias gets added inside the body\n",
        "        body = sum + b;     body.label=f'{self.label} : body'\n",
        "\n",
        "        # the net signal passes through a non-linear activation function\n",
        "        out = body.tanh()\n",
        "        out.label=f'{self.label} : out'\n",
        "\n",
        "        return out\n",
        "\n",
        "class NoobLayer:\n",
        "\n",
        "    def __init__(self, n_neurons_prev, n_neurons_curr, label='') -> None:\n",
        "        \"\"\"\n",
        "        Karpathy's micrograd Layer for Noobs!\n",
        "        Constructs a Layer, i.e array of Neurons, that has `n_neurons_curr` number of neurons in it.\n",
        "        Each of the `n_neurons_curr` number of neurons in this layer has `n_neurons_prev` number of inputs and one output each.\n",
        "\n",
        "        So, in total, we have `n_neurons_prev * n_neurons_curr` number of neural link lines feeding into the layer\n",
        "        and `n_neurons_curr` number of links going out of the layer\n",
        "\n",
        "        Parameters\n",
        "        ----------\n",
        "            n_neurons_prev : int\n",
        "                number of neurons in the previous layer, or number of neurons entering into this current layer\n",
        "            \n",
        "            n_neurons_curr : int\n",
        "                number of neurons in this current layer, or number of output lines exiting this layer\n",
        "            \n",
        "            label : str\n",
        "                (optional) the name or label of the Layer, \n",
        "                where each Neuron in the Layer will be labeled as: `{label} N:{i}`\n",
        "        \"\"\"\n",
        "        \n",
        "        self.label = label\n",
        "        self.neurons = [NoobNeuron(n_neurons_prev, f'{label} N:{i}') for i in range(n_neurons_curr)]\n",
        "\n",
        "    def __call__(self, x) -> list[Value]:\n",
        "        \"\"\"\n",
        "        Signals from the previous layer enters into this layer,\n",
        "        and the output from all the previous layer's neurons are passed into each neuron of this current layer\n",
        "        the output of each of the neurons in this current layer is computed\n",
        "        and the result of the same is returned in an array\n",
        "\n",
        "        If you have n neurons in this layer, your out will be an array of n\n",
        "        x = [x1, x2, x3, ..., xn]\n",
        "\n",
        "        Parameters\n",
        "        ----------\n",
        "            x : list(float)\n",
        "                output of all `n_neurons_prev` neurons from the prev layer, that are entering into this layer.\n",
        "            \n",
        "            return : list(Value)\n",
        "                returns a list of output values\n",
        "        \"\"\"\n",
        "\n",
        "        outs = [n(x) for n in self.neurons]\n",
        "        return outs"
      ],
      "metadata": {
        "id": "NlytOn0aO6CD"
      },
      "execution_count": 6,
      "outputs": []
    },
    {
      "cell_type": "code",
      "source": [
        "# let's test by building a layer with 2 neurons, having input feed in from prev layer that also had 2 neurons\n",
        "x = [2.0, 3.0]\n",
        "l = NoobLayer(2, 2, \"noob_layer\")\n",
        "l = l(x)\n",
        "\n",
        "# let's just join out from both these layers \n",
        "# for the sake of visualizing the expression graph\n",
        "# (in actual nn, we will have multiple layers connected to meet the output layer, which is another layer of neurons)\n",
        "output = l[0] + l[1]\n",
        "output.label = 'ignore this node! next layer to contd from here on...'\n",
        "draw_dot(output)"
      ],
      "metadata": {
        "colab": {
          "base_uri": "https://localhost:8080/",
          "height": 615
        },
        "id": "bagD9fAzS7Wm",
        "outputId": "0db3d80e-282f-451b-c85a-d21ff7df2055"
      },
      "execution_count": 7,
      "outputs": [
        {
          "output_type": "execute_result",
          "data": {
            "image/svg+xml": "<?xml version=\"1.0\" encoding=\"UTF-8\" standalone=\"no\"?>\n<!DOCTYPE svg PUBLIC \"-//W3C//DTD SVG 1.1//EN\"\n \"http://www.w3.org/Graphics/SVG/1.1/DTD/svg11.dtd\">\n<!-- Generated by graphviz version 2.43.0 (0)\n -->\n<!-- Title: %3 Pages: 1 -->\n<svg width=\"3076pt\" height=\"430pt\"\n viewBox=\"0.00 0.00 3076.00 430.00\" xmlns=\"http://www.w3.org/2000/svg\" xmlns:xlink=\"http://www.w3.org/1999/xlink\">\n<g id=\"graph0\" class=\"graph\" transform=\"scale(1 1) rotate(0) translate(4 426)\">\n<title>%3</title>\n<polygon fill=\"white\" stroke=\"transparent\" points=\"-4,4 -4,-426 3072,-426 3072,4 -4,4\"/>\n<!-- 139946632910880 -->\n<g id=\"node1\" class=\"node\">\n<title>139946632910880</title>\n<polygon fill=\"none\" stroke=\"black\" points=\"870,-69.5 870,-105.5 1179,-105.5 1179,-69.5 870,-69.5\"/>\n<text text-anchor=\"middle\" x=\"939.5\" y=\"-83.8\" font-family=\"Times,serif\" font-size=\"14.00\">noob_layer N:1 : den1</text>\n<polyline fill=\"none\" stroke=\"black\" points=\"1009,-69.5 1009,-105.5 \"/>\n<text text-anchor=\"middle\" x=\"1051\" y=\"-83.8\" font-family=\"Times,serif\" font-size=\"14.00\">data: 0.4262</text>\n<polyline fill=\"none\" stroke=\"black\" points=\"1093,-69.5 1093,-105.5 \"/>\n<text text-anchor=\"middle\" x=\"1136\" y=\"-83.8\" font-family=\"Times,serif\" font-size=\"14.00\">grad: 0.0000</text>\n</g>\n<!-- 139946632910640+ -->\n<g id=\"node36\" class=\"node\">\n<title>139946632910640+</title>\n<ellipse fill=\"none\" stroke=\"black\" cx=\"1242\" cy=\"-169.5\" rx=\"27\" ry=\"18\"/>\n<text text-anchor=\"middle\" x=\"1242\" y=\"-165.8\" font-family=\"Times,serif\" font-size=\"14.00\">+</text>\n</g>\n<!-- 139946632910880&#45;&gt;139946632910640+ -->\n<g id=\"edge25\" class=\"edge\">\n<title>139946632910880&#45;&gt;139946632910640+</title>\n<path fill=\"none\" stroke=\"black\" d=\"M1080.63,-105.61C1110.05,-115.6 1146.75,-128.57 1179,-141.5 1189.38,-145.66 1200.57,-150.58 1210.55,-155.12\"/>\n<polygon fill=\"black\" stroke=\"black\" points=\"1209.13,-158.32 1219.68,-159.32 1212.06,-151.96 1209.13,-158.32\"/>\n</g>\n<!-- 139946632910880* -->\n<g id=\"node2\" class=\"node\">\n<title>139946632910880*</title>\n<ellipse fill=\"none\" stroke=\"black\" cx=\"807\" cy=\"-73.5\" rx=\"27\" ry=\"18\"/>\n<text text-anchor=\"middle\" x=\"807\" y=\"-69.8\" font-family=\"Times,serif\" font-size=\"14.00\">*</text>\n</g>\n<!-- 139946632910880*&#45;&gt;139946632910880 -->\n<g id=\"edge1\" class=\"edge\">\n<title>139946632910880*&#45;&gt;139946632910880</title>\n<path fill=\"none\" stroke=\"black\" d=\"M833.99,-75.19C841.39,-75.67 850.03,-76.23 859.47,-76.84\"/>\n<polygon fill=\"black\" stroke=\"black\" points=\"859.38,-80.35 869.58,-77.5 859.83,-73.36 859.38,-80.35\"/>\n</g>\n<!-- 139946632911024 -->\n<g id=\"node3\" class=\"node\">\n<title>139946632911024</title>\n<polygon fill=\"none\" stroke=\"black\" points=\"439,-55.5 439,-91.5 735,-91.5 735,-55.5 439,-55.5\"/>\n<text text-anchor=\"middle\" x=\"502\" y=\"-69.8\" font-family=\"Times,serif\" font-size=\"14.00\">noob_layer N:1 : x1</text>\n<polyline fill=\"none\" stroke=\"black\" points=\"565,-55.5 565,-91.5 \"/>\n<text text-anchor=\"middle\" x=\"607\" y=\"-69.8\" font-family=\"Times,serif\" font-size=\"14.00\">data: 3.0000</text>\n<polyline fill=\"none\" stroke=\"black\" points=\"649,-55.5 649,-91.5 \"/>\n<text text-anchor=\"middle\" x=\"692\" y=\"-69.8\" font-family=\"Times,serif\" font-size=\"14.00\">grad: 0.0000</text>\n</g>\n<!-- 139946632911024&#45;&gt;139946632910880* -->\n<g id=\"edge22\" class=\"edge\">\n<title>139946632911024&#45;&gt;139946632910880*</title>\n<path fill=\"none\" stroke=\"black\" d=\"M735.22,-73.5C747.82,-73.5 759.64,-73.5 769.88,-73.5\"/>\n<polygon fill=\"black\" stroke=\"black\" points=\"769.94,-77 779.94,-73.5 769.94,-70 769.94,-77\"/>\n</g>\n<!-- 139946632931504 -->\n<g id=\"node4\" class=\"node\">\n<title>139946632931504</title>\n<polygon fill=\"none\" stroke=\"black\" points=\"434,-275.5 434,-311.5 740,-311.5 740,-275.5 434,-275.5\"/>\n<text text-anchor=\"middle\" x=\"502\" y=\"-289.8\" font-family=\"Times,serif\" font-size=\"14.00\">noob_layer N:0 : sum</text>\n<polyline fill=\"none\" stroke=\"black\" points=\"570,-275.5 570,-311.5 \"/>\n<text text-anchor=\"middle\" x=\"612\" y=\"-289.8\" font-family=\"Times,serif\" font-size=\"14.00\">data: 0.0000</text>\n<polyline fill=\"none\" stroke=\"black\" points=\"654,-275.5 654,-311.5 \"/>\n<text text-anchor=\"middle\" x=\"697\" y=\"-289.8\" font-family=\"Times,serif\" font-size=\"14.00\">grad: 0.0000</text>\n</g>\n<!-- 139946632912512+ -->\n<g id=\"node31\" class=\"node\">\n<title>139946632912512+</title>\n<ellipse fill=\"none\" stroke=\"black\" cx=\"807\" cy=\"-286.5\" rx=\"27\" ry=\"18\"/>\n<text text-anchor=\"middle\" x=\"807\" y=\"-282.8\" font-family=\"Times,serif\" font-size=\"14.00\">+</text>\n</g>\n<!-- 139946632931504&#45;&gt;139946632912512+ -->\n<g id=\"edge28\" class=\"edge\">\n<title>139946632931504&#45;&gt;139946632912512+</title>\n<path fill=\"none\" stroke=\"black\" d=\"M740,-288.62C750.77,-288.27 760.87,-287.95 769.77,-287.66\"/>\n<polygon fill=\"black\" stroke=\"black\" points=\"770.12,-291.15 780.01,-287.33 769.9,-284.16 770.12,-291.15\"/>\n</g>\n<!-- 139946632911120 -->\n<g id=\"node5\" class=\"node\">\n<title>139946632911120</title>\n<polygon fill=\"none\" stroke=\"black\" points=\"927,-151.5 927,-187.5 1122,-187.5 1122,-151.5 927,-151.5\"/>\n<text text-anchor=\"middle\" x=\"937\" y=\"-165.8\" font-family=\"Times,serif\" font-size=\"14.00\"> </text>\n<polyline fill=\"none\" stroke=\"black\" points=\"947,-151.5 947,-187.5 \"/>\n<text text-anchor=\"middle\" x=\"991.5\" y=\"-165.8\" font-family=\"Times,serif\" font-size=\"14.00\">data: &#45;0.7189</text>\n<polyline fill=\"none\" stroke=\"black\" points=\"1036,-151.5 1036,-187.5 \"/>\n<text text-anchor=\"middle\" x=\"1079\" y=\"-165.8\" font-family=\"Times,serif\" font-size=\"14.00\">grad: 0.0000</text>\n</g>\n<!-- 139946632911120&#45;&gt;139946632910640+ -->\n<g id=\"edge35\" class=\"edge\">\n<title>139946632911120&#45;&gt;139946632910640+</title>\n<path fill=\"none\" stroke=\"black\" d=\"M1122.22,-169.5C1151.58,-169.5 1182.05,-169.5 1204.78,-169.5\"/>\n<polygon fill=\"black\" stroke=\"black\" points=\"1204.96,-173 1214.96,-169.5 1204.96,-166 1204.96,-173\"/>\n</g>\n<!-- 139946632911120+ -->\n<g id=\"node6\" class=\"node\">\n<title>139946632911120+</title>\n<ellipse fill=\"none\" stroke=\"black\" cx=\"807\" cy=\"-169.5\" rx=\"27\" ry=\"18\"/>\n<text text-anchor=\"middle\" x=\"807\" y=\"-165.8\" font-family=\"Times,serif\" font-size=\"14.00\">+</text>\n</g>\n<!-- 139946632911120+&#45;&gt;139946632911120 -->\n<g id=\"edge2\" class=\"edge\">\n<title>139946632911120+&#45;&gt;139946632911120</title>\n<path fill=\"none\" stroke=\"black\" d=\"M834.42,-169.5C855.33,-169.5 885.99,-169.5 916.57,-169.5\"/>\n<polygon fill=\"black\" stroke=\"black\" points=\"916.92,-173 926.92,-169.5 916.92,-166 916.92,-173\"/>\n</g>\n<!-- 139946632931648 -->\n<g id=\"node7\" class=\"node\">\n<title>139946632931648</title>\n<polygon fill=\"none\" stroke=\"black\" points=\"0,-275.5 0,-311.5 304,-311.5 304,-275.5 0,-275.5\"/>\n<text text-anchor=\"middle\" x=\"64.5\" y=\"-289.8\" font-family=\"Times,serif\" font-size=\"14.00\">noob_layer N:0 : w0</text>\n<polyline fill=\"none\" stroke=\"black\" points=\"129,-275.5 129,-311.5 \"/>\n<text text-anchor=\"middle\" x=\"173.5\" y=\"-289.8\" font-family=\"Times,serif\" font-size=\"14.00\">data: &#45;0.2342</text>\n<polyline fill=\"none\" stroke=\"black\" points=\"218,-275.5 218,-311.5 \"/>\n<text text-anchor=\"middle\" x=\"261\" y=\"-289.8\" font-family=\"Times,serif\" font-size=\"14.00\">grad: 0.0000</text>\n</g>\n<!-- 139946632912704* -->\n<g id=\"node38\" class=\"node\">\n<title>139946632912704*</title>\n<ellipse fill=\"none\" stroke=\"black\" cx=\"367\" cy=\"-238.5\" rx=\"27\" ry=\"18\"/>\n<text text-anchor=\"middle\" x=\"367\" y=\"-234.8\" font-family=\"Times,serif\" font-size=\"14.00\">*</text>\n</g>\n<!-- 139946632931648&#45;&gt;139946632912704* -->\n<g id=\"edge24\" class=\"edge\">\n<title>139946632931648&#45;&gt;139946632912704*</title>\n<path fill=\"none\" stroke=\"black\" d=\"M270.34,-275.48C281.81,-272.83 293.19,-269.85 304,-266.5 314.77,-263.16 326.13,-258.42 336.15,-253.78\"/>\n<polygon fill=\"black\" stroke=\"black\" points=\"337.76,-256.89 345.27,-249.42 334.74,-250.58 337.76,-256.89\"/>\n</g>\n<!-- 139946632929632 -->\n<g id=\"node8\" class=\"node\">\n<title>139946632929632</title>\n<polygon fill=\"none\" stroke=\"black\" points=\"0,-165.5 0,-201.5 304,-201.5 304,-165.5 0,-165.5\"/>\n<text text-anchor=\"middle\" x=\"64.5\" y=\"-179.8\" font-family=\"Times,serif\" font-size=\"14.00\">noob_layer N:1 : w0</text>\n<polyline fill=\"none\" stroke=\"black\" points=\"129,-165.5 129,-201.5 \"/>\n<text text-anchor=\"middle\" x=\"173.5\" y=\"-179.8\" font-family=\"Times,serif\" font-size=\"14.00\">data: &#45;0.3594</text>\n<polyline fill=\"none\" stroke=\"black\" points=\"218,-165.5 218,-201.5 \"/>\n<text text-anchor=\"middle\" x=\"261\" y=\"-179.8\" font-family=\"Times,serif\" font-size=\"14.00\">grad: 0.0000</text>\n</g>\n<!-- 139946632911264* -->\n<g id=\"node13\" class=\"node\">\n<title>139946632911264*</title>\n<ellipse fill=\"none\" stroke=\"black\" cx=\"367\" cy=\"-183.5\" rx=\"27\" ry=\"18\"/>\n<text text-anchor=\"middle\" x=\"367\" y=\"-179.8\" font-family=\"Times,serif\" font-size=\"14.00\">*</text>\n</g>\n<!-- 139946632929632&#45;&gt;139946632911264* -->\n<g id=\"edge15\" class=\"edge\">\n<title>139946632929632&#45;&gt;139946632911264*</title>\n<path fill=\"none\" stroke=\"black\" d=\"M304.11,-183.5C313.37,-183.5 322.08,-183.5 329.88,-183.5\"/>\n<polygon fill=\"black\" stroke=\"black\" points=\"329.91,-187 339.91,-183.5 329.91,-180 329.91,-187\"/>\n</g>\n<!-- 139946632931696 -->\n<g id=\"node9\" class=\"node\">\n<title>139946632931696</title>\n<polygon fill=\"none\" stroke=\"black\" points=\"2597,-240.5 2597,-276.5 3068,-276.5 3068,-240.5 2597,-240.5\"/>\n<text text-anchor=\"middle\" x=\"2747.5\" y=\"-254.8\" font-family=\"Times,serif\" font-size=\"14.00\">ignore this node! next layer to contd from here on...</text>\n<polyline fill=\"none\" stroke=\"black\" points=\"2898,-240.5 2898,-276.5 \"/>\n<text text-anchor=\"middle\" x=\"2940\" y=\"-254.8\" font-family=\"Times,serif\" font-size=\"14.00\">data: 0.4456</text>\n<polyline fill=\"none\" stroke=\"black\" points=\"2982,-240.5 2982,-276.5 \"/>\n<text text-anchor=\"middle\" x=\"3025\" y=\"-254.8\" font-family=\"Times,serif\" font-size=\"14.00\">grad: 0.0000</text>\n</g>\n<!-- 139946632931696+ -->\n<g id=\"node10\" class=\"node\">\n<title>139946632931696+</title>\n<ellipse fill=\"none\" stroke=\"black\" cx=\"2534\" cy=\"-258.5\" rx=\"27\" ry=\"18\"/>\n<text text-anchor=\"middle\" x=\"2534\" y=\"-254.8\" font-family=\"Times,serif\" font-size=\"14.00\">+</text>\n</g>\n<!-- 139946632931696+&#45;&gt;139946632931696 -->\n<g id=\"edge3\" class=\"edge\">\n<title>139946632931696+&#45;&gt;139946632931696</title>\n<path fill=\"none\" stroke=\"black\" d=\"M2561.05,-258.5C2568.47,-258.5 2577.21,-258.5 2586.93,-258.5\"/>\n<polygon fill=\"black\" stroke=\"black\" points=\"2586.95,-262 2596.95,-258.5 2586.95,-255 2586.95,-262\"/>\n</g>\n<!-- 139946632931744 -->\n<g id=\"node11\" class=\"node\">\n<title>139946632931744</title>\n<polygon fill=\"none\" stroke=\"black\" points=\"1307.5,-323.5 1307.5,-359.5 1596.5,-359.5 1596.5,-323.5 1307.5,-323.5\"/>\n<text text-anchor=\"middle\" x=\"1367\" y=\"-337.8\" font-family=\"Times,serif\" font-size=\"14.00\">noob_layer N:0 : b</text>\n<polyline fill=\"none\" stroke=\"black\" points=\"1426.5,-323.5 1426.5,-359.5 \"/>\n<text text-anchor=\"middle\" x=\"1468.5\" y=\"-337.8\" font-family=\"Times,serif\" font-size=\"14.00\">data: 0.6876</text>\n<polyline fill=\"none\" stroke=\"black\" points=\"1510.5,-323.5 1510.5,-359.5 \"/>\n<text text-anchor=\"middle\" x=\"1553.5\" y=\"-337.8\" font-family=\"Times,serif\" font-size=\"14.00\">grad: 0.0000</text>\n</g>\n<!-- 139946632911840+ -->\n<g id=\"node22\" class=\"node\">\n<title>139946632911840+</title>\n<ellipse fill=\"none\" stroke=\"black\" cx=\"1662\" cy=\"-286.5\" rx=\"27\" ry=\"18\"/>\n<text text-anchor=\"middle\" x=\"1662\" y=\"-282.8\" font-family=\"Times,serif\" font-size=\"14.00\">+</text>\n</g>\n<!-- 139946632931744&#45;&gt;139946632911840+ -->\n<g id=\"edge21\" class=\"edge\">\n<title>139946632931744&#45;&gt;139946632911840+</title>\n<path fill=\"none\" stroke=\"black\" d=\"M1566.06,-323.41C1577.28,-320.77 1588.42,-317.81 1599,-314.5 1609.76,-311.13 1621.12,-306.38 1631.13,-301.74\"/>\n<polygon fill=\"black\" stroke=\"black\" points=\"1632.74,-304.85 1640.26,-297.39 1629.73,-298.54 1632.74,-304.85\"/>\n</g>\n<!-- 139946632911264 -->\n<g id=\"node12\" class=\"node\">\n<title>139946632911264</title>\n<polygon fill=\"none\" stroke=\"black\" points=\"430,-165.5 430,-201.5 744,-201.5 744,-165.5 430,-165.5\"/>\n<text text-anchor=\"middle\" x=\"499.5\" y=\"-179.8\" font-family=\"Times,serif\" font-size=\"14.00\">noob_layer N:1 : den0</text>\n<polyline fill=\"none\" stroke=\"black\" points=\"569,-165.5 569,-201.5 \"/>\n<text text-anchor=\"middle\" x=\"613.5\" y=\"-179.8\" font-family=\"Times,serif\" font-size=\"14.00\">data: &#45;0.7189</text>\n<polyline fill=\"none\" stroke=\"black\" points=\"658,-165.5 658,-201.5 \"/>\n<text text-anchor=\"middle\" x=\"701\" y=\"-179.8\" font-family=\"Times,serif\" font-size=\"14.00\">grad: 0.0000</text>\n</g>\n<!-- 139946632911264&#45;&gt;139946632911120+ -->\n<g id=\"edge34\" class=\"edge\">\n<title>139946632911264&#45;&gt;139946632911120+</title>\n<path fill=\"none\" stroke=\"black\" d=\"M744.11,-173.47C753.4,-172.88 762.13,-172.32 769.93,-171.82\"/>\n<polygon fill=\"black\" stroke=\"black\" points=\"770.21,-175.31 779.97,-171.17 769.76,-168.32 770.21,-175.31\"/>\n</g>\n<!-- 139946632911264*&#45;&gt;139946632911264 -->\n<g id=\"edge4\" class=\"edge\">\n<title>139946632911264*&#45;&gt;139946632911264</title>\n<path fill=\"none\" stroke=\"black\" d=\"M394.3,-183.5C401.69,-183.5 410.32,-183.5 419.75,-183.5\"/>\n<polygon fill=\"black\" stroke=\"black\" points=\"419.84,-187 429.84,-183.5 419.84,-180 419.84,-187\"/>\n</g>\n<!-- 139946632929824 -->\n<g id=\"node14\" class=\"node\">\n<title>139946632929824</title>\n<polygon fill=\"none\" stroke=\"black\" points=\"1305,-213.5 1305,-249.5 1599,-249.5 1599,-213.5 1305,-213.5\"/>\n<text text-anchor=\"middle\" x=\"1364.5\" y=\"-227.8\" font-family=\"Times,serif\" font-size=\"14.00\">noob_layer N:1 : b</text>\n<polyline fill=\"none\" stroke=\"black\" points=\"1424,-213.5 1424,-249.5 \"/>\n<text text-anchor=\"middle\" x=\"1468.5\" y=\"-227.8\" font-family=\"Times,serif\" font-size=\"14.00\">data: &#45;0.3255</text>\n<polyline fill=\"none\" stroke=\"black\" points=\"1513,-213.5 1513,-249.5 \"/>\n<text text-anchor=\"middle\" x=\"1556\" y=\"-227.8\" font-family=\"Times,serif\" font-size=\"14.00\">grad: 0.0000</text>\n</g>\n<!-- 139946632910544+ -->\n<g id=\"node33\" class=\"node\">\n<title>139946632910544+</title>\n<ellipse fill=\"none\" stroke=\"black\" cx=\"1662\" cy=\"-231.5\" rx=\"27\" ry=\"18\"/>\n<text text-anchor=\"middle\" x=\"1662\" y=\"-227.8\" font-family=\"Times,serif\" font-size=\"14.00\">+</text>\n</g>\n<!-- 139946632929824&#45;&gt;139946632910544+ -->\n<g id=\"edge23\" class=\"edge\">\n<title>139946632929824&#45;&gt;139946632910544+</title>\n<path fill=\"none\" stroke=\"black\" d=\"M1599.16,-231.5C1608.38,-231.5 1617.07,-231.5 1624.86,-231.5\"/>\n<polygon fill=\"black\" stroke=\"black\" points=\"1624.89,-235 1634.89,-231.5 1624.89,-228 1624.89,-235\"/>\n</g>\n<!-- 139946632911408 -->\n<g id=\"node15\" class=\"node\">\n<title>139946632911408</title>\n<polygon fill=\"none\" stroke=\"black\" points=\"4,-110.5 4,-146.5 300,-146.5 300,-110.5 4,-110.5\"/>\n<text text-anchor=\"middle\" x=\"67\" y=\"-124.8\" font-family=\"Times,serif\" font-size=\"14.00\">noob_layer N:1 : x0</text>\n<polyline fill=\"none\" stroke=\"black\" points=\"130,-110.5 130,-146.5 \"/>\n<text text-anchor=\"middle\" x=\"172\" y=\"-124.8\" font-family=\"Times,serif\" font-size=\"14.00\">data: 2.0000</text>\n<polyline fill=\"none\" stroke=\"black\" points=\"214,-110.5 214,-146.5 \"/>\n<text text-anchor=\"middle\" x=\"257\" y=\"-124.8\" font-family=\"Times,serif\" font-size=\"14.00\">grad: 0.0000</text>\n</g>\n<!-- 139946632911408&#45;&gt;139946632911264* -->\n<g id=\"edge33\" class=\"edge\">\n<title>139946632911408&#45;&gt;139946632911264*</title>\n<path fill=\"none\" stroke=\"black\" d=\"M270.34,-146.52C281.81,-149.17 293.19,-152.15 304,-155.5 314.77,-158.84 326.13,-163.58 336.15,-168.22\"/>\n<polygon fill=\"black\" stroke=\"black\" points=\"334.74,-171.42 345.27,-172.58 337.76,-165.11 334.74,-171.42\"/>\n</g>\n<!-- 139946632929872 -->\n<g id=\"node16\" class=\"node\">\n<title>139946632929872</title>\n<polygon fill=\"none\" stroke=\"black\" points=\"437.5,-0.5 437.5,-36.5 736.5,-36.5 736.5,-0.5 437.5,-0.5\"/>\n<text text-anchor=\"middle\" x=\"502\" y=\"-14.8\" font-family=\"Times,serif\" font-size=\"14.00\">noob_layer N:1 : w1</text>\n<polyline fill=\"none\" stroke=\"black\" points=\"566.5,-0.5 566.5,-36.5 \"/>\n<text text-anchor=\"middle\" x=\"608.5\" y=\"-14.8\" font-family=\"Times,serif\" font-size=\"14.00\">data: 0.1421</text>\n<polyline fill=\"none\" stroke=\"black\" points=\"650.5,-0.5 650.5,-36.5 \"/>\n<text text-anchor=\"middle\" x=\"693.5\" y=\"-14.8\" font-family=\"Times,serif\" font-size=\"14.00\">grad: 0.0000</text>\n</g>\n<!-- 139946632929872&#45;&gt;139946632910880* -->\n<g id=\"edge19\" class=\"edge\">\n<title>139946632929872&#45;&gt;139946632910880*</title>\n<path fill=\"none\" stroke=\"black\" d=\"M710.06,-36.55C721.63,-39.18 733.1,-42.15 744,-45.5 754.78,-48.81 766.15,-53.54 776.16,-58.18\"/>\n<polygon fill=\"black\" stroke=\"black\" points=\"774.75,-61.39 785.28,-62.55 777.77,-55.07 774.75,-61.39\"/>\n</g>\n<!-- 139946632930016 -->\n<g id=\"node17\" class=\"node\">\n<title>139946632930016</title>\n<polygon fill=\"none\" stroke=\"black\" points=\"437.5,-385.5 437.5,-421.5 736.5,-421.5 736.5,-385.5 437.5,-385.5\"/>\n<text text-anchor=\"middle\" x=\"502\" y=\"-399.8\" font-family=\"Times,serif\" font-size=\"14.00\">noob_layer N:0 : w1</text>\n<polyline fill=\"none\" stroke=\"black\" points=\"566.5,-385.5 566.5,-421.5 \"/>\n<text text-anchor=\"middle\" x=\"608.5\" y=\"-399.8\" font-family=\"Times,serif\" font-size=\"14.00\">data: 0.9437</text>\n<polyline fill=\"none\" stroke=\"black\" points=\"650.5,-385.5 650.5,-421.5 \"/>\n<text text-anchor=\"middle\" x=\"693.5\" y=\"-399.8\" font-family=\"Times,serif\" font-size=\"14.00\">grad: 0.0000</text>\n</g>\n<!-- 139946632912128* -->\n<g id=\"node25\" class=\"node\">\n<title>139946632912128*</title>\n<ellipse fill=\"none\" stroke=\"black\" cx=\"807\" cy=\"-348.5\" rx=\"27\" ry=\"18\"/>\n<text text-anchor=\"middle\" x=\"807\" y=\"-344.8\" font-family=\"Times,serif\" font-size=\"14.00\">*</text>\n</g>\n<!-- 139946632930016&#45;&gt;139946632912128* -->\n<g id=\"edge26\" class=\"edge\">\n<title>139946632930016&#45;&gt;139946632912128*</title>\n<path fill=\"none\" stroke=\"black\" d=\"M710.06,-385.45C721.63,-382.82 733.1,-379.85 744,-376.5 754.78,-373.19 766.15,-368.46 776.16,-363.82\"/>\n<polygon fill=\"black\" stroke=\"black\" points=\"777.77,-366.93 785.28,-359.45 774.75,-360.61 777.77,-366.93\"/>\n</g>\n<!-- 139946632911600 -->\n<g id=\"node18\" class=\"node\">\n<title>139946632911600</title>\n<polygon fill=\"none\" stroke=\"black\" points=\"434,-110.5 434,-146.5 740,-146.5 740,-110.5 434,-110.5\"/>\n<text text-anchor=\"middle\" x=\"502\" y=\"-124.8\" font-family=\"Times,serif\" font-size=\"14.00\">noob_layer N:1 : sum</text>\n<polyline fill=\"none\" stroke=\"black\" points=\"570,-110.5 570,-146.5 \"/>\n<text text-anchor=\"middle\" x=\"612\" y=\"-124.8\" font-family=\"Times,serif\" font-size=\"14.00\">data: 0.0000</text>\n<polyline fill=\"none\" stroke=\"black\" points=\"654,-110.5 654,-146.5 \"/>\n<text text-anchor=\"middle\" x=\"697\" y=\"-124.8\" font-family=\"Times,serif\" font-size=\"14.00\">grad: 0.0000</text>\n</g>\n<!-- 139946632911600&#45;&gt;139946632911120+ -->\n<g id=\"edge16\" class=\"edge\">\n<title>139946632911600&#45;&gt;139946632911120+</title>\n<path fill=\"none\" stroke=\"black\" d=\"M696.39,-146.53C712.38,-149.4 728.64,-152.44 744,-155.5 752.87,-157.27 762.41,-159.34 771.29,-161.34\"/>\n<polygon fill=\"black\" stroke=\"black\" points=\"770.79,-164.81 781.32,-163.63 772.35,-157.99 770.79,-164.81\"/>\n</g>\n<!-- 139946632911648 -->\n<g id=\"node19\" class=\"node\">\n<title>139946632911648</title>\n<polygon fill=\"none\" stroke=\"black\" points=\"2168.5,-268.5 2168.5,-304.5 2468.5,-304.5 2468.5,-268.5 2168.5,-268.5\"/>\n<text text-anchor=\"middle\" x=\"2233.5\" y=\"-282.8\" font-family=\"Times,serif\" font-size=\"14.00\">noob_layer N:0 : out</text>\n<polyline fill=\"none\" stroke=\"black\" points=\"2298.5,-268.5 2298.5,-304.5 \"/>\n<text text-anchor=\"middle\" x=\"2340.5\" y=\"-282.8\" font-family=\"Times,serif\" font-size=\"14.00\">data: 0.9955</text>\n<polyline fill=\"none\" stroke=\"black\" points=\"2382.5,-268.5 2382.5,-304.5 \"/>\n<text text-anchor=\"middle\" x=\"2425.5\" y=\"-282.8\" font-family=\"Times,serif\" font-size=\"14.00\">grad: 0.0000</text>\n</g>\n<!-- 139946632911648&#45;&gt;139946632931696+ -->\n<g id=\"edge20\" class=\"edge\">\n<title>139946632911648&#45;&gt;139946632931696+</title>\n<path fill=\"none\" stroke=\"black\" d=\"M2456.83,-268.49C2471.58,-266.56 2485.48,-264.73 2497.26,-263.19\"/>\n<polygon fill=\"black\" stroke=\"black\" points=\"2497.99,-266.62 2507.45,-261.85 2497.08,-259.68 2497.99,-266.62\"/>\n</g>\n<!-- 139946632911648tanh -->\n<g id=\"node20\" class=\"node\">\n<title>139946632911648tanh</title>\n<ellipse fill=\"none\" stroke=\"black\" cx=\"2103\" cy=\"-286.5\" rx=\"27\" ry=\"18\"/>\n<text text-anchor=\"middle\" x=\"2103\" y=\"-282.8\" font-family=\"Times,serif\" font-size=\"14.00\">tanh</text>\n</g>\n<!-- 139946632911648tanh&#45;&gt;139946632911648 -->\n<g id=\"edge5\" class=\"edge\">\n<title>139946632911648tanh&#45;&gt;139946632911648</title>\n<path fill=\"none\" stroke=\"black\" d=\"M2130.18,-286.5C2138.2,-286.5 2147.66,-286.5 2158.01,-286.5\"/>\n<polygon fill=\"black\" stroke=\"black\" points=\"2158.18,-290 2168.18,-286.5 2158.18,-283 2158.18,-290\"/>\n</g>\n<!-- 139946632911840 -->\n<g id=\"node21\" class=\"node\">\n<title>139946632911840</title>\n<polygon fill=\"none\" stroke=\"black\" points=\"1727.5,-268.5 1727.5,-304.5 2037.5,-304.5 2037.5,-268.5 1727.5,-268.5\"/>\n<text text-anchor=\"middle\" x=\"1797.5\" y=\"-282.8\" font-family=\"Times,serif\" font-size=\"14.00\">noob_layer N:0 : body</text>\n<polyline fill=\"none\" stroke=\"black\" points=\"1867.5,-268.5 1867.5,-304.5 \"/>\n<text text-anchor=\"middle\" x=\"1909.5\" y=\"-282.8\" font-family=\"Times,serif\" font-size=\"14.00\">data: 3.0505</text>\n<polyline fill=\"none\" stroke=\"black\" points=\"1951.5,-268.5 1951.5,-304.5 \"/>\n<text text-anchor=\"middle\" x=\"1994.5\" y=\"-282.8\" font-family=\"Times,serif\" font-size=\"14.00\">grad: 0.0000</text>\n</g>\n<!-- 139946632911840&#45;&gt;139946632911648tanh -->\n<g id=\"edge29\" class=\"edge\">\n<title>139946632911840&#45;&gt;139946632911648tanh</title>\n<path fill=\"none\" stroke=\"black\" d=\"M2037.62,-286.5C2047.75,-286.5 2057.26,-286.5 2065.7,-286.5\"/>\n<polygon fill=\"black\" stroke=\"black\" points=\"2065.78,-290 2075.78,-286.5 2065.78,-283 2065.78,-290\"/>\n</g>\n<!-- 139946632911840+&#45;&gt;139946632911840 -->\n<g id=\"edge6\" class=\"edge\">\n<title>139946632911840+&#45;&gt;139946632911840</title>\n<path fill=\"none\" stroke=\"black\" d=\"M1689.36,-286.5C1697.36,-286.5 1706.79,-286.5 1717.12,-286.5\"/>\n<polygon fill=\"black\" stroke=\"black\" points=\"1717.28,-290 1727.28,-286.5 1717.28,-283 1717.28,-290\"/>\n</g>\n<!-- 139946632911984 -->\n<g id=\"node23\" class=\"node\">\n<title>139946632911984</title>\n<polygon fill=\"none\" stroke=\"black\" points=\"4,-220.5 4,-256.5 300,-256.5 300,-220.5 4,-220.5\"/>\n<text text-anchor=\"middle\" x=\"67\" y=\"-234.8\" font-family=\"Times,serif\" font-size=\"14.00\">noob_layer N:0 : x0</text>\n<polyline fill=\"none\" stroke=\"black\" points=\"130,-220.5 130,-256.5 \"/>\n<text text-anchor=\"middle\" x=\"172\" y=\"-234.8\" font-family=\"Times,serif\" font-size=\"14.00\">data: 2.0000</text>\n<polyline fill=\"none\" stroke=\"black\" points=\"214,-220.5 214,-256.5 \"/>\n<text text-anchor=\"middle\" x=\"257\" y=\"-234.8\" font-family=\"Times,serif\" font-size=\"14.00\">grad: 0.0000</text>\n</g>\n<!-- 139946632911984&#45;&gt;139946632912704* -->\n<g id=\"edge36\" class=\"edge\">\n<title>139946632911984&#45;&gt;139946632912704*</title>\n<path fill=\"none\" stroke=\"black\" d=\"M300.06,-238.5C310.78,-238.5 320.86,-238.5 329.75,-238.5\"/>\n<polygon fill=\"black\" stroke=\"black\" points=\"329.98,-242 339.98,-238.5 329.98,-235 329.98,-242\"/>\n</g>\n<!-- 139946632912128 -->\n<g id=\"node24\" class=\"node\">\n<title>139946632912128</title>\n<polygon fill=\"none\" stroke=\"black\" points=\"870,-323.5 870,-359.5 1179,-359.5 1179,-323.5 870,-323.5\"/>\n<text text-anchor=\"middle\" x=\"939.5\" y=\"-337.8\" font-family=\"Times,serif\" font-size=\"14.00\">noob_layer N:0 : den1</text>\n<polyline fill=\"none\" stroke=\"black\" points=\"1009,-323.5 1009,-359.5 \"/>\n<text text-anchor=\"middle\" x=\"1051\" y=\"-337.8\" font-family=\"Times,serif\" font-size=\"14.00\">data: 2.8312</text>\n<polyline fill=\"none\" stroke=\"black\" points=\"1093,-323.5 1093,-359.5 \"/>\n<text text-anchor=\"middle\" x=\"1136\" y=\"-337.8\" font-family=\"Times,serif\" font-size=\"14.00\">grad: 0.0000</text>\n</g>\n<!-- 139946632912368+ -->\n<g id=\"node27\" class=\"node\">\n<title>139946632912368+</title>\n<ellipse fill=\"none\" stroke=\"black\" cx=\"1242\" cy=\"-286.5\" rx=\"27\" ry=\"18\"/>\n<text text-anchor=\"middle\" x=\"1242\" y=\"-282.8\" font-family=\"Times,serif\" font-size=\"14.00\">+</text>\n</g>\n<!-- 139946632912128&#45;&gt;139946632912368+ -->\n<g id=\"edge30\" class=\"edge\">\n<title>139946632912128&#45;&gt;139946632912368+</title>\n<path fill=\"none\" stroke=\"black\" d=\"M1145.19,-323.46C1156.71,-320.83 1168.14,-317.85 1179,-314.5 1189.78,-311.18 1201.14,-306.44 1211.15,-301.8\"/>\n<polygon fill=\"black\" stroke=\"black\" points=\"1212.76,-304.91 1220.27,-297.44 1209.74,-298.59 1212.76,-304.91\"/>\n</g>\n<!-- 139946632912128*&#45;&gt;139946632912128 -->\n<g id=\"edge7\" class=\"edge\">\n<title>139946632912128*&#45;&gt;139946632912128</title>\n<path fill=\"none\" stroke=\"black\" d=\"M833.99,-347.66C841.39,-347.42 850.03,-347.13 859.47,-346.83\"/>\n<polygon fill=\"black\" stroke=\"black\" points=\"859.7,-350.32 869.58,-346.5 859.48,-343.33 859.7,-350.32\"/>\n</g>\n<!-- 139946632912368 -->\n<g id=\"node26\" class=\"node\">\n<title>139946632912368</title>\n<polygon fill=\"none\" stroke=\"black\" points=\"1357,-268.5 1357,-304.5 1547,-304.5 1547,-268.5 1357,-268.5\"/>\n<text text-anchor=\"middle\" x=\"1367\" y=\"-282.8\" font-family=\"Times,serif\" font-size=\"14.00\"> </text>\n<polyline fill=\"none\" stroke=\"black\" points=\"1377,-268.5 1377,-304.5 \"/>\n<text text-anchor=\"middle\" x=\"1419\" y=\"-282.8\" font-family=\"Times,serif\" font-size=\"14.00\">data: 2.3629</text>\n<polyline fill=\"none\" stroke=\"black\" points=\"1461,-268.5 1461,-304.5 \"/>\n<text text-anchor=\"middle\" x=\"1504\" y=\"-282.8\" font-family=\"Times,serif\" font-size=\"14.00\">grad: 0.0000</text>\n</g>\n<!-- 139946632912368&#45;&gt;139946632911840+ -->\n<g id=\"edge31\" class=\"edge\">\n<title>139946632912368&#45;&gt;139946632911840+</title>\n<path fill=\"none\" stroke=\"black\" d=\"M1547.26,-286.5C1574.66,-286.5 1602.98,-286.5 1624.5,-286.5\"/>\n<polygon fill=\"black\" stroke=\"black\" points=\"1624.79,-290 1634.79,-286.5 1624.79,-283 1624.79,-290\"/>\n</g>\n<!-- 139946632912368+&#45;&gt;139946632912368 -->\n<g id=\"edge8\" class=\"edge\">\n<title>139946632912368+&#45;&gt;139946632912368</title>\n<path fill=\"none\" stroke=\"black\" d=\"M1269.34,-286.5C1289.19,-286.5 1317.81,-286.5 1346.49,-286.5\"/>\n<polygon fill=\"black\" stroke=\"black\" points=\"1346.62,-290 1356.62,-286.5 1346.62,-283 1346.62,-290\"/>\n</g>\n<!-- 139946632910352 -->\n<g id=\"node28\" class=\"node\">\n<title>139946632910352</title>\n<polygon fill=\"none\" stroke=\"black\" points=\"2166,-213.5 2166,-249.5 2471,-249.5 2471,-213.5 2166,-213.5\"/>\n<text text-anchor=\"middle\" x=\"2231\" y=\"-227.8\" font-family=\"Times,serif\" font-size=\"14.00\">noob_layer N:1 : out</text>\n<polyline fill=\"none\" stroke=\"black\" points=\"2296,-213.5 2296,-249.5 \"/>\n<text text-anchor=\"middle\" x=\"2340.5\" y=\"-227.8\" font-family=\"Times,serif\" font-size=\"14.00\">data: &#45;0.5499</text>\n<polyline fill=\"none\" stroke=\"black\" points=\"2385,-213.5 2385,-249.5 \"/>\n<text text-anchor=\"middle\" x=\"2428\" y=\"-227.8\" font-family=\"Times,serif\" font-size=\"14.00\">grad: 0.0000</text>\n</g>\n<!-- 139946632910352&#45;&gt;139946632931696+ -->\n<g id=\"edge14\" class=\"edge\">\n<title>139946632910352&#45;&gt;139946632931696+</title>\n<path fill=\"none\" stroke=\"black\" d=\"M2461.91,-249.51C2474.74,-251.13 2486.79,-252.66 2497.2,-253.97\"/>\n<polygon fill=\"black\" stroke=\"black\" points=\"2497.06,-257.48 2507.42,-255.26 2497.93,-250.54 2497.06,-257.48\"/>\n</g>\n<!-- 139946632910352tanh -->\n<g id=\"node29\" class=\"node\">\n<title>139946632910352tanh</title>\n<ellipse fill=\"none\" stroke=\"black\" cx=\"2103\" cy=\"-231.5\" rx=\"27\" ry=\"18\"/>\n<text text-anchor=\"middle\" x=\"2103\" y=\"-227.8\" font-family=\"Times,serif\" font-size=\"14.00\">tanh</text>\n</g>\n<!-- 139946632910352tanh&#45;&gt;139946632910352 -->\n<g id=\"edge9\" class=\"edge\">\n<title>139946632910352tanh&#45;&gt;139946632910352</title>\n<path fill=\"none\" stroke=\"black\" d=\"M2130.18,-231.5C2137.62,-231.5 2146.3,-231.5 2155.78,-231.5\"/>\n<polygon fill=\"black\" stroke=\"black\" points=\"2155.93,-235 2165.93,-231.5 2155.93,-228 2155.93,-235\"/>\n</g>\n<!-- 139946632912512 -->\n<g id=\"node30\" class=\"node\">\n<title>139946632912512</title>\n<polygon fill=\"none\" stroke=\"black\" points=\"927,-268.5 927,-304.5 1122,-304.5 1122,-268.5 927,-268.5\"/>\n<text text-anchor=\"middle\" x=\"937\" y=\"-282.8\" font-family=\"Times,serif\" font-size=\"14.00\"> </text>\n<polyline fill=\"none\" stroke=\"black\" points=\"947,-268.5 947,-304.5 \"/>\n<text text-anchor=\"middle\" x=\"991.5\" y=\"-282.8\" font-family=\"Times,serif\" font-size=\"14.00\">data: &#45;0.4683</text>\n<polyline fill=\"none\" stroke=\"black\" points=\"1036,-268.5 1036,-304.5 \"/>\n<text text-anchor=\"middle\" x=\"1079\" y=\"-282.8\" font-family=\"Times,serif\" font-size=\"14.00\">grad: 0.0000</text>\n</g>\n<!-- 139946632912512&#45;&gt;139946632912368+ -->\n<g id=\"edge32\" class=\"edge\">\n<title>139946632912512&#45;&gt;139946632912368+</title>\n<path fill=\"none\" stroke=\"black\" d=\"M1122.22,-286.5C1151.58,-286.5 1182.05,-286.5 1204.78,-286.5\"/>\n<polygon fill=\"black\" stroke=\"black\" points=\"1204.96,-290 1214.96,-286.5 1204.96,-283 1204.96,-290\"/>\n</g>\n<!-- 139946632912512+&#45;&gt;139946632912512 -->\n<g id=\"edge10\" class=\"edge\">\n<title>139946632912512+&#45;&gt;139946632912512</title>\n<path fill=\"none\" stroke=\"black\" d=\"M834.42,-286.5C855.33,-286.5 885.99,-286.5 916.57,-286.5\"/>\n<polygon fill=\"black\" stroke=\"black\" points=\"916.92,-290 926.92,-286.5 916.92,-283 916.92,-290\"/>\n</g>\n<!-- 139946632910544 -->\n<g id=\"node32\" class=\"node\">\n<title>139946632910544</title>\n<polygon fill=\"none\" stroke=\"black\" points=\"1725,-213.5 1725,-249.5 2040,-249.5 2040,-213.5 1725,-213.5\"/>\n<text text-anchor=\"middle\" x=\"1795\" y=\"-227.8\" font-family=\"Times,serif\" font-size=\"14.00\">noob_layer N:1 : body</text>\n<polyline fill=\"none\" stroke=\"black\" points=\"1865,-213.5 1865,-249.5 \"/>\n<text text-anchor=\"middle\" x=\"1909.5\" y=\"-227.8\" font-family=\"Times,serif\" font-size=\"14.00\">data: &#45;0.6183</text>\n<polyline fill=\"none\" stroke=\"black\" points=\"1954,-213.5 1954,-249.5 \"/>\n<text text-anchor=\"middle\" x=\"1997\" y=\"-227.8\" font-family=\"Times,serif\" font-size=\"14.00\">grad: 0.0000</text>\n</g>\n<!-- 139946632910544&#45;&gt;139946632910352tanh -->\n<g id=\"edge37\" class=\"edge\">\n<title>139946632910544&#45;&gt;139946632910352tanh</title>\n<path fill=\"none\" stroke=\"black\" d=\"M2040.26,-231.5C2049.34,-231.5 2057.87,-231.5 2065.53,-231.5\"/>\n<polygon fill=\"black\" stroke=\"black\" points=\"2065.74,-235 2075.74,-231.5 2065.74,-228 2065.74,-235\"/>\n</g>\n<!-- 139946632910544+&#45;&gt;139946632910544 -->\n<g id=\"edge11\" class=\"edge\">\n<title>139946632910544+&#45;&gt;139946632910544</title>\n<path fill=\"none\" stroke=\"black\" d=\"M1689.36,-231.5C1696.77,-231.5 1705.42,-231.5 1714.87,-231.5\"/>\n<polygon fill=\"black\" stroke=\"black\" points=\"1714.98,-235 1724.98,-231.5 1714.98,-228 1714.98,-235\"/>\n</g>\n<!-- 139946632912656 -->\n<g id=\"node34\" class=\"node\">\n<title>139946632912656</title>\n<polygon fill=\"none\" stroke=\"black\" points=\"439,-330.5 439,-366.5 735,-366.5 735,-330.5 439,-330.5\"/>\n<text text-anchor=\"middle\" x=\"502\" y=\"-344.8\" font-family=\"Times,serif\" font-size=\"14.00\">noob_layer N:0 : x1</text>\n<polyline fill=\"none\" stroke=\"black\" points=\"565,-330.5 565,-366.5 \"/>\n<text text-anchor=\"middle\" x=\"607\" y=\"-344.8\" font-family=\"Times,serif\" font-size=\"14.00\">data: 3.0000</text>\n<polyline fill=\"none\" stroke=\"black\" points=\"649,-330.5 649,-366.5 \"/>\n<text text-anchor=\"middle\" x=\"692\" y=\"-344.8\" font-family=\"Times,serif\" font-size=\"14.00\">grad: 0.0000</text>\n</g>\n<!-- 139946632912656&#45;&gt;139946632912128* -->\n<g id=\"edge27\" class=\"edge\">\n<title>139946632912656&#45;&gt;139946632912128*</title>\n<path fill=\"none\" stroke=\"black\" d=\"M735.22,-348.5C747.82,-348.5 759.64,-348.5 769.88,-348.5\"/>\n<polygon fill=\"black\" stroke=\"black\" points=\"769.94,-352 779.94,-348.5 769.94,-345 769.94,-352\"/>\n</g>\n<!-- 139946632910640 -->\n<g id=\"node35\" class=\"node\">\n<title>139946632910640</title>\n<polygon fill=\"none\" stroke=\"black\" points=\"1354.5,-158.5 1354.5,-194.5 1549.5,-194.5 1549.5,-158.5 1354.5,-158.5\"/>\n<text text-anchor=\"middle\" x=\"1364.5\" y=\"-172.8\" font-family=\"Times,serif\" font-size=\"14.00\"> </text>\n<polyline fill=\"none\" stroke=\"black\" points=\"1374.5,-158.5 1374.5,-194.5 \"/>\n<text text-anchor=\"middle\" x=\"1419\" y=\"-172.8\" font-family=\"Times,serif\" font-size=\"14.00\">data: &#45;0.2927</text>\n<polyline fill=\"none\" stroke=\"black\" points=\"1463.5,-158.5 1463.5,-194.5 \"/>\n<text text-anchor=\"middle\" x=\"1506.5\" y=\"-172.8\" font-family=\"Times,serif\" font-size=\"14.00\">grad: 0.0000</text>\n</g>\n<!-- 139946632910640&#45;&gt;139946632910544+ -->\n<g id=\"edge17\" class=\"edge\">\n<title>139946632910640&#45;&gt;139946632910544+</title>\n<path fill=\"none\" stroke=\"black\" d=\"M1549.56,-191.89C1566.21,-195.43 1583.22,-199.62 1599,-204.5 1609.51,-207.75 1620.64,-212.25 1630.53,-216.63\"/>\n<polygon fill=\"black\" stroke=\"black\" points=\"1629.37,-219.95 1639.92,-220.93 1632.29,-213.59 1629.37,-219.95\"/>\n</g>\n<!-- 139946632910640+&#45;&gt;139946632910640 -->\n<g id=\"edge12\" class=\"edge\">\n<title>139946632910640+&#45;&gt;139946632910640</title>\n<path fill=\"none\" stroke=\"black\" d=\"M1269.34,-170.39C1288.62,-171.04 1316.17,-171.96 1344,-172.9\"/>\n<polygon fill=\"black\" stroke=\"black\" points=\"1344.14,-176.41 1354.25,-173.24 1344.38,-169.41 1344.14,-176.41\"/>\n</g>\n<!-- 139946632912704 -->\n<g id=\"node37\" class=\"node\">\n<title>139946632912704</title>\n<polygon fill=\"none\" stroke=\"black\" points=\"430,-220.5 430,-256.5 744,-256.5 744,-220.5 430,-220.5\"/>\n<text text-anchor=\"middle\" x=\"499.5\" y=\"-234.8\" font-family=\"Times,serif\" font-size=\"14.00\">noob_layer N:0 : den0</text>\n<polyline fill=\"none\" stroke=\"black\" points=\"569,-220.5 569,-256.5 \"/>\n<text text-anchor=\"middle\" x=\"613.5\" y=\"-234.8\" font-family=\"Times,serif\" font-size=\"14.00\">data: &#45;0.4683</text>\n<polyline fill=\"none\" stroke=\"black\" points=\"658,-220.5 658,-256.5 \"/>\n<text text-anchor=\"middle\" x=\"701\" y=\"-234.8\" font-family=\"Times,serif\" font-size=\"14.00\">grad: 0.0000</text>\n</g>\n<!-- 139946632912704&#45;&gt;139946632912512+ -->\n<g id=\"edge18\" class=\"edge\">\n<title>139946632912704&#45;&gt;139946632912512+</title>\n<path fill=\"none\" stroke=\"black\" d=\"M699.18,-256.56C714.31,-259.57 729.58,-262.9 744,-266.5 753.59,-268.9 763.86,-271.99 773.22,-275.02\"/>\n<polygon fill=\"black\" stroke=\"black\" points=\"772.36,-278.42 782.95,-278.25 774.57,-271.78 772.36,-278.42\"/>\n</g>\n<!-- 139946632912704*&#45;&gt;139946632912704 -->\n<g id=\"edge13\" class=\"edge\">\n<title>139946632912704*&#45;&gt;139946632912704</title>\n<path fill=\"none\" stroke=\"black\" d=\"M394.3,-238.5C401.69,-238.5 410.32,-238.5 419.75,-238.5\"/>\n<polygon fill=\"black\" stroke=\"black\" points=\"419.84,-242 429.84,-238.5 419.84,-235 419.84,-242\"/>\n</g>\n</g>\n</svg>\n",
            "text/plain": [
              "<graphviz.graphs.Digraph at 0x7f47dd57e310>"
            ]
          },
          "metadata": {},
          "execution_count": 7
        }
      ]
    },
    {
      "cell_type": "code",
      "source": [
        "# isn't it beautiful and interesting? we can visualize the entire layer!!"
      ],
      "metadata": {
        "id": "Vc4wlAJuTmkK"
      },
      "execution_count": 8,
      "outputs": []
    },
    {
      "cell_type": "code",
      "source": [],
      "metadata": {
        "id": "lPX2VggMfHpo"
      },
      "execution_count": 8,
      "outputs": []
    },
    {
      "cell_type": "code",
      "source": [
        "# and... here goes much more efficient and optimized implementation"
      ],
      "metadata": {
        "id": "ZwTSdG3XePJa"
      },
      "execution_count": 9,
      "outputs": []
    },
    {
      "cell_type": "code",
      "source": [
        "# original micrograd Neuron that is similar to PyTorch API\n",
        "\n",
        "class Neuron:\n",
        "\n",
        "    def __init__(self, nin) -> None:\n",
        "        self.w = [Value(random.uniform(-1,1)) for _ in range(nin)]\n",
        "        self.b = Value(random.uniform(-1,1))\n",
        "\n",
        "    def __call__(self, x):\n",
        "        # out = f( sum(weights.input_xs + bias) )\n",
        "        body = sum((wi * xi for wi, xi in zip(self.w, x)), self.b)\n",
        "        out = body.tanh()\n",
        "        return out\n",
        "\n",
        "class Layer:\n",
        "\n",
        "    def __init__(self, nin, nout) -> None:\n",
        "        self.neurons = [Neuron(nin) for _ in range(nout)]\n",
        "\n",
        "    def __call__(self, x):\n",
        "        outs = [n(x) for n in self.neurons]\n",
        "        return outs"
      ],
      "metadata": {
        "id": "eKpo3Uz2ePnw"
      },
      "execution_count": 10,
      "outputs": []
    },
    {
      "cell_type": "code",
      "source": [
        "# let's test by building a layer with 2 neurons, having input feed in from prev layer that also had 2 neurons\n",
        "x = [2.0, 3.0]\n",
        "l = Layer(2, 2)\n",
        "l = l(x)\n",
        "\n",
        "# let's just join out from both these layers \n",
        "# for the sake of visualizing the expression graph\n",
        "# (in actual nn, we will have multiple layers connected to meet the output layer, which is another layer of neurons)\n",
        "output = l[0] + l[1]\n",
        "draw_dot(output)"
      ],
      "metadata": {
        "colab": {
          "base_uri": "https://localhost:8080/",
          "height": 651
        },
        "id": "4lIwdhqCeyfO",
        "outputId": "81616daa-05f6-458f-bfa2-555d074bd689"
      },
      "execution_count": 11,
      "outputs": [
        {
          "output_type": "execute_result",
          "data": {
            "image/svg+xml": "<?xml version=\"1.0\" encoding=\"UTF-8\" standalone=\"no\"?>\n<!DOCTYPE svg PUBLIC \"-//W3C//DTD SVG 1.1//EN\"\n \"http://www.w3.org/Graphics/SVG/1.1/DTD/svg11.dtd\">\n<!-- Generated by graphviz version 2.43.0 (0)\n -->\n<!-- Title: %3 Pages: 1 -->\n<svg width=\"1808pt\" height=\"457pt\"\n viewBox=\"0.00 0.00 1808.00 457.00\" xmlns=\"http://www.w3.org/2000/svg\" xmlns:xlink=\"http://www.w3.org/1999/xlink\">\n<g id=\"graph0\" class=\"graph\" transform=\"scale(1 1) rotate(0) translate(4 453)\">\n<title>%3</title>\n<polygon fill=\"white\" stroke=\"transparent\" points=\"-4,4 -4,-453 1804,-453 1804,4 -4,4\"/>\n<!-- 139946633060608 -->\n<g id=\"node1\" class=\"node\">\n<title>139946633060608</title>\n<polygon fill=\"none\" stroke=\"black\" points=\"642,-96.5 642,-132.5 837,-132.5 837,-96.5 642,-96.5\"/>\n<text text-anchor=\"middle\" x=\"652\" y=\"-110.8\" font-family=\"Times,serif\" font-size=\"14.00\"> </text>\n<polyline fill=\"none\" stroke=\"black\" points=\"662,-96.5 662,-132.5 \"/>\n<text text-anchor=\"middle\" x=\"706.5\" y=\"-110.8\" font-family=\"Times,serif\" font-size=\"14.00\">data: &#45;1.9931</text>\n<polyline fill=\"none\" stroke=\"black\" points=\"751,-96.5 751,-132.5 \"/>\n<text text-anchor=\"middle\" x=\"794\" y=\"-110.8\" font-family=\"Times,serif\" font-size=\"14.00\">grad: 0.0000</text>\n</g>\n<!-- 139946633063344+ -->\n<g id=\"node16\" class=\"node\">\n<title>139946633063344+</title>\n<ellipse fill=\"none\" stroke=\"black\" cx=\"900\" cy=\"-196.5\" rx=\"27\" ry=\"18\"/>\n<text text-anchor=\"middle\" x=\"900\" y=\"-192.8\" font-family=\"Times,serif\" font-size=\"14.00\">+</text>\n</g>\n<!-- 139946633060608&#45;&gt;139946633063344+ -->\n<g id=\"edge19\" class=\"edge\">\n<title>139946633060608&#45;&gt;139946633063344+</title>\n<path fill=\"none\" stroke=\"black\" d=\"M775.68,-132.7C803.62,-147.15 842.28,-167.16 868.82,-180.89\"/>\n<polygon fill=\"black\" stroke=\"black\" points=\"867.52,-184.16 878.01,-185.64 870.74,-177.94 867.52,-184.16\"/>\n</g>\n<!-- 139946633060608+ -->\n<g id=\"node2\" class=\"node\">\n<title>139946633060608+</title>\n<ellipse fill=\"none\" stroke=\"black\" cx=\"579\" cy=\"-100.5\" rx=\"27\" ry=\"18\"/>\n<text text-anchor=\"middle\" x=\"579\" y=\"-96.8\" font-family=\"Times,serif\" font-size=\"14.00\">+</text>\n</g>\n<!-- 139946633060608+&#45;&gt;139946633060608 -->\n<g id=\"edge1\" class=\"edge\">\n<title>139946633060608+&#45;&gt;139946633060608</title>\n<path fill=\"none\" stroke=\"black\" d=\"M605.82,-102.78C613.44,-103.45 622.29,-104.24 631.73,-105.07\"/>\n<polygon fill=\"black\" stroke=\"black\" points=\"631.49,-108.56 641.76,-105.96 632.11,-101.59 631.49,-108.56\"/>\n</g>\n<!-- 139946632896912 -->\n<g id=\"node3\" class=\"node\">\n<title>139946632896912</title>\n<polygon fill=\"none\" stroke=\"black\" points=\"644.5,-347.5 644.5,-383.5 834.5,-383.5 834.5,-347.5 644.5,-347.5\"/>\n<text text-anchor=\"middle\" x=\"654.5\" y=\"-361.8\" font-family=\"Times,serif\" font-size=\"14.00\"> </text>\n<polyline fill=\"none\" stroke=\"black\" points=\"664.5,-347.5 664.5,-383.5 \"/>\n<text text-anchor=\"middle\" x=\"706.5\" y=\"-361.8\" font-family=\"Times,serif\" font-size=\"14.00\">data: 1.3102</text>\n<polyline fill=\"none\" stroke=\"black\" points=\"748.5,-347.5 748.5,-383.5 \"/>\n<text text-anchor=\"middle\" x=\"791.5\" y=\"-361.8\" font-family=\"Times,serif\" font-size=\"14.00\">grad: 0.0000</text>\n</g>\n<!-- 139946632898448+ -->\n<g id=\"node31\" class=\"node\">\n<title>139946632898448+</title>\n<ellipse fill=\"none\" stroke=\"black\" cx=\"900\" cy=\"-303.5\" rx=\"27\" ry=\"18\"/>\n<text text-anchor=\"middle\" x=\"900\" y=\"-299.8\" font-family=\"Times,serif\" font-size=\"14.00\">+</text>\n</g>\n<!-- 139946632896912&#45;&gt;139946632898448+ -->\n<g id=\"edge12\" class=\"edge\">\n<title>139946632896912&#45;&gt;139946632898448+</title>\n<path fill=\"none\" stroke=\"black\" d=\"M794.4,-347.42C808.36,-342.49 823.32,-336.99 837,-331.5 847.38,-327.33 858.57,-322.42 868.55,-317.88\"/>\n<polygon fill=\"black\" stroke=\"black\" points=\"870.05,-321.04 877.67,-313.67 867.13,-314.68 870.05,-321.04\"/>\n</g>\n<!-- 139946632896912* -->\n<g id=\"node4\" class=\"node\">\n<title>139946632896912*</title>\n<ellipse fill=\"none\" stroke=\"black\" cx=\"579\" cy=\"-375.5\" rx=\"27\" ry=\"18\"/>\n<text text-anchor=\"middle\" x=\"579\" y=\"-371.8\" font-family=\"Times,serif\" font-size=\"14.00\">*</text>\n</g>\n<!-- 139946632896912*&#45;&gt;139946632896912 -->\n<g id=\"edge2\" class=\"edge\">\n<title>139946632896912*&#45;&gt;139946632896912</title>\n<path fill=\"none\" stroke=\"black\" d=\"M606.17,-373.85C614.44,-373.33 624.12,-372.72 634.43,-372.07\"/>\n<polygon fill=\"black\" stroke=\"black\" points=\"634.72,-375.55 644.48,-371.43 634.28,-368.57 634.72,-375.55\"/>\n</g>\n<!-- 139946632897008 -->\n<g id=\"node5\" class=\"node\">\n<title>139946632897008</title>\n<polygon fill=\"none\" stroke=\"black\" points=\"644.5,-285.5 644.5,-321.5 834.5,-321.5 834.5,-285.5 644.5,-285.5\"/>\n<text text-anchor=\"middle\" x=\"654.5\" y=\"-299.8\" font-family=\"Times,serif\" font-size=\"14.00\"> </text>\n<polyline fill=\"none\" stroke=\"black\" points=\"664.5,-285.5 664.5,-321.5 \"/>\n<text text-anchor=\"middle\" x=\"706.5\" y=\"-299.8\" font-family=\"Times,serif\" font-size=\"14.00\">data: 0.3895</text>\n<polyline fill=\"none\" stroke=\"black\" points=\"748.5,-285.5 748.5,-321.5 \"/>\n<text text-anchor=\"middle\" x=\"791.5\" y=\"-299.8\" font-family=\"Times,serif\" font-size=\"14.00\">grad: 0.0000</text>\n</g>\n<!-- 139946632897008&#45;&gt;139946632898448+ -->\n<g id=\"edge14\" class=\"edge\">\n<title>139946632897008&#45;&gt;139946632898448+</title>\n<path fill=\"none\" stroke=\"black\" d=\"M834.53,-303.5C844.48,-303.5 854.11,-303.5 862.76,-303.5\"/>\n<polygon fill=\"black\" stroke=\"black\" points=\"862.78,-307 872.78,-303.5 862.78,-300 862.78,-307\"/>\n</g>\n<!-- 139946632897008+ -->\n<g id=\"node6\" class=\"node\">\n<title>139946632897008+</title>\n<ellipse fill=\"none\" stroke=\"black\" cx=\"579\" cy=\"-303.5\" rx=\"27\" ry=\"18\"/>\n<text text-anchor=\"middle\" x=\"579\" y=\"-299.8\" font-family=\"Times,serif\" font-size=\"14.00\">+</text>\n</g>\n<!-- 139946632897008+&#45;&gt;139946632897008 -->\n<g id=\"edge3\" class=\"edge\">\n<title>139946632897008+&#45;&gt;139946632897008</title>\n<path fill=\"none\" stroke=\"black\" d=\"M606.17,-303.5C614.44,-303.5 624.12,-303.5 634.43,-303.5\"/>\n<polygon fill=\"black\" stroke=\"black\" points=\"634.48,-307 644.48,-303.5 634.48,-300 634.48,-307\"/>\n</g>\n<!-- 139946633060896 -->\n<g id=\"node7\" class=\"node\">\n<title>139946633060896</title>\n<polygon fill=\"none\" stroke=\"black\" points=\"321,-302.5 321,-338.5 516,-338.5 516,-302.5 321,-302.5\"/>\n<text text-anchor=\"middle\" x=\"331\" y=\"-316.8\" font-family=\"Times,serif\" font-size=\"14.00\"> </text>\n<polyline fill=\"none\" stroke=\"black\" points=\"341,-302.5 341,-338.5 \"/>\n<text text-anchor=\"middle\" x=\"385.5\" y=\"-316.8\" font-family=\"Times,serif\" font-size=\"14.00\">data: &#45;0.3977</text>\n<polyline fill=\"none\" stroke=\"black\" points=\"430,-302.5 430,-338.5 \"/>\n<text text-anchor=\"middle\" x=\"473\" y=\"-316.8\" font-family=\"Times,serif\" font-size=\"14.00\">grad: 0.0000</text>\n</g>\n<!-- 139946633060896&#45;&gt;139946632897008+ -->\n<g id=\"edge27\" class=\"edge\">\n<title>139946633060896&#45;&gt;139946632897008+</title>\n<path fill=\"none\" stroke=\"black\" d=\"M516.27,-310.12C525.31,-309.15 534.02,-308.22 541.92,-307.37\"/>\n<polygon fill=\"black\" stroke=\"black\" points=\"542.56,-310.82 552.13,-306.27 541.82,-303.86 542.56,-310.82\"/>\n</g>\n<!-- 139946633060992 -->\n<g id=\"node8\" class=\"node\">\n<title>139946633060992</title>\n<polygon fill=\"none\" stroke=\"black\" points=\"0,-55.5 0,-91.5 195,-91.5 195,-55.5 0,-55.5\"/>\n<text text-anchor=\"middle\" x=\"10\" y=\"-69.8\" font-family=\"Times,serif\" font-size=\"14.00\"> </text>\n<polyline fill=\"none\" stroke=\"black\" points=\"20,-55.5 20,-91.5 \"/>\n<text text-anchor=\"middle\" x=\"64.5\" y=\"-69.8\" font-family=\"Times,serif\" font-size=\"14.00\">data: &#45;0.7999</text>\n<polyline fill=\"none\" stroke=\"black\" points=\"109,-55.5 109,-91.5 \"/>\n<text text-anchor=\"middle\" x=\"152\" y=\"-69.8\" font-family=\"Times,serif\" font-size=\"14.00\">grad: 0.0000</text>\n</g>\n<!-- 139946633063920* -->\n<g id=\"node29\" class=\"node\">\n<title>139946633063920*</title>\n<ellipse fill=\"none\" stroke=\"black\" cx=\"258\" cy=\"-45.5\" rx=\"27\" ry=\"18\"/>\n<text text-anchor=\"middle\" x=\"258\" y=\"-41.8\" font-family=\"Times,serif\" font-size=\"14.00\">*</text>\n</g>\n<!-- 139946633060992&#45;&gt;139946633063920* -->\n<g id=\"edge22\" class=\"edge\">\n<title>139946633060992&#45;&gt;139946633063920*</title>\n<path fill=\"none\" stroke=\"black\" d=\"M195.27,-56.41C204.59,-54.76 213.57,-53.17 221.66,-51.74\"/>\n<polygon fill=\"black\" stroke=\"black\" points=\"222.49,-55.15 231.73,-49.96 221.28,-48.26 222.49,-55.15\"/>\n</g>\n<!-- 139946633061040 -->\n<g id=\"node9\" class=\"node\">\n<title>139946633061040</title>\n<polygon fill=\"none\" stroke=\"black\" points=\"323.5,-412.5 323.5,-448.5 513.5,-448.5 513.5,-412.5 323.5,-412.5\"/>\n<text text-anchor=\"middle\" x=\"333.5\" y=\"-426.8\" font-family=\"Times,serif\" font-size=\"14.00\"> </text>\n<polyline fill=\"none\" stroke=\"black\" points=\"343.5,-412.5 343.5,-448.5 \"/>\n<text text-anchor=\"middle\" x=\"385.5\" y=\"-426.8\" font-family=\"Times,serif\" font-size=\"14.00\">data: 0.4367</text>\n<polyline fill=\"none\" stroke=\"black\" points=\"427.5,-412.5 427.5,-448.5 \"/>\n<text text-anchor=\"middle\" x=\"470.5\" y=\"-426.8\" font-family=\"Times,serif\" font-size=\"14.00\">grad: 0.0000</text>\n</g>\n<!-- 139946633061040&#45;&gt;139946632896912* -->\n<g id=\"edge25\" class=\"edge\">\n<title>139946633061040&#45;&gt;139946632896912*</title>\n<path fill=\"none\" stroke=\"black\" d=\"M488.96,-412.43C498.12,-409.65 507.33,-406.65 516,-403.5 526.52,-399.68 537.74,-394.85 547.7,-390.29\"/>\n<polygon fill=\"black\" stroke=\"black\" points=\"549.23,-393.44 556.81,-386.03 546.27,-387.09 549.23,-393.44\"/>\n</g>\n<!-- 139946632899360 -->\n<g id=\"node10\" class=\"node\">\n<title>139946632899360</title>\n<polygon fill=\"none\" stroke=\"black\" points=\"1286.5,-244.5 1286.5,-280.5 1476.5,-280.5 1476.5,-244.5 1286.5,-244.5\"/>\n<text text-anchor=\"middle\" x=\"1296.5\" y=\"-258.8\" font-family=\"Times,serif\" font-size=\"14.00\"> </text>\n<polyline fill=\"none\" stroke=\"black\" points=\"1306.5,-244.5 1306.5,-280.5 \"/>\n<text text-anchor=\"middle\" x=\"1348.5\" y=\"-258.8\" font-family=\"Times,serif\" font-size=\"14.00\">data: 0.9354</text>\n<polyline fill=\"none\" stroke=\"black\" points=\"1390.5,-244.5 1390.5,-280.5 \"/>\n<text text-anchor=\"middle\" x=\"1433.5\" y=\"-258.8\" font-family=\"Times,serif\" font-size=\"14.00\">grad: 0.0000</text>\n</g>\n<!-- 139946633061664+ -->\n<g id=\"node26\" class=\"node\">\n<title>139946633061664+</title>\n<ellipse fill=\"none\" stroke=\"black\" cx=\"1542\" cy=\"-234.5\" rx=\"27\" ry=\"18\"/>\n<text text-anchor=\"middle\" x=\"1542\" y=\"-230.8\" font-family=\"Times,serif\" font-size=\"14.00\">+</text>\n</g>\n<!-- 139946632899360&#45;&gt;139946633061664+ -->\n<g id=\"edge28\" class=\"edge\">\n<title>139946632899360&#45;&gt;139946633061664+</title>\n<path fill=\"none\" stroke=\"black\" d=\"M1476.53,-245.89C1486.88,-244.06 1496.88,-242.29 1505.79,-240.72\"/>\n<polygon fill=\"black\" stroke=\"black\" points=\"1506.47,-244.15 1515.71,-238.97 1505.25,-237.26 1506.47,-244.15\"/>\n</g>\n<!-- 139946632899360tanh -->\n<g id=\"node11\" class=\"node\">\n<title>139946632899360tanh</title>\n<ellipse fill=\"none\" stroke=\"black\" cx=\"1221\" cy=\"-262.5\" rx=\"27\" ry=\"18\"/>\n<text text-anchor=\"middle\" x=\"1221\" y=\"-258.8\" font-family=\"Times,serif\" font-size=\"14.00\">tanh</text>\n</g>\n<!-- 139946632899360tanh&#45;&gt;139946632899360 -->\n<g id=\"edge4\" class=\"edge\">\n<title>139946632899360tanh&#45;&gt;139946632899360</title>\n<path fill=\"none\" stroke=\"black\" d=\"M1248.17,-262.5C1256.44,-262.5 1266.12,-262.5 1276.43,-262.5\"/>\n<polygon fill=\"black\" stroke=\"black\" points=\"1276.48,-266 1286.48,-262.5 1276.48,-259 1276.48,-266\"/>\n</g>\n<!-- 139946633061184 -->\n<g id=\"node12\" class=\"node\">\n<title>139946633061184</title>\n<polygon fill=\"none\" stroke=\"black\" points=\"321,-192.5 321,-228.5 516,-228.5 516,-192.5 321,-192.5\"/>\n<text text-anchor=\"middle\" x=\"331\" y=\"-206.8\" font-family=\"Times,serif\" font-size=\"14.00\"> </text>\n<polyline fill=\"none\" stroke=\"black\" points=\"341,-192.5 341,-228.5 \"/>\n<text text-anchor=\"middle\" x=\"385.5\" y=\"-206.8\" font-family=\"Times,serif\" font-size=\"14.00\">data: &#45;0.7522</text>\n<polyline fill=\"none\" stroke=\"black\" points=\"430,-192.5 430,-228.5 \"/>\n<text text-anchor=\"middle\" x=\"473\" y=\"-206.8\" font-family=\"Times,serif\" font-size=\"14.00\">grad: 0.0000</text>\n</g>\n<!-- 139946633063488* -->\n<g id=\"node21\" class=\"node\">\n<title>139946633063488*</title>\n<ellipse fill=\"none\" stroke=\"black\" cx=\"579\" cy=\"-196.5\" rx=\"27\" ry=\"18\"/>\n<text text-anchor=\"middle\" x=\"579\" y=\"-192.8\" font-family=\"Times,serif\" font-size=\"14.00\">*</text>\n</g>\n<!-- 139946633061184&#45;&gt;139946633063488* -->\n<g id=\"edge15\" class=\"edge\">\n<title>139946633061184&#45;&gt;139946633063488*</title>\n<path fill=\"none\" stroke=\"black\" d=\"M516.27,-201.95C525.31,-201.15 534.02,-200.38 541.92,-199.69\"/>\n<polygon fill=\"black\" stroke=\"black\" points=\"542.48,-203.15 552.13,-198.78 541.86,-196.18 542.48,-203.15\"/>\n</g>\n<!-- 139946632897344 -->\n<g id=\"node13\" class=\"node\">\n<title>139946632897344</title>\n<polygon fill=\"none\" stroke=\"black\" points=\"2.5,-275.5 2.5,-311.5 192.5,-311.5 192.5,-275.5 2.5,-275.5\"/>\n<text text-anchor=\"middle\" x=\"12.5\" y=\"-289.8\" font-family=\"Times,serif\" font-size=\"14.00\"> </text>\n<polyline fill=\"none\" stroke=\"black\" points=\"22.5,-275.5 22.5,-311.5 \"/>\n<text text-anchor=\"middle\" x=\"64.5\" y=\"-289.8\" font-family=\"Times,serif\" font-size=\"14.00\">data: 2.0000</text>\n<polyline fill=\"none\" stroke=\"black\" points=\"106.5,-275.5 106.5,-311.5 \"/>\n<text text-anchor=\"middle\" x=\"149.5\" y=\"-289.8\" font-family=\"Times,serif\" font-size=\"14.00\">grad: 0.0000</text>\n</g>\n<!-- 139946632897776* -->\n<g id=\"node24\" class=\"node\">\n<title>139946632897776*</title>\n<ellipse fill=\"none\" stroke=\"black\" cx=\"258\" cy=\"-265.5\" rx=\"27\" ry=\"18\"/>\n<text text-anchor=\"middle\" x=\"258\" y=\"-261.8\" font-family=\"Times,serif\" font-size=\"14.00\">*</text>\n</g>\n<!-- 139946632897344&#45;&gt;139946632897776* -->\n<g id=\"edge20\" class=\"edge\">\n<title>139946632897344&#45;&gt;139946632897776*</title>\n<path fill=\"none\" stroke=\"black\" d=\"M192.53,-276.89C202.88,-275.06 212.88,-273.29 221.79,-271.72\"/>\n<polygon fill=\"black\" stroke=\"black\" points=\"222.47,-275.15 231.71,-269.97 221.25,-268.26 222.47,-275.15\"/>\n</g>\n<!-- 139946633061280 -->\n<g id=\"node14\" class=\"node\">\n<title>139946633061280</title>\n<polygon fill=\"none\" stroke=\"black\" points=\"2.5,-220.5 2.5,-256.5 192.5,-256.5 192.5,-220.5 2.5,-220.5\"/>\n<text text-anchor=\"middle\" x=\"12.5\" y=\"-234.8\" font-family=\"Times,serif\" font-size=\"14.00\"> </text>\n<polyline fill=\"none\" stroke=\"black\" points=\"22.5,-220.5 22.5,-256.5 \"/>\n<text text-anchor=\"middle\" x=\"64.5\" y=\"-234.8\" font-family=\"Times,serif\" font-size=\"14.00\">data: 0.3936</text>\n<polyline fill=\"none\" stroke=\"black\" points=\"106.5,-220.5 106.5,-256.5 \"/>\n<text text-anchor=\"middle\" x=\"149.5\" y=\"-234.8\" font-family=\"Times,serif\" font-size=\"14.00\">grad: 0.0000</text>\n</g>\n<!-- 139946633061280&#45;&gt;139946632897776* -->\n<g id=\"edge16\" class=\"edge\">\n<title>139946633061280&#45;&gt;139946632897776*</title>\n<path fill=\"none\" stroke=\"black\" d=\"M192.53,-254.52C202.88,-256.28 212.88,-257.98 221.79,-259.5\"/>\n<polygon fill=\"black\" stroke=\"black\" points=\"221.26,-262.96 231.71,-261.19 222.44,-256.06 221.26,-262.96\"/>\n</g>\n<!-- 139946633063344 -->\n<g id=\"node15\" class=\"node\">\n<title>139946633063344</title>\n<polygon fill=\"none\" stroke=\"black\" points=\"963,-189.5 963,-225.5 1158,-225.5 1158,-189.5 963,-189.5\"/>\n<text text-anchor=\"middle\" x=\"973\" y=\"-203.8\" font-family=\"Times,serif\" font-size=\"14.00\"> </text>\n<polyline fill=\"none\" stroke=\"black\" points=\"983,-189.5 983,-225.5 \"/>\n<text text-anchor=\"middle\" x=\"1027.5\" y=\"-203.8\" font-family=\"Times,serif\" font-size=\"14.00\">data: &#45;4.2498</text>\n<polyline fill=\"none\" stroke=\"black\" points=\"1072,-189.5 1072,-225.5 \"/>\n<text text-anchor=\"middle\" x=\"1115\" y=\"-203.8\" font-family=\"Times,serif\" font-size=\"14.00\">grad: 0.0000</text>\n</g>\n<!-- 139946633063440tanh -->\n<g id=\"node19\" class=\"node\">\n<title>139946633063440tanh</title>\n<ellipse fill=\"none\" stroke=\"black\" cx=\"1221\" cy=\"-207.5\" rx=\"27\" ry=\"18\"/>\n<text text-anchor=\"middle\" x=\"1221\" y=\"-203.8\" font-family=\"Times,serif\" font-size=\"14.00\">tanh</text>\n</g>\n<!-- 139946633063344&#45;&gt;139946633063440tanh -->\n<g id=\"edge29\" class=\"edge\">\n<title>139946633063344&#45;&gt;139946633063440tanh</title>\n<path fill=\"none\" stroke=\"black\" d=\"M1158.27,-207.5C1167.22,-207.5 1175.85,-207.5 1183.69,-207.5\"/>\n<polygon fill=\"black\" stroke=\"black\" points=\"1183.83,-211 1193.83,-207.5 1183.83,-204 1183.83,-211\"/>\n</g>\n<!-- 139946633063344+&#45;&gt;139946633063344 -->\n<g id=\"edge5\" class=\"edge\">\n<title>139946633063344+&#45;&gt;139946633063344</title>\n<path fill=\"none\" stroke=\"black\" d=\"M927.17,-198.32C934.66,-198.84 943.32,-199.44 952.56,-200.08\"/>\n<polygon fill=\"black\" stroke=\"black\" points=\"952.56,-203.59 962.78,-200.79 953.04,-196.6 952.56,-203.59\"/>\n</g>\n<!-- 139946633061376 -->\n<g id=\"node17\" class=\"node\">\n<title>139946633061376</title>\n<polygon fill=\"none\" stroke=\"black\" points=\"321,-82.5 321,-118.5 516,-118.5 516,-82.5 321,-82.5\"/>\n<text text-anchor=\"middle\" x=\"331\" y=\"-96.8\" font-family=\"Times,serif\" font-size=\"14.00\"> </text>\n<polyline fill=\"none\" stroke=\"black\" points=\"341,-82.5 341,-118.5 \"/>\n<text text-anchor=\"middle\" x=\"385.5\" y=\"-96.8\" font-family=\"Times,serif\" font-size=\"14.00\">data: &#45;0.3933</text>\n<polyline fill=\"none\" stroke=\"black\" points=\"430,-82.5 430,-118.5 \"/>\n<text text-anchor=\"middle\" x=\"473\" y=\"-96.8\" font-family=\"Times,serif\" font-size=\"14.00\">grad: 0.0000</text>\n</g>\n<!-- 139946633061376&#45;&gt;139946633060608+ -->\n<g id=\"edge23\" class=\"edge\">\n<title>139946633061376&#45;&gt;139946633060608+</title>\n<path fill=\"none\" stroke=\"black\" d=\"M516.27,-100.5C525.22,-100.5 533.85,-100.5 541.69,-100.5\"/>\n<polygon fill=\"black\" stroke=\"black\" points=\"541.83,-104 551.83,-100.5 541.83,-97 541.83,-104\"/>\n</g>\n<!-- 139946633063440 -->\n<g id=\"node18\" class=\"node\">\n<title>139946633063440</title>\n<polygon fill=\"none\" stroke=\"black\" points=\"1284,-189.5 1284,-225.5 1479,-225.5 1479,-189.5 1284,-189.5\"/>\n<text text-anchor=\"middle\" x=\"1294\" y=\"-203.8\" font-family=\"Times,serif\" font-size=\"14.00\"> </text>\n<polyline fill=\"none\" stroke=\"black\" points=\"1304,-189.5 1304,-225.5 \"/>\n<text text-anchor=\"middle\" x=\"1348.5\" y=\"-203.8\" font-family=\"Times,serif\" font-size=\"14.00\">data: &#45;0.9996</text>\n<polyline fill=\"none\" stroke=\"black\" points=\"1393,-189.5 1393,-225.5 \"/>\n<text text-anchor=\"middle\" x=\"1436\" y=\"-203.8\" font-family=\"Times,serif\" font-size=\"14.00\">grad: 0.0000</text>\n</g>\n<!-- 139946633063440&#45;&gt;139946633061664+ -->\n<g id=\"edge17\" class=\"edge\">\n<title>139946633063440&#45;&gt;139946633061664+</title>\n<path fill=\"none\" stroke=\"black\" d=\"M1479.27,-223.98C1488.59,-225.57 1497.57,-227.1 1505.66,-228.48\"/>\n<polygon fill=\"black\" stroke=\"black\" points=\"1505.29,-231.97 1515.73,-230.2 1506.46,-225.07 1505.29,-231.97\"/>\n</g>\n<!-- 139946633063440tanh&#45;&gt;139946633063440 -->\n<g id=\"edge6\" class=\"edge\">\n<title>139946633063440tanh&#45;&gt;139946633063440</title>\n<path fill=\"none\" stroke=\"black\" d=\"M1248.17,-207.5C1255.66,-207.5 1264.32,-207.5 1273.56,-207.5\"/>\n<polygon fill=\"black\" stroke=\"black\" points=\"1273.78,-211 1283.78,-207.5 1273.78,-204 1273.78,-211\"/>\n</g>\n<!-- 139946633063488 -->\n<g id=\"node20\" class=\"node\">\n<title>139946633063488</title>\n<polygon fill=\"none\" stroke=\"black\" points=\"642,-178.5 642,-214.5 837,-214.5 837,-178.5 642,-178.5\"/>\n<text text-anchor=\"middle\" x=\"652\" y=\"-192.8\" font-family=\"Times,serif\" font-size=\"14.00\"> </text>\n<polyline fill=\"none\" stroke=\"black\" points=\"662,-178.5 662,-214.5 \"/>\n<text text-anchor=\"middle\" x=\"706.5\" y=\"-192.8\" font-family=\"Times,serif\" font-size=\"14.00\">data: &#45;2.2567</text>\n<polyline fill=\"none\" stroke=\"black\" points=\"751,-178.5 751,-214.5 \"/>\n<text text-anchor=\"middle\" x=\"794\" y=\"-192.8\" font-family=\"Times,serif\" font-size=\"14.00\">grad: 0.0000</text>\n</g>\n<!-- 139946633063488&#45;&gt;139946633063344+ -->\n<g id=\"edge24\" class=\"edge\">\n<title>139946633063488&#45;&gt;139946633063344+</title>\n<path fill=\"none\" stroke=\"black\" d=\"M837.27,-196.5C846.22,-196.5 854.85,-196.5 862.69,-196.5\"/>\n<polygon fill=\"black\" stroke=\"black\" points=\"862.83,-200 872.83,-196.5 862.83,-193 862.83,-200\"/>\n</g>\n<!-- 139946633063488*&#45;&gt;139946633063488 -->\n<g id=\"edge7\" class=\"edge\">\n<title>139946633063488*&#45;&gt;139946633063488</title>\n<path fill=\"none\" stroke=\"black\" d=\"M606.17,-196.5C613.66,-196.5 622.32,-196.5 631.56,-196.5\"/>\n<polygon fill=\"black\" stroke=\"black\" points=\"631.78,-200 641.78,-196.5 631.78,-193 631.78,-200\"/>\n</g>\n<!-- 139946633063584 -->\n<g id=\"node22\" class=\"node\">\n<title>139946633063584</title>\n<polygon fill=\"none\" stroke=\"black\" points=\"323.5,-137.5 323.5,-173.5 513.5,-173.5 513.5,-137.5 323.5,-137.5\"/>\n<text text-anchor=\"middle\" x=\"333.5\" y=\"-151.8\" font-family=\"Times,serif\" font-size=\"14.00\"> </text>\n<polyline fill=\"none\" stroke=\"black\" points=\"343.5,-137.5 343.5,-173.5 \"/>\n<text text-anchor=\"middle\" x=\"385.5\" y=\"-151.8\" font-family=\"Times,serif\" font-size=\"14.00\">data: 3.0000</text>\n<polyline fill=\"none\" stroke=\"black\" points=\"427.5,-137.5 427.5,-173.5 \"/>\n<text text-anchor=\"middle\" x=\"470.5\" y=\"-151.8\" font-family=\"Times,serif\" font-size=\"14.00\">grad: 0.0000</text>\n</g>\n<!-- 139946633063584&#45;&gt;139946633063488* -->\n<g id=\"edge30\" class=\"edge\">\n<title>139946633063584&#45;&gt;139946633063488*</title>\n<path fill=\"none\" stroke=\"black\" d=\"M489.48,-173.6C508.26,-178.46 527.74,-183.5 543.63,-187.61\"/>\n<polygon fill=\"black\" stroke=\"black\" points=\"542.95,-191.05 553.51,-190.16 544.7,-184.27 542.95,-191.05\"/>\n</g>\n<!-- 139946632897776 -->\n<g id=\"node23\" class=\"node\">\n<title>139946632897776</title>\n<polygon fill=\"none\" stroke=\"black\" points=\"323.5,-247.5 323.5,-283.5 513.5,-283.5 513.5,-247.5 323.5,-247.5\"/>\n<text text-anchor=\"middle\" x=\"333.5\" y=\"-261.8\" font-family=\"Times,serif\" font-size=\"14.00\"> </text>\n<polyline fill=\"none\" stroke=\"black\" points=\"343.5,-247.5 343.5,-283.5 \"/>\n<text text-anchor=\"middle\" x=\"385.5\" y=\"-261.8\" font-family=\"Times,serif\" font-size=\"14.00\">data: 0.7872</text>\n<polyline fill=\"none\" stroke=\"black\" points=\"427.5,-247.5 427.5,-283.5 \"/>\n<text text-anchor=\"middle\" x=\"470.5\" y=\"-261.8\" font-family=\"Times,serif\" font-size=\"14.00\">grad: 0.0000</text>\n</g>\n<!-- 139946632897776&#45;&gt;139946632897008+ -->\n<g id=\"edge31\" class=\"edge\">\n<title>139946632897776&#45;&gt;139946632897008+</title>\n<path fill=\"none\" stroke=\"black\" d=\"M495.04,-283.61C511.97,-287.67 529.14,-291.79 543.43,-295.21\"/>\n<polygon fill=\"black\" stroke=\"black\" points=\"542.74,-298.65 553.28,-297.57 544.37,-291.84 542.74,-298.65\"/>\n</g>\n<!-- 139946632897776*&#45;&gt;139946632897776 -->\n<g id=\"edge8\" class=\"edge\">\n<title>139946632897776*&#45;&gt;139946632897776</title>\n<path fill=\"none\" stroke=\"black\" d=\"M285.17,-265.5C293.44,-265.5 303.12,-265.5 313.43,-265.5\"/>\n<polygon fill=\"black\" stroke=\"black\" points=\"313.48,-269 323.48,-265.5 313.48,-262 313.48,-269\"/>\n</g>\n<!-- 139946633061664 -->\n<g id=\"node25\" class=\"node\">\n<title>139946633061664</title>\n<polygon fill=\"none\" stroke=\"black\" points=\"1605,-216.5 1605,-252.5 1800,-252.5 1800,-216.5 1605,-216.5\"/>\n<text text-anchor=\"middle\" x=\"1615\" y=\"-230.8\" font-family=\"Times,serif\" font-size=\"14.00\"> </text>\n<polyline fill=\"none\" stroke=\"black\" points=\"1625,-216.5 1625,-252.5 \"/>\n<text text-anchor=\"middle\" x=\"1669.5\" y=\"-230.8\" font-family=\"Times,serif\" font-size=\"14.00\">data: &#45;0.0642</text>\n<polyline fill=\"none\" stroke=\"black\" points=\"1714,-216.5 1714,-252.5 \"/>\n<text text-anchor=\"middle\" x=\"1757\" y=\"-230.8\" font-family=\"Times,serif\" font-size=\"14.00\">grad: 0.0000</text>\n</g>\n<!-- 139946633061664+&#45;&gt;139946633061664 -->\n<g id=\"edge9\" class=\"edge\">\n<title>139946633061664+&#45;&gt;139946633061664</title>\n<path fill=\"none\" stroke=\"black\" d=\"M1569.17,-234.5C1576.66,-234.5 1585.32,-234.5 1594.56,-234.5\"/>\n<polygon fill=\"black\" stroke=\"black\" points=\"1594.78,-238 1604.78,-234.5 1594.78,-231 1594.78,-238\"/>\n</g>\n<!-- 139946633063824 -->\n<g id=\"node27\" class=\"node\">\n<title>139946633063824</title>\n<polygon fill=\"none\" stroke=\"black\" points=\"2.5,-0.5 2.5,-36.5 192.5,-36.5 192.5,-0.5 2.5,-0.5\"/>\n<text text-anchor=\"middle\" x=\"12.5\" y=\"-14.8\" font-family=\"Times,serif\" font-size=\"14.00\"> </text>\n<polyline fill=\"none\" stroke=\"black\" points=\"22.5,-0.5 22.5,-36.5 \"/>\n<text text-anchor=\"middle\" x=\"64.5\" y=\"-14.8\" font-family=\"Times,serif\" font-size=\"14.00\">data: 2.0000</text>\n<polyline fill=\"none\" stroke=\"black\" points=\"106.5,-0.5 106.5,-36.5 \"/>\n<text text-anchor=\"middle\" x=\"149.5\" y=\"-14.8\" font-family=\"Times,serif\" font-size=\"14.00\">grad: 0.0000</text>\n</g>\n<!-- 139946633063824&#45;&gt;139946633063920* -->\n<g id=\"edge18\" class=\"edge\">\n<title>139946633063824&#45;&gt;139946633063920*</title>\n<path fill=\"none\" stroke=\"black\" d=\"M192.53,-34.52C202.88,-36.28 212.88,-37.98 221.79,-39.5\"/>\n<polygon fill=\"black\" stroke=\"black\" points=\"221.26,-42.96 231.71,-41.19 222.44,-36.06 221.26,-42.96\"/>\n</g>\n<!-- 139946633063920 -->\n<g id=\"node28\" class=\"node\">\n<title>139946633063920</title>\n<polygon fill=\"none\" stroke=\"black\" points=\"321,-27.5 321,-63.5 516,-63.5 516,-27.5 321,-27.5\"/>\n<text text-anchor=\"middle\" x=\"331\" y=\"-41.8\" font-family=\"Times,serif\" font-size=\"14.00\"> </text>\n<polyline fill=\"none\" stroke=\"black\" points=\"341,-27.5 341,-63.5 \"/>\n<text text-anchor=\"middle\" x=\"385.5\" y=\"-41.8\" font-family=\"Times,serif\" font-size=\"14.00\">data: &#45;1.5998</text>\n<polyline fill=\"none\" stroke=\"black\" points=\"430,-27.5 430,-63.5 \"/>\n<text text-anchor=\"middle\" x=\"473\" y=\"-41.8\" font-family=\"Times,serif\" font-size=\"14.00\">grad: 0.0000</text>\n</g>\n<!-- 139946633063920&#45;&gt;139946633060608+ -->\n<g id=\"edge21\" class=\"edge\">\n<title>139946633063920&#45;&gt;139946633060608+</title>\n<path fill=\"none\" stroke=\"black\" d=\"M485.79,-63.51C495.98,-66.63 506.32,-70 516,-73.5 526.27,-77.21 537.26,-81.79 547.09,-86.11\"/>\n<polygon fill=\"black\" stroke=\"black\" points=\"545.91,-89.42 556.47,-90.31 548.77,-83.03 545.91,-89.42\"/>\n</g>\n<!-- 139946633063920*&#45;&gt;139946633063920 -->\n<g id=\"edge10\" class=\"edge\">\n<title>139946633063920*&#45;&gt;139946633063920</title>\n<path fill=\"none\" stroke=\"black\" d=\"M285.17,-45.5C292.66,-45.5 301.32,-45.5 310.56,-45.5\"/>\n<polygon fill=\"black\" stroke=\"black\" points=\"310.78,-49 320.78,-45.5 310.78,-42 310.78,-49\"/>\n</g>\n<!-- 139946632898448 -->\n<g id=\"node30\" class=\"node\">\n<title>139946632898448</title>\n<polygon fill=\"none\" stroke=\"black\" points=\"965.5,-271.5 965.5,-307.5 1155.5,-307.5 1155.5,-271.5 965.5,-271.5\"/>\n<text text-anchor=\"middle\" x=\"975.5\" y=\"-285.8\" font-family=\"Times,serif\" font-size=\"14.00\"> </text>\n<polyline fill=\"none\" stroke=\"black\" points=\"985.5,-271.5 985.5,-307.5 \"/>\n<text text-anchor=\"middle\" x=\"1027.5\" y=\"-285.8\" font-family=\"Times,serif\" font-size=\"14.00\">data: 1.6997</text>\n<polyline fill=\"none\" stroke=\"black\" points=\"1069.5,-271.5 1069.5,-307.5 \"/>\n<text text-anchor=\"middle\" x=\"1112.5\" y=\"-285.8\" font-family=\"Times,serif\" font-size=\"14.00\">grad: 0.0000</text>\n</g>\n<!-- 139946632898448&#45;&gt;139946632899360tanh -->\n<g id=\"edge26\" class=\"edge\">\n<title>139946632898448&#45;&gt;139946632899360tanh</title>\n<path fill=\"none\" stroke=\"black\" d=\"M1155.53,-273.48C1165.88,-271.72 1175.88,-270.02 1184.79,-268.5\"/>\n<polygon fill=\"black\" stroke=\"black\" points=\"1185.44,-271.94 1194.71,-266.81 1184.26,-265.04 1185.44,-271.94\"/>\n</g>\n<!-- 139946632898448+&#45;&gt;139946632898448 -->\n<g id=\"edge11\" class=\"edge\">\n<title>139946632898448+&#45;&gt;139946632898448</title>\n<path fill=\"none\" stroke=\"black\" d=\"M926.82,-301.22C935.13,-300.49 944.9,-299.62 955.32,-298.7\"/>\n<polygon fill=\"black\" stroke=\"black\" points=\"955.82,-302.17 965.48,-297.8 955.21,-295.2 955.82,-302.17\"/>\n</g>\n<!-- 139946632898544 -->\n<g id=\"node32\" class=\"node\">\n<title>139946632898544</title>\n<polygon fill=\"none\" stroke=\"black\" points=\"323.5,-357.5 323.5,-393.5 513.5,-393.5 513.5,-357.5 323.5,-357.5\"/>\n<text text-anchor=\"middle\" x=\"333.5\" y=\"-371.8\" font-family=\"Times,serif\" font-size=\"14.00\"> </text>\n<polyline fill=\"none\" stroke=\"black\" points=\"343.5,-357.5 343.5,-393.5 \"/>\n<text text-anchor=\"middle\" x=\"385.5\" y=\"-371.8\" font-family=\"Times,serif\" font-size=\"14.00\">data: 3.0000</text>\n<polyline fill=\"none\" stroke=\"black\" points=\"427.5,-357.5 427.5,-393.5 \"/>\n<text text-anchor=\"middle\" x=\"470.5\" y=\"-371.8\" font-family=\"Times,serif\" font-size=\"14.00\">grad: 0.0000</text>\n</g>\n<!-- 139946632898544&#45;&gt;139946632896912* -->\n<g id=\"edge13\" class=\"edge\">\n<title>139946632898544&#45;&gt;139946632896912*</title>\n<path fill=\"none\" stroke=\"black\" d=\"M513.53,-375.5C523.48,-375.5 533.11,-375.5 541.76,-375.5\"/>\n<polygon fill=\"black\" stroke=\"black\" points=\"541.78,-379 551.78,-375.5 541.78,-372 541.78,-379\"/>\n</g>\n</g>\n</svg>\n",
            "text/plain": [
              "<graphviz.graphs.Digraph at 0x7f47dd59ea00>"
            ]
          },
          "metadata": {},
          "execution_count": 11
        }
      ]
    },
    {
      "cell_type": "code",
      "source": [],
      "metadata": {
        "id": "uAQHAd6pe9HR"
      },
      "execution_count": 11,
      "outputs": []
    }
  ]
}