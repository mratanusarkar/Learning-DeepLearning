{
  "nbformat": 4,
  "nbformat_minor": 0,
  "metadata": {
    "colab": {
      "provenance": [],
      "authorship_tag": "ABX9TyMX0TnaRwveiG+CbbEhSYQc"
    },
    "kernelspec": {
      "name": "python3",
      "display_name": "Python 3"
    },
    "language_info": {
      "name": "python"
    }
  },
  "cells": [
    {
      "cell_type": "markdown",
      "source": [
        "# Importing code from the previous notebooks as module"
      ],
      "metadata": {
        "id": "0fFDkGnU9xLZ"
      }
    },
    {
      "cell_type": "code",
      "source": [
        "# instead of copy-pasting the micrograd code everytime\n",
        "# let's use the below code to pull the code in the form of a module"
      ],
      "metadata": {
        "id": "1VsMhvbBAGEh"
      },
      "execution_count": 1,
      "outputs": []
    },
    {
      "cell_type": "code",
      "source": [
        "!git clone https://github.com/mratanusarkar/Learning-DeepLearning.git &> /dev/null\n",
        "%cd /content/Learning-DeepLearning/Neural\\ Networks\\ -\\ Zero\\ to\\ Hero\n",
        "!python setup.py install &> /dev/null"
      ],
      "metadata": {
        "colab": {
          "base_uri": "https://localhost:8080/"
        },
        "id": "LGILwib05hHT",
        "outputId": "a3641945-f9a6-4714-c8b7-900cf61eed4f"
      },
      "execution_count": 2,
      "outputs": [
        {
          "output_type": "stream",
          "name": "stdout",
          "text": [
            "/content/Learning-DeepLearning/Neural Networks - Zero to Hero\n"
          ]
        }
      ]
    },
    {
      "cell_type": "code",
      "source": [
        "from micrograd.engine import Value\n",
        "from micrograd.visualize import draw_dot"
      ],
      "metadata": {
        "id": "QGDXoQsRlQQf"
      },
      "execution_count": 3,
      "outputs": []
    },
    {
      "cell_type": "code",
      "source": [
        "import random"
      ],
      "metadata": {
        "id": "ym9E-KtBOxGv"
      },
      "execution_count": 4,
      "outputs": []
    },
    {
      "cell_type": "markdown",
      "source": [
        "# Neural Networks Class"
      ],
      "metadata": {
        "id": "41a9wOtV-7Vj"
      }
    },
    {
      "cell_type": "code",
      "execution_count": 5,
      "metadata": {
        "id": "sgAT4wm5Fbxh"
      },
      "outputs": [],
      "source": [
        "# okay, so now that we have tools in our hand to build out complicated mathematical expressions \n",
        "# we can now focus on starting to build out neural nets\n",
        "# neural nets are nothing but a specific class of mathematical expressions"
      ]
    },
    {
      "cell_type": "code",
      "source": [
        "# let's build a multi-layer perceptron\n",
        "# we have already built a neuron before, \n",
        "# but let's build a class this time that matches the design in torch api"
      ],
      "metadata": {
        "id": "YYrXYve1FyC7"
      },
      "execution_count": 6,
      "outputs": []
    },
    {
      "cell_type": "code",
      "source": [
        "class NoobNeuron:\n",
        "\n",
        "    def __init__(self, nin) -> None:\n",
        "        \"\"\"\n",
        "        Constructs a neuron that has `nin` inputs and assigns random weights & bias to the neuron\n",
        "\n",
        "        Parameters\n",
        "        ----------\n",
        "            nin : int\n",
        "                number of inputs entering into the neuron\n",
        "        \"\"\"\n",
        "\n",
        "        self.w = [Value(random.uniform(-1,1)) for _ in range(nin)]\n",
        "        self.b = Value(random.uniform(-1,1))\n",
        "\n",
        "    def __call__(self, x):\n",
        "        \"\"\"\n",
        "        Takes in a list of all `nin` input `x values`, \n",
        "        Computes the body by doing `sum(w.x + b)` and \n",
        "        Passes the result through a non-linear activation function to return output\n",
        "\n",
        "        `out = f(sum(w.x + b))`\n",
        "\n",
        "        Parameters\n",
        "        ----------\n",
        "            x : list(float)\n",
        "                the input values or the x\n",
        "        \"\"\"\n",
        "\n",
        "        sum = Value(0.0, label='sum')\n",
        "        for i, (xi, wi) in enumerate(zip(x, self.w)):\n",
        "            # inputs\n",
        "            x = Value(xi, label=f'x{i}')\n",
        "\n",
        "            # weights\n",
        "            w = wi;         w.label=f'w{i}'\n",
        "\n",
        "            # dendrites of the neuron (inputs weighted)\n",
        "            den = x * w;    den.label=f'den{i}'\n",
        "\n",
        "            # sum of dendrite signals inside cell body\n",
        "            sum = sum + den;\n",
        "\n",
        "        # bias of the neuron\n",
        "        b = self.b;     b.label='b'\n",
        "\n",
        "        # bias gets added inside the body\n",
        "        body = sum + b;     body.label='body'\n",
        "\n",
        "        # the net signal passes through a non-linear activation function\n",
        "        out = body.tanh()\n",
        "        out.label='out'\n",
        "\n",
        "        return out"
      ],
      "metadata": {
        "id": "7QQw8i0d8GBK"
      },
      "execution_count": 7,
      "outputs": []
    },
    {
      "cell_type": "code",
      "source": [
        "x = [2.0, 3.0]\n",
        "n = NoobNeuron(2)\n",
        "n = n(x)\n",
        "draw_dot(n)"
      ],
      "metadata": {
        "colab": {
          "base_uri": "https://localhost:8080/",
          "height": 322
        },
        "id": "n8B8n6r-WS_-",
        "outputId": "dc3578c0-eff8-4f45-b87f-7b0d3aeee785"
      },
      "execution_count": 8,
      "outputs": [
        {
          "output_type": "execute_result",
          "data": {
            "image/svg+xml": "<?xml version=\"1.0\" encoding=\"UTF-8\" standalone=\"no\"?>\n<!DOCTYPE svg PUBLIC \"-//W3C//DTD SVG 1.1//EN\"\n \"http://www.w3.org/Graphics/SVG/1.1/DTD/svg11.dtd\">\n<!-- Generated by graphviz version 2.43.0 (0)\n -->\n<!-- Title: %3 Pages: 1 -->\n<svg width=\"1898pt\" height=\"210pt\"\n viewBox=\"0.00 0.00 1898.00 210.00\" xmlns=\"http://www.w3.org/2000/svg\" xmlns:xlink=\"http://www.w3.org/1999/xlink\">\n<g id=\"graph0\" class=\"graph\" transform=\"scale(1 1) rotate(0) translate(4 206)\">\n<title>%3</title>\n<polygon fill=\"white\" stroke=\"transparent\" points=\"-4,4 -4,-206 1894,-206 1894,4 -4,4\"/>\n<!-- 139727571228704 -->\n<g id=\"node1\" class=\"node\">\n<title>139727571228704</title>\n<polygon fill=\"none\" stroke=\"black\" points=\"1012,-137.5 1012,-173.5 1210,-173.5 1210,-137.5 1012,-137.5\"/>\n<text text-anchor=\"middle\" x=\"1023.5\" y=\"-151.8\" font-family=\"Times,serif\" font-size=\"14.00\">b</text>\n<polyline fill=\"none\" stroke=\"black\" points=\"1035,-137.5 1035,-173.5 \"/>\n<text text-anchor=\"middle\" x=\"1079.5\" y=\"-151.8\" font-family=\"Times,serif\" font-size=\"14.00\">data: &#45;0.8752</text>\n<polyline fill=\"none\" stroke=\"black\" points=\"1124,-137.5 1124,-173.5 \"/>\n<text text-anchor=\"middle\" x=\"1167\" y=\"-151.8\" font-family=\"Times,serif\" font-size=\"14.00\">grad: 0.0000</text>\n</g>\n<!-- 139727571227600+ -->\n<g id=\"node16\" class=\"node\">\n<title>139727571227600+</title>\n<ellipse fill=\"none\" stroke=\"black\" cx=\"1273\" cy=\"-127.5\" rx=\"27\" ry=\"18\"/>\n<text text-anchor=\"middle\" x=\"1273\" y=\"-123.8\" font-family=\"Times,serif\" font-size=\"14.00\">+</text>\n</g>\n<!-- 139727571228704&#45;&gt;139727571227600+ -->\n<g id=\"edge12\" class=\"edge\">\n<title>139727571228704&#45;&gt;139727571227600+</title>\n<path fill=\"none\" stroke=\"black\" d=\"M1210.14,-138.33C1219.5,-136.69 1228.5,-135.11 1236.61,-133.69\"/>\n<polygon fill=\"black\" stroke=\"black\" points=\"1237.46,-137.1 1246.7,-131.93 1236.25,-130.2 1237.46,-137.1\"/>\n</g>\n<!-- 139727571227696 -->\n<g id=\"node2\" class=\"node\">\n<title>139727571227696</title>\n<polygon fill=\"none\" stroke=\"black\" points=\"1013.5,-82.5 1013.5,-118.5 1208.5,-118.5 1208.5,-82.5 1013.5,-82.5\"/>\n<text text-anchor=\"middle\" x=\"1023.5\" y=\"-96.8\" font-family=\"Times,serif\" font-size=\"14.00\"> </text>\n<polyline fill=\"none\" stroke=\"black\" points=\"1033.5,-82.5 1033.5,-118.5 \"/>\n<text text-anchor=\"middle\" x=\"1078\" y=\"-96.8\" font-family=\"Times,serif\" font-size=\"14.00\">data: &#45;0.3282</text>\n<polyline fill=\"none\" stroke=\"black\" points=\"1122.5,-82.5 1122.5,-118.5 \"/>\n<text text-anchor=\"middle\" x=\"1165.5\" y=\"-96.8\" font-family=\"Times,serif\" font-size=\"14.00\">grad: 0.0000</text>\n</g>\n<!-- 139727571227696&#45;&gt;139727571227600+ -->\n<g id=\"edge8\" class=\"edge\">\n<title>139727571227696&#45;&gt;139727571227600+</title>\n<path fill=\"none\" stroke=\"black\" d=\"M1208.76,-116.83C1218.68,-118.5 1228.24,-120.12 1236.79,-121.56\"/>\n<polygon fill=\"black\" stroke=\"black\" points=\"1236.24,-125.01 1246.68,-123.23 1237.4,-118.11 1236.24,-125.01\"/>\n</g>\n<!-- 139727571227696+ -->\n<g id=\"node3\" class=\"node\">\n<title>139727571227696+</title>\n<ellipse fill=\"none\" stroke=\"black\" cx=\"949\" cy=\"-100.5\" rx=\"27\" ry=\"18\"/>\n<text text-anchor=\"middle\" x=\"949\" y=\"-96.8\" font-family=\"Times,serif\" font-size=\"14.00\">+</text>\n</g>\n<!-- 139727571227696+&#45;&gt;139727571227696 -->\n<g id=\"edge1\" class=\"edge\">\n<title>139727571227696+&#45;&gt;139727571227696</title>\n<path fill=\"none\" stroke=\"black\" d=\"M976.06,-100.5C984.03,-100.5 993.34,-100.5 1003.27,-100.5\"/>\n<polygon fill=\"black\" stroke=\"black\" points=\"1003.37,-104 1013.37,-100.5 1003.37,-97 1003.37,-104\"/>\n</g>\n<!-- 139727571228272 -->\n<g id=\"node4\" class=\"node\">\n<title>139727571228272</title>\n<polygon fill=\"none\" stroke=\"black\" points=\"0,-83.5 0,-119.5 203,-119.5 203,-83.5 0,-83.5\"/>\n<text text-anchor=\"middle\" x=\"16.5\" y=\"-97.8\" font-family=\"Times,serif\" font-size=\"14.00\">w0</text>\n<polyline fill=\"none\" stroke=\"black\" points=\"33,-83.5 33,-119.5 \"/>\n<text text-anchor=\"middle\" x=\"75\" y=\"-97.8\" font-family=\"Times,serif\" font-size=\"14.00\">data: 0.8305</text>\n<polyline fill=\"none\" stroke=\"black\" points=\"117,-83.5 117,-119.5 \"/>\n<text text-anchor=\"middle\" x=\"160\" y=\"-97.8\" font-family=\"Times,serif\" font-size=\"14.00\">grad: 0.0000</text>\n</g>\n<!-- 139727571230432* -->\n<g id=\"node8\" class=\"node\">\n<title>139727571230432*</title>\n<ellipse fill=\"none\" stroke=\"black\" cx=\"266\" cy=\"-73.5\" rx=\"27\" ry=\"18\"/>\n<text text-anchor=\"middle\" x=\"266\" y=\"-69.8\" font-family=\"Times,serif\" font-size=\"14.00\">*</text>\n</g>\n<!-- 139727571228272&#45;&gt;139727571230432* -->\n<g id=\"edge11\" class=\"edge\">\n<title>139727571228272&#45;&gt;139727571230432*</title>\n<path fill=\"none\" stroke=\"black\" d=\"M203.1,-84.17C212.49,-82.55 221.52,-80.99 229.63,-79.59\"/>\n<polygon fill=\"black\" stroke=\"black\" points=\"230.47,-83 239.73,-77.85 229.28,-76.1 230.47,-83\"/>\n</g>\n<!-- 139727571228800 -->\n<g id=\"node5\" class=\"node\">\n<title>139727571228800</title>\n<polygon fill=\"none\" stroke=\"black\" points=\"331.5,-165.5 331.5,-201.5 539.5,-201.5 539.5,-165.5 331.5,-165.5\"/>\n<text text-anchor=\"middle\" x=\"348\" y=\"-179.8\" font-family=\"Times,serif\" font-size=\"14.00\">w1</text>\n<polyline fill=\"none\" stroke=\"black\" points=\"364.5,-165.5 364.5,-201.5 \"/>\n<text text-anchor=\"middle\" x=\"409\" y=\"-179.8\" font-family=\"Times,serif\" font-size=\"14.00\">data: &#45;0.6631</text>\n<polyline fill=\"none\" stroke=\"black\" points=\"453.5,-165.5 453.5,-201.5 \"/>\n<text text-anchor=\"middle\" x=\"496.5\" y=\"-179.8\" font-family=\"Times,serif\" font-size=\"14.00\">grad: 0.0000</text>\n</g>\n<!-- 139727571229952* -->\n<g id=\"node10\" class=\"node\">\n<title>139727571229952*</title>\n<ellipse fill=\"none\" stroke=\"black\" cx=\"605\" cy=\"-128.5\" rx=\"27\" ry=\"18\"/>\n<text text-anchor=\"middle\" x=\"605\" y=\"-124.8\" font-family=\"Times,serif\" font-size=\"14.00\">*</text>\n</g>\n<!-- 139727571228800&#45;&gt;139727571229952* -->\n<g id=\"edge16\" class=\"edge\">\n<title>139727571228800&#45;&gt;139727571229952*</title>\n<path fill=\"none\" stroke=\"black\" d=\"M513.6,-165.43C523.24,-162.68 532.9,-159.69 542,-156.5 552.56,-152.8 563.79,-148 573.75,-143.43\"/>\n<polygon fill=\"black\" stroke=\"black\" points=\"575.29,-146.57 582.85,-139.15 572.31,-140.24 575.29,-146.57\"/>\n</g>\n<!-- 139727571227792 -->\n<g id=\"node6\" class=\"node\">\n<title>139727571227792</title>\n<polygon fill=\"none\" stroke=\"black\" points=\"1.5,-28.5 1.5,-64.5 201.5,-64.5 201.5,-28.5 1.5,-28.5\"/>\n<text text-anchor=\"middle\" x=\"16.5\" y=\"-42.8\" font-family=\"Times,serif\" font-size=\"14.00\">x0</text>\n<polyline fill=\"none\" stroke=\"black\" points=\"31.5,-28.5 31.5,-64.5 \"/>\n<text text-anchor=\"middle\" x=\"73.5\" y=\"-42.8\" font-family=\"Times,serif\" font-size=\"14.00\">data: 2.0000</text>\n<polyline fill=\"none\" stroke=\"black\" points=\"115.5,-28.5 115.5,-64.5 \"/>\n<text text-anchor=\"middle\" x=\"158.5\" y=\"-42.8\" font-family=\"Times,serif\" font-size=\"14.00\">grad: 0.0000</text>\n</g>\n<!-- 139727571227792&#45;&gt;139727571230432* -->\n<g id=\"edge14\" class=\"edge\">\n<title>139727571227792&#45;&gt;139727571230432*</title>\n<path fill=\"none\" stroke=\"black\" d=\"M201.71,-62.98C211.67,-64.64 221.25,-66.23 229.81,-67.65\"/>\n<polygon fill=\"black\" stroke=\"black\" points=\"229.27,-71.11 239.7,-69.3 230.41,-64.21 229.27,-71.11\"/>\n</g>\n<!-- 139727571230432 -->\n<g id=\"node7\" class=\"node\">\n<title>139727571230432</title>\n<polygon fill=\"none\" stroke=\"black\" points=\"329,-55.5 329,-91.5 542,-91.5 542,-55.5 329,-55.5\"/>\n<text text-anchor=\"middle\" x=\"350.5\" y=\"-69.8\" font-family=\"Times,serif\" font-size=\"14.00\">den0</text>\n<polyline fill=\"none\" stroke=\"black\" points=\"372,-55.5 372,-91.5 \"/>\n<text text-anchor=\"middle\" x=\"414\" y=\"-69.8\" font-family=\"Times,serif\" font-size=\"14.00\">data: 1.6610</text>\n<polyline fill=\"none\" stroke=\"black\" points=\"456,-55.5 456,-91.5 \"/>\n<text text-anchor=\"middle\" x=\"499\" y=\"-69.8\" font-family=\"Times,serif\" font-size=\"14.00\">grad: 0.0000</text>\n</g>\n<!-- 139727571230192+ -->\n<g id=\"node18\" class=\"node\">\n<title>139727571230192+</title>\n<ellipse fill=\"none\" stroke=\"black\" cx=\"605\" cy=\"-73.5\" rx=\"27\" ry=\"18\"/>\n<text text-anchor=\"middle\" x=\"605\" y=\"-69.8\" font-family=\"Times,serif\" font-size=\"14.00\">+</text>\n</g>\n<!-- 139727571230432&#45;&gt;139727571230192+ -->\n<g id=\"edge17\" class=\"edge\">\n<title>139727571230432&#45;&gt;139727571230192+</title>\n<path fill=\"none\" stroke=\"black\" d=\"M542.11,-73.5C551.18,-73.5 559.88,-73.5 567.75,-73.5\"/>\n<polygon fill=\"black\" stroke=\"black\" points=\"567.92,-77 577.92,-73.5 567.92,-70 567.92,-77\"/>\n</g>\n<!-- 139727571230432*&#45;&gt;139727571230432 -->\n<g id=\"edge2\" class=\"edge\">\n<title>139727571230432*&#45;&gt;139727571230432</title>\n<path fill=\"none\" stroke=\"black\" d=\"M293.17,-73.5C300.6,-73.5 309.21,-73.5 318.43,-73.5\"/>\n<polygon fill=\"black\" stroke=\"black\" points=\"318.66,-77 328.66,-73.5 318.66,-70 318.66,-77\"/>\n</g>\n<!-- 139727571229952 -->\n<g id=\"node9\" class=\"node\">\n<title>139727571229952</title>\n<polygon fill=\"none\" stroke=\"black\" points=\"668,-110.5 668,-146.5 886,-146.5 886,-110.5 668,-110.5\"/>\n<text text-anchor=\"middle\" x=\"689.5\" y=\"-124.8\" font-family=\"Times,serif\" font-size=\"14.00\">den1</text>\n<polyline fill=\"none\" stroke=\"black\" points=\"711,-110.5 711,-146.5 \"/>\n<text text-anchor=\"middle\" x=\"755.5\" y=\"-124.8\" font-family=\"Times,serif\" font-size=\"14.00\">data: &#45;1.9892</text>\n<polyline fill=\"none\" stroke=\"black\" points=\"800,-110.5 800,-146.5 \"/>\n<text text-anchor=\"middle\" x=\"843\" y=\"-124.8\" font-family=\"Times,serif\" font-size=\"14.00\">grad: 0.0000</text>\n</g>\n<!-- 139727571229952&#45;&gt;139727571227696+ -->\n<g id=\"edge15\" class=\"edge\">\n<title>139727571229952&#45;&gt;139727571227696+</title>\n<path fill=\"none\" stroke=\"black\" d=\"M886.15,-110.69C895.52,-109.14 904.5,-107.67 912.56,-106.34\"/>\n<polygon fill=\"black\" stroke=\"black\" points=\"913.28,-109.77 922.58,-104.69 912.15,-102.86 913.28,-109.77\"/>\n</g>\n<!-- 139727571229952*&#45;&gt;139727571229952 -->\n<g id=\"edge3\" class=\"edge\">\n<title>139727571229952*&#45;&gt;139727571229952</title>\n<path fill=\"none\" stroke=\"black\" d=\"M632.19,-128.5C639.65,-128.5 648.28,-128.5 657.56,-128.5\"/>\n<polygon fill=\"black\" stroke=\"black\" points=\"657.84,-132 667.84,-128.5 657.84,-125 657.84,-132\"/>\n</g>\n<!-- 139727571227408 -->\n<g id=\"node11\" class=\"node\">\n<title>139727571227408</title>\n<polygon fill=\"none\" stroke=\"black\" points=\"1681,-109.5 1681,-145.5 1890,-145.5 1890,-109.5 1681,-109.5\"/>\n<text text-anchor=\"middle\" x=\"1698\" y=\"-123.8\" font-family=\"Times,serif\" font-size=\"14.00\">out</text>\n<polyline fill=\"none\" stroke=\"black\" points=\"1715,-109.5 1715,-145.5 \"/>\n<text text-anchor=\"middle\" x=\"1759.5\" y=\"-123.8\" font-family=\"Times,serif\" font-size=\"14.00\">data: &#45;0.8347</text>\n<polyline fill=\"none\" stroke=\"black\" points=\"1804,-109.5 1804,-145.5 \"/>\n<text text-anchor=\"middle\" x=\"1847\" y=\"-123.8\" font-family=\"Times,serif\" font-size=\"14.00\">grad: 0.0000</text>\n</g>\n<!-- 139727571227408tanh -->\n<g id=\"node12\" class=\"node\">\n<title>139727571227408tanh</title>\n<ellipse fill=\"none\" stroke=\"black\" cx=\"1618\" cy=\"-127.5\" rx=\"27\" ry=\"18\"/>\n<text text-anchor=\"middle\" x=\"1618\" y=\"-123.8\" font-family=\"Times,serif\" font-size=\"14.00\">tanh</text>\n</g>\n<!-- 139727571227408tanh&#45;&gt;139727571227408 -->\n<g id=\"edge4\" class=\"edge\">\n<title>139727571227408tanh&#45;&gt;139727571227408</title>\n<path fill=\"none\" stroke=\"black\" d=\"M1645.22,-127.5C1652.8,-127.5 1661.59,-127.5 1670.99,-127.5\"/>\n<polygon fill=\"black\" stroke=\"black\" points=\"1670.99,-131 1680.99,-127.5 1670.99,-124 1670.99,-131\"/>\n</g>\n<!-- 139727571228992 -->\n<g id=\"node13\" class=\"node\">\n<title>139727571228992</title>\n<polygon fill=\"none\" stroke=\"black\" points=\"330.5,-0.5 330.5,-36.5 540.5,-36.5 540.5,-0.5 330.5,-0.5\"/>\n<text text-anchor=\"middle\" x=\"350.5\" y=\"-14.8\" font-family=\"Times,serif\" font-size=\"14.00\">sum</text>\n<polyline fill=\"none\" stroke=\"black\" points=\"370.5,-0.5 370.5,-36.5 \"/>\n<text text-anchor=\"middle\" x=\"412.5\" y=\"-14.8\" font-family=\"Times,serif\" font-size=\"14.00\">data: 0.0000</text>\n<polyline fill=\"none\" stroke=\"black\" points=\"454.5,-0.5 454.5,-36.5 \"/>\n<text text-anchor=\"middle\" x=\"497.5\" y=\"-14.8\" font-family=\"Times,serif\" font-size=\"14.00\">grad: 0.0000</text>\n</g>\n<!-- 139727571228992&#45;&gt;139727571230192+ -->\n<g id=\"edge7\" class=\"edge\">\n<title>139727571228992&#45;&gt;139727571230192+</title>\n<path fill=\"none\" stroke=\"black\" d=\"M513.6,-36.57C523.24,-39.32 532.9,-42.31 542,-45.5 552.56,-49.2 563.79,-54 573.75,-58.57\"/>\n<polygon fill=\"black\" stroke=\"black\" points=\"572.31,-61.76 582.85,-62.85 575.29,-55.43 572.31,-61.76\"/>\n</g>\n<!-- 139727571230144 -->\n<g id=\"node14\" class=\"node\">\n<title>139727571230144</title>\n<polygon fill=\"none\" stroke=\"black\" points=\"335.5,-110.5 335.5,-146.5 535.5,-146.5 535.5,-110.5 335.5,-110.5\"/>\n<text text-anchor=\"middle\" x=\"350.5\" y=\"-124.8\" font-family=\"Times,serif\" font-size=\"14.00\">x1</text>\n<polyline fill=\"none\" stroke=\"black\" points=\"365.5,-110.5 365.5,-146.5 \"/>\n<text text-anchor=\"middle\" x=\"407.5\" y=\"-124.8\" font-family=\"Times,serif\" font-size=\"14.00\">data: 3.0000</text>\n<polyline fill=\"none\" stroke=\"black\" points=\"449.5,-110.5 449.5,-146.5 \"/>\n<text text-anchor=\"middle\" x=\"492.5\" y=\"-124.8\" font-family=\"Times,serif\" font-size=\"14.00\">grad: 0.0000</text>\n</g>\n<!-- 139727571230144&#45;&gt;139727571229952* -->\n<g id=\"edge10\" class=\"edge\">\n<title>139727571230144&#45;&gt;139727571229952*</title>\n<path fill=\"none\" stroke=\"black\" d=\"M535.87,-128.5C547.13,-128.5 558,-128.5 567.63,-128.5\"/>\n<polygon fill=\"black\" stroke=\"black\" points=\"567.92,-132 577.92,-128.5 567.92,-125 567.92,-132\"/>\n</g>\n<!-- 139727571227600 -->\n<g id=\"node15\" class=\"node\">\n<title>139727571227600</title>\n<polygon fill=\"none\" stroke=\"black\" points=\"1336,-109.5 1336,-145.5 1555,-145.5 1555,-109.5 1336,-109.5\"/>\n<text text-anchor=\"middle\" x=\"1358\" y=\"-123.8\" font-family=\"Times,serif\" font-size=\"14.00\">body</text>\n<polyline fill=\"none\" stroke=\"black\" points=\"1380,-109.5 1380,-145.5 \"/>\n<text text-anchor=\"middle\" x=\"1424.5\" y=\"-123.8\" font-family=\"Times,serif\" font-size=\"14.00\">data: &#45;1.2034</text>\n<polyline fill=\"none\" stroke=\"black\" points=\"1469,-109.5 1469,-145.5 \"/>\n<text text-anchor=\"middle\" x=\"1512\" y=\"-123.8\" font-family=\"Times,serif\" font-size=\"14.00\">grad: 0.0000</text>\n</g>\n<!-- 139727571227600&#45;&gt;139727571227408tanh -->\n<g id=\"edge9\" class=\"edge\">\n<title>139727571227600&#45;&gt;139727571227408tanh</title>\n<path fill=\"none\" stroke=\"black\" d=\"M1555.45,-127.5C1564.42,-127.5 1573.01,-127.5 1580.78,-127.5\"/>\n<polygon fill=\"black\" stroke=\"black\" points=\"1580.83,-131 1590.83,-127.5 1580.83,-124 1580.83,-131\"/>\n</g>\n<!-- 139727571227600+&#45;&gt;139727571227600 -->\n<g id=\"edge5\" class=\"edge\">\n<title>139727571227600+&#45;&gt;139727571227600</title>\n<path fill=\"none\" stroke=\"black\" d=\"M1300.27,-127.5C1307.68,-127.5 1316.25,-127.5 1325.45,-127.5\"/>\n<polygon fill=\"black\" stroke=\"black\" points=\"1325.66,-131 1335.66,-127.5 1325.66,-124 1325.66,-131\"/>\n</g>\n<!-- 139727571230192 -->\n<g id=\"node17\" class=\"node\">\n<title>139727571230192</title>\n<polygon fill=\"none\" stroke=\"black\" points=\"682,-55.5 682,-91.5 872,-91.5 872,-55.5 682,-55.5\"/>\n<text text-anchor=\"middle\" x=\"692\" y=\"-69.8\" font-family=\"Times,serif\" font-size=\"14.00\"> </text>\n<polyline fill=\"none\" stroke=\"black\" points=\"702,-55.5 702,-91.5 \"/>\n<text text-anchor=\"middle\" x=\"744\" y=\"-69.8\" font-family=\"Times,serif\" font-size=\"14.00\">data: 1.6610</text>\n<polyline fill=\"none\" stroke=\"black\" points=\"786,-55.5 786,-91.5 \"/>\n<text text-anchor=\"middle\" x=\"829\" y=\"-69.8\" font-family=\"Times,serif\" font-size=\"14.00\">grad: 0.0000</text>\n</g>\n<!-- 139727571230192&#45;&gt;139727571227696+ -->\n<g id=\"edge13\" class=\"edge\">\n<title>139727571230192&#45;&gt;139727571227696+</title>\n<path fill=\"none\" stroke=\"black\" d=\"M872.45,-88.5C886.75,-90.77 900.69,-92.99 912.63,-94.88\"/>\n<polygon fill=\"black\" stroke=\"black\" points=\"912.13,-98.35 922.56,-96.46 913.23,-91.43 912.13,-98.35\"/>\n</g>\n<!-- 139727571230192+&#45;&gt;139727571230192 -->\n<g id=\"edge6\" class=\"edge\">\n<title>139727571230192+&#45;&gt;139727571230192</title>\n<path fill=\"none\" stroke=\"black\" d=\"M632.19,-73.5C643.31,-73.5 657.07,-73.5 671.63,-73.5\"/>\n<polygon fill=\"black\" stroke=\"black\" points=\"671.82,-77 681.82,-73.5 671.82,-70 671.82,-77\"/>\n</g>\n</g>\n</svg>\n",
            "text/plain": [
              "<graphviz.graphs.Digraph at 0x7f14dc3f92e0>"
            ]
          },
          "metadata": {},
          "execution_count": 8
        }
      ]
    },
    {
      "cell_type": "code",
      "source": [
        "class Neuron:\n",
        "\n",
        "    def __init__(self, nin) -> None:\n",
        "        \"\"\"\n",
        "        Constructs a neuron that has `nin` inputs and assigns random weights & bias to the neuron\n",
        "\n",
        "        Parameters\n",
        "        ----------\n",
        "            nin : int\n",
        "                number of inputs entering into the neuron\n",
        "        \"\"\"\n",
        "\n",
        "        self.w = [Value(random.uniform(-1,1)) for _ in range(nin)]\n",
        "        self.b = Value(random.uniform(-1,1))\n",
        "\n",
        "    def __call__(self, x):\n",
        "        \"\"\"\n",
        "        Takes in a list of all `nin` input `x values`, \n",
        "        Computes the body by doing `sum(w.x + b)` and \n",
        "        Passes the result through a non-linear activation function to return output\n",
        "\n",
        "        `out = f(sum(w.x + b))`\n",
        "\n",
        "        Parameters\n",
        "        ----------\n",
        "            x : list(float)\n",
        "                the input values or the x\n",
        "        \"\"\"\n",
        "\n",
        "        # body = sum(weights.input_xs + bias)\n",
        "        body = sum((wi * xi for wi, xi in zip(self.w, x)), self.b)\n",
        "\n",
        "        # the net signal passes through a non-linear activation function\n",
        "        out = body.tanh()\n",
        "\n",
        "        return out"
      ],
      "metadata": {
        "id": "1mp4W-p3WdfP"
      },
      "execution_count": 9,
      "outputs": []
    },
    {
      "cell_type": "code",
      "source": [
        "x = [2.0, 3.0]\n",
        "n = Neuron(2)\n",
        "n = n(x)\n",
        "draw_dot(n)"
      ],
      "metadata": {
        "colab": {
          "base_uri": "https://localhost:8080/",
          "height": 359
        },
        "id": "-70wA6ryYlwJ",
        "outputId": "6ac8b102-c210-45d0-8958-43b0adbf6c78"
      },
      "execution_count": 10,
      "outputs": [
        {
          "output_type": "execute_result",
          "data": {
            "image/svg+xml": "<?xml version=\"1.0\" encoding=\"UTF-8\" standalone=\"no\"?>\n<!DOCTYPE svg PUBLIC \"-//W3C//DTD SVG 1.1//EN\"\n \"http://www.w3.org/Graphics/SVG/1.1/DTD/svg11.dtd\">\n<!-- Generated by graphviz version 2.43.0 (0)\n -->\n<!-- Title: %3 Pages: 1 -->\n<svg width=\"1472pt\" height=\"238pt\"\n viewBox=\"0.00 0.00 1472.00 238.00\" xmlns=\"http://www.w3.org/2000/svg\" xmlns:xlink=\"http://www.w3.org/1999/xlink\">\n<g id=\"graph0\" class=\"graph\" transform=\"scale(1 1) rotate(0) translate(4 234)\">\n<title>%3</title>\n<polygon fill=\"white\" stroke=\"transparent\" points=\"-4,4 -4,-234 1468,-234 1468,4 -4,4\"/>\n<!-- 139727571704320 -->\n<g id=\"node1\" class=\"node\">\n<title>139727571704320</title>\n<polygon fill=\"none\" stroke=\"black\" points=\"0,-193.5 0,-229.5 190,-229.5 190,-193.5 0,-193.5\"/>\n<text text-anchor=\"middle\" x=\"10\" y=\"-207.8\" font-family=\"Times,serif\" font-size=\"14.00\"> </text>\n<polyline fill=\"none\" stroke=\"black\" points=\"20,-193.5 20,-229.5 \"/>\n<text text-anchor=\"middle\" x=\"62\" y=\"-207.8\" font-family=\"Times,serif\" font-size=\"14.00\">data: 2.0000</text>\n<polyline fill=\"none\" stroke=\"black\" points=\"104,-193.5 104,-229.5 \"/>\n<text text-anchor=\"middle\" x=\"147\" y=\"-207.8\" font-family=\"Times,serif\" font-size=\"14.00\">grad: 0.0000</text>\n</g>\n<!-- 139727571703744* -->\n<g id=\"node15\" class=\"node\">\n<title>139727571703744*</title>\n<ellipse fill=\"none\" stroke=\"black\" cx=\"253\" cy=\"-183.5\" rx=\"27\" ry=\"18\"/>\n<text text-anchor=\"middle\" x=\"253\" y=\"-179.8\" font-family=\"Times,serif\" font-size=\"14.00\">*</text>\n</g>\n<!-- 139727571704320&#45;&gt;139727571703744* -->\n<g id=\"edge8\" class=\"edge\">\n<title>139727571704320&#45;&gt;139727571703744*</title>\n<path fill=\"none\" stroke=\"black\" d=\"M190.34,-194.57C199.62,-192.9 208.58,-191.29 216.66,-189.84\"/>\n<polygon fill=\"black\" stroke=\"black\" points=\"217.49,-193.25 226.72,-188.04 216.26,-186.36 217.49,-193.25\"/>\n</g>\n<!-- 139727571703408 -->\n<g id=\"node2\" class=\"node\">\n<title>139727571703408</title>\n<polygon fill=\"none\" stroke=\"black\" points=\"639.5,-110.5 639.5,-146.5 829.5,-146.5 829.5,-110.5 639.5,-110.5\"/>\n<text text-anchor=\"middle\" x=\"649.5\" y=\"-124.8\" font-family=\"Times,serif\" font-size=\"14.00\"> </text>\n<polyline fill=\"none\" stroke=\"black\" points=\"659.5,-110.5 659.5,-146.5 \"/>\n<text text-anchor=\"middle\" x=\"701.5\" y=\"-124.8\" font-family=\"Times,serif\" font-size=\"14.00\">data: 1.0160</text>\n<polyline fill=\"none\" stroke=\"black\" points=\"743.5,-110.5 743.5,-146.5 \"/>\n<text text-anchor=\"middle\" x=\"786.5\" y=\"-124.8\" font-family=\"Times,serif\" font-size=\"14.00\">grad: 0.0000</text>\n</g>\n<!-- 139727571704656+ -->\n<g id=\"node11\" class=\"node\">\n<title>139727571704656+</title>\n<ellipse fill=\"none\" stroke=\"black\" cx=\"895\" cy=\"-100.5\" rx=\"27\" ry=\"18\"/>\n<text text-anchor=\"middle\" x=\"895\" y=\"-96.8\" font-family=\"Times,serif\" font-size=\"14.00\">+</text>\n</g>\n<!-- 139727571703408&#45;&gt;139727571704656+ -->\n<g id=\"edge12\" class=\"edge\">\n<title>139727571703408&#45;&gt;139727571704656+</title>\n<path fill=\"none\" stroke=\"black\" d=\"M829.53,-111.89C839.88,-110.06 849.88,-108.29 858.79,-106.72\"/>\n<polygon fill=\"black\" stroke=\"black\" points=\"859.47,-110.15 868.71,-104.97 858.25,-103.26 859.47,-110.15\"/>\n</g>\n<!-- 139727571703408+ -->\n<g id=\"node3\" class=\"node\">\n<title>139727571703408+</title>\n<ellipse fill=\"none\" stroke=\"black\" cx=\"574\" cy=\"-128.5\" rx=\"27\" ry=\"18\"/>\n<text text-anchor=\"middle\" x=\"574\" y=\"-124.8\" font-family=\"Times,serif\" font-size=\"14.00\">+</text>\n</g>\n<!-- 139727571703408+&#45;&gt;139727571703408 -->\n<g id=\"edge1\" class=\"edge\">\n<title>139727571703408+&#45;&gt;139727571703408</title>\n<path fill=\"none\" stroke=\"black\" d=\"M601.17,-128.5C609.44,-128.5 619.12,-128.5 629.43,-128.5\"/>\n<polygon fill=\"black\" stroke=\"black\" points=\"629.48,-132 639.48,-128.5 629.48,-125 629.48,-132\"/>\n</g>\n<!-- 139727571226784 -->\n<g id=\"node4\" class=\"node\">\n<title>139727571226784</title>\n<polygon fill=\"none\" stroke=\"black\" points=\"0,-138.5 0,-174.5 190,-174.5 190,-138.5 0,-138.5\"/>\n<text text-anchor=\"middle\" x=\"10\" y=\"-152.8\" font-family=\"Times,serif\" font-size=\"14.00\"> </text>\n<polyline fill=\"none\" stroke=\"black\" points=\"20,-138.5 20,-174.5 \"/>\n<text text-anchor=\"middle\" x=\"62\" y=\"-152.8\" font-family=\"Times,serif\" font-size=\"14.00\">data: 0.5589</text>\n<polyline fill=\"none\" stroke=\"black\" points=\"104,-138.5 104,-174.5 \"/>\n<text text-anchor=\"middle\" x=\"147\" y=\"-152.8\" font-family=\"Times,serif\" font-size=\"14.00\">grad: 0.0000</text>\n</g>\n<!-- 139727571226784&#45;&gt;139727571703744* -->\n<g id=\"edge9\" class=\"edge\">\n<title>139727571226784&#45;&gt;139727571703744*</title>\n<path fill=\"none\" stroke=\"black\" d=\"M190.34,-172.83C199.62,-174.44 208.58,-175.99 216.66,-177.38\"/>\n<polygon fill=\"black\" stroke=\"black\" points=\"216.27,-180.87 226.72,-179.12 217.46,-173.97 216.27,-180.87\"/>\n</g>\n<!-- 139727571703984 -->\n<g id=\"node5\" class=\"node\">\n<title>139727571703984</title>\n<polygon fill=\"none\" stroke=\"black\" points=\"318.5,-55.5 318.5,-91.5 508.5,-91.5 508.5,-55.5 318.5,-55.5\"/>\n<text text-anchor=\"middle\" x=\"328.5\" y=\"-69.8\" font-family=\"Times,serif\" font-size=\"14.00\"> </text>\n<polyline fill=\"none\" stroke=\"black\" points=\"338.5,-55.5 338.5,-91.5 \"/>\n<text text-anchor=\"middle\" x=\"380.5\" y=\"-69.8\" font-family=\"Times,serif\" font-size=\"14.00\">data: 3.0000</text>\n<polyline fill=\"none\" stroke=\"black\" points=\"422.5,-55.5 422.5,-91.5 \"/>\n<text text-anchor=\"middle\" x=\"465.5\" y=\"-69.8\" font-family=\"Times,serif\" font-size=\"14.00\">grad: 0.0000</text>\n</g>\n<!-- 139727571704176* -->\n<g id=\"node13\" class=\"node\">\n<title>139727571704176*</title>\n<ellipse fill=\"none\" stroke=\"black\" cx=\"574\" cy=\"-73.5\" rx=\"27\" ry=\"18\"/>\n<text text-anchor=\"middle\" x=\"574\" y=\"-69.8\" font-family=\"Times,serif\" font-size=\"14.00\">*</text>\n</g>\n<!-- 139727571703984&#45;&gt;139727571704176* -->\n<g id=\"edge14\" class=\"edge\">\n<title>139727571703984&#45;&gt;139727571704176*</title>\n<path fill=\"none\" stroke=\"black\" d=\"M508.53,-73.5C518.48,-73.5 528.11,-73.5 536.76,-73.5\"/>\n<polygon fill=\"black\" stroke=\"black\" points=\"536.78,-77 546.78,-73.5 536.78,-70 536.78,-77\"/>\n</g>\n<!-- 139727571704032 -->\n<g id=\"node6\" class=\"node\">\n<title>139727571704032</title>\n<polygon fill=\"none\" stroke=\"black\" points=\"1274,-82.5 1274,-118.5 1464,-118.5 1464,-82.5 1274,-82.5\"/>\n<text text-anchor=\"middle\" x=\"1284\" y=\"-96.8\" font-family=\"Times,serif\" font-size=\"14.00\"> </text>\n<polyline fill=\"none\" stroke=\"black\" points=\"1294,-82.5 1294,-118.5 \"/>\n<text text-anchor=\"middle\" x=\"1336\" y=\"-96.8\" font-family=\"Times,serif\" font-size=\"14.00\">data: 0.1778</text>\n<polyline fill=\"none\" stroke=\"black\" points=\"1378,-82.5 1378,-118.5 \"/>\n<text text-anchor=\"middle\" x=\"1421\" y=\"-96.8\" font-family=\"Times,serif\" font-size=\"14.00\">grad: 0.0000</text>\n</g>\n<!-- 139727571704032tanh -->\n<g id=\"node7\" class=\"node\">\n<title>139727571704032tanh</title>\n<ellipse fill=\"none\" stroke=\"black\" cx=\"1211\" cy=\"-100.5\" rx=\"27\" ry=\"18\"/>\n<text text-anchor=\"middle\" x=\"1211\" y=\"-96.8\" font-family=\"Times,serif\" font-size=\"14.00\">tanh</text>\n</g>\n<!-- 139727571704032tanh&#45;&gt;139727571704032 -->\n<g id=\"edge2\" class=\"edge\">\n<title>139727571704032tanh&#45;&gt;139727571704032</title>\n<path fill=\"none\" stroke=\"black\" d=\"M1238.11,-100.5C1245.63,-100.5 1254.32,-100.5 1263.58,-100.5\"/>\n<polygon fill=\"black\" stroke=\"black\" points=\"1263.81,-104 1273.81,-100.5 1263.81,-97 1263.81,-104\"/>\n</g>\n<!-- 139727571705088 -->\n<g id=\"node8\" class=\"node\">\n<title>139727571705088</title>\n<polygon fill=\"none\" stroke=\"black\" points=\"316,-0.5 316,-36.5 511,-36.5 511,-0.5 316,-0.5\"/>\n<text text-anchor=\"middle\" x=\"326\" y=\"-14.8\" font-family=\"Times,serif\" font-size=\"14.00\"> </text>\n<polyline fill=\"none\" stroke=\"black\" points=\"336,-0.5 336,-36.5 \"/>\n<text text-anchor=\"middle\" x=\"380.5\" y=\"-14.8\" font-family=\"Times,serif\" font-size=\"14.00\">data: &#45;0.2788</text>\n<polyline fill=\"none\" stroke=\"black\" points=\"425,-0.5 425,-36.5 \"/>\n<text text-anchor=\"middle\" x=\"468\" y=\"-14.8\" font-family=\"Times,serif\" font-size=\"14.00\">grad: 0.0000</text>\n</g>\n<!-- 139727571705088&#45;&gt;139727571704176* -->\n<g id=\"edge7\" class=\"edge\">\n<title>139727571705088&#45;&gt;139727571704176*</title>\n<path fill=\"none\" stroke=\"black\" d=\"M480.79,-36.51C490.98,-39.63 501.32,-43 511,-46.5 521.27,-50.21 532.26,-54.79 542.09,-59.11\"/>\n<polygon fill=\"black\" stroke=\"black\" points=\"540.91,-62.42 551.47,-63.31 543.77,-56.03 540.91,-62.42\"/>\n</g>\n<!-- 139727571704128 -->\n<g id=\"node9\" class=\"node\">\n<title>139727571704128</title>\n<polygon fill=\"none\" stroke=\"black\" points=\"316,-110.5 316,-146.5 511,-146.5 511,-110.5 316,-110.5\"/>\n<text text-anchor=\"middle\" x=\"326\" y=\"-124.8\" font-family=\"Times,serif\" font-size=\"14.00\"> </text>\n<polyline fill=\"none\" stroke=\"black\" points=\"336,-110.5 336,-146.5 \"/>\n<text text-anchor=\"middle\" x=\"380.5\" y=\"-124.8\" font-family=\"Times,serif\" font-size=\"14.00\">data: &#45;0.1018</text>\n<polyline fill=\"none\" stroke=\"black\" points=\"425,-110.5 425,-146.5 \"/>\n<text text-anchor=\"middle\" x=\"468\" y=\"-124.8\" font-family=\"Times,serif\" font-size=\"14.00\">grad: 0.0000</text>\n</g>\n<!-- 139727571704128&#45;&gt;139727571703408+ -->\n<g id=\"edge6\" class=\"edge\">\n<title>139727571704128&#45;&gt;139727571703408+</title>\n<path fill=\"none\" stroke=\"black\" d=\"M511.27,-128.5C520.22,-128.5 528.85,-128.5 536.69,-128.5\"/>\n<polygon fill=\"black\" stroke=\"black\" points=\"536.83,-132 546.83,-128.5 536.83,-125 536.83,-132\"/>\n</g>\n<!-- 139727571704656 -->\n<g id=\"node10\" class=\"node\">\n<title>139727571704656</title>\n<polygon fill=\"none\" stroke=\"black\" points=\"958,-82.5 958,-118.5 1148,-118.5 1148,-82.5 958,-82.5\"/>\n<text text-anchor=\"middle\" x=\"968\" y=\"-96.8\" font-family=\"Times,serif\" font-size=\"14.00\"> </text>\n<polyline fill=\"none\" stroke=\"black\" points=\"978,-82.5 978,-118.5 \"/>\n<text text-anchor=\"middle\" x=\"1020\" y=\"-96.8\" font-family=\"Times,serif\" font-size=\"14.00\">data: 0.1797</text>\n<polyline fill=\"none\" stroke=\"black\" points=\"1062,-82.5 1062,-118.5 \"/>\n<text text-anchor=\"middle\" x=\"1105\" y=\"-96.8\" font-family=\"Times,serif\" font-size=\"14.00\">grad: 0.0000</text>\n</g>\n<!-- 139727571704656&#45;&gt;139727571704032tanh -->\n<g id=\"edge11\" class=\"edge\">\n<title>139727571704656&#45;&gt;139727571704032tanh</title>\n<path fill=\"none\" stroke=\"black\" d=\"M1148.34,-100.5C1157.26,-100.5 1165.87,-100.5 1173.69,-100.5\"/>\n<polygon fill=\"black\" stroke=\"black\" points=\"1173.82,-104 1183.82,-100.5 1173.82,-97 1173.82,-104\"/>\n</g>\n<!-- 139727571704656+&#45;&gt;139727571704656 -->\n<g id=\"edge3\" class=\"edge\">\n<title>139727571704656+&#45;&gt;139727571704656</title>\n<path fill=\"none\" stroke=\"black\" d=\"M922.11,-100.5C929.63,-100.5 938.32,-100.5 947.58,-100.5\"/>\n<polygon fill=\"black\" stroke=\"black\" points=\"947.81,-104 957.81,-100.5 947.81,-97 947.81,-104\"/>\n</g>\n<!-- 139727571704176 -->\n<g id=\"node12\" class=\"node\">\n<title>139727571704176</title>\n<polygon fill=\"none\" stroke=\"black\" points=\"637,-55.5 637,-91.5 832,-91.5 832,-55.5 637,-55.5\"/>\n<text text-anchor=\"middle\" x=\"647\" y=\"-69.8\" font-family=\"Times,serif\" font-size=\"14.00\"> </text>\n<polyline fill=\"none\" stroke=\"black\" points=\"657,-55.5 657,-91.5 \"/>\n<text text-anchor=\"middle\" x=\"701.5\" y=\"-69.8\" font-family=\"Times,serif\" font-size=\"14.00\">data: &#45;0.8363</text>\n<polyline fill=\"none\" stroke=\"black\" points=\"746,-55.5 746,-91.5 \"/>\n<text text-anchor=\"middle\" x=\"789\" y=\"-69.8\" font-family=\"Times,serif\" font-size=\"14.00\">grad: 0.0000</text>\n</g>\n<!-- 139727571704176&#45;&gt;139727571704656+ -->\n<g id=\"edge10\" class=\"edge\">\n<title>139727571704176&#45;&gt;139727571704656+</title>\n<path fill=\"none\" stroke=\"black\" d=\"M832.27,-89.98C841.59,-91.57 850.57,-93.1 858.66,-94.48\"/>\n<polygon fill=\"black\" stroke=\"black\" points=\"858.29,-97.97 868.73,-96.2 859.46,-91.07 858.29,-97.97\"/>\n</g>\n<!-- 139727571704176*&#45;&gt;139727571704176 -->\n<g id=\"edge4\" class=\"edge\">\n<title>139727571704176*&#45;&gt;139727571704176</title>\n<path fill=\"none\" stroke=\"black\" d=\"M601.17,-73.5C608.66,-73.5 617.32,-73.5 626.56,-73.5\"/>\n<polygon fill=\"black\" stroke=\"black\" points=\"626.78,-77 636.78,-73.5 626.78,-70 626.78,-77\"/>\n</g>\n<!-- 139727571703744 -->\n<g id=\"node14\" class=\"node\">\n<title>139727571703744</title>\n<polygon fill=\"none\" stroke=\"black\" points=\"318.5,-165.5 318.5,-201.5 508.5,-201.5 508.5,-165.5 318.5,-165.5\"/>\n<text text-anchor=\"middle\" x=\"328.5\" y=\"-179.8\" font-family=\"Times,serif\" font-size=\"14.00\"> </text>\n<polyline fill=\"none\" stroke=\"black\" points=\"338.5,-165.5 338.5,-201.5 \"/>\n<text text-anchor=\"middle\" x=\"380.5\" y=\"-179.8\" font-family=\"Times,serif\" font-size=\"14.00\">data: 1.1178</text>\n<polyline fill=\"none\" stroke=\"black\" points=\"422.5,-165.5 422.5,-201.5 \"/>\n<text text-anchor=\"middle\" x=\"465.5\" y=\"-179.8\" font-family=\"Times,serif\" font-size=\"14.00\">grad: 0.0000</text>\n</g>\n<!-- 139727571703744&#45;&gt;139727571703408+ -->\n<g id=\"edge13\" class=\"edge\">\n<title>139727571703744&#45;&gt;139727571703408+</title>\n<path fill=\"none\" stroke=\"black\" d=\"M483.96,-165.43C493.12,-162.65 502.33,-159.65 511,-156.5 521.52,-152.68 532.74,-147.85 542.7,-143.29\"/>\n<polygon fill=\"black\" stroke=\"black\" points=\"544.23,-146.44 551.81,-139.03 541.27,-140.09 544.23,-146.44\"/>\n</g>\n<!-- 139727571703744*&#45;&gt;139727571703744 -->\n<g id=\"edge5\" class=\"edge\">\n<title>139727571703744*&#45;&gt;139727571703744</title>\n<path fill=\"none\" stroke=\"black\" d=\"M280.17,-183.5C288.44,-183.5 298.12,-183.5 308.43,-183.5\"/>\n<polygon fill=\"black\" stroke=\"black\" points=\"308.48,-187 318.48,-183.5 308.48,-180 308.48,-187\"/>\n</g>\n</g>\n</svg>\n",
            "text/plain": [
              "<graphviz.graphs.Digraph at 0x7f14dc46d730>"
            ]
          },
          "metadata": {},
          "execution_count": 10
        }
      ]
    },
    {
      "cell_type": "code",
      "source": [],
      "metadata": {
        "id": "JI3qUPU8Yo4o"
      },
      "execution_count": 10,
      "outputs": []
    }
  ]
}