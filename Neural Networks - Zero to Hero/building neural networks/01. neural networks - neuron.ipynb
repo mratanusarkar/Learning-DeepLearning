{
  "nbformat": 4,
  "nbformat_minor": 0,
  "metadata": {
    "colab": {
      "provenance": [],
      "authorship_tag": "ABX9TyMiFNVxmw6cQdienNTI7uAC"
    },
    "kernelspec": {
      "name": "python3",
      "display_name": "Python 3"
    },
    "language_info": {
      "name": "python"
    }
  },
  "cells": [
    {
      "cell_type": "markdown",
      "source": [
        "# Importing code from the previous notebooks as module"
      ],
      "metadata": {
        "id": "0fFDkGnU9xLZ"
      }
    },
    {
      "cell_type": "code",
      "source": [
        "# instead of copy-pasting the micrograd code everytime\n",
        "# let's use the below code to pull the code in the form of a module"
      ],
      "metadata": {
        "id": "1VsMhvbBAGEh"
      },
      "execution_count": 1,
      "outputs": []
    },
    {
      "cell_type": "code",
      "source": [
        "!git clone https://github.com/mratanusarkar/Learning-DeepLearning.git &> /dev/null\n",
        "%cd /content/Learning-DeepLearning/Neural\\ Networks\\ -\\ Zero\\ to\\ Hero\n",
        "!python setup.py install &> /dev/null"
      ],
      "metadata": {
        "colab": {
          "base_uri": "https://localhost:8080/"
        },
        "id": "LGILwib05hHT",
        "outputId": "ff90bcd6-493b-4421-b526-03227e006dca"
      },
      "execution_count": 2,
      "outputs": [
        {
          "output_type": "stream",
          "name": "stdout",
          "text": [
            "/content/Learning-DeepLearning/Neural Networks - Zero to Hero\n"
          ]
        }
      ]
    },
    {
      "cell_type": "code",
      "source": [
        "from micrograd.engine import Value\n",
        "from micrograd.visualize import draw_dot"
      ],
      "metadata": {
        "id": "QGDXoQsRlQQf"
      },
      "execution_count": 3,
      "outputs": []
    },
    {
      "cell_type": "code",
      "source": [
        "import random\n",
        "random.seed(2023)"
      ],
      "metadata": {
        "id": "ym9E-KtBOxGv"
      },
      "execution_count": 4,
      "outputs": []
    },
    {
      "cell_type": "markdown",
      "source": [
        "# Neuron Class"
      ],
      "metadata": {
        "id": "41a9wOtV-7Vj"
      }
    },
    {
      "cell_type": "code",
      "execution_count": 5,
      "metadata": {
        "id": "sgAT4wm5Fbxh"
      },
      "outputs": [],
      "source": [
        "# okay, so now that we have tools in our hand to build out complicated mathematical expressions \n",
        "# we can now focus on starting to build out neural nets\n",
        "# neural nets are nothing but a specific class of mathematical expressions"
      ]
    },
    {
      "cell_type": "code",
      "source": [
        "# let's build a multi-layer perceptron\n",
        "# we have already built a neuron before, \n",
        "# but let's build a class this time that matches the design in torch api"
      ],
      "metadata": {
        "id": "YYrXYve1FyC7"
      },
      "execution_count": 6,
      "outputs": []
    },
    {
      "cell_type": "code",
      "source": [
        "# also, I will build my version of the Neuron class with more understandable names and the expression graphs having labels\n",
        "# and keep what Karpathy had built in his micrograd (and ofcourse those conventions are used in torch api and other ML codebases)\n",
        "# I will call my version of classes as \"Noob\", because \"I am noob!\""
      ],
      "metadata": {
        "id": "PrGu16xaxRII"
      },
      "execution_count": 7,
      "outputs": []
    },
    {
      "cell_type": "code",
      "source": [],
      "metadata": {
        "id": "Tn86Ny-DxzpT"
      },
      "execution_count": 7,
      "outputs": []
    },
    {
      "cell_type": "markdown",
      "source": [
        "Bringing back the mathematical model of the biological neuron for reference: <br>\n",
        "[see: [05. expression graph - a neuron.ipynb](https://github.com/mratanusarkar/Learning-DeepLearning/blob/main/Neural%20Networks%20-%20Zero%20to%20Hero/building%20micrograd/05.%20expression%20graph%20-%20a%20neuron.ipynb) for more details]\n",
        "\n",
        "![neuron_model.jpeg](https://cs231n.github.io/assets/nn1/neuron_model.jpeg)"
      ],
      "metadata": {
        "id": "3Naj6Motxz3K"
      }
    },
    {
      "cell_type": "code",
      "source": [
        "# Karpathy's micrograd Neuron for Noobs!\n",
        "\n",
        "class NoobNeuron:\n",
        "\n",
        "    def __init__(self, n_inputs, label='') -> None:\n",
        "        \"\"\"\n",
        "        Karpathy's micrograd Neuron for Noobs!\n",
        "        Constructs a neuron that has `n_inputs` number of inputs and assigns random weights & bias to the neuron\n",
        "\n",
        "        Parameters\n",
        "        ----------\n",
        "            n_inputs : int\n",
        "                number of inputs entering into the neuron\n",
        "            \n",
        "            label : str\n",
        "                (optional) the name or label of the Neuron\n",
        "        \"\"\"\n",
        "\n",
        "        self.label = label\n",
        "        self.w = [Value(random.uniform(-1,1)) for _ in range(n_inputs)]\n",
        "        self.b = Value(random.uniform(-1,1))\n",
        "\n",
        "    def __call__(self, x):\n",
        "        \"\"\"\n",
        "        Takes in a list of all `n_inputs` number of input `x values`, \n",
        "        Computes the body by doing `sum(w.x + b)` and \n",
        "        Passes the result through a non-linear activation function to return output\n",
        "\n",
        "        x = [x1, x2, x3, ..., xn],\n",
        "        \n",
        "        and we already have w's and b who's values were randomly assigned.\n",
        "        w = [w1, w2, w3, ..., wn]\n",
        "        b = bias\n",
        "\n",
        "        so, the output would be as follows:\n",
        "        out = f((x1*w1 + x2*w2 + ... + xn*wn) + b),\n",
        "        or `out = f(Σ(w.x) + b)`\n",
        "\n",
        "        where, f() is the activation function (tanh in this case)\n",
        "\n",
        "        Parameters\n",
        "        ----------\n",
        "            x : list(float)\n",
        "                the input values or the x = [x1, x2, x3, ..., xn]\n",
        "        \"\"\"\n",
        "\n",
        "        sum = Value(0.0, label=f'{self.label} : sum')\n",
        "        for i, (xi, wi) in enumerate(zip(x, self.w)):\n",
        "            # inputs\n",
        "            x = Value(xi, label=f'{self.label} : x{i}')\n",
        "\n",
        "            # weights\n",
        "            w = wi;         w.label=f'{self.label} : w{i}'\n",
        "\n",
        "            # dendrites of the neuron (inputs weighted)\n",
        "            den = x * w;    den.label=f'{self.label} : den{i}'\n",
        "\n",
        "            # sum of dendrite signals inside cell body\n",
        "            sum = sum + den;\n",
        "\n",
        "        # bias of the neuron\n",
        "        b = self.b;     b.label=f'{self.label} : b'\n",
        "\n",
        "        # bias gets added inside the body\n",
        "        body = sum + b;     body.label=f'{self.label} : body'\n",
        "\n",
        "        # the net signal passes through a non-linear activation function\n",
        "        out = body.tanh()\n",
        "        out.label=f'{self.label} : out'\n",
        "\n",
        "        return out"
      ],
      "metadata": {
        "id": "7QQw8i0d8GBK"
      },
      "execution_count": 8,
      "outputs": []
    },
    {
      "cell_type": "code",
      "source": [
        "x = [2.0, 3.0]\n",
        "n = NoobNeuron(2, \"noob_neuron\")\n",
        "n = n(x)\n",
        "n.backward()\n",
        "draw_dot(n)"
      ],
      "metadata": {
        "colab": {
          "base_uri": "https://localhost:8080/",
          "height": 359
        },
        "id": "n8B8n6r-WS_-",
        "outputId": "47343409-d9ec-44d3-ea33-1063164f8a5b"
      },
      "execution_count": 9,
      "outputs": [
        {
          "output_type": "execute_result",
          "data": {
            "image/svg+xml": "<?xml version=\"1.0\" encoding=\"UTF-8\" standalone=\"no\"?>\n<!DOCTYPE svg PUBLIC \"-//W3C//DTD SVG 1.1//EN\"\n \"http://www.w3.org/Graphics/SVG/1.1/DTD/svg11.dtd\">\n<!-- Generated by graphviz version 2.43.0 (0)\n -->\n<!-- Title: %3 Pages: 1 -->\n<svg width=\"2382pt\" height=\"238pt\"\n viewBox=\"0.00 0.00 2382.00 238.00\" xmlns=\"http://www.w3.org/2000/svg\" xmlns:xlink=\"http://www.w3.org/1999/xlink\">\n<g id=\"graph0\" class=\"graph\" transform=\"scale(1 1) rotate(0) translate(4 234)\">\n<title>%3</title>\n<polygon fill=\"white\" stroke=\"transparent\" points=\"-4,4 -4,-234 2378,-234 2378,4 -4,4\"/>\n<!-- 140122570377728 -->\n<g id=\"node1\" class=\"node\">\n<title>140122570377728</title>\n<polygon fill=\"none\" stroke=\"black\" points=\"0,-193.5 0,-229.5 291,-229.5 291,-193.5 0,-193.5\"/>\n<text text-anchor=\"middle\" x=\"58\" y=\"-207.8\" font-family=\"Times,serif\" font-size=\"14.00\">noob_neuron : w0</text>\n<polyline fill=\"none\" stroke=\"black\" points=\"116,-193.5 116,-229.5 \"/>\n<text text-anchor=\"middle\" x=\"160.5\" y=\"-207.8\" font-family=\"Times,serif\" font-size=\"14.00\">data: &#45;0.2342</text>\n<polyline fill=\"none\" stroke=\"black\" points=\"205,-193.5 205,-229.5 \"/>\n<text text-anchor=\"middle\" x=\"248\" y=\"-207.8\" font-family=\"Times,serif\" font-size=\"14.00\">grad: 0.0178</text>\n</g>\n<!-- 140122570377632* -->\n<g id=\"node17\" class=\"node\">\n<title>140122570377632*</title>\n<ellipse fill=\"none\" stroke=\"black\" cx=\"354\" cy=\"-183.5\" rx=\"27\" ry=\"18\"/>\n<text text-anchor=\"middle\" x=\"354\" y=\"-179.8\" font-family=\"Times,serif\" font-size=\"14.00\">*</text>\n</g>\n<!-- 140122570377728&#45;&gt;140122570377632* -->\n<g id=\"edge15\" class=\"edge\">\n<title>140122570377728&#45;&gt;140122570377632*</title>\n<path fill=\"none\" stroke=\"black\" d=\"M279.32,-193.49C293.09,-191.62 306.09,-189.86 317.22,-188.35\"/>\n<polygon fill=\"black\" stroke=\"black\" points=\"317.85,-191.8 327.29,-186.99 316.91,-184.86 317.85,-191.8\"/>\n</g>\n<!-- 140122570377872 -->\n<g id=\"node2\" class=\"node\">\n<title>140122570377872</title>\n<polygon fill=\"none\" stroke=\"black\" points=\"843,-55.5 843,-91.5 1138,-91.5 1138,-55.5 843,-55.5\"/>\n<text text-anchor=\"middle\" x=\"905.5\" y=\"-69.8\" font-family=\"Times,serif\" font-size=\"14.00\">noob_neuron : den1</text>\n<polyline fill=\"none\" stroke=\"black\" points=\"968,-55.5 968,-91.5 \"/>\n<text text-anchor=\"middle\" x=\"1010\" y=\"-69.8\" font-family=\"Times,serif\" font-size=\"14.00\">data: 2.8312</text>\n<polyline fill=\"none\" stroke=\"black\" points=\"1052,-55.5 1052,-91.5 \"/>\n<text text-anchor=\"middle\" x=\"1095\" y=\"-69.8\" font-family=\"Times,serif\" font-size=\"14.00\">grad: 0.0089</text>\n</g>\n<!-- 140122570377968+ -->\n<g id=\"node11\" class=\"node\">\n<title>140122570377968+</title>\n<ellipse fill=\"none\" stroke=\"black\" cx=\"1201\" cy=\"-100.5\" rx=\"27\" ry=\"18\"/>\n<text text-anchor=\"middle\" x=\"1201\" y=\"-96.8\" font-family=\"Times,serif\" font-size=\"14.00\">+</text>\n</g>\n<!-- 140122570377872&#45;&gt;140122570377968+ -->\n<g id=\"edge8\" class=\"edge\">\n<title>140122570377872&#45;&gt;140122570377968+</title>\n<path fill=\"none\" stroke=\"black\" d=\"M1130.57,-91.51C1142.75,-93.09 1154.21,-94.57 1164.18,-95.86\"/>\n<polygon fill=\"black\" stroke=\"black\" points=\"1164.01,-99.37 1174.37,-97.18 1164.9,-92.43 1164.01,-99.37\"/>\n</g>\n<!-- 140122570377872* -->\n<g id=\"node3\" class=\"node\">\n<title>140122570377872*</title>\n<ellipse fill=\"none\" stroke=\"black\" cx=\"780\" cy=\"-73.5\" rx=\"27\" ry=\"18\"/>\n<text text-anchor=\"middle\" x=\"780\" y=\"-69.8\" font-family=\"Times,serif\" font-size=\"14.00\">*</text>\n</g>\n<!-- 140122570377872*&#45;&gt;140122570377872 -->\n<g id=\"edge1\" class=\"edge\">\n<title>140122570377872*&#45;&gt;140122570377872</title>\n<path fill=\"none\" stroke=\"black\" d=\"M807.41,-73.5C814.81,-73.5 823.42,-73.5 832.81,-73.5\"/>\n<polygon fill=\"black\" stroke=\"black\" points=\"832.84,-77 842.84,-73.5 832.84,-70 832.84,-77\"/>\n</g>\n<!-- 140122570376864 -->\n<g id=\"node4\" class=\"node\">\n<title>140122570376864</title>\n<polygon fill=\"none\" stroke=\"black\" points=\"424,-55.5 424,-91.5 710,-91.5 710,-55.5 424,-55.5\"/>\n<text text-anchor=\"middle\" x=\"482\" y=\"-69.8\" font-family=\"Times,serif\" font-size=\"14.00\">noob_neuron : w1</text>\n<polyline fill=\"none\" stroke=\"black\" points=\"540,-55.5 540,-91.5 \"/>\n<text text-anchor=\"middle\" x=\"582\" y=\"-69.8\" font-family=\"Times,serif\" font-size=\"14.00\">data: 0.9437</text>\n<polyline fill=\"none\" stroke=\"black\" points=\"624,-55.5 624,-91.5 \"/>\n<text text-anchor=\"middle\" x=\"667\" y=\"-69.8\" font-family=\"Times,serif\" font-size=\"14.00\">grad: 0.0268</text>\n</g>\n<!-- 140122570376864&#45;&gt;140122570377872* -->\n<g id=\"edge10\" class=\"edge\">\n<title>140122570376864&#45;&gt;140122570377872*</title>\n<path fill=\"none\" stroke=\"black\" d=\"M710.2,-73.5C721.86,-73.5 732.84,-73.5 742.45,-73.5\"/>\n<polygon fill=\"black\" stroke=\"black\" points=\"742.69,-77 752.69,-73.5 742.69,-70 742.69,-77\"/>\n</g>\n<!-- 140122570377392 -->\n<g id=\"node5\" class=\"node\">\n<title>140122570377392</title>\n<polygon fill=\"none\" stroke=\"black\" points=\"893,-110.5 893,-146.5 1088,-146.5 1088,-110.5 893,-110.5\"/>\n<text text-anchor=\"middle\" x=\"903\" y=\"-124.8\" font-family=\"Times,serif\" font-size=\"14.00\"> </text>\n<polyline fill=\"none\" stroke=\"black\" points=\"913,-110.5 913,-146.5 \"/>\n<text text-anchor=\"middle\" x=\"957.5\" y=\"-124.8\" font-family=\"Times,serif\" font-size=\"14.00\">data: &#45;0.4683</text>\n<polyline fill=\"none\" stroke=\"black\" points=\"1002,-110.5 1002,-146.5 \"/>\n<text text-anchor=\"middle\" x=\"1045\" y=\"-124.8\" font-family=\"Times,serif\" font-size=\"14.00\">grad: 0.0089</text>\n</g>\n<!-- 140122570377392&#45;&gt;140122570377968+ -->\n<g id=\"edge11\" class=\"edge\">\n<title>140122570377392&#45;&gt;140122570377968+</title>\n<path fill=\"none\" stroke=\"black\" d=\"M1088.12,-115.52C1115.28,-111.88 1143.13,-108.14 1164.25,-105.3\"/>\n<polygon fill=\"black\" stroke=\"black\" points=\"1164.89,-108.75 1174.34,-103.95 1163.96,-101.81 1164.89,-108.75\"/>\n</g>\n<!-- 140122570377392+ -->\n<g id=\"node6\" class=\"node\">\n<title>140122570377392+</title>\n<ellipse fill=\"none\" stroke=\"black\" cx=\"780\" cy=\"-128.5\" rx=\"27\" ry=\"18\"/>\n<text text-anchor=\"middle\" x=\"780\" y=\"-124.8\" font-family=\"Times,serif\" font-size=\"14.00\">+</text>\n</g>\n<!-- 140122570377392+&#45;&gt;140122570377392 -->\n<g id=\"edge2\" class=\"edge\">\n<title>140122570377392+&#45;&gt;140122570377392</title>\n<path fill=\"none\" stroke=\"black\" d=\"M807.41,-128.5C826.83,-128.5 854.62,-128.5 882.67,-128.5\"/>\n<polygon fill=\"black\" stroke=\"black\" points=\"883,-132 893,-128.5 883,-125 883,-132\"/>\n</g>\n<!-- 140122570378448 -->\n<g id=\"node7\" class=\"node\">\n<title>140122570378448</title>\n<polygon fill=\"none\" stroke=\"black\" points=\"2088,-54.5 2088,-90.5 2374,-90.5 2374,-54.5 2088,-54.5\"/>\n<text text-anchor=\"middle\" x=\"2146\" y=\"-68.8\" font-family=\"Times,serif\" font-size=\"14.00\">noob_neuron : out</text>\n<polyline fill=\"none\" stroke=\"black\" points=\"2204,-54.5 2204,-90.5 \"/>\n<text text-anchor=\"middle\" x=\"2246\" y=\"-68.8\" font-family=\"Times,serif\" font-size=\"14.00\">data: 0.9955</text>\n<polyline fill=\"none\" stroke=\"black\" points=\"2288,-54.5 2288,-90.5 \"/>\n<text text-anchor=\"middle\" x=\"2331\" y=\"-68.8\" font-family=\"Times,serif\" font-size=\"14.00\">grad: 1.0000</text>\n</g>\n<!-- 140122570378448tanh -->\n<g id=\"node8\" class=\"node\">\n<title>140122570378448tanh</title>\n<ellipse fill=\"none\" stroke=\"black\" cx=\"2025\" cy=\"-72.5\" rx=\"27\" ry=\"18\"/>\n<text text-anchor=\"middle\" x=\"2025\" y=\"-68.8\" font-family=\"Times,serif\" font-size=\"14.00\">tanh</text>\n</g>\n<!-- 140122570378448tanh&#45;&gt;140122570378448 -->\n<g id=\"edge3\" class=\"edge\">\n<title>140122570378448tanh&#45;&gt;140122570378448</title>\n<path fill=\"none\" stroke=\"black\" d=\"M2052.25,-72.5C2059.68,-72.5 2068.33,-72.5 2077.75,-72.5\"/>\n<polygon fill=\"black\" stroke=\"black\" points=\"2077.82,-76 2087.82,-72.5 2077.82,-69 2077.82,-76\"/>\n</g>\n<!-- 140122570377440 -->\n<g id=\"node9\" class=\"node\">\n<title>140122570377440</title>\n<polygon fill=\"none\" stroke=\"black\" points=\"425.5,-0.5 425.5,-36.5 708.5,-36.5 708.5,-0.5 425.5,-0.5\"/>\n<text text-anchor=\"middle\" x=\"482\" y=\"-14.8\" font-family=\"Times,serif\" font-size=\"14.00\">noob_neuron : x1</text>\n<polyline fill=\"none\" stroke=\"black\" points=\"538.5,-0.5 538.5,-36.5 \"/>\n<text text-anchor=\"middle\" x=\"580.5\" y=\"-14.8\" font-family=\"Times,serif\" font-size=\"14.00\">data: 3.0000</text>\n<polyline fill=\"none\" stroke=\"black\" points=\"622.5,-0.5 622.5,-36.5 \"/>\n<text text-anchor=\"middle\" x=\"665.5\" y=\"-14.8\" font-family=\"Times,serif\" font-size=\"14.00\">grad: 0.0084</text>\n</g>\n<!-- 140122570377440&#45;&gt;140122570377872* -->\n<g id=\"edge13\" class=\"edge\">\n<title>140122570377440&#45;&gt;140122570377872*</title>\n<path fill=\"none\" stroke=\"black\" d=\"M679.33,-36.56C692.14,-39.48 704.92,-42.79 717,-46.5 727.52,-49.73 738.65,-54.22 748.53,-58.61\"/>\n<polygon fill=\"black\" stroke=\"black\" points=\"747.38,-61.93 757.93,-62.91 750.3,-55.57 747.38,-61.93\"/>\n</g>\n<!-- 140122570377968 -->\n<g id=\"node10\" class=\"node\">\n<title>140122570377968</title>\n<polygon fill=\"none\" stroke=\"black\" points=\"1307,-82.5 1307,-118.5 1497,-118.5 1497,-82.5 1307,-82.5\"/>\n<text text-anchor=\"middle\" x=\"1317\" y=\"-96.8\" font-family=\"Times,serif\" font-size=\"14.00\"> </text>\n<polyline fill=\"none\" stroke=\"black\" points=\"1327,-82.5 1327,-118.5 \"/>\n<text text-anchor=\"middle\" x=\"1369\" y=\"-96.8\" font-family=\"Times,serif\" font-size=\"14.00\">data: 2.3629</text>\n<polyline fill=\"none\" stroke=\"black\" points=\"1411,-82.5 1411,-118.5 \"/>\n<text text-anchor=\"middle\" x=\"1454\" y=\"-96.8\" font-family=\"Times,serif\" font-size=\"14.00\">grad: 0.0089</text>\n</g>\n<!-- 140122570378064+ -->\n<g id=\"node14\" class=\"node\">\n<title>140122570378064+</title>\n<ellipse fill=\"none\" stroke=\"black\" cx=\"1603\" cy=\"-72.5\" rx=\"27\" ry=\"18\"/>\n<text text-anchor=\"middle\" x=\"1603\" y=\"-68.8\" font-family=\"Times,serif\" font-size=\"14.00\">+</text>\n</g>\n<!-- 140122570377968&#45;&gt;140122570378064+ -->\n<g id=\"edge16\" class=\"edge\">\n<title>140122570377968&#45;&gt;140122570378064+</title>\n<path fill=\"none\" stroke=\"black\" d=\"M1497.26,-87.24C1521.84,-83.78 1546.85,-80.26 1566.26,-77.53\"/>\n<polygon fill=\"black\" stroke=\"black\" points=\"1567.02,-80.96 1576.43,-76.1 1566.04,-74.03 1567.02,-80.96\"/>\n</g>\n<!-- 140122570377968+&#45;&gt;140122570377968 -->\n<g id=\"edge4\" class=\"edge\">\n<title>140122570377968+&#45;&gt;140122570377968</title>\n<path fill=\"none\" stroke=\"black\" d=\"M1228.02,-100.5C1245.97,-100.5 1271.13,-100.5 1296.71,-100.5\"/>\n<polygon fill=\"black\" stroke=\"black\" points=\"1296.9,-104 1306.9,-100.5 1296.9,-97 1296.9,-104\"/>\n</g>\n<!-- 140122570376432 -->\n<g id=\"node12\" class=\"node\">\n<title>140122570376432</title>\n<polygon fill=\"none\" stroke=\"black\" points=\"1264,-27.5 1264,-63.5 1540,-63.5 1540,-27.5 1264,-27.5\"/>\n<text text-anchor=\"middle\" x=\"1317\" y=\"-41.8\" font-family=\"Times,serif\" font-size=\"14.00\">noob_neuron : b</text>\n<polyline fill=\"none\" stroke=\"black\" points=\"1370,-27.5 1370,-63.5 \"/>\n<text text-anchor=\"middle\" x=\"1412\" y=\"-41.8\" font-family=\"Times,serif\" font-size=\"14.00\">data: 0.6876</text>\n<polyline fill=\"none\" stroke=\"black\" points=\"1454,-27.5 1454,-63.5 \"/>\n<text text-anchor=\"middle\" x=\"1497\" y=\"-41.8\" font-family=\"Times,serif\" font-size=\"14.00\">grad: 0.0089</text>\n</g>\n<!-- 140122570376432&#45;&gt;140122570378064+ -->\n<g id=\"edge7\" class=\"edge\">\n<title>140122570376432&#45;&gt;140122570378064+</title>\n<path fill=\"none\" stroke=\"black\" d=\"M1535.74,-63.51C1546.7,-65 1557.06,-66.4 1566.18,-67.64\"/>\n<polygon fill=\"black\" stroke=\"black\" points=\"1565.91,-71.14 1576.29,-69.01 1566.85,-64.2 1565.91,-71.14\"/>\n</g>\n<!-- 140122570378064 -->\n<g id=\"node13\" class=\"node\">\n<title>140122570378064</title>\n<polygon fill=\"none\" stroke=\"black\" points=\"1666,-54.5 1666,-90.5 1962,-90.5 1962,-54.5 1666,-54.5\"/>\n<text text-anchor=\"middle\" x=\"1729\" y=\"-68.8\" font-family=\"Times,serif\" font-size=\"14.00\">noob_neuron : body</text>\n<polyline fill=\"none\" stroke=\"black\" points=\"1792,-54.5 1792,-90.5 \"/>\n<text text-anchor=\"middle\" x=\"1834\" y=\"-68.8\" font-family=\"Times,serif\" font-size=\"14.00\">data: 3.0505</text>\n<polyline fill=\"none\" stroke=\"black\" points=\"1876,-54.5 1876,-90.5 \"/>\n<text text-anchor=\"middle\" x=\"1919\" y=\"-68.8\" font-family=\"Times,serif\" font-size=\"14.00\">grad: 0.0089</text>\n</g>\n<!-- 140122570378064&#45;&gt;140122570378448tanh -->\n<g id=\"edge14\" class=\"edge\">\n<title>140122570378064&#45;&gt;140122570378448tanh</title>\n<path fill=\"none\" stroke=\"black\" d=\"M1962.14,-72.5C1971.37,-72.5 1980.07,-72.5 1987.86,-72.5\"/>\n<polygon fill=\"black\" stroke=\"black\" points=\"1987.89,-76 1997.89,-72.5 1987.89,-69 1987.89,-76\"/>\n</g>\n<!-- 140122570378064+&#45;&gt;140122570378064 -->\n<g id=\"edge5\" class=\"edge\">\n<title>140122570378064+&#45;&gt;140122570378064</title>\n<path fill=\"none\" stroke=\"black\" d=\"M1630.05,-72.5C1637.52,-72.5 1646.25,-72.5 1655.78,-72.5\"/>\n<polygon fill=\"black\" stroke=\"black\" points=\"1655.97,-76 1665.97,-72.5 1655.97,-69 1655.97,-76\"/>\n</g>\n<!-- 140122570376576 -->\n<g id=\"node15\" class=\"node\">\n<title>140122570376576</title>\n<polygon fill=\"none\" stroke=\"black\" points=\"421,-110.5 421,-146.5 713,-146.5 713,-110.5 421,-110.5\"/>\n<text text-anchor=\"middle\" x=\"482\" y=\"-124.8\" font-family=\"Times,serif\" font-size=\"14.00\">noob_neuron : sum</text>\n<polyline fill=\"none\" stroke=\"black\" points=\"543,-110.5 543,-146.5 \"/>\n<text text-anchor=\"middle\" x=\"585\" y=\"-124.8\" font-family=\"Times,serif\" font-size=\"14.00\">data: 0.0000</text>\n<polyline fill=\"none\" stroke=\"black\" points=\"627,-110.5 627,-146.5 \"/>\n<text text-anchor=\"middle\" x=\"670\" y=\"-124.8\" font-family=\"Times,serif\" font-size=\"14.00\">grad: 0.0089</text>\n</g>\n<!-- 140122570376576&#45;&gt;140122570377392+ -->\n<g id=\"edge17\" class=\"edge\">\n<title>140122570376576&#45;&gt;140122570377392+</title>\n<path fill=\"none\" stroke=\"black\" d=\"M713.11,-128.5C723.8,-128.5 733.86,-128.5 742.75,-128.5\"/>\n<polygon fill=\"black\" stroke=\"black\" points=\"742.97,-132 752.97,-128.5 742.97,-125 742.97,-132\"/>\n</g>\n<!-- 140122570377632 -->\n<g id=\"node16\" class=\"node\">\n<title>140122570377632</title>\n<polygon fill=\"none\" stroke=\"black\" points=\"417,-165.5 417,-201.5 717,-201.5 717,-165.5 417,-165.5\"/>\n<text text-anchor=\"middle\" x=\"479.5\" y=\"-179.8\" font-family=\"Times,serif\" font-size=\"14.00\">noob_neuron : den0</text>\n<polyline fill=\"none\" stroke=\"black\" points=\"542,-165.5 542,-201.5 \"/>\n<text text-anchor=\"middle\" x=\"586.5\" y=\"-179.8\" font-family=\"Times,serif\" font-size=\"14.00\">data: &#45;0.4683</text>\n<polyline fill=\"none\" stroke=\"black\" points=\"631,-165.5 631,-201.5 \"/>\n<text text-anchor=\"middle\" x=\"674\" y=\"-179.8\" font-family=\"Times,serif\" font-size=\"14.00\">grad: 0.0089</text>\n</g>\n<!-- 140122570377632&#45;&gt;140122570377392+ -->\n<g id=\"edge9\" class=\"edge\">\n<title>140122570377632&#45;&gt;140122570377392+</title>\n<path fill=\"none\" stroke=\"black\" d=\"M683.78,-165.41C695.1,-162.78 706.33,-159.82 717,-156.5 727.77,-153.15 739.13,-148.4 749.14,-143.77\"/>\n<polygon fill=\"black\" stroke=\"black\" points=\"750.75,-146.88 758.27,-139.41 747.73,-140.56 750.75,-146.88\"/>\n</g>\n<!-- 140122570377632*&#45;&gt;140122570377632 -->\n<g id=\"edge6\" class=\"edge\">\n<title>140122570377632*&#45;&gt;140122570377632</title>\n<path fill=\"none\" stroke=\"black\" d=\"M381.3,-183.5C388.68,-183.5 397.27,-183.5 406.65,-183.5\"/>\n<polygon fill=\"black\" stroke=\"black\" points=\"406.67,-187 416.67,-183.5 406.67,-180 406.67,-187\"/>\n</g>\n<!-- 140122570377152 -->\n<g id=\"node18\" class=\"node\">\n<title>140122570377152</title>\n<polygon fill=\"none\" stroke=\"black\" points=\"2,-138.5 2,-174.5 289,-174.5 289,-138.5 2,-138.5\"/>\n<text text-anchor=\"middle\" x=\"58.5\" y=\"-152.8\" font-family=\"Times,serif\" font-size=\"14.00\">noob_neuron : x0</text>\n<polyline fill=\"none\" stroke=\"black\" points=\"115,-138.5 115,-174.5 \"/>\n<text text-anchor=\"middle\" x=\"157\" y=\"-152.8\" font-family=\"Times,serif\" font-size=\"14.00\">data: 2.0000</text>\n<polyline fill=\"none\" stroke=\"black\" points=\"199,-138.5 199,-174.5 \"/>\n<text text-anchor=\"middle\" x=\"244\" y=\"-152.8\" font-family=\"Times,serif\" font-size=\"14.00\">grad: &#45;0.0021</text>\n</g>\n<!-- 140122570377152&#45;&gt;140122570377632* -->\n<g id=\"edge12\" class=\"edge\">\n<title>140122570377152&#45;&gt;140122570377632*</title>\n<path fill=\"none\" stroke=\"black\" d=\"M284.24,-174.51C296.19,-176.07 307.45,-177.54 317.26,-178.83\"/>\n<polygon fill=\"black\" stroke=\"black\" points=\"316.93,-182.31 327.3,-180.14 317.83,-175.37 316.93,-182.31\"/>\n</g>\n</g>\n</svg>\n",
            "text/plain": [
              "<graphviz.graphs.Digraph at 0x7f70d4084e20>"
            ]
          },
          "metadata": {},
          "execution_count": 9
        }
      ]
    },
    {
      "cell_type": "code",
      "source": [],
      "metadata": {
        "id": "0nZK3nfl0KIB"
      },
      "execution_count": 9,
      "outputs": []
    },
    {
      "cell_type": "code",
      "source": [
        "# and... here goes much more efficient and optimized implementation"
      ],
      "metadata": {
        "id": "1TgEwuLj0KY8"
      },
      "execution_count": 10,
      "outputs": []
    },
    {
      "cell_type": "code",
      "source": [
        "# original micrograd Neuron that is similar to PyTorch API\n",
        "\n",
        "class Neuron:\n",
        "\n",
        "    def __init__(self, nin) -> None:\n",
        "        self.w = [Value(random.uniform(-1,1)) for _ in range(nin)]\n",
        "        self.b = Value(random.uniform(-1,1))\n",
        "\n",
        "    def __call__(self, x):\n",
        "        # out = f( sum(weights.input_xs + bias) )\n",
        "        body = sum((wi * xi for wi, xi in zip(self.w, x)), self.b)\n",
        "        out = body.tanh()\n",
        "        return out"
      ],
      "metadata": {
        "id": "1mp4W-p3WdfP"
      },
      "execution_count": 11,
      "outputs": []
    },
    {
      "cell_type": "code",
      "source": [
        "x = [2.0, 3.0]\n",
        "n = Neuron(2)\n",
        "n = n(x)\n",
        "n.backward()\n",
        "draw_dot(n)"
      ],
      "metadata": {
        "colab": {
          "base_uri": "https://localhost:8080/",
          "height": 359
        },
        "id": "-70wA6ryYlwJ",
        "outputId": "00333b85-c618-4f85-e703-847adef0b015"
      },
      "execution_count": 12,
      "outputs": [
        {
          "output_type": "execute_result",
          "data": {
            "image/svg+xml": "<?xml version=\"1.0\" encoding=\"UTF-8\" standalone=\"no\"?>\n<!DOCTYPE svg PUBLIC \"-//W3C//DTD SVG 1.1//EN\"\n \"http://www.w3.org/Graphics/SVG/1.1/DTD/svg11.dtd\">\n<!-- Generated by graphviz version 2.43.0 (0)\n -->\n<!-- Title: %3 Pages: 1 -->\n<svg width=\"1487pt\" height=\"238pt\"\n viewBox=\"0.00 0.00 1487.00 238.00\" xmlns=\"http://www.w3.org/2000/svg\" xmlns:xlink=\"http://www.w3.org/1999/xlink\">\n<g id=\"graph0\" class=\"graph\" transform=\"scale(1 1) rotate(0) translate(4 234)\">\n<title>%3</title>\n<polygon fill=\"white\" stroke=\"transparent\" points=\"-4,4 -4,-234 1483,-234 1483,4 -4,4\"/>\n<!-- 140122570828336 -->\n<g id=\"node1\" class=\"node\">\n<title>140122570828336</title>\n<polygon fill=\"none\" stroke=\"black\" points=\"963,-82.5 963,-118.5 1158,-118.5 1158,-82.5 963,-82.5\"/>\n<text text-anchor=\"middle\" x=\"973\" y=\"-96.8\" font-family=\"Times,serif\" font-size=\"14.00\"> </text>\n<polyline fill=\"none\" stroke=\"black\" points=\"983,-82.5 983,-118.5 \"/>\n<text text-anchor=\"middle\" x=\"1027.5\" y=\"-96.8\" font-family=\"Times,serif\" font-size=\"14.00\">data: &#45;0.6183</text>\n<polyline fill=\"none\" stroke=\"black\" points=\"1072,-82.5 1072,-118.5 \"/>\n<text text-anchor=\"middle\" x=\"1115\" y=\"-96.8\" font-family=\"Times,serif\" font-size=\"14.00\">grad: 0.6976</text>\n</g>\n<!-- 140122570828000tanh -->\n<g id=\"node7\" class=\"node\">\n<title>140122570828000tanh</title>\n<ellipse fill=\"none\" stroke=\"black\" cx=\"1221\" cy=\"-100.5\" rx=\"27\" ry=\"18\"/>\n<text text-anchor=\"middle\" x=\"1221\" y=\"-96.8\" font-family=\"Times,serif\" font-size=\"14.00\">tanh</text>\n</g>\n<!-- 140122570828336&#45;&gt;140122570828000tanh -->\n<g id=\"edge13\" class=\"edge\">\n<title>140122570828336&#45;&gt;140122570828000tanh</title>\n<path fill=\"none\" stroke=\"black\" d=\"M1158.27,-100.5C1167.22,-100.5 1175.85,-100.5 1183.69,-100.5\"/>\n<polygon fill=\"black\" stroke=\"black\" points=\"1183.83,-104 1193.83,-100.5 1183.83,-97 1183.83,-104\"/>\n</g>\n<!-- 140122570828336+ -->\n<g id=\"node2\" class=\"node\">\n<title>140122570828336+</title>\n<ellipse fill=\"none\" stroke=\"black\" cx=\"900\" cy=\"-100.5\" rx=\"27\" ry=\"18\"/>\n<text text-anchor=\"middle\" x=\"900\" y=\"-96.8\" font-family=\"Times,serif\" font-size=\"14.00\">+</text>\n</g>\n<!-- 140122570828336+&#45;&gt;140122570828336 -->\n<g id=\"edge1\" class=\"edge\">\n<title>140122570828336+&#45;&gt;140122570828336</title>\n<path fill=\"none\" stroke=\"black\" d=\"M927.17,-100.5C934.66,-100.5 943.32,-100.5 952.56,-100.5\"/>\n<polygon fill=\"black\" stroke=\"black\" points=\"952.78,-104 962.78,-100.5 952.78,-97 952.78,-104\"/>\n</g>\n<!-- 140122570829392 -->\n<g id=\"node3\" class=\"node\">\n<title>140122570829392</title>\n<polygon fill=\"none\" stroke=\"black\" points=\"323.5,-55.5 323.5,-91.5 513.5,-91.5 513.5,-55.5 323.5,-55.5\"/>\n<text text-anchor=\"middle\" x=\"333.5\" y=\"-69.8\" font-family=\"Times,serif\" font-size=\"14.00\"> </text>\n<polyline fill=\"none\" stroke=\"black\" points=\"343.5,-55.5 343.5,-91.5 \"/>\n<text text-anchor=\"middle\" x=\"385.5\" y=\"-69.8\" font-family=\"Times,serif\" font-size=\"14.00\">data: 3.0000</text>\n<polyline fill=\"none\" stroke=\"black\" points=\"427.5,-55.5 427.5,-91.5 \"/>\n<text text-anchor=\"middle\" x=\"470.5\" y=\"-69.8\" font-family=\"Times,serif\" font-size=\"14.00\">grad: 0.0991</text>\n</g>\n<!-- 140122570826704* -->\n<g id=\"node15\" class=\"node\">\n<title>140122570826704*</title>\n<ellipse fill=\"none\" stroke=\"black\" cx=\"579\" cy=\"-73.5\" rx=\"27\" ry=\"18\"/>\n<text text-anchor=\"middle\" x=\"579\" y=\"-69.8\" font-family=\"Times,serif\" font-size=\"14.00\">*</text>\n</g>\n<!-- 140122570829392&#45;&gt;140122570826704* -->\n<g id=\"edge12\" class=\"edge\">\n<title>140122570829392&#45;&gt;140122570826704*</title>\n<path fill=\"none\" stroke=\"black\" d=\"M513.53,-73.5C523.48,-73.5 533.11,-73.5 541.76,-73.5\"/>\n<polygon fill=\"black\" stroke=\"black\" points=\"541.78,-77 551.78,-73.5 541.78,-70 541.78,-77\"/>\n</g>\n<!-- 140122570829440 -->\n<g id=\"node4\" class=\"node\">\n<title>140122570829440</title>\n<polygon fill=\"none\" stroke=\"black\" points=\"321,-165.5 321,-201.5 516,-201.5 516,-165.5 321,-165.5\"/>\n<text text-anchor=\"middle\" x=\"331\" y=\"-179.8\" font-family=\"Times,serif\" font-size=\"14.00\"> </text>\n<polyline fill=\"none\" stroke=\"black\" points=\"341,-165.5 341,-201.5 \"/>\n<text text-anchor=\"middle\" x=\"385.5\" y=\"-179.8\" font-family=\"Times,serif\" font-size=\"14.00\">data: &#45;0.7189</text>\n<polyline fill=\"none\" stroke=\"black\" points=\"430,-165.5 430,-201.5 \"/>\n<text text-anchor=\"middle\" x=\"473\" y=\"-179.8\" font-family=\"Times,serif\" font-size=\"14.00\">grad: 0.6976</text>\n</g>\n<!-- 140122570829248+ -->\n<g id=\"node13\" class=\"node\">\n<title>140122570829248+</title>\n<ellipse fill=\"none\" stroke=\"black\" cx=\"579\" cy=\"-128.5\" rx=\"27\" ry=\"18\"/>\n<text text-anchor=\"middle\" x=\"579\" y=\"-124.8\" font-family=\"Times,serif\" font-size=\"14.00\">+</text>\n</g>\n<!-- 140122570829440&#45;&gt;140122570829248+ -->\n<g id=\"edge9\" class=\"edge\">\n<title>140122570829440&#45;&gt;140122570829248+</title>\n<path fill=\"none\" stroke=\"black\" d=\"M485.79,-165.49C495.98,-162.37 506.32,-159 516,-155.5 526.27,-151.79 537.26,-147.21 547.09,-142.89\"/>\n<polygon fill=\"black\" stroke=\"black\" points=\"548.77,-145.97 556.47,-138.69 545.91,-139.58 548.77,-145.97\"/>\n</g>\n<!-- 140122570829440* -->\n<g id=\"node5\" class=\"node\">\n<title>140122570829440*</title>\n<ellipse fill=\"none\" stroke=\"black\" cx=\"258\" cy=\"-183.5\" rx=\"27\" ry=\"18\"/>\n<text text-anchor=\"middle\" x=\"258\" y=\"-179.8\" font-family=\"Times,serif\" font-size=\"14.00\">*</text>\n</g>\n<!-- 140122570829440*&#45;&gt;140122570829440 -->\n<g id=\"edge2\" class=\"edge\">\n<title>140122570829440*&#45;&gt;140122570829440</title>\n<path fill=\"none\" stroke=\"black\" d=\"M285.17,-183.5C292.66,-183.5 301.32,-183.5 310.56,-183.5\"/>\n<polygon fill=\"black\" stroke=\"black\" points=\"310.78,-187 320.78,-183.5 310.78,-180 310.78,-187\"/>\n</g>\n<!-- 140122570828000 -->\n<g id=\"node6\" class=\"node\">\n<title>140122570828000</title>\n<polygon fill=\"none\" stroke=\"black\" points=\"1284,-82.5 1284,-118.5 1479,-118.5 1479,-82.5 1284,-82.5\"/>\n<text text-anchor=\"middle\" x=\"1294\" y=\"-96.8\" font-family=\"Times,serif\" font-size=\"14.00\"> </text>\n<polyline fill=\"none\" stroke=\"black\" points=\"1304,-82.5 1304,-118.5 \"/>\n<text text-anchor=\"middle\" x=\"1348.5\" y=\"-96.8\" font-family=\"Times,serif\" font-size=\"14.00\">data: &#45;0.5499</text>\n<polyline fill=\"none\" stroke=\"black\" points=\"1393,-82.5 1393,-118.5 \"/>\n<text text-anchor=\"middle\" x=\"1436\" y=\"-96.8\" font-family=\"Times,serif\" font-size=\"14.00\">grad: 1.0000</text>\n</g>\n<!-- 140122570828000tanh&#45;&gt;140122570828000 -->\n<g id=\"edge3\" class=\"edge\">\n<title>140122570828000tanh&#45;&gt;140122570828000</title>\n<path fill=\"none\" stroke=\"black\" d=\"M1248.17,-100.5C1255.66,-100.5 1264.32,-100.5 1273.56,-100.5\"/>\n<polygon fill=\"black\" stroke=\"black\" points=\"1273.78,-104 1283.78,-100.5 1273.78,-97 1273.78,-104\"/>\n</g>\n<!-- 140122570828528 -->\n<g id=\"node8\" class=\"node\">\n<title>140122570828528</title>\n<polygon fill=\"none\" stroke=\"black\" points=\"0,-193.5 0,-229.5 195,-229.5 195,-193.5 0,-193.5\"/>\n<text text-anchor=\"middle\" x=\"10\" y=\"-207.8\" font-family=\"Times,serif\" font-size=\"14.00\"> </text>\n<polyline fill=\"none\" stroke=\"black\" points=\"20,-193.5 20,-229.5 \"/>\n<text text-anchor=\"middle\" x=\"64.5\" y=\"-207.8\" font-family=\"Times,serif\" font-size=\"14.00\">data: &#45;0.3594</text>\n<polyline fill=\"none\" stroke=\"black\" points=\"109,-193.5 109,-229.5 \"/>\n<text text-anchor=\"middle\" x=\"152\" y=\"-207.8\" font-family=\"Times,serif\" font-size=\"14.00\">grad: 1.3952</text>\n</g>\n<!-- 140122570828528&#45;&gt;140122570829440* -->\n<g id=\"edge11\" class=\"edge\">\n<title>140122570828528&#45;&gt;140122570829440*</title>\n<path fill=\"none\" stroke=\"black\" d=\"M195.27,-194.41C204.59,-192.76 213.57,-191.17 221.66,-189.74\"/>\n<polygon fill=\"black\" stroke=\"black\" points=\"222.49,-193.15 231.73,-187.96 221.28,-186.26 222.49,-193.15\"/>\n</g>\n<!-- 140122570828576 -->\n<g id=\"node9\" class=\"node\">\n<title>140122570828576</title>\n<polygon fill=\"none\" stroke=\"black\" points=\"321,-110.5 321,-146.5 516,-146.5 516,-110.5 321,-110.5\"/>\n<text text-anchor=\"middle\" x=\"331\" y=\"-124.8\" font-family=\"Times,serif\" font-size=\"14.00\"> </text>\n<polyline fill=\"none\" stroke=\"black\" points=\"341,-110.5 341,-146.5 \"/>\n<text text-anchor=\"middle\" x=\"385.5\" y=\"-124.8\" font-family=\"Times,serif\" font-size=\"14.00\">data: &#45;0.3255</text>\n<polyline fill=\"none\" stroke=\"black\" points=\"430,-110.5 430,-146.5 \"/>\n<text text-anchor=\"middle\" x=\"473\" y=\"-124.8\" font-family=\"Times,serif\" font-size=\"14.00\">grad: 0.6976</text>\n</g>\n<!-- 140122570828576&#45;&gt;140122570829248+ -->\n<g id=\"edge10\" class=\"edge\">\n<title>140122570828576&#45;&gt;140122570829248+</title>\n<path fill=\"none\" stroke=\"black\" d=\"M516.27,-128.5C525.22,-128.5 533.85,-128.5 541.69,-128.5\"/>\n<polygon fill=\"black\" stroke=\"black\" points=\"541.83,-132 551.83,-128.5 541.83,-125 541.83,-132\"/>\n</g>\n<!-- 140122570828096 -->\n<g id=\"node10\" class=\"node\">\n<title>140122570828096</title>\n<polygon fill=\"none\" stroke=\"black\" points=\"323.5,-0.5 323.5,-36.5 513.5,-36.5 513.5,-0.5 323.5,-0.5\"/>\n<text text-anchor=\"middle\" x=\"333.5\" y=\"-14.8\" font-family=\"Times,serif\" font-size=\"14.00\"> </text>\n<polyline fill=\"none\" stroke=\"black\" points=\"343.5,-0.5 343.5,-36.5 \"/>\n<text text-anchor=\"middle\" x=\"385.5\" y=\"-14.8\" font-family=\"Times,serif\" font-size=\"14.00\">data: 0.1421</text>\n<polyline fill=\"none\" stroke=\"black\" points=\"427.5,-0.5 427.5,-36.5 \"/>\n<text text-anchor=\"middle\" x=\"470.5\" y=\"-14.8\" font-family=\"Times,serif\" font-size=\"14.00\">grad: 2.0928</text>\n</g>\n<!-- 140122570828096&#45;&gt;140122570826704* -->\n<g id=\"edge7\" class=\"edge\">\n<title>140122570828096&#45;&gt;140122570826704*</title>\n<path fill=\"none\" stroke=\"black\" d=\"M488.96,-36.57C498.12,-39.35 507.33,-42.35 516,-45.5 526.52,-49.32 537.74,-54.15 547.7,-58.71\"/>\n<polygon fill=\"black\" stroke=\"black\" points=\"546.27,-61.91 556.81,-62.97 549.23,-55.56 546.27,-61.91\"/>\n</g>\n<!-- 140122570829728 -->\n<g id=\"node11\" class=\"node\">\n<title>140122570829728</title>\n<polygon fill=\"none\" stroke=\"black\" points=\"0.5,-138.5 0.5,-174.5 194.5,-174.5 194.5,-138.5 0.5,-138.5\"/>\n<text text-anchor=\"middle\" x=\"10.5\" y=\"-152.8\" font-family=\"Times,serif\" font-size=\"14.00\"> </text>\n<polyline fill=\"none\" stroke=\"black\" points=\"20.5,-138.5 20.5,-174.5 \"/>\n<text text-anchor=\"middle\" x=\"62.5\" y=\"-152.8\" font-family=\"Times,serif\" font-size=\"14.00\">data: 2.0000</text>\n<polyline fill=\"none\" stroke=\"black\" points=\"104.5,-138.5 104.5,-174.5 \"/>\n<text text-anchor=\"middle\" x=\"149.5\" y=\"-152.8\" font-family=\"Times,serif\" font-size=\"14.00\">grad: &#45;0.2507</text>\n</g>\n<!-- 140122570829728&#45;&gt;140122570829440* -->\n<g id=\"edge14\" class=\"edge\">\n<title>140122570829728&#45;&gt;140122570829440*</title>\n<path fill=\"none\" stroke=\"black\" d=\"M194.81,-172.91C204.29,-174.52 213.43,-176.08 221.65,-177.48\"/>\n<polygon fill=\"black\" stroke=\"black\" points=\"221.08,-180.93 231.52,-179.16 222.25,-174.03 221.08,-180.93\"/>\n</g>\n<!-- 140122570829248 -->\n<g id=\"node12\" class=\"node\">\n<title>140122570829248</title>\n<polygon fill=\"none\" stroke=\"black\" points=\"642,-110.5 642,-146.5 837,-146.5 837,-110.5 642,-110.5\"/>\n<text text-anchor=\"middle\" x=\"652\" y=\"-124.8\" font-family=\"Times,serif\" font-size=\"14.00\"> </text>\n<polyline fill=\"none\" stroke=\"black\" points=\"662,-110.5 662,-146.5 \"/>\n<text text-anchor=\"middle\" x=\"706.5\" y=\"-124.8\" font-family=\"Times,serif\" font-size=\"14.00\">data: &#45;1.0444</text>\n<polyline fill=\"none\" stroke=\"black\" points=\"751,-110.5 751,-146.5 \"/>\n<text text-anchor=\"middle\" x=\"794\" y=\"-124.8\" font-family=\"Times,serif\" font-size=\"14.00\">grad: 0.6976</text>\n</g>\n<!-- 140122570829248&#45;&gt;140122570828336+ -->\n<g id=\"edge6\" class=\"edge\">\n<title>140122570829248&#45;&gt;140122570828336+</title>\n<path fill=\"none\" stroke=\"black\" d=\"M837.27,-111.41C846.59,-109.76 855.57,-108.17 863.66,-106.74\"/>\n<polygon fill=\"black\" stroke=\"black\" points=\"864.49,-110.15 873.73,-104.96 863.28,-103.26 864.49,-110.15\"/>\n</g>\n<!-- 140122570829248+&#45;&gt;140122570829248 -->\n<g id=\"edge4\" class=\"edge\">\n<title>140122570829248+&#45;&gt;140122570829248</title>\n<path fill=\"none\" stroke=\"black\" d=\"M606.17,-128.5C613.66,-128.5 622.32,-128.5 631.56,-128.5\"/>\n<polygon fill=\"black\" stroke=\"black\" points=\"631.78,-132 641.78,-128.5 631.78,-125 631.78,-132\"/>\n</g>\n<!-- 140122570826704 -->\n<g id=\"node14\" class=\"node\">\n<title>140122570826704</title>\n<polygon fill=\"none\" stroke=\"black\" points=\"644.5,-55.5 644.5,-91.5 834.5,-91.5 834.5,-55.5 644.5,-55.5\"/>\n<text text-anchor=\"middle\" x=\"654.5\" y=\"-69.8\" font-family=\"Times,serif\" font-size=\"14.00\"> </text>\n<polyline fill=\"none\" stroke=\"black\" points=\"664.5,-55.5 664.5,-91.5 \"/>\n<text text-anchor=\"middle\" x=\"706.5\" y=\"-69.8\" font-family=\"Times,serif\" font-size=\"14.00\">data: 0.4262</text>\n<polyline fill=\"none\" stroke=\"black\" points=\"748.5,-55.5 748.5,-91.5 \"/>\n<text text-anchor=\"middle\" x=\"791.5\" y=\"-69.8\" font-family=\"Times,serif\" font-size=\"14.00\">grad: 0.6976</text>\n</g>\n<!-- 140122570826704&#45;&gt;140122570828336+ -->\n<g id=\"edge8\" class=\"edge\">\n<title>140122570826704&#45;&gt;140122570828336+</title>\n<path fill=\"none\" stroke=\"black\" d=\"M834.53,-89.52C844.88,-91.28 854.88,-92.98 863.79,-94.5\"/>\n<polygon fill=\"black\" stroke=\"black\" points=\"863.26,-97.96 873.71,-96.19 864.44,-91.06 863.26,-97.96\"/>\n</g>\n<!-- 140122570826704*&#45;&gt;140122570826704 -->\n<g id=\"edge5\" class=\"edge\">\n<title>140122570826704*&#45;&gt;140122570826704</title>\n<path fill=\"none\" stroke=\"black\" d=\"M606.17,-73.5C614.44,-73.5 624.12,-73.5 634.43,-73.5\"/>\n<polygon fill=\"black\" stroke=\"black\" points=\"634.48,-77 644.48,-73.5 634.48,-70 634.48,-77\"/>\n</g>\n</g>\n</svg>\n",
            "text/plain": [
              "<graphviz.graphs.Digraph at 0x7f70d40f28b0>"
            ]
          },
          "metadata": {},
          "execution_count": 12
        }
      ]
    },
    {
      "cell_type": "code",
      "source": [],
      "metadata": {
        "id": "JI3qUPU8Yo4o"
      },
      "execution_count": 12,
      "outputs": []
    }
  ]
}