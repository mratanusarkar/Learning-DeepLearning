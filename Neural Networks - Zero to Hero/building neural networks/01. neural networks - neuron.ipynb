{
  "nbformat": 4,
  "nbformat_minor": 0,
  "metadata": {
    "colab": {
      "provenance": [],
      "authorship_tag": "ABX9TyNc6dmbT1zqXz4S6O7ZZzPY"
    },
    "kernelspec": {
      "name": "python3",
      "display_name": "Python 3"
    },
    "language_info": {
      "name": "python"
    }
  },
  "cells": [
    {
      "cell_type": "markdown",
      "source": [
        "# Importing code from the previous notebooks as module"
      ],
      "metadata": {
        "id": "0fFDkGnU9xLZ"
      }
    },
    {
      "cell_type": "code",
      "source": [
        "# instead of copy-pasting the micrograd code everytime\n",
        "# let's use the below code to pull the code in the form of a module"
      ],
      "metadata": {
        "id": "1VsMhvbBAGEh"
      },
      "execution_count": 1,
      "outputs": []
    },
    {
      "cell_type": "code",
      "source": [
        "!git clone https://github.com/mratanusarkar/Learning-DeepLearning.git &> /dev/null\n",
        "%cd /content/Learning-DeepLearning/Neural\\ Networks\\ -\\ Zero\\ to\\ Hero\n",
        "!python setup.py install &> /dev/null"
      ],
      "metadata": {
        "colab": {
          "base_uri": "https://localhost:8080/"
        },
        "id": "LGILwib05hHT",
        "outputId": "f3eb9e3c-fbb3-4a7c-ec1b-c5b0bc31f34e"
      },
      "execution_count": 2,
      "outputs": [
        {
          "output_type": "stream",
          "name": "stdout",
          "text": [
            "/content/Learning-DeepLearning/Neural Networks - Zero to Hero\n"
          ]
        }
      ]
    },
    {
      "cell_type": "code",
      "source": [
        "from micrograd.engine import Value\n",
        "from micrograd.visualize import draw_dot"
      ],
      "metadata": {
        "id": "QGDXoQsRlQQf"
      },
      "execution_count": 3,
      "outputs": []
    },
    {
      "cell_type": "code",
      "source": [
        "import random\n",
        "random.seed(2023)"
      ],
      "metadata": {
        "id": "ym9E-KtBOxGv"
      },
      "execution_count": 4,
      "outputs": []
    },
    {
      "cell_type": "markdown",
      "source": [
        "# Neuron Class"
      ],
      "metadata": {
        "id": "41a9wOtV-7Vj"
      }
    },
    {
      "cell_type": "code",
      "execution_count": 5,
      "metadata": {
        "id": "sgAT4wm5Fbxh"
      },
      "outputs": [],
      "source": [
        "# okay, so now that we have tools in our hand to build out complicated mathematical expressions \n",
        "# we can now focus on starting to build out neural nets\n",
        "# neural nets are nothing but a specific class of mathematical expressions"
      ]
    },
    {
      "cell_type": "code",
      "source": [
        "# let's build a multi-layer perceptron\n",
        "# we have already built a neuron before, \n",
        "# but let's build a class this time that matches the design in torch api"
      ],
      "metadata": {
        "id": "YYrXYve1FyC7"
      },
      "execution_count": 6,
      "outputs": []
    },
    {
      "cell_type": "code",
      "source": [
        "# also, I will build my version of the Neuron class with more understandable names and the expression graphs having labels\n",
        "# and keep what Karpathy had built in his micrograd (and ofcourse those conventions are used in torch api and other ML codebases)\n",
        "# I will call my version of classes as \"Noob\", because \"I am noob!\""
      ],
      "metadata": {
        "id": "PrGu16xaxRII"
      },
      "execution_count": 7,
      "outputs": []
    },
    {
      "cell_type": "code",
      "source": [],
      "metadata": {
        "id": "Tn86Ny-DxzpT"
      },
      "execution_count": 7,
      "outputs": []
    },
    {
      "cell_type": "markdown",
      "source": [
        "Bringing back the mathematical model of the biological neuron for reference: <br>\n",
        "[see: [05. expression graph - a neuron.ipynb](https://github.com/mratanusarkar/Learning-DeepLearning/blob/main/Neural%20Networks%20-%20Zero%20to%20Hero/building%20micrograd/05.%20expression%20graph%20-%20a%20neuron.ipynb) for more details]\n",
        "\n",
        "![neuron_model.jpeg](https://cs231n.github.io/assets/nn1/neuron_model.jpeg)"
      ],
      "metadata": {
        "id": "3Naj6Motxz3K"
      }
    },
    {
      "cell_type": "code",
      "source": [
        "# Karpathy's micrograd Neuron for Noobs!\n",
        "\n",
        "class NoobNeuron:\n",
        "\n",
        "    def __init__(self, n_inputs, label='') -> None:\n",
        "        \"\"\"\n",
        "        Karpathy's micrograd Neuron for Noobs!\n",
        "        Constructs a neuron that has `n_inputs` number of inputs and assigns random weights & bias to the neuron\n",
        "\n",
        "        Parameters\n",
        "        ----------\n",
        "            n_inputs : int\n",
        "                number of inputs entering into the neuron\n",
        "            \n",
        "            label : str\n",
        "                (optional) the name or label of the Neuron\n",
        "        \"\"\"\n",
        "\n",
        "        self.label = label\n",
        "        self.w = [Value(random.uniform(-1,1)) for _ in range(n_inputs)]\n",
        "        self.b = Value(random.uniform(-1,1))\n",
        "\n",
        "    def __call__(self, x):\n",
        "        \"\"\"\n",
        "        Takes in a list of all `n_inputs` number of input `x values`, \n",
        "        Computes the body by doing `sum(w.x + b)` and \n",
        "        Passes the result through a non-linear activation function to return output\n",
        "\n",
        "        x = [x1, x2, x3, ..., xn],\n",
        "        \n",
        "        and we already have w's and b who's values were randomly assigned.\n",
        "        w = [w1, w2, w3, ..., wn]\n",
        "        b = bias\n",
        "\n",
        "        so, the output would be as follows:\n",
        "        out = f((x1*w1 + x2*w2 + ... + xn*wn) + b),\n",
        "        or `out = f(Σ(w.x) + b)`\n",
        "\n",
        "        where, f() is the activation function (tanh in this case)\n",
        "\n",
        "        Parameters\n",
        "        ----------\n",
        "            x : list(float)\n",
        "                the input values or the x = [x1, x2, x3, ..., xn]\n",
        "        \"\"\"\n",
        "\n",
        "        sum = Value(0.0, label=f'{self.label} : sum')\n",
        "        for i, (xi, wi) in enumerate(zip(x, self.w)):\n",
        "            # inputs\n",
        "            x = xi if isinstance(xi, Value) else Value(xi)\n",
        "            x.label=f'{self.label} : x{i}'\n",
        "\n",
        "            # weights\n",
        "            w = wi;         w.label=f'{self.label} : w{i}'\n",
        "\n",
        "            # dendrites of the neuron (inputs weighted)\n",
        "            den = x * w;    den.label=f'{self.label} : den{i}'\n",
        "\n",
        "            # sum of dendrite signals inside cell body\n",
        "            sum = sum + den;\n",
        "\n",
        "        # bias of the neuron\n",
        "        b = self.b;     b.label=f'{self.label} : b'\n",
        "\n",
        "        # bias gets added inside the body\n",
        "        body = sum + b;     body.label=f'{self.label} : body'\n",
        "\n",
        "        # the net signal passes through a non-linear activation function\n",
        "        out = body.tanh()\n",
        "        out.label=f'{self.label} : out'\n",
        "\n",
        "        return out"
      ],
      "metadata": {
        "id": "7QQw8i0d8GBK"
      },
      "execution_count": 8,
      "outputs": []
    },
    {
      "cell_type": "code",
      "source": [
        "x = [2.0, 3.0]\n",
        "n = NoobNeuron(2, \"noob_neuron\")\n",
        "n = n(x)\n",
        "n.backward()\n",
        "draw_dot(n)"
      ],
      "metadata": {
        "colab": {
          "base_uri": "https://localhost:8080/",
          "height": 322
        },
        "id": "n8B8n6r-WS_-",
        "outputId": "d46395b4-7f2a-456d-f55c-d45e37654019"
      },
      "execution_count": 9,
      "outputs": [
        {
          "output_type": "execute_result",
          "data": {
            "image/svg+xml": "<?xml version=\"1.0\" encoding=\"UTF-8\" standalone=\"no\"?>\n<!DOCTYPE svg PUBLIC \"-//W3C//DTD SVG 1.1//EN\"\n \"http://www.w3.org/Graphics/SVG/1.1/DTD/svg11.dtd\">\n<!-- Generated by graphviz version 2.43.0 (0)\n -->\n<!-- Title: %3 Pages: 1 -->\n<svg width=\"2382pt\" height=\"210pt\"\n viewBox=\"0.00 0.00 2382.00 210.00\" xmlns=\"http://www.w3.org/2000/svg\" xmlns:xlink=\"http://www.w3.org/1999/xlink\">\n<g id=\"graph0\" class=\"graph\" transform=\"scale(1 1) rotate(0) translate(4 206)\">\n<title>%3</title>\n<polygon fill=\"white\" stroke=\"transparent\" points=\"-4,4 -4,-206 2378,-206 2378,4 -4,4\"/>\n<!-- 139819709965840 -->\n<g id=\"node1\" class=\"node\">\n<title>139819709965840</title>\n<polygon fill=\"none\" stroke=\"black\" points=\"1666,-109.5 1666,-145.5 1962,-145.5 1962,-109.5 1666,-109.5\"/>\n<text text-anchor=\"middle\" x=\"1729\" y=\"-123.8\" font-family=\"Times,serif\" font-size=\"14.00\">noob_neuron : body</text>\n<polyline fill=\"none\" stroke=\"black\" points=\"1792,-109.5 1792,-145.5 \"/>\n<text text-anchor=\"middle\" x=\"1834\" y=\"-123.8\" font-family=\"Times,serif\" font-size=\"14.00\">data: 3.0505</text>\n<polyline fill=\"none\" stroke=\"black\" points=\"1876,-109.5 1876,-145.5 \"/>\n<text text-anchor=\"middle\" x=\"1919\" y=\"-123.8\" font-family=\"Times,serif\" font-size=\"14.00\">grad: 0.0089</text>\n</g>\n<!-- 139819709965168tanh -->\n<g id=\"node16\" class=\"node\">\n<title>139819709965168tanh</title>\n<ellipse fill=\"none\" stroke=\"black\" cx=\"2025\" cy=\"-127.5\" rx=\"27\" ry=\"18\"/>\n<text text-anchor=\"middle\" x=\"2025\" y=\"-123.8\" font-family=\"Times,serif\" font-size=\"14.00\">tanh</text>\n</g>\n<!-- 139819709965840&#45;&gt;139819709965168tanh -->\n<g id=\"edge10\" class=\"edge\">\n<title>139819709965840&#45;&gt;139819709965168tanh</title>\n<path fill=\"none\" stroke=\"black\" d=\"M1962.14,-127.5C1971.37,-127.5 1980.07,-127.5 1987.86,-127.5\"/>\n<polygon fill=\"black\" stroke=\"black\" points=\"1987.89,-131 1997.89,-127.5 1987.89,-124 1987.89,-131\"/>\n</g>\n<!-- 139819709965840+ -->\n<g id=\"node2\" class=\"node\">\n<title>139819709965840+</title>\n<ellipse fill=\"none\" stroke=\"black\" cx=\"1603\" cy=\"-127.5\" rx=\"27\" ry=\"18\"/>\n<text text-anchor=\"middle\" x=\"1603\" y=\"-123.8\" font-family=\"Times,serif\" font-size=\"14.00\">+</text>\n</g>\n<!-- 139819709965840+&#45;&gt;139819709965840 -->\n<g id=\"edge1\" class=\"edge\">\n<title>139819709965840+&#45;&gt;139819709965840</title>\n<path fill=\"none\" stroke=\"black\" d=\"M1630.05,-127.5C1637.52,-127.5 1646.25,-127.5 1655.78,-127.5\"/>\n<polygon fill=\"black\" stroke=\"black\" points=\"1655.97,-131 1665.97,-127.5 1655.97,-124 1655.97,-131\"/>\n</g>\n<!-- 139819709965888 -->\n<g id=\"node3\" class=\"node\">\n<title>139819709965888</title>\n<polygon fill=\"none\" stroke=\"black\" points=\"0,-83.5 0,-119.5 291,-119.5 291,-83.5 0,-83.5\"/>\n<text text-anchor=\"middle\" x=\"58\" y=\"-97.8\" font-family=\"Times,serif\" font-size=\"14.00\">noob_neuron : w0</text>\n<polyline fill=\"none\" stroke=\"black\" points=\"116,-83.5 116,-119.5 \"/>\n<text text-anchor=\"middle\" x=\"160.5\" y=\"-97.8\" font-family=\"Times,serif\" font-size=\"14.00\">data: &#45;0.2342</text>\n<polyline fill=\"none\" stroke=\"black\" points=\"205,-83.5 205,-119.5 \"/>\n<text text-anchor=\"middle\" x=\"248\" y=\"-97.8\" font-family=\"Times,serif\" font-size=\"14.00\">grad: 0.0178</text>\n</g>\n<!-- 139819709966416* -->\n<g id=\"node5\" class=\"node\">\n<title>139819709966416*</title>\n<ellipse fill=\"none\" stroke=\"black\" cx=\"354\" cy=\"-73.5\" rx=\"27\" ry=\"18\"/>\n<text text-anchor=\"middle\" x=\"354\" y=\"-69.8\" font-family=\"Times,serif\" font-size=\"14.00\">*</text>\n</g>\n<!-- 139819709965888&#45;&gt;139819709966416* -->\n<g id=\"edge9\" class=\"edge\">\n<title>139819709965888&#45;&gt;139819709966416*</title>\n<path fill=\"none\" stroke=\"black\" d=\"M279.32,-83.49C293.09,-81.62 306.09,-79.86 317.22,-78.35\"/>\n<polygon fill=\"black\" stroke=\"black\" points=\"317.85,-81.8 327.29,-76.99 316.91,-74.86 317.85,-81.8\"/>\n</g>\n<!-- 139819709966416 -->\n<g id=\"node4\" class=\"node\">\n<title>139819709966416</title>\n<polygon fill=\"none\" stroke=\"black\" points=\"417,-55.5 417,-91.5 717,-91.5 717,-55.5 417,-55.5\"/>\n<text text-anchor=\"middle\" x=\"479.5\" y=\"-69.8\" font-family=\"Times,serif\" font-size=\"14.00\">noob_neuron : den0</text>\n<polyline fill=\"none\" stroke=\"black\" points=\"542,-55.5 542,-91.5 \"/>\n<text text-anchor=\"middle\" x=\"586.5\" y=\"-69.8\" font-family=\"Times,serif\" font-size=\"14.00\">data: &#45;0.4683</text>\n<polyline fill=\"none\" stroke=\"black\" points=\"631,-55.5 631,-91.5 \"/>\n<text text-anchor=\"middle\" x=\"674\" y=\"-69.8\" font-family=\"Times,serif\" font-size=\"14.00\">grad: 0.0089</text>\n</g>\n<!-- 139819709966656+ -->\n<g id=\"node14\" class=\"node\">\n<title>139819709966656+</title>\n<ellipse fill=\"none\" stroke=\"black\" cx=\"780\" cy=\"-73.5\" rx=\"27\" ry=\"18\"/>\n<text text-anchor=\"middle\" x=\"780\" y=\"-69.8\" font-family=\"Times,serif\" font-size=\"14.00\">+</text>\n</g>\n<!-- 139819709966416&#45;&gt;139819709966656+ -->\n<g id=\"edge13\" class=\"edge\">\n<title>139819709966416&#45;&gt;139819709966656+</title>\n<path fill=\"none\" stroke=\"black\" d=\"M717.12,-73.5C726.37,-73.5 735.07,-73.5 742.87,-73.5\"/>\n<polygon fill=\"black\" stroke=\"black\" points=\"742.9,-77 752.9,-73.5 742.9,-70 742.9,-77\"/>\n</g>\n<!-- 139819709966416*&#45;&gt;139819709966416 -->\n<g id=\"edge2\" class=\"edge\">\n<title>139819709966416*&#45;&gt;139819709966416</title>\n<path fill=\"none\" stroke=\"black\" d=\"M381.3,-73.5C388.68,-73.5 397.27,-73.5 406.65,-73.5\"/>\n<polygon fill=\"black\" stroke=\"black\" points=\"406.67,-77 416.67,-73.5 406.67,-70 406.67,-77\"/>\n</g>\n<!-- 139819709967472 -->\n<g id=\"node6\" class=\"node\">\n<title>139819709967472</title>\n<polygon fill=\"none\" stroke=\"black\" points=\"421,-0.5 421,-36.5 713,-36.5 713,-0.5 421,-0.5\"/>\n<text text-anchor=\"middle\" x=\"482\" y=\"-14.8\" font-family=\"Times,serif\" font-size=\"14.00\">noob_neuron : sum</text>\n<polyline fill=\"none\" stroke=\"black\" points=\"543,-0.5 543,-36.5 \"/>\n<text text-anchor=\"middle\" x=\"585\" y=\"-14.8\" font-family=\"Times,serif\" font-size=\"14.00\">data: 0.0000</text>\n<polyline fill=\"none\" stroke=\"black\" points=\"627,-0.5 627,-36.5 \"/>\n<text text-anchor=\"middle\" x=\"670\" y=\"-14.8\" font-family=\"Times,serif\" font-size=\"14.00\">grad: 0.0089</text>\n</g>\n<!-- 139819709967472&#45;&gt;139819709966656+ -->\n<g id=\"edge14\" class=\"edge\">\n<title>139819709967472&#45;&gt;139819709966656+</title>\n<path fill=\"none\" stroke=\"black\" d=\"M683.78,-36.59C695.1,-39.22 706.33,-42.18 717,-45.5 727.77,-48.85 739.13,-53.6 749.14,-58.23\"/>\n<polygon fill=\"black\" stroke=\"black\" points=\"747.73,-61.44 758.27,-62.59 750.75,-55.12 747.73,-61.44\"/>\n</g>\n<!-- 139819709967040 -->\n<g id=\"node7\" class=\"node\">\n<title>139819709967040</title>\n<polygon fill=\"none\" stroke=\"black\" points=\"2,-28.5 2,-64.5 289,-64.5 289,-28.5 2,-28.5\"/>\n<text text-anchor=\"middle\" x=\"58.5\" y=\"-42.8\" font-family=\"Times,serif\" font-size=\"14.00\">noob_neuron : x0</text>\n<polyline fill=\"none\" stroke=\"black\" points=\"115,-28.5 115,-64.5 \"/>\n<text text-anchor=\"middle\" x=\"157\" y=\"-42.8\" font-family=\"Times,serif\" font-size=\"14.00\">data: 2.0000</text>\n<polyline fill=\"none\" stroke=\"black\" points=\"199,-28.5 199,-64.5 \"/>\n<text text-anchor=\"middle\" x=\"244\" y=\"-42.8\" font-family=\"Times,serif\" font-size=\"14.00\">grad: &#45;0.0021</text>\n</g>\n<!-- 139819709967040&#45;&gt;139819709966416* -->\n<g id=\"edge15\" class=\"edge\">\n<title>139819709967040&#45;&gt;139819709966416*</title>\n<path fill=\"none\" stroke=\"black\" d=\"M284.24,-64.51C296.19,-66.07 307.45,-67.54 317.26,-68.83\"/>\n<polygon fill=\"black\" stroke=\"black\" points=\"316.93,-72.31 327.3,-70.14 317.83,-65.37 316.93,-72.31\"/>\n</g>\n<!-- 139819709967568 -->\n<g id=\"node8\" class=\"node\">\n<title>139819709967568</title>\n<polygon fill=\"none\" stroke=\"black\" points=\"424,-165.5 424,-201.5 710,-201.5 710,-165.5 424,-165.5\"/>\n<text text-anchor=\"middle\" x=\"482\" y=\"-179.8\" font-family=\"Times,serif\" font-size=\"14.00\">noob_neuron : w1</text>\n<polyline fill=\"none\" stroke=\"black\" points=\"540,-165.5 540,-201.5 \"/>\n<text text-anchor=\"middle\" x=\"582\" y=\"-179.8\" font-family=\"Times,serif\" font-size=\"14.00\">data: 0.9437</text>\n<polyline fill=\"none\" stroke=\"black\" points=\"624,-165.5 624,-201.5 \"/>\n<text text-anchor=\"middle\" x=\"667\" y=\"-179.8\" font-family=\"Times,serif\" font-size=\"14.00\">grad: 0.0268</text>\n</g>\n<!-- 139819709966080* -->\n<g id=\"node10\" class=\"node\">\n<title>139819709966080*</title>\n<ellipse fill=\"none\" stroke=\"black\" cx=\"780\" cy=\"-128.5\" rx=\"27\" ry=\"18\"/>\n<text text-anchor=\"middle\" x=\"780\" y=\"-124.8\" font-family=\"Times,serif\" font-size=\"14.00\">*</text>\n</g>\n<!-- 139819709967568&#45;&gt;139819709966080* -->\n<g id=\"edge11\" class=\"edge\">\n<title>139819709967568&#45;&gt;139819709966080*</title>\n<path fill=\"none\" stroke=\"black\" d=\"M683.78,-165.41C695.1,-162.78 706.33,-159.82 717,-156.5 727.77,-153.15 739.13,-148.4 749.14,-143.77\"/>\n<polygon fill=\"black\" stroke=\"black\" points=\"750.75,-146.88 758.27,-139.41 747.73,-140.56 750.75,-146.88\"/>\n</g>\n<!-- 139819709966080 -->\n<g id=\"node9\" class=\"node\">\n<title>139819709966080</title>\n<polygon fill=\"none\" stroke=\"black\" points=\"843,-110.5 843,-146.5 1138,-146.5 1138,-110.5 843,-110.5\"/>\n<text text-anchor=\"middle\" x=\"905.5\" y=\"-124.8\" font-family=\"Times,serif\" font-size=\"14.00\">noob_neuron : den1</text>\n<polyline fill=\"none\" stroke=\"black\" points=\"968,-110.5 968,-146.5 \"/>\n<text text-anchor=\"middle\" x=\"1010\" y=\"-124.8\" font-family=\"Times,serif\" font-size=\"14.00\">data: 2.8312</text>\n<polyline fill=\"none\" stroke=\"black\" points=\"1052,-110.5 1052,-146.5 \"/>\n<text text-anchor=\"middle\" x=\"1095\" y=\"-124.8\" font-family=\"Times,serif\" font-size=\"14.00\">grad: 0.0089</text>\n</g>\n<!-- 139819709966272+ -->\n<g id=\"node18\" class=\"node\">\n<title>139819709966272+</title>\n<ellipse fill=\"none\" stroke=\"black\" cx=\"1201\" cy=\"-100.5\" rx=\"27\" ry=\"18\"/>\n<text text-anchor=\"middle\" x=\"1201\" y=\"-96.8\" font-family=\"Times,serif\" font-size=\"14.00\">+</text>\n</g>\n<!-- 139819709966080&#45;&gt;139819709966272+ -->\n<g id=\"edge8\" class=\"edge\">\n<title>139819709966080&#45;&gt;139819709966272+</title>\n<path fill=\"none\" stroke=\"black\" d=\"M1125.61,-110.49C1139.63,-108.61 1152.86,-106.83 1164.17,-105.31\"/>\n<polygon fill=\"black\" stroke=\"black\" points=\"1164.94,-108.74 1174.38,-103.94 1164.01,-101.8 1164.94,-108.74\"/>\n</g>\n<!-- 139819709966080*&#45;&gt;139819709966080 -->\n<g id=\"edge3\" class=\"edge\">\n<title>139819709966080*&#45;&gt;139819709966080</title>\n<path fill=\"none\" stroke=\"black\" d=\"M807.41,-128.5C814.81,-128.5 823.42,-128.5 832.81,-128.5\"/>\n<polygon fill=\"black\" stroke=\"black\" points=\"832.84,-132 842.84,-128.5 832.84,-125 832.84,-132\"/>\n</g>\n<!-- 139819709966608 -->\n<g id=\"node11\" class=\"node\">\n<title>139819709966608</title>\n<polygon fill=\"none\" stroke=\"black\" points=\"425.5,-110.5 425.5,-146.5 708.5,-146.5 708.5,-110.5 425.5,-110.5\"/>\n<text text-anchor=\"middle\" x=\"482\" y=\"-124.8\" font-family=\"Times,serif\" font-size=\"14.00\">noob_neuron : x1</text>\n<polyline fill=\"none\" stroke=\"black\" points=\"538.5,-110.5 538.5,-146.5 \"/>\n<text text-anchor=\"middle\" x=\"580.5\" y=\"-124.8\" font-family=\"Times,serif\" font-size=\"14.00\">data: 3.0000</text>\n<polyline fill=\"none\" stroke=\"black\" points=\"622.5,-110.5 622.5,-146.5 \"/>\n<text text-anchor=\"middle\" x=\"665.5\" y=\"-124.8\" font-family=\"Times,serif\" font-size=\"14.00\">grad: 0.0084</text>\n</g>\n<!-- 139819709966608&#45;&gt;139819709966080* -->\n<g id=\"edge16\" class=\"edge\">\n<title>139819709966608&#45;&gt;139819709966080*</title>\n<path fill=\"none\" stroke=\"black\" d=\"M708.74,-128.5C720.95,-128.5 732.45,-128.5 742.48,-128.5\"/>\n<polygon fill=\"black\" stroke=\"black\" points=\"742.74,-132 752.74,-128.5 742.74,-125 742.74,-132\"/>\n</g>\n<!-- 139819709967664 -->\n<g id=\"node12\" class=\"node\">\n<title>139819709967664</title>\n<polygon fill=\"none\" stroke=\"black\" points=\"1264,-137.5 1264,-173.5 1540,-173.5 1540,-137.5 1264,-137.5\"/>\n<text text-anchor=\"middle\" x=\"1317\" y=\"-151.8\" font-family=\"Times,serif\" font-size=\"14.00\">noob_neuron : b</text>\n<polyline fill=\"none\" stroke=\"black\" points=\"1370,-137.5 1370,-173.5 \"/>\n<text text-anchor=\"middle\" x=\"1412\" y=\"-151.8\" font-family=\"Times,serif\" font-size=\"14.00\">data: 0.6876</text>\n<polyline fill=\"none\" stroke=\"black\" points=\"1454,-137.5 1454,-173.5 \"/>\n<text text-anchor=\"middle\" x=\"1497\" y=\"-151.8\" font-family=\"Times,serif\" font-size=\"14.00\">grad: 0.0089</text>\n</g>\n<!-- 139819709967664&#45;&gt;139819709965840+ -->\n<g id=\"edge7\" class=\"edge\">\n<title>139819709967664&#45;&gt;139819709965840+</title>\n<path fill=\"none\" stroke=\"black\" d=\"M1531,-137.49C1543.65,-135.71 1555.64,-134.02 1566.03,-132.56\"/>\n<polygon fill=\"black\" stroke=\"black\" points=\"1566.83,-135.98 1576.25,-131.12 1565.86,-129.05 1566.83,-135.98\"/>\n</g>\n<!-- 139819709966656 -->\n<g id=\"node13\" class=\"node\">\n<title>139819709966656</title>\n<polygon fill=\"none\" stroke=\"black\" points=\"893,-55.5 893,-91.5 1088,-91.5 1088,-55.5 893,-55.5\"/>\n<text text-anchor=\"middle\" x=\"903\" y=\"-69.8\" font-family=\"Times,serif\" font-size=\"14.00\"> </text>\n<polyline fill=\"none\" stroke=\"black\" points=\"913,-55.5 913,-91.5 \"/>\n<text text-anchor=\"middle\" x=\"957.5\" y=\"-69.8\" font-family=\"Times,serif\" font-size=\"14.00\">data: &#45;0.4683</text>\n<polyline fill=\"none\" stroke=\"black\" points=\"1002,-55.5 1002,-91.5 \"/>\n<text text-anchor=\"middle\" x=\"1045\" y=\"-69.8\" font-family=\"Times,serif\" font-size=\"14.00\">grad: 0.0089</text>\n</g>\n<!-- 139819709966656&#45;&gt;139819709966272+ -->\n<g id=\"edge17\" class=\"edge\">\n<title>139819709966656&#45;&gt;139819709966272+</title>\n<path fill=\"none\" stroke=\"black\" d=\"M1088.12,-86.01C1115.28,-89.53 1143.13,-93.14 1164.25,-95.87\"/>\n<polygon fill=\"black\" stroke=\"black\" points=\"1163.97,-99.36 1174.34,-97.18 1164.87,-92.42 1163.97,-99.36\"/>\n</g>\n<!-- 139819709966656+&#45;&gt;139819709966656 -->\n<g id=\"edge4\" class=\"edge\">\n<title>139819709966656+&#45;&gt;139819709966656</title>\n<path fill=\"none\" stroke=\"black\" d=\"M807.41,-73.5C826.83,-73.5 854.62,-73.5 882.67,-73.5\"/>\n<polygon fill=\"black\" stroke=\"black\" points=\"883,-77 893,-73.5 883,-70 883,-77\"/>\n</g>\n<!-- 139819709965168 -->\n<g id=\"node15\" class=\"node\">\n<title>139819709965168</title>\n<polygon fill=\"none\" stroke=\"black\" points=\"2088,-109.5 2088,-145.5 2374,-145.5 2374,-109.5 2088,-109.5\"/>\n<text text-anchor=\"middle\" x=\"2146\" y=\"-123.8\" font-family=\"Times,serif\" font-size=\"14.00\">noob_neuron : out</text>\n<polyline fill=\"none\" stroke=\"black\" points=\"2204,-109.5 2204,-145.5 \"/>\n<text text-anchor=\"middle\" x=\"2246\" y=\"-123.8\" font-family=\"Times,serif\" font-size=\"14.00\">data: 0.9955</text>\n<polyline fill=\"none\" stroke=\"black\" points=\"2288,-109.5 2288,-145.5 \"/>\n<text text-anchor=\"middle\" x=\"2331\" y=\"-123.8\" font-family=\"Times,serif\" font-size=\"14.00\">grad: 1.0000</text>\n</g>\n<!-- 139819709965168tanh&#45;&gt;139819709965168 -->\n<g id=\"edge5\" class=\"edge\">\n<title>139819709965168tanh&#45;&gt;139819709965168</title>\n<path fill=\"none\" stroke=\"black\" d=\"M2052.25,-127.5C2059.68,-127.5 2068.33,-127.5 2077.75,-127.5\"/>\n<polygon fill=\"black\" stroke=\"black\" points=\"2077.82,-131 2087.82,-127.5 2077.82,-124 2077.82,-131\"/>\n</g>\n<!-- 139819709966272 -->\n<g id=\"node17\" class=\"node\">\n<title>139819709966272</title>\n<polygon fill=\"none\" stroke=\"black\" points=\"1307,-82.5 1307,-118.5 1497,-118.5 1497,-82.5 1307,-82.5\"/>\n<text text-anchor=\"middle\" x=\"1317\" y=\"-96.8\" font-family=\"Times,serif\" font-size=\"14.00\"> </text>\n<polyline fill=\"none\" stroke=\"black\" points=\"1327,-82.5 1327,-118.5 \"/>\n<text text-anchor=\"middle\" x=\"1369\" y=\"-96.8\" font-family=\"Times,serif\" font-size=\"14.00\">data: 2.3629</text>\n<polyline fill=\"none\" stroke=\"black\" points=\"1411,-82.5 1411,-118.5 \"/>\n<text text-anchor=\"middle\" x=\"1454\" y=\"-96.8\" font-family=\"Times,serif\" font-size=\"14.00\">grad: 0.0089</text>\n</g>\n<!-- 139819709966272&#45;&gt;139819709965840+ -->\n<g id=\"edge12\" class=\"edge\">\n<title>139819709966272&#45;&gt;139819709965840+</title>\n<path fill=\"none\" stroke=\"black\" d=\"M1497.26,-113.29C1521.84,-116.62 1546.85,-120.02 1566.26,-122.65\"/>\n<polygon fill=\"black\" stroke=\"black\" points=\"1566.05,-126.15 1576.43,-124.03 1566.99,-119.22 1566.05,-126.15\"/>\n</g>\n<!-- 139819709966272+&#45;&gt;139819709966272 -->\n<g id=\"edge6\" class=\"edge\">\n<title>139819709966272+&#45;&gt;139819709966272</title>\n<path fill=\"none\" stroke=\"black\" d=\"M1228.02,-100.5C1245.97,-100.5 1271.13,-100.5 1296.71,-100.5\"/>\n<polygon fill=\"black\" stroke=\"black\" points=\"1296.9,-104 1306.9,-100.5 1296.9,-97 1296.9,-104\"/>\n</g>\n</g>\n</svg>\n",
            "text/plain": [
              "<graphviz.graphs.Digraph at 0x7f2a50252df0>"
            ]
          },
          "metadata": {},
          "execution_count": 9
        }
      ]
    },
    {
      "cell_type": "code",
      "source": [],
      "metadata": {
        "id": "0nZK3nfl0KIB"
      },
      "execution_count": 9,
      "outputs": []
    },
    {
      "cell_type": "code",
      "source": [
        "# and... here goes much more efficient and optimized implementation"
      ],
      "metadata": {
        "id": "1TgEwuLj0KY8"
      },
      "execution_count": 10,
      "outputs": []
    },
    {
      "cell_type": "code",
      "source": [
        "# original micrograd Neuron that is similar to PyTorch API\n",
        "\n",
        "class Neuron:\n",
        "\n",
        "    def __init__(self, nin) -> None:\n",
        "        self.w = [Value(random.uniform(-1,1)) for _ in range(nin)]\n",
        "        self.b = Value(random.uniform(-1,1))\n",
        "\n",
        "    def __call__(self, x):\n",
        "        # out = f( sum(weights.input_xs + bias) )\n",
        "        body = sum((wi * xi for wi, xi in zip(self.w, x)), self.b)\n",
        "        out = body.tanh()\n",
        "        return out"
      ],
      "metadata": {
        "id": "1mp4W-p3WdfP"
      },
      "execution_count": 11,
      "outputs": []
    },
    {
      "cell_type": "code",
      "source": [
        "x = [2.0, 3.0]\n",
        "n = Neuron(2)\n",
        "n = n(x)\n",
        "n.backward()\n",
        "draw_dot(n)"
      ],
      "metadata": {
        "colab": {
          "base_uri": "https://localhost:8080/",
          "height": 359
        },
        "id": "-70wA6ryYlwJ",
        "outputId": "3ab1c4b3-6932-47cf-ebbc-69c451a48ef0"
      },
      "execution_count": 12,
      "outputs": [
        {
          "output_type": "execute_result",
          "data": {
            "image/svg+xml": "<?xml version=\"1.0\" encoding=\"UTF-8\" standalone=\"no\"?>\n<!DOCTYPE svg PUBLIC \"-//W3C//DTD SVG 1.1//EN\"\n \"http://www.w3.org/Graphics/SVG/1.1/DTD/svg11.dtd\">\n<!-- Generated by graphviz version 2.43.0 (0)\n -->\n<!-- Title: %3 Pages: 1 -->\n<svg width=\"1487pt\" height=\"238pt\"\n viewBox=\"0.00 0.00 1487.00 238.00\" xmlns=\"http://www.w3.org/2000/svg\" xmlns:xlink=\"http://www.w3.org/1999/xlink\">\n<g id=\"graph0\" class=\"graph\" transform=\"scale(1 1) rotate(0) translate(4 234)\">\n<title>%3</title>\n<polygon fill=\"white\" stroke=\"transparent\" points=\"-4,4 -4,-234 1483,-234 1483,4 -4,4\"/>\n<!-- 139819709935136 -->\n<g id=\"node1\" class=\"node\">\n<title>139819709935136</title>\n<polygon fill=\"none\" stroke=\"black\" points=\"0.5,-193.5 0.5,-229.5 194.5,-229.5 194.5,-193.5 0.5,-193.5\"/>\n<text text-anchor=\"middle\" x=\"10.5\" y=\"-207.8\" font-family=\"Times,serif\" font-size=\"14.00\"> </text>\n<polyline fill=\"none\" stroke=\"black\" points=\"20.5,-193.5 20.5,-229.5 \"/>\n<text text-anchor=\"middle\" x=\"62.5\" y=\"-207.8\" font-family=\"Times,serif\" font-size=\"14.00\">data: 2.0000</text>\n<polyline fill=\"none\" stroke=\"black\" points=\"104.5,-193.5 104.5,-229.5 \"/>\n<text text-anchor=\"middle\" x=\"149.5\" y=\"-207.8\" font-family=\"Times,serif\" font-size=\"14.00\">grad: &#45;0.2507</text>\n</g>\n<!-- 139819709935328* -->\n<g id=\"node8\" class=\"node\">\n<title>139819709935328*</title>\n<ellipse fill=\"none\" stroke=\"black\" cx=\"258\" cy=\"-183.5\" rx=\"27\" ry=\"18\"/>\n<text text-anchor=\"middle\" x=\"258\" y=\"-179.8\" font-family=\"Times,serif\" font-size=\"14.00\">*</text>\n</g>\n<!-- 139819709935136&#45;&gt;139819709935328* -->\n<g id=\"edge14\" class=\"edge\">\n<title>139819709935136&#45;&gt;139819709935328*</title>\n<path fill=\"none\" stroke=\"black\" d=\"M194.81,-194.49C204.38,-192.8 213.61,-191.17 221.89,-189.7\"/>\n<polygon fill=\"black\" stroke=\"black\" points=\"222.59,-193.13 231.82,-187.95 221.37,-186.24 222.59,-193.13\"/>\n</g>\n<!-- 139819709932592 -->\n<g id=\"node2\" class=\"node\">\n<title>139819709932592</title>\n<polygon fill=\"none\" stroke=\"black\" points=\"642,-110.5 642,-146.5 837,-146.5 837,-110.5 642,-110.5\"/>\n<text text-anchor=\"middle\" x=\"652\" y=\"-124.8\" font-family=\"Times,serif\" font-size=\"14.00\"> </text>\n<polyline fill=\"none\" stroke=\"black\" points=\"662,-110.5 662,-146.5 \"/>\n<text text-anchor=\"middle\" x=\"706.5\" y=\"-124.8\" font-family=\"Times,serif\" font-size=\"14.00\">data: &#45;1.0444</text>\n<polyline fill=\"none\" stroke=\"black\" points=\"751,-110.5 751,-146.5 \"/>\n<text text-anchor=\"middle\" x=\"794\" y=\"-124.8\" font-family=\"Times,serif\" font-size=\"14.00\">grad: 0.6976</text>\n</g>\n<!-- 139819737304656+ -->\n<g id=\"node5\" class=\"node\">\n<title>139819737304656+</title>\n<ellipse fill=\"none\" stroke=\"black\" cx=\"900\" cy=\"-100.5\" rx=\"27\" ry=\"18\"/>\n<text text-anchor=\"middle\" x=\"900\" y=\"-96.8\" font-family=\"Times,serif\" font-size=\"14.00\">+</text>\n</g>\n<!-- 139819709932592&#45;&gt;139819737304656+ -->\n<g id=\"edge6\" class=\"edge\">\n<title>139819709932592&#45;&gt;139819737304656+</title>\n<path fill=\"none\" stroke=\"black\" d=\"M837.27,-111.41C846.59,-109.76 855.57,-108.17 863.66,-106.74\"/>\n<polygon fill=\"black\" stroke=\"black\" points=\"864.49,-110.15 873.73,-104.96 863.28,-103.26 864.49,-110.15\"/>\n</g>\n<!-- 139819709932592+ -->\n<g id=\"node3\" class=\"node\">\n<title>139819709932592+</title>\n<ellipse fill=\"none\" stroke=\"black\" cx=\"579\" cy=\"-128.5\" rx=\"27\" ry=\"18\"/>\n<text text-anchor=\"middle\" x=\"579\" y=\"-124.8\" font-family=\"Times,serif\" font-size=\"14.00\">+</text>\n</g>\n<!-- 139819709932592+&#45;&gt;139819709932592 -->\n<g id=\"edge1\" class=\"edge\">\n<title>139819709932592+&#45;&gt;139819709932592</title>\n<path fill=\"none\" stroke=\"black\" d=\"M606.17,-128.5C613.66,-128.5 622.32,-128.5 631.56,-128.5\"/>\n<polygon fill=\"black\" stroke=\"black\" points=\"631.78,-132 641.78,-128.5 631.78,-125 631.78,-132\"/>\n</g>\n<!-- 139819737304656 -->\n<g id=\"node4\" class=\"node\">\n<title>139819737304656</title>\n<polygon fill=\"none\" stroke=\"black\" points=\"963,-82.5 963,-118.5 1158,-118.5 1158,-82.5 963,-82.5\"/>\n<text text-anchor=\"middle\" x=\"973\" y=\"-96.8\" font-family=\"Times,serif\" font-size=\"14.00\"> </text>\n<polyline fill=\"none\" stroke=\"black\" points=\"983,-82.5 983,-118.5 \"/>\n<text text-anchor=\"middle\" x=\"1027.5\" y=\"-96.8\" font-family=\"Times,serif\" font-size=\"14.00\">data: &#45;0.6183</text>\n<polyline fill=\"none\" stroke=\"black\" points=\"1072,-82.5 1072,-118.5 \"/>\n<text text-anchor=\"middle\" x=\"1115\" y=\"-96.8\" font-family=\"Times,serif\" font-size=\"14.00\">grad: 0.6976</text>\n</g>\n<!-- 139819737304512tanh -->\n<g id=\"node10\" class=\"node\">\n<title>139819737304512tanh</title>\n<ellipse fill=\"none\" stroke=\"black\" cx=\"1221\" cy=\"-100.5\" rx=\"27\" ry=\"18\"/>\n<text text-anchor=\"middle\" x=\"1221\" y=\"-96.8\" font-family=\"Times,serif\" font-size=\"14.00\">tanh</text>\n</g>\n<!-- 139819737304656&#45;&gt;139819737304512tanh -->\n<g id=\"edge9\" class=\"edge\">\n<title>139819737304656&#45;&gt;139819737304512tanh</title>\n<path fill=\"none\" stroke=\"black\" d=\"M1158.27,-100.5C1167.22,-100.5 1175.85,-100.5 1183.69,-100.5\"/>\n<polygon fill=\"black\" stroke=\"black\" points=\"1183.83,-104 1193.83,-100.5 1183.83,-97 1183.83,-104\"/>\n</g>\n<!-- 139819737304656+&#45;&gt;139819737304656 -->\n<g id=\"edge2\" class=\"edge\">\n<title>139819737304656+&#45;&gt;139819737304656</title>\n<path fill=\"none\" stroke=\"black\" d=\"M927.17,-100.5C934.66,-100.5 943.32,-100.5 952.56,-100.5\"/>\n<polygon fill=\"black\" stroke=\"black\" points=\"952.78,-104 962.78,-100.5 952.78,-97 952.78,-104\"/>\n</g>\n<!-- 139819709934176 -->\n<g id=\"node6\" class=\"node\">\n<title>139819709934176</title>\n<polygon fill=\"none\" stroke=\"black\" points=\"321,-110.5 321,-146.5 516,-146.5 516,-110.5 321,-110.5\"/>\n<text text-anchor=\"middle\" x=\"331\" y=\"-124.8\" font-family=\"Times,serif\" font-size=\"14.00\"> </text>\n<polyline fill=\"none\" stroke=\"black\" points=\"341,-110.5 341,-146.5 \"/>\n<text text-anchor=\"middle\" x=\"385.5\" y=\"-124.8\" font-family=\"Times,serif\" font-size=\"14.00\">data: &#45;0.3255</text>\n<polyline fill=\"none\" stroke=\"black\" points=\"430,-110.5 430,-146.5 \"/>\n<text text-anchor=\"middle\" x=\"473\" y=\"-124.8\" font-family=\"Times,serif\" font-size=\"14.00\">grad: 0.6976</text>\n</g>\n<!-- 139819709934176&#45;&gt;139819709932592+ -->\n<g id=\"edge8\" class=\"edge\">\n<title>139819709934176&#45;&gt;139819709932592+</title>\n<path fill=\"none\" stroke=\"black\" d=\"M516.27,-128.5C525.22,-128.5 533.85,-128.5 541.69,-128.5\"/>\n<polygon fill=\"black\" stroke=\"black\" points=\"541.83,-132 551.83,-128.5 541.83,-125 541.83,-132\"/>\n</g>\n<!-- 139819709935328 -->\n<g id=\"node7\" class=\"node\">\n<title>139819709935328</title>\n<polygon fill=\"none\" stroke=\"black\" points=\"321,-165.5 321,-201.5 516,-201.5 516,-165.5 321,-165.5\"/>\n<text text-anchor=\"middle\" x=\"331\" y=\"-179.8\" font-family=\"Times,serif\" font-size=\"14.00\"> </text>\n<polyline fill=\"none\" stroke=\"black\" points=\"341,-165.5 341,-201.5 \"/>\n<text text-anchor=\"middle\" x=\"385.5\" y=\"-179.8\" font-family=\"Times,serif\" font-size=\"14.00\">data: &#45;0.7189</text>\n<polyline fill=\"none\" stroke=\"black\" points=\"430,-165.5 430,-201.5 \"/>\n<text text-anchor=\"middle\" x=\"473\" y=\"-179.8\" font-family=\"Times,serif\" font-size=\"14.00\">grad: 0.6976</text>\n</g>\n<!-- 139819709935328&#45;&gt;139819709932592+ -->\n<g id=\"edge13\" class=\"edge\">\n<title>139819709935328&#45;&gt;139819709932592+</title>\n<path fill=\"none\" stroke=\"black\" d=\"M488.96,-165.43C498.12,-162.65 507.33,-159.65 516,-156.5 526.52,-152.68 537.74,-147.85 547.7,-143.29\"/>\n<polygon fill=\"black\" stroke=\"black\" points=\"549.23,-146.44 556.81,-139.03 546.27,-140.09 549.23,-146.44\"/>\n</g>\n<!-- 139819709935328*&#45;&gt;139819709935328 -->\n<g id=\"edge3\" class=\"edge\">\n<title>139819709935328*&#45;&gt;139819709935328</title>\n<path fill=\"none\" stroke=\"black\" d=\"M285.17,-183.5C292.66,-183.5 301.32,-183.5 310.56,-183.5\"/>\n<polygon fill=\"black\" stroke=\"black\" points=\"310.78,-187 320.78,-183.5 310.78,-180 310.78,-187\"/>\n</g>\n<!-- 139819737304512 -->\n<g id=\"node9\" class=\"node\">\n<title>139819737304512</title>\n<polygon fill=\"none\" stroke=\"black\" points=\"1284,-82.5 1284,-118.5 1479,-118.5 1479,-82.5 1284,-82.5\"/>\n<text text-anchor=\"middle\" x=\"1294\" y=\"-96.8\" font-family=\"Times,serif\" font-size=\"14.00\"> </text>\n<polyline fill=\"none\" stroke=\"black\" points=\"1304,-82.5 1304,-118.5 \"/>\n<text text-anchor=\"middle\" x=\"1348.5\" y=\"-96.8\" font-family=\"Times,serif\" font-size=\"14.00\">data: &#45;0.5499</text>\n<polyline fill=\"none\" stroke=\"black\" points=\"1393,-82.5 1393,-118.5 \"/>\n<text text-anchor=\"middle\" x=\"1436\" y=\"-96.8\" font-family=\"Times,serif\" font-size=\"14.00\">grad: 1.0000</text>\n</g>\n<!-- 139819737304512tanh&#45;&gt;139819737304512 -->\n<g id=\"edge4\" class=\"edge\">\n<title>139819737304512tanh&#45;&gt;139819737304512</title>\n<path fill=\"none\" stroke=\"black\" d=\"M1248.17,-100.5C1255.66,-100.5 1264.32,-100.5 1273.56,-100.5\"/>\n<polygon fill=\"black\" stroke=\"black\" points=\"1273.78,-104 1283.78,-100.5 1273.78,-97 1273.78,-104\"/>\n</g>\n<!-- 139819709932400 -->\n<g id=\"node11\" class=\"node\">\n<title>139819709932400</title>\n<polygon fill=\"none\" stroke=\"black\" points=\"0,-138.5 0,-174.5 195,-174.5 195,-138.5 0,-138.5\"/>\n<text text-anchor=\"middle\" x=\"10\" y=\"-152.8\" font-family=\"Times,serif\" font-size=\"14.00\"> </text>\n<polyline fill=\"none\" stroke=\"black\" points=\"20,-138.5 20,-174.5 \"/>\n<text text-anchor=\"middle\" x=\"64.5\" y=\"-152.8\" font-family=\"Times,serif\" font-size=\"14.00\">data: &#45;0.3594</text>\n<polyline fill=\"none\" stroke=\"black\" points=\"109,-138.5 109,-174.5 \"/>\n<text text-anchor=\"middle\" x=\"152\" y=\"-152.8\" font-family=\"Times,serif\" font-size=\"14.00\">grad: 1.3952</text>\n</g>\n<!-- 139819709932400&#45;&gt;139819709935328* -->\n<g id=\"edge12\" class=\"edge\">\n<title>139819709932400&#45;&gt;139819709935328*</title>\n<path fill=\"none\" stroke=\"black\" d=\"M195.27,-172.98C204.59,-174.57 213.57,-176.1 221.66,-177.48\"/>\n<polygon fill=\"black\" stroke=\"black\" points=\"221.29,-180.97 231.73,-179.2 222.46,-174.07 221.29,-180.97\"/>\n</g>\n<!-- 139819709934464 -->\n<g id=\"node12\" class=\"node\">\n<title>139819709934464</title>\n<polygon fill=\"none\" stroke=\"black\" points=\"323.5,-55.5 323.5,-91.5 513.5,-91.5 513.5,-55.5 323.5,-55.5\"/>\n<text text-anchor=\"middle\" x=\"333.5\" y=\"-69.8\" font-family=\"Times,serif\" font-size=\"14.00\"> </text>\n<polyline fill=\"none\" stroke=\"black\" points=\"343.5,-55.5 343.5,-91.5 \"/>\n<text text-anchor=\"middle\" x=\"385.5\" y=\"-69.8\" font-family=\"Times,serif\" font-size=\"14.00\">data: 3.0000</text>\n<polyline fill=\"none\" stroke=\"black\" points=\"427.5,-55.5 427.5,-91.5 \"/>\n<text text-anchor=\"middle\" x=\"470.5\" y=\"-69.8\" font-family=\"Times,serif\" font-size=\"14.00\">grad: 0.0991</text>\n</g>\n<!-- 139819709934992* -->\n<g id=\"node14\" class=\"node\">\n<title>139819709934992*</title>\n<ellipse fill=\"none\" stroke=\"black\" cx=\"579\" cy=\"-73.5\" rx=\"27\" ry=\"18\"/>\n<text text-anchor=\"middle\" x=\"579\" y=\"-69.8\" font-family=\"Times,serif\" font-size=\"14.00\">*</text>\n</g>\n<!-- 139819709934464&#45;&gt;139819709934992* -->\n<g id=\"edge11\" class=\"edge\">\n<title>139819709934464&#45;&gt;139819709934992*</title>\n<path fill=\"none\" stroke=\"black\" d=\"M513.53,-73.5C523.48,-73.5 533.11,-73.5 541.76,-73.5\"/>\n<polygon fill=\"black\" stroke=\"black\" points=\"541.78,-77 551.78,-73.5 541.78,-70 541.78,-77\"/>\n</g>\n<!-- 139819709934992 -->\n<g id=\"node13\" class=\"node\">\n<title>139819709934992</title>\n<polygon fill=\"none\" stroke=\"black\" points=\"644.5,-55.5 644.5,-91.5 834.5,-91.5 834.5,-55.5 644.5,-55.5\"/>\n<text text-anchor=\"middle\" x=\"654.5\" y=\"-69.8\" font-family=\"Times,serif\" font-size=\"14.00\"> </text>\n<polyline fill=\"none\" stroke=\"black\" points=\"664.5,-55.5 664.5,-91.5 \"/>\n<text text-anchor=\"middle\" x=\"706.5\" y=\"-69.8\" font-family=\"Times,serif\" font-size=\"14.00\">data: 0.4262</text>\n<polyline fill=\"none\" stroke=\"black\" points=\"748.5,-55.5 748.5,-91.5 \"/>\n<text text-anchor=\"middle\" x=\"791.5\" y=\"-69.8\" font-family=\"Times,serif\" font-size=\"14.00\">grad: 0.6976</text>\n</g>\n<!-- 139819709934992&#45;&gt;139819737304656+ -->\n<g id=\"edge7\" class=\"edge\">\n<title>139819709934992&#45;&gt;139819737304656+</title>\n<path fill=\"none\" stroke=\"black\" d=\"M834.53,-89.52C844.88,-91.28 854.88,-92.98 863.79,-94.5\"/>\n<polygon fill=\"black\" stroke=\"black\" points=\"863.26,-97.96 873.71,-96.19 864.44,-91.06 863.26,-97.96\"/>\n</g>\n<!-- 139819709934992*&#45;&gt;139819709934992 -->\n<g id=\"edge5\" class=\"edge\">\n<title>139819709934992*&#45;&gt;139819709934992</title>\n<path fill=\"none\" stroke=\"black\" d=\"M606.17,-73.5C614.44,-73.5 624.12,-73.5 634.43,-73.5\"/>\n<polygon fill=\"black\" stroke=\"black\" points=\"634.48,-77 644.48,-73.5 634.48,-70 634.48,-77\"/>\n</g>\n<!-- 139819709935040 -->\n<g id=\"node15\" class=\"node\">\n<title>139819709935040</title>\n<polygon fill=\"none\" stroke=\"black\" points=\"323.5,-0.5 323.5,-36.5 513.5,-36.5 513.5,-0.5 323.5,-0.5\"/>\n<text text-anchor=\"middle\" x=\"333.5\" y=\"-14.8\" font-family=\"Times,serif\" font-size=\"14.00\"> </text>\n<polyline fill=\"none\" stroke=\"black\" points=\"343.5,-0.5 343.5,-36.5 \"/>\n<text text-anchor=\"middle\" x=\"385.5\" y=\"-14.8\" font-family=\"Times,serif\" font-size=\"14.00\">data: 0.1421</text>\n<polyline fill=\"none\" stroke=\"black\" points=\"427.5,-0.5 427.5,-36.5 \"/>\n<text text-anchor=\"middle\" x=\"470.5\" y=\"-14.8\" font-family=\"Times,serif\" font-size=\"14.00\">grad: 2.0928</text>\n</g>\n<!-- 139819709935040&#45;&gt;139819709934992* -->\n<g id=\"edge10\" class=\"edge\">\n<title>139819709935040&#45;&gt;139819709934992*</title>\n<path fill=\"none\" stroke=\"black\" d=\"M485.79,-36.51C495.98,-39.63 506.32,-43 516,-46.5 526.27,-50.21 537.26,-54.79 547.09,-59.11\"/>\n<polygon fill=\"black\" stroke=\"black\" points=\"545.91,-62.42 556.47,-63.31 548.77,-56.03 545.91,-62.42\"/>\n</g>\n</g>\n</svg>\n",
            "text/plain": [
              "<graphviz.graphs.Digraph at 0x7f2a51c64d90>"
            ]
          },
          "metadata": {},
          "execution_count": 12
        }
      ]
    },
    {
      "cell_type": "code",
      "source": [],
      "metadata": {
        "id": "JI3qUPU8Yo4o"
      },
      "execution_count": 12,
      "outputs": []
    }
  ]
}