{
  "nbformat": 4,
  "nbformat_minor": 0,
  "metadata": {
    "colab": {
      "provenance": [],
      "authorship_tag": "ABX9TyMGSueFRETlLsqTbtwV+1mY"
    },
    "kernelspec": {
      "name": "python3",
      "display_name": "Python 3"
    },
    "language_info": {
      "name": "python"
    }
  },
  "cells": [
    {
      "cell_type": "markdown",
      "source": [
        "# Importing updated micrograd module"
      ],
      "metadata": {
        "id": "hEzeY71x6WDP"
      }
    },
    {
      "cell_type": "code",
      "execution_count": 1,
      "metadata": {
        "colab": {
          "base_uri": "https://localhost:8080/"
        },
        "id": "dKOBEjux20at",
        "outputId": "b275a1da-15ef-4a2e-d9c2-24b09eacf8c7"
      },
      "outputs": [
        {
          "output_type": "stream",
          "name": "stdout",
          "text": [
            "/content/Learning-DeepLearning/Neural Networks - Zero to Hero\n"
          ]
        }
      ],
      "source": [
        "!git clone -b micrograd-nn-karpathy https://github.com/mratanusarkar/Learning-DeepLearning.git &> /dev/null\n",
        "%cd /content/Learning-DeepLearning/Neural\\ Networks\\ -\\ Zero\\ to\\ Hero\n",
        "!python setup.py install &> /dev/null"
      ]
    },
    {
      "cell_type": "code",
      "source": [
        "import math\n",
        "import numpy as np\n",
        "import matplotlib.pyplot as plt\n",
        "%matplotlib inline"
      ],
      "metadata": {
        "id": "YWs19ep1RbIP"
      },
      "execution_count": 2,
      "outputs": []
    },
    {
      "cell_type": "code",
      "source": [
        "import random\n",
        "random.seed(2023)\n",
        "\n",
        "from micrograd.engine import Value\n",
        "from micrograd.nn import NoobMLP\n",
        "from micrograd.visualize import draw_dot"
      ],
      "metadata": {
        "id": "TGl2LRkZ6cYm"
      },
      "execution_count": 3,
      "outputs": []
    },
    {
      "cell_type": "markdown",
      "source": [
        "# Importing code from the previous notebook"
      ],
      "metadata": {
        "id": "nXR6e6tM6ln9"
      }
    },
    {
      "cell_type": "code",
      "source": [
        "# import code from MLP to Loss Function"
      ],
      "metadata": {
        "id": "KlAgJ-5P6k4-"
      },
      "execution_count": 4,
      "outputs": []
    },
    {
      "cell_type": "code",
      "source": [
        "# model\n",
        "n = NoobMLP(3, [4, 4, 1], 'classifier')"
      ],
      "metadata": {
        "id": "5fnex58a6ca-"
      },
      "execution_count": 5,
      "outputs": []
    },
    {
      "cell_type": "code",
      "source": [
        "# data\n",
        "data = [\n",
        "    [2.0, 3.0, -1.0],\n",
        "    [3.0, -1.0, 0.5],\n",
        "    [0.5, 1.0, 1.0],\n",
        "    [1.0, 1.0, -1.0],\n",
        "]\n",
        "\n",
        "target = [1.0, -1.0, -1.0, 1.0]"
      ],
      "metadata": {
        "id": "76L1Go197Hjw"
      },
      "execution_count": 6,
      "outputs": []
    },
    {
      "cell_type": "code",
      "source": [
        "# forward pass and prediction\n",
        "ypred = [n(x)[0] for x in data]"
      ],
      "metadata": {
        "id": "IkADldRB6cc-"
      },
      "execution_count": 7,
      "outputs": []
    },
    {
      "cell_type": "code",
      "source": [
        "# loss\n",
        "loss = sum((yout - ygt)**2 for ygt, yout in zip(target, ypred)) / 4\n",
        "loss.label='mse loss'\n",
        "print(loss)"
      ],
      "metadata": {
        "colab": {
          "base_uri": "https://localhost:8080/"
        },
        "id": "bUXPYDRr6chY",
        "outputId": "d3fb33a3-5c58-46f9-9170-92c569404e81"
      },
      "execution_count": 8,
      "outputs": [
        {
          "output_type": "stream",
          "name": "stdout",
          "text": [
            "Value(label=mse loss, data=1.7700598649634718, grad=0.0)\n"
          ]
        }
      ]
    },
    {
      "cell_type": "code",
      "source": [
        "# backpropagation\n",
        "loss.backward()"
      ],
      "metadata": {
        "id": "-gfR_dzb7dl-"
      },
      "execution_count": 9,
      "outputs": []
    },
    {
      "cell_type": "code",
      "source": [
        "# collecting the model parameters\n",
        "print(\"total number of parameters:\", len(n.parameters()))"
      ],
      "metadata": {
        "colab": {
          "base_uri": "https://localhost:8080/"
        },
        "id": "5AIFhyxw6ckH",
        "outputId": "daafaf48-b931-4931-c749-ccde153402ce"
      },
      "execution_count": 10,
      "outputs": [
        {
          "output_type": "stream",
          "name": "stdout",
          "text": [
            "total number of parameters: 41\n"
          ]
        }
      ]
    },
    {
      "cell_type": "code",
      "source": [],
      "metadata": {
        "id": "HrKpVmSGMjYj"
      },
      "execution_count": 10,
      "outputs": []
    },
    {
      "cell_type": "markdown",
      "source": [
        "# Optimization and Gradient Descent"
      ],
      "metadata": {
        "id": "9hJB4yviMjea"
      }
    },
    {
      "cell_type": "code",
      "source": [
        "# data\n",
        "data = [\n",
        "    [2.0, 3.0, -1.0],\n",
        "    [3.0, -1.0, 0.5],\n",
        "    [0.5, 1.0, 1.0],\n",
        "    [1.0, 1.0, -1.0],\n",
        "]\n",
        "\n",
        "target = [1.0, -1.0, -1.0, 1.0]"
      ],
      "metadata": {
        "id": "OMFDQMzvsV0n"
      },
      "execution_count": 11,
      "outputs": []
    },
    {
      "cell_type": "code",
      "source": [
        "# forward pass and prediction\n",
        "ypred = [n(x)[0] for x in data]\n",
        "\n",
        "# loss\n",
        "loss = sum((yout - ygt)**2 for ygt, yout in zip(target, ypred)) / 4\n",
        "loss.label='mse loss'\n",
        "print(loss)"
      ],
      "metadata": {
        "colab": {
          "base_uri": "https://localhost:8080/"
        },
        "id": "giVK9SrishpP",
        "outputId": "0db1bda5-404f-4359-a07e-ce846c80e6fc"
      },
      "execution_count": 12,
      "outputs": [
        {
          "output_type": "stream",
          "name": "stdout",
          "text": [
            "Value(label=mse loss, data=1.7700598649634718, grad=0.0)\n"
          ]
        }
      ]
    },
    {
      "cell_type": "code",
      "source": [
        "# zero grad (becalue in our Value, we keep adding the grads)\n",
        "for p in n.parameters():\n",
        "    p.grad = 0.0\n",
        "\n",
        "# backpropagation\n",
        "loss.backward()"
      ],
      "metadata": {
        "id": "4agvSwzntn7b"
      },
      "execution_count": 13,
      "outputs": []
    },
    {
      "cell_type": "code",
      "source": [
        "# as discussed in the previous notebook, let's change the model parameters to reduce the cost"
      ],
      "metadata": {
        "id": "OfZ1XYizNBYb"
      },
      "execution_count": 14,
      "outputs": []
    },
    {
      "cell_type": "code",
      "source": [
        "# let's take a look at a single parameter and it's gradient\n",
        "# let's see the first layer's first neuron's frirst weight:\n",
        "print(\"wo value\", n.layers[0].neurons[0].w[0].data)\n",
        "print(\"wo grad\", n.layers[0].neurons[0].w[0].grad)"
      ],
      "metadata": {
        "colab": {
          "base_uri": "https://localhost:8080/"
        },
        "id": "KJ6wn2z9pYcx",
        "outputId": "a105ca66-7a56-4856-c086-b404846a5ba1"
      },
      "execution_count": 15,
      "outputs": [
        {
          "output_type": "stream",
          "name": "stdout",
          "text": [
            "wo value -0.2341561510915824\n",
            "wo grad 0.0018934539136490204\n"
          ]
        }
      ]
    },
    {
      "cell_type": "code",
      "source": [
        "# now grad here is nothing but rate of change of loss\n",
        "# if we increase the value of w0 towards grad, loss will increase\n",
        "# and if we decrease it, the loss will decrease! (which we want to optimize our nn)\n",
        "# and we introduce a learning rate to control at the rate of gradient descent steps"
      ],
      "metadata": {
        "id": "OMf5FjlcpYfO"
      },
      "execution_count": 16,
      "outputs": []
    },
    {
      "cell_type": "code",
      "source": [
        "# gradient descent, and update the params with new values (going downhill)\n",
        "alpha = 0.01    # learning rate\n",
        "for p in n.parameters():\n",
        "    p.data = p.data - (alpha * p.grad)"
      ],
      "metadata": {
        "id": "YdlMHf3zNH6F"
      },
      "execution_count": 17,
      "outputs": []
    },
    {
      "cell_type": "code",
      "source": [
        "# if alpha is too big, you make too big of a step, and may overfit, and the loss will blow up!\n",
        "# there are techniques where we keep bigger learning rate, and slowly make them smaller... we will see all those in future\n",
        "# if it is too low, it will take long to converge, and eat up computation resources\n",
        "# if it's too big, it will get unstable and explode the loss"
      ],
      "metadata": {
        "id": "A9-Grm7ay2Et"
      },
      "execution_count": 18,
      "outputs": []
    },
    {
      "cell_type": "code",
      "source": [
        "# see and compare the results\n",
        "ypred = [n(x)[0] for x in data]\n",
        "print(\"y target:\", target)\n",
        "print(\"y pred  :\", [pred.data for pred in ypred])\n",
        "loss = sum((yout - ygt)**2 for ygt, yout in zip(target, ypred)) / 4\n",
        "print(\"loss:\", loss.data)\n",
        "loss.backward()"
      ],
      "metadata": {
        "colab": {
          "base_uri": "https://localhost:8080/"
        },
        "id": "2CrULZM_Omvr",
        "outputId": "2c1bc283-f13a-4bd9-f739-9a4c13beacce"
      },
      "execution_count": 19,
      "outputs": [
        {
          "output_type": "stream",
          "name": "stdout",
          "text": [
            "y target: [1.0, -1.0, -1.0, 1.0]\n",
            "y pred  : [0.8610248251530874, 0.8425899209094534, 0.9037515775288634, 0.8608678816633576]\n",
            "loss: 1.764519882789328\n"
          ]
        }
      ]
    },
    {
      "cell_type": "code",
      "source": [
        "# so on running the above cells multiple times, we can see:\n",
        "# -> the loss go dowm\n",
        "# -> the y-pred is slowly reaching towards y-target\n",
        "# -> the model parameters getting tuned, and hence learning to adapt to the training data\n",
        "\n",
        "# and that's essentailly steps of gradient descent or optimization\n",
        "# if we now run this in loops or multiple \"training steps\", we essesntally have a training algorithm for our nn!"
      ],
      "metadata": {
        "id": "CTQLstFirhXl"
      },
      "execution_count": 20,
      "outputs": []
    },
    {
      "cell_type": "code",
      "source": [
        "# to break down training iteraton: \n",
        "# 1. we make a forward pass - get ypred\n",
        "# 2. calculate loss - L(x) ~ | ytarget - ypred |\n",
        "# 3. reset the grads - grad = 0 (because the grads keep accumulating in the expression graph)\n",
        "# 4. backpropagate, and get the new grads \n",
        "# 5. tune or nudge the mode params (w&b) - p = p - (alpha * p.grad)\n",
        "# and back to \"step 1\""
      ],
      "metadata": {
        "id": "-XHgBmo6VWXm"
      },
      "execution_count": 21,
      "outputs": []
    },
    {
      "cell_type": "markdown",
      "source": [
        "# Training"
      ],
      "metadata": {
        "id": "0WQN-DMQYHlr"
      }
    },
    {
      "cell_type": "code",
      "source": [
        "steps = 500    # num of training steps (gradient descent iterations)\n",
        "alpha = 0.01    # learning rate\n",
        "\n",
        "training_metadata = []\n",
        "for i in range(steps):\n",
        "    # forward pass\n",
        "    ypred = [n(x)[0] for x in data]\n",
        "\n",
        "    # calculate loss\n",
        "    loss = sum((yout - ygt)**2 for ygt, yout in zip(target, ypred)) / 4\n",
        "\n",
        "    # zero grad (don't forget!)\n",
        "    for p in n.parameters():\n",
        "        p.grad = 0.0\n",
        "    \n",
        "    # backward pass\n",
        "    loss.backward()\n",
        "\n",
        "    # optimize and update model params\n",
        "    for p in n.parameters():\n",
        "        p.data += -alpha * p.grad\n",
        "\n",
        "    meta = {}\n",
        "    meta['step'] = i\n",
        "    meta['y_pred'] = [pred.data for pred in ypred]\n",
        "    meta['loss'] = loss.data\n",
        "    training_metadata.append(meta)"
      ],
      "metadata": {
        "id": "MfJQsqxVOm3A"
      },
      "execution_count": 22,
      "outputs": []
    },
    {
      "cell_type": "code",
      "source": [
        "# taking a look at loss w.r.t training steps or iteration count\n",
        "plt.plot([meta['step'] for meta in training_metadata], [meta['loss'] for meta in training_metadata])\n",
        "plt.xlabel(\"training steps\")\n",
        "plt.ylabel(\"loss\")\n",
        "plt.show()"
      ],
      "metadata": {
        "colab": {
          "base_uri": "https://localhost:8080/",
          "height": 449
        },
        "id": "_ax5sv29RoIu",
        "outputId": "3c098772-0ef0-4b5f-bf9a-2c9dbf91f669"
      },
      "execution_count": 23,
      "outputs": [
        {
          "output_type": "display_data",
          "data": {
            "text/plain": [
              "<Figure size 640x480 with 1 Axes>"
            ],
            "image/png": "[encoded data removed]"
          },
          "metadata": {}
        }
      ]
    },
    {
      "cell_type": "code",
      "source": [
        "# let's take a look at how the model predected y changed throughout the model training steps\n",
        "# and how they slowly became more and more close to the actual y target values in the training example\n",
        "# remember: we are only nudging the model params, by tiny amount, using the grad info in each iteration\n",
        "# and that's how the model is learning from the training examples \n",
        "# (after training, model will face real data, and these learnt params will remain. and with the full mathametical function, it will compute and give us predictions)\n",
        "\n",
        "plt.plot([meta['step'] for meta in training_metadata], [meta['y_pred'][0] for meta in training_metadata], 'r', label ='y1')\n",
        "plt.plot([meta['step'] for meta in training_metadata], [meta['y_pred'][1] for meta in training_metadata], 'b', label ='y2')\n",
        "plt.plot([meta['step'] for meta in training_metadata], [meta['y_pred'][2] for meta in training_metadata], 'c', label ='y3')\n",
        "plt.plot([meta['step'] for meta in training_metadata], [meta['y_pred'][3] for meta in training_metadata], 'y', label ='y4')\n",
        "plt.xlabel(\"training steps\")\n",
        "plt.ylabel(\"model predictions of y\")\n",
        "plt.legend()\n",
        "plt.show()"
      ],
      "metadata": {
        "colab": {
          "base_uri": "https://localhost:8080/",
          "height": 449
        },
        "id": "QDkIOAttSUDY",
        "outputId": "51c88b9a-9386-4f73-e750-90220063d3c1"
      },
      "execution_count": 24,
      "outputs": [
        {
          "output_type": "display_data",
          "data": {
            "text/plain": [
              "<Figure size 640x480 with 1 Axes>"
            ],
            "image/png": "[encoded data removed]"
          },
          "metadata": {}
        }
      ]
    },
    {
      "cell_type": "code",
      "source": [
        "# let's look at our model predictions after n training steps\n",
        "print(\"y target:\", target)\n",
        "print(\"y pred  :\", [pred.data for pred in [n(x)[0] for x in data]])\n",
        "loss = sum((yout - ygt)**2 for ygt, yout in zip(target, ypred)) / 4\n",
        "print(\"loss:\", loss.data)"
      ],
      "metadata": {
        "colab": {
          "base_uri": "https://localhost:8080/"
        },
        "id": "_WCswvZqTY3A",
        "outputId": "070fbf8e-5ffe-467d-8cad-b4526b7fc01f"
      },
      "execution_count": 25,
      "outputs": [
        {
          "output_type": "stream",
          "name": "stdout",
          "text": [
            "y target: [1.0, -1.0, -1.0, 1.0]\n",
            "y pred  : [0.900287018551332, -0.9003989555631917, -0.8431085141916159, 0.8845627174387275]\n",
            "loss: 0.014496368064463831\n"
          ]
        }
      ]
    },
    {
      "cell_type": "code",
      "source": [
        "# and we see the predicted values are now extremely close to the target values"
      ],
      "metadata": {
        "id": "kpmKQ2fz3UD1"
      },
      "execution_count": 26,
      "outputs": []
    },
    {
      "cell_type": "markdown",
      "source": [
        "# Some Thoughts 🤔"
      ],
      "metadata": {
        "id": "iYMUm4_R2IWU"
      }
    },
    {
      "cell_type": "code",
      "source": [
        "# remember, neural networks are nothing fancy, it's just a mathematical function (as we see in the expression graph)\n",
        "# and the model params (w & b) are learnt through training steps using training data\n",
        "\n",
        "# to export the model, we just need to know the model expression graph, and the trained params (w & b)\n",
        "# that people are spending huge amount of money on computation resources.\n",
        "\n",
        "# and it's no magic, the better training data you have, better the model will be (because it learns from the data)\n",
        "# (eg: GPT-4 is trained on approx 45 gigabytes of training data)\n",
        "# and more complex the model is (eg: GPT-4 has one trillion parameters), the more complex the function would be,\n",
        "# capable of doing complex tasks\n",
        "\n",
        "# and there are other challenges of overfit, underfit, preparing the data, etc etc which we will look at in future"
      ],
      "metadata": {
        "id": "74w3-C6iVldN"
      },
      "execution_count": 27,
      "outputs": []
    },
    {
      "cell_type": "code",
      "source": [
        "# in short, these were just the basics.\n",
        "# every notebook can be now explored to see other dirrerent options that could have been chosen"
      ],
      "metadata": {
        "id": "Sl-KafeG2Phy"
      },
      "execution_count": 28,
      "outputs": []
    },
    {
      "cell_type": "code",
      "source": [
        "# For Example: \n",
        "\n",
        "# * what model architecture to choose?\n",
        "# * what type of model is good for what kind of problems?\n",
        "# * what ways can I collect better data?\n",
        "# * what pre-processing steps or transformations or encodings can I do on my data for better results?\n",
        "# * what data standerdization can I do, so that gradient descent becomes smoother?\n",
        "# * what activation function is good for my case?\n",
        "# * what loss function to choose for my problem?\n",
        "# * how to evaluate my model performance?\n",
        "# * what metric do I choose for the same?\n",
        "# * what way shall I break my dataset (batch size, chunk size)\n",
        "# * what ratio to choose for train, test, val dataset\n",
        "# * is my data uniformly distributed to my datasets?\n",
        "# * how can I parallelize my data loader pipeline or training pipeline?\n",
        "# * what hardware to choose? GPU? TPU?\n",
        "# * how to customize my code to run on those hardware? (eg: CUDA programming)\n",
        "# * what optimization process to choose during training my network?\n",
        "# * what will be the step size or how many training iterations do I run?\n",
        "# * after training: is my model overfit or underfit?\n",
        "# * how to tackle the same?\n",
        "# * what fine-tuning do I do?\n",
        "# * do I use a pre-trained model and train on top of it for my problem?\n",
        "# * tackle corner cases for model behaviour on un-seen data\n",
        "# * use experiment tracking on my ML pipeline to cherry pick model artifacts based on performance metrics\n",
        "# * how to deploy my model to production?\n",
        "\n",
        "# and there are many many many more questions... that makes the field challeging and interesting!\n",
        "# will try to cover them all slowly as I learn..."
      ],
      "metadata": {
        "id": "c1f9-KPGxLX_"
      },
      "execution_count": 29,
      "outputs": []
    },
    {
      "cell_type": "code",
      "source": [
        "# PS: also anyone coming across this notebook and the entire series,\n",
        "# feel free to correct me if my understanding is incorrect or inaccurate anywhere!\n",
        "# would love to learn more or correct any misunderstandings I have"
      ],
      "metadata": {
        "id": "958xLoSlzUhB"
      },
      "execution_count": 30,
      "outputs": []
    },
    {
      "cell_type": "code",
      "source": [],
      "metadata": {
        "id": "q_bKlMB06hnY"
      },
      "execution_count": 30,
      "outputs": []
    }
  ]
}