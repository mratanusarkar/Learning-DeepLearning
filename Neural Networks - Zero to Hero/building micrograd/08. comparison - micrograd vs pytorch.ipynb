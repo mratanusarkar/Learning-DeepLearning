{
  "nbformat": 4,
  "nbformat_minor": 0,
  "metadata": {
    "colab": {
      "provenance": [],
      "authorship_tag": "ABX9TyOR9i1WJpYjiYusQrArlt50"
    },
    "kernelspec": {
      "name": "python3",
      "display_name": "Python 3"
    },
    "language_info": {
      "name": "python"
    }
  },
  "cells": [
    {
      "cell_type": "markdown",
      "metadata": {
        "id": "view-in-github",
        "colab_type": "text"
      },
      "source": [
        "<a href=\"https://colab.research.google.com/github/mratanusarkar/Learning-DeepLearning/blob/main/Neural%20Networks%20-%20Zero%20to%20Hero/building%20micrograd/08.%20comparison%20-%20micrograd%20vs%20pytorch.ipynb\" target=\"_parent\"><img src=\"https://colab.research.google.com/assets/colab-badge.svg\" alt=\"Open In Colab\"/></a>"
      ]
    },
    {
      "cell_type": "markdown",
      "source": [
        "# Importing code from the previous notebook"
      ],
      "metadata": {
        "id": "_UFc84VcNcRI"
      }
    },
    {
      "cell_type": "code",
      "execution_count": 1,
      "metadata": {
        "id": "nnaaQ7KD-DSy"
      },
      "outputs": [],
      "source": [
        "import math\n",
        "import numpy as np\n",
        "import matplotlib.pyplot as plt\n",
        "%matplotlib inline\n",
        "import torch"
      ]
    },
    {
      "cell_type": "code",
      "source": [
        "# importing latest Value class\n",
        "\n",
        "class Value:\n",
        "    \"\"\" stores a single scalar value and its gradient \"\"\"\n",
        "\n",
        "    def __init__(self, data, _children=(), _op='', label=''):\n",
        "        self.label = label  # optional, Value variable/node name\n",
        "        self.data = data\n",
        "        self.grad = 0.0     # initially, the grad be zero (means no effect on output)\n",
        "\n",
        "        # internal variables used for autograd graph construction\n",
        "        self._prev = set(_children)     # previous node\n",
        "        self._op = _op                  # the operation that produced this node\n",
        "        self._backward = lambda: None   # to do the little piece of chain rule at each local node, backwards\n",
        "                                        # by default _backward is None, as there is nothing to do at a leaf node\n",
        "\n",
        "    def __repr__(self):\n",
        "        return f\"Value(label={self.label if self.label else 'Null'}, data={self.data}, grad={self.grad})\"\n",
        "\n",
        "    def __add__(self, other):\n",
        "        other = other if isinstance(other, Value) else Value(other)\n",
        "        out = Value(self.data + other.data, (self, other), '+')\n",
        "\n",
        "        def _backward():\n",
        "            # f(x) = x + y, then f'(x) = 1\n",
        "            # local derivative (= 1.0) * out's grad\n",
        "            self.grad += 1.0 * out.grad\n",
        "            other.grad += 1.0 * out.grad\n",
        "        out._backward = _backward\n",
        "\n",
        "        return out\n",
        "    \n",
        "    def __mul__(self, other):\n",
        "        other = other if isinstance(other, Value) else Value(other)\n",
        "        out = Value(self.data * other.data, (self, other), '*')\n",
        "\n",
        "        def _backward():\n",
        "            # f(x) = x * y, then f'(x) = y\n",
        "            # local derivative (= switching the data of leaf nodes) * out's grad\n",
        "            self.grad += other.data * out.grad\n",
        "            other.grad += self.data * out.grad\n",
        "        out._backward = _backward\n",
        "\n",
        "        return out\n",
        "    \n",
        "    def __pow__(self, other):\n",
        "        assert isinstance(other, (int, float)), \"only supporting int/float powers for now\"\n",
        "        out = Value(self.data**other, (self,), f'**{other}')\n",
        "\n",
        "        def _backward():\n",
        "            # f(x) = x^n, then f'(x) = n * x^(n-1)\n",
        "            # local derivative (= nx^(n-1)) * out's grad\n",
        "            self.grad += (other * self.data**(other-1)) * out.grad\n",
        "        out._backward = _backward\n",
        "\n",
        "        return out\n",
        "    \n",
        "    def exp(self):\n",
        "        x = self.data\n",
        "        ex = math.exp(x)\n",
        "        out = Value(ex, (self, ), 'exp')\n",
        "\n",
        "        def _backward():\n",
        "            # f(x) = exp(x), then f'(x) = exp(x)\n",
        "            # local derivative of exp (exp(x)) * out's grad\n",
        "            self.grad += ex * out.grad\n",
        "        out._backward = _backward\n",
        "\n",
        "        return out\n",
        "\n",
        "    def relu(self):\n",
        "        out = Value(0 if self.data < 0 else self.data, (self,), 'ReLU')\n",
        "\n",
        "        def _backward():\n",
        "            # f(x) = ReLU(x) = max(0,x), then f'(x) = {x:1|x>0 and a:0|x<=0}\n",
        "            # local derivative of ReLU (x > 0) * out's grad\n",
        "            self.grad += (out.data > 0) * out.grad\n",
        "        out._backward = _backward\n",
        "\n",
        "        return out\n",
        "    \n",
        "    def tanh(self):\n",
        "        x = self.data\n",
        "        t = (math.exp(2*x) - 1) / (math.exp(2*x) + 1)\n",
        "        out = Value(t, (self, ), 'tanh')\n",
        "\n",
        "        def _backward():\n",
        "            # f(x) = tanh(x), then f'(x) = 1 - tanh(x)^2\n",
        "            # local derivative of tanh (1 - tanh(x)**2) * out's grad\n",
        "            self.grad += (1 - t**2) * out.grad\n",
        "        out._backward = _backward\n",
        "\n",
        "        return out\n",
        "    \n",
        "    def __neg__(self): # -self\n",
        "        return self * -1\n",
        "\n",
        "    def __radd__(self, other): # other + self\n",
        "        return self + other\n",
        "\n",
        "    def __sub__(self, other): # self - other\n",
        "        return self + (-other)\n",
        "\n",
        "    def __rsub__(self, other): # other - self\n",
        "        return other + (-self)\n",
        "\n",
        "    def __rmul__(self, other): # other * self\n",
        "        return self * other\n",
        "\n",
        "    def __truediv__(self, other): # self / other\n",
        "        return self * other**-1\n",
        "\n",
        "    def __rtruediv__(self, other): # other / self\n",
        "        return other * self**-1\n",
        "    \n",
        "    def backward(self): # backpropagation\n",
        "        # our topological sort function\n",
        "        def topological_sort(node):\n",
        "            topo = []\n",
        "            visited = set()\n",
        "            def build_topo(v):\n",
        "                if v not in visited:\n",
        "                    visited.add(v)\n",
        "                    for child in v._prev:\n",
        "                        build_topo(child)\n",
        "                    topo.append(v)\n",
        "            build_topo(node)\n",
        "            return topo\n",
        "\n",
        "        # base case\n",
        "        self.grad = 1.0\n",
        "\n",
        "        # and then traverse backwards, calling _backward() on the way\n",
        "        for node in reversed(topological_sort(self)):\n",
        "            node._backward()\n"
      ],
      "metadata": {
        "id": "m4MT-Jc_NnA_"
      },
      "execution_count": 2,
      "outputs": []
    },
    {
      "cell_type": "code",
      "source": [
        "# import visualization functions to show grads\n",
        "\n",
        "from graphviz import Digraph\n",
        "\n",
        "def trace(root):\n",
        "    # builds a set of all nodes and edges in a graph\n",
        "    nodes, edges = set(), set()\n",
        "    def build(v):\n",
        "        if v not in nodes:\n",
        "            nodes.add(v)\n",
        "            for child in v._prev:\n",
        "                edges.add((child, v))\n",
        "                build(child)\n",
        "    build(root)\n",
        "    return nodes, edges\n",
        "\n",
        "def draw_dot(root, format='svg', rankdir='LR'):\n",
        "    \"\"\"\n",
        "    format: png | svg | ...\n",
        "    rankdir: TB (top to bottom graph) | LR (left to right)\n",
        "    \"\"\"\n",
        "    assert rankdir in ['LR', 'TB']\n",
        "    nodes, edges = trace(root)\n",
        "    dot = Digraph(format=format, graph_attr={'rankdir': rankdir})\n",
        "    \n",
        "    for n in nodes:\n",
        "        dot.node(name=str(id(n)), label = \"{ %s | data: %.4f | grad: %.4f }\" % (n.label, n.data, n.grad), shape='record')\n",
        "        if n._op:\n",
        "            dot.node(name=str(id(n)) + n._op, label=n._op)\n",
        "            dot.edge(str(id(n)) + n._op, str(id(n)))\n",
        "    \n",
        "    for n1, n2 in edges:\n",
        "        dot.edge(str(id(n1)), str(id(n2)) + n2._op)\n",
        "    \n",
        "    return dot\n"
      ],
      "metadata": {
        "id": "G04Y66TLNhJv"
      },
      "execution_count": 3,
      "outputs": []
    },
    {
      "cell_type": "code",
      "source": [],
      "metadata": {
        "id": "az2YsL98OPeg"
      },
      "execution_count": 3,
      "outputs": []
    },
    {
      "cell_type": "markdown",
      "source": [
        "# let's see the mathematical expression of a neuron using micrograd vs torch"
      ],
      "metadata": {
        "id": "ow5xlQ3iRhw6"
      }
    },
    {
      "cell_type": "code",
      "source": [
        "# using micrograd (re-using old code implementation)"
      ],
      "metadata": {
        "id": "so6pQiRCR3F0"
      },
      "execution_count": 4,
      "outputs": []
    },
    {
      "cell_type": "code",
      "source": [
        "# inputs\n",
        "x1 = Value(2.0, label='x1')\n",
        "x2 = Value(0.0, label='x2')\n",
        "\n",
        "# weights\n",
        "w1 = Value(-3.0, label='w1')\n",
        "w2 = Value(1.0, label='w2')\n",
        "\n",
        "# bias of the neuron\n",
        "b = Value(6.8813735870195432, label='b')    # setting a weird value, as it will help in calculation down the line!\n",
        "\n",
        "# dendrites of the neuron (inputs weighted)\n",
        "den1 = x1 * w1;     den1.label='den1'\n",
        "den2 = x2 * w2;     den2.label='den2'\n",
        "\n",
        "# sum of dendrite signals inside cell body\n",
        "sum = den1 + den2;  sum.label='sum'\n",
        "\n",
        "# bias gets added inside the body\n",
        "body = sum + b;     body.label='body'\n",
        "\n",
        "# the net signal passes through an activation function to give output\n",
        "out = body.tanh();  out.label='out'"
      ],
      "metadata": {
        "id": "tDYruPkHRpX4"
      },
      "execution_count": 5,
      "outputs": []
    },
    {
      "cell_type": "code",
      "source": [
        "out.backward()\n",
        "draw_dot(out)"
      ],
      "metadata": {
        "colab": {
          "base_uri": "https://localhost:8080/",
          "height": 322
        },
        "id": "yBbB43isR7Ey",
        "outputId": "030b2cd8-f304-46cf-861b-d373bfb7a21f"
      },
      "execution_count": 6,
      "outputs": [
        {
          "output_type": "execute_result",
          "data": {
            "image/svg+xml": "<?xml version=\"1.0\" encoding=\"UTF-8\" standalone=\"no\"?>\n<!DOCTYPE svg PUBLIC \"-//W3C//DTD SVG 1.1//EN\"\n \"http://www.w3.org/Graphics/SVG/1.1/DTD/svg11.dtd\">\n<!-- Generated by graphviz version 2.43.0 (0)\n -->\n<!-- Title: %3 Pages: 1 -->\n<svg width=\"1571pt\" height=\"210pt\"\n viewBox=\"0.00 0.00 1571.00 210.00\" xmlns=\"http://www.w3.org/2000/svg\" xmlns:xlink=\"http://www.w3.org/1999/xlink\">\n<g id=\"graph0\" class=\"graph\" transform=\"scale(1 1) rotate(0) translate(4 206)\">\n<title>%3</title>\n<polygon fill=\"white\" stroke=\"transparent\" points=\"-4,4 -4,-206 1567,-206 1567,4 -4,4\"/>\n<!-- 139976682211840 -->\n<g id=\"node1\" class=\"node\">\n<title>139976682211840</title>\n<polygon fill=\"none\" stroke=\"black\" points=\"1019,-54.5 1019,-90.5 1233,-90.5 1233,-54.5 1019,-54.5\"/>\n<text text-anchor=\"middle\" x=\"1041\" y=\"-68.8\" font-family=\"Times,serif\" font-size=\"14.00\">body</text>\n<polyline fill=\"none\" stroke=\"black\" points=\"1063,-54.5 1063,-90.5 \"/>\n<text text-anchor=\"middle\" x=\"1105\" y=\"-68.8\" font-family=\"Times,serif\" font-size=\"14.00\">data: 0.8814</text>\n<polyline fill=\"none\" stroke=\"black\" points=\"1147,-54.5 1147,-90.5 \"/>\n<text text-anchor=\"middle\" x=\"1190\" y=\"-68.8\" font-family=\"Times,serif\" font-size=\"14.00\">grad: 0.5000</text>\n</g>\n<!-- 139976682213040tanh -->\n<g id=\"node9\" class=\"node\">\n<title>139976682213040tanh</title>\n<ellipse fill=\"none\" stroke=\"black\" cx=\"1296\" cy=\"-72.5\" rx=\"27\" ry=\"18\"/>\n<text text-anchor=\"middle\" x=\"1296\" y=\"-68.8\" font-family=\"Times,serif\" font-size=\"14.00\">tanh</text>\n</g>\n<!-- 139976682211840&#45;&gt;139976682213040tanh -->\n<g id=\"edge6\" class=\"edge\">\n<title>139976682211840&#45;&gt;139976682213040tanh</title>\n<path fill=\"none\" stroke=\"black\" d=\"M1233.4,-72.5C1242.35,-72.5 1250.94,-72.5 1258.71,-72.5\"/>\n<polygon fill=\"black\" stroke=\"black\" points=\"1258.76,-76 1268.76,-72.5 1258.76,-69 1258.76,-76\"/>\n</g>\n<!-- 139976682211840+ -->\n<g id=\"node2\" class=\"node\">\n<title>139976682211840+</title>\n<ellipse fill=\"none\" stroke=\"black\" cx=\"956\" cy=\"-72.5\" rx=\"27\" ry=\"18\"/>\n<text text-anchor=\"middle\" x=\"956\" y=\"-68.8\" font-family=\"Times,serif\" font-size=\"14.00\">+</text>\n</g>\n<!-- 139976682211840+&#45;&gt;139976682211840 -->\n<g id=\"edge1\" class=\"edge\">\n<title>139976682211840+&#45;&gt;139976682211840</title>\n<path fill=\"none\" stroke=\"black\" d=\"M983.25,-72.5C990.7,-72.5 999.34,-72.5 1008.59,-72.5\"/>\n<polygon fill=\"black\" stroke=\"black\" points=\"1008.84,-76 1018.84,-72.5 1008.84,-69 1008.84,-76\"/>\n</g>\n<!-- 139976682212368 -->\n<g id=\"node3\" class=\"node\">\n<title>139976682212368</title>\n<polygon fill=\"none\" stroke=\"black\" points=\"678,-82.5 678,-118.5 893,-118.5 893,-82.5 678,-82.5\"/>\n<text text-anchor=\"middle\" x=\"698\" y=\"-96.8\" font-family=\"Times,serif\" font-size=\"14.00\">sum</text>\n<polyline fill=\"none\" stroke=\"black\" points=\"718,-82.5 718,-118.5 \"/>\n<text text-anchor=\"middle\" x=\"762.5\" y=\"-96.8\" font-family=\"Times,serif\" font-size=\"14.00\">data: &#45;6.0000</text>\n<polyline fill=\"none\" stroke=\"black\" points=\"807,-82.5 807,-118.5 \"/>\n<text text-anchor=\"middle\" x=\"850\" y=\"-96.8\" font-family=\"Times,serif\" font-size=\"14.00\">grad: 0.5000</text>\n</g>\n<!-- 139976682212368&#45;&gt;139976682211840+ -->\n<g id=\"edge13\" class=\"edge\">\n<title>139976682212368&#45;&gt;139976682211840+</title>\n<path fill=\"none\" stroke=\"black\" d=\"M893.21,-82.77C902.57,-81.21 911.52,-79.72 919.57,-78.39\"/>\n<polygon fill=\"black\" stroke=\"black\" points=\"920.3,-81.81 929.59,-76.72 919.15,-74.91 920.3,-81.81\"/>\n</g>\n<!-- 139976682212368+ -->\n<g id=\"node4\" class=\"node\">\n<title>139976682212368+</title>\n<ellipse fill=\"none\" stroke=\"black\" cx=\"615\" cy=\"-100.5\" rx=\"27\" ry=\"18\"/>\n<text text-anchor=\"middle\" x=\"615\" y=\"-96.8\" font-family=\"Times,serif\" font-size=\"14.00\">+</text>\n</g>\n<!-- 139976682212368+&#45;&gt;139976682212368 -->\n<g id=\"edge2\" class=\"edge\">\n<title>139976682212368+&#45;&gt;139976682212368</title>\n<path fill=\"none\" stroke=\"black\" d=\"M642.33,-100.5C649.74,-100.5 658.3,-100.5 667.49,-100.5\"/>\n<polygon fill=\"black\" stroke=\"black\" points=\"667.67,-104 677.67,-100.5 667.67,-97 667.67,-104\"/>\n</g>\n<!-- 139976682212416 -->\n<g id=\"node5\" class=\"node\">\n<title>139976682212416</title>\n<polygon fill=\"none\" stroke=\"black\" points=\"334,-110.5 334,-146.5 552,-146.5 552,-110.5 334,-110.5\"/>\n<text text-anchor=\"middle\" x=\"355.5\" y=\"-124.8\" font-family=\"Times,serif\" font-size=\"14.00\">den1</text>\n<polyline fill=\"none\" stroke=\"black\" points=\"377,-110.5 377,-146.5 \"/>\n<text text-anchor=\"middle\" x=\"421.5\" y=\"-124.8\" font-family=\"Times,serif\" font-size=\"14.00\">data: &#45;6.0000</text>\n<polyline fill=\"none\" stroke=\"black\" points=\"466,-110.5 466,-146.5 \"/>\n<text text-anchor=\"middle\" x=\"509\" y=\"-124.8\" font-family=\"Times,serif\" font-size=\"14.00\">grad: 0.5000</text>\n</g>\n<!-- 139976682212416&#45;&gt;139976682212368+ -->\n<g id=\"edge12\" class=\"edge\">\n<title>139976682212416&#45;&gt;139976682212368+</title>\n<path fill=\"none\" stroke=\"black\" d=\"M552.15,-110.69C561.52,-109.14 570.5,-107.67 578.56,-106.34\"/>\n<polygon fill=\"black\" stroke=\"black\" points=\"579.28,-109.77 588.58,-104.69 578.15,-102.86 579.28,-109.77\"/>\n</g>\n<!-- 139976682212416* -->\n<g id=\"node6\" class=\"node\">\n<title>139976682212416*</title>\n<ellipse fill=\"none\" stroke=\"black\" cx=\"271\" cy=\"-128.5\" rx=\"27\" ry=\"18\"/>\n<text text-anchor=\"middle\" x=\"271\" y=\"-124.8\" font-family=\"Times,serif\" font-size=\"14.00\">*</text>\n</g>\n<!-- 139976682212416*&#45;&gt;139976682212416 -->\n<g id=\"edge3\" class=\"edge\">\n<title>139976682212416*&#45;&gt;139976682212416</title>\n<path fill=\"none\" stroke=\"black\" d=\"M298.19,-128.5C305.65,-128.5 314.28,-128.5 323.56,-128.5\"/>\n<polygon fill=\"black\" stroke=\"black\" points=\"323.84,-132 333.84,-128.5 323.84,-125 323.84,-132\"/>\n</g>\n<!-- 139976682205344 -->\n<g id=\"node7\" class=\"node\">\n<title>139976682205344</title>\n<polygon fill=\"none\" stroke=\"black\" points=\"689,-27.5 689,-63.5 882,-63.5 882,-27.5 689,-27.5\"/>\n<text text-anchor=\"middle\" x=\"700.5\" y=\"-41.8\" font-family=\"Times,serif\" font-size=\"14.00\">b</text>\n<polyline fill=\"none\" stroke=\"black\" points=\"712,-27.5 712,-63.5 \"/>\n<text text-anchor=\"middle\" x=\"754\" y=\"-41.8\" font-family=\"Times,serif\" font-size=\"14.00\">data: 6.8814</text>\n<polyline fill=\"none\" stroke=\"black\" points=\"796,-27.5 796,-63.5 \"/>\n<text text-anchor=\"middle\" x=\"839\" y=\"-41.8\" font-family=\"Times,serif\" font-size=\"14.00\">grad: 0.5000</text>\n</g>\n<!-- 139976682205344&#45;&gt;139976682211840+ -->\n<g id=\"edge10\" class=\"edge\">\n<title>139976682205344&#45;&gt;139976682211840+</title>\n<path fill=\"none\" stroke=\"black\" d=\"M882.07,-60.81C895.36,-62.94 908.26,-65.01 919.43,-66.8\"/>\n<polygon fill=\"black\" stroke=\"black\" points=\"919.13,-70.3 929.55,-68.42 920.23,-63.38 919.13,-70.3\"/>\n</g>\n<!-- 139976682213040 -->\n<g id=\"node8\" class=\"node\">\n<title>139976682213040</title>\n<polygon fill=\"none\" stroke=\"black\" points=\"1359,-54.5 1359,-90.5 1563,-90.5 1563,-54.5 1359,-54.5\"/>\n<text text-anchor=\"middle\" x=\"1376\" y=\"-68.8\" font-family=\"Times,serif\" font-size=\"14.00\">out</text>\n<polyline fill=\"none\" stroke=\"black\" points=\"1393,-54.5 1393,-90.5 \"/>\n<text text-anchor=\"middle\" x=\"1435\" y=\"-68.8\" font-family=\"Times,serif\" font-size=\"14.00\">data: 0.7071</text>\n<polyline fill=\"none\" stroke=\"black\" points=\"1477,-54.5 1477,-90.5 \"/>\n<text text-anchor=\"middle\" x=\"1520\" y=\"-68.8\" font-family=\"Times,serif\" font-size=\"14.00\">grad: 1.0000</text>\n</g>\n<!-- 139976682213040tanh&#45;&gt;139976682213040 -->\n<g id=\"edge4\" class=\"edge\">\n<title>139976682213040tanh&#45;&gt;139976682213040</title>\n<path fill=\"none\" stroke=\"black\" d=\"M1323.19,-72.5C1330.66,-72.5 1339.3,-72.5 1348.54,-72.5\"/>\n<polygon fill=\"black\" stroke=\"black\" points=\"1348.77,-76 1358.77,-72.5 1348.77,-69 1348.77,-76\"/>\n</g>\n<!-- 139976682205872 -->\n<g id=\"node10\" class=\"node\">\n<title>139976682205872</title>\n<polygon fill=\"none\" stroke=\"black\" points=\"4,-55.5 4,-91.5 204,-91.5 204,-55.5 4,-55.5\"/>\n<text text-anchor=\"middle\" x=\"19\" y=\"-69.8\" font-family=\"Times,serif\" font-size=\"14.00\">x2</text>\n<polyline fill=\"none\" stroke=\"black\" points=\"34,-55.5 34,-91.5 \"/>\n<text text-anchor=\"middle\" x=\"76\" y=\"-69.8\" font-family=\"Times,serif\" font-size=\"14.00\">data: 0.0000</text>\n<polyline fill=\"none\" stroke=\"black\" points=\"118,-55.5 118,-91.5 \"/>\n<text text-anchor=\"middle\" x=\"161\" y=\"-69.8\" font-family=\"Times,serif\" font-size=\"14.00\">grad: 0.5000</text>\n</g>\n<!-- 139976682210112* -->\n<g id=\"node12\" class=\"node\">\n<title>139976682210112*</title>\n<ellipse fill=\"none\" stroke=\"black\" cx=\"271\" cy=\"-73.5\" rx=\"27\" ry=\"18\"/>\n<text text-anchor=\"middle\" x=\"271\" y=\"-69.8\" font-family=\"Times,serif\" font-size=\"14.00\">*</text>\n</g>\n<!-- 139976682205872&#45;&gt;139976682210112* -->\n<g id=\"edge14\" class=\"edge\">\n<title>139976682205872&#45;&gt;139976682210112*</title>\n<path fill=\"none\" stroke=\"black\" d=\"M204.31,-73.5C214.81,-73.5 224.93,-73.5 233.95,-73.5\"/>\n<polygon fill=\"black\" stroke=\"black\" points=\"233.99,-77 243.99,-73.5 233.99,-70 233.99,-77\"/>\n</g>\n<!-- 139976682210112 -->\n<g id=\"node11\" class=\"node\">\n<title>139976682210112</title>\n<polygon fill=\"none\" stroke=\"black\" points=\"336.5,-55.5 336.5,-91.5 549.5,-91.5 549.5,-55.5 336.5,-55.5\"/>\n<text text-anchor=\"middle\" x=\"358\" y=\"-69.8\" font-family=\"Times,serif\" font-size=\"14.00\">den2</text>\n<polyline fill=\"none\" stroke=\"black\" points=\"379.5,-55.5 379.5,-91.5 \"/>\n<text text-anchor=\"middle\" x=\"421.5\" y=\"-69.8\" font-family=\"Times,serif\" font-size=\"14.00\">data: 0.0000</text>\n<polyline fill=\"none\" stroke=\"black\" points=\"463.5,-55.5 463.5,-91.5 \"/>\n<text text-anchor=\"middle\" x=\"506.5\" y=\"-69.8\" font-family=\"Times,serif\" font-size=\"14.00\">grad: 0.5000</text>\n</g>\n<!-- 139976682210112&#45;&gt;139976682212368+ -->\n<g id=\"edge8\" class=\"edge\">\n<title>139976682210112&#45;&gt;139976682212368+</title>\n<path fill=\"none\" stroke=\"black\" d=\"M549.73,-90.29C559.91,-91.91 569.66,-93.46 578.36,-94.84\"/>\n<polygon fill=\"black\" stroke=\"black\" points=\"577.98,-98.32 588.41,-96.43 579.08,-91.41 577.98,-98.32\"/>\n</g>\n<!-- 139976682210112*&#45;&gt;139976682210112 -->\n<g id=\"edge5\" class=\"edge\">\n<title>139976682210112*&#45;&gt;139976682210112</title>\n<path fill=\"none\" stroke=\"black\" d=\"M298.19,-73.5C306.38,-73.5 315.99,-73.5 326.3,-73.5\"/>\n<polygon fill=\"black\" stroke=\"black\" points=\"326.38,-77 336.38,-73.5 326.38,-70 326.38,-77\"/>\n</g>\n<!-- 139976682205632 -->\n<g id=\"node13\" class=\"node\">\n<title>139976682205632</title>\n<polygon fill=\"none\" stroke=\"black\" points=\"2,-165.5 2,-201.5 206,-201.5 206,-165.5 2,-165.5\"/>\n<text text-anchor=\"middle\" x=\"17\" y=\"-179.8\" font-family=\"Times,serif\" font-size=\"14.00\">x1</text>\n<polyline fill=\"none\" stroke=\"black\" points=\"32,-165.5 32,-201.5 \"/>\n<text text-anchor=\"middle\" x=\"74\" y=\"-179.8\" font-family=\"Times,serif\" font-size=\"14.00\">data: 2.0000</text>\n<polyline fill=\"none\" stroke=\"black\" points=\"116,-165.5 116,-201.5 \"/>\n<text text-anchor=\"middle\" x=\"161\" y=\"-179.8\" font-family=\"Times,serif\" font-size=\"14.00\">grad: &#45;1.5000</text>\n</g>\n<!-- 139976682205632&#45;&gt;139976682212416* -->\n<g id=\"edge9\" class=\"edge\">\n<title>139976682205632&#45;&gt;139976682212416*</title>\n<path fill=\"none\" stroke=\"black\" d=\"M179.99,-165.42C189.49,-162.67 199.03,-159.68 208,-156.5 218.55,-152.77 229.78,-147.96 239.74,-143.39\"/>\n<polygon fill=\"black\" stroke=\"black\" points=\"241.28,-146.54 248.84,-139.12 238.3,-140.2 241.28,-146.54\"/>\n</g>\n<!-- 139976682208224 -->\n<g id=\"node14\" class=\"node\">\n<title>139976682208224</title>\n<polygon fill=\"none\" stroke=\"black\" points=\"0,-110.5 0,-146.5 208,-146.5 208,-110.5 0,-110.5\"/>\n<text text-anchor=\"middle\" x=\"16.5\" y=\"-124.8\" font-family=\"Times,serif\" font-size=\"14.00\">w1</text>\n<polyline fill=\"none\" stroke=\"black\" points=\"33,-110.5 33,-146.5 \"/>\n<text text-anchor=\"middle\" x=\"77.5\" y=\"-124.8\" font-family=\"Times,serif\" font-size=\"14.00\">data: &#45;3.0000</text>\n<polyline fill=\"none\" stroke=\"black\" points=\"122,-110.5 122,-146.5 \"/>\n<text text-anchor=\"middle\" x=\"165\" y=\"-124.8\" font-family=\"Times,serif\" font-size=\"14.00\">grad: 1.0000</text>\n</g>\n<!-- 139976682208224&#45;&gt;139976682212416* -->\n<g id=\"edge7\" class=\"edge\">\n<title>139976682208224&#45;&gt;139976682212416*</title>\n<path fill=\"none\" stroke=\"black\" d=\"M208.09,-128.5C217.14,-128.5 225.83,-128.5 233.7,-128.5\"/>\n<polygon fill=\"black\" stroke=\"black\" points=\"233.87,-132 243.87,-128.5 233.87,-125 233.87,-132\"/>\n</g>\n<!-- 139976682205680 -->\n<g id=\"node15\" class=\"node\">\n<title>139976682205680</title>\n<polygon fill=\"none\" stroke=\"black\" points=\"2.5,-0.5 2.5,-36.5 205.5,-36.5 205.5,-0.5 2.5,-0.5\"/>\n<text text-anchor=\"middle\" x=\"19\" y=\"-14.8\" font-family=\"Times,serif\" font-size=\"14.00\">w2</text>\n<polyline fill=\"none\" stroke=\"black\" points=\"35.5,-0.5 35.5,-36.5 \"/>\n<text text-anchor=\"middle\" x=\"77.5\" y=\"-14.8\" font-family=\"Times,serif\" font-size=\"14.00\">data: 1.0000</text>\n<polyline fill=\"none\" stroke=\"black\" points=\"119.5,-0.5 119.5,-36.5 \"/>\n<text text-anchor=\"middle\" x=\"162.5\" y=\"-14.8\" font-family=\"Times,serif\" font-size=\"14.00\">grad: 0.0000</text>\n</g>\n<!-- 139976682205680&#45;&gt;139976682210112* -->\n<g id=\"edge11\" class=\"edge\">\n<title>139976682205680&#45;&gt;139976682210112*</title>\n<path fill=\"none\" stroke=\"black\" d=\"M179.99,-36.58C189.49,-39.33 199.03,-42.32 208,-45.5 218.55,-49.23 229.78,-54.04 239.74,-58.61\"/>\n<polygon fill=\"black\" stroke=\"black\" points=\"238.3,-61.8 248.84,-62.88 241.28,-55.46 238.3,-61.8\"/>\n</g>\n</g>\n</svg>\n",
            "text/plain": [
              "<graphviz.graphs.Digraph at 0x7f4edc6b7f70>"
            ]
          },
          "metadata": {},
          "execution_count": 6
        }
      ]
    },
    {
      "cell_type": "code",
      "source": [],
      "metadata": {
        "id": "fOns9BJnR7rn"
      },
      "execution_count": 6,
      "outputs": []
    },
    {
      "cell_type": "code",
      "source": [
        "# using PyTorch"
      ],
      "metadata": {
        "id": "7Ss5rPdzSCfR"
      },
      "execution_count": 7,
      "outputs": []
    },
    {
      "cell_type": "code",
      "source": [
        "# the mathematical expression of a neuron\n",
        "x1 = torch.Tensor([2.0]).double();                  x1.requires_grad = True\n",
        "x2 = torch.Tensor([0.0]).double();                  x2.requires_grad = True\n",
        "w1 = torch.Tensor([-3.0]).double();                 w1.requires_grad = True\n",
        "w2 = torch.Tensor([1.0]).double();                  w2.requires_grad = True\n",
        "b = torch.Tensor([6.8813735870195432]).double();    b.requires_grad = True\n",
        "n = x1*w1 + x2*w2 + b;\n",
        "o = torch.tanh(n);\n",
        "\n",
        "# forward pass\n",
        "print(\"out:\", o.data.item())\n",
        "\n",
        "# backward pass\n",
        "o.backward()\n",
        "\n",
        "# let's print the grads\n",
        "print(\"-----\")\n",
        "print(\"x1 grad:\", x1.grad.item())\n",
        "print(\"x2 grad:\", x2.grad.item())\n",
        "print(\"w1 grad:\", w1.grad.item())\n",
        "print(\"w2 grad:\", w2.grad.item())\n",
        "print(\"b grad:\", b.grad.item())"
      ],
      "metadata": {
        "colab": {
          "base_uri": "https://localhost:8080/"
        },
        "id": "XK0oumzxSD5m",
        "outputId": "9cf3ad0e-ca8f-4296-a47a-c14023149854"
      },
      "execution_count": 8,
      "outputs": [
        {
          "output_type": "stream",
          "name": "stdout",
          "text": [
            "out: 0.7071066904050358\n",
            "-----\n",
            "x1 grad: -1.5000003851533106\n",
            "x2 grad: 0.5000001283844369\n",
            "w1 grad: 1.0000002567688737\n",
            "w2 grad: 0.0\n",
            "b grad: 0.5000001283844369\n"
          ]
        }
      ]
    },
    {
      "cell_type": "code",
      "source": [
        "print(out)\n",
        "print(o)"
      ],
      "metadata": {
        "colab": {
          "base_uri": "https://localhost:8080/"
        },
        "id": "_AzLms78XEky",
        "outputId": "209d1c12-8a11-4a6b-dda3-bfc89d5877d4"
      },
      "execution_count": 9,
      "outputs": [
        {
          "output_type": "stream",
          "name": "stdout",
          "text": [
            "Value(label=out, data=0.7071067811865476, grad=1.0)\n",
            "tensor([0.7071], dtype=torch.float64, grad_fn=<TanhBackward0>)\n"
          ]
        }
      ]
    },
    {
      "cell_type": "code",
      "source": [
        "print(out.data)\n",
        "print(o.data)"
      ],
      "metadata": {
        "colab": {
          "base_uri": "https://localhost:8080/"
        },
        "id": "Lhnzea6zXZOe",
        "outputId": "d87bb3e2-870c-49b5-b250-0bc338832666"
      },
      "execution_count": 10,
      "outputs": [
        {
          "output_type": "stream",
          "name": "stdout",
          "text": [
            "0.7071067811865476\n",
            "tensor([0.7071], dtype=torch.float64)\n"
          ]
        }
      ]
    },
    {
      "cell_type": "code",
      "source": [
        "print(body.grad)\n",
        "print(x1.grad)"
      ],
      "metadata": {
        "colab": {
          "base_uri": "https://localhost:8080/"
        },
        "id": "XbivGjIhXZRM",
        "outputId": "13a65bed-f9df-4acf-85d4-21b51293cff4"
      },
      "execution_count": 11,
      "outputs": [
        {
          "output_type": "stream",
          "name": "stdout",
          "text": [
            "0.4999999999999999\n",
            "tensor([-1.5000], dtype=torch.float64)\n"
          ]
        }
      ]
    },
    {
      "cell_type": "code",
      "source": [
        "# and it matches!! it's the same!"
      ],
      "metadata": {
        "id": "FW-eOL1BUolV"
      },
      "execution_count": 12,
      "outputs": []
    },
    {
      "cell_type": "code",
      "source": [
        "# only difference is as below:\n",
        "#\n",
        "# 1. micrograd is a scalar valued engine        | where as in torch everything is based on tensors\n",
        "# 2. micrograd can handle only simple use-cases | where as torch is built to handle complex situations, millions of data into batches of n-D tensors\n",
        "# 3. only for scalar data                       | where as torch is for working with actual scenarios, cases and projects\n",
        "# 4. not optimized and parallelized             | it's more optimized, faster, efficient and supports for both cpu and gpu, and parallelize operations in threads\n",
        "# 5. we have float64 python default             | torch uses simple precision float32 (hence we used .double to make it float 64)\n",
        "# 6. Value.data contains the element            | torch wraps data into tensor, so we have to use .item() to pop out the element from the tensor\n",
        "# 7. simple and built for understanding         | complex and built as a professional, popular ML library and a framework that is used widely"
      ],
      "metadata": {
        "id": "YWbQrbmMU5O3"
      },
      "execution_count": 13,
      "outputs": []
    },
    {
      "cell_type": "code",
      "source": [
        "# so basically torch can do what we did in micrograd as a special case where all the tensors are a single element tensors\n",
        "# otherwise what we have built (thanks to Andrej Karpathy) very much agrees with PyTorch API"
      ],
      "metadata": {
        "id": "RvQFyhKVYSK-"
      },
      "execution_count": 14,
      "outputs": []
    },
    {
      "cell_type": "code",
      "source": [],
      "metadata": {
        "id": "TiuV_vuvY1bQ"
      },
      "execution_count": 14,
      "outputs": []
    }
  ]
}