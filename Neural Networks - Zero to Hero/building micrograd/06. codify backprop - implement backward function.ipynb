{
  "nbformat": 4,
  "nbformat_minor": 0,
  "metadata": {
    "colab": {
      "provenance": [],
      "authorship_tag": "ABX9TyNya/0FM/LrUo6nWqkQafxZ"
    },
    "kernelspec": {
      "name": "python3",
      "display_name": "Python 3"
    },
    "language_info": {
      "name": "python"
    }
  },
  "cells": [
    {
      "cell_type": "markdown",
      "metadata": {
        "id": "view-in-github",
        "colab_type": "text"
      },
      "source": [
        "<a href=\"https://colab.research.google.com/github/mratanusarkar/Learning-DeepLearning/blob/main/Neural%20Networks%20-%20Zero%20to%20Hero/building%20micrograd/06.%20codify%20backprop%20-%20implement%20backward%20function.ipynb\" target=\"_parent\"><img src=\"https://colab.research.google.com/assets/colab-badge.svg\" alt=\"Open In Colab\"/></a>"
      ]
    },
    {
      "cell_type": "code",
      "source": [
        "import math\n",
        "import numpy as np\n",
        "import matplotlib.pyplot as plt\n",
        "%matplotlib inline"
      ],
      "metadata": {
        "id": "jwdLOjINW7js"
      },
      "execution_count": 1,
      "outputs": []
    },
    {
      "cell_type": "code",
      "source": [
        "# doing the backpropagation manually every time is ridiculous\n",
        "# let's put an end to this suffering!\n",
        "# let's implement backward pass, codify the process and automate it!"
      ],
      "metadata": {
        "id": "QgOoId8EVRQO"
      },
      "execution_count": 2,
      "outputs": []
    },
    {
      "cell_type": "code",
      "execution_count": 3,
      "metadata": {
        "id": "YtVZQOSxaV7o"
      },
      "outputs": [],
      "source": [
        "# by now, it's pretty obvious to us... how to calculate the grads and the backpropagation\n",
        "# we should know the local derivative (we saw it for (+), (*) and tanh), \n",
        "# and how to flow the grads backwards from right to left\n",
        "\n",
        "# let's re-write out Value class with new attribute _backward, \n",
        "# which will be a function to automate the flow of the grads for each node and operation"
      ]
    },
    {
      "cell_type": "code",
      "source": [
        "# updated micrograd Value class with _backward\n",
        "\n",
        "class Value:\n",
        "    \"\"\" stores a single scalar value and its gradient \"\"\"\n",
        "\n",
        "    def __init__(self, data, _children=(), _op='', label=''):\n",
        "        self.data = data\n",
        "        self.label = label  # optional, Value variable/node name\n",
        "        self.grad = 0.0     # initially, the grad be zero (means no effect on output)\n",
        "\n",
        "        # internal variables used for autograd graph construction\n",
        "        self._prev = set(_children)     # previous node\n",
        "        self._op = _op                  # the operation that produced this node\n",
        "        self._backward = lambda: None   # to do the little piece of chain rule at each local node, backwards\n",
        "                                        # by default _backward is None, as there is nothing to do at a leaf node\n",
        "\n",
        "    def __repr__(self):\n",
        "        return f\"Value(label={self.label if self.label else 'None'}, data={self.data})\"\n",
        "\n",
        "    def __add__(self, other):\n",
        "        out = Value(self.data + other.data, (self, other), '+')\n",
        "\n",
        "        def _backward():\n",
        "            # local derivative (= 1.0) * out's grad\n",
        "            self.grad = 1.0 * out.grad\n",
        "            other.grad = 1.0 * out.grad\n",
        "        out._backward = _backward\n",
        "\n",
        "        return out\n",
        "    \n",
        "    def __mul__(self, other):\n",
        "        out = Value(self.data * other.data, (self, other), '*')\n",
        "\n",
        "        def _backward():\n",
        "            # local derivative (= switching the data of leaf nodes) * out's grad\n",
        "            self.grad = other.data * out.grad\n",
        "            other.grad = self.data * out.grad\n",
        "        out._backward = _backward\n",
        "\n",
        "        return out\n",
        "    \n",
        "    def tanh(self):\n",
        "        x = self.data\n",
        "        t = (math.exp(2*x) - 1) / (math.exp(2*x) + 1)\n",
        "        out = Value(t, (self, ), 'tanh')\n",
        "\n",
        "        def _backward():\n",
        "            # local derivative of tanh (1 - tanh(x)**2) * out's grad\n",
        "            self.grad = (1 - t**2) * out.grad\n",
        "        out._backward = _backward\n",
        "\n",
        "        return out\n"
      ],
      "metadata": {
        "id": "Q1FBJryGWwdV"
      },
      "execution_count": 4,
      "outputs": []
    },
    {
      "cell_type": "code",
      "source": [
        "# import visualization functions to show grads\n",
        "\n",
        "from graphviz import Digraph\n",
        "\n",
        "def trace(root):\n",
        "    # builds a set of all nodes and edges in a graph\n",
        "    nodes, edges = set(), set()\n",
        "    def build(v):\n",
        "        if v not in nodes:\n",
        "            nodes.add(v)\n",
        "            for child in v._prev:\n",
        "                edges.add((child, v))\n",
        "                build(child)\n",
        "    build(root)\n",
        "    return nodes, edges\n",
        "\n",
        "def draw_dot(root, format='svg', rankdir='LR'):\n",
        "    \"\"\"\n",
        "    format: png | svg | ...\n",
        "    rankdir: TB (top to bottom graph) | LR (left to right)\n",
        "    \"\"\"\n",
        "    assert rankdir in ['LR', 'TB']\n",
        "    nodes, edges = trace(root)\n",
        "    dot = Digraph(format=format, graph_attr={'rankdir': rankdir})\n",
        "    \n",
        "    for n in nodes:\n",
        "        dot.node(name=str(id(n)), label = \"{ %s | data: %.4f | grad: %.4f }\" % (n.label, n.data, n.grad), shape='record')\n",
        "        if n._op:\n",
        "            dot.node(name=str(id(n)) + n._op, label=n._op)\n",
        "            dot.edge(str(id(n)) + n._op, str(id(n)))\n",
        "    \n",
        "    for n1, n2 in edges:\n",
        "        dot.edge(str(id(n1)), str(id(n2)) + n2._op)\n",
        "    \n",
        "    return dot\n"
      ],
      "metadata": {
        "id": "xYRdwvJ0anVW"
      },
      "execution_count": 5,
      "outputs": []
    },
    {
      "cell_type": "code",
      "source": [],
      "metadata": {
        "id": "MCULaf2Gawzo"
      },
      "execution_count": 5,
      "outputs": []
    },
    {
      "cell_type": "code",
      "source": [
        "# let's see how it works with out neuron example from the last notebook"
      ],
      "metadata": {
        "id": "gOWwBizxa6LP"
      },
      "execution_count": 6,
      "outputs": []
    },
    {
      "cell_type": "code",
      "source": [
        "# let's start writing an expression for our neuron with two inputs: x1 and x2\n",
        "\n",
        "# inputs\n",
        "x1 = Value(2.0, label='x1')\n",
        "x2 = Value(0.0, label='x2')\n",
        "\n",
        "# weights\n",
        "w1 = Value(-3.0, label='w1')\n",
        "w2 = Value(1.0, label='w2')\n",
        "\n",
        "# bias of the neuron\n",
        "b = Value(6.8813735870195432, label='b')    # setting a weird value, as it will help in calculation down the line!\n",
        "\n",
        "# dendrites of the neuron (inputs weighted)\n",
        "den1 = x1 * w1;     den1.label='den1'\n",
        "den2 = x2 * w2;     den2.label='den2'\n",
        "\n",
        "# sum of dendrite signals inside cell body\n",
        "sum = den1 + den2;  sum.label='sum'\n",
        "\n",
        "# bias gets added inside the body\n",
        "body = sum + b;     body.label='body'\n",
        "\n",
        "# the net signal passes through an activation function to give output\n",
        "out = body.tanh();  out.label='out'"
      ],
      "metadata": {
        "id": "ga8uSYYia3MI"
      },
      "execution_count": 7,
      "outputs": []
    },
    {
      "cell_type": "code",
      "source": [
        "draw_dot(out)"
      ],
      "metadata": {
        "colab": {
          "base_uri": "https://localhost:8080/",
          "height": 322
        },
        "id": "qJkPxAAobQHq",
        "outputId": "6f933f5a-c64c-4983-d47a-460bf11cb63f"
      },
      "execution_count": 8,
      "outputs": [
        {
          "output_type": "execute_result",
          "data": {
            "image/svg+xml": "<?xml version=\"1.0\" encoding=\"UTF-8\" standalone=\"no\"?>\n<!DOCTYPE svg PUBLIC \"-//W3C//DTD SVG 1.1//EN\"\n \"http://www.w3.org/Graphics/SVG/1.1/DTD/svg11.dtd\">\n<!-- Generated by graphviz version 2.43.0 (0)\n -->\n<!-- Title: %3 Pages: 1 -->\n<svg width=\"1571pt\" height=\"210pt\"\n viewBox=\"0.00 0.00 1571.00 210.00\" xmlns=\"http://www.w3.org/2000/svg\" xmlns:xlink=\"http://www.w3.org/1999/xlink\">\n<g id=\"graph0\" class=\"graph\" transform=\"scale(1 1) rotate(0) translate(4 206)\">\n<title>%3</title>\n<polygon fill=\"white\" stroke=\"transparent\" points=\"-4,4 -4,-206 1567,-206 1567,4 -4,4\"/>\n<!-- 140580403321872 -->\n<g id=\"node1\" class=\"node\">\n<title>140580403321872</title>\n<polygon fill=\"none\" stroke=\"black\" points=\"678,-82.5 678,-118.5 893,-118.5 893,-82.5 678,-82.5\"/>\n<text text-anchor=\"middle\" x=\"698\" y=\"-96.8\" font-family=\"Times,serif\" font-size=\"14.00\">sum</text>\n<polyline fill=\"none\" stroke=\"black\" points=\"718,-82.5 718,-118.5 \"/>\n<text text-anchor=\"middle\" x=\"762.5\" y=\"-96.8\" font-family=\"Times,serif\" font-size=\"14.00\">data: &#45;6.0000</text>\n<polyline fill=\"none\" stroke=\"black\" points=\"807,-82.5 807,-118.5 \"/>\n<text text-anchor=\"middle\" x=\"850\" y=\"-96.8\" font-family=\"Times,serif\" font-size=\"14.00\">grad: 0.0000</text>\n</g>\n<!-- 140580403320672+ -->\n<g id=\"node7\" class=\"node\">\n<title>140580403320672+</title>\n<ellipse fill=\"none\" stroke=\"black\" cx=\"956\" cy=\"-127.5\" rx=\"27\" ry=\"18\"/>\n<text text-anchor=\"middle\" x=\"956\" y=\"-123.8\" font-family=\"Times,serif\" font-size=\"14.00\">+</text>\n</g>\n<!-- 140580403321872&#45;&gt;140580403320672+ -->\n<g id=\"edge13\" class=\"edge\">\n<title>140580403321872&#45;&gt;140580403320672+</title>\n<path fill=\"none\" stroke=\"black\" d=\"M893.21,-117.6C902.57,-119.1 911.52,-120.53 919.57,-121.82\"/>\n<polygon fill=\"black\" stroke=\"black\" points=\"919.16,-125.3 929.59,-123.43 920.27,-118.39 919.16,-125.3\"/>\n</g>\n<!-- 140580403321872+ -->\n<g id=\"node2\" class=\"node\">\n<title>140580403321872+</title>\n<ellipse fill=\"none\" stroke=\"black\" cx=\"615\" cy=\"-100.5\" rx=\"27\" ry=\"18\"/>\n<text text-anchor=\"middle\" x=\"615\" y=\"-96.8\" font-family=\"Times,serif\" font-size=\"14.00\">+</text>\n</g>\n<!-- 140580403321872+&#45;&gt;140580403321872 -->\n<g id=\"edge1\" class=\"edge\">\n<title>140580403321872+&#45;&gt;140580403321872</title>\n<path fill=\"none\" stroke=\"black\" d=\"M642.33,-100.5C649.74,-100.5 658.3,-100.5 667.49,-100.5\"/>\n<polygon fill=\"black\" stroke=\"black\" points=\"667.67,-104 677.67,-100.5 667.67,-97 667.67,-104\"/>\n</g>\n<!-- 140580437199984 -->\n<g id=\"node3\" class=\"node\">\n<title>140580437199984</title>\n<polygon fill=\"none\" stroke=\"black\" points=\"689,-137.5 689,-173.5 882,-173.5 882,-137.5 689,-137.5\"/>\n<text text-anchor=\"middle\" x=\"700.5\" y=\"-151.8\" font-family=\"Times,serif\" font-size=\"14.00\">b</text>\n<polyline fill=\"none\" stroke=\"black\" points=\"712,-137.5 712,-173.5 \"/>\n<text text-anchor=\"middle\" x=\"754\" y=\"-151.8\" font-family=\"Times,serif\" font-size=\"14.00\">data: 6.8814</text>\n<polyline fill=\"none\" stroke=\"black\" points=\"796,-137.5 796,-173.5 \"/>\n<text text-anchor=\"middle\" x=\"839\" y=\"-151.8\" font-family=\"Times,serif\" font-size=\"14.00\">grad: 0.0000</text>\n</g>\n<!-- 140580437199984&#45;&gt;140580403320672+ -->\n<g id=\"edge8\" class=\"edge\">\n<title>140580437199984&#45;&gt;140580403320672+</title>\n<path fill=\"none\" stroke=\"black\" d=\"M882.07,-139.62C895.36,-137.41 908.26,-135.27 919.43,-133.41\"/>\n<polygon fill=\"black\" stroke=\"black\" points=\"920.26,-136.82 929.55,-131.73 919.12,-129.92 920.26,-136.82\"/>\n</g>\n<!-- 140580403322016 -->\n<g id=\"node4\" class=\"node\">\n<title>140580403322016</title>\n<polygon fill=\"none\" stroke=\"black\" points=\"336.5,-110.5 336.5,-146.5 549.5,-146.5 549.5,-110.5 336.5,-110.5\"/>\n<text text-anchor=\"middle\" x=\"358\" y=\"-124.8\" font-family=\"Times,serif\" font-size=\"14.00\">den2</text>\n<polyline fill=\"none\" stroke=\"black\" points=\"379.5,-110.5 379.5,-146.5 \"/>\n<text text-anchor=\"middle\" x=\"421.5\" y=\"-124.8\" font-family=\"Times,serif\" font-size=\"14.00\">data: 0.0000</text>\n<polyline fill=\"none\" stroke=\"black\" points=\"463.5,-110.5 463.5,-146.5 \"/>\n<text text-anchor=\"middle\" x=\"506.5\" y=\"-124.8\" font-family=\"Times,serif\" font-size=\"14.00\">grad: 0.0000</text>\n</g>\n<!-- 140580403322016&#45;&gt;140580403321872+ -->\n<g id=\"edge9\" class=\"edge\">\n<title>140580403322016&#45;&gt;140580403321872+</title>\n<path fill=\"none\" stroke=\"black\" d=\"M549.73,-111.09C560,-109.39 569.85,-107.77 578.61,-106.33\"/>\n<polygon fill=\"black\" stroke=\"black\" points=\"579.41,-109.74 588.71,-104.66 578.28,-102.84 579.41,-109.74\"/>\n</g>\n<!-- 140580403322016* -->\n<g id=\"node5\" class=\"node\">\n<title>140580403322016*</title>\n<ellipse fill=\"none\" stroke=\"black\" cx=\"271\" cy=\"-128.5\" rx=\"27\" ry=\"18\"/>\n<text text-anchor=\"middle\" x=\"271\" y=\"-124.8\" font-family=\"Times,serif\" font-size=\"14.00\">*</text>\n</g>\n<!-- 140580403322016*&#45;&gt;140580403322016 -->\n<g id=\"edge2\" class=\"edge\">\n<title>140580403322016*&#45;&gt;140580403322016</title>\n<path fill=\"none\" stroke=\"black\" d=\"M298.19,-128.5C306.38,-128.5 315.99,-128.5 326.3,-128.5\"/>\n<polygon fill=\"black\" stroke=\"black\" points=\"326.38,-132 336.38,-128.5 326.38,-125 326.38,-132\"/>\n</g>\n<!-- 140580403320672 -->\n<g id=\"node6\" class=\"node\">\n<title>140580403320672</title>\n<polygon fill=\"none\" stroke=\"black\" points=\"1019,-109.5 1019,-145.5 1233,-145.5 1233,-109.5 1019,-109.5\"/>\n<text text-anchor=\"middle\" x=\"1041\" y=\"-123.8\" font-family=\"Times,serif\" font-size=\"14.00\">body</text>\n<polyline fill=\"none\" stroke=\"black\" points=\"1063,-109.5 1063,-145.5 \"/>\n<text text-anchor=\"middle\" x=\"1105\" y=\"-123.8\" font-family=\"Times,serif\" font-size=\"14.00\">data: 0.8814</text>\n<polyline fill=\"none\" stroke=\"black\" points=\"1147,-109.5 1147,-145.5 \"/>\n<text text-anchor=\"middle\" x=\"1190\" y=\"-123.8\" font-family=\"Times,serif\" font-size=\"14.00\">grad: 0.0000</text>\n</g>\n<!-- 140580403320768tanh -->\n<g id=\"node15\" class=\"node\">\n<title>140580403320768tanh</title>\n<ellipse fill=\"none\" stroke=\"black\" cx=\"1296\" cy=\"-127.5\" rx=\"27\" ry=\"18\"/>\n<text text-anchor=\"middle\" x=\"1296\" y=\"-123.8\" font-family=\"Times,serif\" font-size=\"14.00\">tanh</text>\n</g>\n<!-- 140580403320672&#45;&gt;140580403320768tanh -->\n<g id=\"edge6\" class=\"edge\">\n<title>140580403320672&#45;&gt;140580403320768tanh</title>\n<path fill=\"none\" stroke=\"black\" d=\"M1233.4,-127.5C1242.35,-127.5 1250.94,-127.5 1258.71,-127.5\"/>\n<polygon fill=\"black\" stroke=\"black\" points=\"1258.76,-131 1268.76,-127.5 1258.76,-124 1258.76,-131\"/>\n</g>\n<!-- 140580403320672+&#45;&gt;140580403320672 -->\n<g id=\"edge3\" class=\"edge\">\n<title>140580403320672+&#45;&gt;140580403320672</title>\n<path fill=\"none\" stroke=\"black\" d=\"M983.25,-127.5C990.7,-127.5 999.34,-127.5 1008.59,-127.5\"/>\n<polygon fill=\"black\" stroke=\"black\" points=\"1008.84,-131 1018.84,-127.5 1008.84,-124 1008.84,-131\"/>\n</g>\n<!-- 140580437200752 -->\n<g id=\"node8\" class=\"node\">\n<title>140580437200752</title>\n<polygon fill=\"none\" stroke=\"black\" points=\"4,-55.5 4,-91.5 204,-91.5 204,-55.5 4,-55.5\"/>\n<text text-anchor=\"middle\" x=\"19\" y=\"-69.8\" font-family=\"Times,serif\" font-size=\"14.00\">x1</text>\n<polyline fill=\"none\" stroke=\"black\" points=\"34,-55.5 34,-91.5 \"/>\n<text text-anchor=\"middle\" x=\"76\" y=\"-69.8\" font-family=\"Times,serif\" font-size=\"14.00\">data: 2.0000</text>\n<polyline fill=\"none\" stroke=\"black\" points=\"118,-55.5 118,-91.5 \"/>\n<text text-anchor=\"middle\" x=\"161\" y=\"-69.8\" font-family=\"Times,serif\" font-size=\"14.00\">grad: 0.0000</text>\n</g>\n<!-- 140580403321728* -->\n<g id=\"node10\" class=\"node\">\n<title>140580403321728*</title>\n<ellipse fill=\"none\" stroke=\"black\" cx=\"271\" cy=\"-73.5\" rx=\"27\" ry=\"18\"/>\n<text text-anchor=\"middle\" x=\"271\" y=\"-69.8\" font-family=\"Times,serif\" font-size=\"14.00\">*</text>\n</g>\n<!-- 140580437200752&#45;&gt;140580403321728* -->\n<g id=\"edge7\" class=\"edge\">\n<title>140580437200752&#45;&gt;140580403321728*</title>\n<path fill=\"none\" stroke=\"black\" d=\"M204.31,-73.5C214.81,-73.5 224.93,-73.5 233.95,-73.5\"/>\n<polygon fill=\"black\" stroke=\"black\" points=\"233.99,-77 243.99,-73.5 233.99,-70 233.99,-77\"/>\n</g>\n<!-- 140580403321728 -->\n<g id=\"node9\" class=\"node\">\n<title>140580403321728</title>\n<polygon fill=\"none\" stroke=\"black\" points=\"334,-55.5 334,-91.5 552,-91.5 552,-55.5 334,-55.5\"/>\n<text text-anchor=\"middle\" x=\"355.5\" y=\"-69.8\" font-family=\"Times,serif\" font-size=\"14.00\">den1</text>\n<polyline fill=\"none\" stroke=\"black\" points=\"377,-55.5 377,-91.5 \"/>\n<text text-anchor=\"middle\" x=\"421.5\" y=\"-69.8\" font-family=\"Times,serif\" font-size=\"14.00\">data: &#45;6.0000</text>\n<polyline fill=\"none\" stroke=\"black\" points=\"466,-55.5 466,-91.5 \"/>\n<text text-anchor=\"middle\" x=\"509\" y=\"-69.8\" font-family=\"Times,serif\" font-size=\"14.00\">grad: 0.0000</text>\n</g>\n<!-- 140580403321728&#45;&gt;140580403321872+ -->\n<g id=\"edge12\" class=\"edge\">\n<title>140580403321728&#45;&gt;140580403321872+</title>\n<path fill=\"none\" stroke=\"black\" d=\"M552.15,-90.68C561.52,-92.17 570.5,-93.59 578.56,-94.87\"/>\n<polygon fill=\"black\" stroke=\"black\" points=\"578.16,-98.35 588.58,-96.46 579.26,-91.44 578.16,-98.35\"/>\n</g>\n<!-- 140580403321728*&#45;&gt;140580403321728 -->\n<g id=\"edge4\" class=\"edge\">\n<title>140580403321728*&#45;&gt;140580403321728</title>\n<path fill=\"none\" stroke=\"black\" d=\"M298.19,-73.5C305.65,-73.5 314.28,-73.5 323.56,-73.5\"/>\n<polygon fill=\"black\" stroke=\"black\" points=\"323.84,-77 333.84,-73.5 323.84,-70 323.84,-77\"/>\n</g>\n<!-- 140580437200272 -->\n<g id=\"node11\" class=\"node\">\n<title>140580437200272</title>\n<polygon fill=\"none\" stroke=\"black\" points=\"2.5,-165.5 2.5,-201.5 205.5,-201.5 205.5,-165.5 2.5,-165.5\"/>\n<text text-anchor=\"middle\" x=\"19\" y=\"-179.8\" font-family=\"Times,serif\" font-size=\"14.00\">w2</text>\n<polyline fill=\"none\" stroke=\"black\" points=\"35.5,-165.5 35.5,-201.5 \"/>\n<text text-anchor=\"middle\" x=\"77.5\" y=\"-179.8\" font-family=\"Times,serif\" font-size=\"14.00\">data: 1.0000</text>\n<polyline fill=\"none\" stroke=\"black\" points=\"119.5,-165.5 119.5,-201.5 \"/>\n<text text-anchor=\"middle\" x=\"162.5\" y=\"-179.8\" font-family=\"Times,serif\" font-size=\"14.00\">grad: 0.0000</text>\n</g>\n<!-- 140580437200272&#45;&gt;140580403322016* -->\n<g id=\"edge14\" class=\"edge\">\n<title>140580437200272&#45;&gt;140580403322016*</title>\n<path fill=\"none\" stroke=\"black\" d=\"M179.99,-165.42C189.49,-162.67 199.03,-159.68 208,-156.5 218.55,-152.77 229.78,-147.96 239.74,-143.39\"/>\n<polygon fill=\"black\" stroke=\"black\" points=\"241.28,-146.54 248.84,-139.12 238.3,-140.2 241.28,-146.54\"/>\n</g>\n<!-- 140580437200224 -->\n<g id=\"node12\" class=\"node\">\n<title>140580437200224</title>\n<polygon fill=\"none\" stroke=\"black\" points=\"4,-110.5 4,-146.5 204,-146.5 204,-110.5 4,-110.5\"/>\n<text text-anchor=\"middle\" x=\"19\" y=\"-124.8\" font-family=\"Times,serif\" font-size=\"14.00\">x2</text>\n<polyline fill=\"none\" stroke=\"black\" points=\"34,-110.5 34,-146.5 \"/>\n<text text-anchor=\"middle\" x=\"76\" y=\"-124.8\" font-family=\"Times,serif\" font-size=\"14.00\">data: 0.0000</text>\n<polyline fill=\"none\" stroke=\"black\" points=\"118,-110.5 118,-146.5 \"/>\n<text text-anchor=\"middle\" x=\"161\" y=\"-124.8\" font-family=\"Times,serif\" font-size=\"14.00\">grad: 0.0000</text>\n</g>\n<!-- 140580437200224&#45;&gt;140580403322016* -->\n<g id=\"edge11\" class=\"edge\">\n<title>140580437200224&#45;&gt;140580403322016*</title>\n<path fill=\"none\" stroke=\"black\" d=\"M204.31,-128.5C214.81,-128.5 224.93,-128.5 233.95,-128.5\"/>\n<polygon fill=\"black\" stroke=\"black\" points=\"233.99,-132 243.99,-128.5 233.99,-125 233.99,-132\"/>\n</g>\n<!-- 140580437198256 -->\n<g id=\"node13\" class=\"node\">\n<title>140580437198256</title>\n<polygon fill=\"none\" stroke=\"black\" points=\"0,-0.5 0,-36.5 208,-36.5 208,-0.5 0,-0.5\"/>\n<text text-anchor=\"middle\" x=\"16.5\" y=\"-14.8\" font-family=\"Times,serif\" font-size=\"14.00\">w1</text>\n<polyline fill=\"none\" stroke=\"black\" points=\"33,-0.5 33,-36.5 \"/>\n<text text-anchor=\"middle\" x=\"77.5\" y=\"-14.8\" font-family=\"Times,serif\" font-size=\"14.00\">data: &#45;3.0000</text>\n<polyline fill=\"none\" stroke=\"black\" points=\"122,-0.5 122,-36.5 \"/>\n<text text-anchor=\"middle\" x=\"165\" y=\"-14.8\" font-family=\"Times,serif\" font-size=\"14.00\">grad: 0.0000</text>\n</g>\n<!-- 140580437198256&#45;&gt;140580403321728* -->\n<g id=\"edge10\" class=\"edge\">\n<title>140580437198256&#45;&gt;140580403321728*</title>\n<path fill=\"none\" stroke=\"black\" d=\"M176.61,-36.52C187.22,-39.61 197.95,-42.97 208,-46.5 218.3,-50.12 229.3,-54.67 239.13,-59.01\"/>\n<polygon fill=\"black\" stroke=\"black\" points=\"237.95,-62.31 248.5,-63.22 240.82,-55.93 237.95,-62.31\"/>\n</g>\n<!-- 140580403320768 -->\n<g id=\"node14\" class=\"node\">\n<title>140580403320768</title>\n<polygon fill=\"none\" stroke=\"black\" points=\"1359,-109.5 1359,-145.5 1563,-145.5 1563,-109.5 1359,-109.5\"/>\n<text text-anchor=\"middle\" x=\"1376\" y=\"-123.8\" font-family=\"Times,serif\" font-size=\"14.00\">out</text>\n<polyline fill=\"none\" stroke=\"black\" points=\"1393,-109.5 1393,-145.5 \"/>\n<text text-anchor=\"middle\" x=\"1435\" y=\"-123.8\" font-family=\"Times,serif\" font-size=\"14.00\">data: 0.7071</text>\n<polyline fill=\"none\" stroke=\"black\" points=\"1477,-109.5 1477,-145.5 \"/>\n<text text-anchor=\"middle\" x=\"1520\" y=\"-123.8\" font-family=\"Times,serif\" font-size=\"14.00\">grad: 0.0000</text>\n</g>\n<!-- 140580403320768tanh&#45;&gt;140580403320768 -->\n<g id=\"edge5\" class=\"edge\">\n<title>140580403320768tanh&#45;&gt;140580403320768</title>\n<path fill=\"none\" stroke=\"black\" d=\"M1323.19,-127.5C1330.66,-127.5 1339.3,-127.5 1348.54,-127.5\"/>\n<polygon fill=\"black\" stroke=\"black\" points=\"1348.77,-131 1358.77,-127.5 1348.77,-124 1348.77,-131\"/>\n</g>\n</g>\n</svg>\n",
            "text/plain": [
              "<graphviz.graphs.Digraph at 0x7fdb740e0d30>"
            ]
          },
          "metadata": {},
          "execution_count": 8
        }
      ]
    },
    {
      "cell_type": "code",
      "source": [
        "# so now, instead of manually updating the grads, we have to call _backward in the right order\n",
        "\n",
        "# as a base case, we have to set out's grad to 1.0\n",
        "out.grad = 1.0\n",
        "\n",
        "# and rest of the backward pass (backpropagation) will be taken care by calling _backward \"in the right order\"\n",
        "out._backward()\n",
        "\n",
        "body._backward()\n",
        "\n",
        "b._backward()       # nothing would happen as b is a leaf node, and it doesn't have a _backward!\n",
        "sum._backward()\n",
        "\n",
        "den2._backward()\n",
        "den1._backward()\n",
        "\n",
        "w2._backward()      # nothing would happen as it's a leaf node\n",
        "x2._backward()      # nothing would happen as it's a leaf node\n",
        "w1._backward()      # nothing would happen as it's a leaf node\n",
        "x1._backward()      # nothing would happen as it's a leaf node\n",
        "\n",
        "# let's see the result\n",
        "draw_dot(out)"
      ],
      "metadata": {
        "colab": {
          "base_uri": "https://localhost:8080/",
          "height": 322
        },
        "id": "UViMu-EPa_ip",
        "outputId": "8d9224e2-f9db-425a-c394-5ef0ac1a305f"
      },
      "execution_count": 9,
      "outputs": [
        {
          "output_type": "execute_result",
          "data": {
            "image/svg+xml": "<?xml version=\"1.0\" encoding=\"UTF-8\" standalone=\"no\"?>\n<!DOCTYPE svg PUBLIC \"-//W3C//DTD SVG 1.1//EN\"\n \"http://www.w3.org/Graphics/SVG/1.1/DTD/svg11.dtd\">\n<!-- Generated by graphviz version 2.43.0 (0)\n -->\n<!-- Title: %3 Pages: 1 -->\n<svg width=\"1571pt\" height=\"210pt\"\n viewBox=\"0.00 0.00 1571.00 210.00\" xmlns=\"http://www.w3.org/2000/svg\" xmlns:xlink=\"http://www.w3.org/1999/xlink\">\n<g id=\"graph0\" class=\"graph\" transform=\"scale(1 1) rotate(0) translate(4 206)\">\n<title>%3</title>\n<polygon fill=\"white\" stroke=\"transparent\" points=\"-4,4 -4,-206 1567,-206 1567,4 -4,4\"/>\n<!-- 140580403321872 -->\n<g id=\"node1\" class=\"node\">\n<title>140580403321872</title>\n<polygon fill=\"none\" stroke=\"black\" points=\"678,-82.5 678,-118.5 893,-118.5 893,-82.5 678,-82.5\"/>\n<text text-anchor=\"middle\" x=\"698\" y=\"-96.8\" font-family=\"Times,serif\" font-size=\"14.00\">sum</text>\n<polyline fill=\"none\" stroke=\"black\" points=\"718,-82.5 718,-118.5 \"/>\n<text text-anchor=\"middle\" x=\"762.5\" y=\"-96.8\" font-family=\"Times,serif\" font-size=\"14.00\">data: &#45;6.0000</text>\n<polyline fill=\"none\" stroke=\"black\" points=\"807,-82.5 807,-118.5 \"/>\n<text text-anchor=\"middle\" x=\"850\" y=\"-96.8\" font-family=\"Times,serif\" font-size=\"14.00\">grad: 0.5000</text>\n</g>\n<!-- 140580403320672+ -->\n<g id=\"node7\" class=\"node\">\n<title>140580403320672+</title>\n<ellipse fill=\"none\" stroke=\"black\" cx=\"956\" cy=\"-127.5\" rx=\"27\" ry=\"18\"/>\n<text text-anchor=\"middle\" x=\"956\" y=\"-123.8\" font-family=\"Times,serif\" font-size=\"14.00\">+</text>\n</g>\n<!-- 140580403321872&#45;&gt;140580403320672+ -->\n<g id=\"edge13\" class=\"edge\">\n<title>140580403321872&#45;&gt;140580403320672+</title>\n<path fill=\"none\" stroke=\"black\" d=\"M893.21,-117.6C902.57,-119.1 911.52,-120.53 919.57,-121.82\"/>\n<polygon fill=\"black\" stroke=\"black\" points=\"919.16,-125.3 929.59,-123.43 920.27,-118.39 919.16,-125.3\"/>\n</g>\n<!-- 140580403321872+ -->\n<g id=\"node2\" class=\"node\">\n<title>140580403321872+</title>\n<ellipse fill=\"none\" stroke=\"black\" cx=\"615\" cy=\"-100.5\" rx=\"27\" ry=\"18\"/>\n<text text-anchor=\"middle\" x=\"615\" y=\"-96.8\" font-family=\"Times,serif\" font-size=\"14.00\">+</text>\n</g>\n<!-- 140580403321872+&#45;&gt;140580403321872 -->\n<g id=\"edge1\" class=\"edge\">\n<title>140580403321872+&#45;&gt;140580403321872</title>\n<path fill=\"none\" stroke=\"black\" d=\"M642.33,-100.5C649.74,-100.5 658.3,-100.5 667.49,-100.5\"/>\n<polygon fill=\"black\" stroke=\"black\" points=\"667.67,-104 677.67,-100.5 667.67,-97 667.67,-104\"/>\n</g>\n<!-- 140580437199984 -->\n<g id=\"node3\" class=\"node\">\n<title>140580437199984</title>\n<polygon fill=\"none\" stroke=\"black\" points=\"689,-137.5 689,-173.5 882,-173.5 882,-137.5 689,-137.5\"/>\n<text text-anchor=\"middle\" x=\"700.5\" y=\"-151.8\" font-family=\"Times,serif\" font-size=\"14.00\">b</text>\n<polyline fill=\"none\" stroke=\"black\" points=\"712,-137.5 712,-173.5 \"/>\n<text text-anchor=\"middle\" x=\"754\" y=\"-151.8\" font-family=\"Times,serif\" font-size=\"14.00\">data: 6.8814</text>\n<polyline fill=\"none\" stroke=\"black\" points=\"796,-137.5 796,-173.5 \"/>\n<text text-anchor=\"middle\" x=\"839\" y=\"-151.8\" font-family=\"Times,serif\" font-size=\"14.00\">grad: 0.5000</text>\n</g>\n<!-- 140580437199984&#45;&gt;140580403320672+ -->\n<g id=\"edge8\" class=\"edge\">\n<title>140580437199984&#45;&gt;140580403320672+</title>\n<path fill=\"none\" stroke=\"black\" d=\"M882.07,-139.62C895.36,-137.41 908.26,-135.27 919.43,-133.41\"/>\n<polygon fill=\"black\" stroke=\"black\" points=\"920.26,-136.82 929.55,-131.73 919.12,-129.92 920.26,-136.82\"/>\n</g>\n<!-- 140580403322016 -->\n<g id=\"node4\" class=\"node\">\n<title>140580403322016</title>\n<polygon fill=\"none\" stroke=\"black\" points=\"336.5,-110.5 336.5,-146.5 549.5,-146.5 549.5,-110.5 336.5,-110.5\"/>\n<text text-anchor=\"middle\" x=\"358\" y=\"-124.8\" font-family=\"Times,serif\" font-size=\"14.00\">den2</text>\n<polyline fill=\"none\" stroke=\"black\" points=\"379.5,-110.5 379.5,-146.5 \"/>\n<text text-anchor=\"middle\" x=\"421.5\" y=\"-124.8\" font-family=\"Times,serif\" font-size=\"14.00\">data: 0.0000</text>\n<polyline fill=\"none\" stroke=\"black\" points=\"463.5,-110.5 463.5,-146.5 \"/>\n<text text-anchor=\"middle\" x=\"506.5\" y=\"-124.8\" font-family=\"Times,serif\" font-size=\"14.00\">grad: 0.5000</text>\n</g>\n<!-- 140580403322016&#45;&gt;140580403321872+ -->\n<g id=\"edge9\" class=\"edge\">\n<title>140580403322016&#45;&gt;140580403321872+</title>\n<path fill=\"none\" stroke=\"black\" d=\"M549.73,-111.09C560,-109.39 569.85,-107.77 578.61,-106.33\"/>\n<polygon fill=\"black\" stroke=\"black\" points=\"579.41,-109.74 588.71,-104.66 578.28,-102.84 579.41,-109.74\"/>\n</g>\n<!-- 140580403322016* -->\n<g id=\"node5\" class=\"node\">\n<title>140580403322016*</title>\n<ellipse fill=\"none\" stroke=\"black\" cx=\"271\" cy=\"-128.5\" rx=\"27\" ry=\"18\"/>\n<text text-anchor=\"middle\" x=\"271\" y=\"-124.8\" font-family=\"Times,serif\" font-size=\"14.00\">*</text>\n</g>\n<!-- 140580403322016*&#45;&gt;140580403322016 -->\n<g id=\"edge2\" class=\"edge\">\n<title>140580403322016*&#45;&gt;140580403322016</title>\n<path fill=\"none\" stroke=\"black\" d=\"M298.19,-128.5C306.38,-128.5 315.99,-128.5 326.3,-128.5\"/>\n<polygon fill=\"black\" stroke=\"black\" points=\"326.38,-132 336.38,-128.5 326.38,-125 326.38,-132\"/>\n</g>\n<!-- 140580403320672 -->\n<g id=\"node6\" class=\"node\">\n<title>140580403320672</title>\n<polygon fill=\"none\" stroke=\"black\" points=\"1019,-109.5 1019,-145.5 1233,-145.5 1233,-109.5 1019,-109.5\"/>\n<text text-anchor=\"middle\" x=\"1041\" y=\"-123.8\" font-family=\"Times,serif\" font-size=\"14.00\">body</text>\n<polyline fill=\"none\" stroke=\"black\" points=\"1063,-109.5 1063,-145.5 \"/>\n<text text-anchor=\"middle\" x=\"1105\" y=\"-123.8\" font-family=\"Times,serif\" font-size=\"14.00\">data: 0.8814</text>\n<polyline fill=\"none\" stroke=\"black\" points=\"1147,-109.5 1147,-145.5 \"/>\n<text text-anchor=\"middle\" x=\"1190\" y=\"-123.8\" font-family=\"Times,serif\" font-size=\"14.00\">grad: 0.5000</text>\n</g>\n<!-- 140580403320768tanh -->\n<g id=\"node15\" class=\"node\">\n<title>140580403320768tanh</title>\n<ellipse fill=\"none\" stroke=\"black\" cx=\"1296\" cy=\"-127.5\" rx=\"27\" ry=\"18\"/>\n<text text-anchor=\"middle\" x=\"1296\" y=\"-123.8\" font-family=\"Times,serif\" font-size=\"14.00\">tanh</text>\n</g>\n<!-- 140580403320672&#45;&gt;140580403320768tanh -->\n<g id=\"edge6\" class=\"edge\">\n<title>140580403320672&#45;&gt;140580403320768tanh</title>\n<path fill=\"none\" stroke=\"black\" d=\"M1233.4,-127.5C1242.35,-127.5 1250.94,-127.5 1258.71,-127.5\"/>\n<polygon fill=\"black\" stroke=\"black\" points=\"1258.76,-131 1268.76,-127.5 1258.76,-124 1258.76,-131\"/>\n</g>\n<!-- 140580403320672+&#45;&gt;140580403320672 -->\n<g id=\"edge3\" class=\"edge\">\n<title>140580403320672+&#45;&gt;140580403320672</title>\n<path fill=\"none\" stroke=\"black\" d=\"M983.25,-127.5C990.7,-127.5 999.34,-127.5 1008.59,-127.5\"/>\n<polygon fill=\"black\" stroke=\"black\" points=\"1008.84,-131 1018.84,-127.5 1008.84,-124 1008.84,-131\"/>\n</g>\n<!-- 140580437200752 -->\n<g id=\"node8\" class=\"node\">\n<title>140580437200752</title>\n<polygon fill=\"none\" stroke=\"black\" points=\"2,-55.5 2,-91.5 206,-91.5 206,-55.5 2,-55.5\"/>\n<text text-anchor=\"middle\" x=\"17\" y=\"-69.8\" font-family=\"Times,serif\" font-size=\"14.00\">x1</text>\n<polyline fill=\"none\" stroke=\"black\" points=\"32,-55.5 32,-91.5 \"/>\n<text text-anchor=\"middle\" x=\"74\" y=\"-69.8\" font-family=\"Times,serif\" font-size=\"14.00\">data: 2.0000</text>\n<polyline fill=\"none\" stroke=\"black\" points=\"116,-55.5 116,-91.5 \"/>\n<text text-anchor=\"middle\" x=\"161\" y=\"-69.8\" font-family=\"Times,serif\" font-size=\"14.00\">grad: &#45;1.5000</text>\n</g>\n<!-- 140580403321728* -->\n<g id=\"node10\" class=\"node\">\n<title>140580403321728*</title>\n<ellipse fill=\"none\" stroke=\"black\" cx=\"271\" cy=\"-73.5\" rx=\"27\" ry=\"18\"/>\n<text text-anchor=\"middle\" x=\"271\" y=\"-69.8\" font-family=\"Times,serif\" font-size=\"14.00\">*</text>\n</g>\n<!-- 140580437200752&#45;&gt;140580403321728* -->\n<g id=\"edge7\" class=\"edge\">\n<title>140580437200752&#45;&gt;140580403321728*</title>\n<path fill=\"none\" stroke=\"black\" d=\"M206.21,-73.5C215.96,-73.5 225.35,-73.5 233.78,-73.5\"/>\n<polygon fill=\"black\" stroke=\"black\" points=\"233.91,-77 243.91,-73.5 233.91,-70 233.91,-77\"/>\n</g>\n<!-- 140580403321728 -->\n<g id=\"node9\" class=\"node\">\n<title>140580403321728</title>\n<polygon fill=\"none\" stroke=\"black\" points=\"334,-55.5 334,-91.5 552,-91.5 552,-55.5 334,-55.5\"/>\n<text text-anchor=\"middle\" x=\"355.5\" y=\"-69.8\" font-family=\"Times,serif\" font-size=\"14.00\">den1</text>\n<polyline fill=\"none\" stroke=\"black\" points=\"377,-55.5 377,-91.5 \"/>\n<text text-anchor=\"middle\" x=\"421.5\" y=\"-69.8\" font-family=\"Times,serif\" font-size=\"14.00\">data: &#45;6.0000</text>\n<polyline fill=\"none\" stroke=\"black\" points=\"466,-55.5 466,-91.5 \"/>\n<text text-anchor=\"middle\" x=\"509\" y=\"-69.8\" font-family=\"Times,serif\" font-size=\"14.00\">grad: 0.5000</text>\n</g>\n<!-- 140580403321728&#45;&gt;140580403321872+ -->\n<g id=\"edge12\" class=\"edge\">\n<title>140580403321728&#45;&gt;140580403321872+</title>\n<path fill=\"none\" stroke=\"black\" d=\"M552.15,-90.68C561.52,-92.17 570.5,-93.59 578.56,-94.87\"/>\n<polygon fill=\"black\" stroke=\"black\" points=\"578.16,-98.35 588.58,-96.46 579.26,-91.44 578.16,-98.35\"/>\n</g>\n<!-- 140580403321728*&#45;&gt;140580403321728 -->\n<g id=\"edge4\" class=\"edge\">\n<title>140580403321728*&#45;&gt;140580403321728</title>\n<path fill=\"none\" stroke=\"black\" d=\"M298.19,-73.5C305.65,-73.5 314.28,-73.5 323.56,-73.5\"/>\n<polygon fill=\"black\" stroke=\"black\" points=\"323.84,-77 333.84,-73.5 323.84,-70 323.84,-77\"/>\n</g>\n<!-- 140580437200272 -->\n<g id=\"node11\" class=\"node\">\n<title>140580437200272</title>\n<polygon fill=\"none\" stroke=\"black\" points=\"2.5,-165.5 2.5,-201.5 205.5,-201.5 205.5,-165.5 2.5,-165.5\"/>\n<text text-anchor=\"middle\" x=\"19\" y=\"-179.8\" font-family=\"Times,serif\" font-size=\"14.00\">w2</text>\n<polyline fill=\"none\" stroke=\"black\" points=\"35.5,-165.5 35.5,-201.5 \"/>\n<text text-anchor=\"middle\" x=\"77.5\" y=\"-179.8\" font-family=\"Times,serif\" font-size=\"14.00\">data: 1.0000</text>\n<polyline fill=\"none\" stroke=\"black\" points=\"119.5,-165.5 119.5,-201.5 \"/>\n<text text-anchor=\"middle\" x=\"162.5\" y=\"-179.8\" font-family=\"Times,serif\" font-size=\"14.00\">grad: 0.0000</text>\n</g>\n<!-- 140580437200272&#45;&gt;140580403322016* -->\n<g id=\"edge14\" class=\"edge\">\n<title>140580437200272&#45;&gt;140580403322016*</title>\n<path fill=\"none\" stroke=\"black\" d=\"M179.99,-165.42C189.49,-162.67 199.03,-159.68 208,-156.5 218.55,-152.77 229.78,-147.96 239.74,-143.39\"/>\n<polygon fill=\"black\" stroke=\"black\" points=\"241.28,-146.54 248.84,-139.12 238.3,-140.2 241.28,-146.54\"/>\n</g>\n<!-- 140580437200224 -->\n<g id=\"node12\" class=\"node\">\n<title>140580437200224</title>\n<polygon fill=\"none\" stroke=\"black\" points=\"4,-110.5 4,-146.5 204,-146.5 204,-110.5 4,-110.5\"/>\n<text text-anchor=\"middle\" x=\"19\" y=\"-124.8\" font-family=\"Times,serif\" font-size=\"14.00\">x2</text>\n<polyline fill=\"none\" stroke=\"black\" points=\"34,-110.5 34,-146.5 \"/>\n<text text-anchor=\"middle\" x=\"76\" y=\"-124.8\" font-family=\"Times,serif\" font-size=\"14.00\">data: 0.0000</text>\n<polyline fill=\"none\" stroke=\"black\" points=\"118,-110.5 118,-146.5 \"/>\n<text text-anchor=\"middle\" x=\"161\" y=\"-124.8\" font-family=\"Times,serif\" font-size=\"14.00\">grad: 0.5000</text>\n</g>\n<!-- 140580437200224&#45;&gt;140580403322016* -->\n<g id=\"edge11\" class=\"edge\">\n<title>140580437200224&#45;&gt;140580403322016*</title>\n<path fill=\"none\" stroke=\"black\" d=\"M204.31,-128.5C214.81,-128.5 224.93,-128.5 233.95,-128.5\"/>\n<polygon fill=\"black\" stroke=\"black\" points=\"233.99,-132 243.99,-128.5 233.99,-125 233.99,-132\"/>\n</g>\n<!-- 140580437198256 -->\n<g id=\"node13\" class=\"node\">\n<title>140580437198256</title>\n<polygon fill=\"none\" stroke=\"black\" points=\"0,-0.5 0,-36.5 208,-36.5 208,-0.5 0,-0.5\"/>\n<text text-anchor=\"middle\" x=\"16.5\" y=\"-14.8\" font-family=\"Times,serif\" font-size=\"14.00\">w1</text>\n<polyline fill=\"none\" stroke=\"black\" points=\"33,-0.5 33,-36.5 \"/>\n<text text-anchor=\"middle\" x=\"77.5\" y=\"-14.8\" font-family=\"Times,serif\" font-size=\"14.00\">data: &#45;3.0000</text>\n<polyline fill=\"none\" stroke=\"black\" points=\"122,-0.5 122,-36.5 \"/>\n<text text-anchor=\"middle\" x=\"165\" y=\"-14.8\" font-family=\"Times,serif\" font-size=\"14.00\">grad: 1.0000</text>\n</g>\n<!-- 140580437198256&#45;&gt;140580403321728* -->\n<g id=\"edge10\" class=\"edge\">\n<title>140580437198256&#45;&gt;140580403321728*</title>\n<path fill=\"none\" stroke=\"black\" d=\"M176.61,-36.52C187.22,-39.61 197.95,-42.97 208,-46.5 218.3,-50.12 229.3,-54.67 239.13,-59.01\"/>\n<polygon fill=\"black\" stroke=\"black\" points=\"237.95,-62.31 248.5,-63.22 240.82,-55.93 237.95,-62.31\"/>\n</g>\n<!-- 140580403320768 -->\n<g id=\"node14\" class=\"node\">\n<title>140580403320768</title>\n<polygon fill=\"none\" stroke=\"black\" points=\"1359,-109.5 1359,-145.5 1563,-145.5 1563,-109.5 1359,-109.5\"/>\n<text text-anchor=\"middle\" x=\"1376\" y=\"-123.8\" font-family=\"Times,serif\" font-size=\"14.00\">out</text>\n<polyline fill=\"none\" stroke=\"black\" points=\"1393,-109.5 1393,-145.5 \"/>\n<text text-anchor=\"middle\" x=\"1435\" y=\"-123.8\" font-family=\"Times,serif\" font-size=\"14.00\">data: 0.7071</text>\n<polyline fill=\"none\" stroke=\"black\" points=\"1477,-109.5 1477,-145.5 \"/>\n<text text-anchor=\"middle\" x=\"1520\" y=\"-123.8\" font-family=\"Times,serif\" font-size=\"14.00\">grad: 1.0000</text>\n</g>\n<!-- 140580403320768tanh&#45;&gt;140580403320768 -->\n<g id=\"edge5\" class=\"edge\">\n<title>140580403320768tanh&#45;&gt;140580403320768</title>\n<path fill=\"none\" stroke=\"black\" d=\"M1323.19,-127.5C1330.66,-127.5 1339.3,-127.5 1348.54,-127.5\"/>\n<polygon fill=\"black\" stroke=\"black\" points=\"1348.77,-131 1358.77,-127.5 1348.77,-124 1348.77,-131\"/>\n</g>\n</g>\n</svg>\n",
            "text/plain": [
              "<graphviz.graphs.Digraph at 0x7fdb6d009fd0>"
            ]
          },
          "metadata": {},
          "execution_count": 9
        }
      ]
    },
    {
      "cell_type": "code",
      "source": [
        "# and we get the same result! but this time the calculations and local backward pass was taken care by _backward() !!"
      ],
      "metadata": {
        "id": "kg2DOzQkdIE8"
      },
      "execution_count": 10,
      "outputs": []
    },
    {
      "cell_type": "code",
      "source": [],
      "metadata": {
        "id": "2LaZsTDRddF8"
      },
      "execution_count": 10,
      "outputs": []
    },
    {
      "cell_type": "code",
      "source": [
        "# let's go a step further and automate the whole process for the entire expression graph and let it figure out the order by itself too!\n",
        "# we won't call _backward() ourselves anymore! let's automate that too!"
      ],
      "metadata": {
        "id": "g0mDHtDXdeYD"
      },
      "execution_count": 11,
      "outputs": []
    },
    {
      "cell_type": "code",
      "source": [
        "# so, we have laid out a mathematical expression, and we are trying to go back through that expression\n",
        "# and we don't want to call _backward() for any node before everything after it! LoL\n",
        "# in simple terms, if a -> b -> c is our expresion, we shouldn't call a._backward() until b._backward() is called, ... and so on..."
      ],
      "metadata": {
        "id": "f8iv5bIjd94V"
      },
      "execution_count": 12,
      "outputs": []
    },
    {
      "cell_type": "code",
      "source": [
        "# this ordering of graphs can be achieved through something called \"topological sort\"\n",
        "# topological sort is basically laying out of a graph such that all the edges go only from left to right\n",
        "\n",
        "# definition: Topological sorting for a Graph is a linear ordering of vertices such that for every directed edge u v, vertex u comes before v in the ordering.\n",
        "# https://en.wikipedia.org/wiki/Topological_sorting\n",
        "# https://www.geeksforgeeks.org/topological-sorting/"
      ],
      "metadata": {
        "id": "_tpARSwCe67b"
      },
      "execution_count": 13,
      "outputs": []
    },
    {
      "cell_type": "markdown",
      "source": [
        "![topological-sort.png](https://assets.leetcode.com/users/images/63bd7ad6-403c-42f1-b8bb-2ea41e42af9a_1613794080.8115625.png)"
      ],
      "metadata": {
        "id": "c9ylvuwmhbup"
      }
    },
    {
      "cell_type": "markdown",
      "source": [
        "![topological-sort.png](https://miro.medium.com/v2/resize:fit:1200/1*uMg_ojFXts2WZSjcZe4oRQ.png)"
      ],
      "metadata": {
        "id": "RaJ9onVRhSGq"
      }
    },
    {
      "cell_type": "code",
      "source": [
        "def topological_sort(node):\n",
        "    topo = []\n",
        "    visited = set()\n",
        "    def build_topo(v):\n",
        "        if v not in visited:\n",
        "            visited.add(v)\n",
        "            for child in v._prev:\n",
        "                build_topo(child)\n",
        "            topo.append(v)\n",
        "    build_topo(node)\n",
        "    return topo"
      ],
      "metadata": {
        "id": "CjDkn-bhe6-z"
      },
      "execution_count": 14,
      "outputs": []
    },
    {
      "cell_type": "code",
      "source": [
        "topological_sort(out)"
      ],
      "metadata": {
        "colab": {
          "base_uri": "https://localhost:8080/"
        },
        "id": "_goty6Sae7KA",
        "outputId": "e9e45eb5-9f61-42c7-e4a0-67cf6d6b19b7"
      },
      "execution_count": 15,
      "outputs": [
        {
          "output_type": "execute_result",
          "data": {
            "text/plain": [
              "[Value(label=w1, data=-3.0),\n",
              " Value(label=x1, data=2.0),\n",
              " Value(label=den1, data=-6.0),\n",
              " Value(label=w2, data=1.0),\n",
              " Value(label=x2, data=0.0),\n",
              " Value(label=den2, data=0.0),\n",
              " Value(label=sum, data=-6.0),\n",
              " Value(label=b, data=6.881373587019543),\n",
              " Value(label=body, data=0.8813735870195432),\n",
              " Value(label=out, data=0.7071067811865476)]"
            ]
          },
          "metadata": {},
          "execution_count": 15
        }
      ]
    },
    {
      "cell_type": "code",
      "source": [
        "# now let's use the same to automate calling the _backward() !!"
      ],
      "metadata": {
        "id": "H-hGBi3TiY6R"
      },
      "execution_count": 16,
      "outputs": []
    },
    {
      "cell_type": "code",
      "source": [
        "# let's reset the grads\n",
        "x1 = Value(2.0, label='x1')\n",
        "x2 = Value(0.0, label='x2')\n",
        "w1 = Value(-3.0, label='w1')\n",
        "w2 = Value(1.0, label='w2')\n",
        "b = Value(6.8813735870195432, label='b')\n",
        "den1 = x1 * w1;     den1.label='den1'\n",
        "den2 = x2 * w2;     den2.label='den2'\n",
        "sum = den1 + den2;  sum.label='sum'\n",
        "body = sum + b;     body.label='body'\n",
        "out = body.tanh();  out.label='out'\n",
        "\n",
        "# let's take a look\n",
        "draw_dot(out)"
      ],
      "metadata": {
        "colab": {
          "base_uri": "https://localhost:8080/",
          "height": 322
        },
        "id": "ofps8S3ildHL",
        "outputId": "1274d22b-28f8-48ac-f532-d5a7c22bdb09"
      },
      "execution_count": 17,
      "outputs": [
        {
          "output_type": "execute_result",
          "data": {
            "image/svg+xml": "<?xml version=\"1.0\" encoding=\"UTF-8\" standalone=\"no\"?>\n<!DOCTYPE svg PUBLIC \"-//W3C//DTD SVG 1.1//EN\"\n \"http://www.w3.org/Graphics/SVG/1.1/DTD/svg11.dtd\">\n<!-- Generated by graphviz version 2.43.0 (0)\n -->\n<!-- Title: %3 Pages: 1 -->\n<svg width=\"1571pt\" height=\"210pt\"\n viewBox=\"0.00 0.00 1571.00 210.00\" xmlns=\"http://www.w3.org/2000/svg\" xmlns:xlink=\"http://www.w3.org/1999/xlink\">\n<g id=\"graph0\" class=\"graph\" transform=\"scale(1 1) rotate(0) translate(4 206)\">\n<title>%3</title>\n<polygon fill=\"white\" stroke=\"transparent\" points=\"-4,4 -4,-206 1567,-206 1567,4 -4,4\"/>\n<!-- 140580403231760 -->\n<g id=\"node1\" class=\"node\">\n<title>140580403231760</title>\n<polygon fill=\"none\" stroke=\"black\" points=\"1359,-54.5 1359,-90.5 1563,-90.5 1563,-54.5 1359,-54.5\"/>\n<text text-anchor=\"middle\" x=\"1376\" y=\"-68.8\" font-family=\"Times,serif\" font-size=\"14.00\">out</text>\n<polyline fill=\"none\" stroke=\"black\" points=\"1393,-54.5 1393,-90.5 \"/>\n<text text-anchor=\"middle\" x=\"1435\" y=\"-68.8\" font-family=\"Times,serif\" font-size=\"14.00\">data: 0.7071</text>\n<polyline fill=\"none\" stroke=\"black\" points=\"1477,-54.5 1477,-90.5 \"/>\n<text text-anchor=\"middle\" x=\"1520\" y=\"-68.8\" font-family=\"Times,serif\" font-size=\"14.00\">grad: 0.0000</text>\n</g>\n<!-- 140580403231760tanh -->\n<g id=\"node2\" class=\"node\">\n<title>140580403231760tanh</title>\n<ellipse fill=\"none\" stroke=\"black\" cx=\"1296\" cy=\"-72.5\" rx=\"27\" ry=\"18\"/>\n<text text-anchor=\"middle\" x=\"1296\" y=\"-68.8\" font-family=\"Times,serif\" font-size=\"14.00\">tanh</text>\n</g>\n<!-- 140580403231760tanh&#45;&gt;140580403231760 -->\n<g id=\"edge1\" class=\"edge\">\n<title>140580403231760tanh&#45;&gt;140580403231760</title>\n<path fill=\"none\" stroke=\"black\" d=\"M1323.19,-72.5C1330.66,-72.5 1339.3,-72.5 1348.54,-72.5\"/>\n<polygon fill=\"black\" stroke=\"black\" points=\"1348.77,-76 1358.77,-72.5 1348.77,-69 1348.77,-76\"/>\n</g>\n<!-- 140580403230896 -->\n<g id=\"node3\" class=\"node\">\n<title>140580403230896</title>\n<polygon fill=\"none\" stroke=\"black\" points=\"678,-82.5 678,-118.5 893,-118.5 893,-82.5 678,-82.5\"/>\n<text text-anchor=\"middle\" x=\"698\" y=\"-96.8\" font-family=\"Times,serif\" font-size=\"14.00\">sum</text>\n<polyline fill=\"none\" stroke=\"black\" points=\"718,-82.5 718,-118.5 \"/>\n<text text-anchor=\"middle\" x=\"762.5\" y=\"-96.8\" font-family=\"Times,serif\" font-size=\"14.00\">data: &#45;6.0000</text>\n<polyline fill=\"none\" stroke=\"black\" points=\"807,-82.5 807,-118.5 \"/>\n<text text-anchor=\"middle\" x=\"850\" y=\"-96.8\" font-family=\"Times,serif\" font-size=\"14.00\">grad: 0.0000</text>\n</g>\n<!-- 140580403229072+ -->\n<g id=\"node11\" class=\"node\">\n<title>140580403229072+</title>\n<ellipse fill=\"none\" stroke=\"black\" cx=\"956\" cy=\"-72.5\" rx=\"27\" ry=\"18\"/>\n<text text-anchor=\"middle\" x=\"956\" y=\"-68.8\" font-family=\"Times,serif\" font-size=\"14.00\">+</text>\n</g>\n<!-- 140580403230896&#45;&gt;140580403229072+ -->\n<g id=\"edge8\" class=\"edge\">\n<title>140580403230896&#45;&gt;140580403229072+</title>\n<path fill=\"none\" stroke=\"black\" d=\"M893.21,-82.77C902.57,-81.21 911.52,-79.72 919.57,-78.39\"/>\n<polygon fill=\"black\" stroke=\"black\" points=\"920.3,-81.81 929.59,-76.72 919.15,-74.91 920.3,-81.81\"/>\n</g>\n<!-- 140580403230896+ -->\n<g id=\"node4\" class=\"node\">\n<title>140580403230896+</title>\n<ellipse fill=\"none\" stroke=\"black\" cx=\"615\" cy=\"-100.5\" rx=\"27\" ry=\"18\"/>\n<text text-anchor=\"middle\" x=\"615\" y=\"-96.8\" font-family=\"Times,serif\" font-size=\"14.00\">+</text>\n</g>\n<!-- 140580403230896+&#45;&gt;140580403230896 -->\n<g id=\"edge2\" class=\"edge\">\n<title>140580403230896+&#45;&gt;140580403230896</title>\n<path fill=\"none\" stroke=\"black\" d=\"M642.33,-100.5C649.74,-100.5 658.3,-100.5 667.49,-100.5\"/>\n<polygon fill=\"black\" stroke=\"black\" points=\"667.67,-104 677.67,-100.5 667.67,-97 667.67,-104\"/>\n</g>\n<!-- 140580392206000 -->\n<g id=\"node5\" class=\"node\">\n<title>140580392206000</title>\n<polygon fill=\"none\" stroke=\"black\" points=\"4,-165.5 4,-201.5 204,-201.5 204,-165.5 4,-165.5\"/>\n<text text-anchor=\"middle\" x=\"19\" y=\"-179.8\" font-family=\"Times,serif\" font-size=\"14.00\">x2</text>\n<polyline fill=\"none\" stroke=\"black\" points=\"34,-165.5 34,-201.5 \"/>\n<text text-anchor=\"middle\" x=\"76\" y=\"-179.8\" font-family=\"Times,serif\" font-size=\"14.00\">data: 0.0000</text>\n<polyline fill=\"none\" stroke=\"black\" points=\"118,-165.5 118,-201.5 \"/>\n<text text-anchor=\"middle\" x=\"161\" y=\"-179.8\" font-family=\"Times,serif\" font-size=\"14.00\">grad: 0.0000</text>\n</g>\n<!-- 140580403229936* -->\n<g id=\"node8\" class=\"node\">\n<title>140580403229936*</title>\n<ellipse fill=\"none\" stroke=\"black\" cx=\"271\" cy=\"-128.5\" rx=\"27\" ry=\"18\"/>\n<text text-anchor=\"middle\" x=\"271\" y=\"-124.8\" font-family=\"Times,serif\" font-size=\"14.00\">*</text>\n</g>\n<!-- 140580392206000&#45;&gt;140580403229936* -->\n<g id=\"edge12\" class=\"edge\">\n<title>140580392206000&#45;&gt;140580403229936*</title>\n<path fill=\"none\" stroke=\"black\" d=\"M179.99,-165.42C189.49,-162.67 199.03,-159.68 208,-156.5 218.55,-152.77 229.78,-147.96 239.74,-143.39\"/>\n<polygon fill=\"black\" stroke=\"black\" points=\"241.28,-146.54 248.84,-139.12 238.3,-140.2 241.28,-146.54\"/>\n</g>\n<!-- 140580392206048 -->\n<g id=\"node6\" class=\"node\">\n<title>140580392206048</title>\n<polygon fill=\"none\" stroke=\"black\" points=\"2.5,-110.5 2.5,-146.5 205.5,-146.5 205.5,-110.5 2.5,-110.5\"/>\n<text text-anchor=\"middle\" x=\"19\" y=\"-124.8\" font-family=\"Times,serif\" font-size=\"14.00\">w2</text>\n<polyline fill=\"none\" stroke=\"black\" points=\"35.5,-110.5 35.5,-146.5 \"/>\n<text text-anchor=\"middle\" x=\"77.5\" y=\"-124.8\" font-family=\"Times,serif\" font-size=\"14.00\">data: 1.0000</text>\n<polyline fill=\"none\" stroke=\"black\" points=\"119.5,-110.5 119.5,-146.5 \"/>\n<text text-anchor=\"middle\" x=\"162.5\" y=\"-124.8\" font-family=\"Times,serif\" font-size=\"14.00\">grad: 0.0000</text>\n</g>\n<!-- 140580392206048&#45;&gt;140580403229936* -->\n<g id=\"edge10\" class=\"edge\">\n<title>140580392206048&#45;&gt;140580403229936*</title>\n<path fill=\"none\" stroke=\"black\" d=\"M205.73,-128.5C215.55,-128.5 225,-128.5 233.49,-128.5\"/>\n<polygon fill=\"black\" stroke=\"black\" points=\"233.7,-132 243.7,-128.5 233.7,-125 233.7,-132\"/>\n</g>\n<!-- 140580403229936 -->\n<g id=\"node7\" class=\"node\">\n<title>140580403229936</title>\n<polygon fill=\"none\" stroke=\"black\" points=\"336.5,-110.5 336.5,-146.5 549.5,-146.5 549.5,-110.5 336.5,-110.5\"/>\n<text text-anchor=\"middle\" x=\"358\" y=\"-124.8\" font-family=\"Times,serif\" font-size=\"14.00\">den2</text>\n<polyline fill=\"none\" stroke=\"black\" points=\"379.5,-110.5 379.5,-146.5 \"/>\n<text text-anchor=\"middle\" x=\"421.5\" y=\"-124.8\" font-family=\"Times,serif\" font-size=\"14.00\">data: 0.0000</text>\n<polyline fill=\"none\" stroke=\"black\" points=\"463.5,-110.5 463.5,-146.5 \"/>\n<text text-anchor=\"middle\" x=\"506.5\" y=\"-124.8\" font-family=\"Times,serif\" font-size=\"14.00\">grad: 0.0000</text>\n</g>\n<!-- 140580403229936&#45;&gt;140580403230896+ -->\n<g id=\"edge9\" class=\"edge\">\n<title>140580403229936&#45;&gt;140580403230896+</title>\n<path fill=\"none\" stroke=\"black\" d=\"M549.73,-111.09C560,-109.39 569.85,-107.77 578.61,-106.33\"/>\n<polygon fill=\"black\" stroke=\"black\" points=\"579.41,-109.74 588.71,-104.66 578.28,-102.84 579.41,-109.74\"/>\n</g>\n<!-- 140580403229936*&#45;&gt;140580403229936 -->\n<g id=\"edge3\" class=\"edge\">\n<title>140580403229936*&#45;&gt;140580403229936</title>\n<path fill=\"none\" stroke=\"black\" d=\"M298.19,-128.5C306.38,-128.5 315.99,-128.5 326.3,-128.5\"/>\n<polygon fill=\"black\" stroke=\"black\" points=\"326.38,-132 336.38,-128.5 326.38,-125 326.38,-132\"/>\n</g>\n<!-- 140580392205136 -->\n<g id=\"node9\" class=\"node\">\n<title>140580392205136</title>\n<polygon fill=\"none\" stroke=\"black\" points=\"689,-27.5 689,-63.5 882,-63.5 882,-27.5 689,-27.5\"/>\n<text text-anchor=\"middle\" x=\"700.5\" y=\"-41.8\" font-family=\"Times,serif\" font-size=\"14.00\">b</text>\n<polyline fill=\"none\" stroke=\"black\" points=\"712,-27.5 712,-63.5 \"/>\n<text text-anchor=\"middle\" x=\"754\" y=\"-41.8\" font-family=\"Times,serif\" font-size=\"14.00\">data: 6.8814</text>\n<polyline fill=\"none\" stroke=\"black\" points=\"796,-27.5 796,-63.5 \"/>\n<text text-anchor=\"middle\" x=\"839\" y=\"-41.8\" font-family=\"Times,serif\" font-size=\"14.00\">grad: 0.0000</text>\n</g>\n<!-- 140580392205136&#45;&gt;140580403229072+ -->\n<g id=\"edge7\" class=\"edge\">\n<title>140580392205136&#45;&gt;140580403229072+</title>\n<path fill=\"none\" stroke=\"black\" d=\"M882.07,-60.81C895.36,-62.94 908.26,-65.01 919.43,-66.8\"/>\n<polygon fill=\"black\" stroke=\"black\" points=\"919.13,-70.3 929.55,-68.42 920.23,-63.38 919.13,-70.3\"/>\n</g>\n<!-- 140580403229072 -->\n<g id=\"node10\" class=\"node\">\n<title>140580403229072</title>\n<polygon fill=\"none\" stroke=\"black\" points=\"1019,-54.5 1019,-90.5 1233,-90.5 1233,-54.5 1019,-54.5\"/>\n<text text-anchor=\"middle\" x=\"1041\" y=\"-68.8\" font-family=\"Times,serif\" font-size=\"14.00\">body</text>\n<polyline fill=\"none\" stroke=\"black\" points=\"1063,-54.5 1063,-90.5 \"/>\n<text text-anchor=\"middle\" x=\"1105\" y=\"-68.8\" font-family=\"Times,serif\" font-size=\"14.00\">data: 0.8814</text>\n<polyline fill=\"none\" stroke=\"black\" points=\"1147,-54.5 1147,-90.5 \"/>\n<text text-anchor=\"middle\" x=\"1190\" y=\"-68.8\" font-family=\"Times,serif\" font-size=\"14.00\">grad: 0.0000</text>\n</g>\n<!-- 140580403229072&#45;&gt;140580403231760tanh -->\n<g id=\"edge11\" class=\"edge\">\n<title>140580403229072&#45;&gt;140580403231760tanh</title>\n<path fill=\"none\" stroke=\"black\" d=\"M1233.4,-72.5C1242.35,-72.5 1250.94,-72.5 1258.71,-72.5\"/>\n<polygon fill=\"black\" stroke=\"black\" points=\"1258.76,-76 1268.76,-72.5 1258.76,-69 1258.76,-76\"/>\n</g>\n<!-- 140580403229072+&#45;&gt;140580403229072 -->\n<g id=\"edge4\" class=\"edge\">\n<title>140580403229072+&#45;&gt;140580403229072</title>\n<path fill=\"none\" stroke=\"black\" d=\"M983.25,-72.5C990.7,-72.5 999.34,-72.5 1008.59,-72.5\"/>\n<polygon fill=\"black\" stroke=\"black\" points=\"1008.84,-76 1018.84,-72.5 1008.84,-69 1008.84,-76\"/>\n</g>\n<!-- 140580392205184 -->\n<g id=\"node12\" class=\"node\">\n<title>140580392205184</title>\n<polygon fill=\"none\" stroke=\"black\" points=\"0,-55.5 0,-91.5 208,-91.5 208,-55.5 0,-55.5\"/>\n<text text-anchor=\"middle\" x=\"16.5\" y=\"-69.8\" font-family=\"Times,serif\" font-size=\"14.00\">w1</text>\n<polyline fill=\"none\" stroke=\"black\" points=\"33,-55.5 33,-91.5 \"/>\n<text text-anchor=\"middle\" x=\"77.5\" y=\"-69.8\" font-family=\"Times,serif\" font-size=\"14.00\">data: &#45;3.0000</text>\n<polyline fill=\"none\" stroke=\"black\" points=\"122,-55.5 122,-91.5 \"/>\n<text text-anchor=\"middle\" x=\"165\" y=\"-69.8\" font-family=\"Times,serif\" font-size=\"14.00\">grad: 0.0000</text>\n</g>\n<!-- 140580392205712* -->\n<g id=\"node14\" class=\"node\">\n<title>140580392205712*</title>\n<ellipse fill=\"none\" stroke=\"black\" cx=\"271\" cy=\"-73.5\" rx=\"27\" ry=\"18\"/>\n<text text-anchor=\"middle\" x=\"271\" y=\"-69.8\" font-family=\"Times,serif\" font-size=\"14.00\">*</text>\n</g>\n<!-- 140580392205184&#45;&gt;140580392205712* -->\n<g id=\"edge13\" class=\"edge\">\n<title>140580392205184&#45;&gt;140580392205712*</title>\n<path fill=\"none\" stroke=\"black\" d=\"M208.09,-73.5C217.14,-73.5 225.83,-73.5 233.7,-73.5\"/>\n<polygon fill=\"black\" stroke=\"black\" points=\"233.87,-77 243.87,-73.5 233.87,-70 233.87,-77\"/>\n</g>\n<!-- 140580392205712 -->\n<g id=\"node13\" class=\"node\">\n<title>140580392205712</title>\n<polygon fill=\"none\" stroke=\"black\" points=\"334,-55.5 334,-91.5 552,-91.5 552,-55.5 334,-55.5\"/>\n<text text-anchor=\"middle\" x=\"355.5\" y=\"-69.8\" font-family=\"Times,serif\" font-size=\"14.00\">den1</text>\n<polyline fill=\"none\" stroke=\"black\" points=\"377,-55.5 377,-91.5 \"/>\n<text text-anchor=\"middle\" x=\"421.5\" y=\"-69.8\" font-family=\"Times,serif\" font-size=\"14.00\">data: &#45;6.0000</text>\n<polyline fill=\"none\" stroke=\"black\" points=\"466,-55.5 466,-91.5 \"/>\n<text text-anchor=\"middle\" x=\"509\" y=\"-69.8\" font-family=\"Times,serif\" font-size=\"14.00\">grad: 0.0000</text>\n</g>\n<!-- 140580392205712&#45;&gt;140580403230896+ -->\n<g id=\"edge14\" class=\"edge\">\n<title>140580392205712&#45;&gt;140580403230896+</title>\n<path fill=\"none\" stroke=\"black\" d=\"M552.15,-90.68C561.52,-92.17 570.5,-93.59 578.56,-94.87\"/>\n<polygon fill=\"black\" stroke=\"black\" points=\"578.16,-98.35 588.58,-96.46 579.26,-91.44 578.16,-98.35\"/>\n</g>\n<!-- 140580392205712*&#45;&gt;140580392205712 -->\n<g id=\"edge5\" class=\"edge\">\n<title>140580392205712*&#45;&gt;140580392205712</title>\n<path fill=\"none\" stroke=\"black\" d=\"M298.19,-73.5C305.65,-73.5 314.28,-73.5 323.56,-73.5\"/>\n<polygon fill=\"black\" stroke=\"black\" points=\"323.84,-77 333.84,-73.5 323.84,-70 323.84,-77\"/>\n</g>\n<!-- 140580392205232 -->\n<g id=\"node15\" class=\"node\">\n<title>140580392205232</title>\n<polygon fill=\"none\" stroke=\"black\" points=\"4,-0.5 4,-36.5 204,-36.5 204,-0.5 4,-0.5\"/>\n<text text-anchor=\"middle\" x=\"19\" y=\"-14.8\" font-family=\"Times,serif\" font-size=\"14.00\">x1</text>\n<polyline fill=\"none\" stroke=\"black\" points=\"34,-0.5 34,-36.5 \"/>\n<text text-anchor=\"middle\" x=\"76\" y=\"-14.8\" font-family=\"Times,serif\" font-size=\"14.00\">data: 2.0000</text>\n<polyline fill=\"none\" stroke=\"black\" points=\"118,-0.5 118,-36.5 \"/>\n<text text-anchor=\"middle\" x=\"161\" y=\"-14.8\" font-family=\"Times,serif\" font-size=\"14.00\">grad: 0.0000</text>\n</g>\n<!-- 140580392205232&#45;&gt;140580392205712* -->\n<g id=\"edge6\" class=\"edge\">\n<title>140580392205232&#45;&gt;140580392205712*</title>\n<path fill=\"none\" stroke=\"black\" d=\"M179.99,-36.58C189.49,-39.33 199.03,-42.32 208,-45.5 218.55,-49.23 229.78,-54.04 239.74,-58.61\"/>\n<polygon fill=\"black\" stroke=\"black\" points=\"238.3,-61.8 248.84,-62.88 241.28,-55.46 238.3,-61.8\"/>\n</g>\n</g>\n</svg>\n",
            "text/plain": [
              "<graphviz.graphs.Digraph at 0x7fdb6cff3640>"
            ]
          },
          "metadata": {},
          "execution_count": 17
        }
      ]
    },
    {
      "cell_type": "code",
      "source": [
        "# now let's automate filling in the grads\n",
        "\n",
        "# base case\n",
        "out.grad = 1.0\n",
        "\n",
        "# then we build the topological order\n",
        "topo = topological_sort(out)\n",
        "\n",
        "# and then traverse backwards, calling _backward() on the way\n",
        "for node in reversed(topo):\n",
        "    node._backward()\n",
        "\n",
        "# let's see the result\n",
        "draw_dot(out)"
      ],
      "metadata": {
        "colab": {
          "base_uri": "https://localhost:8080/",
          "height": 322
        },
        "id": "a7wHOT8DlqUe",
        "outputId": "6a899b6e-5780-47d3-bb8e-988e34e2faaf"
      },
      "execution_count": 18,
      "outputs": [
        {
          "output_type": "execute_result",
          "data": {
            "image/svg+xml": "<?xml version=\"1.0\" encoding=\"UTF-8\" standalone=\"no\"?>\n<!DOCTYPE svg PUBLIC \"-//W3C//DTD SVG 1.1//EN\"\n \"http://www.w3.org/Graphics/SVG/1.1/DTD/svg11.dtd\">\n<!-- Generated by graphviz version 2.43.0 (0)\n -->\n<!-- Title: %3 Pages: 1 -->\n<svg width=\"1571pt\" height=\"210pt\"\n viewBox=\"0.00 0.00 1571.00 210.00\" xmlns=\"http://www.w3.org/2000/svg\" xmlns:xlink=\"http://www.w3.org/1999/xlink\">\n<g id=\"graph0\" class=\"graph\" transform=\"scale(1 1) rotate(0) translate(4 206)\">\n<title>%3</title>\n<polygon fill=\"white\" stroke=\"transparent\" points=\"-4,4 -4,-206 1567,-206 1567,4 -4,4\"/>\n<!-- 140580403231760 -->\n<g id=\"node1\" class=\"node\">\n<title>140580403231760</title>\n<polygon fill=\"none\" stroke=\"black\" points=\"1359,-54.5 1359,-90.5 1563,-90.5 1563,-54.5 1359,-54.5\"/>\n<text text-anchor=\"middle\" x=\"1376\" y=\"-68.8\" font-family=\"Times,serif\" font-size=\"14.00\">out</text>\n<polyline fill=\"none\" stroke=\"black\" points=\"1393,-54.5 1393,-90.5 \"/>\n<text text-anchor=\"middle\" x=\"1435\" y=\"-68.8\" font-family=\"Times,serif\" font-size=\"14.00\">data: 0.7071</text>\n<polyline fill=\"none\" stroke=\"black\" points=\"1477,-54.5 1477,-90.5 \"/>\n<text text-anchor=\"middle\" x=\"1520\" y=\"-68.8\" font-family=\"Times,serif\" font-size=\"14.00\">grad: 1.0000</text>\n</g>\n<!-- 140580403231760tanh -->\n<g id=\"node2\" class=\"node\">\n<title>140580403231760tanh</title>\n<ellipse fill=\"none\" stroke=\"black\" cx=\"1296\" cy=\"-72.5\" rx=\"27\" ry=\"18\"/>\n<text text-anchor=\"middle\" x=\"1296\" y=\"-68.8\" font-family=\"Times,serif\" font-size=\"14.00\">tanh</text>\n</g>\n<!-- 140580403231760tanh&#45;&gt;140580403231760 -->\n<g id=\"edge1\" class=\"edge\">\n<title>140580403231760tanh&#45;&gt;140580403231760</title>\n<path fill=\"none\" stroke=\"black\" d=\"M1323.19,-72.5C1330.66,-72.5 1339.3,-72.5 1348.54,-72.5\"/>\n<polygon fill=\"black\" stroke=\"black\" points=\"1348.77,-76 1358.77,-72.5 1348.77,-69 1348.77,-76\"/>\n</g>\n<!-- 140580403230896 -->\n<g id=\"node3\" class=\"node\">\n<title>140580403230896</title>\n<polygon fill=\"none\" stroke=\"black\" points=\"678,-82.5 678,-118.5 893,-118.5 893,-82.5 678,-82.5\"/>\n<text text-anchor=\"middle\" x=\"698\" y=\"-96.8\" font-family=\"Times,serif\" font-size=\"14.00\">sum</text>\n<polyline fill=\"none\" stroke=\"black\" points=\"718,-82.5 718,-118.5 \"/>\n<text text-anchor=\"middle\" x=\"762.5\" y=\"-96.8\" font-family=\"Times,serif\" font-size=\"14.00\">data: &#45;6.0000</text>\n<polyline fill=\"none\" stroke=\"black\" points=\"807,-82.5 807,-118.5 \"/>\n<text text-anchor=\"middle\" x=\"850\" y=\"-96.8\" font-family=\"Times,serif\" font-size=\"14.00\">grad: 0.5000</text>\n</g>\n<!-- 140580403229072+ -->\n<g id=\"node11\" class=\"node\">\n<title>140580403229072+</title>\n<ellipse fill=\"none\" stroke=\"black\" cx=\"956\" cy=\"-72.5\" rx=\"27\" ry=\"18\"/>\n<text text-anchor=\"middle\" x=\"956\" y=\"-68.8\" font-family=\"Times,serif\" font-size=\"14.00\">+</text>\n</g>\n<!-- 140580403230896&#45;&gt;140580403229072+ -->\n<g id=\"edge8\" class=\"edge\">\n<title>140580403230896&#45;&gt;140580403229072+</title>\n<path fill=\"none\" stroke=\"black\" d=\"M893.21,-82.77C902.57,-81.21 911.52,-79.72 919.57,-78.39\"/>\n<polygon fill=\"black\" stroke=\"black\" points=\"920.3,-81.81 929.59,-76.72 919.15,-74.91 920.3,-81.81\"/>\n</g>\n<!-- 140580403230896+ -->\n<g id=\"node4\" class=\"node\">\n<title>140580403230896+</title>\n<ellipse fill=\"none\" stroke=\"black\" cx=\"615\" cy=\"-100.5\" rx=\"27\" ry=\"18\"/>\n<text text-anchor=\"middle\" x=\"615\" y=\"-96.8\" font-family=\"Times,serif\" font-size=\"14.00\">+</text>\n</g>\n<!-- 140580403230896+&#45;&gt;140580403230896 -->\n<g id=\"edge2\" class=\"edge\">\n<title>140580403230896+&#45;&gt;140580403230896</title>\n<path fill=\"none\" stroke=\"black\" d=\"M642.33,-100.5C649.74,-100.5 658.3,-100.5 667.49,-100.5\"/>\n<polygon fill=\"black\" stroke=\"black\" points=\"667.67,-104 677.67,-100.5 667.67,-97 667.67,-104\"/>\n</g>\n<!-- 140580392206000 -->\n<g id=\"node5\" class=\"node\">\n<title>140580392206000</title>\n<polygon fill=\"none\" stroke=\"black\" points=\"4,-165.5 4,-201.5 204,-201.5 204,-165.5 4,-165.5\"/>\n<text text-anchor=\"middle\" x=\"19\" y=\"-179.8\" font-family=\"Times,serif\" font-size=\"14.00\">x2</text>\n<polyline fill=\"none\" stroke=\"black\" points=\"34,-165.5 34,-201.5 \"/>\n<text text-anchor=\"middle\" x=\"76\" y=\"-179.8\" font-family=\"Times,serif\" font-size=\"14.00\">data: 0.0000</text>\n<polyline fill=\"none\" stroke=\"black\" points=\"118,-165.5 118,-201.5 \"/>\n<text text-anchor=\"middle\" x=\"161\" y=\"-179.8\" font-family=\"Times,serif\" font-size=\"14.00\">grad: 0.5000</text>\n</g>\n<!-- 140580403229936* -->\n<g id=\"node8\" class=\"node\">\n<title>140580403229936*</title>\n<ellipse fill=\"none\" stroke=\"black\" cx=\"271\" cy=\"-128.5\" rx=\"27\" ry=\"18\"/>\n<text text-anchor=\"middle\" x=\"271\" y=\"-124.8\" font-family=\"Times,serif\" font-size=\"14.00\">*</text>\n</g>\n<!-- 140580392206000&#45;&gt;140580403229936* -->\n<g id=\"edge12\" class=\"edge\">\n<title>140580392206000&#45;&gt;140580403229936*</title>\n<path fill=\"none\" stroke=\"black\" d=\"M179.99,-165.42C189.49,-162.67 199.03,-159.68 208,-156.5 218.55,-152.77 229.78,-147.96 239.74,-143.39\"/>\n<polygon fill=\"black\" stroke=\"black\" points=\"241.28,-146.54 248.84,-139.12 238.3,-140.2 241.28,-146.54\"/>\n</g>\n<!-- 140580392206048 -->\n<g id=\"node6\" class=\"node\">\n<title>140580392206048</title>\n<polygon fill=\"none\" stroke=\"black\" points=\"2.5,-110.5 2.5,-146.5 205.5,-146.5 205.5,-110.5 2.5,-110.5\"/>\n<text text-anchor=\"middle\" x=\"19\" y=\"-124.8\" font-family=\"Times,serif\" font-size=\"14.00\">w2</text>\n<polyline fill=\"none\" stroke=\"black\" points=\"35.5,-110.5 35.5,-146.5 \"/>\n<text text-anchor=\"middle\" x=\"77.5\" y=\"-124.8\" font-family=\"Times,serif\" font-size=\"14.00\">data: 1.0000</text>\n<polyline fill=\"none\" stroke=\"black\" points=\"119.5,-110.5 119.5,-146.5 \"/>\n<text text-anchor=\"middle\" x=\"162.5\" y=\"-124.8\" font-family=\"Times,serif\" font-size=\"14.00\">grad: 0.0000</text>\n</g>\n<!-- 140580392206048&#45;&gt;140580403229936* -->\n<g id=\"edge10\" class=\"edge\">\n<title>140580392206048&#45;&gt;140580403229936*</title>\n<path fill=\"none\" stroke=\"black\" d=\"M205.73,-128.5C215.55,-128.5 225,-128.5 233.49,-128.5\"/>\n<polygon fill=\"black\" stroke=\"black\" points=\"233.7,-132 243.7,-128.5 233.7,-125 233.7,-132\"/>\n</g>\n<!-- 140580403229936 -->\n<g id=\"node7\" class=\"node\">\n<title>140580403229936</title>\n<polygon fill=\"none\" stroke=\"black\" points=\"336.5,-110.5 336.5,-146.5 549.5,-146.5 549.5,-110.5 336.5,-110.5\"/>\n<text text-anchor=\"middle\" x=\"358\" y=\"-124.8\" font-family=\"Times,serif\" font-size=\"14.00\">den2</text>\n<polyline fill=\"none\" stroke=\"black\" points=\"379.5,-110.5 379.5,-146.5 \"/>\n<text text-anchor=\"middle\" x=\"421.5\" y=\"-124.8\" font-family=\"Times,serif\" font-size=\"14.00\">data: 0.0000</text>\n<polyline fill=\"none\" stroke=\"black\" points=\"463.5,-110.5 463.5,-146.5 \"/>\n<text text-anchor=\"middle\" x=\"506.5\" y=\"-124.8\" font-family=\"Times,serif\" font-size=\"14.00\">grad: 0.5000</text>\n</g>\n<!-- 140580403229936&#45;&gt;140580403230896+ -->\n<g id=\"edge9\" class=\"edge\">\n<title>140580403229936&#45;&gt;140580403230896+</title>\n<path fill=\"none\" stroke=\"black\" d=\"M549.73,-111.09C560,-109.39 569.85,-107.77 578.61,-106.33\"/>\n<polygon fill=\"black\" stroke=\"black\" points=\"579.41,-109.74 588.71,-104.66 578.28,-102.84 579.41,-109.74\"/>\n</g>\n<!-- 140580403229936*&#45;&gt;140580403229936 -->\n<g id=\"edge3\" class=\"edge\">\n<title>140580403229936*&#45;&gt;140580403229936</title>\n<path fill=\"none\" stroke=\"black\" d=\"M298.19,-128.5C306.38,-128.5 315.99,-128.5 326.3,-128.5\"/>\n<polygon fill=\"black\" stroke=\"black\" points=\"326.38,-132 336.38,-128.5 326.38,-125 326.38,-132\"/>\n</g>\n<!-- 140580392205136 -->\n<g id=\"node9\" class=\"node\">\n<title>140580392205136</title>\n<polygon fill=\"none\" stroke=\"black\" points=\"689,-27.5 689,-63.5 882,-63.5 882,-27.5 689,-27.5\"/>\n<text text-anchor=\"middle\" x=\"700.5\" y=\"-41.8\" font-family=\"Times,serif\" font-size=\"14.00\">b</text>\n<polyline fill=\"none\" stroke=\"black\" points=\"712,-27.5 712,-63.5 \"/>\n<text text-anchor=\"middle\" x=\"754\" y=\"-41.8\" font-family=\"Times,serif\" font-size=\"14.00\">data: 6.8814</text>\n<polyline fill=\"none\" stroke=\"black\" points=\"796,-27.5 796,-63.5 \"/>\n<text text-anchor=\"middle\" x=\"839\" y=\"-41.8\" font-family=\"Times,serif\" font-size=\"14.00\">grad: 0.5000</text>\n</g>\n<!-- 140580392205136&#45;&gt;140580403229072+ -->\n<g id=\"edge7\" class=\"edge\">\n<title>140580392205136&#45;&gt;140580403229072+</title>\n<path fill=\"none\" stroke=\"black\" d=\"M882.07,-60.81C895.36,-62.94 908.26,-65.01 919.43,-66.8\"/>\n<polygon fill=\"black\" stroke=\"black\" points=\"919.13,-70.3 929.55,-68.42 920.23,-63.38 919.13,-70.3\"/>\n</g>\n<!-- 140580403229072 -->\n<g id=\"node10\" class=\"node\">\n<title>140580403229072</title>\n<polygon fill=\"none\" stroke=\"black\" points=\"1019,-54.5 1019,-90.5 1233,-90.5 1233,-54.5 1019,-54.5\"/>\n<text text-anchor=\"middle\" x=\"1041\" y=\"-68.8\" font-family=\"Times,serif\" font-size=\"14.00\">body</text>\n<polyline fill=\"none\" stroke=\"black\" points=\"1063,-54.5 1063,-90.5 \"/>\n<text text-anchor=\"middle\" x=\"1105\" y=\"-68.8\" font-family=\"Times,serif\" font-size=\"14.00\">data: 0.8814</text>\n<polyline fill=\"none\" stroke=\"black\" points=\"1147,-54.5 1147,-90.5 \"/>\n<text text-anchor=\"middle\" x=\"1190\" y=\"-68.8\" font-family=\"Times,serif\" font-size=\"14.00\">grad: 0.5000</text>\n</g>\n<!-- 140580403229072&#45;&gt;140580403231760tanh -->\n<g id=\"edge11\" class=\"edge\">\n<title>140580403229072&#45;&gt;140580403231760tanh</title>\n<path fill=\"none\" stroke=\"black\" d=\"M1233.4,-72.5C1242.35,-72.5 1250.94,-72.5 1258.71,-72.5\"/>\n<polygon fill=\"black\" stroke=\"black\" points=\"1258.76,-76 1268.76,-72.5 1258.76,-69 1258.76,-76\"/>\n</g>\n<!-- 140580403229072+&#45;&gt;140580403229072 -->\n<g id=\"edge4\" class=\"edge\">\n<title>140580403229072+&#45;&gt;140580403229072</title>\n<path fill=\"none\" stroke=\"black\" d=\"M983.25,-72.5C990.7,-72.5 999.34,-72.5 1008.59,-72.5\"/>\n<polygon fill=\"black\" stroke=\"black\" points=\"1008.84,-76 1018.84,-72.5 1008.84,-69 1008.84,-76\"/>\n</g>\n<!-- 140580392205184 -->\n<g id=\"node12\" class=\"node\">\n<title>140580392205184</title>\n<polygon fill=\"none\" stroke=\"black\" points=\"0,-55.5 0,-91.5 208,-91.5 208,-55.5 0,-55.5\"/>\n<text text-anchor=\"middle\" x=\"16.5\" y=\"-69.8\" font-family=\"Times,serif\" font-size=\"14.00\">w1</text>\n<polyline fill=\"none\" stroke=\"black\" points=\"33,-55.5 33,-91.5 \"/>\n<text text-anchor=\"middle\" x=\"77.5\" y=\"-69.8\" font-family=\"Times,serif\" font-size=\"14.00\">data: &#45;3.0000</text>\n<polyline fill=\"none\" stroke=\"black\" points=\"122,-55.5 122,-91.5 \"/>\n<text text-anchor=\"middle\" x=\"165\" y=\"-69.8\" font-family=\"Times,serif\" font-size=\"14.00\">grad: 1.0000</text>\n</g>\n<!-- 140580392205712* -->\n<g id=\"node14\" class=\"node\">\n<title>140580392205712*</title>\n<ellipse fill=\"none\" stroke=\"black\" cx=\"271\" cy=\"-73.5\" rx=\"27\" ry=\"18\"/>\n<text text-anchor=\"middle\" x=\"271\" y=\"-69.8\" font-family=\"Times,serif\" font-size=\"14.00\">*</text>\n</g>\n<!-- 140580392205184&#45;&gt;140580392205712* -->\n<g id=\"edge13\" class=\"edge\">\n<title>140580392205184&#45;&gt;140580392205712*</title>\n<path fill=\"none\" stroke=\"black\" d=\"M208.09,-73.5C217.14,-73.5 225.83,-73.5 233.7,-73.5\"/>\n<polygon fill=\"black\" stroke=\"black\" points=\"233.87,-77 243.87,-73.5 233.87,-70 233.87,-77\"/>\n</g>\n<!-- 140580392205712 -->\n<g id=\"node13\" class=\"node\">\n<title>140580392205712</title>\n<polygon fill=\"none\" stroke=\"black\" points=\"334,-55.5 334,-91.5 552,-91.5 552,-55.5 334,-55.5\"/>\n<text text-anchor=\"middle\" x=\"355.5\" y=\"-69.8\" font-family=\"Times,serif\" font-size=\"14.00\">den1</text>\n<polyline fill=\"none\" stroke=\"black\" points=\"377,-55.5 377,-91.5 \"/>\n<text text-anchor=\"middle\" x=\"421.5\" y=\"-69.8\" font-family=\"Times,serif\" font-size=\"14.00\">data: &#45;6.0000</text>\n<polyline fill=\"none\" stroke=\"black\" points=\"466,-55.5 466,-91.5 \"/>\n<text text-anchor=\"middle\" x=\"509\" y=\"-69.8\" font-family=\"Times,serif\" font-size=\"14.00\">grad: 0.5000</text>\n</g>\n<!-- 140580392205712&#45;&gt;140580403230896+ -->\n<g id=\"edge14\" class=\"edge\">\n<title>140580392205712&#45;&gt;140580403230896+</title>\n<path fill=\"none\" stroke=\"black\" d=\"M552.15,-90.68C561.52,-92.17 570.5,-93.59 578.56,-94.87\"/>\n<polygon fill=\"black\" stroke=\"black\" points=\"578.16,-98.35 588.58,-96.46 579.26,-91.44 578.16,-98.35\"/>\n</g>\n<!-- 140580392205712*&#45;&gt;140580392205712 -->\n<g id=\"edge5\" class=\"edge\">\n<title>140580392205712*&#45;&gt;140580392205712</title>\n<path fill=\"none\" stroke=\"black\" d=\"M298.19,-73.5C305.65,-73.5 314.28,-73.5 323.56,-73.5\"/>\n<polygon fill=\"black\" stroke=\"black\" points=\"323.84,-77 333.84,-73.5 323.84,-70 323.84,-77\"/>\n</g>\n<!-- 140580392205232 -->\n<g id=\"node15\" class=\"node\">\n<title>140580392205232</title>\n<polygon fill=\"none\" stroke=\"black\" points=\"2,-0.5 2,-36.5 206,-36.5 206,-0.5 2,-0.5\"/>\n<text text-anchor=\"middle\" x=\"17\" y=\"-14.8\" font-family=\"Times,serif\" font-size=\"14.00\">x1</text>\n<polyline fill=\"none\" stroke=\"black\" points=\"32,-0.5 32,-36.5 \"/>\n<text text-anchor=\"middle\" x=\"74\" y=\"-14.8\" font-family=\"Times,serif\" font-size=\"14.00\">data: 2.0000</text>\n<polyline fill=\"none\" stroke=\"black\" points=\"116,-0.5 116,-36.5 \"/>\n<text text-anchor=\"middle\" x=\"161\" y=\"-14.8\" font-family=\"Times,serif\" font-size=\"14.00\">grad: &#45;1.5000</text>\n</g>\n<!-- 140580392205232&#45;&gt;140580392205712* -->\n<g id=\"edge6\" class=\"edge\">\n<title>140580392205232&#45;&gt;140580392205712*</title>\n<path fill=\"none\" stroke=\"black\" d=\"M179.99,-36.58C189.49,-39.33 199.03,-42.32 208,-45.5 218.55,-49.23 229.78,-54.04 239.74,-58.61\"/>\n<polygon fill=\"black\" stroke=\"black\" points=\"238.3,-61.8 248.84,-62.88 241.28,-55.46 238.3,-61.8\"/>\n</g>\n</g>\n</svg>\n",
            "text/plain": [
              "<graphviz.graphs.Digraph at 0x7fdb6c56f640>"
            ]
          },
          "metadata": {},
          "execution_count": 18
        }
      ]
    },
    {
      "cell_type": "code",
      "source": [
        "# and... BOOM! it's done!"
      ],
      "metadata": {
        "id": "Ivlu5febmbz_"
      },
      "execution_count": 19,
      "outputs": []
    },
    {
      "cell_type": "code",
      "source": [
        "# let's redefine our Value class hiding this inside a backward() function:\n",
        "\n",
        "class Value:\n",
        "    \"\"\" stores a single scalar value and its gradient \"\"\"\n",
        "\n",
        "    def __init__(self, data, _children=(), _op='', label=''):\n",
        "        self.data = data\n",
        "        self.label = label  # optional, Value variable/node name\n",
        "        self.grad = 0.0     # initially, the grad be zero (means no effect on output)\n",
        "\n",
        "        # internal variables used for autograd graph construction\n",
        "        self._prev = set(_children)     # previous node\n",
        "        self._op = _op                  # the operation that produced this node\n",
        "        self._backward = lambda: None   # to do the little piece of chain rule at each local node, backwards\n",
        "                                        # by default _backward is None, as there is nothing to do at a leaf node\n",
        "\n",
        "    def __repr__(self):\n",
        "        return f\"Value(data={self.data})\"\n",
        "\n",
        "    def __add__(self, other):\n",
        "        out = Value(self.data + other.data, (self, other), '+')\n",
        "\n",
        "        def _backward():\n",
        "            # local derivative (= 1.0) * out's grad\n",
        "            self.grad = 1.0 * out.grad\n",
        "            other.grad = 1.0 * out.grad\n",
        "        out._backward = _backward\n",
        "\n",
        "        return out\n",
        "    \n",
        "    def __mul__(self, other):\n",
        "        out = Value(self.data * other.data, (self, other), '*')\n",
        "\n",
        "        def _backward():\n",
        "            # local derivative (= switching the data of leaf nodes) * out's grad\n",
        "            self.grad = other.data * out.grad\n",
        "            other.grad = self.data * out.grad\n",
        "        out._backward = _backward\n",
        "\n",
        "        return out\n",
        "    \n",
        "    def tanh(self):\n",
        "        x = self.data\n",
        "        t = (math.exp(2*x) - 1) / (math.exp(2*x) + 1)\n",
        "        out = Value(t, (self, ), 'tanh')\n",
        "\n",
        "        def _backward():\n",
        "            # local derivative of tanh (1 - tanh(x)**2) * out's grad\n",
        "            self.grad = (1 - t**2) * out.grad\n",
        "        out._backward = _backward\n",
        "\n",
        "        return out\n",
        "    \n",
        "    def backward(self):\n",
        "        # our topological sort function\n",
        "        def topological_sort(node):\n",
        "            topo = []\n",
        "            visited = set()\n",
        "            def build_topo(v):\n",
        "                if v not in visited:\n",
        "                    visited.add(v)\n",
        "                    for child in v._prev:\n",
        "                        build_topo(child)\n",
        "                    topo.append(v)\n",
        "            build_topo(node)\n",
        "            return topo\n",
        "\n",
        "        # base case\n",
        "        self.grad = 1.0\n",
        "\n",
        "        # and then traverse backwards, calling _backward() on the way\n",
        "        for node in reversed(topological_sort(self)):\n",
        "            node._backward()"
      ],
      "metadata": {
        "id": "TIHvWMN_mhR0"
      },
      "execution_count": 20,
      "outputs": []
    },
    {
      "cell_type": "code",
      "source": [
        "# let's test it out"
      ],
      "metadata": {
        "id": "VwTFDEm3nm6b"
      },
      "execution_count": 21,
      "outputs": []
    },
    {
      "cell_type": "code",
      "source": [
        "# let's reset the grads\n",
        "x1 = Value(2.0, label='x1')\n",
        "x2 = Value(0.0, label='x2')\n",
        "w1 = Value(-3.0, label='w1')\n",
        "w2 = Value(1.0, label='w2')\n",
        "b = Value(6.8813735870195432, label='b')\n",
        "den1 = x1 * w1;     den1.label='den1'\n",
        "den2 = x2 * w2;     den2.label='den2'\n",
        "sum = den1 + den2;  sum.label='sum'\n",
        "body = sum + b;     body.label='body'\n",
        "out = body.tanh();  out.label='out'\n",
        "\n",
        "# let's take a look\n",
        "draw_dot(out)"
      ],
      "metadata": {
        "colab": {
          "base_uri": "https://localhost:8080/",
          "height": 322
        },
        "id": "HfQvmsLhnm90",
        "outputId": "57edc4ee-706c-4ac6-cf0c-a49212f79659"
      },
      "execution_count": 22,
      "outputs": [
        {
          "output_type": "execute_result",
          "data": {
            "image/svg+xml": "<?xml version=\"1.0\" encoding=\"UTF-8\" standalone=\"no\"?>\n<!DOCTYPE svg PUBLIC \"-//W3C//DTD SVG 1.1//EN\"\n \"http://www.w3.org/Graphics/SVG/1.1/DTD/svg11.dtd\">\n<!-- Generated by graphviz version 2.43.0 (0)\n -->\n<!-- Title: %3 Pages: 1 -->\n<svg width=\"1571pt\" height=\"210pt\"\n viewBox=\"0.00 0.00 1571.00 210.00\" xmlns=\"http://www.w3.org/2000/svg\" xmlns:xlink=\"http://www.w3.org/1999/xlink\">\n<g id=\"graph0\" class=\"graph\" transform=\"scale(1 1) rotate(0) translate(4 206)\">\n<title>%3</title>\n<polygon fill=\"white\" stroke=\"transparent\" points=\"-4,4 -4,-206 1567,-206 1567,4 -4,4\"/>\n<!-- 140580392586736 -->\n<g id=\"node1\" class=\"node\">\n<title>140580392586736</title>\n<polygon fill=\"none\" stroke=\"black\" points=\"334,-55.5 334,-91.5 552,-91.5 552,-55.5 334,-55.5\"/>\n<text text-anchor=\"middle\" x=\"355.5\" y=\"-69.8\" font-family=\"Times,serif\" font-size=\"14.00\">den1</text>\n<polyline fill=\"none\" stroke=\"black\" points=\"377,-55.5 377,-91.5 \"/>\n<text text-anchor=\"middle\" x=\"421.5\" y=\"-69.8\" font-family=\"Times,serif\" font-size=\"14.00\">data: &#45;6.0000</text>\n<polyline fill=\"none\" stroke=\"black\" points=\"466,-55.5 466,-91.5 \"/>\n<text text-anchor=\"middle\" x=\"509\" y=\"-69.8\" font-family=\"Times,serif\" font-size=\"14.00\">grad: 0.0000</text>\n</g>\n<!-- 140580392586160+ -->\n<g id=\"node14\" class=\"node\">\n<title>140580392586160+</title>\n<ellipse fill=\"none\" stroke=\"black\" cx=\"615\" cy=\"-100.5\" rx=\"27\" ry=\"18\"/>\n<text text-anchor=\"middle\" x=\"615\" y=\"-96.8\" font-family=\"Times,serif\" font-size=\"14.00\">+</text>\n</g>\n<!-- 140580392586736&#45;&gt;140580392586160+ -->\n<g id=\"edge14\" class=\"edge\">\n<title>140580392586736&#45;&gt;140580392586160+</title>\n<path fill=\"none\" stroke=\"black\" d=\"M552.15,-90.68C561.52,-92.17 570.5,-93.59 578.56,-94.87\"/>\n<polygon fill=\"black\" stroke=\"black\" points=\"578.16,-98.35 588.58,-96.46 579.26,-91.44 578.16,-98.35\"/>\n</g>\n<!-- 140580392586736* -->\n<g id=\"node2\" class=\"node\">\n<title>140580392586736*</title>\n<ellipse fill=\"none\" stroke=\"black\" cx=\"271\" cy=\"-73.5\" rx=\"27\" ry=\"18\"/>\n<text text-anchor=\"middle\" x=\"271\" y=\"-69.8\" font-family=\"Times,serif\" font-size=\"14.00\">*</text>\n</g>\n<!-- 140580392586736*&#45;&gt;140580392586736 -->\n<g id=\"edge1\" class=\"edge\">\n<title>140580392586736*&#45;&gt;140580392586736</title>\n<path fill=\"none\" stroke=\"black\" d=\"M298.19,-73.5C305.65,-73.5 314.28,-73.5 323.56,-73.5\"/>\n<polygon fill=\"black\" stroke=\"black\" points=\"323.84,-77 333.84,-73.5 323.84,-70 323.84,-77\"/>\n</g>\n<!-- 140580392261664 -->\n<g id=\"node3\" class=\"node\">\n<title>140580392261664</title>\n<polygon fill=\"none\" stroke=\"black\" points=\"4,-55.5 4,-91.5 204,-91.5 204,-55.5 4,-55.5\"/>\n<text text-anchor=\"middle\" x=\"19\" y=\"-69.8\" font-family=\"Times,serif\" font-size=\"14.00\">x1</text>\n<polyline fill=\"none\" stroke=\"black\" points=\"34,-55.5 34,-91.5 \"/>\n<text text-anchor=\"middle\" x=\"76\" y=\"-69.8\" font-family=\"Times,serif\" font-size=\"14.00\">data: 2.0000</text>\n<polyline fill=\"none\" stroke=\"black\" points=\"118,-55.5 118,-91.5 \"/>\n<text text-anchor=\"middle\" x=\"161\" y=\"-69.8\" font-family=\"Times,serif\" font-size=\"14.00\">grad: 0.0000</text>\n</g>\n<!-- 140580392261664&#45;&gt;140580392586736* -->\n<g id=\"edge12\" class=\"edge\">\n<title>140580392261664&#45;&gt;140580392586736*</title>\n<path fill=\"none\" stroke=\"black\" d=\"M204.31,-73.5C214.81,-73.5 224.93,-73.5 233.95,-73.5\"/>\n<polygon fill=\"black\" stroke=\"black\" points=\"233.99,-77 243.99,-73.5 233.99,-70 233.99,-77\"/>\n</g>\n<!-- 140580392261712 -->\n<g id=\"node4\" class=\"node\">\n<title>140580392261712</title>\n<polygon fill=\"none\" stroke=\"black\" points=\"0,-0.5 0,-36.5 208,-36.5 208,-0.5 0,-0.5\"/>\n<text text-anchor=\"middle\" x=\"16.5\" y=\"-14.8\" font-family=\"Times,serif\" font-size=\"14.00\">w1</text>\n<polyline fill=\"none\" stroke=\"black\" points=\"33,-0.5 33,-36.5 \"/>\n<text text-anchor=\"middle\" x=\"77.5\" y=\"-14.8\" font-family=\"Times,serif\" font-size=\"14.00\">data: &#45;3.0000</text>\n<polyline fill=\"none\" stroke=\"black\" points=\"122,-0.5 122,-36.5 \"/>\n<text text-anchor=\"middle\" x=\"165\" y=\"-14.8\" font-family=\"Times,serif\" font-size=\"14.00\">grad: 0.0000</text>\n</g>\n<!-- 140580392261712&#45;&gt;140580392586736* -->\n<g id=\"edge9\" class=\"edge\">\n<title>140580392261712&#45;&gt;140580392586736*</title>\n<path fill=\"none\" stroke=\"black\" d=\"M176.61,-36.52C187.22,-39.61 197.95,-42.97 208,-46.5 218.3,-50.12 229.3,-54.67 239.13,-59.01\"/>\n<polygon fill=\"black\" stroke=\"black\" points=\"237.95,-62.31 248.5,-63.22 240.82,-55.93 237.95,-62.31\"/>\n</g>\n<!-- 140580392261760 -->\n<g id=\"node5\" class=\"node\">\n<title>140580392261760</title>\n<polygon fill=\"none\" stroke=\"black\" points=\"2.5,-165.5 2.5,-201.5 205.5,-201.5 205.5,-165.5 2.5,-165.5\"/>\n<text text-anchor=\"middle\" x=\"19\" y=\"-179.8\" font-family=\"Times,serif\" font-size=\"14.00\">w2</text>\n<polyline fill=\"none\" stroke=\"black\" points=\"35.5,-165.5 35.5,-201.5 \"/>\n<text text-anchor=\"middle\" x=\"77.5\" y=\"-179.8\" font-family=\"Times,serif\" font-size=\"14.00\">data: 1.0000</text>\n<polyline fill=\"none\" stroke=\"black\" points=\"119.5,-165.5 119.5,-201.5 \"/>\n<text text-anchor=\"middle\" x=\"162.5\" y=\"-179.8\" font-family=\"Times,serif\" font-size=\"14.00\">grad: 0.0000</text>\n</g>\n<!-- 140580392586640* -->\n<g id=\"node12\" class=\"node\">\n<title>140580392586640*</title>\n<ellipse fill=\"none\" stroke=\"black\" cx=\"271\" cy=\"-128.5\" rx=\"27\" ry=\"18\"/>\n<text text-anchor=\"middle\" x=\"271\" y=\"-124.8\" font-family=\"Times,serif\" font-size=\"14.00\">*</text>\n</g>\n<!-- 140580392261760&#45;&gt;140580392586640* -->\n<g id=\"edge8\" class=\"edge\">\n<title>140580392261760&#45;&gt;140580392586640*</title>\n<path fill=\"none\" stroke=\"black\" d=\"M179.99,-165.42C189.49,-162.67 199.03,-159.68 208,-156.5 218.55,-152.77 229.78,-147.96 239.74,-143.39\"/>\n<polygon fill=\"black\" stroke=\"black\" points=\"241.28,-146.54 248.84,-139.12 238.3,-140.2 241.28,-146.54\"/>\n</g>\n<!-- 140580392261808 -->\n<g id=\"node6\" class=\"node\">\n<title>140580392261808</title>\n<polygon fill=\"none\" stroke=\"black\" points=\"689,-137.5 689,-173.5 882,-173.5 882,-137.5 689,-137.5\"/>\n<text text-anchor=\"middle\" x=\"700.5\" y=\"-151.8\" font-family=\"Times,serif\" font-size=\"14.00\">b</text>\n<polyline fill=\"none\" stroke=\"black\" points=\"712,-137.5 712,-173.5 \"/>\n<text text-anchor=\"middle\" x=\"754\" y=\"-151.8\" font-family=\"Times,serif\" font-size=\"14.00\">data: 6.8814</text>\n<polyline fill=\"none\" stroke=\"black\" points=\"796,-137.5 796,-173.5 \"/>\n<text text-anchor=\"middle\" x=\"839\" y=\"-151.8\" font-family=\"Times,serif\" font-size=\"14.00\">grad: 0.0000</text>\n</g>\n<!-- 140580392585968+ -->\n<g id=\"node8\" class=\"node\">\n<title>140580392585968+</title>\n<ellipse fill=\"none\" stroke=\"black\" cx=\"956\" cy=\"-127.5\" rx=\"27\" ry=\"18\"/>\n<text text-anchor=\"middle\" x=\"956\" y=\"-123.8\" font-family=\"Times,serif\" font-size=\"14.00\">+</text>\n</g>\n<!-- 140580392261808&#45;&gt;140580392585968+ -->\n<g id=\"edge13\" class=\"edge\">\n<title>140580392261808&#45;&gt;140580392585968+</title>\n<path fill=\"none\" stroke=\"black\" d=\"M882.07,-139.62C895.36,-137.41 908.26,-135.27 919.43,-133.41\"/>\n<polygon fill=\"black\" stroke=\"black\" points=\"920.26,-136.82 929.55,-131.73 919.12,-129.92 920.26,-136.82\"/>\n</g>\n<!-- 140580392585968 -->\n<g id=\"node7\" class=\"node\">\n<title>140580392585968</title>\n<polygon fill=\"none\" stroke=\"black\" points=\"1019,-109.5 1019,-145.5 1233,-145.5 1233,-109.5 1019,-109.5\"/>\n<text text-anchor=\"middle\" x=\"1041\" y=\"-123.8\" font-family=\"Times,serif\" font-size=\"14.00\">body</text>\n<polyline fill=\"none\" stroke=\"black\" points=\"1063,-109.5 1063,-145.5 \"/>\n<text text-anchor=\"middle\" x=\"1105\" y=\"-123.8\" font-family=\"Times,serif\" font-size=\"14.00\">data: 0.8814</text>\n<polyline fill=\"none\" stroke=\"black\" points=\"1147,-109.5 1147,-145.5 \"/>\n<text text-anchor=\"middle\" x=\"1190\" y=\"-123.8\" font-family=\"Times,serif\" font-size=\"14.00\">grad: 0.0000</text>\n</g>\n<!-- 140580403232576tanh -->\n<g id=\"node10\" class=\"node\">\n<title>140580403232576tanh</title>\n<ellipse fill=\"none\" stroke=\"black\" cx=\"1296\" cy=\"-127.5\" rx=\"27\" ry=\"18\"/>\n<text text-anchor=\"middle\" x=\"1296\" y=\"-123.8\" font-family=\"Times,serif\" font-size=\"14.00\">tanh</text>\n</g>\n<!-- 140580392585968&#45;&gt;140580403232576tanh -->\n<g id=\"edge10\" class=\"edge\">\n<title>140580392585968&#45;&gt;140580403232576tanh</title>\n<path fill=\"none\" stroke=\"black\" d=\"M1233.4,-127.5C1242.35,-127.5 1250.94,-127.5 1258.71,-127.5\"/>\n<polygon fill=\"black\" stroke=\"black\" points=\"1258.76,-131 1268.76,-127.5 1258.76,-124 1258.76,-131\"/>\n</g>\n<!-- 140580392585968+&#45;&gt;140580392585968 -->\n<g id=\"edge2\" class=\"edge\">\n<title>140580392585968+&#45;&gt;140580392585968</title>\n<path fill=\"none\" stroke=\"black\" d=\"M983.25,-127.5C990.7,-127.5 999.34,-127.5 1008.59,-127.5\"/>\n<polygon fill=\"black\" stroke=\"black\" points=\"1008.84,-131 1018.84,-127.5 1008.84,-124 1008.84,-131\"/>\n</g>\n<!-- 140580403232576 -->\n<g id=\"node9\" class=\"node\">\n<title>140580403232576</title>\n<polygon fill=\"none\" stroke=\"black\" points=\"1359,-109.5 1359,-145.5 1563,-145.5 1563,-109.5 1359,-109.5\"/>\n<text text-anchor=\"middle\" x=\"1376\" y=\"-123.8\" font-family=\"Times,serif\" font-size=\"14.00\">out</text>\n<polyline fill=\"none\" stroke=\"black\" points=\"1393,-109.5 1393,-145.5 \"/>\n<text text-anchor=\"middle\" x=\"1435\" y=\"-123.8\" font-family=\"Times,serif\" font-size=\"14.00\">data: 0.7071</text>\n<polyline fill=\"none\" stroke=\"black\" points=\"1477,-109.5 1477,-145.5 \"/>\n<text text-anchor=\"middle\" x=\"1520\" y=\"-123.8\" font-family=\"Times,serif\" font-size=\"14.00\">grad: 0.0000</text>\n</g>\n<!-- 140580403232576tanh&#45;&gt;140580403232576 -->\n<g id=\"edge3\" class=\"edge\">\n<title>140580403232576tanh&#45;&gt;140580403232576</title>\n<path fill=\"none\" stroke=\"black\" d=\"M1323.19,-127.5C1330.66,-127.5 1339.3,-127.5 1348.54,-127.5\"/>\n<polygon fill=\"black\" stroke=\"black\" points=\"1348.77,-131 1358.77,-127.5 1348.77,-124 1348.77,-131\"/>\n</g>\n<!-- 140580392586640 -->\n<g id=\"node11\" class=\"node\">\n<title>140580392586640</title>\n<polygon fill=\"none\" stroke=\"black\" points=\"336.5,-110.5 336.5,-146.5 549.5,-146.5 549.5,-110.5 336.5,-110.5\"/>\n<text text-anchor=\"middle\" x=\"358\" y=\"-124.8\" font-family=\"Times,serif\" font-size=\"14.00\">den2</text>\n<polyline fill=\"none\" stroke=\"black\" points=\"379.5,-110.5 379.5,-146.5 \"/>\n<text text-anchor=\"middle\" x=\"421.5\" y=\"-124.8\" font-family=\"Times,serif\" font-size=\"14.00\">data: 0.0000</text>\n<polyline fill=\"none\" stroke=\"black\" points=\"463.5,-110.5 463.5,-146.5 \"/>\n<text text-anchor=\"middle\" x=\"506.5\" y=\"-124.8\" font-family=\"Times,serif\" font-size=\"14.00\">grad: 0.0000</text>\n</g>\n<!-- 140580392586640&#45;&gt;140580392586160+ -->\n<g id=\"edge7\" class=\"edge\">\n<title>140580392586640&#45;&gt;140580392586160+</title>\n<path fill=\"none\" stroke=\"black\" d=\"M549.73,-111.09C560,-109.39 569.85,-107.77 578.61,-106.33\"/>\n<polygon fill=\"black\" stroke=\"black\" points=\"579.41,-109.74 588.71,-104.66 578.28,-102.84 579.41,-109.74\"/>\n</g>\n<!-- 140580392586640*&#45;&gt;140580392586640 -->\n<g id=\"edge4\" class=\"edge\">\n<title>140580392586640*&#45;&gt;140580392586640</title>\n<path fill=\"none\" stroke=\"black\" d=\"M298.19,-128.5C306.38,-128.5 315.99,-128.5 326.3,-128.5\"/>\n<polygon fill=\"black\" stroke=\"black\" points=\"326.38,-132 336.38,-128.5 326.38,-125 326.38,-132\"/>\n</g>\n<!-- 140580392586160 -->\n<g id=\"node13\" class=\"node\">\n<title>140580392586160</title>\n<polygon fill=\"none\" stroke=\"black\" points=\"678,-82.5 678,-118.5 893,-118.5 893,-82.5 678,-82.5\"/>\n<text text-anchor=\"middle\" x=\"698\" y=\"-96.8\" font-family=\"Times,serif\" font-size=\"14.00\">sum</text>\n<polyline fill=\"none\" stroke=\"black\" points=\"718,-82.5 718,-118.5 \"/>\n<text text-anchor=\"middle\" x=\"762.5\" y=\"-96.8\" font-family=\"Times,serif\" font-size=\"14.00\">data: &#45;6.0000</text>\n<polyline fill=\"none\" stroke=\"black\" points=\"807,-82.5 807,-118.5 \"/>\n<text text-anchor=\"middle\" x=\"850\" y=\"-96.8\" font-family=\"Times,serif\" font-size=\"14.00\">grad: 0.0000</text>\n</g>\n<!-- 140580392586160&#45;&gt;140580392585968+ -->\n<g id=\"edge6\" class=\"edge\">\n<title>140580392586160&#45;&gt;140580392585968+</title>\n<path fill=\"none\" stroke=\"black\" d=\"M893.21,-117.6C902.57,-119.1 911.52,-120.53 919.57,-121.82\"/>\n<polygon fill=\"black\" stroke=\"black\" points=\"919.16,-125.3 929.59,-123.43 920.27,-118.39 919.16,-125.3\"/>\n</g>\n<!-- 140580392586160+&#45;&gt;140580392586160 -->\n<g id=\"edge5\" class=\"edge\">\n<title>140580392586160+&#45;&gt;140580392586160</title>\n<path fill=\"none\" stroke=\"black\" d=\"M642.33,-100.5C649.74,-100.5 658.3,-100.5 667.49,-100.5\"/>\n<polygon fill=\"black\" stroke=\"black\" points=\"667.67,-104 677.67,-100.5 667.67,-97 667.67,-104\"/>\n</g>\n<!-- 140580392261616 -->\n<g id=\"node15\" class=\"node\">\n<title>140580392261616</title>\n<polygon fill=\"none\" stroke=\"black\" points=\"4,-110.5 4,-146.5 204,-146.5 204,-110.5 4,-110.5\"/>\n<text text-anchor=\"middle\" x=\"19\" y=\"-124.8\" font-family=\"Times,serif\" font-size=\"14.00\">x2</text>\n<polyline fill=\"none\" stroke=\"black\" points=\"34,-110.5 34,-146.5 \"/>\n<text text-anchor=\"middle\" x=\"76\" y=\"-124.8\" font-family=\"Times,serif\" font-size=\"14.00\">data: 0.0000</text>\n<polyline fill=\"none\" stroke=\"black\" points=\"118,-110.5 118,-146.5 \"/>\n<text text-anchor=\"middle\" x=\"161\" y=\"-124.8\" font-family=\"Times,serif\" font-size=\"14.00\">grad: 0.0000</text>\n</g>\n<!-- 140580392261616&#45;&gt;140580392586640* -->\n<g id=\"edge11\" class=\"edge\">\n<title>140580392261616&#45;&gt;140580392586640*</title>\n<path fill=\"none\" stroke=\"black\" d=\"M204.31,-128.5C214.81,-128.5 224.93,-128.5 233.95,-128.5\"/>\n<polygon fill=\"black\" stroke=\"black\" points=\"233.99,-132 243.99,-128.5 233.99,-125 233.99,-132\"/>\n</g>\n</g>\n</svg>\n",
            "text/plain": [
              "<graphviz.graphs.Digraph at 0x7fdb6cff3dc0>"
            ]
          },
          "metadata": {},
          "execution_count": 22
        }
      ]
    },
    {
      "cell_type": "code",
      "source": [
        "out.backward()\n",
        "draw_dot(out)"
      ],
      "metadata": {
        "colab": {
          "base_uri": "https://localhost:8080/",
          "height": 322
        },
        "id": "F8Zap55XnvK8",
        "outputId": "ad3b1085-086d-4e29-8364-d4eeb507a25b"
      },
      "execution_count": 23,
      "outputs": [
        {
          "output_type": "execute_result",
          "data": {
            "image/svg+xml": "<?xml version=\"1.0\" encoding=\"UTF-8\" standalone=\"no\"?>\n<!DOCTYPE svg PUBLIC \"-//W3C//DTD SVG 1.1//EN\"\n \"http://www.w3.org/Graphics/SVG/1.1/DTD/svg11.dtd\">\n<!-- Generated by graphviz version 2.43.0 (0)\n -->\n<!-- Title: %3 Pages: 1 -->\n<svg width=\"1571pt\" height=\"210pt\"\n viewBox=\"0.00 0.00 1571.00 210.00\" xmlns=\"http://www.w3.org/2000/svg\" xmlns:xlink=\"http://www.w3.org/1999/xlink\">\n<g id=\"graph0\" class=\"graph\" transform=\"scale(1 1) rotate(0) translate(4 206)\">\n<title>%3</title>\n<polygon fill=\"white\" stroke=\"transparent\" points=\"-4,4 -4,-206 1567,-206 1567,4 -4,4\"/>\n<!-- 140580392586736 -->\n<g id=\"node1\" class=\"node\">\n<title>140580392586736</title>\n<polygon fill=\"none\" stroke=\"black\" points=\"334,-55.5 334,-91.5 552,-91.5 552,-55.5 334,-55.5\"/>\n<text text-anchor=\"middle\" x=\"355.5\" y=\"-69.8\" font-family=\"Times,serif\" font-size=\"14.00\">den1</text>\n<polyline fill=\"none\" stroke=\"black\" points=\"377,-55.5 377,-91.5 \"/>\n<text text-anchor=\"middle\" x=\"421.5\" y=\"-69.8\" font-family=\"Times,serif\" font-size=\"14.00\">data: &#45;6.0000</text>\n<polyline fill=\"none\" stroke=\"black\" points=\"466,-55.5 466,-91.5 \"/>\n<text text-anchor=\"middle\" x=\"509\" y=\"-69.8\" font-family=\"Times,serif\" font-size=\"14.00\">grad: 0.5000</text>\n</g>\n<!-- 140580392586160+ -->\n<g id=\"node14\" class=\"node\">\n<title>140580392586160+</title>\n<ellipse fill=\"none\" stroke=\"black\" cx=\"615\" cy=\"-100.5\" rx=\"27\" ry=\"18\"/>\n<text text-anchor=\"middle\" x=\"615\" y=\"-96.8\" font-family=\"Times,serif\" font-size=\"14.00\">+</text>\n</g>\n<!-- 140580392586736&#45;&gt;140580392586160+ -->\n<g id=\"edge14\" class=\"edge\">\n<title>140580392586736&#45;&gt;140580392586160+</title>\n<path fill=\"none\" stroke=\"black\" d=\"M552.15,-90.68C561.52,-92.17 570.5,-93.59 578.56,-94.87\"/>\n<polygon fill=\"black\" stroke=\"black\" points=\"578.16,-98.35 588.58,-96.46 579.26,-91.44 578.16,-98.35\"/>\n</g>\n<!-- 140580392586736* -->\n<g id=\"node2\" class=\"node\">\n<title>140580392586736*</title>\n<ellipse fill=\"none\" stroke=\"black\" cx=\"271\" cy=\"-73.5\" rx=\"27\" ry=\"18\"/>\n<text text-anchor=\"middle\" x=\"271\" y=\"-69.8\" font-family=\"Times,serif\" font-size=\"14.00\">*</text>\n</g>\n<!-- 140580392586736*&#45;&gt;140580392586736 -->\n<g id=\"edge1\" class=\"edge\">\n<title>140580392586736*&#45;&gt;140580392586736</title>\n<path fill=\"none\" stroke=\"black\" d=\"M298.19,-73.5C305.65,-73.5 314.28,-73.5 323.56,-73.5\"/>\n<polygon fill=\"black\" stroke=\"black\" points=\"323.84,-77 333.84,-73.5 323.84,-70 323.84,-77\"/>\n</g>\n<!-- 140580392261664 -->\n<g id=\"node3\" class=\"node\">\n<title>140580392261664</title>\n<polygon fill=\"none\" stroke=\"black\" points=\"2,-55.5 2,-91.5 206,-91.5 206,-55.5 2,-55.5\"/>\n<text text-anchor=\"middle\" x=\"17\" y=\"-69.8\" font-family=\"Times,serif\" font-size=\"14.00\">x1</text>\n<polyline fill=\"none\" stroke=\"black\" points=\"32,-55.5 32,-91.5 \"/>\n<text text-anchor=\"middle\" x=\"74\" y=\"-69.8\" font-family=\"Times,serif\" font-size=\"14.00\">data: 2.0000</text>\n<polyline fill=\"none\" stroke=\"black\" points=\"116,-55.5 116,-91.5 \"/>\n<text text-anchor=\"middle\" x=\"161\" y=\"-69.8\" font-family=\"Times,serif\" font-size=\"14.00\">grad: &#45;1.5000</text>\n</g>\n<!-- 140580392261664&#45;&gt;140580392586736* -->\n<g id=\"edge12\" class=\"edge\">\n<title>140580392261664&#45;&gt;140580392586736*</title>\n<path fill=\"none\" stroke=\"black\" d=\"M206.21,-73.5C215.96,-73.5 225.35,-73.5 233.78,-73.5\"/>\n<polygon fill=\"black\" stroke=\"black\" points=\"233.91,-77 243.91,-73.5 233.91,-70 233.91,-77\"/>\n</g>\n<!-- 140580392261712 -->\n<g id=\"node4\" class=\"node\">\n<title>140580392261712</title>\n<polygon fill=\"none\" stroke=\"black\" points=\"0,-0.5 0,-36.5 208,-36.5 208,-0.5 0,-0.5\"/>\n<text text-anchor=\"middle\" x=\"16.5\" y=\"-14.8\" font-family=\"Times,serif\" font-size=\"14.00\">w1</text>\n<polyline fill=\"none\" stroke=\"black\" points=\"33,-0.5 33,-36.5 \"/>\n<text text-anchor=\"middle\" x=\"77.5\" y=\"-14.8\" font-family=\"Times,serif\" font-size=\"14.00\">data: &#45;3.0000</text>\n<polyline fill=\"none\" stroke=\"black\" points=\"122,-0.5 122,-36.5 \"/>\n<text text-anchor=\"middle\" x=\"165\" y=\"-14.8\" font-family=\"Times,serif\" font-size=\"14.00\">grad: 1.0000</text>\n</g>\n<!-- 140580392261712&#45;&gt;140580392586736* -->\n<g id=\"edge9\" class=\"edge\">\n<title>140580392261712&#45;&gt;140580392586736*</title>\n<path fill=\"none\" stroke=\"black\" d=\"M176.61,-36.52C187.22,-39.61 197.95,-42.97 208,-46.5 218.3,-50.12 229.3,-54.67 239.13,-59.01\"/>\n<polygon fill=\"black\" stroke=\"black\" points=\"237.95,-62.31 248.5,-63.22 240.82,-55.93 237.95,-62.31\"/>\n</g>\n<!-- 140580392261760 -->\n<g id=\"node5\" class=\"node\">\n<title>140580392261760</title>\n<polygon fill=\"none\" stroke=\"black\" points=\"2.5,-165.5 2.5,-201.5 205.5,-201.5 205.5,-165.5 2.5,-165.5\"/>\n<text text-anchor=\"middle\" x=\"19\" y=\"-179.8\" font-family=\"Times,serif\" font-size=\"14.00\">w2</text>\n<polyline fill=\"none\" stroke=\"black\" points=\"35.5,-165.5 35.5,-201.5 \"/>\n<text text-anchor=\"middle\" x=\"77.5\" y=\"-179.8\" font-family=\"Times,serif\" font-size=\"14.00\">data: 1.0000</text>\n<polyline fill=\"none\" stroke=\"black\" points=\"119.5,-165.5 119.5,-201.5 \"/>\n<text text-anchor=\"middle\" x=\"162.5\" y=\"-179.8\" font-family=\"Times,serif\" font-size=\"14.00\">grad: 0.0000</text>\n</g>\n<!-- 140580392586640* -->\n<g id=\"node12\" class=\"node\">\n<title>140580392586640*</title>\n<ellipse fill=\"none\" stroke=\"black\" cx=\"271\" cy=\"-128.5\" rx=\"27\" ry=\"18\"/>\n<text text-anchor=\"middle\" x=\"271\" y=\"-124.8\" font-family=\"Times,serif\" font-size=\"14.00\">*</text>\n</g>\n<!-- 140580392261760&#45;&gt;140580392586640* -->\n<g id=\"edge8\" class=\"edge\">\n<title>140580392261760&#45;&gt;140580392586640*</title>\n<path fill=\"none\" stroke=\"black\" d=\"M179.99,-165.42C189.49,-162.67 199.03,-159.68 208,-156.5 218.55,-152.77 229.78,-147.96 239.74,-143.39\"/>\n<polygon fill=\"black\" stroke=\"black\" points=\"241.28,-146.54 248.84,-139.12 238.3,-140.2 241.28,-146.54\"/>\n</g>\n<!-- 140580392261808 -->\n<g id=\"node6\" class=\"node\">\n<title>140580392261808</title>\n<polygon fill=\"none\" stroke=\"black\" points=\"689,-137.5 689,-173.5 882,-173.5 882,-137.5 689,-137.5\"/>\n<text text-anchor=\"middle\" x=\"700.5\" y=\"-151.8\" font-family=\"Times,serif\" font-size=\"14.00\">b</text>\n<polyline fill=\"none\" stroke=\"black\" points=\"712,-137.5 712,-173.5 \"/>\n<text text-anchor=\"middle\" x=\"754\" y=\"-151.8\" font-family=\"Times,serif\" font-size=\"14.00\">data: 6.8814</text>\n<polyline fill=\"none\" stroke=\"black\" points=\"796,-137.5 796,-173.5 \"/>\n<text text-anchor=\"middle\" x=\"839\" y=\"-151.8\" font-family=\"Times,serif\" font-size=\"14.00\">grad: 0.5000</text>\n</g>\n<!-- 140580392585968+ -->\n<g id=\"node8\" class=\"node\">\n<title>140580392585968+</title>\n<ellipse fill=\"none\" stroke=\"black\" cx=\"956\" cy=\"-127.5\" rx=\"27\" ry=\"18\"/>\n<text text-anchor=\"middle\" x=\"956\" y=\"-123.8\" font-family=\"Times,serif\" font-size=\"14.00\">+</text>\n</g>\n<!-- 140580392261808&#45;&gt;140580392585968+ -->\n<g id=\"edge13\" class=\"edge\">\n<title>140580392261808&#45;&gt;140580392585968+</title>\n<path fill=\"none\" stroke=\"black\" d=\"M882.07,-139.62C895.36,-137.41 908.26,-135.27 919.43,-133.41\"/>\n<polygon fill=\"black\" stroke=\"black\" points=\"920.26,-136.82 929.55,-131.73 919.12,-129.92 920.26,-136.82\"/>\n</g>\n<!-- 140580392585968 -->\n<g id=\"node7\" class=\"node\">\n<title>140580392585968</title>\n<polygon fill=\"none\" stroke=\"black\" points=\"1019,-109.5 1019,-145.5 1233,-145.5 1233,-109.5 1019,-109.5\"/>\n<text text-anchor=\"middle\" x=\"1041\" y=\"-123.8\" font-family=\"Times,serif\" font-size=\"14.00\">body</text>\n<polyline fill=\"none\" stroke=\"black\" points=\"1063,-109.5 1063,-145.5 \"/>\n<text text-anchor=\"middle\" x=\"1105\" y=\"-123.8\" font-family=\"Times,serif\" font-size=\"14.00\">data: 0.8814</text>\n<polyline fill=\"none\" stroke=\"black\" points=\"1147,-109.5 1147,-145.5 \"/>\n<text text-anchor=\"middle\" x=\"1190\" y=\"-123.8\" font-family=\"Times,serif\" font-size=\"14.00\">grad: 0.5000</text>\n</g>\n<!-- 140580403232576tanh -->\n<g id=\"node10\" class=\"node\">\n<title>140580403232576tanh</title>\n<ellipse fill=\"none\" stroke=\"black\" cx=\"1296\" cy=\"-127.5\" rx=\"27\" ry=\"18\"/>\n<text text-anchor=\"middle\" x=\"1296\" y=\"-123.8\" font-family=\"Times,serif\" font-size=\"14.00\">tanh</text>\n</g>\n<!-- 140580392585968&#45;&gt;140580403232576tanh -->\n<g id=\"edge10\" class=\"edge\">\n<title>140580392585968&#45;&gt;140580403232576tanh</title>\n<path fill=\"none\" stroke=\"black\" d=\"M1233.4,-127.5C1242.35,-127.5 1250.94,-127.5 1258.71,-127.5\"/>\n<polygon fill=\"black\" stroke=\"black\" points=\"1258.76,-131 1268.76,-127.5 1258.76,-124 1258.76,-131\"/>\n</g>\n<!-- 140580392585968+&#45;&gt;140580392585968 -->\n<g id=\"edge2\" class=\"edge\">\n<title>140580392585968+&#45;&gt;140580392585968</title>\n<path fill=\"none\" stroke=\"black\" d=\"M983.25,-127.5C990.7,-127.5 999.34,-127.5 1008.59,-127.5\"/>\n<polygon fill=\"black\" stroke=\"black\" points=\"1008.84,-131 1018.84,-127.5 1008.84,-124 1008.84,-131\"/>\n</g>\n<!-- 140580403232576 -->\n<g id=\"node9\" class=\"node\">\n<title>140580403232576</title>\n<polygon fill=\"none\" stroke=\"black\" points=\"1359,-109.5 1359,-145.5 1563,-145.5 1563,-109.5 1359,-109.5\"/>\n<text text-anchor=\"middle\" x=\"1376\" y=\"-123.8\" font-family=\"Times,serif\" font-size=\"14.00\">out</text>\n<polyline fill=\"none\" stroke=\"black\" points=\"1393,-109.5 1393,-145.5 \"/>\n<text text-anchor=\"middle\" x=\"1435\" y=\"-123.8\" font-family=\"Times,serif\" font-size=\"14.00\">data: 0.7071</text>\n<polyline fill=\"none\" stroke=\"black\" points=\"1477,-109.5 1477,-145.5 \"/>\n<text text-anchor=\"middle\" x=\"1520\" y=\"-123.8\" font-family=\"Times,serif\" font-size=\"14.00\">grad: 1.0000</text>\n</g>\n<!-- 140580403232576tanh&#45;&gt;140580403232576 -->\n<g id=\"edge3\" class=\"edge\">\n<title>140580403232576tanh&#45;&gt;140580403232576</title>\n<path fill=\"none\" stroke=\"black\" d=\"M1323.19,-127.5C1330.66,-127.5 1339.3,-127.5 1348.54,-127.5\"/>\n<polygon fill=\"black\" stroke=\"black\" points=\"1348.77,-131 1358.77,-127.5 1348.77,-124 1348.77,-131\"/>\n</g>\n<!-- 140580392586640 -->\n<g id=\"node11\" class=\"node\">\n<title>140580392586640</title>\n<polygon fill=\"none\" stroke=\"black\" points=\"336.5,-110.5 336.5,-146.5 549.5,-146.5 549.5,-110.5 336.5,-110.5\"/>\n<text text-anchor=\"middle\" x=\"358\" y=\"-124.8\" font-family=\"Times,serif\" font-size=\"14.00\">den2</text>\n<polyline fill=\"none\" stroke=\"black\" points=\"379.5,-110.5 379.5,-146.5 \"/>\n<text text-anchor=\"middle\" x=\"421.5\" y=\"-124.8\" font-family=\"Times,serif\" font-size=\"14.00\">data: 0.0000</text>\n<polyline fill=\"none\" stroke=\"black\" points=\"463.5,-110.5 463.5,-146.5 \"/>\n<text text-anchor=\"middle\" x=\"506.5\" y=\"-124.8\" font-family=\"Times,serif\" font-size=\"14.00\">grad: 0.5000</text>\n</g>\n<!-- 140580392586640&#45;&gt;140580392586160+ -->\n<g id=\"edge7\" class=\"edge\">\n<title>140580392586640&#45;&gt;140580392586160+</title>\n<path fill=\"none\" stroke=\"black\" d=\"M549.73,-111.09C560,-109.39 569.85,-107.77 578.61,-106.33\"/>\n<polygon fill=\"black\" stroke=\"black\" points=\"579.41,-109.74 588.71,-104.66 578.28,-102.84 579.41,-109.74\"/>\n</g>\n<!-- 140580392586640*&#45;&gt;140580392586640 -->\n<g id=\"edge4\" class=\"edge\">\n<title>140580392586640*&#45;&gt;140580392586640</title>\n<path fill=\"none\" stroke=\"black\" d=\"M298.19,-128.5C306.38,-128.5 315.99,-128.5 326.3,-128.5\"/>\n<polygon fill=\"black\" stroke=\"black\" points=\"326.38,-132 336.38,-128.5 326.38,-125 326.38,-132\"/>\n</g>\n<!-- 140580392586160 -->\n<g id=\"node13\" class=\"node\">\n<title>140580392586160</title>\n<polygon fill=\"none\" stroke=\"black\" points=\"678,-82.5 678,-118.5 893,-118.5 893,-82.5 678,-82.5\"/>\n<text text-anchor=\"middle\" x=\"698\" y=\"-96.8\" font-family=\"Times,serif\" font-size=\"14.00\">sum</text>\n<polyline fill=\"none\" stroke=\"black\" points=\"718,-82.5 718,-118.5 \"/>\n<text text-anchor=\"middle\" x=\"762.5\" y=\"-96.8\" font-family=\"Times,serif\" font-size=\"14.00\">data: &#45;6.0000</text>\n<polyline fill=\"none\" stroke=\"black\" points=\"807,-82.5 807,-118.5 \"/>\n<text text-anchor=\"middle\" x=\"850\" y=\"-96.8\" font-family=\"Times,serif\" font-size=\"14.00\">grad: 0.5000</text>\n</g>\n<!-- 140580392586160&#45;&gt;140580392585968+ -->\n<g id=\"edge6\" class=\"edge\">\n<title>140580392586160&#45;&gt;140580392585968+</title>\n<path fill=\"none\" stroke=\"black\" d=\"M893.21,-117.6C902.57,-119.1 911.52,-120.53 919.57,-121.82\"/>\n<polygon fill=\"black\" stroke=\"black\" points=\"919.16,-125.3 929.59,-123.43 920.27,-118.39 919.16,-125.3\"/>\n</g>\n<!-- 140580392586160+&#45;&gt;140580392586160 -->\n<g id=\"edge5\" class=\"edge\">\n<title>140580392586160+&#45;&gt;140580392586160</title>\n<path fill=\"none\" stroke=\"black\" d=\"M642.33,-100.5C649.74,-100.5 658.3,-100.5 667.49,-100.5\"/>\n<polygon fill=\"black\" stroke=\"black\" points=\"667.67,-104 677.67,-100.5 667.67,-97 667.67,-104\"/>\n</g>\n<!-- 140580392261616 -->\n<g id=\"node15\" class=\"node\">\n<title>140580392261616</title>\n<polygon fill=\"none\" stroke=\"black\" points=\"4,-110.5 4,-146.5 204,-146.5 204,-110.5 4,-110.5\"/>\n<text text-anchor=\"middle\" x=\"19\" y=\"-124.8\" font-family=\"Times,serif\" font-size=\"14.00\">x2</text>\n<polyline fill=\"none\" stroke=\"black\" points=\"34,-110.5 34,-146.5 \"/>\n<text text-anchor=\"middle\" x=\"76\" y=\"-124.8\" font-family=\"Times,serif\" font-size=\"14.00\">data: 0.0000</text>\n<polyline fill=\"none\" stroke=\"black\" points=\"118,-110.5 118,-146.5 \"/>\n<text text-anchor=\"middle\" x=\"161\" y=\"-124.8\" font-family=\"Times,serif\" font-size=\"14.00\">grad: 0.5000</text>\n</g>\n<!-- 140580392261616&#45;&gt;140580392586640* -->\n<g id=\"edge11\" class=\"edge\">\n<title>140580392261616&#45;&gt;140580392586640*</title>\n<path fill=\"none\" stroke=\"black\" d=\"M204.31,-128.5C214.81,-128.5 224.93,-128.5 233.95,-128.5\"/>\n<polygon fill=\"black\" stroke=\"black\" points=\"233.99,-132 243.99,-128.5 233.99,-125 233.99,-132\"/>\n</g>\n</g>\n</svg>\n",
            "text/plain": [
              "<graphviz.graphs.Digraph at 0x7fdb6c57d2e0>"
            ]
          },
          "metadata": {},
          "execution_count": 23
        }
      ]
    },
    {
      "cell_type": "code",
      "source": [
        "# there we go!! and that's backpropagation!! (for one neuron)"
      ],
      "metadata": {
        "id": "SJGnpr8En1Cm"
      },
      "execution_count": 24,
      "outputs": []
    },
    {
      "cell_type": "code",
      "source": [],
      "metadata": {
        "id": "rW4L_9Aen67r"
      },
      "execution_count": 24,
      "outputs": []
    }
  ]
}