{
  "nbformat": 4,
  "nbformat_minor": 0,
  "metadata": {
    "colab": {
      "provenance": [],
      "authorship_tag": "ABX9TyNeKBLyYpuM+b/7XeLxtO/m"
    },
    "kernelspec": {
      "name": "python3",
      "display_name": "Python 3"
    },
    "language_info": {
      "name": "python"
    }
  },
  "cells": [
    {
      "cell_type": "markdown",
      "source": [
        "# Importing code from the previous notebook"
      ],
      "metadata": {
        "id": "flt4TuFecUKn"
      }
    },
    {
      "cell_type": "code",
      "execution_count": 1,
      "metadata": {
        "id": "IkBtRVhlb2zp"
      },
      "outputs": [],
      "source": [
        "import math\n",
        "import numpy as np\n",
        "import matplotlib.pyplot as plt\n",
        "%matplotlib inline"
      ]
    },
    {
      "cell_type": "code",
      "source": [
        "# importing our latest Value class\n",
        "\n",
        "class Value:\n",
        "    \"\"\" stores a single scalar value and its gradient \"\"\"\n",
        "\n",
        "    def __init__(self, data, _children=(), _op='', label=''):\n",
        "        self.data = data\n",
        "        self.label = label  # optional, Value variable/node name\n",
        "        self.grad = 0.0     # initially, the grad be zero (means no effect on output)\n",
        "\n",
        "        # internal variables used for autograd graph construction\n",
        "        self._prev = set(_children)     # previous node\n",
        "        self._op = _op                  # the operation that produced this node\n",
        "        self._backward = lambda: None   # to do the little piece of chain rule at each local node, backwards\n",
        "                                        # by default _backward is None, as there is nothing to do at a leaf node\n",
        "\n",
        "    def __repr__(self):\n",
        "        return f\"Value(data={self.data})\"\n",
        "\n",
        "    def __add__(self, other):\n",
        "        out = Value(self.data + other.data, (self, other), '+')\n",
        "\n",
        "        def _backward():\n",
        "            # local derivative (= 1.0) * out's grad\n",
        "            self.grad = 1.0 * out.grad\n",
        "            other.grad = 1.0 * out.grad\n",
        "        out._backward = _backward\n",
        "\n",
        "        return out\n",
        "    \n",
        "    def __mul__(self, other):\n",
        "        out = Value(self.data * other.data, (self, other), '*')\n",
        "\n",
        "        def _backward():\n",
        "            # local derivative (= switching the data of leaf nodes) * out's grad\n",
        "            self.grad = other.data * out.grad\n",
        "            other.grad = self.data * out.grad\n",
        "        out._backward = _backward\n",
        "\n",
        "        return out\n",
        "    \n",
        "    def tanh(self):\n",
        "        x = self.data\n",
        "        t = (math.exp(2*x) - 1) / (math.exp(2*x) + 1)\n",
        "        out = Value(t, (self, ), 'tanh')\n",
        "\n",
        "        def _backward():\n",
        "            # local derivative of tanh (1 - tanh(x)**2) * out's grad\n",
        "            self.grad = (1 - t**2) * out.grad\n",
        "        out._backward = _backward\n",
        "\n",
        "        return out\n",
        "    \n",
        "    def backward(self):\n",
        "        # our topological sort function\n",
        "        def topological_sort(node):\n",
        "            topo = []\n",
        "            visited = set()\n",
        "            def build_topo(v):\n",
        "                if v not in visited:\n",
        "                    visited.add(v)\n",
        "                    for child in v._prev:\n",
        "                        build_topo(child)\n",
        "                    topo.append(v)\n",
        "            build_topo(node)\n",
        "            return topo\n",
        "\n",
        "        # base case\n",
        "        self.grad = 1.0\n",
        "\n",
        "        # and then traverse backwards, calling _backward() on the way\n",
        "        for node in reversed(topological_sort(self)):\n",
        "            node._backward()"
      ],
      "metadata": {
        "id": "1nJYuxypcb1k"
      },
      "execution_count": 2,
      "outputs": []
    },
    {
      "cell_type": "code",
      "source": [
        "# import visualization functions to show grads\n",
        "\n",
        "from graphviz import Digraph\n",
        "\n",
        "def trace(root):\n",
        "    # builds a set of all nodes and edges in a graph\n",
        "    nodes, edges = set(), set()\n",
        "    def build(v):\n",
        "        if v not in nodes:\n",
        "            nodes.add(v)\n",
        "            for child in v._prev:\n",
        "                edges.add((child, v))\n",
        "                build(child)\n",
        "    build(root)\n",
        "    return nodes, edges\n",
        "\n",
        "def draw_dot(root, format='svg', rankdir='LR'):\n",
        "    \"\"\"\n",
        "    format: png | svg | ...\n",
        "    rankdir: TB (top to bottom graph) | LR (left to right)\n",
        "    \"\"\"\n",
        "    assert rankdir in ['LR', 'TB']\n",
        "    nodes, edges = trace(root)\n",
        "    dot = Digraph(format=format, graph_attr={'rankdir': rankdir})\n",
        "    \n",
        "    for n in nodes:\n",
        "        dot.node(name=str(id(n)), label = \"{ %s | data: %.4f | grad: %.4f }\" % (n.label, n.data, n.grad), shape='record')\n",
        "        if n._op:\n",
        "            dot.node(name=str(id(n)) + n._op, label=n._op)\n",
        "            dot.edge(str(id(n)) + n._op, str(id(n)))\n",
        "    \n",
        "    for n1, n2 in edges:\n",
        "        dot.edge(str(id(n1)), str(id(n2)) + n2._op)\n",
        "    \n",
        "    return dot\n"
      ],
      "metadata": {
        "id": "1tIo0ZkQcd_P"
      },
      "execution_count": 3,
      "outputs": []
    },
    {
      "cell_type": "code",
      "source": [],
      "metadata": {
        "id": "SmcmTngNcpcC"
      },
      "execution_count": 3,
      "outputs": []
    },
    {
      "cell_type": "markdown",
      "source": [
        "# backprop bug when one node is used multiple times"
      ],
      "metadata": {
        "id": "m7QUSqNlcr8l"
      }
    },
    {
      "cell_type": "code",
      "source": [
        "# let's take a look at cases when our backprop fails with the current implementation"
      ],
      "metadata": {
        "id": "Rn-eP7Jedb8Q"
      },
      "execution_count": 4,
      "outputs": []
    },
    {
      "cell_type": "code",
      "source": [
        "# when op is performed on the same node (example #1)\n",
        "a = Value(3.0, label='a')\n",
        "s = a + a;  s.label='s'\n",
        "s.backward()\n",
        "draw_dot(s)"
      ],
      "metadata": {
        "colab": {
          "base_uri": "https://localhost:8080/",
          "height": 82
        },
        "id": "xBBYE_HYczAj",
        "outputId": "4a974c9a-04fa-4528-c3ab-fbc8597d2e0c"
      },
      "execution_count": 5,
      "outputs": [
        {
          "output_type": "execute_result",
          "data": {
            "image/svg+xml": "<?xml version=\"1.0\" encoding=\"UTF-8\" standalone=\"no\"?>\n<!DOCTYPE svg PUBLIC \"-//W3C//DTD SVG 1.1//EN\"\n \"http://www.w3.org/Graphics/SVG/1.1/DTD/svg11.dtd\">\n<!-- Generated by graphviz version 2.43.0 (0)\n -->\n<!-- Title: %3 Pages: 1 -->\n<svg width=\"519pt\" height=\"45pt\"\n viewBox=\"0.00 0.00 519.00 45.00\" xmlns=\"http://www.w3.org/2000/svg\" xmlns:xlink=\"http://www.w3.org/1999/xlink\">\n<g id=\"graph0\" class=\"graph\" transform=\"scale(1 1) rotate(0) translate(4 41)\">\n<title>%3</title>\n<polygon fill=\"white\" stroke=\"transparent\" points=\"-4,4 -4,-41 515,-41 515,4 -4,4\"/>\n<!-- 140695882872000 -->\n<g id=\"node1\" class=\"node\">\n<title>140695882872000</title>\n<polygon fill=\"none\" stroke=\"black\" points=\"0,-0.5 0,-36.5 193,-36.5 193,-0.5 0,-0.5\"/>\n<text text-anchor=\"middle\" x=\"11.5\" y=\"-14.8\" font-family=\"Times,serif\" font-size=\"14.00\">a</text>\n<polyline fill=\"none\" stroke=\"black\" points=\"23,-0.5 23,-36.5 \"/>\n<text text-anchor=\"middle\" x=\"65\" y=\"-14.8\" font-family=\"Times,serif\" font-size=\"14.00\">data: 3.0000</text>\n<polyline fill=\"none\" stroke=\"black\" points=\"107,-0.5 107,-36.5 \"/>\n<text text-anchor=\"middle\" x=\"150\" y=\"-14.8\" font-family=\"Times,serif\" font-size=\"14.00\">grad: 1.0000</text>\n</g>\n<!-- 140695882872528+ -->\n<g id=\"node3\" class=\"node\">\n<title>140695882872528+</title>\n<ellipse fill=\"none\" stroke=\"black\" cx=\"256\" cy=\"-18.5\" rx=\"27\" ry=\"18\"/>\n<text text-anchor=\"middle\" x=\"256\" y=\"-14.8\" font-family=\"Times,serif\" font-size=\"14.00\">+</text>\n</g>\n<!-- 140695882872000&#45;&gt;140695882872528+ -->\n<g id=\"edge2\" class=\"edge\">\n<title>140695882872000&#45;&gt;140695882872528+</title>\n<path fill=\"none\" stroke=\"black\" d=\"M193.2,-18.5C202.15,-18.5 210.79,-18.5 218.63,-18.5\"/>\n<polygon fill=\"black\" stroke=\"black\" points=\"218.78,-22 228.78,-18.5 218.78,-15 218.78,-22\"/>\n</g>\n<!-- 140695882872528 -->\n<g id=\"node2\" class=\"node\">\n<title>140695882872528</title>\n<polygon fill=\"none\" stroke=\"black\" points=\"319,-0.5 319,-36.5 511,-36.5 511,-0.5 319,-0.5\"/>\n<text text-anchor=\"middle\" x=\"330\" y=\"-14.8\" font-family=\"Times,serif\" font-size=\"14.00\">s</text>\n<polyline fill=\"none\" stroke=\"black\" points=\"341,-0.5 341,-36.5 \"/>\n<text text-anchor=\"middle\" x=\"383\" y=\"-14.8\" font-family=\"Times,serif\" font-size=\"14.00\">data: 6.0000</text>\n<polyline fill=\"none\" stroke=\"black\" points=\"425,-0.5 425,-36.5 \"/>\n<text text-anchor=\"middle\" x=\"468\" y=\"-14.8\" font-family=\"Times,serif\" font-size=\"14.00\">grad: 1.0000</text>\n</g>\n<!-- 140695882872528+&#45;&gt;140695882872528 -->\n<g id=\"edge1\" class=\"edge\">\n<title>140695882872528+&#45;&gt;140695882872528</title>\n<path fill=\"none\" stroke=\"black\" d=\"M283.28,-18.5C290.78,-18.5 299.44,-18.5 308.67,-18.5\"/>\n<polygon fill=\"black\" stroke=\"black\" points=\"308.87,-22 318.87,-18.5 308.87,-15 308.87,-22\"/>\n</g>\n</g>\n</svg>\n",
            "text/plain": [
              "<graphviz.graphs.Digraph at 0x7ff6501eba30>"
            ]
          },
          "metadata": {},
          "execution_count": 5
        }
      ]
    },
    {
      "cell_type": "code",
      "source": [
        "# think about it! we have the equn as: \n",
        "# s = a + a\n",
        "# => s = 2a\n",
        "# now using calculus, differentiating both sides\n",
        "# ds/da = d/da (2a)\n",
        "# => ds/da = 2 * (da/da)\n",
        "# => ds/da = 2 * 1.0 = 2.0\n",
        "# but our backward() calculates the grad as 1.0 !!"
      ],
      "metadata": {
        "id": "mMH8UltxeXT2"
      },
      "execution_count": 6,
      "outputs": []
    },
    {
      "cell_type": "code",
      "source": [
        "# when op is performed on the same node (example #2)\n",
        "p = a * a;  p.label='p'\n",
        "p.backward()\n",
        "draw_dot(p)"
      ],
      "metadata": {
        "colab": {
          "base_uri": "https://localhost:8080/",
          "height": 82
        },
        "id": "CGkhnmsEdX8b",
        "outputId": "9c7b99b1-c57b-494d-a0b6-c8c4f347b544"
      },
      "execution_count": 7,
      "outputs": [
        {
          "output_type": "execute_result",
          "data": {
            "image/svg+xml": "<?xml version=\"1.0\" encoding=\"UTF-8\" standalone=\"no\"?>\n<!DOCTYPE svg PUBLIC \"-//W3C//DTD SVG 1.1//EN\"\n \"http://www.w3.org/Graphics/SVG/1.1/DTD/svg11.dtd\">\n<!-- Generated by graphviz version 2.43.0 (0)\n -->\n<!-- Title: %3 Pages: 1 -->\n<svg width=\"520pt\" height=\"45pt\"\n viewBox=\"0.00 0.00 520.00 45.00\" xmlns=\"http://www.w3.org/2000/svg\" xmlns:xlink=\"http://www.w3.org/1999/xlink\">\n<g id=\"graph0\" class=\"graph\" transform=\"scale(1 1) rotate(0) translate(4 41)\">\n<title>%3</title>\n<polygon fill=\"white\" stroke=\"transparent\" points=\"-4,4 -4,-41 516,-41 516,4 -4,4\"/>\n<!-- 140695939804560 -->\n<g id=\"node1\" class=\"node\">\n<title>140695939804560</title>\n<polygon fill=\"none\" stroke=\"black\" points=\"319,-0.5 319,-36.5 512,-36.5 512,-0.5 319,-0.5\"/>\n<text text-anchor=\"middle\" x=\"330.5\" y=\"-14.8\" font-family=\"Times,serif\" font-size=\"14.00\">p</text>\n<polyline fill=\"none\" stroke=\"black\" points=\"342,-0.5 342,-36.5 \"/>\n<text text-anchor=\"middle\" x=\"384\" y=\"-14.8\" font-family=\"Times,serif\" font-size=\"14.00\">data: 9.0000</text>\n<polyline fill=\"none\" stroke=\"black\" points=\"426,-0.5 426,-36.5 \"/>\n<text text-anchor=\"middle\" x=\"469\" y=\"-14.8\" font-family=\"Times,serif\" font-size=\"14.00\">grad: 1.0000</text>\n</g>\n<!-- 140695939804560* -->\n<g id=\"node2\" class=\"node\">\n<title>140695939804560*</title>\n<ellipse fill=\"none\" stroke=\"black\" cx=\"256\" cy=\"-18.5\" rx=\"27\" ry=\"18\"/>\n<text text-anchor=\"middle\" x=\"256\" y=\"-14.8\" font-family=\"Times,serif\" font-size=\"14.00\">*</text>\n</g>\n<!-- 140695939804560*&#45;&gt;140695939804560 -->\n<g id=\"edge1\" class=\"edge\">\n<title>140695939804560*&#45;&gt;140695939804560</title>\n<path fill=\"none\" stroke=\"black\" d=\"M283.01,-18.5C290.52,-18.5 299.21,-18.5 308.47,-18.5\"/>\n<polygon fill=\"black\" stroke=\"black\" points=\"308.72,-22 318.72,-18.5 308.72,-15 308.72,-22\"/>\n</g>\n<!-- 140695882872000 -->\n<g id=\"node3\" class=\"node\">\n<title>140695882872000</title>\n<polygon fill=\"none\" stroke=\"black\" points=\"0,-0.5 0,-36.5 193,-36.5 193,-0.5 0,-0.5\"/>\n<text text-anchor=\"middle\" x=\"11.5\" y=\"-14.8\" font-family=\"Times,serif\" font-size=\"14.00\">a</text>\n<polyline fill=\"none\" stroke=\"black\" points=\"23,-0.5 23,-36.5 \"/>\n<text text-anchor=\"middle\" x=\"65\" y=\"-14.8\" font-family=\"Times,serif\" font-size=\"14.00\">data: 3.0000</text>\n<polyline fill=\"none\" stroke=\"black\" points=\"107,-0.5 107,-36.5 \"/>\n<text text-anchor=\"middle\" x=\"150\" y=\"-14.8\" font-family=\"Times,serif\" font-size=\"14.00\">grad: 3.0000</text>\n</g>\n<!-- 140695882872000&#45;&gt;140695939804560* -->\n<g id=\"edge2\" class=\"edge\">\n<title>140695882872000&#45;&gt;140695939804560*</title>\n<path fill=\"none\" stroke=\"black\" d=\"M193.2,-18.5C202.15,-18.5 210.79,-18.5 218.63,-18.5\"/>\n<polygon fill=\"black\" stroke=\"black\" points=\"218.78,-22 228.78,-18.5 218.78,-15 218.78,-22\"/>\n</g>\n</g>\n</svg>\n",
            "text/plain": [
              "<graphviz.graphs.Digraph at 0x7ff653836ca0>"
            ]
          },
          "metadata": {},
          "execution_count": 7
        }
      ]
    },
    {
      "cell_type": "code",
      "source": [
        "# similarly, think about this too! we have the equn as: \n",
        "# p = a * a\n",
        "# => p = a^2\n",
        "# now using calculus, differentiating both sides\n",
        "# dp/da = d/da (a^2)\n",
        "# => dp/da = 2a\n",
        "# => dp/da = 2 * 3.0 = 6.0\n",
        "# but our backward() calculates the grad as 3.0 !!"
      ],
      "metadata": {
        "id": "TDETtYSsdvO-"
      },
      "execution_count": 8,
      "outputs": []
    },
    {
      "cell_type": "code",
      "source": [
        "# so what's hapenning here? where is it going wrong?\n",
        "\n",
        "# intuitively, issue is in _backward() function.\n",
        "# let's take a look at _backward() of (+):\n",
        "# def _backward():\n",
        "#     self.grad = 1.0 * out.grad\n",
        "#     other.grad = 1.0 * out.grad\n",
        "\n",
        "# here when the same nodes are called for an operation (a + a = b, where a and a are same nodes),\n",
        "# the `self.grad` and `other.grad` are pointing to the same node -> a, \n",
        "# as a result, the values are getting over written, instead of getting accumulated"
      ],
      "metadata": {
        "id": "WdrqtFjSfpUW"
      },
      "execution_count": 9,
      "outputs": []
    },
    {
      "cell_type": "code",
      "source": [
        "# there is another way to visualize the same issue with different nodes (example #3):\n",
        "a = Value(-2.0, label='a')\n",
        "b = Value(3.0, label='b')\n",
        "c = a * b;  c.label='c'\n",
        "d = a + b;  d.label='d'\n",
        "e = c * d;  e.label='e'\n",
        "\n",
        "e.backward()\n",
        "draw_dot(e)"
      ],
      "metadata": {
        "colab": {
          "base_uri": "https://localhost:8080/",
          "height": 155
        },
        "id": "RtglhlRlf3a6",
        "outputId": "cfa97c5e-4d1b-4928-df6e-d683e5a9c295"
      },
      "execution_count": 10,
      "outputs": [
        {
          "output_type": "execute_result",
          "data": {
            "image/svg+xml": "<?xml version=\"1.0\" encoding=\"UTF-8\" standalone=\"no\"?>\n<!DOCTYPE svg PUBLIC \"-//W3C//DTD SVG 1.1//EN\"\n \"http://www.w3.org/Graphics/SVG/1.1/DTD/svg11.dtd\">\n<!-- Generated by graphviz version 2.43.0 (0)\n -->\n<!-- Title: %3 Pages: 1 -->\n<svg width=\"854pt\" height=\"100pt\"\n viewBox=\"0.00 0.00 854.00 100.00\" xmlns=\"http://www.w3.org/2000/svg\" xmlns:xlink=\"http://www.w3.org/1999/xlink\">\n<g id=\"graph0\" class=\"graph\" transform=\"scale(1 1) rotate(0) translate(4 96)\">\n<title>%3</title>\n<polygon fill=\"white\" stroke=\"transparent\" points=\"-4,4 -4,-96 850,-96 850,4 -4,4\"/>\n<!-- 140695882873008 -->\n<g id=\"node1\" class=\"node\">\n<title>140695882873008</title>\n<polygon fill=\"none\" stroke=\"black\" points=\"0.5,-55.5 0.5,-91.5 197.5,-91.5 197.5,-55.5 0.5,-55.5\"/>\n<text text-anchor=\"middle\" x=\"12\" y=\"-69.8\" font-family=\"Times,serif\" font-size=\"14.00\">b</text>\n<polyline fill=\"none\" stroke=\"black\" points=\"23.5,-55.5 23.5,-91.5 \"/>\n<text text-anchor=\"middle\" x=\"65.5\" y=\"-69.8\" font-family=\"Times,serif\" font-size=\"14.00\">data: 3.0000</text>\n<polyline fill=\"none\" stroke=\"black\" points=\"107.5,-55.5 107.5,-91.5 \"/>\n<text text-anchor=\"middle\" x=\"152.5\" y=\"-69.8\" font-family=\"Times,serif\" font-size=\"14.00\">grad: &#45;2.0000</text>\n</g>\n<!-- 140695882874640* -->\n<g id=\"node3\" class=\"node\">\n<title>140695882874640*</title>\n<ellipse fill=\"none\" stroke=\"black\" cx=\"261\" cy=\"-73.5\" rx=\"27\" ry=\"18\"/>\n<text text-anchor=\"middle\" x=\"261\" y=\"-69.8\" font-family=\"Times,serif\" font-size=\"14.00\">*</text>\n</g>\n<!-- 140695882873008&#45;&gt;140695882874640* -->\n<g id=\"edge7\" class=\"edge\">\n<title>140695882873008&#45;&gt;140695882874640*</title>\n<path fill=\"none\" stroke=\"black\" d=\"M197.68,-73.5C206.91,-73.5 215.81,-73.5 223.85,-73.5\"/>\n<polygon fill=\"black\" stroke=\"black\" points=\"223.89,-77 233.89,-73.5 223.89,-70 223.89,-77\"/>\n</g>\n<!-- 140695882873296+ -->\n<g id=\"node8\" class=\"node\">\n<title>140695882873296+</title>\n<ellipse fill=\"none\" stroke=\"black\" cx=\"261\" cy=\"-18.5\" rx=\"27\" ry=\"18\"/>\n<text text-anchor=\"middle\" x=\"261\" y=\"-14.8\" font-family=\"Times,serif\" font-size=\"14.00\">+</text>\n</g>\n<!-- 140695882873008&#45;&gt;140695882873296+ -->\n<g id=\"edge4\" class=\"edge\">\n<title>140695882873008&#45;&gt;140695882873296+</title>\n<path fill=\"none\" stroke=\"black\" d=\"M170.54,-55.49C179.85,-52.7 189.2,-49.68 198,-46.5 208.52,-42.7 219.75,-37.88 229.71,-33.31\"/>\n<polygon fill=\"black\" stroke=\"black\" points=\"231.24,-36.46 238.82,-29.05 228.28,-30.12 231.24,-36.46\"/>\n</g>\n<!-- 140695882874640 -->\n<g id=\"node2\" class=\"node\">\n<title>140695882874640</title>\n<polygon fill=\"none\" stroke=\"black\" points=\"324,-55.5 324,-91.5 522,-91.5 522,-55.5 324,-55.5\"/>\n<text text-anchor=\"middle\" x=\"335.5\" y=\"-69.8\" font-family=\"Times,serif\" font-size=\"14.00\">c</text>\n<polyline fill=\"none\" stroke=\"black\" points=\"347,-55.5 347,-91.5 \"/>\n<text text-anchor=\"middle\" x=\"391.5\" y=\"-69.8\" font-family=\"Times,serif\" font-size=\"14.00\">data: &#45;6.0000</text>\n<polyline fill=\"none\" stroke=\"black\" points=\"436,-55.5 436,-91.5 \"/>\n<text text-anchor=\"middle\" x=\"479\" y=\"-69.8\" font-family=\"Times,serif\" font-size=\"14.00\">grad: 1.0000</text>\n</g>\n<!-- 140695882853776* -->\n<g id=\"node6\" class=\"node\">\n<title>140695882853776*</title>\n<ellipse fill=\"none\" stroke=\"black\" cx=\"585\" cy=\"-45.5\" rx=\"27\" ry=\"18\"/>\n<text text-anchor=\"middle\" x=\"585\" y=\"-41.8\" font-family=\"Times,serif\" font-size=\"14.00\">*</text>\n</g>\n<!-- 140695882874640&#45;&gt;140695882853776* -->\n<g id=\"edge5\" class=\"edge\">\n<title>140695882874640&#45;&gt;140695882853776*</title>\n<path fill=\"none\" stroke=\"black\" d=\"M522.14,-56.33C531.5,-54.69 540.5,-53.11 548.61,-51.69\"/>\n<polygon fill=\"black\" stroke=\"black\" points=\"549.46,-55.1 558.7,-49.93 548.25,-48.2 549.46,-55.1\"/>\n</g>\n<!-- 140695882874640*&#45;&gt;140695882874640 -->\n<g id=\"edge1\" class=\"edge\">\n<title>140695882874640*&#45;&gt;140695882874640</title>\n<path fill=\"none\" stroke=\"black\" d=\"M288.06,-73.5C295.54,-73.5 304.2,-73.5 313.44,-73.5\"/>\n<polygon fill=\"black\" stroke=\"black\" points=\"313.67,-77 323.67,-73.5 313.67,-70 313.67,-77\"/>\n</g>\n<!-- 140695882872624 -->\n<g id=\"node4\" class=\"node\">\n<title>140695882872624</title>\n<polygon fill=\"none\" stroke=\"black\" points=\"0,-0.5 0,-36.5 198,-36.5 198,-0.5 0,-0.5\"/>\n<text text-anchor=\"middle\" x=\"11.5\" y=\"-14.8\" font-family=\"Times,serif\" font-size=\"14.00\">a</text>\n<polyline fill=\"none\" stroke=\"black\" points=\"23,-0.5 23,-36.5 \"/>\n<text text-anchor=\"middle\" x=\"67.5\" y=\"-14.8\" font-family=\"Times,serif\" font-size=\"14.00\">data: &#45;2.0000</text>\n<polyline fill=\"none\" stroke=\"black\" points=\"112,-0.5 112,-36.5 \"/>\n<text text-anchor=\"middle\" x=\"155\" y=\"-14.8\" font-family=\"Times,serif\" font-size=\"14.00\">grad: 3.0000</text>\n</g>\n<!-- 140695882872624&#45;&gt;140695882874640* -->\n<g id=\"edge8\" class=\"edge\">\n<title>140695882872624&#45;&gt;140695882874640*</title>\n<path fill=\"none\" stroke=\"black\" d=\"M167.59,-36.54C177.85,-39.64 188.26,-43 198,-46.5 208.28,-50.19 219.27,-54.76 229.1,-59.09\"/>\n<polygon fill=\"black\" stroke=\"black\" points=\"227.92,-62.39 238.48,-63.29 230.78,-56 227.92,-62.39\"/>\n</g>\n<!-- 140695882872624&#45;&gt;140695882873296+ -->\n<g id=\"edge9\" class=\"edge\">\n<title>140695882872624&#45;&gt;140695882873296+</title>\n<path fill=\"none\" stroke=\"black\" d=\"M198.14,-18.5C207.12,-18.5 215.78,-18.5 223.64,-18.5\"/>\n<polygon fill=\"black\" stroke=\"black\" points=\"223.8,-22 233.8,-18.5 223.8,-15 223.8,-22\"/>\n</g>\n<!-- 140695882853776 -->\n<g id=\"node5\" class=\"node\">\n<title>140695882853776</title>\n<polygon fill=\"none\" stroke=\"black\" points=\"648,-27.5 648,-63.5 846,-63.5 846,-27.5 648,-27.5\"/>\n<text text-anchor=\"middle\" x=\"659.5\" y=\"-41.8\" font-family=\"Times,serif\" font-size=\"14.00\">e</text>\n<polyline fill=\"none\" stroke=\"black\" points=\"671,-27.5 671,-63.5 \"/>\n<text text-anchor=\"middle\" x=\"715.5\" y=\"-41.8\" font-family=\"Times,serif\" font-size=\"14.00\">data: &#45;6.0000</text>\n<polyline fill=\"none\" stroke=\"black\" points=\"760,-27.5 760,-63.5 \"/>\n<text text-anchor=\"middle\" x=\"803\" y=\"-41.8\" font-family=\"Times,serif\" font-size=\"14.00\">grad: 1.0000</text>\n</g>\n<!-- 140695882853776*&#45;&gt;140695882853776 -->\n<g id=\"edge2\" class=\"edge\">\n<title>140695882853776*&#45;&gt;140695882853776</title>\n<path fill=\"none\" stroke=\"black\" d=\"M612.06,-45.5C619.54,-45.5 628.2,-45.5 637.44,-45.5\"/>\n<polygon fill=\"black\" stroke=\"black\" points=\"637.67,-49 647.67,-45.5 637.67,-42 637.67,-49\"/>\n</g>\n<!-- 140695882873296 -->\n<g id=\"node7\" class=\"node\">\n<title>140695882873296</title>\n<polygon fill=\"none\" stroke=\"black\" points=\"324.5,-0.5 324.5,-36.5 521.5,-36.5 521.5,-0.5 324.5,-0.5\"/>\n<text text-anchor=\"middle\" x=\"336\" y=\"-14.8\" font-family=\"Times,serif\" font-size=\"14.00\">d</text>\n<polyline fill=\"none\" stroke=\"black\" points=\"347.5,-0.5 347.5,-36.5 \"/>\n<text text-anchor=\"middle\" x=\"389.5\" y=\"-14.8\" font-family=\"Times,serif\" font-size=\"14.00\">data: 1.0000</text>\n<polyline fill=\"none\" stroke=\"black\" points=\"431.5,-0.5 431.5,-36.5 \"/>\n<text text-anchor=\"middle\" x=\"476.5\" y=\"-14.8\" font-family=\"Times,serif\" font-size=\"14.00\">grad: &#45;6.0000</text>\n</g>\n<!-- 140695882873296&#45;&gt;140695882853776* -->\n<g id=\"edge6\" class=\"edge\">\n<title>140695882873296&#45;&gt;140695882853776*</title>\n<path fill=\"none\" stroke=\"black\" d=\"M521.68,-34.98C531.2,-36.59 540.36,-38.14 548.6,-39.53\"/>\n<polygon fill=\"black\" stroke=\"black\" points=\"548.05,-42.98 558.49,-41.2 549.21,-36.08 548.05,-42.98\"/>\n</g>\n<!-- 140695882873296+&#45;&gt;140695882873296 -->\n<g id=\"edge3\" class=\"edge\">\n<title>140695882873296+&#45;&gt;140695882873296</title>\n<path fill=\"none\" stroke=\"black\" d=\"M288.06,-18.5C295.75,-18.5 304.69,-18.5 314.22,-18.5\"/>\n<polygon fill=\"black\" stroke=\"black\" points=\"314.35,-22 324.35,-18.5 314.35,-15 314.35,-22\"/>\n</g>\n</g>\n</svg>\n",
            "text/plain": [
              "<graphviz.graphs.Digraph at 0x7ff6501e6b80>"
            ]
          },
          "metadata": {},
          "execution_count": 10
        }
      ]
    },
    {
      "cell_type": "code",
      "source": [
        "# similar issue pops up, when a variable get's used more than once!\n",
        "\n",
        "# if you call the cell above multiple times, \n",
        "# you will see sometimes we end up with grads of (a,b) as (3,-2), and sometimes (-6, -6)\n",
        "# this is based on which _backward() get's called first... c's grads are deposited as (3,-2), where as d's grads are deposited as (-6, -6)\n",
        "\n",
        "# so, we see the grads get's replaced, insted of accumulated "
      ],
      "metadata": {
        "id": "bcqHqSn3h1z1"
      },
      "execution_count": 11,
      "outputs": []
    },
    {
      "cell_type": "code",
      "source": [
        "# we can do a quick calculation to see the actual grads theoritically:\n",
        "# e = c * d = (a * b) * (a + b)\n",
        "# => e = ab(a + b)\n",
        "# => e = aab + abb\n",
        "\n",
        "# differentiating both sides w.r.t a:\n",
        "# de/da = d/da (aab + abb)\n",
        "# de/da = b*2a + b^2 = 2ab + b^2 = 2*(-2)*3 + 3*3 = -12 + 9 = -3\n",
        "\n",
        "# differentiating both sides w.r.t b:\n",
        "# de/db = d/db (aab + abb)\n",
        "# de/db = a^2 + a*2b = a^2 + 2ab = (-2)^2 + 2*(-2)*3 = 4 - 12 = -8\n",
        "\n",
        "# so we see, the answer is neither (3,-2) nor (-6, -6), but (-3, -8), which is an accumulation of both the local grads!"
      ],
      "metadata": {
        "id": "hHiatYXKkOAu"
      },
      "execution_count": 12,
      "outputs": []
    },
    {
      "cell_type": "code",
      "source": [
        "# let's fix it! (reference: above explaination + wiki: https://en.wikipedia.org/wiki/Chain_rule#Multivariable_case)\n",
        "\n",
        "# we simply += the grads in all the _backward() functions.\n",
        "# and since the default value of the grad = 0.0, for single node case, it will still work, \n",
        "# and _backward() is now generalized! which in tern fixes our bug too!"
      ],
      "metadata": {
        "id": "bMJvuTqhkOGY"
      },
      "execution_count": 13,
      "outputs": []
    },
    {
      "cell_type": "code",
      "source": [
        "# updating our Value class with bugfix\n",
        "\n",
        "class Value:\n",
        "    \"\"\" stores a single scalar value and its gradient \"\"\"\n",
        "\n",
        "    def __init__(self, data, _children=(), _op='', label=''):\n",
        "        self.data = data\n",
        "        self.label = label  # optional, Value variable/node name\n",
        "        self.grad = 0.0     # initially, the grad be zero (means no effect on output)\n",
        "\n",
        "        # internal variables used for autograd graph construction\n",
        "        self._prev = set(_children)     # previous node\n",
        "        self._op = _op                  # the operation that produced this node\n",
        "        self._backward = lambda: None   # to do the little piece of chain rule at each local node, backwards\n",
        "                                        # by default _backward is None, as there is nothing to do at a leaf node\n",
        "\n",
        "    def __repr__(self):\n",
        "        return f\"Value(data={self.data})\"\n",
        "\n",
        "    def __add__(self, other):\n",
        "        out = Value(self.data + other.data, (self, other), '+')\n",
        "\n",
        "        def _backward():\n",
        "            # local derivative (= 1.0) * out's grad\n",
        "            self.grad += 1.0 * out.grad\n",
        "            other.grad += 1.0 * out.grad\n",
        "        out._backward = _backward\n",
        "\n",
        "        return out\n",
        "    \n",
        "    def __mul__(self, other):\n",
        "        out = Value(self.data * other.data, (self, other), '*')\n",
        "\n",
        "        def _backward():\n",
        "            # local derivative (= switching the data of leaf nodes) * out's grad\n",
        "            self.grad += other.data * out.grad\n",
        "            other.grad += self.data * out.grad\n",
        "        out._backward = _backward\n",
        "\n",
        "        return out\n",
        "    \n",
        "    def tanh(self):\n",
        "        x = self.data\n",
        "        t = (math.exp(2*x) - 1) / (math.exp(2*x) + 1)\n",
        "        out = Value(t, (self, ), 'tanh')\n",
        "\n",
        "        def _backward():\n",
        "            # local derivative of tanh (1 - tanh(x)**2) * out's grad\n",
        "            self.grad += (1 - t**2) * out.grad\n",
        "        out._backward = _backward\n",
        "\n",
        "        return out\n",
        "    \n",
        "    def backward(self):\n",
        "        # our topological sort function\n",
        "        def topological_sort(node):\n",
        "            topo = []\n",
        "            visited = set()\n",
        "            def build_topo(v):\n",
        "                if v not in visited:\n",
        "                    visited.add(v)\n",
        "                    for child in v._prev:\n",
        "                        build_topo(child)\n",
        "                    topo.append(v)\n",
        "            build_topo(node)\n",
        "            return topo\n",
        "\n",
        "        # base case\n",
        "        self.grad = 1.0\n",
        "\n",
        "        # and then traverse backwards, calling _backward() on the way\n",
        "        for node in reversed(topological_sort(self)):\n",
        "            node._backward()"
      ],
      "metadata": {
        "id": "OlT-WhnbmXOE"
      },
      "execution_count": 14,
      "outputs": []
    },
    {
      "cell_type": "code",
      "source": [],
      "metadata": {
        "id": "dxT_tLAenrkZ"
      },
      "execution_count": 14,
      "outputs": []
    },
    {
      "cell_type": "code",
      "source": [
        "# let's check back our example corner cases, and see if the issue is fixed or not"
      ],
      "metadata": {
        "id": "AsWBN0z0nwhm"
      },
      "execution_count": 15,
      "outputs": []
    },
    {
      "cell_type": "code",
      "source": [
        "# example #1\n",
        "a = Value(3.0, label='a')\n",
        "s = a + a;  s.label='s'\n",
        "s.backward()\n",
        "draw_dot(s)"
      ],
      "metadata": {
        "colab": {
          "base_uri": "https://localhost:8080/",
          "height": 82
        },
        "id": "QjTMwcqIn2NX",
        "outputId": "58dcd62a-8bf3-4ade-b3c7-a2e3ab4be8f4"
      },
      "execution_count": 16,
      "outputs": [
        {
          "output_type": "execute_result",
          "data": {
            "image/svg+xml": "<?xml version=\"1.0\" encoding=\"UTF-8\" standalone=\"no\"?>\n<!DOCTYPE svg PUBLIC \"-//W3C//DTD SVG 1.1//EN\"\n \"http://www.w3.org/Graphics/SVG/1.1/DTD/svg11.dtd\">\n<!-- Generated by graphviz version 2.43.0 (0)\n -->\n<!-- Title: %3 Pages: 1 -->\n<svg width=\"519pt\" height=\"45pt\"\n viewBox=\"0.00 0.00 519.00 45.00\" xmlns=\"http://www.w3.org/2000/svg\" xmlns:xlink=\"http://www.w3.org/1999/xlink\">\n<g id=\"graph0\" class=\"graph\" transform=\"scale(1 1) rotate(0) translate(4 41)\">\n<title>%3</title>\n<polygon fill=\"white\" stroke=\"transparent\" points=\"-4,4 -4,-41 515,-41 515,4 -4,4\"/>\n<!-- 140695882249984 -->\n<g id=\"node1\" class=\"node\">\n<title>140695882249984</title>\n<polygon fill=\"none\" stroke=\"black\" points=\"319,-0.5 319,-36.5 511,-36.5 511,-0.5 319,-0.5\"/>\n<text text-anchor=\"middle\" x=\"330\" y=\"-14.8\" font-family=\"Times,serif\" font-size=\"14.00\">s</text>\n<polyline fill=\"none\" stroke=\"black\" points=\"341,-0.5 341,-36.5 \"/>\n<text text-anchor=\"middle\" x=\"383\" y=\"-14.8\" font-family=\"Times,serif\" font-size=\"14.00\">data: 6.0000</text>\n<polyline fill=\"none\" stroke=\"black\" points=\"425,-0.5 425,-36.5 \"/>\n<text text-anchor=\"middle\" x=\"468\" y=\"-14.8\" font-family=\"Times,serif\" font-size=\"14.00\">grad: 1.0000</text>\n</g>\n<!-- 140695882249984+ -->\n<g id=\"node2\" class=\"node\">\n<title>140695882249984+</title>\n<ellipse fill=\"none\" stroke=\"black\" cx=\"256\" cy=\"-18.5\" rx=\"27\" ry=\"18\"/>\n<text text-anchor=\"middle\" x=\"256\" y=\"-14.8\" font-family=\"Times,serif\" font-size=\"14.00\">+</text>\n</g>\n<!-- 140695882249984+&#45;&gt;140695882249984 -->\n<g id=\"edge1\" class=\"edge\">\n<title>140695882249984+&#45;&gt;140695882249984</title>\n<path fill=\"none\" stroke=\"black\" d=\"M283.28,-18.5C290.78,-18.5 299.44,-18.5 308.67,-18.5\"/>\n<polygon fill=\"black\" stroke=\"black\" points=\"308.87,-22 318.87,-18.5 308.87,-15 308.87,-22\"/>\n</g>\n<!-- 140695882250656 -->\n<g id=\"node3\" class=\"node\">\n<title>140695882250656</title>\n<polygon fill=\"none\" stroke=\"black\" points=\"0,-0.5 0,-36.5 193,-36.5 193,-0.5 0,-0.5\"/>\n<text text-anchor=\"middle\" x=\"11.5\" y=\"-14.8\" font-family=\"Times,serif\" font-size=\"14.00\">a</text>\n<polyline fill=\"none\" stroke=\"black\" points=\"23,-0.5 23,-36.5 \"/>\n<text text-anchor=\"middle\" x=\"65\" y=\"-14.8\" font-family=\"Times,serif\" font-size=\"14.00\">data: 3.0000</text>\n<polyline fill=\"none\" stroke=\"black\" points=\"107,-0.5 107,-36.5 \"/>\n<text text-anchor=\"middle\" x=\"150\" y=\"-14.8\" font-family=\"Times,serif\" font-size=\"14.00\">grad: 2.0000</text>\n</g>\n<!-- 140695882250656&#45;&gt;140695882249984+ -->\n<g id=\"edge2\" class=\"edge\">\n<title>140695882250656&#45;&gt;140695882249984+</title>\n<path fill=\"none\" stroke=\"black\" d=\"M193.2,-18.5C202.15,-18.5 210.79,-18.5 218.63,-18.5\"/>\n<polygon fill=\"black\" stroke=\"black\" points=\"218.78,-22 228.78,-18.5 218.78,-15 218.78,-22\"/>\n</g>\n</g>\n</svg>\n",
            "text/plain": [
              "<graphviz.graphs.Digraph at 0x7ff650153be0>"
            ]
          },
          "metadata": {},
          "execution_count": 16
        }
      ]
    },
    {
      "cell_type": "code",
      "source": [
        "# example #2\n",
        "a = Value(3.0, label='a')\n",
        "p = a * a;  p.label='p'\n",
        "p.backward()\n",
        "draw_dot(p)"
      ],
      "metadata": {
        "colab": {
          "base_uri": "https://localhost:8080/",
          "height": 82
        },
        "id": "ID7AzUvin4c3",
        "outputId": "22d1bf51-95c6-4aac-c618-eab6a02376c9"
      },
      "execution_count": 17,
      "outputs": [
        {
          "output_type": "execute_result",
          "data": {
            "image/svg+xml": "<?xml version=\"1.0\" encoding=\"UTF-8\" standalone=\"no\"?>\n<!DOCTYPE svg PUBLIC \"-//W3C//DTD SVG 1.1//EN\"\n \"http://www.w3.org/Graphics/SVG/1.1/DTD/svg11.dtd\">\n<!-- Generated by graphviz version 2.43.0 (0)\n -->\n<!-- Title: %3 Pages: 1 -->\n<svg width=\"520pt\" height=\"45pt\"\n viewBox=\"0.00 0.00 520.00 45.00\" xmlns=\"http://www.w3.org/2000/svg\" xmlns:xlink=\"http://www.w3.org/1999/xlink\">\n<g id=\"graph0\" class=\"graph\" transform=\"scale(1 1) rotate(0) translate(4 41)\">\n<title>%3</title>\n<polygon fill=\"white\" stroke=\"transparent\" points=\"-4,4 -4,-41 516,-41 516,4 -4,4\"/>\n<!-- 140695882248832 -->\n<g id=\"node1\" class=\"node\">\n<title>140695882248832</title>\n<polygon fill=\"none\" stroke=\"black\" points=\"319,-0.5 319,-36.5 512,-36.5 512,-0.5 319,-0.5\"/>\n<text text-anchor=\"middle\" x=\"330.5\" y=\"-14.8\" font-family=\"Times,serif\" font-size=\"14.00\">p</text>\n<polyline fill=\"none\" stroke=\"black\" points=\"342,-0.5 342,-36.5 \"/>\n<text text-anchor=\"middle\" x=\"384\" y=\"-14.8\" font-family=\"Times,serif\" font-size=\"14.00\">data: 9.0000</text>\n<polyline fill=\"none\" stroke=\"black\" points=\"426,-0.5 426,-36.5 \"/>\n<text text-anchor=\"middle\" x=\"469\" y=\"-14.8\" font-family=\"Times,serif\" font-size=\"14.00\">grad: 1.0000</text>\n</g>\n<!-- 140695882248832* -->\n<g id=\"node2\" class=\"node\">\n<title>140695882248832*</title>\n<ellipse fill=\"none\" stroke=\"black\" cx=\"256\" cy=\"-18.5\" rx=\"27\" ry=\"18\"/>\n<text text-anchor=\"middle\" x=\"256\" y=\"-14.8\" font-family=\"Times,serif\" font-size=\"14.00\">*</text>\n</g>\n<!-- 140695882248832*&#45;&gt;140695882248832 -->\n<g id=\"edge1\" class=\"edge\">\n<title>140695882248832*&#45;&gt;140695882248832</title>\n<path fill=\"none\" stroke=\"black\" d=\"M283.01,-18.5C290.52,-18.5 299.21,-18.5 308.47,-18.5\"/>\n<polygon fill=\"black\" stroke=\"black\" points=\"308.72,-22 318.72,-18.5 308.72,-15 308.72,-22\"/>\n</g>\n<!-- 140695882251760 -->\n<g id=\"node3\" class=\"node\">\n<title>140695882251760</title>\n<polygon fill=\"none\" stroke=\"black\" points=\"0,-0.5 0,-36.5 193,-36.5 193,-0.5 0,-0.5\"/>\n<text text-anchor=\"middle\" x=\"11.5\" y=\"-14.8\" font-family=\"Times,serif\" font-size=\"14.00\">a</text>\n<polyline fill=\"none\" stroke=\"black\" points=\"23,-0.5 23,-36.5 \"/>\n<text text-anchor=\"middle\" x=\"65\" y=\"-14.8\" font-family=\"Times,serif\" font-size=\"14.00\">data: 3.0000</text>\n<polyline fill=\"none\" stroke=\"black\" points=\"107,-0.5 107,-36.5 \"/>\n<text text-anchor=\"middle\" x=\"150\" y=\"-14.8\" font-family=\"Times,serif\" font-size=\"14.00\">grad: 6.0000</text>\n</g>\n<!-- 140695882251760&#45;&gt;140695882248832* -->\n<g id=\"edge2\" class=\"edge\">\n<title>140695882251760&#45;&gt;140695882248832*</title>\n<path fill=\"none\" stroke=\"black\" d=\"M193.2,-18.5C202.15,-18.5 210.79,-18.5 218.63,-18.5\"/>\n<polygon fill=\"black\" stroke=\"black\" points=\"218.78,-22 228.78,-18.5 218.78,-15 218.78,-22\"/>\n</g>\n</g>\n</svg>\n",
            "text/plain": [
              "<graphviz.graphs.Digraph at 0x7ff650158cd0>"
            ]
          },
          "metadata": {},
          "execution_count": 17
        }
      ]
    },
    {
      "cell_type": "code",
      "source": [
        "# example #3\n",
        "a = Value(-2.0, label='a')\n",
        "b = Value(3.0, label='b')\n",
        "c = a * b;  c.label='c'\n",
        "d = a + b;  d.label='d'\n",
        "e = c * d;  e.label='e'\n",
        "\n",
        "e.backward()\n",
        "draw_dot(e)"
      ],
      "metadata": {
        "colab": {
          "base_uri": "https://localhost:8080/",
          "height": 155
        },
        "id": "w1Wo162Hn91n",
        "outputId": "d4fab5d5-54f0-4739-fe6e-e066b6698562"
      },
      "execution_count": 18,
      "outputs": [
        {
          "output_type": "execute_result",
          "data": {
            "image/svg+xml": "<?xml version=\"1.0\" encoding=\"UTF-8\" standalone=\"no\"?>\n<!DOCTYPE svg PUBLIC \"-//W3C//DTD SVG 1.1//EN\"\n \"http://www.w3.org/Graphics/SVG/1.1/DTD/svg11.dtd\">\n<!-- Generated by graphviz version 2.43.0 (0)\n -->\n<!-- Title: %3 Pages: 1 -->\n<svg width=\"858pt\" height=\"100pt\"\n viewBox=\"0.00 0.00 858.00 100.00\" xmlns=\"http://www.w3.org/2000/svg\" xmlns:xlink=\"http://www.w3.org/1999/xlink\">\n<g id=\"graph0\" class=\"graph\" transform=\"scale(1 1) rotate(0) translate(4 96)\">\n<title>%3</title>\n<polygon fill=\"white\" stroke=\"transparent\" points=\"-4,4 -4,-96 854,-96 854,4 -4,4\"/>\n<!-- 140695882271808 -->\n<g id=\"node1\" class=\"node\">\n<title>140695882271808</title>\n<polygon fill=\"none\" stroke=\"black\" points=\"2.5,-55.5 2.5,-91.5 199.5,-91.5 199.5,-55.5 2.5,-55.5\"/>\n<text text-anchor=\"middle\" x=\"14\" y=\"-69.8\" font-family=\"Times,serif\" font-size=\"14.00\">b</text>\n<polyline fill=\"none\" stroke=\"black\" points=\"25.5,-55.5 25.5,-91.5 \"/>\n<text text-anchor=\"middle\" x=\"67.5\" y=\"-69.8\" font-family=\"Times,serif\" font-size=\"14.00\">data: 3.0000</text>\n<polyline fill=\"none\" stroke=\"black\" points=\"109.5,-55.5 109.5,-91.5 \"/>\n<text text-anchor=\"middle\" x=\"154.5\" y=\"-69.8\" font-family=\"Times,serif\" font-size=\"14.00\">grad: &#45;8.0000</text>\n</g>\n<!-- 140695882269264* -->\n<g id=\"node3\" class=\"node\">\n<title>140695882269264*</title>\n<ellipse fill=\"none\" stroke=\"black\" cx=\"265\" cy=\"-73.5\" rx=\"27\" ry=\"18\"/>\n<text text-anchor=\"middle\" x=\"265\" y=\"-69.8\" font-family=\"Times,serif\" font-size=\"14.00\">*</text>\n</g>\n<!-- 140695882271808&#45;&gt;140695882269264* -->\n<g id=\"edge8\" class=\"edge\">\n<title>140695882271808&#45;&gt;140695882269264*</title>\n<path fill=\"none\" stroke=\"black\" d=\"M199.51,-73.5C209.51,-73.5 219.17,-73.5 227.82,-73.5\"/>\n<polygon fill=\"black\" stroke=\"black\" points=\"227.84,-77 237.84,-73.5 227.84,-70 227.84,-77\"/>\n</g>\n<!-- 140695882269120+ -->\n<g id=\"node7\" class=\"node\">\n<title>140695882269120+</title>\n<ellipse fill=\"none\" stroke=\"black\" cx=\"265\" cy=\"-18.5\" rx=\"27\" ry=\"18\"/>\n<text text-anchor=\"middle\" x=\"265\" y=\"-14.8\" font-family=\"Times,serif\" font-size=\"14.00\">+</text>\n</g>\n<!-- 140695882271808&#45;&gt;140695882269120+ -->\n<g id=\"edge5\" class=\"edge\">\n<title>140695882271808&#45;&gt;140695882269120+</title>\n<path fill=\"none\" stroke=\"black\" d=\"M174.26,-55.48C183.66,-52.7 193.11,-49.68 202,-46.5 212.53,-42.73 223.76,-37.91 233.72,-33.34\"/>\n<polygon fill=\"black\" stroke=\"black\" points=\"235.26,-36.49 242.83,-29.08 232.29,-30.15 235.26,-36.49\"/>\n</g>\n<!-- 140695882269264 -->\n<g id=\"node2\" class=\"node\">\n<title>140695882269264</title>\n<polygon fill=\"none\" stroke=\"black\" points=\"328,-55.5 328,-91.5 526,-91.5 526,-55.5 328,-55.5\"/>\n<text text-anchor=\"middle\" x=\"339.5\" y=\"-69.8\" font-family=\"Times,serif\" font-size=\"14.00\">c</text>\n<polyline fill=\"none\" stroke=\"black\" points=\"351,-55.5 351,-91.5 \"/>\n<text text-anchor=\"middle\" x=\"395.5\" y=\"-69.8\" font-family=\"Times,serif\" font-size=\"14.00\">data: &#45;6.0000</text>\n<polyline fill=\"none\" stroke=\"black\" points=\"440,-55.5 440,-91.5 \"/>\n<text text-anchor=\"middle\" x=\"483\" y=\"-69.8\" font-family=\"Times,serif\" font-size=\"14.00\">grad: 1.0000</text>\n</g>\n<!-- 140695882252192* -->\n<g id=\"node5\" class=\"node\">\n<title>140695882252192*</title>\n<ellipse fill=\"none\" stroke=\"black\" cx=\"589\" cy=\"-45.5\" rx=\"27\" ry=\"18\"/>\n<text text-anchor=\"middle\" x=\"589\" y=\"-41.8\" font-family=\"Times,serif\" font-size=\"14.00\">*</text>\n</g>\n<!-- 140695882269264&#45;&gt;140695882252192* -->\n<g id=\"edge4\" class=\"edge\">\n<title>140695882269264&#45;&gt;140695882252192*</title>\n<path fill=\"none\" stroke=\"black\" d=\"M526.14,-56.33C535.5,-54.69 544.5,-53.11 552.61,-51.69\"/>\n<polygon fill=\"black\" stroke=\"black\" points=\"553.46,-55.1 562.7,-49.93 552.25,-48.2 553.46,-55.1\"/>\n</g>\n<!-- 140695882269264*&#45;&gt;140695882269264 -->\n<g id=\"edge1\" class=\"edge\">\n<title>140695882269264*&#45;&gt;140695882269264</title>\n<path fill=\"none\" stroke=\"black\" d=\"M292.06,-73.5C299.54,-73.5 308.2,-73.5 317.44,-73.5\"/>\n<polygon fill=\"black\" stroke=\"black\" points=\"317.67,-77 327.67,-73.5 317.67,-70 317.67,-77\"/>\n</g>\n<!-- 140695882252192 -->\n<g id=\"node4\" class=\"node\">\n<title>140695882252192</title>\n<polygon fill=\"none\" stroke=\"black\" points=\"652,-27.5 652,-63.5 850,-63.5 850,-27.5 652,-27.5\"/>\n<text text-anchor=\"middle\" x=\"663.5\" y=\"-41.8\" font-family=\"Times,serif\" font-size=\"14.00\">e</text>\n<polyline fill=\"none\" stroke=\"black\" points=\"675,-27.5 675,-63.5 \"/>\n<text text-anchor=\"middle\" x=\"719.5\" y=\"-41.8\" font-family=\"Times,serif\" font-size=\"14.00\">data: &#45;6.0000</text>\n<polyline fill=\"none\" stroke=\"black\" points=\"764,-27.5 764,-63.5 \"/>\n<text text-anchor=\"middle\" x=\"807\" y=\"-41.8\" font-family=\"Times,serif\" font-size=\"14.00\">grad: 1.0000</text>\n</g>\n<!-- 140695882252192*&#45;&gt;140695882252192 -->\n<g id=\"edge2\" class=\"edge\">\n<title>140695882252192*&#45;&gt;140695882252192</title>\n<path fill=\"none\" stroke=\"black\" d=\"M616.06,-45.5C623.54,-45.5 632.2,-45.5 641.44,-45.5\"/>\n<polygon fill=\"black\" stroke=\"black\" points=\"641.67,-49 651.67,-45.5 641.67,-42 641.67,-49\"/>\n</g>\n<!-- 140695882269120 -->\n<g id=\"node6\" class=\"node\">\n<title>140695882269120</title>\n<polygon fill=\"none\" stroke=\"black\" points=\"328.5,-0.5 328.5,-36.5 525.5,-36.5 525.5,-0.5 328.5,-0.5\"/>\n<text text-anchor=\"middle\" x=\"340\" y=\"-14.8\" font-family=\"Times,serif\" font-size=\"14.00\">d</text>\n<polyline fill=\"none\" stroke=\"black\" points=\"351.5,-0.5 351.5,-36.5 \"/>\n<text text-anchor=\"middle\" x=\"393.5\" y=\"-14.8\" font-family=\"Times,serif\" font-size=\"14.00\">data: 1.0000</text>\n<polyline fill=\"none\" stroke=\"black\" points=\"435.5,-0.5 435.5,-36.5 \"/>\n<text text-anchor=\"middle\" x=\"480.5\" y=\"-14.8\" font-family=\"Times,serif\" font-size=\"14.00\">grad: &#45;6.0000</text>\n</g>\n<!-- 140695882269120&#45;&gt;140695882252192* -->\n<g id=\"edge6\" class=\"edge\">\n<title>140695882269120&#45;&gt;140695882252192*</title>\n<path fill=\"none\" stroke=\"black\" d=\"M525.68,-34.98C535.2,-36.59 544.36,-38.14 552.6,-39.53\"/>\n<polygon fill=\"black\" stroke=\"black\" points=\"552.05,-42.98 562.49,-41.2 553.21,-36.08 552.05,-42.98\"/>\n</g>\n<!-- 140695882269120+&#45;&gt;140695882269120 -->\n<g id=\"edge3\" class=\"edge\">\n<title>140695882269120+&#45;&gt;140695882269120</title>\n<path fill=\"none\" stroke=\"black\" d=\"M292.06,-18.5C299.75,-18.5 308.69,-18.5 318.22,-18.5\"/>\n<polygon fill=\"black\" stroke=\"black\" points=\"318.35,-22 328.35,-18.5 318.35,-15 318.35,-22\"/>\n</g>\n<!-- 140695882269168 -->\n<g id=\"node8\" class=\"node\">\n<title>140695882269168</title>\n<polygon fill=\"none\" stroke=\"black\" points=\"0,-0.5 0,-36.5 202,-36.5 202,-0.5 0,-0.5\"/>\n<text text-anchor=\"middle\" x=\"11.5\" y=\"-14.8\" font-family=\"Times,serif\" font-size=\"14.00\">a</text>\n<polyline fill=\"none\" stroke=\"black\" points=\"23,-0.5 23,-36.5 \"/>\n<text text-anchor=\"middle\" x=\"67.5\" y=\"-14.8\" font-family=\"Times,serif\" font-size=\"14.00\">data: &#45;2.0000</text>\n<polyline fill=\"none\" stroke=\"black\" points=\"112,-0.5 112,-36.5 \"/>\n<text text-anchor=\"middle\" x=\"157\" y=\"-14.8\" font-family=\"Times,serif\" font-size=\"14.00\">grad: &#45;3.0000</text>\n</g>\n<!-- 140695882269168&#45;&gt;140695882269264* -->\n<g id=\"edge9\" class=\"edge\">\n<title>140695882269168&#45;&gt;140695882269264*</title>\n<path fill=\"none\" stroke=\"black\" d=\"M171.25,-36.55C181.63,-39.64 192.15,-42.99 202,-46.5 212.29,-50.16 223.28,-54.72 233.11,-59.05\"/>\n<polygon fill=\"black\" stroke=\"black\" points=\"231.93,-62.36 242.49,-63.26 234.8,-55.97 231.93,-62.36\"/>\n</g>\n<!-- 140695882269168&#45;&gt;140695882269120+ -->\n<g id=\"edge7\" class=\"edge\">\n<title>140695882269168&#45;&gt;140695882269120+</title>\n<path fill=\"none\" stroke=\"black\" d=\"M202.29,-18.5C211.28,-18.5 219.93,-18.5 227.77,-18.5\"/>\n<polygon fill=\"black\" stroke=\"black\" points=\"227.91,-22 237.91,-18.5 227.91,-15 227.91,-22\"/>\n</g>\n</g>\n</svg>\n",
            "text/plain": [
              "<graphviz.graphs.Digraph at 0x7ff650153130>"
            ]
          },
          "metadata": {},
          "execution_count": 18
        }
      ]
    },
    {
      "cell_type": "code",
      "source": [],
      "metadata": {
        "id": "8xIQEnpKoXjB"
      },
      "execution_count": 18,
      "outputs": []
    },
    {
      "cell_type": "markdown",
      "source": [
        "# Update micrograd with other operations and reverse operations"
      ],
      "metadata": {
        "id": "zPSaR33hwrIG"
      }
    },
    {
      "cell_type": "code",
      "source": [
        "# read through the comments, as I am skipping in-depth explainations here"
      ],
      "metadata": {
        "id": "jGUq3uifyzKa"
      },
      "execution_count": 26,
      "outputs": []
    },
    {
      "cell_type": "code",
      "source": [
        "# updating our Value class with other ops and reverse ops\n",
        "\n",
        "class Value:\n",
        "    \"\"\" stores a single scalar value and its gradient \"\"\"\n",
        "\n",
        "    def __init__(self, data, _children=(), _op='', label=''):\n",
        "        self.label = label  # optional, Value variable/node name\n",
        "        self.data = data\n",
        "        self.grad = 0.0     # initially, the grad be zero (means no effect on output)\n",
        "\n",
        "        # internal variables used for autograd graph construction\n",
        "        self._prev = set(_children)     # previous node\n",
        "        self._op = _op                  # the operation that produced this node\n",
        "        self._backward = lambda: None   # to do the little piece of chain rule at each local node, backwards\n",
        "                                        # by default _backward is None, as there is nothing to do at a leaf node\n",
        "\n",
        "    def __repr__(self):\n",
        "        return f\"Value(label={self.label if self.label else 'Null'}, data={self.data}, grad={self.grad})\"\n",
        "\n",
        "    def __add__(self, other):\n",
        "        other = other if isinstance(other, Value) else Value(other)\n",
        "        out = Value(self.data + other.data, (self, other), '+')\n",
        "\n",
        "        def _backward():\n",
        "            # f(x) = x + y, then f'(x) = 1\n",
        "            # local derivative (= 1.0) * out's grad\n",
        "            self.grad += 1.0 * out.grad\n",
        "            other.grad += 1.0 * out.grad\n",
        "        out._backward = _backward\n",
        "\n",
        "        return out\n",
        "    \n",
        "    def __mul__(self, other):\n",
        "        other = other if isinstance(other, Value) else Value(other)\n",
        "        out = Value(self.data * other.data, (self, other), '*')\n",
        "\n",
        "        def _backward():\n",
        "            # f(x) = x * y, then f'(x) = y\n",
        "            # local derivative (= switching the data of leaf nodes) * out's grad\n",
        "            self.grad += other.data * out.grad\n",
        "            other.grad += self.data * out.grad\n",
        "        out._backward = _backward\n",
        "\n",
        "        return out\n",
        "    \n",
        "    def __pow__(self, other):\n",
        "        assert isinstance(other, (int, float)), \"only supporting int/float powers for now\"\n",
        "        out = Value(self.data**other, (self,), f'**{other}')\n",
        "\n",
        "        def _backward():\n",
        "            # f(x) = x^n, then f'(x) = n * x^(n-1)\n",
        "            # local derivative (= nx^(n-1)) * out's grad\n",
        "            self.grad += (other * self.data**(other-1)) * out.grad\n",
        "        out._backward = _backward\n",
        "\n",
        "        return out\n",
        "    \n",
        "    def exp(self):\n",
        "        x = self.data\n",
        "        ex = math.exp(x)\n",
        "        out = Value(ex, (self, ), 'exp')\n",
        "\n",
        "        def _backward():\n",
        "            # f(x) = exp(x), then f'(x) = exp(x)\n",
        "            # local derivative of exp (exp(x)) * out's grad\n",
        "            self.grad += ex * out.grad\n",
        "        out._backward = _backward\n",
        "\n",
        "        return out\n",
        "\n",
        "    def relu(self):\n",
        "        out = Value(0 if self.data < 0 else self.data, (self,), 'ReLU')\n",
        "\n",
        "        def _backward():\n",
        "            # f(x) = ReLU(x) = max(0,x), then f'(x) = {x:1|x>0 and a:0|x<=0}\n",
        "            # local derivative of ReLU (x > 0) * out's grad\n",
        "            self.grad += (out.data > 0) * out.grad\n",
        "        out._backward = _backward\n",
        "\n",
        "        return out\n",
        "    \n",
        "    def tanh(self):\n",
        "        x = self.data\n",
        "        t = (math.exp(2*x) - 1) / (math.exp(2*x) + 1)\n",
        "        out = Value(t, (self, ), 'tanh')\n",
        "\n",
        "        def _backward():\n",
        "            # f(x) = tanh(x), then f'(x) = 1 - tanh(x)^2\n",
        "            # local derivative of tanh (1 - tanh(x)**2) * out's grad\n",
        "            self.grad += (1 - t**2) * out.grad\n",
        "        out._backward = _backward\n",
        "\n",
        "        return out\n",
        "    \n",
        "    def __neg__(self): # -self\n",
        "        return self * -1\n",
        "\n",
        "    def __radd__(self, other): # other + self\n",
        "        return self + other\n",
        "\n",
        "    def __sub__(self, other): # self - other\n",
        "        return self + (-other)\n",
        "\n",
        "    def __rsub__(self, other): # other - self\n",
        "        return other + (-self)\n",
        "\n",
        "    def __rmul__(self, other): # other * self\n",
        "        return self * other\n",
        "\n",
        "    def __truediv__(self, other): # self / other\n",
        "        return self * other**-1\n",
        "\n",
        "    def __rtruediv__(self, other): # other / self\n",
        "        return other * self**-1\n",
        "    \n",
        "    def backward(self): # backpropagation\n",
        "        # our topological sort function\n",
        "        def topological_sort(node):\n",
        "            topo = []\n",
        "            visited = set()\n",
        "            def build_topo(v):\n",
        "                if v not in visited:\n",
        "                    visited.add(v)\n",
        "                    for child in v._prev:\n",
        "                        build_topo(child)\n",
        "                    topo.append(v)\n",
        "            build_topo(node)\n",
        "            return topo\n",
        "\n",
        "        # base case\n",
        "        self.grad = 1.0\n",
        "\n",
        "        # and then traverse backwards, calling _backward() on the way\n",
        "        for node in reversed(topological_sort(self)):\n",
        "            node._backward()\n"
      ],
      "metadata": {
        "id": "v0mQL81-wvJQ"
      },
      "execution_count": 27,
      "outputs": []
    },
    {
      "cell_type": "code",
      "source": [],
      "metadata": {
        "id": "FquBwSZ3-Koy"
      },
      "execution_count": null,
      "outputs": []
    }
  ]
}