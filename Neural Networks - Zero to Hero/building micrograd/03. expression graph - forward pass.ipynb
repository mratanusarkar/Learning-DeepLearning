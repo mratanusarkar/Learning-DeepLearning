{
  "nbformat": 4,
  "nbformat_minor": 0,
  "metadata": {
    "colab": {
      "provenance": [],
      "authorship_tag": "ABX9TyMjOKCyl5+68SK8/oV/VUzJ"
    },
    "kernelspec": {
      "name": "python3",
      "display_name": "Python 3"
    },
    "language_info": {
      "name": "python"
    }
  },
  "cells": [
    {
      "cell_type": "markdown",
      "source": [
        "# Building Micrograd"
      ],
      "metadata": {
        "id": "sjL5eJe3JLi0"
      }
    },
    {
      "cell_type": "markdown",
      "source": [
        "source: https://github.com/karpathy/micrograd/"
      ],
      "metadata": {
        "id": "ZQuOdr-CV8E7"
      }
    },
    {
      "cell_type": "code",
      "execution_count": 1,
      "metadata": {
        "id": "QBIBkIXU9D3U"
      },
      "outputs": [],
      "source": [
        "# micrograd Value class\n",
        "\n",
        "class Value:\n",
        "    \"\"\" stores a single scalar value and its gradient \"\"\"\n",
        "\n",
        "    def __init__(self, data, _children=(), _op='', label=''):\n",
        "        self.data = data\n",
        "        self.label = label  # optional, Value variable/node name\n",
        "\n",
        "        # internal variables used for autograd graph construction\n",
        "        self._prev = set(_children) # previous node\n",
        "        self._op = _op              # the operation that produced this node\n",
        "\n",
        "    def __repr__(self):\n",
        "        return f\"Value(data={self.data})\"\n",
        "\n",
        "    def __add__(self, other):\n",
        "        out = Value(self.data + other.data, (self, other), '+')\n",
        "        return out\n",
        "    \n",
        "    def __mul__(self, other):\n",
        "        out = Value(self.data * other.data, (self, other), '*')\n",
        "        return out\n"
      ]
    },
    {
      "cell_type": "code",
      "source": [
        "# create functions for visualization, graphing and debugging using graphviz\n",
        "\n",
        "from graphviz import Digraph\n",
        "\n",
        "def trace(root):\n",
        "    # builds a set of all nodes and edges in a graph\n",
        "    nodes, edges = set(), set()\n",
        "    def build(v):\n",
        "        if v not in nodes:\n",
        "            nodes.add(v)\n",
        "            for child in v._prev:\n",
        "                edges.add((child, v))\n",
        "                build(child)\n",
        "    build(root)\n",
        "    return nodes, edges\n",
        "\n",
        "def draw_dot(root, format='svg', rankdir='LR'):\n",
        "    \"\"\"\n",
        "    format: png | svg | ...\n",
        "    rankdir: TB (top to bottom graph) | LR (left to right)\n",
        "    \"\"\"\n",
        "    assert rankdir in ['LR', 'TB']\n",
        "    nodes, edges = trace(root)\n",
        "    dot = Digraph(format=format, graph_attr={'rankdir': rankdir})\n",
        "    \n",
        "    for n in nodes:\n",
        "        dot.node(name=str(id(n)), label = \"{ %s | data: %.4f }\" % (n.label, n.data), shape='record')\n",
        "        if n._op:\n",
        "            dot.node(name=str(id(n)) + n._op, label=n._op)\n",
        "            dot.edge(str(id(n)) + n._op, str(id(n)))\n",
        "    \n",
        "    for n1, n2 in edges:\n",
        "        dot.edge(str(id(n1)), str(id(n2)) + n2._op)\n",
        "    \n",
        "    return dot"
      ],
      "metadata": {
        "id": "N5T7E0W19JZe"
      },
      "execution_count": 2,
      "outputs": []
    },
    {
      "cell_type": "code",
      "source": [],
      "metadata": {
        "id": "Fny1VPSPuVc5"
      },
      "execution_count": 2,
      "outputs": []
    },
    {
      "cell_type": "markdown",
      "source": [
        "# Building an Expression and Forward Pass"
      ],
      "metadata": {
        "id": "F4WQ4PzMuVt3"
      }
    },
    {
      "cell_type": "code",
      "source": [
        "# let's build an expression\n",
        "a = Value(2.0, label='a')\n",
        "b = Value(-3.0, label='b')\n",
        "c = a * b;  c.label='c'\n",
        "d = Value(10.0, label='d')\n",
        "e = c + d;  e.label='e'\n",
        "f = Value(-2.0, label='f')\n",
        "L = e * f;  L.label='L'\n",
        "print(L) # L is loss function which we will try to minimize in backpropagation"
      ],
      "metadata": {
        "colab": {
          "base_uri": "https://localhost:8080/"
        },
        "id": "EMH2ogja9HR3",
        "outputId": "d082ae25-9921-4524-c670-f4bf83749784"
      },
      "execution_count": 3,
      "outputs": [
        {
          "output_type": "stream",
          "name": "stdout",
          "text": [
            "Value(data=-8.0)\n"
          ]
        }
      ]
    },
    {
      "cell_type": "code",
      "source": [
        "# and take a look at the Value objects\n",
        "print(f'{a.label}: prev:{a._prev}, op: {a._op}')\n",
        "print(f'{b.label}: prev:{b._prev}, op: {b._op}')\n",
        "print(f'{c.label}: prev:{c._prev}, op: {c._op}')\n",
        "print(f'{d.label}: prev:{d._prev}, op: {d._op}')\n",
        "print(f'{e.label}: prev:{e._prev}, op: {e._op}')\n",
        "print(f'{f.label}: prev:{f._prev}, op: {f._op}')\n",
        "print(f'{L.label}: prev:{L._prev}, op: {L._op}')"
      ],
      "metadata": {
        "colab": {
          "base_uri": "https://localhost:8080/"
        },
        "id": "yIP16vgv9JW-",
        "outputId": "4af511e4-5041-481f-c771-171eed5c7d93"
      },
      "execution_count": 4,
      "outputs": [
        {
          "output_type": "stream",
          "name": "stdout",
          "text": [
            "a: prev:set(), op: \n",
            "b: prev:set(), op: \n",
            "c: prev:{Value(data=2.0), Value(data=-3.0)}, op: *\n",
            "d: prev:set(), op: \n",
            "e: prev:{Value(data=10.0), Value(data=-6.0)}, op: +\n",
            "f: prev:set(), op: \n",
            "L: prev:{Value(data=-2.0), Value(data=4.0)}, op: *\n"
          ]
        }
      ]
    },
    {
      "cell_type": "code",
      "source": [
        "# let's take a look at the expression graph\n",
        "draw_dot(L)"
      ],
      "metadata": {
        "colab": {
          "base_uri": "https://localhost:8080/",
          "height": 227
        },
        "id": "7WnHzExg9Jby",
        "outputId": "1a7d38d6-58bc-45ce-e4b7-bb37562135e4"
      },
      "execution_count": 5,
      "outputs": [
        {
          "output_type": "execute_result",
          "data": {
            "image/svg+xml": "<?xml version=\"1.0\" encoding=\"UTF-8\" standalone=\"no\"?>\n<!DOCTYPE svg PUBLIC \"-//W3C//DTD SVG 1.1//EN\"\n \"http://www.w3.org/Graphics/SVG/1.1/DTD/svg11.dtd\">\n<!-- Generated by graphviz version 2.43.0 (0)\n -->\n<!-- Title: %3 Pages: 1 -->\n<svg width=\"836pt\" height=\"154pt\"\n viewBox=\"0.00 0.00 836.00 154.00\" xmlns=\"http://www.w3.org/2000/svg\" xmlns:xlink=\"http://www.w3.org/1999/xlink\">\n<g id=\"graph0\" class=\"graph\" transform=\"scale(1 1) rotate(0) translate(4 150)\">\n<title>%3</title>\n<polygon fill=\"white\" stroke=\"transparent\" points=\"-4,4 -4,-150 832,-150 832,4 -4,4\"/>\n<!-- 140179635247328 -->\n<g id=\"node1\" class=\"node\">\n<title>140179635247328</title>\n<polygon fill=\"none\" stroke=\"black\" points=\"239,-27.5 239,-63.5 351,-63.5 351,-27.5 239,-27.5\"/>\n<text text-anchor=\"middle\" x=\"250.5\" y=\"-41.8\" font-family=\"Times,serif\" font-size=\"14.00\">c</text>\n<polyline fill=\"none\" stroke=\"black\" points=\"262,-27.5 262,-63.5 \"/>\n<text text-anchor=\"middle\" x=\"306.5\" y=\"-41.8\" font-family=\"Times,serif\" font-size=\"14.00\">data: &#45;6.0000</text>\n</g>\n<!-- 140179635248624+ -->\n<g id=\"node10\" class=\"node\">\n<title>140179635248624+</title>\n<ellipse fill=\"none\" stroke=\"black\" cx=\"415\" cy=\"-72.5\" rx=\"27\" ry=\"18\"/>\n<text text-anchor=\"middle\" x=\"415\" y=\"-68.8\" font-family=\"Times,serif\" font-size=\"14.00\">+</text>\n</g>\n<!-- 140179635247328&#45;&gt;140179635248624+ -->\n<g id=\"edge6\" class=\"edge\">\n<title>140179635247328&#45;&gt;140179635248624+</title>\n<path fill=\"none\" stroke=\"black\" d=\"M351.2,-58.13C360.77,-60.32 370.48,-62.54 379.3,-64.56\"/>\n<polygon fill=\"black\" stroke=\"black\" points=\"378.67,-68.01 389.2,-66.82 380.23,-61.18 378.67,-68.01\"/>\n</g>\n<!-- 140179635247328* -->\n<g id=\"node2\" class=\"node\">\n<title>140179635247328*</title>\n<ellipse fill=\"none\" stroke=\"black\" cx=\"175\" cy=\"-45.5\" rx=\"27\" ry=\"18\"/>\n<text text-anchor=\"middle\" x=\"175\" y=\"-41.8\" font-family=\"Times,serif\" font-size=\"14.00\">*</text>\n</g>\n<!-- 140179635247328*&#45;&gt;140179635247328 -->\n<g id=\"edge1\" class=\"edge\">\n<title>140179635247328*&#45;&gt;140179635247328</title>\n<path fill=\"none\" stroke=\"black\" d=\"M202.19,-45.5C210.17,-45.5 219.32,-45.5 228.68,-45.5\"/>\n<polygon fill=\"black\" stroke=\"black\" points=\"228.89,-49 238.89,-45.5 228.89,-42 228.89,-49\"/>\n</g>\n<!-- 140179635247856 -->\n<g id=\"node3\" class=\"node\">\n<title>140179635247856</title>\n<polygon fill=\"none\" stroke=\"black\" points=\"478,-109.5 478,-145.5 588,-145.5 588,-109.5 478,-109.5\"/>\n<text text-anchor=\"middle\" x=\"488.5\" y=\"-123.8\" font-family=\"Times,serif\" font-size=\"14.00\">f</text>\n<polyline fill=\"none\" stroke=\"black\" points=\"499,-109.5 499,-145.5 \"/>\n<text text-anchor=\"middle\" x=\"543.5\" y=\"-123.8\" font-family=\"Times,serif\" font-size=\"14.00\">data: &#45;2.0000</text>\n</g>\n<!-- 140179635248000* -->\n<g id=\"node8\" class=\"node\">\n<title>140179635248000*</title>\n<ellipse fill=\"none\" stroke=\"black\" cx=\"651\" cy=\"-99.5\" rx=\"27\" ry=\"18\"/>\n<text text-anchor=\"middle\" x=\"651\" y=\"-95.8\" font-family=\"Times,serif\" font-size=\"14.00\">*</text>\n</g>\n<!-- 140179635247856&#45;&gt;140179635248000* -->\n<g id=\"edge7\" class=\"edge\">\n<title>140179635247856&#45;&gt;140179635248000*</title>\n<path fill=\"none\" stroke=\"black\" d=\"M588.26,-114.4C597.49,-112.18 606.84,-109.92 615.37,-107.86\"/>\n<polygon fill=\"black\" stroke=\"black\" points=\"616.42,-111.21 625.32,-105.46 614.78,-104.4 616.42,-111.21\"/>\n</g>\n<!-- 140179635247376 -->\n<g id=\"node4\" class=\"node\">\n<title>140179635247376</title>\n<polygon fill=\"none\" stroke=\"black\" points=\"2.5,-55.5 2.5,-91.5 109.5,-91.5 109.5,-55.5 2.5,-55.5\"/>\n<text text-anchor=\"middle\" x=\"14\" y=\"-69.8\" font-family=\"Times,serif\" font-size=\"14.00\">a</text>\n<polyline fill=\"none\" stroke=\"black\" points=\"25.5,-55.5 25.5,-91.5 \"/>\n<text text-anchor=\"middle\" x=\"67.5\" y=\"-69.8\" font-family=\"Times,serif\" font-size=\"14.00\">data: 2.0000</text>\n</g>\n<!-- 140179635247376&#45;&gt;140179635247328* -->\n<g id=\"edge4\" class=\"edge\">\n<title>140179635247376&#45;&gt;140179635247328*</title>\n<path fill=\"none\" stroke=\"black\" d=\"M109.68,-60.89C119.84,-58.46 130.23,-55.98 139.62,-53.73\"/>\n<polygon fill=\"black\" stroke=\"black\" points=\"140.44,-57.13 149.35,-51.4 138.81,-50.32 140.44,-57.13\"/>\n</g>\n<!-- 140179635246368 -->\n<g id=\"node5\" class=\"node\">\n<title>140179635246368</title>\n<polygon fill=\"none\" stroke=\"black\" points=\"0,-0.5 0,-36.5 112,-36.5 112,-0.5 0,-0.5\"/>\n<text text-anchor=\"middle\" x=\"11.5\" y=\"-14.8\" font-family=\"Times,serif\" font-size=\"14.00\">b</text>\n<polyline fill=\"none\" stroke=\"black\" points=\"23,-0.5 23,-36.5 \"/>\n<text text-anchor=\"middle\" x=\"67.5\" y=\"-14.8\" font-family=\"Times,serif\" font-size=\"14.00\">data: &#45;3.0000</text>\n</g>\n<!-- 140179635246368&#45;&gt;140179635247328* -->\n<g id=\"edge8\" class=\"edge\">\n<title>140179635246368&#45;&gt;140179635247328*</title>\n<path fill=\"none\" stroke=\"black\" d=\"M112.07,-31.21C121.34,-33.35 130.73,-35.51 139.29,-37.49\"/>\n<polygon fill=\"black\" stroke=\"black\" points=\"138.74,-40.96 149.27,-39.79 140.32,-34.13 138.74,-40.96\"/>\n</g>\n<!-- 140179635247952 -->\n<g id=\"node6\" class=\"node\">\n<title>140179635247952</title>\n<polygon fill=\"none\" stroke=\"black\" points=\"238,-82.5 238,-118.5 352,-118.5 352,-82.5 238,-82.5\"/>\n<text text-anchor=\"middle\" x=\"249.5\" y=\"-96.8\" font-family=\"Times,serif\" font-size=\"14.00\">d</text>\n<polyline fill=\"none\" stroke=\"black\" points=\"261,-82.5 261,-118.5 \"/>\n<text text-anchor=\"middle\" x=\"306.5\" y=\"-96.8\" font-family=\"Times,serif\" font-size=\"14.00\">data: 10.0000</text>\n</g>\n<!-- 140179635247952&#45;&gt;140179635248624+ -->\n<g id=\"edge9\" class=\"edge\">\n<title>140179635247952&#45;&gt;140179635248624+</title>\n<path fill=\"none\" stroke=\"black\" d=\"M352.24,-87.16C361.52,-84.95 370.9,-82.73 379.44,-80.7\"/>\n<polygon fill=\"black\" stroke=\"black\" points=\"380.47,-84.05 389.39,-78.34 378.85,-77.24 380.47,-84.05\"/>\n</g>\n<!-- 140179635248000 -->\n<g id=\"node7\" class=\"node\">\n<title>140179635248000</title>\n<polygon fill=\"none\" stroke=\"black\" points=\"714,-81.5 714,-117.5 828,-117.5 828,-81.5 714,-81.5\"/>\n<text text-anchor=\"middle\" x=\"726.5\" y=\"-95.8\" font-family=\"Times,serif\" font-size=\"14.00\">L</text>\n<polyline fill=\"none\" stroke=\"black\" points=\"739,-81.5 739,-117.5 \"/>\n<text text-anchor=\"middle\" x=\"783.5\" y=\"-95.8\" font-family=\"Times,serif\" font-size=\"14.00\">data: &#45;8.0000</text>\n</g>\n<!-- 140179635248000*&#45;&gt;140179635248000 -->\n<g id=\"edge2\" class=\"edge\">\n<title>140179635248000*&#45;&gt;140179635248000</title>\n<path fill=\"none\" stroke=\"black\" d=\"M678.19,-99.5C685.88,-99.5 694.67,-99.5 703.69,-99.5\"/>\n<polygon fill=\"black\" stroke=\"black\" points=\"703.93,-103 713.93,-99.5 703.93,-96 703.93,-103\"/>\n</g>\n<!-- 140179635248624 -->\n<g id=\"node9\" class=\"node\">\n<title>140179635248624</title>\n<polygon fill=\"none\" stroke=\"black\" points=\"479.5,-54.5 479.5,-90.5 586.5,-90.5 586.5,-54.5 479.5,-54.5\"/>\n<text text-anchor=\"middle\" x=\"491\" y=\"-68.8\" font-family=\"Times,serif\" font-size=\"14.00\">e</text>\n<polyline fill=\"none\" stroke=\"black\" points=\"502.5,-54.5 502.5,-90.5 \"/>\n<text text-anchor=\"middle\" x=\"544.5\" y=\"-68.8\" font-family=\"Times,serif\" font-size=\"14.00\">data: 4.0000</text>\n</g>\n<!-- 140179635248624&#45;&gt;140179635248000* -->\n<g id=\"edge5\" class=\"edge\">\n<title>140179635248624&#45;&gt;140179635248000*</title>\n<path fill=\"none\" stroke=\"black\" d=\"M586.57,-84.74C596.33,-87.01 606.29,-89.33 615.34,-91.43\"/>\n<polygon fill=\"black\" stroke=\"black\" points=\"614.58,-94.85 625.12,-93.71 616.17,-88.03 614.58,-94.85\"/>\n</g>\n<!-- 140179635248624+&#45;&gt;140179635248624 -->\n<g id=\"edge3\" class=\"edge\">\n<title>140179635248624+&#45;&gt;140179635248624</title>\n<path fill=\"none\" stroke=\"black\" d=\"M442.03,-72.5C450.26,-72.5 459.74,-72.5 469.39,-72.5\"/>\n<polygon fill=\"black\" stroke=\"black\" points=\"469.46,-76 479.46,-72.5 469.46,-69 469.46,-76\"/>\n</g>\n</g>\n</svg>\n",
            "text/plain": [
              "<graphviz.graphs.Digraph at 0x7f7e1d5d1730>"
            ]
          },
          "metadata": {},
          "execution_count": 5
        }
      ]
    },
    {
      "cell_type": "code",
      "source": [
        "# conclusion so far:\n",
        "# so far, we built out a mathematical expression using only (+) and (*) operators\n",
        "# all the nodes are scaler valued along the way\n",
        "# and we can do a forward pass to build out a mathematical expression from inputs (a, b) to a single output L\n",
        "# we can also lay out a graph to visualise the forward pass\n",
        "# and here the output of one forward pass is: L = -8.0"
      ],
      "metadata": {
        "id": "-qAwfZwxRv1N"
      },
      "execution_count": 6,
      "outputs": []
    },
    {
      "cell_type": "code",
      "source": [],
      "metadata": {
        "id": "96VT8--ct3p-"
      },
      "execution_count": 6,
      "outputs": []
    },
    {
      "cell_type": "markdown",
      "source": [
        "# Backpropagation"
      ],
      "metadata": {
        "id": "sxBzOjjut31z"
      }
    },
    {
      "cell_type": "code",
      "source": [
        "# and now:\n",
        "# we would like to run backpropagation . . .\n",
        "# we start at the end, L\n",
        "# and we are going to do a reverse pass, and calculate the gradient along all the intermediate values\n",
        "# and for every single intermediate values, we are going to calculate the derivative of each node w.r.t L"
      ],
      "metadata": {
        "id": "2URYUBTgtEsB"
      },
      "execution_count": 7,
      "outputs": []
    },
    {
      "cell_type": "code",
      "source": [
        "# i.e, we find out dL/dL, dL/df, dL/de, ..., dL/db, dL/da"
      ],
      "metadata": {
        "id": "vsaVUyCYulmh"
      },
      "execution_count": 8,
      "outputs": []
    },
    {
      "cell_type": "code",
      "source": [
        "# now, dL/dL = 1\n",
        "# we need to figure out the other derivatives\n",
        "#\n",
        "# in the context of neural networks, we will be interested in\n",
        "# the derivatives of the Loss function (L) w.r.t the nodes that consists of the weights (w) and biases (b)\n",
        "#\n",
        "# (the input leaf nodes and the intermediate Xs would be fixed values, and we are not interested in them)\n",
        "# (we can only control/tune the w and b during training and those are the ones we are interested in for grads)"
      ],
      "metadata": {
        "id": "ZrilnVwhvCkU"
      },
      "execution_count": 9,
      "outputs": []
    },
    {
      "cell_type": "code",
      "source": [
        "# let's figure out the intermediate grads with our dummy expression (dL/df, dL/de, ..., dL/da) in the next notebook"
      ],
      "metadata": {
        "id": "TMQfGWvSxU10"
      },
      "execution_count": 10,
      "outputs": []
    },
    {
      "cell_type": "code",
      "source": [],
      "metadata": {
        "id": "0-ENoXsQxU6q"
      },
      "execution_count": 10,
      "outputs": []
    }
  ]
}