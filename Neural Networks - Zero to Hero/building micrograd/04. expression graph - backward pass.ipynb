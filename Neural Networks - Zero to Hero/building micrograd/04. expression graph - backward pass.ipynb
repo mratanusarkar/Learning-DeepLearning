{
  "nbformat": 4,
  "nbformat_minor": 0,
  "metadata": {
    "colab": {
      "provenance": [],
      "authorship_tag": "ABX9TyNPJgoTLDgGHJjBfriSV3Fk"
    },
    "kernelspec": {
      "name": "python3",
      "display_name": "Python 3"
    },
    "language_info": {
      "name": "python"
    }
  },
  "cells": [
    {
      "cell_type": "markdown",
      "source": [
        "# Manual Backpropagation"
      ],
      "metadata": {
        "id": "i-Ancp4o1Os9"
      }
    },
    {
      "cell_type": "code",
      "execution_count": 1,
      "metadata": {
        "id": "ooV4o53X1CcD"
      },
      "outputs": [],
      "source": [
        "# as discussed in the previous notebook,\n",
        "# let's figure out the intermediate grads with our dummy expression (dL/df, dL/de, ..., dL/da)\n",
        "# but for that, let us first update our Value class to hold and compute the grads"
      ]
    },
    {
      "cell_type": "code",
      "source": [
        "# updated micrograd Value class to compute and hold grads\n",
        "\n",
        "class Value:\n",
        "    \"\"\" stores a single scalar value and its gradient \"\"\"\n",
        "\n",
        "    def __init__(self, data, _children=(), _op='', label=''):\n",
        "        self.data = data\n",
        "        self.label = label  # optional, Value variable/node name\n",
        "        self.grad = 0.0     # initially, the grad be zero (means no effect on output)\n",
        "\n",
        "        # internal variables used for autograd graph construction\n",
        "        self._prev = set(_children) # previous node\n",
        "        self._op = _op              # the operation that produced this node\n",
        "\n",
        "    def __repr__(self):\n",
        "        return f\"Value(data={self.data})\"\n",
        "\n",
        "    def __add__(self, other):\n",
        "        out = Value(self.data + other.data, (self, other), '+')\n",
        "        return out\n",
        "    \n",
        "    def __mul__(self, other):\n",
        "        out = Value(self.data * other.data, (self, other), '*')\n",
        "        return out\n"
      ],
      "metadata": {
        "id": "xwEpK05x45mQ"
      },
      "execution_count": 2,
      "outputs": []
    },
    {
      "cell_type": "code",
      "source": [
        "# updated visualization functions to show grads\n",
        "\n",
        "from graphviz import Digraph\n",
        "\n",
        "def trace(root):\n",
        "    # builds a set of all nodes and edges in a graph\n",
        "    nodes, edges = set(), set()\n",
        "    def build(v):\n",
        "        if v not in nodes:\n",
        "            nodes.add(v)\n",
        "            for child in v._prev:\n",
        "                edges.add((child, v))\n",
        "                build(child)\n",
        "    build(root)\n",
        "    return nodes, edges\n",
        "\n",
        "def draw_dot(root, format='svg', rankdir='LR'):\n",
        "    \"\"\"\n",
        "    format: png | svg | ...\n",
        "    rankdir: TB (top to bottom graph) | LR (left to right)\n",
        "    \"\"\"\n",
        "    assert rankdir in ['LR', 'TB']\n",
        "    nodes, edges = trace(root)\n",
        "    dot = Digraph(format=format, graph_attr={'rankdir': rankdir})\n",
        "    \n",
        "    for n in nodes:\n",
        "        dot.node(name=str(id(n)), label = \"{ %s | data: %.4f | grad: %.4f }\" % (n.label, n.data, n.grad), shape='record')\n",
        "        if n._op:\n",
        "            dot.node(name=str(id(n)) + n._op, label=n._op)\n",
        "            dot.edge(str(id(n)) + n._op, str(id(n)))\n",
        "    \n",
        "    for n1, n2 in edges:\n",
        "        dot.edge(str(id(n1)), str(id(n2)) + n2._op)\n",
        "    \n",
        "    return dot"
      ],
      "metadata": {
        "id": "1O2jqMVu5C-C"
      },
      "execution_count": 3,
      "outputs": []
    },
    {
      "cell_type": "code",
      "source": [],
      "metadata": {
        "id": "W7euoi0X50HD"
      },
      "execution_count": 3,
      "outputs": []
    },
    {
      "cell_type": "code",
      "source": [
        "# Importing expression from the previous notebook\n",
        "a = Value(2.0, label='a')\n",
        "b = Value(-3.0, label='b')\n",
        "c = a * b;  c.label='c'\n",
        "d = Value(10.0, label='d')\n",
        "e = c + d;  e.label='e'\n",
        "f = Value(-2.0, label='f')\n",
        "L = e * f;  L.label='L'\n",
        "print(L) # L is loss function which we will try to minimize in backpropagation"
      ],
      "metadata": {
        "colab": {
          "base_uri": "https://localhost:8080/"
        },
        "id": "2pA1bxc355E6",
        "outputId": "28c79b32-b763-4686-b577-ab6cbdc606cc"
      },
      "execution_count": 4,
      "outputs": [
        {
          "output_type": "stream",
          "name": "stdout",
          "text": [
            "Value(data=-8.0)\n"
          ]
        }
      ]
    },
    {
      "cell_type": "code",
      "source": [
        "draw_dot(L)"
      ],
      "metadata": {
        "colab": {
          "base_uri": "https://localhost:8080/",
          "height": 247
        },
        "id": "LBMzXigt6AUZ",
        "outputId": "276a27e9-4f86-47e2-8db0-5287fed19cfd"
      },
      "execution_count": 5,
      "outputs": [
        {
          "output_type": "execute_result",
          "data": {
            "image/svg+xml": "<?xml version=\"1.0\" encoding=\"UTF-8\" standalone=\"no\"?>\n<!DOCTYPE svg PUBLIC \"-//W3C//DTD SVG 1.1//EN\"\n \"http://www.w3.org/Graphics/SVG/1.1/DTD/svg11.dtd\">\n<!-- Generated by graphviz version 2.43.0 (0)\n -->\n<!-- Title: %3 Pages: 1 -->\n<svg width=\"1180pt\" height=\"154pt\"\n viewBox=\"0.00 0.00 1180.00 154.00\" xmlns=\"http://www.w3.org/2000/svg\" xmlns:xlink=\"http://www.w3.org/1999/xlink\">\n<g id=\"graph0\" class=\"graph\" transform=\"scale(1 1) rotate(0) translate(4 150)\">\n<title>%3</title>\n<polygon fill=\"white\" stroke=\"transparent\" points=\"-4,4 -4,-150 1176,-150 1176,4 -4,4\"/>\n<!-- 139899568661504 -->\n<g id=\"node1\" class=\"node\">\n<title>139899568661504</title>\n<polygon fill=\"none\" stroke=\"black\" points=\"650,-109.5 650,-145.5 846,-145.5 846,-109.5 650,-109.5\"/>\n<text text-anchor=\"middle\" x=\"660.5\" y=\"-123.8\" font-family=\"Times,serif\" font-size=\"14.00\">f</text>\n<polyline fill=\"none\" stroke=\"black\" points=\"671,-109.5 671,-145.5 \"/>\n<text text-anchor=\"middle\" x=\"715.5\" y=\"-123.8\" font-family=\"Times,serif\" font-size=\"14.00\">data: &#45;2.0000</text>\n<polyline fill=\"none\" stroke=\"black\" points=\"760,-109.5 760,-145.5 \"/>\n<text text-anchor=\"middle\" x=\"803\" y=\"-123.8\" font-family=\"Times,serif\" font-size=\"14.00\">grad: 0.0000</text>\n</g>\n<!-- 139899568661456* -->\n<g id=\"node10\" class=\"node\">\n<title>139899568661456*</title>\n<ellipse fill=\"none\" stroke=\"black\" cx=\"909\" cy=\"-99.5\" rx=\"27\" ry=\"18\"/>\n<text text-anchor=\"middle\" x=\"909\" y=\"-95.8\" font-family=\"Times,serif\" font-size=\"14.00\">*</text>\n</g>\n<!-- 139899568661504&#45;&gt;139899568661456* -->\n<g id=\"edge6\" class=\"edge\">\n<title>139899568661504&#45;&gt;139899568661456*</title>\n<path fill=\"none\" stroke=\"black\" d=\"M846.07,-110.41C855.42,-108.76 864.43,-107.17 872.55,-105.74\"/>\n<polygon fill=\"black\" stroke=\"black\" points=\"873.41,-109.15 882.65,-103.96 872.2,-102.25 873.41,-109.15\"/>\n</g>\n<!-- 139899568663136 -->\n<g id=\"node2\" class=\"node\">\n<title>139899568663136</title>\n<polygon fill=\"none\" stroke=\"black\" points=\"0,-55.5 0,-91.5 198,-91.5 198,-55.5 0,-55.5\"/>\n<text text-anchor=\"middle\" x=\"11.5\" y=\"-69.8\" font-family=\"Times,serif\" font-size=\"14.00\">b</text>\n<polyline fill=\"none\" stroke=\"black\" points=\"23,-55.5 23,-91.5 \"/>\n<text text-anchor=\"middle\" x=\"67.5\" y=\"-69.8\" font-family=\"Times,serif\" font-size=\"14.00\">data: &#45;3.0000</text>\n<polyline fill=\"none\" stroke=\"black\" points=\"112,-55.5 112,-91.5 \"/>\n<text text-anchor=\"middle\" x=\"155\" y=\"-69.8\" font-family=\"Times,serif\" font-size=\"14.00\">grad: 0.0000</text>\n</g>\n<!-- 139899568660688* -->\n<g id=\"node6\" class=\"node\">\n<title>139899568660688*</title>\n<ellipse fill=\"none\" stroke=\"black\" cx=\"261\" cy=\"-45.5\" rx=\"27\" ry=\"18\"/>\n<text text-anchor=\"middle\" x=\"261\" y=\"-41.8\" font-family=\"Times,serif\" font-size=\"14.00\">*</text>\n</g>\n<!-- 139899568663136&#45;&gt;139899568660688* -->\n<g id=\"edge5\" class=\"edge\">\n<title>139899568663136&#45;&gt;139899568660688*</title>\n<path fill=\"none\" stroke=\"black\" d=\"M198.14,-56.33C207.5,-54.69 216.5,-53.11 224.61,-51.69\"/>\n<polygon fill=\"black\" stroke=\"black\" points=\"225.46,-55.1 234.7,-49.93 224.25,-48.2 225.46,-55.1\"/>\n</g>\n<!-- 139899568660592 -->\n<g id=\"node3\" class=\"node\">\n<title>139899568660592</title>\n<polygon fill=\"none\" stroke=\"black\" points=\"324,-82.5 324,-118.5 524,-118.5 524,-82.5 324,-82.5\"/>\n<text text-anchor=\"middle\" x=\"335.5\" y=\"-96.8\" font-family=\"Times,serif\" font-size=\"14.00\">d</text>\n<polyline fill=\"none\" stroke=\"black\" points=\"347,-82.5 347,-118.5 \"/>\n<text text-anchor=\"middle\" x=\"392.5\" y=\"-96.8\" font-family=\"Times,serif\" font-size=\"14.00\">data: 10.0000</text>\n<polyline fill=\"none\" stroke=\"black\" points=\"438,-82.5 438,-118.5 \"/>\n<text text-anchor=\"middle\" x=\"481\" y=\"-96.8\" font-family=\"Times,serif\" font-size=\"14.00\">grad: 0.0000</text>\n</g>\n<!-- 139899568660784+ -->\n<g id=\"node8\" class=\"node\">\n<title>139899568660784+</title>\n<ellipse fill=\"none\" stroke=\"black\" cx=\"587\" cy=\"-72.5\" rx=\"27\" ry=\"18\"/>\n<text text-anchor=\"middle\" x=\"587\" y=\"-68.8\" font-family=\"Times,serif\" font-size=\"14.00\">+</text>\n</g>\n<!-- 139899568660592&#45;&gt;139899568660784+ -->\n<g id=\"edge7\" class=\"edge\">\n<title>139899568660592&#45;&gt;139899568660784+</title>\n<path fill=\"none\" stroke=\"black\" d=\"M524.21,-83.25C533.57,-81.62 542.57,-80.05 550.67,-78.64\"/>\n<polygon fill=\"black\" stroke=\"black\" points=\"551.5,-82.05 560.76,-76.89 550.3,-75.16 551.5,-82.05\"/>\n</g>\n<!-- 139899568663184 -->\n<g id=\"node4\" class=\"node\">\n<title>139899568663184</title>\n<polygon fill=\"none\" stroke=\"black\" points=\"2.5,-0.5 2.5,-36.5 195.5,-36.5 195.5,-0.5 2.5,-0.5\"/>\n<text text-anchor=\"middle\" x=\"14\" y=\"-14.8\" font-family=\"Times,serif\" font-size=\"14.00\">a</text>\n<polyline fill=\"none\" stroke=\"black\" points=\"25.5,-0.5 25.5,-36.5 \"/>\n<text text-anchor=\"middle\" x=\"67.5\" y=\"-14.8\" font-family=\"Times,serif\" font-size=\"14.00\">data: 2.0000</text>\n<polyline fill=\"none\" stroke=\"black\" points=\"109.5,-0.5 109.5,-36.5 \"/>\n<text text-anchor=\"middle\" x=\"152.5\" y=\"-14.8\" font-family=\"Times,serif\" font-size=\"14.00\">grad: 0.0000</text>\n</g>\n<!-- 139899568663184&#45;&gt;139899568660688* -->\n<g id=\"edge9\" class=\"edge\">\n<title>139899568663184&#45;&gt;139899568660688*</title>\n<path fill=\"none\" stroke=\"black\" d=\"M195.84,-34.67C205.97,-36.38 215.74,-38.03 224.48,-39.51\"/>\n<polygon fill=\"black\" stroke=\"black\" points=\"224.13,-43 234.57,-41.21 225.29,-36.09 224.13,-43\"/>\n</g>\n<!-- 139899568660688 -->\n<g id=\"node5\" class=\"node\">\n<title>139899568660688</title>\n<polygon fill=\"none\" stroke=\"black\" points=\"325,-27.5 325,-63.5 523,-63.5 523,-27.5 325,-27.5\"/>\n<text text-anchor=\"middle\" x=\"336.5\" y=\"-41.8\" font-family=\"Times,serif\" font-size=\"14.00\">c</text>\n<polyline fill=\"none\" stroke=\"black\" points=\"348,-27.5 348,-63.5 \"/>\n<text text-anchor=\"middle\" x=\"392.5\" y=\"-41.8\" font-family=\"Times,serif\" font-size=\"14.00\">data: &#45;6.0000</text>\n<polyline fill=\"none\" stroke=\"black\" points=\"437,-27.5 437,-63.5 \"/>\n<text text-anchor=\"middle\" x=\"480\" y=\"-41.8\" font-family=\"Times,serif\" font-size=\"14.00\">grad: 0.0000</text>\n</g>\n<!-- 139899568660688&#45;&gt;139899568660784+ -->\n<g id=\"edge4\" class=\"edge\">\n<title>139899568660688&#45;&gt;139899568660784+</title>\n<path fill=\"none\" stroke=\"black\" d=\"M523.29,-61.98C532.96,-63.6 542.27,-65.17 550.62,-66.57\"/>\n<polygon fill=\"black\" stroke=\"black\" points=\"550.19,-70.04 560.64,-68.25 551.35,-63.14 550.19,-70.04\"/>\n</g>\n<!-- 139899568660688*&#45;&gt;139899568660688 -->\n<g id=\"edge1\" class=\"edge\">\n<title>139899568660688*&#45;&gt;139899568660688</title>\n<path fill=\"none\" stroke=\"black\" d=\"M288.23,-45.5C295.96,-45.5 304.95,-45.5 314.55,-45.5\"/>\n<polygon fill=\"black\" stroke=\"black\" points=\"314.74,-49 324.74,-45.5 314.74,-42 314.74,-49\"/>\n</g>\n<!-- 139899568660784 -->\n<g id=\"node7\" class=\"node\">\n<title>139899568660784</title>\n<polygon fill=\"none\" stroke=\"black\" points=\"651.5,-54.5 651.5,-90.5 844.5,-90.5 844.5,-54.5 651.5,-54.5\"/>\n<text text-anchor=\"middle\" x=\"663\" y=\"-68.8\" font-family=\"Times,serif\" font-size=\"14.00\">e</text>\n<polyline fill=\"none\" stroke=\"black\" points=\"674.5,-54.5 674.5,-90.5 \"/>\n<text text-anchor=\"middle\" x=\"716.5\" y=\"-68.8\" font-family=\"Times,serif\" font-size=\"14.00\">data: 4.0000</text>\n<polyline fill=\"none\" stroke=\"black\" points=\"758.5,-54.5 758.5,-90.5 \"/>\n<text text-anchor=\"middle\" x=\"801.5\" y=\"-68.8\" font-family=\"Times,serif\" font-size=\"14.00\">grad: 0.0000</text>\n</g>\n<!-- 139899568660784&#45;&gt;139899568661456* -->\n<g id=\"edge8\" class=\"edge\">\n<title>139899568660784&#45;&gt;139899568661456*</title>\n<path fill=\"none\" stroke=\"black\" d=\"M844.7,-88.75C854.61,-90.43 864.18,-92.06 872.73,-93.51\"/>\n<polygon fill=\"black\" stroke=\"black\" points=\"872.19,-96.97 882.63,-95.19 873.36,-90.07 872.19,-96.97\"/>\n</g>\n<!-- 139899568660784+&#45;&gt;139899568660784 -->\n<g id=\"edge2\" class=\"edge\">\n<title>139899568660784+&#45;&gt;139899568660784</title>\n<path fill=\"none\" stroke=\"black\" d=\"M614.26,-72.5C622.19,-72.5 631.44,-72.5 641.3,-72.5\"/>\n<polygon fill=\"black\" stroke=\"black\" points=\"641.33,-76 651.33,-72.5 641.33,-69 641.33,-76\"/>\n</g>\n<!-- 139899568661456 -->\n<g id=\"node9\" class=\"node\">\n<title>139899568661456</title>\n<polygon fill=\"none\" stroke=\"black\" points=\"972,-81.5 972,-117.5 1172,-117.5 1172,-81.5 972,-81.5\"/>\n<text text-anchor=\"middle\" x=\"984.5\" y=\"-95.8\" font-family=\"Times,serif\" font-size=\"14.00\">L</text>\n<polyline fill=\"none\" stroke=\"black\" points=\"997,-81.5 997,-117.5 \"/>\n<text text-anchor=\"middle\" x=\"1041.5\" y=\"-95.8\" font-family=\"Times,serif\" font-size=\"14.00\">data: &#45;8.0000</text>\n<polyline fill=\"none\" stroke=\"black\" points=\"1086,-81.5 1086,-117.5 \"/>\n<text text-anchor=\"middle\" x=\"1129\" y=\"-95.8\" font-family=\"Times,serif\" font-size=\"14.00\">grad: 0.0000</text>\n</g>\n<!-- 139899568661456*&#45;&gt;139899568661456 -->\n<g id=\"edge3\" class=\"edge\">\n<title>139899568661456*&#45;&gt;139899568661456</title>\n<path fill=\"none\" stroke=\"black\" d=\"M936.23,-99.5C943.69,-99.5 952.31,-99.5 961.52,-99.5\"/>\n<polygon fill=\"black\" stroke=\"black\" points=\"961.71,-103 971.71,-99.5 961.71,-96 961.71,-103\"/>\n</g>\n</g>\n</svg>\n",
            "text/plain": [
              "<graphviz.graphs.Digraph at 0x7f3ce8160f10>"
            ]
          },
          "metadata": {},
          "execution_count": 5
        }
      ]
    },
    {
      "cell_type": "code",
      "source": [
        "# initially all the grads are zero (we assume the nodes have no effect on the output L, on initialization)\n",
        "# let us now calculate and fill in the grads, by performing backpropagation manually"
      ],
      "metadata": {
        "id": "QNJwo6MK6EZP"
      },
      "execution_count": 6,
      "outputs": []
    },
    {
      "cell_type": "code",
      "source": [],
      "metadata": {
        "id": "ZAUeOCyT6OkE"
      },
      "execution_count": 6,
      "outputs": []
    },
    {
      "cell_type": "markdown",
      "source": [
        "# Calculating the grads Manually"
      ],
      "metadata": {
        "id": "5GcTlR_d6OrN"
      }
    },
    {
      "cell_type": "code",
      "source": [
        "# dL/dL should be 1\n",
        "# if L changes by h, then rate of change is also h\n",
        "# so, slope = (L + h) / (L + h) = 1\n",
        "# also by first principles, f(x) = L, f(x + h) = L + h, slope = [(L + h) - (L)] / h = 1\n",
        "# idk why i am doing this, LoL, it's trivial :D"
      ],
      "metadata": {
        "id": "FNAj9Hyx7EOc"
      },
      "execution_count": 7,
      "outputs": []
    },
    {
      "cell_type": "code",
      "source": [
        "# let's manually update the same\n",
        "L.grad = 1.0\n",
        "draw_dot(L)"
      ],
      "metadata": {
        "colab": {
          "base_uri": "https://localhost:8080/",
          "height": 247
        },
        "id": "e2NmXEH6QgaN",
        "outputId": "f9cac8b7-e46b-4ed0-c095-833674e44099"
      },
      "execution_count": 8,
      "outputs": [
        {
          "output_type": "execute_result",
          "data": {
            "image/svg+xml": "<?xml version=\"1.0\" encoding=\"UTF-8\" standalone=\"no\"?>\n<!DOCTYPE svg PUBLIC \"-//W3C//DTD SVG 1.1//EN\"\n \"http://www.w3.org/Graphics/SVG/1.1/DTD/svg11.dtd\">\n<!-- Generated by graphviz version 2.43.0 (0)\n -->\n<!-- Title: %3 Pages: 1 -->\n<svg width=\"1180pt\" height=\"154pt\"\n viewBox=\"0.00 0.00 1180.00 154.00\" xmlns=\"http://www.w3.org/2000/svg\" xmlns:xlink=\"http://www.w3.org/1999/xlink\">\n<g id=\"graph0\" class=\"graph\" transform=\"scale(1 1) rotate(0) translate(4 150)\">\n<title>%3</title>\n<polygon fill=\"white\" stroke=\"transparent\" points=\"-4,4 -4,-150 1176,-150 1176,4 -4,4\"/>\n<!-- 139899568661504 -->\n<g id=\"node1\" class=\"node\">\n<title>139899568661504</title>\n<polygon fill=\"none\" stroke=\"black\" points=\"650,-109.5 650,-145.5 846,-145.5 846,-109.5 650,-109.5\"/>\n<text text-anchor=\"middle\" x=\"660.5\" y=\"-123.8\" font-family=\"Times,serif\" font-size=\"14.00\">f</text>\n<polyline fill=\"none\" stroke=\"black\" points=\"671,-109.5 671,-145.5 \"/>\n<text text-anchor=\"middle\" x=\"715.5\" y=\"-123.8\" font-family=\"Times,serif\" font-size=\"14.00\">data: &#45;2.0000</text>\n<polyline fill=\"none\" stroke=\"black\" points=\"760,-109.5 760,-145.5 \"/>\n<text text-anchor=\"middle\" x=\"803\" y=\"-123.8\" font-family=\"Times,serif\" font-size=\"14.00\">grad: 0.0000</text>\n</g>\n<!-- 139899568661456* -->\n<g id=\"node10\" class=\"node\">\n<title>139899568661456*</title>\n<ellipse fill=\"none\" stroke=\"black\" cx=\"909\" cy=\"-99.5\" rx=\"27\" ry=\"18\"/>\n<text text-anchor=\"middle\" x=\"909\" y=\"-95.8\" font-family=\"Times,serif\" font-size=\"14.00\">*</text>\n</g>\n<!-- 139899568661504&#45;&gt;139899568661456* -->\n<g id=\"edge6\" class=\"edge\">\n<title>139899568661504&#45;&gt;139899568661456*</title>\n<path fill=\"none\" stroke=\"black\" d=\"M846.07,-110.41C855.42,-108.76 864.43,-107.17 872.55,-105.74\"/>\n<polygon fill=\"black\" stroke=\"black\" points=\"873.41,-109.15 882.65,-103.96 872.2,-102.25 873.41,-109.15\"/>\n</g>\n<!-- 139899568663136 -->\n<g id=\"node2\" class=\"node\">\n<title>139899568663136</title>\n<polygon fill=\"none\" stroke=\"black\" points=\"0,-55.5 0,-91.5 198,-91.5 198,-55.5 0,-55.5\"/>\n<text text-anchor=\"middle\" x=\"11.5\" y=\"-69.8\" font-family=\"Times,serif\" font-size=\"14.00\">b</text>\n<polyline fill=\"none\" stroke=\"black\" points=\"23,-55.5 23,-91.5 \"/>\n<text text-anchor=\"middle\" x=\"67.5\" y=\"-69.8\" font-family=\"Times,serif\" font-size=\"14.00\">data: &#45;3.0000</text>\n<polyline fill=\"none\" stroke=\"black\" points=\"112,-55.5 112,-91.5 \"/>\n<text text-anchor=\"middle\" x=\"155\" y=\"-69.8\" font-family=\"Times,serif\" font-size=\"14.00\">grad: 0.0000</text>\n</g>\n<!-- 139899568660688* -->\n<g id=\"node6\" class=\"node\">\n<title>139899568660688*</title>\n<ellipse fill=\"none\" stroke=\"black\" cx=\"261\" cy=\"-45.5\" rx=\"27\" ry=\"18\"/>\n<text text-anchor=\"middle\" x=\"261\" y=\"-41.8\" font-family=\"Times,serif\" font-size=\"14.00\">*</text>\n</g>\n<!-- 139899568663136&#45;&gt;139899568660688* -->\n<g id=\"edge5\" class=\"edge\">\n<title>139899568663136&#45;&gt;139899568660688*</title>\n<path fill=\"none\" stroke=\"black\" d=\"M198.14,-56.33C207.5,-54.69 216.5,-53.11 224.61,-51.69\"/>\n<polygon fill=\"black\" stroke=\"black\" points=\"225.46,-55.1 234.7,-49.93 224.25,-48.2 225.46,-55.1\"/>\n</g>\n<!-- 139899568660592 -->\n<g id=\"node3\" class=\"node\">\n<title>139899568660592</title>\n<polygon fill=\"none\" stroke=\"black\" points=\"324,-82.5 324,-118.5 524,-118.5 524,-82.5 324,-82.5\"/>\n<text text-anchor=\"middle\" x=\"335.5\" y=\"-96.8\" font-family=\"Times,serif\" font-size=\"14.00\">d</text>\n<polyline fill=\"none\" stroke=\"black\" points=\"347,-82.5 347,-118.5 \"/>\n<text text-anchor=\"middle\" x=\"392.5\" y=\"-96.8\" font-family=\"Times,serif\" font-size=\"14.00\">data: 10.0000</text>\n<polyline fill=\"none\" stroke=\"black\" points=\"438,-82.5 438,-118.5 \"/>\n<text text-anchor=\"middle\" x=\"481\" y=\"-96.8\" font-family=\"Times,serif\" font-size=\"14.00\">grad: 0.0000</text>\n</g>\n<!-- 139899568660784+ -->\n<g id=\"node8\" class=\"node\">\n<title>139899568660784+</title>\n<ellipse fill=\"none\" stroke=\"black\" cx=\"587\" cy=\"-72.5\" rx=\"27\" ry=\"18\"/>\n<text text-anchor=\"middle\" x=\"587\" y=\"-68.8\" font-family=\"Times,serif\" font-size=\"14.00\">+</text>\n</g>\n<!-- 139899568660592&#45;&gt;139899568660784+ -->\n<g id=\"edge7\" class=\"edge\">\n<title>139899568660592&#45;&gt;139899568660784+</title>\n<path fill=\"none\" stroke=\"black\" d=\"M524.21,-83.25C533.57,-81.62 542.57,-80.05 550.67,-78.64\"/>\n<polygon fill=\"black\" stroke=\"black\" points=\"551.5,-82.05 560.76,-76.89 550.3,-75.16 551.5,-82.05\"/>\n</g>\n<!-- 139899568663184 -->\n<g id=\"node4\" class=\"node\">\n<title>139899568663184</title>\n<polygon fill=\"none\" stroke=\"black\" points=\"2.5,-0.5 2.5,-36.5 195.5,-36.5 195.5,-0.5 2.5,-0.5\"/>\n<text text-anchor=\"middle\" x=\"14\" y=\"-14.8\" font-family=\"Times,serif\" font-size=\"14.00\">a</text>\n<polyline fill=\"none\" stroke=\"black\" points=\"25.5,-0.5 25.5,-36.5 \"/>\n<text text-anchor=\"middle\" x=\"67.5\" y=\"-14.8\" font-family=\"Times,serif\" font-size=\"14.00\">data: 2.0000</text>\n<polyline fill=\"none\" stroke=\"black\" points=\"109.5,-0.5 109.5,-36.5 \"/>\n<text text-anchor=\"middle\" x=\"152.5\" y=\"-14.8\" font-family=\"Times,serif\" font-size=\"14.00\">grad: 0.0000</text>\n</g>\n<!-- 139899568663184&#45;&gt;139899568660688* -->\n<g id=\"edge9\" class=\"edge\">\n<title>139899568663184&#45;&gt;139899568660688*</title>\n<path fill=\"none\" stroke=\"black\" d=\"M195.84,-34.67C205.97,-36.38 215.74,-38.03 224.48,-39.51\"/>\n<polygon fill=\"black\" stroke=\"black\" points=\"224.13,-43 234.57,-41.21 225.29,-36.09 224.13,-43\"/>\n</g>\n<!-- 139899568660688 -->\n<g id=\"node5\" class=\"node\">\n<title>139899568660688</title>\n<polygon fill=\"none\" stroke=\"black\" points=\"325,-27.5 325,-63.5 523,-63.5 523,-27.5 325,-27.5\"/>\n<text text-anchor=\"middle\" x=\"336.5\" y=\"-41.8\" font-family=\"Times,serif\" font-size=\"14.00\">c</text>\n<polyline fill=\"none\" stroke=\"black\" points=\"348,-27.5 348,-63.5 \"/>\n<text text-anchor=\"middle\" x=\"392.5\" y=\"-41.8\" font-family=\"Times,serif\" font-size=\"14.00\">data: &#45;6.0000</text>\n<polyline fill=\"none\" stroke=\"black\" points=\"437,-27.5 437,-63.5 \"/>\n<text text-anchor=\"middle\" x=\"480\" y=\"-41.8\" font-family=\"Times,serif\" font-size=\"14.00\">grad: 0.0000</text>\n</g>\n<!-- 139899568660688&#45;&gt;139899568660784+ -->\n<g id=\"edge4\" class=\"edge\">\n<title>139899568660688&#45;&gt;139899568660784+</title>\n<path fill=\"none\" stroke=\"black\" d=\"M523.29,-61.98C532.96,-63.6 542.27,-65.17 550.62,-66.57\"/>\n<polygon fill=\"black\" stroke=\"black\" points=\"550.19,-70.04 560.64,-68.25 551.35,-63.14 550.19,-70.04\"/>\n</g>\n<!-- 139899568660688*&#45;&gt;139899568660688 -->\n<g id=\"edge1\" class=\"edge\">\n<title>139899568660688*&#45;&gt;139899568660688</title>\n<path fill=\"none\" stroke=\"black\" d=\"M288.23,-45.5C295.96,-45.5 304.95,-45.5 314.55,-45.5\"/>\n<polygon fill=\"black\" stroke=\"black\" points=\"314.74,-49 324.74,-45.5 314.74,-42 314.74,-49\"/>\n</g>\n<!-- 139899568660784 -->\n<g id=\"node7\" class=\"node\">\n<title>139899568660784</title>\n<polygon fill=\"none\" stroke=\"black\" points=\"651.5,-54.5 651.5,-90.5 844.5,-90.5 844.5,-54.5 651.5,-54.5\"/>\n<text text-anchor=\"middle\" x=\"663\" y=\"-68.8\" font-family=\"Times,serif\" font-size=\"14.00\">e</text>\n<polyline fill=\"none\" stroke=\"black\" points=\"674.5,-54.5 674.5,-90.5 \"/>\n<text text-anchor=\"middle\" x=\"716.5\" y=\"-68.8\" font-family=\"Times,serif\" font-size=\"14.00\">data: 4.0000</text>\n<polyline fill=\"none\" stroke=\"black\" points=\"758.5,-54.5 758.5,-90.5 \"/>\n<text text-anchor=\"middle\" x=\"801.5\" y=\"-68.8\" font-family=\"Times,serif\" font-size=\"14.00\">grad: 0.0000</text>\n</g>\n<!-- 139899568660784&#45;&gt;139899568661456* -->\n<g id=\"edge8\" class=\"edge\">\n<title>139899568660784&#45;&gt;139899568661456*</title>\n<path fill=\"none\" stroke=\"black\" d=\"M844.7,-88.75C854.61,-90.43 864.18,-92.06 872.73,-93.51\"/>\n<polygon fill=\"black\" stroke=\"black\" points=\"872.19,-96.97 882.63,-95.19 873.36,-90.07 872.19,-96.97\"/>\n</g>\n<!-- 139899568660784+&#45;&gt;139899568660784 -->\n<g id=\"edge2\" class=\"edge\">\n<title>139899568660784+&#45;&gt;139899568660784</title>\n<path fill=\"none\" stroke=\"black\" d=\"M614.26,-72.5C622.19,-72.5 631.44,-72.5 641.3,-72.5\"/>\n<polygon fill=\"black\" stroke=\"black\" points=\"641.33,-76 651.33,-72.5 641.33,-69 641.33,-76\"/>\n</g>\n<!-- 139899568661456 -->\n<g id=\"node9\" class=\"node\">\n<title>139899568661456</title>\n<polygon fill=\"none\" stroke=\"black\" points=\"972,-81.5 972,-117.5 1172,-117.5 1172,-81.5 972,-81.5\"/>\n<text text-anchor=\"middle\" x=\"984.5\" y=\"-95.8\" font-family=\"Times,serif\" font-size=\"14.00\">L</text>\n<polyline fill=\"none\" stroke=\"black\" points=\"997,-81.5 997,-117.5 \"/>\n<text text-anchor=\"middle\" x=\"1041.5\" y=\"-95.8\" font-family=\"Times,serif\" font-size=\"14.00\">data: &#45;8.0000</text>\n<polyline fill=\"none\" stroke=\"black\" points=\"1086,-81.5 1086,-117.5 \"/>\n<text text-anchor=\"middle\" x=\"1129\" y=\"-95.8\" font-family=\"Times,serif\" font-size=\"14.00\">grad: 1.0000</text>\n</g>\n<!-- 139899568661456*&#45;&gt;139899568661456 -->\n<g id=\"edge3\" class=\"edge\">\n<title>139899568661456*&#45;&gt;139899568661456</title>\n<path fill=\"none\" stroke=\"black\" d=\"M936.23,-99.5C943.69,-99.5 952.31,-99.5 961.52,-99.5\"/>\n<polygon fill=\"black\" stroke=\"black\" points=\"961.71,-103 971.71,-99.5 961.71,-96 961.71,-103\"/>\n</g>\n</g>\n</svg>\n",
            "text/plain": [
              "<graphviz.graphs.Digraph at 0x7f3ce8182910>"
            ]
          },
          "metadata": {},
          "execution_count": 8
        }
      ]
    },
    {
      "cell_type": "code",
      "source": [
        "# now dL/de and dL/df\n",
        "\n",
        "# L = e * f\n",
        "# using derivative rules and formulas from calculus,\n",
        "# dL/de = f\n",
        "# and\n",
        "# dL/df = e\n",
        "\n",
        "# we can derive the same from first principles. let's do for dL/de\n",
        "# grad = [f(x+h) - f(x)] / h, when lim h->0\n",
        "# here, f(x) = L(e) = e*f. so, f'(x) = dL/de\n",
        "# => [(e+h)*f - e*f] / h\n",
        "# => (ef + hf - ef) / h\n",
        "# => hf / h\n",
        "# => f\n",
        "# so, dL/de = f"
      ],
      "metadata": {
        "id": "AtU8ecfg6k4y"
      },
      "execution_count": 9,
      "outputs": []
    },
    {
      "cell_type": "code",
      "source": [
        "# let's manually update the same\n",
        "e.grad = -2.0\n",
        "f.grad = 4.0\n",
        "draw_dot(L)"
      ],
      "metadata": {
        "colab": {
          "base_uri": "https://localhost:8080/",
          "height": 247
        },
        "id": "VVzoP4in6k7H",
        "outputId": "ade10f70-bcbf-4d97-a101-8c09cf21aac9"
      },
      "execution_count": 10,
      "outputs": [
        {
          "output_type": "execute_result",
          "data": {
            "image/svg+xml": "<?xml version=\"1.0\" encoding=\"UTF-8\" standalone=\"no\"?>\n<!DOCTYPE svg PUBLIC \"-//W3C//DTD SVG 1.1//EN\"\n \"http://www.w3.org/Graphics/SVG/1.1/DTD/svg11.dtd\">\n<!-- Generated by graphviz version 2.43.0 (0)\n -->\n<!-- Title: %3 Pages: 1 -->\n<svg width=\"1181pt\" height=\"154pt\"\n viewBox=\"0.00 0.00 1181.00 154.00\" xmlns=\"http://www.w3.org/2000/svg\" xmlns:xlink=\"http://www.w3.org/1999/xlink\">\n<g id=\"graph0\" class=\"graph\" transform=\"scale(1 1) rotate(0) translate(4 150)\">\n<title>%3</title>\n<polygon fill=\"white\" stroke=\"transparent\" points=\"-4,4 -4,-150 1177,-150 1177,4 -4,4\"/>\n<!-- 139899568661504 -->\n<g id=\"node1\" class=\"node\">\n<title>139899568661504</title>\n<polygon fill=\"none\" stroke=\"black\" points=\"650.5,-109.5 650.5,-145.5 846.5,-145.5 846.5,-109.5 650.5,-109.5\"/>\n<text text-anchor=\"middle\" x=\"661\" y=\"-123.8\" font-family=\"Times,serif\" font-size=\"14.00\">f</text>\n<polyline fill=\"none\" stroke=\"black\" points=\"671.5,-109.5 671.5,-145.5 \"/>\n<text text-anchor=\"middle\" x=\"716\" y=\"-123.8\" font-family=\"Times,serif\" font-size=\"14.00\">data: &#45;2.0000</text>\n<polyline fill=\"none\" stroke=\"black\" points=\"760.5,-109.5 760.5,-145.5 \"/>\n<text text-anchor=\"middle\" x=\"803.5\" y=\"-123.8\" font-family=\"Times,serif\" font-size=\"14.00\">grad: 4.0000</text>\n</g>\n<!-- 139899568661456* -->\n<g id=\"node10\" class=\"node\">\n<title>139899568661456*</title>\n<ellipse fill=\"none\" stroke=\"black\" cx=\"910\" cy=\"-99.5\" rx=\"27\" ry=\"18\"/>\n<text text-anchor=\"middle\" x=\"910\" y=\"-95.8\" font-family=\"Times,serif\" font-size=\"14.00\">*</text>\n</g>\n<!-- 139899568661504&#45;&gt;139899568661456* -->\n<g id=\"edge6\" class=\"edge\">\n<title>139899568661504&#45;&gt;139899568661456*</title>\n<path fill=\"none\" stroke=\"black\" d=\"M846.88,-110.41C856.36,-108.74 865.5,-107.14 873.71,-105.7\"/>\n<polygon fill=\"black\" stroke=\"black\" points=\"874.33,-109.14 883.57,-103.96 873.12,-102.25 874.33,-109.14\"/>\n</g>\n<!-- 139899568663136 -->\n<g id=\"node2\" class=\"node\">\n<title>139899568663136</title>\n<polygon fill=\"none\" stroke=\"black\" points=\"0,-55.5 0,-91.5 198,-91.5 198,-55.5 0,-55.5\"/>\n<text text-anchor=\"middle\" x=\"11.5\" y=\"-69.8\" font-family=\"Times,serif\" font-size=\"14.00\">b</text>\n<polyline fill=\"none\" stroke=\"black\" points=\"23,-55.5 23,-91.5 \"/>\n<text text-anchor=\"middle\" x=\"67.5\" y=\"-69.8\" font-family=\"Times,serif\" font-size=\"14.00\">data: &#45;3.0000</text>\n<polyline fill=\"none\" stroke=\"black\" points=\"112,-55.5 112,-91.5 \"/>\n<text text-anchor=\"middle\" x=\"155\" y=\"-69.8\" font-family=\"Times,serif\" font-size=\"14.00\">grad: 0.0000</text>\n</g>\n<!-- 139899568660688* -->\n<g id=\"node6\" class=\"node\">\n<title>139899568660688*</title>\n<ellipse fill=\"none\" stroke=\"black\" cx=\"261\" cy=\"-45.5\" rx=\"27\" ry=\"18\"/>\n<text text-anchor=\"middle\" x=\"261\" y=\"-41.8\" font-family=\"Times,serif\" font-size=\"14.00\">*</text>\n</g>\n<!-- 139899568663136&#45;&gt;139899568660688* -->\n<g id=\"edge5\" class=\"edge\">\n<title>139899568663136&#45;&gt;139899568660688*</title>\n<path fill=\"none\" stroke=\"black\" d=\"M198.14,-56.33C207.5,-54.69 216.5,-53.11 224.61,-51.69\"/>\n<polygon fill=\"black\" stroke=\"black\" points=\"225.46,-55.1 234.7,-49.93 224.25,-48.2 225.46,-55.1\"/>\n</g>\n<!-- 139899568660592 -->\n<g id=\"node3\" class=\"node\">\n<title>139899568660592</title>\n<polygon fill=\"none\" stroke=\"black\" points=\"324,-82.5 324,-118.5 524,-118.5 524,-82.5 324,-82.5\"/>\n<text text-anchor=\"middle\" x=\"335.5\" y=\"-96.8\" font-family=\"Times,serif\" font-size=\"14.00\">d</text>\n<polyline fill=\"none\" stroke=\"black\" points=\"347,-82.5 347,-118.5 \"/>\n<text text-anchor=\"middle\" x=\"392.5\" y=\"-96.8\" font-family=\"Times,serif\" font-size=\"14.00\">data: 10.0000</text>\n<polyline fill=\"none\" stroke=\"black\" points=\"438,-82.5 438,-118.5 \"/>\n<text text-anchor=\"middle\" x=\"481\" y=\"-96.8\" font-family=\"Times,serif\" font-size=\"14.00\">grad: 0.0000</text>\n</g>\n<!-- 139899568660784+ -->\n<g id=\"node8\" class=\"node\">\n<title>139899568660784+</title>\n<ellipse fill=\"none\" stroke=\"black\" cx=\"587\" cy=\"-72.5\" rx=\"27\" ry=\"18\"/>\n<text text-anchor=\"middle\" x=\"587\" y=\"-68.8\" font-family=\"Times,serif\" font-size=\"14.00\">+</text>\n</g>\n<!-- 139899568660592&#45;&gt;139899568660784+ -->\n<g id=\"edge7\" class=\"edge\">\n<title>139899568660592&#45;&gt;139899568660784+</title>\n<path fill=\"none\" stroke=\"black\" d=\"M524.21,-83.25C533.57,-81.62 542.57,-80.05 550.67,-78.64\"/>\n<polygon fill=\"black\" stroke=\"black\" points=\"551.5,-82.05 560.76,-76.89 550.3,-75.16 551.5,-82.05\"/>\n</g>\n<!-- 139899568663184 -->\n<g id=\"node4\" class=\"node\">\n<title>139899568663184</title>\n<polygon fill=\"none\" stroke=\"black\" points=\"2.5,-0.5 2.5,-36.5 195.5,-36.5 195.5,-0.5 2.5,-0.5\"/>\n<text text-anchor=\"middle\" x=\"14\" y=\"-14.8\" font-family=\"Times,serif\" font-size=\"14.00\">a</text>\n<polyline fill=\"none\" stroke=\"black\" points=\"25.5,-0.5 25.5,-36.5 \"/>\n<text text-anchor=\"middle\" x=\"67.5\" y=\"-14.8\" font-family=\"Times,serif\" font-size=\"14.00\">data: 2.0000</text>\n<polyline fill=\"none\" stroke=\"black\" points=\"109.5,-0.5 109.5,-36.5 \"/>\n<text text-anchor=\"middle\" x=\"152.5\" y=\"-14.8\" font-family=\"Times,serif\" font-size=\"14.00\">grad: 0.0000</text>\n</g>\n<!-- 139899568663184&#45;&gt;139899568660688* -->\n<g id=\"edge9\" class=\"edge\">\n<title>139899568663184&#45;&gt;139899568660688*</title>\n<path fill=\"none\" stroke=\"black\" d=\"M195.84,-34.67C205.97,-36.38 215.74,-38.03 224.48,-39.51\"/>\n<polygon fill=\"black\" stroke=\"black\" points=\"224.13,-43 234.57,-41.21 225.29,-36.09 224.13,-43\"/>\n</g>\n<!-- 139899568660688 -->\n<g id=\"node5\" class=\"node\">\n<title>139899568660688</title>\n<polygon fill=\"none\" stroke=\"black\" points=\"325,-27.5 325,-63.5 523,-63.5 523,-27.5 325,-27.5\"/>\n<text text-anchor=\"middle\" x=\"336.5\" y=\"-41.8\" font-family=\"Times,serif\" font-size=\"14.00\">c</text>\n<polyline fill=\"none\" stroke=\"black\" points=\"348,-27.5 348,-63.5 \"/>\n<text text-anchor=\"middle\" x=\"392.5\" y=\"-41.8\" font-family=\"Times,serif\" font-size=\"14.00\">data: &#45;6.0000</text>\n<polyline fill=\"none\" stroke=\"black\" points=\"437,-27.5 437,-63.5 \"/>\n<text text-anchor=\"middle\" x=\"480\" y=\"-41.8\" font-family=\"Times,serif\" font-size=\"14.00\">grad: 0.0000</text>\n</g>\n<!-- 139899568660688&#45;&gt;139899568660784+ -->\n<g id=\"edge4\" class=\"edge\">\n<title>139899568660688&#45;&gt;139899568660784+</title>\n<path fill=\"none\" stroke=\"black\" d=\"M523.29,-61.98C532.96,-63.6 542.27,-65.17 550.62,-66.57\"/>\n<polygon fill=\"black\" stroke=\"black\" points=\"550.19,-70.04 560.64,-68.25 551.35,-63.14 550.19,-70.04\"/>\n</g>\n<!-- 139899568660688*&#45;&gt;139899568660688 -->\n<g id=\"edge1\" class=\"edge\">\n<title>139899568660688*&#45;&gt;139899568660688</title>\n<path fill=\"none\" stroke=\"black\" d=\"M288.23,-45.5C295.96,-45.5 304.95,-45.5 314.55,-45.5\"/>\n<polygon fill=\"black\" stroke=\"black\" points=\"314.74,-49 324.74,-45.5 314.74,-42 314.74,-49\"/>\n</g>\n<!-- 139899568660784 -->\n<g id=\"node7\" class=\"node\">\n<title>139899568660784</title>\n<polygon fill=\"none\" stroke=\"black\" points=\"650,-54.5 650,-90.5 847,-90.5 847,-54.5 650,-54.5\"/>\n<text text-anchor=\"middle\" x=\"661.5\" y=\"-68.8\" font-family=\"Times,serif\" font-size=\"14.00\">e</text>\n<polyline fill=\"none\" stroke=\"black\" points=\"673,-54.5 673,-90.5 \"/>\n<text text-anchor=\"middle\" x=\"715\" y=\"-68.8\" font-family=\"Times,serif\" font-size=\"14.00\">data: 4.0000</text>\n<polyline fill=\"none\" stroke=\"black\" points=\"757,-54.5 757,-90.5 \"/>\n<text text-anchor=\"middle\" x=\"802\" y=\"-68.8\" font-family=\"Times,serif\" font-size=\"14.00\">grad: &#45;2.0000</text>\n</g>\n<!-- 139899568660784&#45;&gt;139899568661456* -->\n<g id=\"edge8\" class=\"edge\">\n<title>139899568660784&#45;&gt;139899568661456*</title>\n<path fill=\"none\" stroke=\"black\" d=\"M847.33,-89.06C856.57,-90.62 865.46,-92.13 873.49,-93.49\"/>\n<polygon fill=\"black\" stroke=\"black\" points=\"873.04,-96.96 883.48,-95.18 874.21,-90.06 873.04,-96.96\"/>\n</g>\n<!-- 139899568660784+&#45;&gt;139899568660784 -->\n<g id=\"edge2\" class=\"edge\">\n<title>139899568660784+&#45;&gt;139899568660784</title>\n<path fill=\"none\" stroke=\"black\" d=\"M614.34,-72.5C621.81,-72.5 630.44,-72.5 639.64,-72.5\"/>\n<polygon fill=\"black\" stroke=\"black\" points=\"639.83,-76 649.83,-72.5 639.83,-69 639.83,-76\"/>\n</g>\n<!-- 139899568661456 -->\n<g id=\"node9\" class=\"node\">\n<title>139899568661456</title>\n<polygon fill=\"none\" stroke=\"black\" points=\"973,-81.5 973,-117.5 1173,-117.5 1173,-81.5 973,-81.5\"/>\n<text text-anchor=\"middle\" x=\"985.5\" y=\"-95.8\" font-family=\"Times,serif\" font-size=\"14.00\">L</text>\n<polyline fill=\"none\" stroke=\"black\" points=\"998,-81.5 998,-117.5 \"/>\n<text text-anchor=\"middle\" x=\"1042.5\" y=\"-95.8\" font-family=\"Times,serif\" font-size=\"14.00\">data: &#45;8.0000</text>\n<polyline fill=\"none\" stroke=\"black\" points=\"1087,-81.5 1087,-117.5 \"/>\n<text text-anchor=\"middle\" x=\"1130\" y=\"-95.8\" font-family=\"Times,serif\" font-size=\"14.00\">grad: 1.0000</text>\n</g>\n<!-- 139899568661456*&#45;&gt;139899568661456 -->\n<g id=\"edge3\" class=\"edge\">\n<title>139899568661456*&#45;&gt;139899568661456</title>\n<path fill=\"none\" stroke=\"black\" d=\"M937.23,-99.5C944.69,-99.5 953.31,-99.5 962.52,-99.5\"/>\n<polygon fill=\"black\" stroke=\"black\" points=\"962.71,-103 972.71,-99.5 962.71,-96 962.71,-103\"/>\n</g>\n</g>\n</svg>\n",
            "text/plain": [
              "<graphviz.graphs.Digraph at 0x7f3ce8182ac0>"
            ]
          },
          "metadata": {},
          "execution_count": 10
        }
      ]
    },
    {
      "cell_type": "code",
      "source": [
        "# now for the most important node!\n",
        "# we need to derive dL/dd\n",
        "# \n",
        "# using chain rule and formulas from calculus:\n",
        "# dL/dd = dL/de * de/dd\n",
        "#\n",
        "# now, we already know dL/de = e.grad = -2.0\n",
        "# we just need to find out de/dd = ?"
      ],
      "metadata": {
        "id": "n24MlN_86k9n"
      },
      "execution_count": 11,
      "outputs": []
    },
    {
      "cell_type": "code",
      "source": [
        "# now, e = d + c\n",
        "# => de/dd = dd/dd + dc/dd\n",
        "# => de/dd = 1 + dc/dd\n",
        "# now, c and d are independent, hence dc/dd = 0\n",
        "# so, de/dd = 1.0\n",
        "\n",
        "# we can also derive the same from the first principles:\n",
        "# grad = [f(x+h) - f(x)] / h, when lim h->0\n",
        "# here, f(x) = e = d + c. so, f'(x) = de/dd\n",
        "# => [(d+h + c) - (d + c)] / h\n",
        "# => (d + h + c - d - c) / h\n",
        "# => h/h\n",
        "# => 1.0\n",
        "\n",
        "# so, \n",
        "# de/dd = 1.0\n",
        "# and by symmetry,\n",
        "# de/dc = 1.0"
      ],
      "metadata": {
        "id": "dtDCsJMb6lAC"
      },
      "execution_count": 12,
      "outputs": []
    },
    {
      "cell_type": "code",
      "source": [
        "# using chain rule:\n",
        "# dL/dd = dL/de * de/dd, and\n",
        "# dL/dc = dL/de * de/dc\n",
        "\n",
        "# substituting values from above:\n",
        "# dL/dd = dL/de * 1.0, and\n",
        "# dL/dc = dL/de * 1.0\n",
        "#\n",
        "# we get:\n",
        "# dL/dd = -2.0\n",
        "# dL/dc = -2.0"
      ],
      "metadata": {
        "id": "zjofFOMJEzOv"
      },
      "execution_count": 13,
      "outputs": []
    },
    {
      "cell_type": "code",
      "source": [
        "# let's manually update the same\n",
        "c.grad = -2.0\n",
        "d.grad = -2.0\n",
        "draw_dot(L)"
      ],
      "metadata": {
        "colab": {
          "base_uri": "https://localhost:8080/",
          "height": 247
        },
        "id": "4CylM6TOEzRl",
        "outputId": "de0d6eac-e1ba-404c-d075-992936a064f5"
      },
      "execution_count": 14,
      "outputs": [
        {
          "output_type": "execute_result",
          "data": {
            "image/svg+xml": "<?xml version=\"1.0\" encoding=\"UTF-8\" standalone=\"no\"?>\n<!DOCTYPE svg PUBLIC \"-//W3C//DTD SVG 1.1//EN\"\n \"http://www.w3.org/Graphics/SVG/1.1/DTD/svg11.dtd\">\n<!-- Generated by graphviz version 2.43.0 (0)\n -->\n<!-- Title: %3 Pages: 1 -->\n<svg width=\"1185pt\" height=\"154pt\"\n viewBox=\"0.00 0.00 1185.00 154.00\" xmlns=\"http://www.w3.org/2000/svg\" xmlns:xlink=\"http://www.w3.org/1999/xlink\">\n<g id=\"graph0\" class=\"graph\" transform=\"scale(1 1) rotate(0) translate(4 150)\">\n<title>%3</title>\n<polygon fill=\"white\" stroke=\"transparent\" points=\"-4,4 -4,-150 1181,-150 1181,4 -4,4\"/>\n<!-- 139899568661504 -->\n<g id=\"node1\" class=\"node\">\n<title>139899568661504</title>\n<polygon fill=\"none\" stroke=\"black\" points=\"654.5,-109.5 654.5,-145.5 850.5,-145.5 850.5,-109.5 654.5,-109.5\"/>\n<text text-anchor=\"middle\" x=\"665\" y=\"-123.8\" font-family=\"Times,serif\" font-size=\"14.00\">f</text>\n<polyline fill=\"none\" stroke=\"black\" points=\"675.5,-109.5 675.5,-145.5 \"/>\n<text text-anchor=\"middle\" x=\"720\" y=\"-123.8\" font-family=\"Times,serif\" font-size=\"14.00\">data: &#45;2.0000</text>\n<polyline fill=\"none\" stroke=\"black\" points=\"764.5,-109.5 764.5,-145.5 \"/>\n<text text-anchor=\"middle\" x=\"807.5\" y=\"-123.8\" font-family=\"Times,serif\" font-size=\"14.00\">grad: 4.0000</text>\n</g>\n<!-- 139899568661456* -->\n<g id=\"node10\" class=\"node\">\n<title>139899568661456*</title>\n<ellipse fill=\"none\" stroke=\"black\" cx=\"914\" cy=\"-99.5\" rx=\"27\" ry=\"18\"/>\n<text text-anchor=\"middle\" x=\"914\" y=\"-95.8\" font-family=\"Times,serif\" font-size=\"14.00\">*</text>\n</g>\n<!-- 139899568661504&#45;&gt;139899568661456* -->\n<g id=\"edge6\" class=\"edge\">\n<title>139899568661504&#45;&gt;139899568661456*</title>\n<path fill=\"none\" stroke=\"black\" d=\"M850.88,-110.41C860.36,-108.74 869.5,-107.14 877.71,-105.7\"/>\n<polygon fill=\"black\" stroke=\"black\" points=\"878.33,-109.14 887.57,-103.96 877.12,-102.25 878.33,-109.14\"/>\n</g>\n<!-- 139899568663136 -->\n<g id=\"node2\" class=\"node\">\n<title>139899568663136</title>\n<polygon fill=\"none\" stroke=\"black\" points=\"0,-55.5 0,-91.5 198,-91.5 198,-55.5 0,-55.5\"/>\n<text text-anchor=\"middle\" x=\"11.5\" y=\"-69.8\" font-family=\"Times,serif\" font-size=\"14.00\">b</text>\n<polyline fill=\"none\" stroke=\"black\" points=\"23,-55.5 23,-91.5 \"/>\n<text text-anchor=\"middle\" x=\"67.5\" y=\"-69.8\" font-family=\"Times,serif\" font-size=\"14.00\">data: &#45;3.0000</text>\n<polyline fill=\"none\" stroke=\"black\" points=\"112,-55.5 112,-91.5 \"/>\n<text text-anchor=\"middle\" x=\"155\" y=\"-69.8\" font-family=\"Times,serif\" font-size=\"14.00\">grad: 0.0000</text>\n</g>\n<!-- 139899568660688* -->\n<g id=\"node6\" class=\"node\">\n<title>139899568660688*</title>\n<ellipse fill=\"none\" stroke=\"black\" cx=\"261\" cy=\"-45.5\" rx=\"27\" ry=\"18\"/>\n<text text-anchor=\"middle\" x=\"261\" y=\"-41.8\" font-family=\"Times,serif\" font-size=\"14.00\">*</text>\n</g>\n<!-- 139899568663136&#45;&gt;139899568660688* -->\n<g id=\"edge5\" class=\"edge\">\n<title>139899568663136&#45;&gt;139899568660688*</title>\n<path fill=\"none\" stroke=\"black\" d=\"M198.14,-56.33C207.5,-54.69 216.5,-53.11 224.61,-51.69\"/>\n<polygon fill=\"black\" stroke=\"black\" points=\"225.46,-55.1 234.7,-49.93 224.25,-48.2 225.46,-55.1\"/>\n</g>\n<!-- 139899568660592 -->\n<g id=\"node3\" class=\"node\">\n<title>139899568660592</title>\n<polygon fill=\"none\" stroke=\"black\" points=\"324,-82.5 324,-118.5 528,-118.5 528,-82.5 324,-82.5\"/>\n<text text-anchor=\"middle\" x=\"335.5\" y=\"-96.8\" font-family=\"Times,serif\" font-size=\"14.00\">d</text>\n<polyline fill=\"none\" stroke=\"black\" points=\"347,-82.5 347,-118.5 \"/>\n<text text-anchor=\"middle\" x=\"392.5\" y=\"-96.8\" font-family=\"Times,serif\" font-size=\"14.00\">data: 10.0000</text>\n<polyline fill=\"none\" stroke=\"black\" points=\"438,-82.5 438,-118.5 \"/>\n<text text-anchor=\"middle\" x=\"483\" y=\"-96.8\" font-family=\"Times,serif\" font-size=\"14.00\">grad: &#45;2.0000</text>\n</g>\n<!-- 139899568660784+ -->\n<g id=\"node8\" class=\"node\">\n<title>139899568660784+</title>\n<ellipse fill=\"none\" stroke=\"black\" cx=\"591\" cy=\"-72.5\" rx=\"27\" ry=\"18\"/>\n<text text-anchor=\"middle\" x=\"591\" y=\"-68.8\" font-family=\"Times,serif\" font-size=\"14.00\">+</text>\n</g>\n<!-- 139899568660592&#45;&gt;139899568660784+ -->\n<g id=\"edge7\" class=\"edge\">\n<title>139899568660592&#45;&gt;139899568660784+</title>\n<path fill=\"none\" stroke=\"black\" d=\"M528.38,-83.09C537.65,-81.49 546.56,-79.96 554.58,-78.58\"/>\n<polygon fill=\"black\" stroke=\"black\" points=\"555.3,-82.01 564.57,-76.87 554.12,-75.11 555.3,-82.01\"/>\n</g>\n<!-- 139899568663184 -->\n<g id=\"node4\" class=\"node\">\n<title>139899568663184</title>\n<polygon fill=\"none\" stroke=\"black\" points=\"2.5,-0.5 2.5,-36.5 195.5,-36.5 195.5,-0.5 2.5,-0.5\"/>\n<text text-anchor=\"middle\" x=\"14\" y=\"-14.8\" font-family=\"Times,serif\" font-size=\"14.00\">a</text>\n<polyline fill=\"none\" stroke=\"black\" points=\"25.5,-0.5 25.5,-36.5 \"/>\n<text text-anchor=\"middle\" x=\"67.5\" y=\"-14.8\" font-family=\"Times,serif\" font-size=\"14.00\">data: 2.0000</text>\n<polyline fill=\"none\" stroke=\"black\" points=\"109.5,-0.5 109.5,-36.5 \"/>\n<text text-anchor=\"middle\" x=\"152.5\" y=\"-14.8\" font-family=\"Times,serif\" font-size=\"14.00\">grad: 0.0000</text>\n</g>\n<!-- 139899568663184&#45;&gt;139899568660688* -->\n<g id=\"edge9\" class=\"edge\">\n<title>139899568663184&#45;&gt;139899568660688*</title>\n<path fill=\"none\" stroke=\"black\" d=\"M195.84,-34.67C205.97,-36.38 215.74,-38.03 224.48,-39.51\"/>\n<polygon fill=\"black\" stroke=\"black\" points=\"224.13,-43 234.57,-41.21 225.29,-36.09 224.13,-43\"/>\n</g>\n<!-- 139899568660688 -->\n<g id=\"node5\" class=\"node\">\n<title>139899568660688</title>\n<polygon fill=\"none\" stroke=\"black\" points=\"325,-27.5 325,-63.5 527,-63.5 527,-27.5 325,-27.5\"/>\n<text text-anchor=\"middle\" x=\"336.5\" y=\"-41.8\" font-family=\"Times,serif\" font-size=\"14.00\">c</text>\n<polyline fill=\"none\" stroke=\"black\" points=\"348,-27.5 348,-63.5 \"/>\n<text text-anchor=\"middle\" x=\"392.5\" y=\"-41.8\" font-family=\"Times,serif\" font-size=\"14.00\">data: &#45;6.0000</text>\n<polyline fill=\"none\" stroke=\"black\" points=\"437,-27.5 437,-63.5 \"/>\n<text text-anchor=\"middle\" x=\"482\" y=\"-41.8\" font-family=\"Times,serif\" font-size=\"14.00\">grad: &#45;2.0000</text>\n</g>\n<!-- 139899568660688&#45;&gt;139899568660784+ -->\n<g id=\"edge4\" class=\"edge\">\n<title>139899568660688&#45;&gt;139899568660784+</title>\n<path fill=\"none\" stroke=\"black\" d=\"M527.45,-62.14C537.03,-63.73 546.24,-65.25 554.51,-66.62\"/>\n<polygon fill=\"black\" stroke=\"black\" points=\"554,-70.09 564.44,-68.27 555.15,-63.18 554,-70.09\"/>\n</g>\n<!-- 139899568660688*&#45;&gt;139899568660688 -->\n<g id=\"edge1\" class=\"edge\">\n<title>139899568660688*&#45;&gt;139899568660688</title>\n<path fill=\"none\" stroke=\"black\" d=\"M288.19,-45.5C295.94,-45.5 304.95,-45.5 314.58,-45.5\"/>\n<polygon fill=\"black\" stroke=\"black\" points=\"314.81,-49 324.81,-45.5 314.81,-42 314.81,-49\"/>\n</g>\n<!-- 139899568660784 -->\n<g id=\"node7\" class=\"node\">\n<title>139899568660784</title>\n<polygon fill=\"none\" stroke=\"black\" points=\"654,-54.5 654,-90.5 851,-90.5 851,-54.5 654,-54.5\"/>\n<text text-anchor=\"middle\" x=\"665.5\" y=\"-68.8\" font-family=\"Times,serif\" font-size=\"14.00\">e</text>\n<polyline fill=\"none\" stroke=\"black\" points=\"677,-54.5 677,-90.5 \"/>\n<text text-anchor=\"middle\" x=\"719\" y=\"-68.8\" font-family=\"Times,serif\" font-size=\"14.00\">data: 4.0000</text>\n<polyline fill=\"none\" stroke=\"black\" points=\"761,-54.5 761,-90.5 \"/>\n<text text-anchor=\"middle\" x=\"806\" y=\"-68.8\" font-family=\"Times,serif\" font-size=\"14.00\">grad: &#45;2.0000</text>\n</g>\n<!-- 139899568660784&#45;&gt;139899568661456* -->\n<g id=\"edge8\" class=\"edge\">\n<title>139899568660784&#45;&gt;139899568661456*</title>\n<path fill=\"none\" stroke=\"black\" d=\"M851.33,-89.06C860.57,-90.62 869.46,-92.13 877.49,-93.49\"/>\n<polygon fill=\"black\" stroke=\"black\" points=\"877.04,-96.96 887.48,-95.18 878.21,-90.06 877.04,-96.96\"/>\n</g>\n<!-- 139899568660784+&#45;&gt;139899568660784 -->\n<g id=\"edge2\" class=\"edge\">\n<title>139899568660784+&#45;&gt;139899568660784</title>\n<path fill=\"none\" stroke=\"black\" d=\"M618.34,-72.5C625.81,-72.5 634.44,-72.5 643.64,-72.5\"/>\n<polygon fill=\"black\" stroke=\"black\" points=\"643.83,-76 653.83,-72.5 643.83,-69 643.83,-76\"/>\n</g>\n<!-- 139899568661456 -->\n<g id=\"node9\" class=\"node\">\n<title>139899568661456</title>\n<polygon fill=\"none\" stroke=\"black\" points=\"977,-81.5 977,-117.5 1177,-117.5 1177,-81.5 977,-81.5\"/>\n<text text-anchor=\"middle\" x=\"989.5\" y=\"-95.8\" font-family=\"Times,serif\" font-size=\"14.00\">L</text>\n<polyline fill=\"none\" stroke=\"black\" points=\"1002,-81.5 1002,-117.5 \"/>\n<text text-anchor=\"middle\" x=\"1046.5\" y=\"-95.8\" font-family=\"Times,serif\" font-size=\"14.00\">data: &#45;8.0000</text>\n<polyline fill=\"none\" stroke=\"black\" points=\"1091,-81.5 1091,-117.5 \"/>\n<text text-anchor=\"middle\" x=\"1134\" y=\"-95.8\" font-family=\"Times,serif\" font-size=\"14.00\">grad: 1.0000</text>\n</g>\n<!-- 139899568661456*&#45;&gt;139899568661456 -->\n<g id=\"edge3\" class=\"edge\">\n<title>139899568661456*&#45;&gt;139899568661456</title>\n<path fill=\"none\" stroke=\"black\" d=\"M941.23,-99.5C948.69,-99.5 957.31,-99.5 966.52,-99.5\"/>\n<polygon fill=\"black\" stroke=\"black\" points=\"966.71,-103 976.71,-99.5 966.71,-96 966.71,-103\"/>\n</g>\n</g>\n</svg>\n",
            "text/plain": [
              "<graphviz.graphs.Digraph at 0x7f3ce818d070>"
            ]
          },
          "metadata": {},
          "execution_count": 14
        }
      ]
    },
    {
      "cell_type": "code",
      "source": [
        "# now the final nodes\n",
        "# dL/da and dL/db\n",
        "\n",
        "# now, this would be similar to what we did before, and i am gonna skip the derivations.\n",
        "# applying chain rule:\n",
        "# dL/da = dL/dc * dc/da\n",
        "\n",
        "# let's find out dc/da quickly:\n",
        "# c = a * b\n",
        "# => dc/da = b\n",
        "\n",
        "# so,\n",
        "# dL/da = dL/dc * dc/da = dL/dc * b = -2.0 * -3.0 = 6.0\n",
        "\n",
        "# similarly,\n",
        "# dL/db = dL/dc * dc/db = dL/dc * a = -2.0 * 2.0 = -4.0"
      ],
      "metadata": {
        "id": "0eouEH4pEzUP"
      },
      "execution_count": 15,
      "outputs": []
    },
    {
      "cell_type": "code",
      "source": [
        "# let's manually update the same\n",
        "a.grad = 6.0\n",
        "b.grad = -4.0\n",
        "draw_dot(L)"
      ],
      "metadata": {
        "colab": {
          "base_uri": "https://localhost:8080/",
          "height": 247
        },
        "id": "-s2z_rKrLOGb",
        "outputId": "d8323a76-7e56-4a4a-96dd-f1df75d995af"
      },
      "execution_count": 16,
      "outputs": [
        {
          "output_type": "execute_result",
          "data": {
            "image/svg+xml": "<?xml version=\"1.0\" encoding=\"UTF-8\" standalone=\"no\"?>\n<!DOCTYPE svg PUBLIC \"-//W3C//DTD SVG 1.1//EN\"\n \"http://www.w3.org/Graphics/SVG/1.1/DTD/svg11.dtd\">\n<!-- Generated by graphviz version 2.43.0 (0)\n -->\n<!-- Title: %3 Pages: 1 -->\n<svg width=\"1189pt\" height=\"154pt\"\n viewBox=\"0.00 0.00 1189.00 154.00\" xmlns=\"http://www.w3.org/2000/svg\" xmlns:xlink=\"http://www.w3.org/1999/xlink\">\n<g id=\"graph0\" class=\"graph\" transform=\"scale(1 1) rotate(0) translate(4 150)\">\n<title>%3</title>\n<polygon fill=\"white\" stroke=\"transparent\" points=\"-4,4 -4,-150 1185,-150 1185,4 -4,4\"/>\n<!-- 139899568661504 -->\n<g id=\"node1\" class=\"node\">\n<title>139899568661504</title>\n<polygon fill=\"none\" stroke=\"black\" points=\"658.5,-109.5 658.5,-145.5 854.5,-145.5 854.5,-109.5 658.5,-109.5\"/>\n<text text-anchor=\"middle\" x=\"669\" y=\"-123.8\" font-family=\"Times,serif\" font-size=\"14.00\">f</text>\n<polyline fill=\"none\" stroke=\"black\" points=\"679.5,-109.5 679.5,-145.5 \"/>\n<text text-anchor=\"middle\" x=\"724\" y=\"-123.8\" font-family=\"Times,serif\" font-size=\"14.00\">data: &#45;2.0000</text>\n<polyline fill=\"none\" stroke=\"black\" points=\"768.5,-109.5 768.5,-145.5 \"/>\n<text text-anchor=\"middle\" x=\"811.5\" y=\"-123.8\" font-family=\"Times,serif\" font-size=\"14.00\">grad: 4.0000</text>\n</g>\n<!-- 139899568661456* -->\n<g id=\"node10\" class=\"node\">\n<title>139899568661456*</title>\n<ellipse fill=\"none\" stroke=\"black\" cx=\"918\" cy=\"-99.5\" rx=\"27\" ry=\"18\"/>\n<text text-anchor=\"middle\" x=\"918\" y=\"-95.8\" font-family=\"Times,serif\" font-size=\"14.00\">*</text>\n</g>\n<!-- 139899568661504&#45;&gt;139899568661456* -->\n<g id=\"edge6\" class=\"edge\">\n<title>139899568661504&#45;&gt;139899568661456*</title>\n<path fill=\"none\" stroke=\"black\" d=\"M854.88,-110.41C864.36,-108.74 873.5,-107.14 881.71,-105.7\"/>\n<polygon fill=\"black\" stroke=\"black\" points=\"882.33,-109.14 891.57,-103.96 881.12,-102.25 882.33,-109.14\"/>\n</g>\n<!-- 139899568663136 -->\n<g id=\"node2\" class=\"node\">\n<title>139899568663136</title>\n<polygon fill=\"none\" stroke=\"black\" points=\"0,-55.5 0,-91.5 202,-91.5 202,-55.5 0,-55.5\"/>\n<text text-anchor=\"middle\" x=\"11.5\" y=\"-69.8\" font-family=\"Times,serif\" font-size=\"14.00\">b</text>\n<polyline fill=\"none\" stroke=\"black\" points=\"23,-55.5 23,-91.5 \"/>\n<text text-anchor=\"middle\" x=\"67.5\" y=\"-69.8\" font-family=\"Times,serif\" font-size=\"14.00\">data: &#45;3.0000</text>\n<polyline fill=\"none\" stroke=\"black\" points=\"112,-55.5 112,-91.5 \"/>\n<text text-anchor=\"middle\" x=\"157\" y=\"-69.8\" font-family=\"Times,serif\" font-size=\"14.00\">grad: &#45;4.0000</text>\n</g>\n<!-- 139899568660688* -->\n<g id=\"node6\" class=\"node\">\n<title>139899568660688*</title>\n<ellipse fill=\"none\" stroke=\"black\" cx=\"265\" cy=\"-45.5\" rx=\"27\" ry=\"18\"/>\n<text text-anchor=\"middle\" x=\"265\" y=\"-41.8\" font-family=\"Times,serif\" font-size=\"14.00\">*</text>\n</g>\n<!-- 139899568663136&#45;&gt;139899568660688* -->\n<g id=\"edge5\" class=\"edge\">\n<title>139899568663136&#45;&gt;139899568660688*</title>\n<path fill=\"none\" stroke=\"black\" d=\"M202.29,-56.17C211.56,-54.56 220.48,-53.02 228.51,-51.63\"/>\n<polygon fill=\"black\" stroke=\"black\" points=\"229.25,-55.06 238.51,-49.91 228.06,-48.16 229.25,-55.06\"/>\n</g>\n<!-- 139899568660592 -->\n<g id=\"node3\" class=\"node\">\n<title>139899568660592</title>\n<polygon fill=\"none\" stroke=\"black\" points=\"328,-82.5 328,-118.5 532,-118.5 532,-82.5 328,-82.5\"/>\n<text text-anchor=\"middle\" x=\"339.5\" y=\"-96.8\" font-family=\"Times,serif\" font-size=\"14.00\">d</text>\n<polyline fill=\"none\" stroke=\"black\" points=\"351,-82.5 351,-118.5 \"/>\n<text text-anchor=\"middle\" x=\"396.5\" y=\"-96.8\" font-family=\"Times,serif\" font-size=\"14.00\">data: 10.0000</text>\n<polyline fill=\"none\" stroke=\"black\" points=\"442,-82.5 442,-118.5 \"/>\n<text text-anchor=\"middle\" x=\"487\" y=\"-96.8\" font-family=\"Times,serif\" font-size=\"14.00\">grad: &#45;2.0000</text>\n</g>\n<!-- 139899568660784+ -->\n<g id=\"node8\" class=\"node\">\n<title>139899568660784+</title>\n<ellipse fill=\"none\" stroke=\"black\" cx=\"595\" cy=\"-72.5\" rx=\"27\" ry=\"18\"/>\n<text text-anchor=\"middle\" x=\"595\" y=\"-68.8\" font-family=\"Times,serif\" font-size=\"14.00\">+</text>\n</g>\n<!-- 139899568660592&#45;&gt;139899568660784+ -->\n<g id=\"edge7\" class=\"edge\">\n<title>139899568660592&#45;&gt;139899568660784+</title>\n<path fill=\"none\" stroke=\"black\" d=\"M532.38,-83.09C541.65,-81.49 550.56,-79.96 558.58,-78.58\"/>\n<polygon fill=\"black\" stroke=\"black\" points=\"559.3,-82.01 568.57,-76.87 558.12,-75.11 559.3,-82.01\"/>\n</g>\n<!-- 139899568663184 -->\n<g id=\"node4\" class=\"node\">\n<title>139899568663184</title>\n<polygon fill=\"none\" stroke=\"black\" points=\"4.5,-0.5 4.5,-36.5 197.5,-36.5 197.5,-0.5 4.5,-0.5\"/>\n<text text-anchor=\"middle\" x=\"16\" y=\"-14.8\" font-family=\"Times,serif\" font-size=\"14.00\">a</text>\n<polyline fill=\"none\" stroke=\"black\" points=\"27.5,-0.5 27.5,-36.5 \"/>\n<text text-anchor=\"middle\" x=\"69.5\" y=\"-14.8\" font-family=\"Times,serif\" font-size=\"14.00\">data: 2.0000</text>\n<polyline fill=\"none\" stroke=\"black\" points=\"111.5,-0.5 111.5,-36.5 \"/>\n<text text-anchor=\"middle\" x=\"154.5\" y=\"-14.8\" font-family=\"Times,serif\" font-size=\"14.00\">grad: 6.0000</text>\n</g>\n<!-- 139899568663184&#45;&gt;139899568660688* -->\n<g id=\"edge9\" class=\"edge\">\n<title>139899568663184&#45;&gt;139899568660688*</title>\n<path fill=\"none\" stroke=\"black\" d=\"M197.64,-34.44C208.59,-36.27 219.17,-38.03 228.55,-39.59\"/>\n<polygon fill=\"black\" stroke=\"black\" points=\"228.13,-43.07 238.57,-41.26 229.28,-36.17 228.13,-43.07\"/>\n</g>\n<!-- 139899568660688 -->\n<g id=\"node5\" class=\"node\">\n<title>139899568660688</title>\n<polygon fill=\"none\" stroke=\"black\" points=\"329,-27.5 329,-63.5 531,-63.5 531,-27.5 329,-27.5\"/>\n<text text-anchor=\"middle\" x=\"340.5\" y=\"-41.8\" font-family=\"Times,serif\" font-size=\"14.00\">c</text>\n<polyline fill=\"none\" stroke=\"black\" points=\"352,-27.5 352,-63.5 \"/>\n<text text-anchor=\"middle\" x=\"396.5\" y=\"-41.8\" font-family=\"Times,serif\" font-size=\"14.00\">data: &#45;6.0000</text>\n<polyline fill=\"none\" stroke=\"black\" points=\"441,-27.5 441,-63.5 \"/>\n<text text-anchor=\"middle\" x=\"486\" y=\"-41.8\" font-family=\"Times,serif\" font-size=\"14.00\">grad: &#45;2.0000</text>\n</g>\n<!-- 139899568660688&#45;&gt;139899568660784+ -->\n<g id=\"edge4\" class=\"edge\">\n<title>139899568660688&#45;&gt;139899568660784+</title>\n<path fill=\"none\" stroke=\"black\" d=\"M531.45,-62.14C541.03,-63.73 550.24,-65.25 558.51,-66.62\"/>\n<polygon fill=\"black\" stroke=\"black\" points=\"558,-70.09 568.44,-68.27 559.15,-63.18 558,-70.09\"/>\n</g>\n<!-- 139899568660688*&#45;&gt;139899568660688 -->\n<g id=\"edge1\" class=\"edge\">\n<title>139899568660688*&#45;&gt;139899568660688</title>\n<path fill=\"none\" stroke=\"black\" d=\"M292.19,-45.5C299.94,-45.5 308.95,-45.5 318.58,-45.5\"/>\n<polygon fill=\"black\" stroke=\"black\" points=\"318.81,-49 328.81,-45.5 318.81,-42 318.81,-49\"/>\n</g>\n<!-- 139899568660784 -->\n<g id=\"node7\" class=\"node\">\n<title>139899568660784</title>\n<polygon fill=\"none\" stroke=\"black\" points=\"658,-54.5 658,-90.5 855,-90.5 855,-54.5 658,-54.5\"/>\n<text text-anchor=\"middle\" x=\"669.5\" y=\"-68.8\" font-family=\"Times,serif\" font-size=\"14.00\">e</text>\n<polyline fill=\"none\" stroke=\"black\" points=\"681,-54.5 681,-90.5 \"/>\n<text text-anchor=\"middle\" x=\"723\" y=\"-68.8\" font-family=\"Times,serif\" font-size=\"14.00\">data: 4.0000</text>\n<polyline fill=\"none\" stroke=\"black\" points=\"765,-54.5 765,-90.5 \"/>\n<text text-anchor=\"middle\" x=\"810\" y=\"-68.8\" font-family=\"Times,serif\" font-size=\"14.00\">grad: &#45;2.0000</text>\n</g>\n<!-- 139899568660784&#45;&gt;139899568661456* -->\n<g id=\"edge8\" class=\"edge\">\n<title>139899568660784&#45;&gt;139899568661456*</title>\n<path fill=\"none\" stroke=\"black\" d=\"M855.33,-89.06C864.57,-90.62 873.46,-92.13 881.49,-93.49\"/>\n<polygon fill=\"black\" stroke=\"black\" points=\"881.04,-96.96 891.48,-95.18 882.21,-90.06 881.04,-96.96\"/>\n</g>\n<!-- 139899568660784+&#45;&gt;139899568660784 -->\n<g id=\"edge2\" class=\"edge\">\n<title>139899568660784+&#45;&gt;139899568660784</title>\n<path fill=\"none\" stroke=\"black\" d=\"M622.34,-72.5C629.81,-72.5 638.44,-72.5 647.64,-72.5\"/>\n<polygon fill=\"black\" stroke=\"black\" points=\"647.83,-76 657.83,-72.5 647.83,-69 647.83,-76\"/>\n</g>\n<!-- 139899568661456 -->\n<g id=\"node9\" class=\"node\">\n<title>139899568661456</title>\n<polygon fill=\"none\" stroke=\"black\" points=\"981,-81.5 981,-117.5 1181,-117.5 1181,-81.5 981,-81.5\"/>\n<text text-anchor=\"middle\" x=\"993.5\" y=\"-95.8\" font-family=\"Times,serif\" font-size=\"14.00\">L</text>\n<polyline fill=\"none\" stroke=\"black\" points=\"1006,-81.5 1006,-117.5 \"/>\n<text text-anchor=\"middle\" x=\"1050.5\" y=\"-95.8\" font-family=\"Times,serif\" font-size=\"14.00\">data: &#45;8.0000</text>\n<polyline fill=\"none\" stroke=\"black\" points=\"1095,-81.5 1095,-117.5 \"/>\n<text text-anchor=\"middle\" x=\"1138\" y=\"-95.8\" font-family=\"Times,serif\" font-size=\"14.00\">grad: 1.0000</text>\n</g>\n<!-- 139899568661456*&#45;&gt;139899568661456 -->\n<g id=\"edge3\" class=\"edge\">\n<title>139899568661456*&#45;&gt;139899568661456</title>\n<path fill=\"none\" stroke=\"black\" d=\"M945.23,-99.5C952.69,-99.5 961.31,-99.5 970.52,-99.5\"/>\n<polygon fill=\"black\" stroke=\"black\" points=\"970.71,-103 980.71,-99.5 970.71,-96 970.71,-103\"/>\n</g>\n</g>\n</svg>\n",
            "text/plain": [
              "<graphviz.graphs.Digraph at 0x7f3ce81525b0>"
            ]
          },
          "metadata": {},
          "execution_count": 16
        }
      ]
    },
    {
      "cell_type": "code",
      "source": [
        "# AND... WE DID IT !!!"
      ],
      "metadata": {
        "id": "uJxqanmaLOJx"
      },
      "execution_count": 17,
      "outputs": []
    },
    {
      "cell_type": "code",
      "source": [
        "# Let's verify by writing a function that derives these values from first principles:\n",
        "def compute_grad_of_L(wrt='', h=0.001):\n",
        "    # initial expression\n",
        "    a = Value(2.0)\n",
        "    b = Value(-3.0)\n",
        "    c = a * b\n",
        "    d = Value(10.0)\n",
        "    e = c + d\n",
        "    f = Value(-2.0)\n",
        "    L = e * f\n",
        "    L1 = L.data\n",
        "\n",
        "    # with slight nudge of h\n",
        "    a = Value(2.0 + h) if wrt == 'a' else Value(2.0)\n",
        "    b = Value(-3.0 + h) if wrt == 'b' else Value(-3.0)\n",
        "    c = Value((a * b).data + h) if wrt == 'c' else a * b\n",
        "    d = Value(10.0 + h) if wrt == 'd' else Value(10.0)\n",
        "    e = Value((c + d).data + h) if wrt == 'e' else c + d\n",
        "    f = Value(-2.0 + h) if wrt == 'f' else Value(-2.0)\n",
        "    L = Value((e * f).data + h) if wrt == 'L' else e * f\n",
        "    L2 = L.data\n",
        "\n",
        "    return (L2 - L1) / h"
      ],
      "metadata": {
        "id": "n_xABB_DQgc-"
      },
      "execution_count": 18,
      "outputs": []
    },
    {
      "cell_type": "code",
      "source": [
        "# inline gradient check, numerically by tweaking the variables by 'h' amount\n",
        "# and seeing how L get's affected. (this is like deriving grad from first principles numerically)\n",
        "print(\"computing grad numerically using compute_grad_of_L(wrt, h):\")\n",
        "for wrt in ['L', 'f', 'e', 'd', 'c', 'b', 'a']:\n",
        "    grad = compute_grad_of_L(wrt=wrt)\n",
        "    print(f\"dL/d{wrt} = {grad}\")"
      ],
      "metadata": {
        "colab": {
          "base_uri": "https://localhost:8080/"
        },
        "id": "BsOskouZQghG",
        "outputId": "75261dc9-0a18-4de9-f18b-c64985f1c2b9"
      },
      "execution_count": 19,
      "outputs": [
        {
          "output_type": "stream",
          "name": "stdout",
          "text": [
            "computing grad numerically using compute_grad_of_L(wrt, h):\n",
            "dL/dL = 1.000000000000334\n",
            "dL/df = 3.9999999999995595\n",
            "dL/de = -2.000000000000668\n",
            "dL/dd = -1.9999999999988916\n",
            "dL/dc = -2.000000000000668\n",
            "dL/db = -3.9999999999995595\n",
            "dL/da = 6.000000000000227\n"
          ]
        }
      ]
    },
    {
      "cell_type": "code",
      "source": [
        "# let's see what we got from manual derivations and dry running backpropagation manually:\n",
        "draw_dot(L)"
      ],
      "metadata": {
        "colab": {
          "base_uri": "https://localhost:8080/",
          "height": 247
        },
        "id": "DlRcYyUyGS80",
        "outputId": "949b1670-8349-42cc-b534-37a1012b4f9d"
      },
      "execution_count": 20,
      "outputs": [
        {
          "output_type": "execute_result",
          "data": {
            "image/svg+xml": "<?xml version=\"1.0\" encoding=\"UTF-8\" standalone=\"no\"?>\n<!DOCTYPE svg PUBLIC \"-//W3C//DTD SVG 1.1//EN\"\n \"http://www.w3.org/Graphics/SVG/1.1/DTD/svg11.dtd\">\n<!-- Generated by graphviz version 2.43.0 (0)\n -->\n<!-- Title: %3 Pages: 1 -->\n<svg width=\"1189pt\" height=\"154pt\"\n viewBox=\"0.00 0.00 1189.00 154.00\" xmlns=\"http://www.w3.org/2000/svg\" xmlns:xlink=\"http://www.w3.org/1999/xlink\">\n<g id=\"graph0\" class=\"graph\" transform=\"scale(1 1) rotate(0) translate(4 150)\">\n<title>%3</title>\n<polygon fill=\"white\" stroke=\"transparent\" points=\"-4,4 -4,-150 1185,-150 1185,4 -4,4\"/>\n<!-- 139899568661504 -->\n<g id=\"node1\" class=\"node\">\n<title>139899568661504</title>\n<polygon fill=\"none\" stroke=\"black\" points=\"658.5,-109.5 658.5,-145.5 854.5,-145.5 854.5,-109.5 658.5,-109.5\"/>\n<text text-anchor=\"middle\" x=\"669\" y=\"-123.8\" font-family=\"Times,serif\" font-size=\"14.00\">f</text>\n<polyline fill=\"none\" stroke=\"black\" points=\"679.5,-109.5 679.5,-145.5 \"/>\n<text text-anchor=\"middle\" x=\"724\" y=\"-123.8\" font-family=\"Times,serif\" font-size=\"14.00\">data: &#45;2.0000</text>\n<polyline fill=\"none\" stroke=\"black\" points=\"768.5,-109.5 768.5,-145.5 \"/>\n<text text-anchor=\"middle\" x=\"811.5\" y=\"-123.8\" font-family=\"Times,serif\" font-size=\"14.00\">grad: 4.0000</text>\n</g>\n<!-- 139899568661456* -->\n<g id=\"node10\" class=\"node\">\n<title>139899568661456*</title>\n<ellipse fill=\"none\" stroke=\"black\" cx=\"918\" cy=\"-99.5\" rx=\"27\" ry=\"18\"/>\n<text text-anchor=\"middle\" x=\"918\" y=\"-95.8\" font-family=\"Times,serif\" font-size=\"14.00\">*</text>\n</g>\n<!-- 139899568661504&#45;&gt;139899568661456* -->\n<g id=\"edge6\" class=\"edge\">\n<title>139899568661504&#45;&gt;139899568661456*</title>\n<path fill=\"none\" stroke=\"black\" d=\"M854.88,-110.41C864.36,-108.74 873.5,-107.14 881.71,-105.7\"/>\n<polygon fill=\"black\" stroke=\"black\" points=\"882.33,-109.14 891.57,-103.96 881.12,-102.25 882.33,-109.14\"/>\n</g>\n<!-- 139899568663136 -->\n<g id=\"node2\" class=\"node\">\n<title>139899568663136</title>\n<polygon fill=\"none\" stroke=\"black\" points=\"0,-55.5 0,-91.5 202,-91.5 202,-55.5 0,-55.5\"/>\n<text text-anchor=\"middle\" x=\"11.5\" y=\"-69.8\" font-family=\"Times,serif\" font-size=\"14.00\">b</text>\n<polyline fill=\"none\" stroke=\"black\" points=\"23,-55.5 23,-91.5 \"/>\n<text text-anchor=\"middle\" x=\"67.5\" y=\"-69.8\" font-family=\"Times,serif\" font-size=\"14.00\">data: &#45;3.0000</text>\n<polyline fill=\"none\" stroke=\"black\" points=\"112,-55.5 112,-91.5 \"/>\n<text text-anchor=\"middle\" x=\"157\" y=\"-69.8\" font-family=\"Times,serif\" font-size=\"14.00\">grad: &#45;4.0000</text>\n</g>\n<!-- 139899568660688* -->\n<g id=\"node6\" class=\"node\">\n<title>139899568660688*</title>\n<ellipse fill=\"none\" stroke=\"black\" cx=\"265\" cy=\"-45.5\" rx=\"27\" ry=\"18\"/>\n<text text-anchor=\"middle\" x=\"265\" y=\"-41.8\" font-family=\"Times,serif\" font-size=\"14.00\">*</text>\n</g>\n<!-- 139899568663136&#45;&gt;139899568660688* -->\n<g id=\"edge5\" class=\"edge\">\n<title>139899568663136&#45;&gt;139899568660688*</title>\n<path fill=\"none\" stroke=\"black\" d=\"M202.29,-56.17C211.56,-54.56 220.48,-53.02 228.51,-51.63\"/>\n<polygon fill=\"black\" stroke=\"black\" points=\"229.25,-55.06 238.51,-49.91 228.06,-48.16 229.25,-55.06\"/>\n</g>\n<!-- 139899568660592 -->\n<g id=\"node3\" class=\"node\">\n<title>139899568660592</title>\n<polygon fill=\"none\" stroke=\"black\" points=\"328,-82.5 328,-118.5 532,-118.5 532,-82.5 328,-82.5\"/>\n<text text-anchor=\"middle\" x=\"339.5\" y=\"-96.8\" font-family=\"Times,serif\" font-size=\"14.00\">d</text>\n<polyline fill=\"none\" stroke=\"black\" points=\"351,-82.5 351,-118.5 \"/>\n<text text-anchor=\"middle\" x=\"396.5\" y=\"-96.8\" font-family=\"Times,serif\" font-size=\"14.00\">data: 10.0000</text>\n<polyline fill=\"none\" stroke=\"black\" points=\"442,-82.5 442,-118.5 \"/>\n<text text-anchor=\"middle\" x=\"487\" y=\"-96.8\" font-family=\"Times,serif\" font-size=\"14.00\">grad: &#45;2.0000</text>\n</g>\n<!-- 139899568660784+ -->\n<g id=\"node8\" class=\"node\">\n<title>139899568660784+</title>\n<ellipse fill=\"none\" stroke=\"black\" cx=\"595\" cy=\"-72.5\" rx=\"27\" ry=\"18\"/>\n<text text-anchor=\"middle\" x=\"595\" y=\"-68.8\" font-family=\"Times,serif\" font-size=\"14.00\">+</text>\n</g>\n<!-- 139899568660592&#45;&gt;139899568660784+ -->\n<g id=\"edge7\" class=\"edge\">\n<title>139899568660592&#45;&gt;139899568660784+</title>\n<path fill=\"none\" stroke=\"black\" d=\"M532.38,-83.09C541.65,-81.49 550.56,-79.96 558.58,-78.58\"/>\n<polygon fill=\"black\" stroke=\"black\" points=\"559.3,-82.01 568.57,-76.87 558.12,-75.11 559.3,-82.01\"/>\n</g>\n<!-- 139899568663184 -->\n<g id=\"node4\" class=\"node\">\n<title>139899568663184</title>\n<polygon fill=\"none\" stroke=\"black\" points=\"4.5,-0.5 4.5,-36.5 197.5,-36.5 197.5,-0.5 4.5,-0.5\"/>\n<text text-anchor=\"middle\" x=\"16\" y=\"-14.8\" font-family=\"Times,serif\" font-size=\"14.00\">a</text>\n<polyline fill=\"none\" stroke=\"black\" points=\"27.5,-0.5 27.5,-36.5 \"/>\n<text text-anchor=\"middle\" x=\"69.5\" y=\"-14.8\" font-family=\"Times,serif\" font-size=\"14.00\">data: 2.0000</text>\n<polyline fill=\"none\" stroke=\"black\" points=\"111.5,-0.5 111.5,-36.5 \"/>\n<text text-anchor=\"middle\" x=\"154.5\" y=\"-14.8\" font-family=\"Times,serif\" font-size=\"14.00\">grad: 6.0000</text>\n</g>\n<!-- 139899568663184&#45;&gt;139899568660688* -->\n<g id=\"edge9\" class=\"edge\">\n<title>139899568663184&#45;&gt;139899568660688*</title>\n<path fill=\"none\" stroke=\"black\" d=\"M197.64,-34.44C208.59,-36.27 219.17,-38.03 228.55,-39.59\"/>\n<polygon fill=\"black\" stroke=\"black\" points=\"228.13,-43.07 238.57,-41.26 229.28,-36.17 228.13,-43.07\"/>\n</g>\n<!-- 139899568660688 -->\n<g id=\"node5\" class=\"node\">\n<title>139899568660688</title>\n<polygon fill=\"none\" stroke=\"black\" points=\"329,-27.5 329,-63.5 531,-63.5 531,-27.5 329,-27.5\"/>\n<text text-anchor=\"middle\" x=\"340.5\" y=\"-41.8\" font-family=\"Times,serif\" font-size=\"14.00\">c</text>\n<polyline fill=\"none\" stroke=\"black\" points=\"352,-27.5 352,-63.5 \"/>\n<text text-anchor=\"middle\" x=\"396.5\" y=\"-41.8\" font-family=\"Times,serif\" font-size=\"14.00\">data: &#45;6.0000</text>\n<polyline fill=\"none\" stroke=\"black\" points=\"441,-27.5 441,-63.5 \"/>\n<text text-anchor=\"middle\" x=\"486\" y=\"-41.8\" font-family=\"Times,serif\" font-size=\"14.00\">grad: &#45;2.0000</text>\n</g>\n<!-- 139899568660688&#45;&gt;139899568660784+ -->\n<g id=\"edge4\" class=\"edge\">\n<title>139899568660688&#45;&gt;139899568660784+</title>\n<path fill=\"none\" stroke=\"black\" d=\"M531.45,-62.14C541.03,-63.73 550.24,-65.25 558.51,-66.62\"/>\n<polygon fill=\"black\" stroke=\"black\" points=\"558,-70.09 568.44,-68.27 559.15,-63.18 558,-70.09\"/>\n</g>\n<!-- 139899568660688*&#45;&gt;139899568660688 -->\n<g id=\"edge1\" class=\"edge\">\n<title>139899568660688*&#45;&gt;139899568660688</title>\n<path fill=\"none\" stroke=\"black\" d=\"M292.19,-45.5C299.94,-45.5 308.95,-45.5 318.58,-45.5\"/>\n<polygon fill=\"black\" stroke=\"black\" points=\"318.81,-49 328.81,-45.5 318.81,-42 318.81,-49\"/>\n</g>\n<!-- 139899568660784 -->\n<g id=\"node7\" class=\"node\">\n<title>139899568660784</title>\n<polygon fill=\"none\" stroke=\"black\" points=\"658,-54.5 658,-90.5 855,-90.5 855,-54.5 658,-54.5\"/>\n<text text-anchor=\"middle\" x=\"669.5\" y=\"-68.8\" font-family=\"Times,serif\" font-size=\"14.00\">e</text>\n<polyline fill=\"none\" stroke=\"black\" points=\"681,-54.5 681,-90.5 \"/>\n<text text-anchor=\"middle\" x=\"723\" y=\"-68.8\" font-family=\"Times,serif\" font-size=\"14.00\">data: 4.0000</text>\n<polyline fill=\"none\" stroke=\"black\" points=\"765,-54.5 765,-90.5 \"/>\n<text text-anchor=\"middle\" x=\"810\" y=\"-68.8\" font-family=\"Times,serif\" font-size=\"14.00\">grad: &#45;2.0000</text>\n</g>\n<!-- 139899568660784&#45;&gt;139899568661456* -->\n<g id=\"edge8\" class=\"edge\">\n<title>139899568660784&#45;&gt;139899568661456*</title>\n<path fill=\"none\" stroke=\"black\" d=\"M855.33,-89.06C864.57,-90.62 873.46,-92.13 881.49,-93.49\"/>\n<polygon fill=\"black\" stroke=\"black\" points=\"881.04,-96.96 891.48,-95.18 882.21,-90.06 881.04,-96.96\"/>\n</g>\n<!-- 139899568660784+&#45;&gt;139899568660784 -->\n<g id=\"edge2\" class=\"edge\">\n<title>139899568660784+&#45;&gt;139899568660784</title>\n<path fill=\"none\" stroke=\"black\" d=\"M622.34,-72.5C629.81,-72.5 638.44,-72.5 647.64,-72.5\"/>\n<polygon fill=\"black\" stroke=\"black\" points=\"647.83,-76 657.83,-72.5 647.83,-69 647.83,-76\"/>\n</g>\n<!-- 139899568661456 -->\n<g id=\"node9\" class=\"node\">\n<title>139899568661456</title>\n<polygon fill=\"none\" stroke=\"black\" points=\"981,-81.5 981,-117.5 1181,-117.5 1181,-81.5 981,-81.5\"/>\n<text text-anchor=\"middle\" x=\"993.5\" y=\"-95.8\" font-family=\"Times,serif\" font-size=\"14.00\">L</text>\n<polyline fill=\"none\" stroke=\"black\" points=\"1006,-81.5 1006,-117.5 \"/>\n<text text-anchor=\"middle\" x=\"1050.5\" y=\"-95.8\" font-family=\"Times,serif\" font-size=\"14.00\">data: &#45;8.0000</text>\n<polyline fill=\"none\" stroke=\"black\" points=\"1095,-81.5 1095,-117.5 \"/>\n<text text-anchor=\"middle\" x=\"1138\" y=\"-95.8\" font-family=\"Times,serif\" font-size=\"14.00\">grad: 1.0000</text>\n</g>\n<!-- 139899568661456*&#45;&gt;139899568661456 -->\n<g id=\"edge3\" class=\"edge\">\n<title>139899568661456*&#45;&gt;139899568661456</title>\n<path fill=\"none\" stroke=\"black\" d=\"M945.23,-99.5C952.69,-99.5 961.31,-99.5 970.52,-99.5\"/>\n<polygon fill=\"black\" stroke=\"black\" points=\"970.71,-103 980.71,-99.5 970.71,-96 970.71,-103\"/>\n</g>\n</g>\n</svg>\n",
            "text/plain": [
              "<graphviz.graphs.Digraph at 0x7f3ce80fc130>"
            ]
          },
          "metadata": {},
          "execution_count": 20
        }
      ]
    },
    {
      "cell_type": "code",
      "source": [
        "# Yep! it matches! we did it!! (ignoring the floating point garbage and oddness!)"
      ],
      "metadata": {
        "id": "SPYBg_B1N--q"
      },
      "execution_count": 21,
      "outputs": []
    },
    {
      "cell_type": "code",
      "source": [],
      "metadata": {
        "id": "f-jGKgg0OXMs"
      },
      "execution_count": 21,
      "outputs": []
    },
    {
      "cell_type": "code",
      "source": [
        "# so, moral of the story,\n",
        "# if there is a (*) node, local grad is swapping the data\n",
        "# if there is a (+) node, local grad is 1.0\n",
        "\n",
        "# and the actual grad, take the local grad, and multiply with it's parent node's grad.\n",
        "# for (*) node, actual grad is swapping the data of child nodes, and multiply it with parent node's grad\n",
        "# for (+) node, actual grad is parent grad! it distributes the grad backward to it's leaf nodes\n",
        "\n",
        "# here is an illustration below to remember the local grad for (*) and (+) nodes:"
      ],
      "metadata": {
        "id": "rhshV2-OGTAe"
      },
      "execution_count": 22,
      "outputs": []
    },
    {
      "cell_type": "code",
      "source": [
        "p1 = Value(2.0, label='p1')\n",
        "p2 = Value(3.0, label='p2')\n",
        "prod_out = p1 * p2;  prod_out.label='out'\n",
        "prod_out.grad = 1.0\n",
        "p1.grad = 3.0   # value of p2 node\n",
        "p2.grad = 2.0   # value of p1 node\n",
        "draw_dot(prod_out)"
      ],
      "metadata": {
        "colab": {
          "base_uri": "https://localhost:8080/",
          "height": 155
        },
        "id": "fs1BcCsrGJku",
        "outputId": "14097eb9-327e-4316-a474-379954142776"
      },
      "execution_count": 23,
      "outputs": [
        {
          "output_type": "execute_result",
          "data": {
            "image/svg+xml": "<?xml version=\"1.0\" encoding=\"UTF-8\" standalone=\"no\"?>\n<!DOCTYPE svg PUBLIC \"-//W3C//DTD SVG 1.1//EN\"\n \"http://www.w3.org/Graphics/SVG/1.1/DTD/svg11.dtd\">\n<!-- Generated by graphviz version 2.43.0 (0)\n -->\n<!-- Title: %3 Pages: 1 -->\n<svg width=\"538pt\" height=\"100pt\"\n viewBox=\"0.00 0.00 538.00 100.00\" xmlns=\"http://www.w3.org/2000/svg\" xmlns:xlink=\"http://www.w3.org/1999/xlink\">\n<g id=\"graph0\" class=\"graph\" transform=\"scale(1 1) rotate(0) translate(4 96)\">\n<title>%3</title>\n<polygon fill=\"white\" stroke=\"transparent\" points=\"-4,4 -4,-96 534,-96 534,4 -4,4\"/>\n<!-- 139899568466048 -->\n<g id=\"node1\" class=\"node\">\n<title>139899568466048</title>\n<polygon fill=\"none\" stroke=\"black\" points=\"326,-27.5 326,-63.5 530,-63.5 530,-27.5 326,-27.5\"/>\n<text text-anchor=\"middle\" x=\"343\" y=\"-41.8\" font-family=\"Times,serif\" font-size=\"14.00\">out</text>\n<polyline fill=\"none\" stroke=\"black\" points=\"360,-27.5 360,-63.5 \"/>\n<text text-anchor=\"middle\" x=\"402\" y=\"-41.8\" font-family=\"Times,serif\" font-size=\"14.00\">data: 6.0000</text>\n<polyline fill=\"none\" stroke=\"black\" points=\"444,-27.5 444,-63.5 \"/>\n<text text-anchor=\"middle\" x=\"487\" y=\"-41.8\" font-family=\"Times,serif\" font-size=\"14.00\">grad: 1.0000</text>\n</g>\n<!-- 139899568466048* -->\n<g id=\"node2\" class=\"node\">\n<title>139899568466048*</title>\n<ellipse fill=\"none\" stroke=\"black\" cx=\"263\" cy=\"-45.5\" rx=\"27\" ry=\"18\"/>\n<text text-anchor=\"middle\" x=\"263\" y=\"-41.8\" font-family=\"Times,serif\" font-size=\"14.00\">*</text>\n</g>\n<!-- 139899568466048*&#45;&gt;139899568466048 -->\n<g id=\"edge1\" class=\"edge\">\n<title>139899568466048*&#45;&gt;139899568466048</title>\n<path fill=\"none\" stroke=\"black\" d=\"M290.19,-45.5C297.66,-45.5 306.3,-45.5 315.54,-45.5\"/>\n<polygon fill=\"black\" stroke=\"black\" points=\"315.77,-49 325.77,-45.5 315.77,-42 315.77,-49\"/>\n</g>\n<!-- 139899568467104 -->\n<g id=\"node3\" class=\"node\">\n<title>139899568467104</title>\n<polygon fill=\"none\" stroke=\"black\" points=\"0,-55.5 0,-91.5 200,-91.5 200,-55.5 0,-55.5\"/>\n<text text-anchor=\"middle\" x=\"15\" y=\"-69.8\" font-family=\"Times,serif\" font-size=\"14.00\">p1</text>\n<polyline fill=\"none\" stroke=\"black\" points=\"30,-55.5 30,-91.5 \"/>\n<text text-anchor=\"middle\" x=\"72\" y=\"-69.8\" font-family=\"Times,serif\" font-size=\"14.00\">data: 2.0000</text>\n<polyline fill=\"none\" stroke=\"black\" points=\"114,-55.5 114,-91.5 \"/>\n<text text-anchor=\"middle\" x=\"157\" y=\"-69.8\" font-family=\"Times,serif\" font-size=\"14.00\">grad: 3.0000</text>\n</g>\n<!-- 139899568467104&#45;&gt;139899568466048* -->\n<g id=\"edge2\" class=\"edge\">\n<title>139899568467104&#45;&gt;139899568466048*</title>\n<path fill=\"none\" stroke=\"black\" d=\"M200.21,-56.25C209.57,-54.62 218.57,-53.05 226.67,-51.64\"/>\n<polygon fill=\"black\" stroke=\"black\" points=\"227.5,-55.05 236.76,-49.89 226.3,-48.16 227.5,-55.05\"/>\n</g>\n<!-- 139899610874160 -->\n<g id=\"node4\" class=\"node\">\n<title>139899610874160</title>\n<polygon fill=\"none\" stroke=\"black\" points=\"0,-0.5 0,-36.5 200,-36.5 200,-0.5 0,-0.5\"/>\n<text text-anchor=\"middle\" x=\"15\" y=\"-14.8\" font-family=\"Times,serif\" font-size=\"14.00\">p2</text>\n<polyline fill=\"none\" stroke=\"black\" points=\"30,-0.5 30,-36.5 \"/>\n<text text-anchor=\"middle\" x=\"72\" y=\"-14.8\" font-family=\"Times,serif\" font-size=\"14.00\">data: 3.0000</text>\n<polyline fill=\"none\" stroke=\"black\" points=\"114,-0.5 114,-36.5 \"/>\n<text text-anchor=\"middle\" x=\"157\" y=\"-14.8\" font-family=\"Times,serif\" font-size=\"14.00\">grad: 2.0000</text>\n</g>\n<!-- 139899610874160&#45;&gt;139899568466048* -->\n<g id=\"edge3\" class=\"edge\">\n<title>139899610874160&#45;&gt;139899568466048*</title>\n<path fill=\"none\" stroke=\"black\" d=\"M200.21,-35.14C209.57,-36.71 218.57,-38.22 226.67,-39.58\"/>\n<polygon fill=\"black\" stroke=\"black\" points=\"226.31,-43.06 236.76,-41.27 227.47,-36.16 226.31,-43.06\"/>\n</g>\n</g>\n</svg>\n",
            "text/plain": [
              "<graphviz.graphs.Digraph at 0x7f3ce8152be0>"
            ]
          },
          "metadata": {},
          "execution_count": 23
        }
      ]
    },
    {
      "cell_type": "code",
      "source": [
        "s1 = Value(2.0, label='s1')\n",
        "s2 = Value(3.0, label='s2')\n",
        "sum_out = s1 + s2;  sum_out.label='out'\n",
        "sum_out.grad = 1.0\n",
        "s1.grad = 1.0   # value of connected node * local grad = 1.0\n",
        "s2.grad = 1.0   # value of connected node * local grad = 1.0\n",
        "draw_dot(sum_out)"
      ],
      "metadata": {
        "colab": {
          "base_uri": "https://localhost:8080/",
          "height": 155
        },
        "id": "tXBsM2bdIQ4L",
        "outputId": "87fabacc-89dd-45a9-ad0d-0d0e69d618c9"
      },
      "execution_count": 24,
      "outputs": [
        {
          "output_type": "execute_result",
          "data": {
            "image/svg+xml": "<?xml version=\"1.0\" encoding=\"UTF-8\" standalone=\"no\"?>\n<!DOCTYPE svg PUBLIC \"-//W3C//DTD SVG 1.1//EN\"\n \"http://www.w3.org/Graphics/SVG/1.1/DTD/svg11.dtd\">\n<!-- Generated by graphviz version 2.43.0 (0)\n -->\n<!-- Title: %3 Pages: 1 -->\n<svg width=\"537pt\" height=\"100pt\"\n viewBox=\"0.00 0.00 537.00 100.00\" xmlns=\"http://www.w3.org/2000/svg\" xmlns:xlink=\"http://www.w3.org/1999/xlink\">\n<g id=\"graph0\" class=\"graph\" transform=\"scale(1 1) rotate(0) translate(4 96)\">\n<title>%3</title>\n<polygon fill=\"white\" stroke=\"transparent\" points=\"-4,4 -4,-96 533,-96 533,4 -4,4\"/>\n<!-- 139899568465856 -->\n<g id=\"node1\" class=\"node\">\n<title>139899568465856</title>\n<polygon fill=\"none\" stroke=\"black\" points=\"0,-55.5 0,-91.5 199,-91.5 199,-55.5 0,-55.5\"/>\n<text text-anchor=\"middle\" x=\"14.5\" y=\"-69.8\" font-family=\"Times,serif\" font-size=\"14.00\">s1</text>\n<polyline fill=\"none\" stroke=\"black\" points=\"29,-55.5 29,-91.5 \"/>\n<text text-anchor=\"middle\" x=\"71\" y=\"-69.8\" font-family=\"Times,serif\" font-size=\"14.00\">data: 2.0000</text>\n<polyline fill=\"none\" stroke=\"black\" points=\"113,-55.5 113,-91.5 \"/>\n<text text-anchor=\"middle\" x=\"156\" y=\"-69.8\" font-family=\"Times,serif\" font-size=\"14.00\">grad: 1.0000</text>\n</g>\n<!-- 139899568707136+ -->\n<g id=\"node3\" class=\"node\">\n<title>139899568707136+</title>\n<ellipse fill=\"none\" stroke=\"black\" cx=\"262\" cy=\"-45.5\" rx=\"27\" ry=\"18\"/>\n<text text-anchor=\"middle\" x=\"262\" y=\"-41.8\" font-family=\"Times,serif\" font-size=\"14.00\">+</text>\n</g>\n<!-- 139899568465856&#45;&gt;139899568707136+ -->\n<g id=\"edge2\" class=\"edge\">\n<title>139899568465856&#45;&gt;139899568707136+</title>\n<path fill=\"none\" stroke=\"black\" d=\"M199.41,-56.25C208.65,-54.63 217.54,-53.08 225.55,-51.68\"/>\n<polygon fill=\"black\" stroke=\"black\" points=\"226.29,-55.11 235.54,-49.94 225.08,-48.21 226.29,-55.11\"/>\n</g>\n<!-- 139899568707136 -->\n<g id=\"node2\" class=\"node\">\n<title>139899568707136</title>\n<polygon fill=\"none\" stroke=\"black\" points=\"325,-27.5 325,-63.5 529,-63.5 529,-27.5 325,-27.5\"/>\n<text text-anchor=\"middle\" x=\"342\" y=\"-41.8\" font-family=\"Times,serif\" font-size=\"14.00\">out</text>\n<polyline fill=\"none\" stroke=\"black\" points=\"359,-27.5 359,-63.5 \"/>\n<text text-anchor=\"middle\" x=\"401\" y=\"-41.8\" font-family=\"Times,serif\" font-size=\"14.00\">data: 5.0000</text>\n<polyline fill=\"none\" stroke=\"black\" points=\"443,-27.5 443,-63.5 \"/>\n<text text-anchor=\"middle\" x=\"486\" y=\"-41.8\" font-family=\"Times,serif\" font-size=\"14.00\">grad: 1.0000</text>\n</g>\n<!-- 139899568707136+&#45;&gt;139899568707136 -->\n<g id=\"edge1\" class=\"edge\">\n<title>139899568707136+&#45;&gt;139899568707136</title>\n<path fill=\"none\" stroke=\"black\" d=\"M289.19,-45.5C296.66,-45.5 305.3,-45.5 314.54,-45.5\"/>\n<polygon fill=\"black\" stroke=\"black\" points=\"314.77,-49 324.77,-45.5 314.77,-42 314.77,-49\"/>\n</g>\n<!-- 139899610877760 -->\n<g id=\"node4\" class=\"node\">\n<title>139899610877760</title>\n<polygon fill=\"none\" stroke=\"black\" points=\"0,-0.5 0,-36.5 199,-36.5 199,-0.5 0,-0.5\"/>\n<text text-anchor=\"middle\" x=\"14.5\" y=\"-14.8\" font-family=\"Times,serif\" font-size=\"14.00\">s2</text>\n<polyline fill=\"none\" stroke=\"black\" points=\"29,-0.5 29,-36.5 \"/>\n<text text-anchor=\"middle\" x=\"71\" y=\"-14.8\" font-family=\"Times,serif\" font-size=\"14.00\">data: 3.0000</text>\n<polyline fill=\"none\" stroke=\"black\" points=\"113,-0.5 113,-36.5 \"/>\n<text text-anchor=\"middle\" x=\"156\" y=\"-14.8\" font-family=\"Times,serif\" font-size=\"14.00\">grad: 1.0000</text>\n</g>\n<!-- 139899610877760&#45;&gt;139899568707136+ -->\n<g id=\"edge3\" class=\"edge\">\n<title>139899610877760&#45;&gt;139899568707136+</title>\n<path fill=\"none\" stroke=\"black\" d=\"M199.41,-35.14C208.65,-36.69 217.54,-38.19 225.55,-39.54\"/>\n<polygon fill=\"black\" stroke=\"black\" points=\"225.09,-43.01 235.54,-41.22 226.25,-36.11 225.09,-43.01\"/>\n</g>\n</g>\n</svg>\n",
            "text/plain": [
              "<graphviz.graphs.Digraph at 0x7f3ce8174ee0>"
            ]
          },
          "metadata": {},
          "execution_count": 24
        }
      ]
    },
    {
      "cell_type": "code",
      "source": [],
      "metadata": {
        "id": "v7DF2yVZQgjv"
      },
      "execution_count": 24,
      "outputs": []
    },
    {
      "cell_type": "code",
      "source": [],
      "metadata": {
        "id": "DRVykwSLP8y6"
      },
      "execution_count": 24,
      "outputs": []
    },
    {
      "cell_type": "code",
      "source": [
        "# recap:\n",
        "# we iterated through all the nodes one by one, applied the chain rule\n",
        "# in each operation, we know the local derivatives are, and we multiply them onto the derivative\n",
        "# so we go through recursively and multiply on the local derivatives, and that's what backpropagation is!\n",
        "# it's just a recursive application of chain rule backwards through the computation graph!"
      ],
      "metadata": {
        "id": "VFgEmt95P7Bi"
      },
      "execution_count": 25,
      "outputs": []
    },
    {
      "cell_type": "markdown",
      "source": [
        "# Preview a single Optimization step"
      ],
      "metadata": {
        "id": "LKPFw_LtH5O9"
      }
    },
    {
      "cell_type": "code",
      "source": [
        "# now that we have the grad, we can use them to nudge the inputs, leaf nodes or any nodes to influence the output\n",
        "# and due to the grads, we know which direction to go and how it will influence the outputs\n",
        "\n",
        "# let's see an example, where we nudge the leaf nodes (a, b, d, f) to influence the output L\n",
        "# let's print our expression graph again:\n",
        "draw_dot(L)"
      ],
      "metadata": {
        "id": "QA8Wm-7bIT4A",
        "outputId": "c70a2f0d-a3dd-4af2-ca37-f86f759cb43e",
        "colab": {
          "base_uri": "https://localhost:8080/",
          "height": 247
        }
      },
      "execution_count": 26,
      "outputs": [
        {
          "output_type": "execute_result",
          "data": {
            "image/svg+xml": "<?xml version=\"1.0\" encoding=\"UTF-8\" standalone=\"no\"?>\n<!DOCTYPE svg PUBLIC \"-//W3C//DTD SVG 1.1//EN\"\n \"http://www.w3.org/Graphics/SVG/1.1/DTD/svg11.dtd\">\n<!-- Generated by graphviz version 2.43.0 (0)\n -->\n<!-- Title: %3 Pages: 1 -->\n<svg width=\"1189pt\" height=\"154pt\"\n viewBox=\"0.00 0.00 1189.00 154.00\" xmlns=\"http://www.w3.org/2000/svg\" xmlns:xlink=\"http://www.w3.org/1999/xlink\">\n<g id=\"graph0\" class=\"graph\" transform=\"scale(1 1) rotate(0) translate(4 150)\">\n<title>%3</title>\n<polygon fill=\"white\" stroke=\"transparent\" points=\"-4,4 -4,-150 1185,-150 1185,4 -4,4\"/>\n<!-- 139899568661504 -->\n<g id=\"node1\" class=\"node\">\n<title>139899568661504</title>\n<polygon fill=\"none\" stroke=\"black\" points=\"658.5,-109.5 658.5,-145.5 854.5,-145.5 854.5,-109.5 658.5,-109.5\"/>\n<text text-anchor=\"middle\" x=\"669\" y=\"-123.8\" font-family=\"Times,serif\" font-size=\"14.00\">f</text>\n<polyline fill=\"none\" stroke=\"black\" points=\"679.5,-109.5 679.5,-145.5 \"/>\n<text text-anchor=\"middle\" x=\"724\" y=\"-123.8\" font-family=\"Times,serif\" font-size=\"14.00\">data: &#45;2.0000</text>\n<polyline fill=\"none\" stroke=\"black\" points=\"768.5,-109.5 768.5,-145.5 \"/>\n<text text-anchor=\"middle\" x=\"811.5\" y=\"-123.8\" font-family=\"Times,serif\" font-size=\"14.00\">grad: 4.0000</text>\n</g>\n<!-- 139899568661456* -->\n<g id=\"node10\" class=\"node\">\n<title>139899568661456*</title>\n<ellipse fill=\"none\" stroke=\"black\" cx=\"918\" cy=\"-99.5\" rx=\"27\" ry=\"18\"/>\n<text text-anchor=\"middle\" x=\"918\" y=\"-95.8\" font-family=\"Times,serif\" font-size=\"14.00\">*</text>\n</g>\n<!-- 139899568661504&#45;&gt;139899568661456* -->\n<g id=\"edge6\" class=\"edge\">\n<title>139899568661504&#45;&gt;139899568661456*</title>\n<path fill=\"none\" stroke=\"black\" d=\"M854.88,-110.41C864.36,-108.74 873.5,-107.14 881.71,-105.7\"/>\n<polygon fill=\"black\" stroke=\"black\" points=\"882.33,-109.14 891.57,-103.96 881.12,-102.25 882.33,-109.14\"/>\n</g>\n<!-- 139899568663136 -->\n<g id=\"node2\" class=\"node\">\n<title>139899568663136</title>\n<polygon fill=\"none\" stroke=\"black\" points=\"0,-55.5 0,-91.5 202,-91.5 202,-55.5 0,-55.5\"/>\n<text text-anchor=\"middle\" x=\"11.5\" y=\"-69.8\" font-family=\"Times,serif\" font-size=\"14.00\">b</text>\n<polyline fill=\"none\" stroke=\"black\" points=\"23,-55.5 23,-91.5 \"/>\n<text text-anchor=\"middle\" x=\"67.5\" y=\"-69.8\" font-family=\"Times,serif\" font-size=\"14.00\">data: &#45;3.0000</text>\n<polyline fill=\"none\" stroke=\"black\" points=\"112,-55.5 112,-91.5 \"/>\n<text text-anchor=\"middle\" x=\"157\" y=\"-69.8\" font-family=\"Times,serif\" font-size=\"14.00\">grad: &#45;4.0000</text>\n</g>\n<!-- 139899568660688* -->\n<g id=\"node6\" class=\"node\">\n<title>139899568660688*</title>\n<ellipse fill=\"none\" stroke=\"black\" cx=\"265\" cy=\"-45.5\" rx=\"27\" ry=\"18\"/>\n<text text-anchor=\"middle\" x=\"265\" y=\"-41.8\" font-family=\"Times,serif\" font-size=\"14.00\">*</text>\n</g>\n<!-- 139899568663136&#45;&gt;139899568660688* -->\n<g id=\"edge5\" class=\"edge\">\n<title>139899568663136&#45;&gt;139899568660688*</title>\n<path fill=\"none\" stroke=\"black\" d=\"M202.29,-56.17C211.56,-54.56 220.48,-53.02 228.51,-51.63\"/>\n<polygon fill=\"black\" stroke=\"black\" points=\"229.25,-55.06 238.51,-49.91 228.06,-48.16 229.25,-55.06\"/>\n</g>\n<!-- 139899568660592 -->\n<g id=\"node3\" class=\"node\">\n<title>139899568660592</title>\n<polygon fill=\"none\" stroke=\"black\" points=\"328,-82.5 328,-118.5 532,-118.5 532,-82.5 328,-82.5\"/>\n<text text-anchor=\"middle\" x=\"339.5\" y=\"-96.8\" font-family=\"Times,serif\" font-size=\"14.00\">d</text>\n<polyline fill=\"none\" stroke=\"black\" points=\"351,-82.5 351,-118.5 \"/>\n<text text-anchor=\"middle\" x=\"396.5\" y=\"-96.8\" font-family=\"Times,serif\" font-size=\"14.00\">data: 10.0000</text>\n<polyline fill=\"none\" stroke=\"black\" points=\"442,-82.5 442,-118.5 \"/>\n<text text-anchor=\"middle\" x=\"487\" y=\"-96.8\" font-family=\"Times,serif\" font-size=\"14.00\">grad: &#45;2.0000</text>\n</g>\n<!-- 139899568660784+ -->\n<g id=\"node8\" class=\"node\">\n<title>139899568660784+</title>\n<ellipse fill=\"none\" stroke=\"black\" cx=\"595\" cy=\"-72.5\" rx=\"27\" ry=\"18\"/>\n<text text-anchor=\"middle\" x=\"595\" y=\"-68.8\" font-family=\"Times,serif\" font-size=\"14.00\">+</text>\n</g>\n<!-- 139899568660592&#45;&gt;139899568660784+ -->\n<g id=\"edge7\" class=\"edge\">\n<title>139899568660592&#45;&gt;139899568660784+</title>\n<path fill=\"none\" stroke=\"black\" d=\"M532.38,-83.09C541.65,-81.49 550.56,-79.96 558.58,-78.58\"/>\n<polygon fill=\"black\" stroke=\"black\" points=\"559.3,-82.01 568.57,-76.87 558.12,-75.11 559.3,-82.01\"/>\n</g>\n<!-- 139899568663184 -->\n<g id=\"node4\" class=\"node\">\n<title>139899568663184</title>\n<polygon fill=\"none\" stroke=\"black\" points=\"4.5,-0.5 4.5,-36.5 197.5,-36.5 197.5,-0.5 4.5,-0.5\"/>\n<text text-anchor=\"middle\" x=\"16\" y=\"-14.8\" font-family=\"Times,serif\" font-size=\"14.00\">a</text>\n<polyline fill=\"none\" stroke=\"black\" points=\"27.5,-0.5 27.5,-36.5 \"/>\n<text text-anchor=\"middle\" x=\"69.5\" y=\"-14.8\" font-family=\"Times,serif\" font-size=\"14.00\">data: 2.0000</text>\n<polyline fill=\"none\" stroke=\"black\" points=\"111.5,-0.5 111.5,-36.5 \"/>\n<text text-anchor=\"middle\" x=\"154.5\" y=\"-14.8\" font-family=\"Times,serif\" font-size=\"14.00\">grad: 6.0000</text>\n</g>\n<!-- 139899568663184&#45;&gt;139899568660688* -->\n<g id=\"edge9\" class=\"edge\">\n<title>139899568663184&#45;&gt;139899568660688*</title>\n<path fill=\"none\" stroke=\"black\" d=\"M197.64,-34.44C208.59,-36.27 219.17,-38.03 228.55,-39.59\"/>\n<polygon fill=\"black\" stroke=\"black\" points=\"228.13,-43.07 238.57,-41.26 229.28,-36.17 228.13,-43.07\"/>\n</g>\n<!-- 139899568660688 -->\n<g id=\"node5\" class=\"node\">\n<title>139899568660688</title>\n<polygon fill=\"none\" stroke=\"black\" points=\"329,-27.5 329,-63.5 531,-63.5 531,-27.5 329,-27.5\"/>\n<text text-anchor=\"middle\" x=\"340.5\" y=\"-41.8\" font-family=\"Times,serif\" font-size=\"14.00\">c</text>\n<polyline fill=\"none\" stroke=\"black\" points=\"352,-27.5 352,-63.5 \"/>\n<text text-anchor=\"middle\" x=\"396.5\" y=\"-41.8\" font-family=\"Times,serif\" font-size=\"14.00\">data: &#45;6.0000</text>\n<polyline fill=\"none\" stroke=\"black\" points=\"441,-27.5 441,-63.5 \"/>\n<text text-anchor=\"middle\" x=\"486\" y=\"-41.8\" font-family=\"Times,serif\" font-size=\"14.00\">grad: &#45;2.0000</text>\n</g>\n<!-- 139899568660688&#45;&gt;139899568660784+ -->\n<g id=\"edge4\" class=\"edge\">\n<title>139899568660688&#45;&gt;139899568660784+</title>\n<path fill=\"none\" stroke=\"black\" d=\"M531.45,-62.14C541.03,-63.73 550.24,-65.25 558.51,-66.62\"/>\n<polygon fill=\"black\" stroke=\"black\" points=\"558,-70.09 568.44,-68.27 559.15,-63.18 558,-70.09\"/>\n</g>\n<!-- 139899568660688*&#45;&gt;139899568660688 -->\n<g id=\"edge1\" class=\"edge\">\n<title>139899568660688*&#45;&gt;139899568660688</title>\n<path fill=\"none\" stroke=\"black\" d=\"M292.19,-45.5C299.94,-45.5 308.95,-45.5 318.58,-45.5\"/>\n<polygon fill=\"black\" stroke=\"black\" points=\"318.81,-49 328.81,-45.5 318.81,-42 318.81,-49\"/>\n</g>\n<!-- 139899568660784 -->\n<g id=\"node7\" class=\"node\">\n<title>139899568660784</title>\n<polygon fill=\"none\" stroke=\"black\" points=\"658,-54.5 658,-90.5 855,-90.5 855,-54.5 658,-54.5\"/>\n<text text-anchor=\"middle\" x=\"669.5\" y=\"-68.8\" font-family=\"Times,serif\" font-size=\"14.00\">e</text>\n<polyline fill=\"none\" stroke=\"black\" points=\"681,-54.5 681,-90.5 \"/>\n<text text-anchor=\"middle\" x=\"723\" y=\"-68.8\" font-family=\"Times,serif\" font-size=\"14.00\">data: 4.0000</text>\n<polyline fill=\"none\" stroke=\"black\" points=\"765,-54.5 765,-90.5 \"/>\n<text text-anchor=\"middle\" x=\"810\" y=\"-68.8\" font-family=\"Times,serif\" font-size=\"14.00\">grad: &#45;2.0000</text>\n</g>\n<!-- 139899568660784&#45;&gt;139899568661456* -->\n<g id=\"edge8\" class=\"edge\">\n<title>139899568660784&#45;&gt;139899568661456*</title>\n<path fill=\"none\" stroke=\"black\" d=\"M855.33,-89.06C864.57,-90.62 873.46,-92.13 881.49,-93.49\"/>\n<polygon fill=\"black\" stroke=\"black\" points=\"881.04,-96.96 891.48,-95.18 882.21,-90.06 881.04,-96.96\"/>\n</g>\n<!-- 139899568660784+&#45;&gt;139899568660784 -->\n<g id=\"edge2\" class=\"edge\">\n<title>139899568660784+&#45;&gt;139899568660784</title>\n<path fill=\"none\" stroke=\"black\" d=\"M622.34,-72.5C629.81,-72.5 638.44,-72.5 647.64,-72.5\"/>\n<polygon fill=\"black\" stroke=\"black\" points=\"647.83,-76 657.83,-72.5 647.83,-69 647.83,-76\"/>\n</g>\n<!-- 139899568661456 -->\n<g id=\"node9\" class=\"node\">\n<title>139899568661456</title>\n<polygon fill=\"none\" stroke=\"black\" points=\"981,-81.5 981,-117.5 1181,-117.5 1181,-81.5 981,-81.5\"/>\n<text text-anchor=\"middle\" x=\"993.5\" y=\"-95.8\" font-family=\"Times,serif\" font-size=\"14.00\">L</text>\n<polyline fill=\"none\" stroke=\"black\" points=\"1006,-81.5 1006,-117.5 \"/>\n<text text-anchor=\"middle\" x=\"1050.5\" y=\"-95.8\" font-family=\"Times,serif\" font-size=\"14.00\">data: &#45;8.0000</text>\n<polyline fill=\"none\" stroke=\"black\" points=\"1095,-81.5 1095,-117.5 \"/>\n<text text-anchor=\"middle\" x=\"1138\" y=\"-95.8\" font-family=\"Times,serif\" font-size=\"14.00\">grad: 1.0000</text>\n</g>\n<!-- 139899568661456*&#45;&gt;139899568661456 -->\n<g id=\"edge3\" class=\"edge\">\n<title>139899568661456*&#45;&gt;139899568661456</title>\n<path fill=\"none\" stroke=\"black\" d=\"M945.23,-99.5C952.69,-99.5 961.31,-99.5 970.52,-99.5\"/>\n<polygon fill=\"black\" stroke=\"black\" points=\"970.71,-103 980.71,-99.5 970.71,-96 970.71,-103\"/>\n</g>\n</g>\n</svg>\n",
            "text/plain": [
              "<graphviz.graphs.Digraph at 0x7f3ce817a130>"
            ]
          },
          "metadata": {},
          "execution_count": 26
        }
      ]
    },
    {
      "cell_type": "code",
      "source": [
        "# if we nudge in direction of the gradients, we will expect a positive influence on output\n",
        "\n",
        "# so, if we increase the values of leaf nodes in direction of grad, we will see L go up\n",
        "# let's see this in action:"
      ],
      "metadata": {
        "id": "1J2MrlhYJKoW"
      },
      "execution_count": 27,
      "outputs": []
    },
    {
      "cell_type": "code",
      "source": [
        "# re defining the expression again with the grads\n",
        "a = Value(2.0, label='a');  a.grad = 6.0\n",
        "b = Value(-3.0, label='b'); b.grad = -4.0\n",
        "c = a * b;  c.label='c';    c.grad = -2.0\n",
        "d = Value(10.0, label='d'); d.grad = -2.0\n",
        "e = c + d;  e.label='e';    e.grad = -2.0\n",
        "f = Value(-2.0, label='f'); f.grad = 4.0\n",
        "L = e * f;  L.label='L';    L.grad = 1.0\n",
        "\n",
        "print(L) # L is loss function which we will try to minimize in backpropagation"
      ],
      "metadata": {
        "id": "gGN9mXohKiJT",
        "outputId": "b4571c98-81c3-4b6b-bdb6-1a7d2b33033c",
        "colab": {
          "base_uri": "https://localhost:8080/"
        }
      },
      "execution_count": 28,
      "outputs": [
        {
          "output_type": "stream",
          "name": "stdout",
          "text": [
            "Value(data=-8.0)\n"
          ]
        }
      ]
    },
    {
      "cell_type": "code",
      "source": [
        "# factor by which the values would be nudged\n",
        "alpha = 0.01    # we will see this in future, where it is the learning rate\n",
        "\n",
        "# let's nudge the values\n",
        "a.data += alpha * a.grad\n",
        "b.data += alpha * b.grad\n",
        "d.data += alpha * d.grad\n",
        "f.data += alpha * f.grad\n",
        "\n",
        "# let's also re run the forward pass\n",
        "c = a * b\n",
        "e = c + d\n",
        "L = e * f\n",
        "\n",
        "print(L)"
      ],
      "metadata": {
        "id": "Z2-qe21bIqDu",
        "outputId": "db7a8c1e-ae15-4f3d-e1f4-c71e1f610f62",
        "colab": {
          "base_uri": "https://localhost:8080/"
        }
      },
      "execution_count": 29,
      "outputs": [
        {
          "output_type": "stream",
          "name": "stdout",
          "text": [
            "Value(data=-7.286496)\n"
          ]
        }
      ]
    },
    {
      "cell_type": "code",
      "source": [
        "# so we see, the output value got increased successfully!"
      ],
      "metadata": {
        "id": "A9RMc_tHKsSi"
      },
      "execution_count": 30,
      "outputs": []
    },
    {
      "cell_type": "code",
      "source": [],
      "metadata": {
        "id": "-cdiLYt8Nohy"
      },
      "execution_count": 30,
      "outputs": []
    }
  ]
}