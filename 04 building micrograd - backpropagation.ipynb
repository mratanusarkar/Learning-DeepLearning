{
  "nbformat": 4,
  "nbformat_minor": 0,
  "metadata": {
    "colab": {
      "provenance": [],
      "authorship_tag": "ABX9TyOK8GwpnAyABZCG2O+b4pon"
    },
    "kernelspec": {
      "name": "python3",
      "display_name": "Python 3"
    },
    "language_info": {
      "name": "python"
    }
  },
  "cells": [
    {
      "cell_type": "markdown",
      "source": [
        "# Backpropagation"
      ],
      "metadata": {
        "id": "i-Ancp4o1Os9"
      }
    },
    {
      "cell_type": "code",
      "execution_count": 1,
      "metadata": {
        "id": "ooV4o53X1CcD"
      },
      "outputs": [],
      "source": [
        "# as discussed in the previous notebook,\n",
        "# let's figure out the intermediate grads with our dummy expression (dL/df, dL/de, ..., dL/da)\n",
        "# but for that, let us first update our Value class to hold and compute the grads"
      ]
    },
    {
      "cell_type": "code",
      "source": [
        "# updated micrograd Value class to compute and hold grads\n",
        "\n",
        "class Value:\n",
        "    \"\"\" stores a single scalar value and its gradient \"\"\"\n",
        "\n",
        "    def __init__(self, data, _children=(), _op='', label=''):\n",
        "        self.data = data\n",
        "        self.label = label  # optional, Value variable/node name\n",
        "        self.grad = 0.0     # initially, the grad be zero (means no effect on output)\n",
        "\n",
        "        # internal variables used for autograd graph construction\n",
        "        self._prev = set(_children) # previous node\n",
        "        self._op = _op              # the operation that produced this node\n",
        "\n",
        "    def __repr__(self):\n",
        "        return f\"Value(data={self.data})\"\n",
        "\n",
        "    def __add__(self, other):\n",
        "        out = Value(self.data + other.data, (self, other), '+')\n",
        "        return out\n",
        "    \n",
        "    def __mul__(self, other):\n",
        "        out = Value(self.data * other.data, (self, other), '*')\n",
        "        return out\n"
      ],
      "metadata": {
        "id": "xwEpK05x45mQ"
      },
      "execution_count": 2,
      "outputs": []
    },
    {
      "cell_type": "code",
      "source": [
        "# updated visualization functions to show grads\n",
        "\n",
        "from graphviz import Digraph\n",
        "\n",
        "def trace(root):\n",
        "    # builds a set of all nodes and edges in a graph\n",
        "    nodes, edges = set(), set()\n",
        "    def build(v):\n",
        "        if v not in nodes:\n",
        "            nodes.add(v)\n",
        "            for child in v._prev:\n",
        "                edges.add((child, v))\n",
        "                build(child)\n",
        "    build(root)\n",
        "    return nodes, edges\n",
        "\n",
        "def draw_dot(root, format='svg', rankdir='LR'):\n",
        "    \"\"\"\n",
        "    format: png | svg | ...\n",
        "    rankdir: TB (top to bottom graph) | LR (left to right)\n",
        "    \"\"\"\n",
        "    assert rankdir in ['LR', 'TB']\n",
        "    nodes, edges = trace(root)\n",
        "    dot = Digraph(format=format, graph_attr={'rankdir': rankdir})\n",
        "    \n",
        "    for n in nodes:\n",
        "        dot.node(name=str(id(n)), label = \"{ %s | data: %.4f | grad: %.4f }\" % (n.label, n.data, n.grad), shape='record')\n",
        "        if n._op:\n",
        "            dot.node(name=str(id(n)) + n._op, label=n._op)\n",
        "            dot.edge(str(id(n)) + n._op, str(id(n)))\n",
        "    \n",
        "    for n1, n2 in edges:\n",
        "        dot.edge(str(id(n1)), str(id(n2)) + n2._op)\n",
        "    \n",
        "    return dot"
      ],
      "metadata": {
        "id": "1O2jqMVu5C-C"
      },
      "execution_count": 3,
      "outputs": []
    },
    {
      "cell_type": "code",
      "source": [],
      "metadata": {
        "id": "W7euoi0X50HD"
      },
      "execution_count": 3,
      "outputs": []
    },
    {
      "cell_type": "code",
      "source": [
        "# Importing expression from the previous notebook\n",
        "a = Value(2.0, label='a')\n",
        "b = Value(-3.0, label='b')\n",
        "c = a * b;  c.label='c'\n",
        "d = Value(10.0, label='d')\n",
        "e = c + d;  e.label='e'\n",
        "f = Value(-2.0, label='f')\n",
        "L = e * f;  L.label='L'\n",
        "print(L) # L is loss function which we will try to minimize in backpropagation"
      ],
      "metadata": {
        "colab": {
          "base_uri": "https://localhost:8080/"
        },
        "id": "2pA1bxc355E6",
        "outputId": "a43d62dc-01cc-43c8-9972-43d2905838ff"
      },
      "execution_count": 4,
      "outputs": [
        {
          "output_type": "stream",
          "name": "stdout",
          "text": [
            "Value(data=-8.0)\n"
          ]
        }
      ]
    },
    {
      "cell_type": "code",
      "source": [
        "draw_dot(L)"
      ],
      "metadata": {
        "colab": {
          "base_uri": "https://localhost:8080/",
          "height": 212
        },
        "id": "LBMzXigt6AUZ",
        "outputId": "3b7ff7da-7b07-48e8-97d2-588cad0d31c1"
      },
      "execution_count": 5,
      "outputs": [
        {
          "output_type": "execute_result",
          "data": {
            "image/svg+xml": "<?xml version=\"1.0\" encoding=\"UTF-8\" standalone=\"no\"?>\n<!DOCTYPE svg PUBLIC \"-//W3C//DTD SVG 1.1//EN\"\n \"http://www.w3.org/Graphics/SVG/1.1/DTD/svg11.dtd\">\n<!-- Generated by graphviz version 2.43.0 (0)\n -->\n<!-- Title: %3 Pages: 1 -->\n<svg width=\"1180pt\" height=\"128pt\"\n viewBox=\"0.00 0.00 1180.00 128.00\" xmlns=\"http://www.w3.org/2000/svg\" xmlns:xlink=\"http://www.w3.org/1999/xlink\">\n<g id=\"graph0\" class=\"graph\" transform=\"scale(1 1) rotate(0) translate(4 124)\">\n<title>%3</title>\n<polygon fill=\"white\" stroke=\"transparent\" points=\"-4,4 -4,-124 1176,-124 1176,4 -4,4\"/>\n<!-- 139876484733824 -->\n<g id=\"node1\" class=\"node\">\n<title>139876484733824</title>\n<polygon fill=\"none\" stroke=\"black\" points=\"324,-83.5 324,-119.5 524,-119.5 524,-83.5 324,-83.5\"/>\n<text text-anchor=\"middle\" x=\"335.5\" y=\"-97.8\" font-family=\"Times,serif\" font-size=\"14.00\">d</text>\n<polyline fill=\"none\" stroke=\"black\" points=\"347,-83.5 347,-119.5 \"/>\n<text text-anchor=\"middle\" x=\"392.5\" y=\"-97.8\" font-family=\"Times,serif\" font-size=\"14.00\">data: 10.0000</text>\n<polyline fill=\"none\" stroke=\"black\" points=\"438,-83.5 438,-119.5 \"/>\n<text text-anchor=\"middle\" x=\"481\" y=\"-97.8\" font-family=\"Times,serif\" font-size=\"14.00\">grad: 0.0000</text>\n</g>\n<!-- 139876484803456+ -->\n<g id=\"node10\" class=\"node\">\n<title>139876484803456+</title>\n<ellipse fill=\"none\" stroke=\"black\" cx=\"587\" cy=\"-73.5\" rx=\"27\" ry=\"18\"/>\n<text text-anchor=\"middle\" x=\"587\" y=\"-69.8\" font-family=\"Times,serif\" font-size=\"14.00\">+</text>\n</g>\n<!-- 139876484733824&#45;&gt;139876484803456+ -->\n<g id=\"edge9\" class=\"edge\">\n<title>139876484733824&#45;&gt;139876484803456+</title>\n<path fill=\"none\" stroke=\"black\" d=\"M524.21,-84.25C533.57,-82.62 542.57,-81.05 550.67,-79.64\"/>\n<polygon fill=\"black\" stroke=\"black\" points=\"551.5,-83.05 560.76,-77.89 550.3,-76.16 551.5,-83.05\"/>\n</g>\n<!-- 139876484734592 -->\n<g id=\"node2\" class=\"node\">\n<title>139876484734592</title>\n<polygon fill=\"none\" stroke=\"black\" points=\"650,-0.5 650,-36.5 846,-36.5 846,-0.5 650,-0.5\"/>\n<text text-anchor=\"middle\" x=\"660.5\" y=\"-14.8\" font-family=\"Times,serif\" font-size=\"14.00\">f</text>\n<polyline fill=\"none\" stroke=\"black\" points=\"671,-0.5 671,-36.5 \"/>\n<text text-anchor=\"middle\" x=\"715.5\" y=\"-14.8\" font-family=\"Times,serif\" font-size=\"14.00\">data: &#45;2.0000</text>\n<polyline fill=\"none\" stroke=\"black\" points=\"760,-0.5 760,-36.5 \"/>\n<text text-anchor=\"middle\" x=\"803\" y=\"-14.8\" font-family=\"Times,serif\" font-size=\"14.00\">grad: 0.0000</text>\n</g>\n<!-- 139876484733776* -->\n<g id=\"node8\" class=\"node\">\n<title>139876484733776*</title>\n<ellipse fill=\"none\" stroke=\"black\" cx=\"909\" cy=\"-45.5\" rx=\"27\" ry=\"18\"/>\n<text text-anchor=\"middle\" x=\"909\" y=\"-41.8\" font-family=\"Times,serif\" font-size=\"14.00\">*</text>\n</g>\n<!-- 139876484734592&#45;&gt;139876484733776* -->\n<g id=\"edge5\" class=\"edge\">\n<title>139876484734592&#45;&gt;139876484733776*</title>\n<path fill=\"none\" stroke=\"black\" d=\"M846.07,-34.98C855.42,-36.57 864.43,-38.1 872.55,-39.48\"/>\n<polygon fill=\"black\" stroke=\"black\" points=\"872.21,-42.97 882.65,-41.2 873.38,-36.07 872.21,-42.97\"/>\n</g>\n<!-- 139876484803312 -->\n<g id=\"node3\" class=\"node\">\n<title>139876484803312</title>\n<polygon fill=\"none\" stroke=\"black\" points=\"0,-56.5 0,-92.5 198,-92.5 198,-56.5 0,-56.5\"/>\n<text text-anchor=\"middle\" x=\"11.5\" y=\"-70.8\" font-family=\"Times,serif\" font-size=\"14.00\">b</text>\n<polyline fill=\"none\" stroke=\"black\" points=\"23,-56.5 23,-92.5 \"/>\n<text text-anchor=\"middle\" x=\"67.5\" y=\"-70.8\" font-family=\"Times,serif\" font-size=\"14.00\">data: &#45;3.0000</text>\n<polyline fill=\"none\" stroke=\"black\" points=\"112,-56.5 112,-92.5 \"/>\n<text text-anchor=\"middle\" x=\"155\" y=\"-70.8\" font-family=\"Times,serif\" font-size=\"14.00\">grad: 0.0000</text>\n</g>\n<!-- 139876484802352* -->\n<g id=\"node6\" class=\"node\">\n<title>139876484802352*</title>\n<ellipse fill=\"none\" stroke=\"black\" cx=\"261\" cy=\"-46.5\" rx=\"27\" ry=\"18\"/>\n<text text-anchor=\"middle\" x=\"261\" y=\"-42.8\" font-family=\"Times,serif\" font-size=\"14.00\">*</text>\n</g>\n<!-- 139876484803312&#45;&gt;139876484802352* -->\n<g id=\"edge6\" class=\"edge\">\n<title>139876484803312&#45;&gt;139876484802352*</title>\n<path fill=\"none\" stroke=\"black\" d=\"M198.14,-57.33C207.5,-55.69 216.5,-54.11 224.61,-52.69\"/>\n<polygon fill=\"black\" stroke=\"black\" points=\"225.46,-56.1 234.7,-50.93 224.25,-49.2 225.46,-56.1\"/>\n</g>\n<!-- 139876484802304 -->\n<g id=\"node4\" class=\"node\">\n<title>139876484802304</title>\n<polygon fill=\"none\" stroke=\"black\" points=\"2.5,-1.5 2.5,-37.5 195.5,-37.5 195.5,-1.5 2.5,-1.5\"/>\n<text text-anchor=\"middle\" x=\"14\" y=\"-15.8\" font-family=\"Times,serif\" font-size=\"14.00\">a</text>\n<polyline fill=\"none\" stroke=\"black\" points=\"25.5,-1.5 25.5,-37.5 \"/>\n<text text-anchor=\"middle\" x=\"67.5\" y=\"-15.8\" font-family=\"Times,serif\" font-size=\"14.00\">data: 2.0000</text>\n<polyline fill=\"none\" stroke=\"black\" points=\"109.5,-1.5 109.5,-37.5 \"/>\n<text text-anchor=\"middle\" x=\"152.5\" y=\"-15.8\" font-family=\"Times,serif\" font-size=\"14.00\">grad: 0.0000</text>\n</g>\n<!-- 139876484802304&#45;&gt;139876484802352* -->\n<g id=\"edge4\" class=\"edge\">\n<title>139876484802304&#45;&gt;139876484802352*</title>\n<path fill=\"none\" stroke=\"black\" d=\"M195.84,-35.67C205.97,-37.38 215.74,-39.03 224.48,-40.51\"/>\n<polygon fill=\"black\" stroke=\"black\" points=\"224.13,-44 234.57,-42.21 225.29,-37.09 224.13,-44\"/>\n</g>\n<!-- 139876484802352 -->\n<g id=\"node5\" class=\"node\">\n<title>139876484802352</title>\n<polygon fill=\"none\" stroke=\"black\" points=\"325,-28.5 325,-64.5 523,-64.5 523,-28.5 325,-28.5\"/>\n<text text-anchor=\"middle\" x=\"336.5\" y=\"-42.8\" font-family=\"Times,serif\" font-size=\"14.00\">c</text>\n<polyline fill=\"none\" stroke=\"black\" points=\"348,-28.5 348,-64.5 \"/>\n<text text-anchor=\"middle\" x=\"392.5\" y=\"-42.8\" font-family=\"Times,serif\" font-size=\"14.00\">data: &#45;6.0000</text>\n<polyline fill=\"none\" stroke=\"black\" points=\"437,-28.5 437,-64.5 \"/>\n<text text-anchor=\"middle\" x=\"480\" y=\"-42.8\" font-family=\"Times,serif\" font-size=\"14.00\">grad: 0.0000</text>\n</g>\n<!-- 139876484802352&#45;&gt;139876484803456+ -->\n<g id=\"edge7\" class=\"edge\">\n<title>139876484802352&#45;&gt;139876484803456+</title>\n<path fill=\"none\" stroke=\"black\" d=\"M523.29,-62.98C532.96,-64.6 542.27,-66.17 550.62,-67.57\"/>\n<polygon fill=\"black\" stroke=\"black\" points=\"550.19,-71.04 560.64,-69.25 551.35,-64.14 550.19,-71.04\"/>\n</g>\n<!-- 139876484802352*&#45;&gt;139876484802352 -->\n<g id=\"edge1\" class=\"edge\">\n<title>139876484802352*&#45;&gt;139876484802352</title>\n<path fill=\"none\" stroke=\"black\" d=\"M288.23,-46.5C295.96,-46.5 304.95,-46.5 314.55,-46.5\"/>\n<polygon fill=\"black\" stroke=\"black\" points=\"314.74,-50 324.74,-46.5 314.74,-43 314.74,-50\"/>\n</g>\n<!-- 139876484733776 -->\n<g id=\"node7\" class=\"node\">\n<title>139876484733776</title>\n<polygon fill=\"none\" stroke=\"black\" points=\"972,-27.5 972,-63.5 1172,-63.5 1172,-27.5 972,-27.5\"/>\n<text text-anchor=\"middle\" x=\"984.5\" y=\"-41.8\" font-family=\"Times,serif\" font-size=\"14.00\">L</text>\n<polyline fill=\"none\" stroke=\"black\" points=\"997,-27.5 997,-63.5 \"/>\n<text text-anchor=\"middle\" x=\"1041.5\" y=\"-41.8\" font-family=\"Times,serif\" font-size=\"14.00\">data: &#45;8.0000</text>\n<polyline fill=\"none\" stroke=\"black\" points=\"1086,-27.5 1086,-63.5 \"/>\n<text text-anchor=\"middle\" x=\"1129\" y=\"-41.8\" font-family=\"Times,serif\" font-size=\"14.00\">grad: 0.0000</text>\n</g>\n<!-- 139876484733776*&#45;&gt;139876484733776 -->\n<g id=\"edge2\" class=\"edge\">\n<title>139876484733776*&#45;&gt;139876484733776</title>\n<path fill=\"none\" stroke=\"black\" d=\"M936.23,-45.5C943.69,-45.5 952.31,-45.5 961.52,-45.5\"/>\n<polygon fill=\"black\" stroke=\"black\" points=\"961.71,-49 971.71,-45.5 961.71,-42 961.71,-49\"/>\n</g>\n<!-- 139876484803456 -->\n<g id=\"node9\" class=\"node\">\n<title>139876484803456</title>\n<polygon fill=\"none\" stroke=\"black\" points=\"651.5,-55.5 651.5,-91.5 844.5,-91.5 844.5,-55.5 651.5,-55.5\"/>\n<text text-anchor=\"middle\" x=\"663\" y=\"-69.8\" font-family=\"Times,serif\" font-size=\"14.00\">e</text>\n<polyline fill=\"none\" stroke=\"black\" points=\"674.5,-55.5 674.5,-91.5 \"/>\n<text text-anchor=\"middle\" x=\"716.5\" y=\"-69.8\" font-family=\"Times,serif\" font-size=\"14.00\">data: 4.0000</text>\n<polyline fill=\"none\" stroke=\"black\" points=\"758.5,-55.5 758.5,-91.5 \"/>\n<text text-anchor=\"middle\" x=\"801.5\" y=\"-69.8\" font-family=\"Times,serif\" font-size=\"14.00\">grad: 0.0000</text>\n</g>\n<!-- 139876484803456&#45;&gt;139876484733776* -->\n<g id=\"edge8\" class=\"edge\">\n<title>139876484803456&#45;&gt;139876484733776*</title>\n<path fill=\"none\" stroke=\"black\" d=\"M844.7,-56.65C854.61,-54.9 864.18,-53.22 872.73,-51.71\"/>\n<polygon fill=\"black\" stroke=\"black\" points=\"873.39,-55.15 882.63,-49.97 872.18,-48.25 873.39,-55.15\"/>\n</g>\n<!-- 139876484803456+&#45;&gt;139876484803456 -->\n<g id=\"edge3\" class=\"edge\">\n<title>139876484803456+&#45;&gt;139876484803456</title>\n<path fill=\"none\" stroke=\"black\" d=\"M614.26,-73.5C622.19,-73.5 631.44,-73.5 641.3,-73.5\"/>\n<polygon fill=\"black\" stroke=\"black\" points=\"641.33,-77 651.33,-73.5 641.33,-70 641.33,-77\"/>\n</g>\n</g>\n</svg>\n",
            "text/plain": [
              "<graphviz.graphs.Digraph at 0x7f37883069d0>"
            ]
          },
          "metadata": {},
          "execution_count": 5
        }
      ]
    },
    {
      "cell_type": "code",
      "source": [
        "# initially all the grads are zero (we assume the nodes have no effect on the output L, on initialization)\n",
        "# let us now calculate and fill in the grads, by performing backpropagation manually"
      ],
      "metadata": {
        "id": "QNJwo6MK6EZP"
      },
      "execution_count": 6,
      "outputs": []
    },
    {
      "cell_type": "code",
      "source": [],
      "metadata": {
        "id": "FNAj9Hyx7EOc"
      },
      "execution_count": 6,
      "outputs": []
    }
  ]
}