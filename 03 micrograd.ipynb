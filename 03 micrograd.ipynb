{
  "nbformat": 4,
  "nbformat_minor": 0,
  "metadata": {
    "colab": {
      "provenance": [],
      "authorship_tag": "ABX9TyOJCHe6Yvvg1rXA9n+gOijj"
    },
    "kernelspec": {
      "name": "python3",
      "display_name": "Python 3"
    },
    "language_info": {
      "name": "python"
    }
  },
  "cells": [
    {
      "cell_type": "markdown",
      "source": [
        "# Building Micrograd"
      ],
      "metadata": {
        "id": "sjL5eJe3JLi0"
      }
    },
    {
      "cell_type": "markdown",
      "source": [
        "source: https://github.com/karpathy/micrograd/"
      ],
      "metadata": {
        "id": "ZQuOdr-CV8E7"
      }
    },
    {
      "cell_type": "code",
      "execution_count": 1,
      "metadata": {
        "id": "QBIBkIXU9D3U"
      },
      "outputs": [],
      "source": [
        "class Value:\n",
        "    \"\"\" stores a single scalar value and its gradient \"\"\"\n",
        "\n",
        "    def __init__(self, data, _children=(), _op='', label=''):\n",
        "        self.data = data\n",
        "        self.label = label  # optional, Value variable/node name\n",
        "\n",
        "        # internal variables used for autograd graph construction\n",
        "        self._prev = set(_children) # previous node\n",
        "        self._op = _op              # the operation that produced this node\n",
        "\n",
        "    def __repr__(self):\n",
        "        return f\"Value(data={self.data})\"\n",
        "\n",
        "    def __add__(self, other):\n",
        "        out = Value(self.data + other.data, (self, other), '+')\n",
        "        return out\n",
        "    \n",
        "    def __mul__(self, other):\n",
        "        out = Value(self.data * other.data, (self, other), '*')\n",
        "        return out\n"
      ]
    },
    {
      "cell_type": "code",
      "source": [
        "a = Value(2.0, label='a')\n",
        "b = Value(-3.0, label='b')\n",
        "c = Value(10.0, label='c')\n",
        "d = a * b + c;  d.label='d'\n",
        "print(d)"
      ],
      "metadata": {
        "colab": {
          "base_uri": "https://localhost:8080/"
        },
        "id": "EMH2ogja9HR3",
        "outputId": "5fb937c3-e0c0-46e1-b478-336ed0f268cf"
      },
      "execution_count": 2,
      "outputs": [
        {
          "output_type": "stream",
          "name": "stdout",
          "text": [
            "Value(data=4.0)\n"
          ]
        }
      ]
    },
    {
      "cell_type": "code",
      "source": [
        "print(d._prev, d._op)\n",
        "print(c._prev, c._op)\n",
        "print(b._prev, b._op)\n",
        "print(a._prev, a._op)"
      ],
      "metadata": {
        "colab": {
          "base_uri": "https://localhost:8080/"
        },
        "id": "yIP16vgv9JW-",
        "outputId": "31fa851f-a992-4eea-a048-775d733d921b"
      },
      "execution_count": 3,
      "outputs": [
        {
          "output_type": "stream",
          "name": "stdout",
          "text": [
            "{Value(data=10.0), Value(data=-6.0)} +\n",
            "set() \n",
            "set() \n",
            "set() \n"
          ]
        }
      ]
    },
    {
      "cell_type": "code",
      "source": [
        "from graphviz import Digraph\n",
        "\n",
        "def trace(root):\n",
        "    # builds a set of all nodes and edges in a graph\n",
        "    nodes, edges = set(), set()\n",
        "    def build(v):\n",
        "        if v not in nodes:\n",
        "            nodes.add(v)\n",
        "            for child in v._prev:\n",
        "                edges.add((child, v))\n",
        "                build(child)\n",
        "    build(root)\n",
        "    return nodes, edges\n",
        "\n",
        "def draw_dot(root, format='svg', rankdir='LR'):\n",
        "    \"\"\"\n",
        "    format: png | svg | ...\n",
        "    rankdir: TB (top to bottom graph) | LR (left to right)\n",
        "    \"\"\"\n",
        "    assert rankdir in ['LR', 'TB']\n",
        "    nodes, edges = trace(root)\n",
        "    dot = Digraph(format=format, graph_attr={'rankdir': rankdir})\n",
        "    \n",
        "    for n in nodes:\n",
        "        dot.node(name=str(id(n)), label = \"{ %s | data: %.4f }\" % (n.label, n.data), shape='record')\n",
        "        if n._op:\n",
        "            dot.node(name=str(id(n)) + n._op, label=n._op)\n",
        "            dot.edge(str(id(n)) + n._op, str(id(n)))\n",
        "    \n",
        "    for n1, n2 in edges:\n",
        "        dot.edge(str(id(n1)), str(id(n2)) + n2._op)\n",
        "    \n",
        "    return dot"
      ],
      "metadata": {
        "id": "N5T7E0W19JZe"
      },
      "execution_count": 4,
      "outputs": []
    },
    {
      "cell_type": "code",
      "source": [
        "draw_dot(d)"
      ],
      "metadata": {
        "colab": {
          "base_uri": "https://localhost:8080/",
          "height": 192
        },
        "id": "7WnHzExg9Jby",
        "outputId": "85a8affa-f144-4608-eaa1-70d80d1f0a4e"
      },
      "execution_count": 5,
      "outputs": [
        {
          "output_type": "execute_result",
          "data": {
            "image/svg+xml": "<?xml version=\"1.0\" encoding=\"UTF-8\" standalone=\"no\"?>\n<!DOCTYPE svg PUBLIC \"-//W3C//DTD SVG 1.1//EN\"\n \"http://www.w3.org/Graphics/SVG/1.1/DTD/svg11.dtd\">\n<!-- Generated by graphviz version 2.43.0 (0)\n -->\n<!-- Title: %3 Pages: 1 -->\n<svg width=\"593pt\" height=\"128pt\"\n viewBox=\"0.00 0.00 593.00 128.00\" xmlns=\"http://www.w3.org/2000/svg\" xmlns:xlink=\"http://www.w3.org/1999/xlink\">\n<g id=\"graph0\" class=\"graph\" transform=\"scale(1 1) rotate(0) translate(4 124)\">\n<title>%3</title>\n<polygon fill=\"white\" stroke=\"transparent\" points=\"-4,4 -4,-124 589,-124 589,4 -4,4\"/>\n<!-- 139854881186912 -->\n<g id=\"node1\" class=\"node\">\n<title>139854881186912</title>\n<polygon fill=\"none\" stroke=\"black\" points=\"2.5,-83.5 2.5,-119.5 109.5,-119.5 109.5,-83.5 2.5,-83.5\"/>\n<text text-anchor=\"middle\" x=\"14\" y=\"-97.8\" font-family=\"Times,serif\" font-size=\"14.00\">a</text>\n<polyline fill=\"none\" stroke=\"black\" points=\"25.5,-83.5 25.5,-119.5 \"/>\n<text text-anchor=\"middle\" x=\"67.5\" y=\"-97.8\" font-family=\"Times,serif\" font-size=\"14.00\">data: 2.0000</text>\n</g>\n<!-- 139854881186144* -->\n<g id=\"node5\" class=\"node\">\n<title>139854881186144*</title>\n<ellipse fill=\"none\" stroke=\"black\" cx=\"175\" cy=\"-73.5\" rx=\"27\" ry=\"18\"/>\n<text text-anchor=\"middle\" x=\"175\" y=\"-69.8\" font-family=\"Times,serif\" font-size=\"14.00\">*</text>\n</g>\n<!-- 139854881186912&#45;&gt;139854881186144* -->\n<g id=\"edge5\" class=\"edge\">\n<title>139854881186912&#45;&gt;139854881186144*</title>\n<path fill=\"none\" stroke=\"black\" d=\"M109.68,-88.89C119.84,-86.46 130.23,-83.98 139.62,-81.73\"/>\n<polygon fill=\"black\" stroke=\"black\" points=\"140.44,-85.13 149.35,-79.4 138.81,-78.32 140.44,-85.13\"/>\n</g>\n<!-- 139854881091200 -->\n<g id=\"node2\" class=\"node\">\n<title>139854881091200</title>\n<polygon fill=\"none\" stroke=\"black\" points=\"478,-27.5 478,-63.5 585,-63.5 585,-27.5 478,-27.5\"/>\n<text text-anchor=\"middle\" x=\"489.5\" y=\"-41.8\" font-family=\"Times,serif\" font-size=\"14.00\">d</text>\n<polyline fill=\"none\" stroke=\"black\" points=\"501,-27.5 501,-63.5 \"/>\n<text text-anchor=\"middle\" x=\"543\" y=\"-41.8\" font-family=\"Times,serif\" font-size=\"14.00\">data: 4.0000</text>\n</g>\n<!-- 139854881091200+ -->\n<g id=\"node3\" class=\"node\">\n<title>139854881091200+</title>\n<ellipse fill=\"none\" stroke=\"black\" cx=\"415\" cy=\"-45.5\" rx=\"27\" ry=\"18\"/>\n<text text-anchor=\"middle\" x=\"415\" y=\"-41.8\" font-family=\"Times,serif\" font-size=\"14.00\">+</text>\n</g>\n<!-- 139854881091200+&#45;&gt;139854881091200 -->\n<g id=\"edge1\" class=\"edge\">\n<title>139854881091200+&#45;&gt;139854881091200</title>\n<path fill=\"none\" stroke=\"black\" d=\"M442.27,-45.5C449.94,-45.5 458.68,-45.5 467.61,-45.5\"/>\n<polygon fill=\"black\" stroke=\"black\" points=\"467.71,-49 477.71,-45.5 467.71,-42 467.71,-49\"/>\n</g>\n<!-- 139854881186144 -->\n<g id=\"node4\" class=\"node\">\n<title>139854881186144</title>\n<polygon fill=\"none\" stroke=\"black\" points=\"240.5,-55.5 240.5,-91.5 349.5,-91.5 349.5,-55.5 240.5,-55.5\"/>\n<text text-anchor=\"middle\" x=\"250.5\" y=\"-69.8\" font-family=\"Times,serif\" font-size=\"14.00\"> </text>\n<polyline fill=\"none\" stroke=\"black\" points=\"260.5,-55.5 260.5,-91.5 \"/>\n<text text-anchor=\"middle\" x=\"305\" y=\"-69.8\" font-family=\"Times,serif\" font-size=\"14.00\">data: &#45;6.0000</text>\n</g>\n<!-- 139854881186144&#45;&gt;139854881091200+ -->\n<g id=\"edge6\" class=\"edge\">\n<title>139854881186144&#45;&gt;139854881091200+</title>\n<path fill=\"none\" stroke=\"black\" d=\"M349.82,-60.73C359.8,-58.36 369.98,-55.95 379.21,-53.76\"/>\n<polygon fill=\"black\" stroke=\"black\" points=\"380.23,-57.11 389.15,-51.4 378.62,-50.3 380.23,-57.11\"/>\n</g>\n<!-- 139854881186144*&#45;&gt;139854881186144 -->\n<g id=\"edge2\" class=\"edge\">\n<title>139854881186144*&#45;&gt;139854881186144</title>\n<path fill=\"none\" stroke=\"black\" d=\"M202.19,-73.5C210.55,-73.5 220.21,-73.5 230.05,-73.5\"/>\n<polygon fill=\"black\" stroke=\"black\" points=\"230.32,-77 240.32,-73.5 230.32,-70 230.32,-77\"/>\n</g>\n<!-- 139854881188208 -->\n<g id=\"node6\" class=\"node\">\n<title>139854881188208</title>\n<polygon fill=\"none\" stroke=\"black\" points=\"0,-28.5 0,-64.5 112,-64.5 112,-28.5 0,-28.5\"/>\n<text text-anchor=\"middle\" x=\"11.5\" y=\"-42.8\" font-family=\"Times,serif\" font-size=\"14.00\">b</text>\n<polyline fill=\"none\" stroke=\"black\" points=\"23,-28.5 23,-64.5 \"/>\n<text text-anchor=\"middle\" x=\"67.5\" y=\"-42.8\" font-family=\"Times,serif\" font-size=\"14.00\">data: &#45;3.0000</text>\n</g>\n<!-- 139854881188208&#45;&gt;139854881186144* -->\n<g id=\"edge4\" class=\"edge\">\n<title>139854881188208&#45;&gt;139854881186144*</title>\n<path fill=\"none\" stroke=\"black\" d=\"M112.07,-59.21C121.34,-61.35 130.73,-63.51 139.29,-65.49\"/>\n<polygon fill=\"black\" stroke=\"black\" points=\"138.74,-68.96 149.27,-67.79 140.32,-62.13 138.74,-68.96\"/>\n</g>\n<!-- 139854881186768 -->\n<g id=\"node7\" class=\"node\">\n<title>139854881186768</title>\n<polygon fill=\"none\" stroke=\"black\" points=\"238,-0.5 238,-36.5 352,-36.5 352,-0.5 238,-0.5\"/>\n<text text-anchor=\"middle\" x=\"249.5\" y=\"-14.8\" font-family=\"Times,serif\" font-size=\"14.00\">c</text>\n<polyline fill=\"none\" stroke=\"black\" points=\"261,-0.5 261,-36.5 \"/>\n<text text-anchor=\"middle\" x=\"306.5\" y=\"-14.8\" font-family=\"Times,serif\" font-size=\"14.00\">data: 10.0000</text>\n</g>\n<!-- 139854881186768&#45;&gt;139854881091200+ -->\n<g id=\"edge3\" class=\"edge\">\n<title>139854881186768&#45;&gt;139854881091200+</title>\n<path fill=\"none\" stroke=\"black\" d=\"M352.24,-31.37C361.44,-33.47 370.72,-35.6 379.21,-37.54\"/>\n<polygon fill=\"black\" stroke=\"black\" points=\"378.56,-40.98 389.09,-39.8 380.13,-34.16 378.56,-40.98\"/>\n</g>\n</g>\n</svg>\n",
            "text/plain": [
              "<graphviz.graphs.Digraph at 0x7f328084b7c0>"
            ]
          },
          "metadata": {},
          "execution_count": 5
        }
      ]
    },
    {
      "cell_type": "code",
      "source": [],
      "metadata": {
        "id": "-qAwfZwxRv1N"
      },
      "execution_count": 5,
      "outputs": []
    }
  ]
}