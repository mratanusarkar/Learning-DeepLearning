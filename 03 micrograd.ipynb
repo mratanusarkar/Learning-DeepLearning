{
  "nbformat": 4,
  "nbformat_minor": 0,
  "metadata": {
    "colab": {
      "provenance": [],
      "authorship_tag": "ABX9TyNoPCN99czkJkMeTR8EBvdZ"
    },
    "kernelspec": {
      "name": "python3",
      "display_name": "Python 3"
    },
    "language_info": {
      "name": "python"
    }
  },
  "cells": [
    {
      "cell_type": "markdown",
      "source": [
        "# Building Micrograd"
      ],
      "metadata": {
        "id": "sjL5eJe3JLi0"
      }
    },
    {
      "cell_type": "markdown",
      "source": [
        "source: https://github.com/karpathy/micrograd/"
      ],
      "metadata": {
        "id": "ZQuOdr-CV8E7"
      }
    },
    {
      "cell_type": "code",
      "execution_count": 1,
      "metadata": {
        "id": "QBIBkIXU9D3U"
      },
      "outputs": [],
      "source": [
        "# micrograd Value class\n",
        "\n",
        "class Value:\n",
        "    \"\"\" stores a single scalar value and its gradient \"\"\"\n",
        "\n",
        "    def __init__(self, data, _children=(), _op='', label=''):\n",
        "        self.data = data\n",
        "        self.label = label  # optional, Value variable/node name\n",
        "\n",
        "        # internal variables used for autograd graph construction\n",
        "        self._prev = set(_children) # previous node\n",
        "        self._op = _op              # the operation that produced this node\n",
        "\n",
        "    def __repr__(self):\n",
        "        return f\"Value(data={self.data})\"\n",
        "\n",
        "    def __add__(self, other):\n",
        "        out = Value(self.data + other.data, (self, other), '+')\n",
        "        return out\n",
        "    \n",
        "    def __mul__(self, other):\n",
        "        out = Value(self.data * other.data, (self, other), '*')\n",
        "        return out\n"
      ]
    },
    {
      "cell_type": "code",
      "source": [
        "# let's build an expression\n",
        "\n",
        "a = Value(2.0, label='a')\n",
        "b = Value(-3.0, label='b')\n",
        "c = a * b;  c.label='c'\n",
        "d = Value(10.0, label='d')\n",
        "e = c + d;  e.label='e'\n",
        "f = Value(-2.0, label='f')\n",
        "L = e * f;  L.label='L'\n",
        "print(L) # L is loss function which we will try to minimize in backpropagation"
      ],
      "metadata": {
        "colab": {
          "base_uri": "https://localhost:8080/"
        },
        "id": "EMH2ogja9HR3",
        "outputId": "42ef1555-bdde-496e-980f-2e30ab345b36"
      },
      "execution_count": 2,
      "outputs": [
        {
          "output_type": "stream",
          "name": "stdout",
          "text": [
            "Value(data=-8.0)\n"
          ]
        }
      ]
    },
    {
      "cell_type": "code",
      "source": [
        "# and take a look at the Value objects\n",
        "\n",
        "print(f'{a.label}: prev:{a._prev}, op: {a._op}')\n",
        "print(f'{b.label}: prev:{b._prev}, op: {b._op}')\n",
        "print(f'{c.label}: prev:{c._prev}, op: {c._op}')\n",
        "print(f'{d.label}: prev:{d._prev}, op: {d._op}')\n",
        "print(f'{e.label}: prev:{e._prev}, op: {e._op}')\n",
        "print(f'{f.label}: prev:{f._prev}, op: {f._op}')\n",
        "print(f'{L.label}: prev:{L._prev}, op: {L._op}')"
      ],
      "metadata": {
        "colab": {
          "base_uri": "https://localhost:8080/"
        },
        "id": "yIP16vgv9JW-",
        "outputId": "9b382178-0d1c-4218-bb61-303b660c896d"
      },
      "execution_count": 3,
      "outputs": [
        {
          "output_type": "stream",
          "name": "stdout",
          "text": [
            "a: prev:set(), op: \n",
            "b: prev:set(), op: \n",
            "c: prev:{Value(data=2.0), Value(data=-3.0)}, op: *\n",
            "d: prev:set(), op: \n",
            "e: prev:{Value(data=-6.0), Value(data=10.0)}, op: +\n",
            "f: prev:set(), op: \n",
            "L: prev:{Value(data=-2.0), Value(data=4.0)}, op: *\n"
          ]
        }
      ]
    },
    {
      "cell_type": "code",
      "source": [
        "# create functions for graphing and debugging using graphviz\n",
        "\n",
        "from graphviz import Digraph\n",
        "\n",
        "def trace(root):\n",
        "    # builds a set of all nodes and edges in a graph\n",
        "    nodes, edges = set(), set()\n",
        "    def build(v):\n",
        "        if v not in nodes:\n",
        "            nodes.add(v)\n",
        "            for child in v._prev:\n",
        "                edges.add((child, v))\n",
        "                build(child)\n",
        "    build(root)\n",
        "    return nodes, edges\n",
        "\n",
        "def draw_dot(root, format='svg', rankdir='LR'):\n",
        "    \"\"\"\n",
        "    format: png | svg | ...\n",
        "    rankdir: TB (top to bottom graph) | LR (left to right)\n",
        "    \"\"\"\n",
        "    assert rankdir in ['LR', 'TB']\n",
        "    nodes, edges = trace(root)\n",
        "    dot = Digraph(format=format, graph_attr={'rankdir': rankdir})\n",
        "    \n",
        "    for n in nodes:\n",
        "        dot.node(name=str(id(n)), label = \"{ %s | data: %.4f }\" % (n.label, n.data), shape='record')\n",
        "        if n._op:\n",
        "            dot.node(name=str(id(n)) + n._op, label=n._op)\n",
        "            dot.edge(str(id(n)) + n._op, str(id(n)))\n",
        "    \n",
        "    for n1, n2 in edges:\n",
        "        dot.edge(str(id(n1)), str(id(n2)) + n2._op)\n",
        "    \n",
        "    return dot"
      ],
      "metadata": {
        "id": "N5T7E0W19JZe"
      },
      "execution_count": 4,
      "outputs": []
    },
    {
      "cell_type": "code",
      "source": [
        "# let's take a look at the expression graph\n",
        "\n",
        "draw_dot(L)"
      ],
      "metadata": {
        "colab": {
          "base_uri": "https://localhost:8080/",
          "height": 230
        },
        "id": "7WnHzExg9Jby",
        "outputId": "2fec3584-bdcf-40ed-8c76-37fb4634242e"
      },
      "execution_count": 5,
      "outputs": [
        {
          "output_type": "execute_result",
          "data": {
            "image/svg+xml": "<?xml version=\"1.0\" encoding=\"UTF-8\" standalone=\"no\"?>\n<!DOCTYPE svg PUBLIC \"-//W3C//DTD SVG 1.1//EN\"\n \"http://www.w3.org/Graphics/SVG/1.1/DTD/svg11.dtd\">\n<!-- Generated by graphviz version 2.43.0 (0)\n -->\n<!-- Title: %3 Pages: 1 -->\n<svg width=\"836pt\" height=\"156pt\"\n viewBox=\"0.00 0.00 836.00 156.00\" xmlns=\"http://www.w3.org/2000/svg\" xmlns:xlink=\"http://www.w3.org/1999/xlink\">\n<g id=\"graph0\" class=\"graph\" transform=\"scale(1 1) rotate(0) translate(4 152)\">\n<title>%3</title>\n<polygon fill=\"white\" stroke=\"transparent\" points=\"-4,4 -4,-152 832,-152 832,4 -4,4\"/>\n<!-- 139725827206784 -->\n<g id=\"node1\" class=\"node\">\n<title>139725827206784</title>\n<polygon fill=\"none\" stroke=\"black\" points=\"2.5,-111.5 2.5,-147.5 109.5,-147.5 109.5,-111.5 2.5,-111.5\"/>\n<text text-anchor=\"middle\" x=\"14\" y=\"-125.8\" font-family=\"Times,serif\" font-size=\"14.00\">a</text>\n<polyline fill=\"none\" stroke=\"black\" points=\"25.5,-111.5 25.5,-147.5 \"/>\n<text text-anchor=\"middle\" x=\"67.5\" y=\"-125.8\" font-family=\"Times,serif\" font-size=\"14.00\">data: 2.0000</text>\n</g>\n<!-- 139725867496064* -->\n<g id=\"node3\" class=\"node\">\n<title>139725867496064*</title>\n<ellipse fill=\"none\" stroke=\"black\" cx=\"175\" cy=\"-101.5\" rx=\"27\" ry=\"18\"/>\n<text text-anchor=\"middle\" x=\"175\" y=\"-97.8\" font-family=\"Times,serif\" font-size=\"14.00\">*</text>\n</g>\n<!-- 139725827206784&#45;&gt;139725867496064* -->\n<g id=\"edge4\" class=\"edge\">\n<title>139725827206784&#45;&gt;139725867496064*</title>\n<path fill=\"none\" stroke=\"black\" d=\"M109.68,-116.89C119.84,-114.46 130.23,-111.98 139.62,-109.73\"/>\n<polygon fill=\"black\" stroke=\"black\" points=\"140.44,-113.13 149.35,-107.4 138.81,-106.32 140.44,-113.13\"/>\n</g>\n<!-- 139725867496064 -->\n<g id=\"node2\" class=\"node\">\n<title>139725867496064</title>\n<polygon fill=\"none\" stroke=\"black\" points=\"239,-83.5 239,-119.5 351,-119.5 351,-83.5 239,-83.5\"/>\n<text text-anchor=\"middle\" x=\"250.5\" y=\"-97.8\" font-family=\"Times,serif\" font-size=\"14.00\">c</text>\n<polyline fill=\"none\" stroke=\"black\" points=\"262,-83.5 262,-119.5 \"/>\n<text text-anchor=\"middle\" x=\"306.5\" y=\"-97.8\" font-family=\"Times,serif\" font-size=\"14.00\">data: &#45;6.0000</text>\n</g>\n<!-- 139725852772720+ -->\n<g id=\"node8\" class=\"node\">\n<title>139725852772720+</title>\n<ellipse fill=\"none\" stroke=\"black\" cx=\"415\" cy=\"-73.5\" rx=\"27\" ry=\"18\"/>\n<text text-anchor=\"middle\" x=\"415\" y=\"-69.8\" font-family=\"Times,serif\" font-size=\"14.00\">+</text>\n</g>\n<!-- 139725867496064&#45;&gt;139725852772720+ -->\n<g id=\"edge7\" class=\"edge\">\n<title>139725867496064&#45;&gt;139725852772720+</title>\n<path fill=\"none\" stroke=\"black\" d=\"M351.2,-88.4C360.77,-86.13 370.48,-83.83 379.3,-81.73\"/>\n<polygon fill=\"black\" stroke=\"black\" points=\"380.28,-85.1 389.2,-79.39 378.66,-78.29 380.28,-85.1\"/>\n</g>\n<!-- 139725867496064*&#45;&gt;139725867496064 -->\n<g id=\"edge1\" class=\"edge\">\n<title>139725867496064*&#45;&gt;139725867496064</title>\n<path fill=\"none\" stroke=\"black\" d=\"M202.19,-101.5C210.17,-101.5 219.32,-101.5 228.68,-101.5\"/>\n<polygon fill=\"black\" stroke=\"black\" points=\"228.89,-105 238.89,-101.5 228.89,-98 228.89,-105\"/>\n</g>\n<!-- 139725827205776 -->\n<g id=\"node4\" class=\"node\">\n<title>139725827205776</title>\n<polygon fill=\"none\" stroke=\"black\" points=\"0,-56.5 0,-92.5 112,-92.5 112,-56.5 0,-56.5\"/>\n<text text-anchor=\"middle\" x=\"11.5\" y=\"-70.8\" font-family=\"Times,serif\" font-size=\"14.00\">b</text>\n<polyline fill=\"none\" stroke=\"black\" points=\"23,-56.5 23,-92.5 \"/>\n<text text-anchor=\"middle\" x=\"67.5\" y=\"-70.8\" font-family=\"Times,serif\" font-size=\"14.00\">data: &#45;3.0000</text>\n</g>\n<!-- 139725827205776&#45;&gt;139725867496064* -->\n<g id=\"edge6\" class=\"edge\">\n<title>139725827205776&#45;&gt;139725867496064*</title>\n<path fill=\"none\" stroke=\"black\" d=\"M112.07,-87.21C121.34,-89.35 130.73,-91.51 139.29,-93.49\"/>\n<polygon fill=\"black\" stroke=\"black\" points=\"138.74,-96.96 149.27,-95.79 140.32,-90.13 138.74,-96.96\"/>\n</g>\n<!-- 139725827293040 -->\n<g id=\"node5\" class=\"node\">\n<title>139725827293040</title>\n<polygon fill=\"none\" stroke=\"black\" points=\"478,-0.5 478,-36.5 588,-36.5 588,-0.5 478,-0.5\"/>\n<text text-anchor=\"middle\" x=\"488.5\" y=\"-14.8\" font-family=\"Times,serif\" font-size=\"14.00\">f</text>\n<polyline fill=\"none\" stroke=\"black\" points=\"499,-0.5 499,-36.5 \"/>\n<text text-anchor=\"middle\" x=\"543.5\" y=\"-14.8\" font-family=\"Times,serif\" font-size=\"14.00\">data: &#45;2.0000</text>\n</g>\n<!-- 139725827291120* -->\n<g id=\"node10\" class=\"node\">\n<title>139725827291120*</title>\n<ellipse fill=\"none\" stroke=\"black\" cx=\"651\" cy=\"-45.5\" rx=\"27\" ry=\"18\"/>\n<text text-anchor=\"middle\" x=\"651\" y=\"-41.8\" font-family=\"Times,serif\" font-size=\"14.00\">*</text>\n</g>\n<!-- 139725827293040&#45;&gt;139725827291120* -->\n<g id=\"edge9\" class=\"edge\">\n<title>139725827293040&#45;&gt;139725827291120*</title>\n<path fill=\"none\" stroke=\"black\" d=\"M588.26,-31.13C597.49,-33.28 606.84,-35.45 615.37,-37.44\"/>\n<polygon fill=\"black\" stroke=\"black\" points=\"614.79,-40.9 625.32,-39.76 616.38,-34.08 614.79,-40.9\"/>\n</g>\n<!-- 139725827292992 -->\n<g id=\"node6\" class=\"node\">\n<title>139725827292992</title>\n<polygon fill=\"none\" stroke=\"black\" points=\"238,-28.5 238,-64.5 352,-64.5 352,-28.5 238,-28.5\"/>\n<text text-anchor=\"middle\" x=\"249.5\" y=\"-42.8\" font-family=\"Times,serif\" font-size=\"14.00\">d</text>\n<polyline fill=\"none\" stroke=\"black\" points=\"261,-28.5 261,-64.5 \"/>\n<text text-anchor=\"middle\" x=\"306.5\" y=\"-42.8\" font-family=\"Times,serif\" font-size=\"14.00\">data: 10.0000</text>\n</g>\n<!-- 139725827292992&#45;&gt;139725852772720+ -->\n<g id=\"edge8\" class=\"edge\">\n<title>139725827292992&#45;&gt;139725852772720+</title>\n<path fill=\"none\" stroke=\"black\" d=\"M352.24,-59.37C361.44,-61.47 370.72,-63.6 379.21,-65.54\"/>\n<polygon fill=\"black\" stroke=\"black\" points=\"378.56,-68.98 389.09,-67.8 380.13,-62.16 378.56,-68.98\"/>\n</g>\n<!-- 139725852772720 -->\n<g id=\"node7\" class=\"node\">\n<title>139725852772720</title>\n<polygon fill=\"none\" stroke=\"black\" points=\"479.5,-55.5 479.5,-91.5 586.5,-91.5 586.5,-55.5 479.5,-55.5\"/>\n<text text-anchor=\"middle\" x=\"491\" y=\"-69.8\" font-family=\"Times,serif\" font-size=\"14.00\">e</text>\n<polyline fill=\"none\" stroke=\"black\" points=\"502.5,-55.5 502.5,-91.5 \"/>\n<text text-anchor=\"middle\" x=\"544.5\" y=\"-69.8\" font-family=\"Times,serif\" font-size=\"14.00\">data: 4.0000</text>\n</g>\n<!-- 139725852772720&#45;&gt;139725827291120* -->\n<g id=\"edge5\" class=\"edge\">\n<title>139725852772720&#45;&gt;139725827291120*</title>\n<path fill=\"none\" stroke=\"black\" d=\"M586.57,-60.81C596.41,-58.43 606.47,-56.01 615.58,-53.81\"/>\n<polygon fill=\"black\" stroke=\"black\" points=\"616.52,-57.18 625.42,-51.43 614.88,-50.38 616.52,-57.18\"/>\n</g>\n<!-- 139725852772720+&#45;&gt;139725852772720 -->\n<g id=\"edge2\" class=\"edge\">\n<title>139725852772720+&#45;&gt;139725852772720</title>\n<path fill=\"none\" stroke=\"black\" d=\"M442.03,-73.5C450.26,-73.5 459.74,-73.5 469.39,-73.5\"/>\n<polygon fill=\"black\" stroke=\"black\" points=\"469.46,-77 479.46,-73.5 469.46,-70 469.46,-77\"/>\n</g>\n<!-- 139725827291120 -->\n<g id=\"node9\" class=\"node\">\n<title>139725827291120</title>\n<polygon fill=\"none\" stroke=\"black\" points=\"714,-27.5 714,-63.5 828,-63.5 828,-27.5 714,-27.5\"/>\n<text text-anchor=\"middle\" x=\"726.5\" y=\"-41.8\" font-family=\"Times,serif\" font-size=\"14.00\">L</text>\n<polyline fill=\"none\" stroke=\"black\" points=\"739,-27.5 739,-63.5 \"/>\n<text text-anchor=\"middle\" x=\"783.5\" y=\"-41.8\" font-family=\"Times,serif\" font-size=\"14.00\">data: &#45;8.0000</text>\n</g>\n<!-- 139725827291120*&#45;&gt;139725827291120 -->\n<g id=\"edge3\" class=\"edge\">\n<title>139725827291120*&#45;&gt;139725827291120</title>\n<path fill=\"none\" stroke=\"black\" d=\"M678.19,-45.5C685.88,-45.5 694.67,-45.5 703.69,-45.5\"/>\n<polygon fill=\"black\" stroke=\"black\" points=\"703.93,-49 713.93,-45.5 703.93,-42 703.93,-49\"/>\n</g>\n</g>\n</svg>\n",
            "text/plain": [
              "<graphviz.graphs.Digraph at 0x7f14744e0c10>"
            ]
          },
          "metadata": {},
          "execution_count": 5
        }
      ]
    },
    {
      "cell_type": "code",
      "source": [],
      "metadata": {
        "id": "-qAwfZwxRv1N"
      },
      "execution_count": 5,
      "outputs": []
    }
  ]
}